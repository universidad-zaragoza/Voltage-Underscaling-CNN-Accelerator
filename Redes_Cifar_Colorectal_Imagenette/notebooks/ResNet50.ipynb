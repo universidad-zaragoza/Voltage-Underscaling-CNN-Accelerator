{
 "cells": [
  {
   "cell_type": "code",
   "execution_count": 1,
   "metadata": {},
   "outputs": [],
   "source": [
    "import os\n",
    "os.environ['TF_CPP_MIN_LOG_LEVEL'] = '2'"
   ]
  },
  {
   "cell_type": "code",
   "execution_count": 2,
   "metadata": {
    "id": "8LQp7ntS5yib"
   },
   "outputs": [],
   "source": [
    "import pandas as pd\n",
    "import numpy as np\n",
    "import tensorflow as tf\n",
    "from tensorflow import keras\n",
    "import tensorflow_datasets as tfds\n",
    "from keras import layers"
   ]
  },
  {
   "cell_type": "code",
   "execution_count": 3,
   "metadata": {
    "id": "eod76foBr6bW"
   },
   "outputs": [],
   "source": [
    "from keras.optimizers import Adam\n",
    "from keras.metrics import categorical_crossentropy"
   ]
  },
  {
   "cell_type": "code",
   "execution_count": 4,
   "metadata": {
    "id": "CsexKPBcJBr6"
   },
   "outputs": [],
   "source": [
    "from openpyxl import Workbook\n",
    "from openpyxl import load_workbook\n"
   ]
  },
  {
   "cell_type": "code",
   "execution_count": 5,
   "metadata": {
    "id": "eKsOrbcW_TRH"
   },
   "outputs": [],
   "source": [
    "import pathlib\n",
    "from datetime import datetime"
   ]
  },
  {
   "cell_type": "code",
   "execution_count": 6,
   "metadata": {
    "id": "WeQk7sKsC4k9"
   },
   "outputs": [],
   "source": [
    "import itertools\n",
    "import os"
   ]
  },
  {
   "cell_type": "code",
   "execution_count": 7,
   "metadata": {
    "colab": {
     "base_uri": "https://localhost:8080/",
     "height": 168,
     "referenced_widgets": [
      "d575c8f4193b4d02aa5de08b8cb1909a",
      "3eaaad0b7343411eb3ff52868bafc72e",
      "1b594d75463940c3b92465b5759c2ab9",
      "7added79d0174996b90a468baa3a23b0",
      "000fee8c39b74ee68af41a52c4bade46",
      "9f1f28ab68a8429bb06451598e5b6415",
      "0d9d19b37d9a41c98de64b7e99a269a7",
      "b374dc806e2e4e3fa118913fa22ae0b3",
      "65729d31b04449f28687bf76adcb3124",
      "22c943d78e7243449e3e5e97a2c2bdab",
      "3467232377da490fb7f160137f5bd3f6",
      "433f0927f3904745be96ca7024c88ac8",
      "f61d30b34ca94dd491eb04b4151cd675",
      "489a3194279d4de782c13a0ea72ea337",
      "9c643ed888f5426b8ef4934f80cc53f4",
      "a25f50041ae046d68626fb887b6bfbe9",
      "56dfd124425142ea93e76766a1f4955e",
      "1c942873956542f8924a1d3721759a2d",
      "21e424c930664fb0b8b697b01111695f",
      "587610cc288a4a09b8c76c38d34f5353",
      "ade56437cf4b486fb26f910ce5a98276",
      "2198bf2434c34933af2ab6b14c27cb6e",
      "cee5d16a99eb464fb820ce04830c62fd",
      "898d2c4005204f1dac72aa8962299b63",
      "1b16ed282f9c4526a081d685ad8895e7",
      "b81834febd774c219576f1b414652d57",
      "a6e62ee9ea4d4df7b7cd0990848c1c36",
      "a449acb9d7154774987934c4f45754dd",
      "a3c428858d4d45719e7c45ad8f2a914d",
      "3837f04095ea48c7bc2ec355e6216278",
      "4b47b3022326425c8849785d9cad6eea",
      "ba38cc293c6b45b99a8f7fb2d8de6dbb",
      "317004f8489b4817b3c8f39915f4d86e",
      "2a06bda49c024406b39e0115e26c78ab",
      "00b5d49210f24330a954102f6d62313d",
      "9c20378530544e4b936a92470e15e9b0",
      "c39ef7bad57544eca7bf46d3318e1d16",
      "233948680fcc4cb281647995cacbf489",
      "b4e51762602c482192611a31f4ff3779",
      "b8c3749a5f334c6cb8130b93d6172d42",
      "4bf65d1ad0b8402d8c6f1d601f573a85",
      "a5b93eb289d64ecfbc6525356b347df9",
      "955b1e01e7ce444398e47bbcb2b69465",
      "0e0bfb0ca9cc4180ba2e73f90bdad2ff",
      "ed22e17dc65a469cb94a89dfe6ba883c",
      "d2dd8e1f61be49c0b437c0dd0dc9ad43",
      "636547367c5242b2ab95f0ef94aca68d",
      "3fa84cf68f4c4413ae97ea67d1a6faa2",
      "96629f0067e74f42962fc7a4cfa6523f",
      "e6f96ce8d6d04afc8474476865dcaaca",
      "87f66c78d99c46278890a816814ff312",
      "138558e184c149a8bd0cb8768fc330a2",
      "342fa5cea4f44f4796365ab861faba6e",
      "55fa05d527ef406c87678489dea5485c",
      "6d34df63201b4552b8fd010df3a10e8b",
      "b00478de347d445f848a72822d5d223c",
      "1e0ec9046eae43c1a70eceee9d667ad2",
      "375383fe26f64dadb76e1e09a737a344",
      "11bfec7bae734183ae70fb8118e6a9c5",
      "bf233d6f11504027bd5a47310b1b80a0",
      "3c575591ed6348d998a9f1a98be1d1f3",
      "74209965e7214aaf93dcd25daf3a675c",
      "6e96eadbb83841d699804486ffe32189",
      "bd12a885fdda48388ffe6b7cb64f50db",
      "c32a4bb9e94d43229f3df7d774e1fef8",
      "43b50f0d2dbc467a916f2dfcfa6e8356"
     ]
    },
    "id": "WpRnm1eeoJ8G",
    "outputId": "0299272f-de25-41a4-96dc-c541716f46ac"
   },
   "outputs": [],
   "source": [
    "(train_ds, validation_ds, test_ds), info = tfds.load(\n",
    "    \"colorectal_histology\",\n",
    "    split=[\"train[:85%]\", \"train[85%:95%]\", \"train[95%:]\"],\n",
    "    with_info=True,\n",
    "    as_supervised=True,\n",
    "    shuffle_files= True,\n",
    ")\n",
    "\n",
    "num_classes = info.features['label'].num_classes"
   ]
  },
  {
   "cell_type": "code",
   "execution_count": 8,
   "metadata": {
    "id": "nZwdnervqgTT"
   },
   "outputs": [
    {
     "name": "stdout",
     "output_type": "stream",
     "text": [
      "WARNING:tensorflow:From /home/reynier/anaconda3/envs/tf_ml_projects/lib/python3.9/site-packages/tensorflow/python/autograph/pyct/static_analysis/liveness.py:83: Analyzer.lamba_check (from tensorflow.python.autograph.pyct.static_analysis.liveness) is deprecated and will be removed after 2023-09-23.\n",
      "Instructions for updating:\n",
      "Lambda fuctions will be no more assumed to be used in the statement where they are used, or at least in the same block. https://github.com/tensorflow/tensorflow/issues/56089\n"
     ]
    },
    {
     "name": "stderr",
     "output_type": "stream",
     "text": [
      "WARNING:tensorflow:From /home/reynier/anaconda3/envs/tf_ml_projects/lib/python3.9/site-packages/tensorflow/python/autograph/pyct/static_analysis/liveness.py:83: Analyzer.lamba_check (from tensorflow.python.autograph.pyct.static_analysis.liveness) is deprecated and will be removed after 2023-09-23.\n",
      "Instructions for updating:\n",
      "Lambda fuctions will be no more assumed to be used in the statement where they are used, or at least in the same block. https://github.com/tensorflow/tensorflow/issues/56089\n"
     ]
    }
   ],
   "source": [
    "size = (150, 150)\n",
    "batch_size = 16\n",
    "\n",
    "train_ds = train_ds.map(lambda x, y: (tf.image.resize(x, size), y))\n",
    "validation_ds = validation_ds.map(lambda x, y: (tf.image.resize(x, size), y))\n",
    "test_ds = test_ds.map(lambda x, y: (tf.image.resize(x, size), y))"
   ]
  },
  {
   "cell_type": "code",
   "execution_count": 9,
   "metadata": {
    "id": "L6ichQHMqkOc"
   },
   "outputs": [],
   "source": [
    "train_ds = train_ds.cache().batch(batch_size).prefetch(buffer_size=1)\n",
    "validation_ds = validation_ds.cache().batch(batch_size).prefetch(buffer_size=1)\n",
    "test_ds = test_ds.cache().batch(batch_size).prefetch(buffer_size=1)"
   ]
  },
  {
   "cell_type": "code",
   "execution_count": 10,
   "metadata": {
    "colab": {
     "base_uri": "https://localhost:8080/"
    },
    "id": "FImXio5aihVW",
    "outputId": "7ad91fdf-d121-4773-ee80-c0859698a063"
   },
   "outputs": [
    {
     "name": "stdout",
     "output_type": "stream",
     "text": [
      "/home/reynier/py_projects/Deployments/functions\n"
     ]
    }
   ],
   "source": [
    "%cd  functions"
   ]
  },
  {
   "cell_type": "code",
   "execution_count": 11,
   "metadata": {
    "id": "hhN_MRm2KpTH"
   },
   "outputs": [],
   "source": [
    "from Nets import GetNeuralNetworkModel\n",
    "from Stats import WeightQuantization, ActivationStats, CheckAccuracyAndLoss, QuantizationEffect, GetReadAndWrites\n",
    "from FileAnalize import analize_file, analize_file_uno,analize_file_uno_ceros, save_file, load_file\n",
    "from funciones import buffer_vectores\n",
    "from Simulation import save_obj, load_obj"
   ]
  },
  {
   "cell_type": "code",
   "execution_count": 12,
   "metadata": {
    "id": "MLBZjVDGfxjd"
   },
   "outputs": [],
   "source": [
    "model = GetNeuralNetworkModel('ResNet',(150,150,3),8, quantization = False, aging_active=False)"
   ]
  },
  {
   "cell_type": "code",
   "execution_count": 13,
   "metadata": {
    "colab": {
     "base_uri": "https://localhost:8080/"
    },
    "id": "JuuytpcbFIKc",
    "outputId": "d17a8a9b-cf5e-4ff0-bfad-766617b6e5cc"
   },
   "outputs": [
    {
     "name": "stdout",
     "output_type": "stream",
     "text": [
      "Model: \"model\"\n",
      "__________________________________________________________________________________________________\n",
      " Layer (type)                   Output Shape         Param #     Connected to                     \n",
      "==================================================================================================\n",
      " input_1 (InputLayer)           [(None, 150, 150, 3  0           []                               \n",
      "                                )]                                                                \n",
      "                                                                                                  \n",
      " rescaling (Rescaling)          (None, 150, 150, 3)  0           ['input_1[0][0]']                \n",
      "                                                                                                  \n",
      " lambda (Lambda)                (None, 150, 150, 3)  0           ['rescaling[0][0]']              \n",
      "                                                                                                  \n",
      " lambda_1 (Lambda)              (None, 150, 150, 3)  0           ['lambda[0][0]']                 \n",
      "                                                                                                  \n",
      " zero_padding2d (ZeroPadding2D)  (None, 156, 156, 3)  0          ['lambda_1[0][0]']               \n",
      "                                                                                                  \n",
      " conv2d (Conv2D)                (None, 75, 75, 64)   9472        ['zero_padding2d[0][0]']         \n",
      "                                                                                                  \n",
      " batch_normalization (BatchNorm  (None, 75, 75, 64)  256         ['conv2d[0][0]']                 \n",
      " alization)                                                                                       \n",
      "                                                                                                  \n",
      " activation (Activation)        (None, 75, 75, 64)   0           ['batch_normalization[0][0]']    \n",
      "                                                                                                  \n",
      " lambda_2 (Lambda)              (None, 75, 75, 64)   0           ['activation[0][0]']             \n",
      "                                                                                                  \n",
      " lambda_3 (Lambda)              (None, 75, 75, 64)   0           ['lambda_2[0][0]']               \n",
      "                                                                                                  \n",
      " max_pooling2d (MaxPooling2D)   (None, 37, 37, 64)   0           ['lambda_3[0][0]']               \n",
      "                                                                                                  \n",
      " conv2d_1 (Conv2D)              (None, 37, 37, 64)   4160        ['max_pooling2d[0][0]']          \n",
      "                                                                                                  \n",
      " batch_normalization_1 (BatchNo  (None, 37, 37, 64)  256         ['conv2d_1[0][0]']               \n",
      " rmalization)                                                                                     \n",
      "                                                                                                  \n",
      " activation_1 (Activation)      (None, 37, 37, 64)   0           ['batch_normalization_1[0][0]']  \n",
      "                                                                                                  \n",
      " lambda_4 (Lambda)              (None, 37, 37, 64)   0           ['activation_1[0][0]']           \n",
      "                                                                                                  \n",
      " lambda_5 (Lambda)              (None, 37, 37, 64)   0           ['lambda_4[0][0]']               \n",
      "                                                                                                  \n",
      " conv2d_2 (Conv2D)              (None, 37, 37, 64)   36928       ['lambda_5[0][0]']               \n",
      "                                                                                                  \n",
      " batch_normalization_2 (BatchNo  (None, 37, 37, 64)  256         ['conv2d_2[0][0]']               \n",
      " rmalization)                                                                                     \n",
      "                                                                                                  \n",
      " activation_2 (Activation)      (None, 37, 37, 64)   0           ['batch_normalization_2[0][0]']  \n",
      "                                                                                                  \n",
      " lambda_6 (Lambda)              (None, 37, 37, 64)   0           ['activation_2[0][0]']           \n",
      "                                                                                                  \n",
      " lambda_7 (Lambda)              (None, 37, 37, 64)   0           ['lambda_6[0][0]']               \n",
      "                                                                                                  \n",
      " conv2d_3 (Conv2D)              (None, 37, 37, 256)  16640       ['lambda_7[0][0]']               \n",
      "                                                                                                  \n",
      " conv2d_4 (Conv2D)              (None, 37, 37, 256)  16640       ['max_pooling2d[0][0]']          \n",
      "                                                                                                  \n",
      " batch_normalization_3 (BatchNo  (None, 37, 37, 256)  1024       ['conv2d_3[0][0]']               \n",
      " rmalization)                                                                                     \n",
      "                                                                                                  \n",
      " batch_normalization_4 (BatchNo  (None, 37, 37, 256)  1024       ['conv2d_4[0][0]']               \n",
      " rmalization)                                                                                     \n",
      "                                                                                                  \n",
      " add (Add)                      (None, 37, 37, 256)  0           ['batch_normalization_3[0][0]',  \n",
      "                                                                  'batch_normalization_4[0][0]']  \n",
      "                                                                                                  \n",
      " activation_3 (Activation)      (None, 37, 37, 256)  0           ['add[0][0]']                    \n",
      "                                                                                                  \n",
      " lambda_8 (Lambda)              (None, 37, 37, 256)  0           ['activation_3[0][0]']           \n",
      "                                                                                                  \n",
      " lambda_9 (Lambda)              (None, 37, 37, 256)  0           ['lambda_8[0][0]']               \n",
      "                                                                                                  \n",
      " conv2d_5 (Conv2D)              (None, 37, 37, 64)   16448       ['lambda_9[0][0]']               \n",
      "                                                                                                  \n",
      " batch_normalization_5 (BatchNo  (None, 37, 37, 64)  256         ['conv2d_5[0][0]']               \n",
      " rmalization)                                                                                     \n",
      "                                                                                                  \n",
      " activation_4 (Activation)      (None, 37, 37, 64)   0           ['batch_normalization_5[0][0]']  \n",
      "                                                                                                  \n",
      " lambda_10 (Lambda)             (None, 37, 37, 64)   0           ['activation_4[0][0]']           \n",
      "                                                                                                  \n",
      " conv2d_6 (Conv2D)              (None, 37, 37, 64)   36928       ['lambda_10[0][0]']              \n",
      "                                                                                                  \n",
      " batch_normalization_6 (BatchNo  (None, 37, 37, 64)  256         ['conv2d_6[0][0]']               \n",
      " rmalization)                                                                                     \n",
      "                                                                                                  \n",
      " activation_5 (Activation)      (None, 37, 37, 64)   0           ['batch_normalization_6[0][0]']  \n"
     ]
    },
    {
     "name": "stdout",
     "output_type": "stream",
     "text": [
      "                                                                                                  \n",
      " lambda_11 (Lambda)             (None, 37, 37, 64)   0           ['activation_5[0][0]']           \n",
      "                                                                                                  \n",
      " conv2d_7 (Conv2D)              (None, 37, 37, 256)  16640       ['lambda_11[0][0]']              \n",
      "                                                                                                  \n",
      " batch_normalization_7 (BatchNo  (None, 37, 37, 256)  1024       ['conv2d_7[0][0]']               \n",
      " rmalization)                                                                                     \n",
      "                                                                                                  \n",
      " activation_6 (Activation)      (None, 37, 37, 256)  0           ['batch_normalization_7[0][0]']  \n",
      "                                                                                                  \n",
      " lambda_12 (Lambda)             (None, 37, 37, 256)  0           ['activation_6[0][0]']           \n",
      "                                                                                                  \n",
      " add_1 (Add)                    (None, 37, 37, 256)  0           ['lambda_12[0][0]',              \n",
      "                                                                  'lambda_9[0][0]']               \n",
      "                                                                                                  \n",
      " activation_7 (Activation)      (None, 37, 37, 256)  0           ['add_1[0][0]']                  \n",
      "                                                                                                  \n",
      " lambda_13 (Lambda)             (None, 37, 37, 256)  0           ['activation_7[0][0]']           \n",
      "                                                                                                  \n",
      " conv2d_8 (Conv2D)              (None, 37, 37, 64)   16448       ['lambda_13[0][0]']              \n",
      "                                                                                                  \n",
      " batch_normalization_8 (BatchNo  (None, 37, 37, 64)  256         ['conv2d_8[0][0]']               \n",
      " rmalization)                                                                                     \n",
      "                                                                                                  \n",
      " activation_8 (Activation)      (None, 37, 37, 64)   0           ['batch_normalization_8[0][0]']  \n",
      "                                                                                                  \n",
      " lambda_14 (Lambda)             (None, 37, 37, 64)   0           ['activation_8[0][0]']           \n",
      "                                                                                                  \n",
      " conv2d_9 (Conv2D)              (None, 37, 37, 64)   36928       ['lambda_14[0][0]']              \n",
      "                                                                                                  \n",
      " batch_normalization_9 (BatchNo  (None, 37, 37, 64)  256         ['conv2d_9[0][0]']               \n",
      " rmalization)                                                                                     \n",
      "                                                                                                  \n",
      " activation_9 (Activation)      (None, 37, 37, 64)   0           ['batch_normalization_9[0][0]']  \n",
      "                                                                                                  \n",
      " lambda_15 (Lambda)             (None, 37, 37, 64)   0           ['activation_9[0][0]']           \n",
      "                                                                                                  \n",
      " conv2d_10 (Conv2D)             (None, 37, 37, 256)  16640       ['lambda_15[0][0]']              \n",
      "                                                                                                  \n",
      " batch_normalization_10 (BatchN  (None, 37, 37, 256)  1024       ['conv2d_10[0][0]']              \n",
      " ormalization)                                                                                    \n",
      "                                                                                                  \n",
      " activation_10 (Activation)     (None, 37, 37, 256)  0           ['batch_normalization_10[0][0]'] \n",
      "                                                                                                  \n",
      " lambda_16 (Lambda)             (None, 37, 37, 256)  0           ['activation_10[0][0]']          \n",
      "                                                                                                  \n",
      " add_2 (Add)                    (None, 37, 37, 256)  0           ['lambda_16[0][0]',              \n",
      "                                                                  'lambda_13[0][0]']              \n",
      "                                                                                                  \n",
      " activation_11 (Activation)     (None, 37, 37, 256)  0           ['add_2[0][0]']                  \n",
      "                                                                                                  \n",
      " lambda_17 (Lambda)             (None, 37, 37, 256)  0           ['activation_11[0][0]']          \n",
      "                                                                                                  \n",
      " conv2d_11 (Conv2D)             (None, 19, 19, 128)  32896       ['lambda_17[0][0]']              \n",
      "                                                                                                  \n",
      " batch_normalization_11 (BatchN  (None, 19, 19, 128)  512        ['conv2d_11[0][0]']              \n",
      " ormalization)                                                                                    \n",
      "                                                                                                  \n",
      " activation_12 (Activation)     (None, 19, 19, 128)  0           ['batch_normalization_11[0][0]'] \n",
      "                                                                                                  \n",
      " lambda_18 (Lambda)             (None, 19, 19, 128)  0           ['activation_12[0][0]']          \n",
      "                                                                                                  \n",
      " lambda_19 (Lambda)             (None, 19, 19, 128)  0           ['lambda_18[0][0]']              \n",
      "                                                                                                  \n",
      " conv2d_12 (Conv2D)             (None, 19, 19, 128)  147584      ['lambda_19[0][0]']              \n",
      "                                                                                                  \n",
      " batch_normalization_12 (BatchN  (None, 19, 19, 128)  512        ['conv2d_12[0][0]']              \n",
      " ormalization)                                                                                    \n",
      "                                                                                                  \n",
      " activation_13 (Activation)     (None, 19, 19, 128)  0           ['batch_normalization_12[0][0]'] \n",
      "                                                                                                  \n",
      " lambda_20 (Lambda)             (None, 19, 19, 128)  0           ['activation_13[0][0]']          \n",
      "                                                                                                  \n",
      " lambda_21 (Lambda)             (None, 19, 19, 128)  0           ['lambda_20[0][0]']              \n",
      "                                                                                                  \n",
      " conv2d_13 (Conv2D)             (None, 19, 19, 512)  66048       ['lambda_21[0][0]']              \n",
      "                                                                                                  \n",
      " conv2d_14 (Conv2D)             (None, 19, 19, 512)  131584      ['lambda_17[0][0]']              \n",
      "                                                                                                  \n",
      " batch_normalization_13 (BatchN  (None, 19, 19, 512)  2048       ['conv2d_13[0][0]']              \n",
      " ormalization)                                                                                    \n",
      "                                                                                                  \n",
      " batch_normalization_14 (BatchN  (None, 19, 19, 512)  2048       ['conv2d_14[0][0]']              \n"
     ]
    },
    {
     "name": "stdout",
     "output_type": "stream",
     "text": [
      " ormalization)                                                                                    \n",
      "                                                                                                  \n",
      " add_3 (Add)                    (None, 19, 19, 512)  0           ['batch_normalization_13[0][0]', \n",
      "                                                                  'batch_normalization_14[0][0]'] \n",
      "                                                                                                  \n",
      " activation_14 (Activation)     (None, 19, 19, 512)  0           ['add_3[0][0]']                  \n",
      "                                                                                                  \n",
      " lambda_22 (Lambda)             (None, 19, 19, 512)  0           ['activation_14[0][0]']          \n",
      "                                                                                                  \n",
      " lambda_23 (Lambda)             (None, 19, 19, 512)  0           ['lambda_22[0][0]']              \n",
      "                                                                                                  \n",
      " conv2d_15 (Conv2D)             (None, 19, 19, 128)  65664       ['lambda_23[0][0]']              \n",
      "                                                                                                  \n",
      " batch_normalization_15 (BatchN  (None, 19, 19, 128)  512        ['conv2d_15[0][0]']              \n",
      " ormalization)                                                                                    \n",
      "                                                                                                  \n",
      " activation_15 (Activation)     (None, 19, 19, 128)  0           ['batch_normalization_15[0][0]'] \n",
      "                                                                                                  \n",
      " lambda_24 (Lambda)             (None, 19, 19, 128)  0           ['activation_15[0][0]']          \n",
      "                                                                                                  \n",
      " conv2d_16 (Conv2D)             (None, 19, 19, 128)  147584      ['lambda_24[0][0]']              \n",
      "                                                                                                  \n",
      " batch_normalization_16 (BatchN  (None, 19, 19, 128)  512        ['conv2d_16[0][0]']              \n",
      " ormalization)                                                                                    \n",
      "                                                                                                  \n",
      " activation_16 (Activation)     (None, 19, 19, 128)  0           ['batch_normalization_16[0][0]'] \n",
      "                                                                                                  \n",
      " lambda_25 (Lambda)             (None, 19, 19, 128)  0           ['activation_16[0][0]']          \n",
      "                                                                                                  \n",
      " conv2d_17 (Conv2D)             (None, 19, 19, 512)  66048       ['lambda_25[0][0]']              \n",
      "                                                                                                  \n",
      " batch_normalization_17 (BatchN  (None, 19, 19, 512)  2048       ['conv2d_17[0][0]']              \n",
      " ormalization)                                                                                    \n",
      "                                                                                                  \n",
      " activation_17 (Activation)     (None, 19, 19, 512)  0           ['batch_normalization_17[0][0]'] \n",
      "                                                                                                  \n",
      " lambda_26 (Lambda)             (None, 19, 19, 512)  0           ['activation_17[0][0]']          \n",
      "                                                                                                  \n",
      " add_4 (Add)                    (None, 19, 19, 512)  0           ['lambda_26[0][0]',              \n",
      "                                                                  'lambda_23[0][0]']              \n",
      "                                                                                                  \n",
      " activation_18 (Activation)     (None, 19, 19, 512)  0           ['add_4[0][0]']                  \n",
      "                                                                                                  \n",
      " lambda_27 (Lambda)             (None, 19, 19, 512)  0           ['activation_18[0][0]']          \n",
      "                                                                                                  \n",
      " conv2d_18 (Conv2D)             (None, 19, 19, 128)  65664       ['lambda_27[0][0]']              \n",
      "                                                                                                  \n",
      " batch_normalization_18 (BatchN  (None, 19, 19, 128)  512        ['conv2d_18[0][0]']              \n",
      " ormalization)                                                                                    \n",
      "                                                                                                  \n",
      " activation_19 (Activation)     (None, 19, 19, 128)  0           ['batch_normalization_18[0][0]'] \n",
      "                                                                                                  \n",
      " lambda_28 (Lambda)             (None, 19, 19, 128)  0           ['activation_19[0][0]']          \n",
      "                                                                                                  \n",
      " conv2d_19 (Conv2D)             (None, 19, 19, 128)  147584      ['lambda_28[0][0]']              \n",
      "                                                                                                  \n",
      " batch_normalization_19 (BatchN  (None, 19, 19, 128)  512        ['conv2d_19[0][0]']              \n",
      " ormalization)                                                                                    \n",
      "                                                                                                  \n",
      " activation_20 (Activation)     (None, 19, 19, 128)  0           ['batch_normalization_19[0][0]'] \n",
      "                                                                                                  \n",
      " lambda_29 (Lambda)             (None, 19, 19, 128)  0           ['activation_20[0][0]']          \n",
      "                                                                                                  \n",
      " conv2d_20 (Conv2D)             (None, 19, 19, 512)  66048       ['lambda_29[0][0]']              \n",
      "                                                                                                  \n",
      " batch_normalization_20 (BatchN  (None, 19, 19, 512)  2048       ['conv2d_20[0][0]']              \n",
      " ormalization)                                                                                    \n",
      "                                                                                                  \n",
      " activation_21 (Activation)     (None, 19, 19, 512)  0           ['batch_normalization_20[0][0]'] \n",
      "                                                                                                  \n",
      " lambda_30 (Lambda)             (None, 19, 19, 512)  0           ['activation_21[0][0]']          \n",
      "                                                                                                  \n",
      " add_5 (Add)                    (None, 19, 19, 512)  0           ['lambda_30[0][0]',              \n",
      "                                                                  'lambda_27[0][0]']              \n",
      "                                                                                                  \n",
      " activation_22 (Activation)     (None, 19, 19, 512)  0           ['add_5[0][0]']                  \n",
      "                                                                                                  \n",
      " lambda_31 (Lambda)             (None, 19, 19, 512)  0           ['activation_22[0][0]']          \n",
      "                                                                                                  \n",
      " conv2d_21 (Conv2D)             (None, 19, 19, 128)  65664       ['lambda_31[0][0]']              \n",
      "                                                                                                  \n",
      " batch_normalization_21 (BatchN  (None, 19, 19, 128)  512        ['conv2d_21[0][0]']              \n",
      " ormalization)                                                                                    \n"
     ]
    },
    {
     "name": "stdout",
     "output_type": "stream",
     "text": [
      "                                                                                                  \n",
      " activation_23 (Activation)     (None, 19, 19, 128)  0           ['batch_normalization_21[0][0]'] \n",
      "                                                                                                  \n",
      " lambda_32 (Lambda)             (None, 19, 19, 128)  0           ['activation_23[0][0]']          \n",
      "                                                                                                  \n",
      " conv2d_22 (Conv2D)             (None, 19, 19, 128)  147584      ['lambda_32[0][0]']              \n",
      "                                                                                                  \n",
      " batch_normalization_22 (BatchN  (None, 19, 19, 128)  512        ['conv2d_22[0][0]']              \n",
      " ormalization)                                                                                    \n",
      "                                                                                                  \n",
      " activation_24 (Activation)     (None, 19, 19, 128)  0           ['batch_normalization_22[0][0]'] \n",
      "                                                                                                  \n",
      " lambda_33 (Lambda)             (None, 19, 19, 128)  0           ['activation_24[0][0]']          \n",
      "                                                                                                  \n",
      " conv2d_23 (Conv2D)             (None, 19, 19, 512)  66048       ['lambda_33[0][0]']              \n",
      "                                                                                                  \n",
      " batch_normalization_23 (BatchN  (None, 19, 19, 512)  2048       ['conv2d_23[0][0]']              \n",
      " ormalization)                                                                                    \n",
      "                                                                                                  \n",
      " activation_25 (Activation)     (None, 19, 19, 512)  0           ['batch_normalization_23[0][0]'] \n",
      "                                                                                                  \n",
      " lambda_34 (Lambda)             (None, 19, 19, 512)  0           ['activation_25[0][0]']          \n",
      "                                                                                                  \n",
      " add_6 (Add)                    (None, 19, 19, 512)  0           ['lambda_34[0][0]',              \n",
      "                                                                  'lambda_31[0][0]']              \n",
      "                                                                                                  \n",
      " activation_26 (Activation)     (None, 19, 19, 512)  0           ['add_6[0][0]']                  \n",
      "                                                                                                  \n",
      " lambda_35 (Lambda)             (None, 19, 19, 512)  0           ['activation_26[0][0]']          \n",
      "                                                                                                  \n",
      " conv2d_24 (Conv2D)             (None, 10, 10, 256)  131328      ['lambda_35[0][0]']              \n",
      "                                                                                                  \n",
      " batch_normalization_24 (BatchN  (None, 10, 10, 256)  1024       ['conv2d_24[0][0]']              \n",
      " ormalization)                                                                                    \n",
      "                                                                                                  \n",
      " activation_27 (Activation)     (None, 10, 10, 256)  0           ['batch_normalization_24[0][0]'] \n",
      "                                                                                                  \n",
      " lambda_36 (Lambda)             (None, 10, 10, 256)  0           ['activation_27[0][0]']          \n",
      "                                                                                                  \n",
      " lambda_37 (Lambda)             (None, 10, 10, 256)  0           ['lambda_36[0][0]']              \n",
      "                                                                                                  \n",
      " conv2d_25 (Conv2D)             (None, 10, 10, 256)  590080      ['lambda_37[0][0]']              \n",
      "                                                                                                  \n",
      " batch_normalization_25 (BatchN  (None, 10, 10, 256)  1024       ['conv2d_25[0][0]']              \n",
      " ormalization)                                                                                    \n",
      "                                                                                                  \n",
      " activation_28 (Activation)     (None, 10, 10, 256)  0           ['batch_normalization_25[0][0]'] \n",
      "                                                                                                  \n",
      " lambda_38 (Lambda)             (None, 10, 10, 256)  0           ['activation_28[0][0]']          \n",
      "                                                                                                  \n",
      " lambda_39 (Lambda)             (None, 10, 10, 256)  0           ['lambda_38[0][0]']              \n",
      "                                                                                                  \n",
      " conv2d_26 (Conv2D)             (None, 10, 10, 1024  263168      ['lambda_39[0][0]']              \n",
      "                                )                                                                 \n",
      "                                                                                                  \n",
      " conv2d_27 (Conv2D)             (None, 10, 10, 1024  525312      ['lambda_35[0][0]']              \n",
      "                                )                                                                 \n",
      "                                                                                                  \n",
      " batch_normalization_26 (BatchN  (None, 10, 10, 1024  4096       ['conv2d_26[0][0]']              \n",
      " ormalization)                  )                                                                 \n",
      "                                                                                                  \n",
      " batch_normalization_27 (BatchN  (None, 10, 10, 1024  4096       ['conv2d_27[0][0]']              \n",
      " ormalization)                  )                                                                 \n",
      "                                                                                                  \n",
      " add_7 (Add)                    (None, 10, 10, 1024  0           ['batch_normalization_26[0][0]', \n",
      "                                )                                 'batch_normalization_27[0][0]'] \n",
      "                                                                                                  \n",
      " activation_29 (Activation)     (None, 10, 10, 1024  0           ['add_7[0][0]']                  \n",
      "                                )                                                                 \n",
      "                                                                                                  \n",
      " lambda_40 (Lambda)             (None, 10, 10, 1024  0           ['activation_29[0][0]']          \n",
      "                                )                                                                 \n",
      "                                                                                                  \n",
      " lambda_41 (Lambda)             (None, 10, 10, 1024  0           ['lambda_40[0][0]']              \n",
      "                                )                                                                 \n",
      "                                                                                                  \n",
      " conv2d_28 (Conv2D)             (None, 10, 10, 256)  262400      ['lambda_41[0][0]']              \n",
      "                                                                                                  \n",
      " batch_normalization_28 (BatchN  (None, 10, 10, 256)  1024       ['conv2d_28[0][0]']              \n",
      " ormalization)                                                                                    \n",
      "                                                                                                  \n",
      " activation_30 (Activation)     (None, 10, 10, 256)  0           ['batch_normalization_28[0][0]'] \n",
      "                                                                                                  \n"
     ]
    },
    {
     "name": "stdout",
     "output_type": "stream",
     "text": [
      " lambda_42 (Lambda)             (None, 10, 10, 256)  0           ['activation_30[0][0]']          \n",
      "                                                                                                  \n",
      " conv2d_29 (Conv2D)             (None, 10, 10, 256)  590080      ['lambda_42[0][0]']              \n",
      "                                                                                                  \n",
      " batch_normalization_29 (BatchN  (None, 10, 10, 256)  1024       ['conv2d_29[0][0]']              \n",
      " ormalization)                                                                                    \n",
      "                                                                                                  \n",
      " activation_31 (Activation)     (None, 10, 10, 256)  0           ['batch_normalization_29[0][0]'] \n",
      "                                                                                                  \n",
      " lambda_43 (Lambda)             (None, 10, 10, 256)  0           ['activation_31[0][0]']          \n",
      "                                                                                                  \n",
      " conv2d_30 (Conv2D)             (None, 10, 10, 1024  263168      ['lambda_43[0][0]']              \n",
      "                                )                                                                 \n",
      "                                                                                                  \n",
      " batch_normalization_30 (BatchN  (None, 10, 10, 1024  4096       ['conv2d_30[0][0]']              \n",
      " ormalization)                  )                                                                 \n",
      "                                                                                                  \n",
      " activation_32 (Activation)     (None, 10, 10, 1024  0           ['batch_normalization_30[0][0]'] \n",
      "                                )                                                                 \n",
      "                                                                                                  \n",
      " lambda_44 (Lambda)             (None, 10, 10, 1024  0           ['activation_32[0][0]']          \n",
      "                                )                                                                 \n",
      "                                                                                                  \n",
      " add_8 (Add)                    (None, 10, 10, 1024  0           ['lambda_44[0][0]',              \n",
      "                                )                                 'lambda_41[0][0]']              \n",
      "                                                                                                  \n",
      " activation_33 (Activation)     (None, 10, 10, 1024  0           ['add_8[0][0]']                  \n",
      "                                )                                                                 \n",
      "                                                                                                  \n",
      " lambda_45 (Lambda)             (None, 10, 10, 1024  0           ['activation_33[0][0]']          \n",
      "                                )                                                                 \n",
      "                                                                                                  \n",
      " conv2d_31 (Conv2D)             (None, 10, 10, 256)  262400      ['lambda_45[0][0]']              \n",
      "                                                                                                  \n",
      " batch_normalization_31 (BatchN  (None, 10, 10, 256)  1024       ['conv2d_31[0][0]']              \n",
      " ormalization)                                                                                    \n",
      "                                                                                                  \n",
      " activation_34 (Activation)     (None, 10, 10, 256)  0           ['batch_normalization_31[0][0]'] \n",
      "                                                                                                  \n",
      " lambda_46 (Lambda)             (None, 10, 10, 256)  0           ['activation_34[0][0]']          \n",
      "                                                                                                  \n",
      " conv2d_32 (Conv2D)             (None, 10, 10, 256)  590080      ['lambda_46[0][0]']              \n",
      "                                                                                                  \n",
      " batch_normalization_32 (BatchN  (None, 10, 10, 256)  1024       ['conv2d_32[0][0]']              \n",
      " ormalization)                                                                                    \n",
      "                                                                                                  \n",
      " activation_35 (Activation)     (None, 10, 10, 256)  0           ['batch_normalization_32[0][0]'] \n",
      "                                                                                                  \n",
      " lambda_47 (Lambda)             (None, 10, 10, 256)  0           ['activation_35[0][0]']          \n",
      "                                                                                                  \n",
      " conv2d_33 (Conv2D)             (None, 10, 10, 1024  263168      ['lambda_47[0][0]']              \n",
      "                                )                                                                 \n",
      "                                                                                                  \n",
      " batch_normalization_33 (BatchN  (None, 10, 10, 1024  4096       ['conv2d_33[0][0]']              \n",
      " ormalization)                  )                                                                 \n",
      "                                                                                                  \n",
      " activation_36 (Activation)     (None, 10, 10, 1024  0           ['batch_normalization_33[0][0]'] \n",
      "                                )                                                                 \n",
      "                                                                                                  \n",
      " lambda_48 (Lambda)             (None, 10, 10, 1024  0           ['activation_36[0][0]']          \n",
      "                                )                                                                 \n",
      "                                                                                                  \n",
      " add_9 (Add)                    (None, 10, 10, 1024  0           ['lambda_48[0][0]',              \n",
      "                                )                                 'lambda_45[0][0]']              \n",
      "                                                                                                  \n",
      " activation_37 (Activation)     (None, 10, 10, 1024  0           ['add_9[0][0]']                  \n",
      "                                )                                                                 \n",
      "                                                                                                  \n",
      " lambda_49 (Lambda)             (None, 10, 10, 1024  0           ['activation_37[0][0]']          \n",
      "                                )                                                                 \n",
      "                                                                                                  \n",
      " conv2d_34 (Conv2D)             (None, 10, 10, 256)  262400      ['lambda_49[0][0]']              \n",
      "                                                                                                  \n",
      " batch_normalization_34 (BatchN  (None, 10, 10, 256)  1024       ['conv2d_34[0][0]']              \n",
      " ormalization)                                                                                    \n",
      "                                                                                                  \n",
      " activation_38 (Activation)     (None, 10, 10, 256)  0           ['batch_normalization_34[0][0]'] \n",
      "                                                                                                  \n",
      " lambda_50 (Lambda)             (None, 10, 10, 256)  0           ['activation_38[0][0]']          \n",
      "                                                                                                  \n",
      " conv2d_35 (Conv2D)             (None, 10, 10, 256)  590080      ['lambda_50[0][0]']              \n",
      "                                                                                                  \n",
      " batch_normalization_35 (BatchN  (None, 10, 10, 256)  1024       ['conv2d_35[0][0]']              \n"
     ]
    },
    {
     "name": "stdout",
     "output_type": "stream",
     "text": [
      " ormalization)                                                                                    \n",
      "                                                                                                  \n",
      " activation_39 (Activation)     (None, 10, 10, 256)  0           ['batch_normalization_35[0][0]'] \n",
      "                                                                                                  \n",
      " lambda_51 (Lambda)             (None, 10, 10, 256)  0           ['activation_39[0][0]']          \n",
      "                                                                                                  \n",
      " conv2d_36 (Conv2D)             (None, 10, 10, 1024  263168      ['lambda_51[0][0]']              \n",
      "                                )                                                                 \n",
      "                                                                                                  \n",
      " batch_normalization_36 (BatchN  (None, 10, 10, 1024  4096       ['conv2d_36[0][0]']              \n",
      " ormalization)                  )                                                                 \n",
      "                                                                                                  \n",
      " activation_40 (Activation)     (None, 10, 10, 1024  0           ['batch_normalization_36[0][0]'] \n",
      "                                )                                                                 \n",
      "                                                                                                  \n",
      " lambda_52 (Lambda)             (None, 10, 10, 1024  0           ['activation_40[0][0]']          \n",
      "                                )                                                                 \n",
      "                                                                                                  \n",
      " add_10 (Add)                   (None, 10, 10, 1024  0           ['lambda_52[0][0]',              \n",
      "                                )                                 'lambda_49[0][0]']              \n",
      "                                                                                                  \n",
      " activation_41 (Activation)     (None, 10, 10, 1024  0           ['add_10[0][0]']                 \n",
      "                                )                                                                 \n",
      "                                                                                                  \n",
      " lambda_53 (Lambda)             (None, 10, 10, 1024  0           ['activation_41[0][0]']          \n",
      "                                )                                                                 \n",
      "                                                                                                  \n",
      " conv2d_37 (Conv2D)             (None, 10, 10, 256)  262400      ['lambda_53[0][0]']              \n",
      "                                                                                                  \n",
      " batch_normalization_37 (BatchN  (None, 10, 10, 256)  1024       ['conv2d_37[0][0]']              \n",
      " ormalization)                                                                                    \n",
      "                                                                                                  \n",
      " activation_42 (Activation)     (None, 10, 10, 256)  0           ['batch_normalization_37[0][0]'] \n",
      "                                                                                                  \n",
      " lambda_54 (Lambda)             (None, 10, 10, 256)  0           ['activation_42[0][0]']          \n",
      "                                                                                                  \n",
      " conv2d_38 (Conv2D)             (None, 10, 10, 256)  590080      ['lambda_54[0][0]']              \n",
      "                                                                                                  \n",
      " batch_normalization_38 (BatchN  (None, 10, 10, 256)  1024       ['conv2d_38[0][0]']              \n",
      " ormalization)                                                                                    \n",
      "                                                                                                  \n",
      " activation_43 (Activation)     (None, 10, 10, 256)  0           ['batch_normalization_38[0][0]'] \n",
      "                                                                                                  \n",
      " lambda_55 (Lambda)             (None, 10, 10, 256)  0           ['activation_43[0][0]']          \n",
      "                                                                                                  \n",
      " conv2d_39 (Conv2D)             (None, 10, 10, 1024  263168      ['lambda_55[0][0]']              \n",
      "                                )                                                                 \n",
      "                                                                                                  \n",
      " batch_normalization_39 (BatchN  (None, 10, 10, 1024  4096       ['conv2d_39[0][0]']              \n",
      " ormalization)                  )                                                                 \n",
      "                                                                                                  \n",
      " activation_44 (Activation)     (None, 10, 10, 1024  0           ['batch_normalization_39[0][0]'] \n",
      "                                )                                                                 \n",
      "                                                                                                  \n",
      " lambda_56 (Lambda)             (None, 10, 10, 1024  0           ['activation_44[0][0]']          \n",
      "                                )                                                                 \n",
      "                                                                                                  \n",
      " add_11 (Add)                   (None, 10, 10, 1024  0           ['lambda_56[0][0]',              \n",
      "                                )                                 'lambda_53[0][0]']              \n",
      "                                                                                                  \n",
      " activation_45 (Activation)     (None, 10, 10, 1024  0           ['add_11[0][0]']                 \n",
      "                                )                                                                 \n",
      "                                                                                                  \n",
      " lambda_57 (Lambda)             (None, 10, 10, 1024  0           ['activation_45[0][0]']          \n",
      "                                )                                                                 \n",
      "                                                                                                  \n",
      " conv2d_40 (Conv2D)             (None, 10, 10, 256)  262400      ['lambda_57[0][0]']              \n",
      "                                                                                                  \n",
      " batch_normalization_40 (BatchN  (None, 10, 10, 256)  1024       ['conv2d_40[0][0]']              \n",
      " ormalization)                                                                                    \n",
      "                                                                                                  \n",
      " activation_46 (Activation)     (None, 10, 10, 256)  0           ['batch_normalization_40[0][0]'] \n",
      "                                                                                                  \n",
      " lambda_58 (Lambda)             (None, 10, 10, 256)  0           ['activation_46[0][0]']          \n",
      "                                                                                                  \n",
      " conv2d_41 (Conv2D)             (None, 10, 10, 256)  590080      ['lambda_58[0][0]']              \n",
      "                                                                                                  \n",
      " batch_normalization_41 (BatchN  (None, 10, 10, 256)  1024       ['conv2d_41[0][0]']              \n",
      " ormalization)                                                                                    \n",
      "                                                                                                  \n",
      " activation_47 (Activation)     (None, 10, 10, 256)  0           ['batch_normalization_41[0][0]'] \n",
      "                                                                                                  \n",
      " lambda_59 (Lambda)             (None, 10, 10, 256)  0           ['activation_47[0][0]']          \n"
     ]
    },
    {
     "name": "stdout",
     "output_type": "stream",
     "text": [
      "                                                                                                  \n",
      " conv2d_42 (Conv2D)             (None, 10, 10, 1024  263168      ['lambda_59[0][0]']              \n",
      "                                )                                                                 \n",
      "                                                                                                  \n",
      " batch_normalization_42 (BatchN  (None, 10, 10, 1024  4096       ['conv2d_42[0][0]']              \n",
      " ormalization)                  )                                                                 \n",
      "                                                                                                  \n",
      " activation_48 (Activation)     (None, 10, 10, 1024  0           ['batch_normalization_42[0][0]'] \n",
      "                                )                                                                 \n",
      "                                                                                                  \n",
      " lambda_60 (Lambda)             (None, 10, 10, 1024  0           ['activation_48[0][0]']          \n",
      "                                )                                                                 \n",
      "                                                                                                  \n",
      " add_12 (Add)                   (None, 10, 10, 1024  0           ['lambda_60[0][0]',              \n",
      "                                )                                 'lambda_57[0][0]']              \n",
      "                                                                                                  \n",
      " activation_49 (Activation)     (None, 10, 10, 1024  0           ['add_12[0][0]']                 \n",
      "                                )                                                                 \n",
      "                                                                                                  \n",
      " lambda_61 (Lambda)             (None, 10, 10, 1024  0           ['activation_49[0][0]']          \n",
      "                                )                                                                 \n",
      "                                                                                                  \n",
      " conv2d_43 (Conv2D)             (None, 5, 5, 512)    524800      ['lambda_61[0][0]']              \n",
      "                                                                                                  \n",
      " batch_normalization_43 (BatchN  (None, 5, 5, 512)   2048        ['conv2d_43[0][0]']              \n",
      " ormalization)                                                                                    \n",
      "                                                                                                  \n",
      " activation_50 (Activation)     (None, 5, 5, 512)    0           ['batch_normalization_43[0][0]'] \n",
      "                                                                                                  \n",
      " lambda_62 (Lambda)             (None, 5, 5, 512)    0           ['activation_50[0][0]']          \n",
      "                                                                                                  \n",
      " lambda_63 (Lambda)             (None, 5, 5, 512)    0           ['lambda_62[0][0]']              \n",
      "                                                                                                  \n",
      " conv2d_44 (Conv2D)             (None, 5, 5, 512)    2359808     ['lambda_63[0][0]']              \n",
      "                                                                                                  \n",
      " batch_normalization_44 (BatchN  (None, 5, 5, 512)   2048        ['conv2d_44[0][0]']              \n",
      " ormalization)                                                                                    \n",
      "                                                                                                  \n",
      " activation_51 (Activation)     (None, 5, 5, 512)    0           ['batch_normalization_44[0][0]'] \n",
      "                                                                                                  \n",
      " lambda_64 (Lambda)             (None, 5, 5, 512)    0           ['activation_51[0][0]']          \n",
      "                                                                                                  \n",
      " lambda_65 (Lambda)             (None, 5, 5, 512)    0           ['lambda_64[0][0]']              \n",
      "                                                                                                  \n",
      " conv2d_45 (Conv2D)             (None, 5, 5, 2048)   1050624     ['lambda_65[0][0]']              \n",
      "                                                                                                  \n",
      " conv2d_46 (Conv2D)             (None, 5, 5, 2048)   2099200     ['lambda_61[0][0]']              \n",
      "                                                                                                  \n",
      " batch_normalization_45 (BatchN  (None, 5, 5, 2048)  8192        ['conv2d_45[0][0]']              \n",
      " ormalization)                                                                                    \n",
      "                                                                                                  \n",
      " batch_normalization_46 (BatchN  (None, 5, 5, 2048)  8192        ['conv2d_46[0][0]']              \n",
      " ormalization)                                                                                    \n",
      "                                                                                                  \n",
      " add_13 (Add)                   (None, 5, 5, 2048)   0           ['batch_normalization_45[0][0]', \n",
      "                                                                  'batch_normalization_46[0][0]'] \n",
      "                                                                                                  \n",
      " activation_52 (Activation)     (None, 5, 5, 2048)   0           ['add_13[0][0]']                 \n",
      "                                                                                                  \n",
      " lambda_66 (Lambda)             (None, 5, 5, 2048)   0           ['activation_52[0][0]']          \n",
      "                                                                                                  \n",
      " lambda_67 (Lambda)             (None, 5, 5, 2048)   0           ['lambda_66[0][0]']              \n",
      "                                                                                                  \n",
      " conv2d_47 (Conv2D)             (None, 5, 5, 512)    1049088     ['lambda_67[0][0]']              \n",
      "                                                                                                  \n",
      " batch_normalization_47 (BatchN  (None, 5, 5, 512)   2048        ['conv2d_47[0][0]']              \n",
      " ormalization)                                                                                    \n",
      "                                                                                                  \n",
      " activation_53 (Activation)     (None, 5, 5, 512)    0           ['batch_normalization_47[0][0]'] \n",
      "                                                                                                  \n",
      " lambda_68 (Lambda)             (None, 5, 5, 512)    0           ['activation_53[0][0]']          \n",
      "                                                                                                  \n",
      " conv2d_48 (Conv2D)             (None, 5, 5, 512)    2359808     ['lambda_68[0][0]']              \n",
      "                                                                                                  \n",
      " batch_normalization_48 (BatchN  (None, 5, 5, 512)   2048        ['conv2d_48[0][0]']              \n",
      " ormalization)                                                                                    \n",
      "                                                                                                  \n",
      " activation_54 (Activation)     (None, 5, 5, 512)    0           ['batch_normalization_48[0][0]'] \n",
      "                                                                                                  \n",
      " lambda_69 (Lambda)             (None, 5, 5, 512)    0           ['activation_54[0][0]']          \n",
      "                                                                                                  \n",
      " conv2d_49 (Conv2D)             (None, 5, 5, 2048)   1050624     ['lambda_69[0][0]']              \n",
      "                                                                                                  \n"
     ]
    },
    {
     "name": "stdout",
     "output_type": "stream",
     "text": [
      " batch_normalization_49 (BatchN  (None, 5, 5, 2048)  8192        ['conv2d_49[0][0]']              \n",
      " ormalization)                                                                                    \n",
      "                                                                                                  \n",
      " activation_55 (Activation)     (None, 5, 5, 2048)   0           ['batch_normalization_49[0][0]'] \n",
      "                                                                                                  \n",
      " lambda_70 (Lambda)             (None, 5, 5, 2048)   0           ['activation_55[0][0]']          \n",
      "                                                                                                  \n",
      " add_14 (Add)                   (None, 5, 5, 2048)   0           ['lambda_70[0][0]',              \n",
      "                                                                  'lambda_67[0][0]']              \n",
      "                                                                                                  \n",
      " activation_56 (Activation)     (None, 5, 5, 2048)   0           ['add_14[0][0]']                 \n",
      "                                                                                                  \n",
      " lambda_71 (Lambda)             (None, 5, 5, 2048)   0           ['activation_56[0][0]']          \n",
      "                                                                                                  \n",
      " conv2d_50 (Conv2D)             (None, 5, 5, 512)    1049088     ['lambda_71[0][0]']              \n",
      "                                                                                                  \n",
      " batch_normalization_50 (BatchN  (None, 5, 5, 512)   2048        ['conv2d_50[0][0]']              \n",
      " ormalization)                                                                                    \n",
      "                                                                                                  \n",
      " activation_57 (Activation)     (None, 5, 5, 512)    0           ['batch_normalization_50[0][0]'] \n",
      "                                                                                                  \n",
      " lambda_72 (Lambda)             (None, 5, 5, 512)    0           ['activation_57[0][0]']          \n",
      "                                                                                                  \n",
      " conv2d_51 (Conv2D)             (None, 5, 5, 512)    2359808     ['lambda_72[0][0]']              \n",
      "                                                                                                  \n",
      " batch_normalization_51 (BatchN  (None, 5, 5, 512)   2048        ['conv2d_51[0][0]']              \n",
      " ormalization)                                                                                    \n",
      "                                                                                                  \n",
      " activation_58 (Activation)     (None, 5, 5, 512)    0           ['batch_normalization_51[0][0]'] \n",
      "                                                                                                  \n",
      " lambda_73 (Lambda)             (None, 5, 5, 512)    0           ['activation_58[0][0]']          \n",
      "                                                                                                  \n",
      " conv2d_52 (Conv2D)             (None, 5, 5, 2048)   1050624     ['lambda_73[0][0]']              \n",
      "                                                                                                  \n",
      " batch_normalization_52 (BatchN  (None, 5, 5, 2048)  8192        ['conv2d_52[0][0]']              \n",
      " ormalization)                                                                                    \n",
      "                                                                                                  \n",
      " activation_59 (Activation)     (None, 5, 5, 2048)   0           ['batch_normalization_52[0][0]'] \n",
      "                                                                                                  \n",
      " lambda_74 (Lambda)             (None, 5, 5, 2048)   0           ['activation_59[0][0]']          \n",
      "                                                                                                  \n",
      " add_15 (Add)                   (None, 5, 5, 2048)   0           ['lambda_74[0][0]',              \n",
      "                                                                  'lambda_71[0][0]']              \n",
      "                                                                                                  \n",
      " activation_60 (Activation)     (None, 5, 5, 2048)   0           ['add_15[0][0]']                 \n",
      "                                                                                                  \n",
      " lambda_75 (Lambda)             (None, 5, 5, 2048)   0           ['activation_60[0][0]']          \n",
      "                                                                                                  \n",
      " average_pooling2d (AveragePool  (None, 5, 5, 2048)  0           ['lambda_75[0][0]']              \n",
      " ing2D)                                                                                           \n",
      "                                                                                                  \n",
      " dropout (Dropout)              (None, 5, 5, 2048)   0           ['average_pooling2d[0][0]']      \n",
      "                                                                                                  \n",
      " lambda_76 (Lambda)             (None, 5, 5, 2048)   0           ['dropout[0][0]']                \n",
      "                                                                                                  \n",
      " lambda_77 (Lambda)             (None, 5, 5, 2048)   0           ['lambda_76[0][0]']              \n",
      "                                                                                                  \n",
      " flatten (Flatten)              (None, 51200)        0           ['lambda_77[0][0]']              \n",
      "                                                                                                  \n",
      " dense (Dense)                  (None, 8)            409608      ['flatten[0][0]']                \n",
      "                                                                                                  \n",
      "==================================================================================================\n",
      "Total params: 23,997,320\n",
      "Trainable params: 23,944,200\n",
      "Non-trainable params: 53,120\n",
      "__________________________________________________________________________________________________\n"
     ]
    }
   ],
   "source": [
    "model.summary()"
   ]
  },
  {
   "cell_type": "code",
   "execution_count": 15,
   "metadata": {
    "id": "-Amz_YV5rBlL"
   },
   "outputs": [],
   "source": [
    "model.compile(\n",
    "    optimizer=Adam(),\n",
    "    loss='sparse_categorical_crossentropy',\n",
    "    metrics=['accuracy'],\n",
    ")"
   ]
  },
  {
   "cell_type": "code",
   "execution_count": 16,
   "metadata": {
    "colab": {
     "base_uri": "https://localhost:8080/"
    },
    "id": "w-1qdktOwPnX",
    "outputId": "b0b2f33f-7b7c-4452-dce1-64bfeacb0d0b"
   },
   "outputs": [
    {
     "name": "stdout",
     "output_type": "stream",
     "text": [
      "/home/reynier/py_projects/Deployments/ResNet50/Weights\n"
     ]
    }
   ],
   "source": [
    "%cd  ../ResNet50/Weights/"
   ]
  },
  {
   "cell_type": "code",
   "execution_count": 17,
   "metadata": {
    "colab": {
     "base_uri": "https://localhost:8080/"
    },
    "id": "6nFrUy85snOU",
    "outputId": "52e594a9-c72f-454e-fdbb-5a1850cd8593"
   },
   "outputs": [
    {
     "data": {
      "text/plain": [
       "<tensorflow.python.checkpoint.checkpoint.CheckpointLoadStatus at 0x7f6e76233e80>"
      ]
     },
     "execution_count": 17,
     "metadata": {},
     "output_type": "execute_result"
    }
   ],
   "source": [
    "model.load_weights('weights.data')"
   ]
  },
  {
   "cell_type": "code",
   "execution_count": 18,
   "metadata": {
    "colab": {
     "base_uri": "https://localhost:8080/"
    },
    "id": "Dhb1ISx6NVu8",
    "outputId": "52a912ae-b4d2-448a-89e9-60be6eaed4d5"
   },
   "outputs": [
    {
     "name": "stdout",
     "output_type": "stream",
     "text": [
      "266/266 [==============================] - 22s 73ms/step - loss: 0.3339 - accuracy: 0.9174\n",
      "Test loss: 0.33387869596481323\n",
      "Test accuracy: 0.917411744594574\n"
     ]
    }
   ],
   "source": [
    "score = model.evaluate(train_ds, verbose=1)\n",
    "\n",
    "print('Test loss:', score[0])\n",
    "print('Test accuracy:', score[1])"
   ]
  },
  {
   "cell_type": "code",
   "execution_count": 20,
   "metadata": {
    "colab": {
     "base_uri": "https://localhost:8080/"
    },
    "id": "3Ys-7mXxZiu4",
    "outputId": "040372c6-0c6d-4676-d093-696485692808"
   },
   "outputs": [
    {
     "name": "stdout",
     "output_type": "stream",
     "text": [
      "0 input_1\n",
      "1 rescaling\n",
      "2 lambda\n",
      "3 lambda_1\n",
      "4 zero_padding2d\n",
      "5 conv2d\n",
      "6 batch_normalization\n",
      "7 activation\n",
      "8 lambda_2\n",
      "9 lambda_3\n",
      "10 max_pooling2d\n",
      "11 conv2d_1\n",
      "12 batch_normalization_1\n",
      "13 activation_1\n",
      "14 lambda_4\n",
      "15 lambda_5\n",
      "16 conv2d_2\n",
      "17 batch_normalization_2\n",
      "18 activation_2\n",
      "19 lambda_6\n",
      "20 lambda_7\n",
      "21 conv2d_3\n",
      "22 conv2d_4\n",
      "23 batch_normalization_3\n",
      "24 batch_normalization_4\n",
      "25 add\n",
      "26 activation_3\n",
      "27 lambda_8\n",
      "28 lambda_9\n",
      "29 conv2d_5\n",
      "30 batch_normalization_5\n",
      "31 activation_4\n",
      "32 lambda_10\n",
      "33 conv2d_6\n",
      "34 batch_normalization_6\n",
      "35 activation_5\n",
      "36 lambda_11\n",
      "37 conv2d_7\n",
      "38 batch_normalization_7\n",
      "39 activation_6\n",
      "40 lambda_12\n",
      "41 add_1\n",
      "42 activation_7\n",
      "43 lambda_13\n",
      "44 conv2d_8\n",
      "45 batch_normalization_8\n",
      "46 activation_8\n",
      "47 lambda_14\n",
      "48 conv2d_9\n",
      "49 batch_normalization_9\n",
      "50 activation_9\n",
      "51 lambda_15\n",
      "52 conv2d_10\n",
      "53 batch_normalization_10\n",
      "54 activation_10\n",
      "55 lambda_16\n",
      "56 add_2\n",
      "57 activation_11\n",
      "58 lambda_17\n",
      "59 conv2d_11\n",
      "60 batch_normalization_11\n",
      "61 activation_12\n",
      "62 lambda_18\n",
      "63 lambda_19\n",
      "64 conv2d_12\n",
      "65 batch_normalization_12\n",
      "66 activation_13\n",
      "67 lambda_20\n",
      "68 lambda_21\n",
      "69 conv2d_13\n",
      "70 conv2d_14\n",
      "71 batch_normalization_13\n",
      "72 batch_normalization_14\n",
      "73 add_3\n",
      "74 activation_14\n",
      "75 lambda_22\n",
      "76 lambda_23\n",
      "77 conv2d_15\n",
      "78 batch_normalization_15\n",
      "79 activation_15\n",
      "80 lambda_24\n",
      "81 conv2d_16\n",
      "82 batch_normalization_16\n",
      "83 activation_16\n",
      "84 lambda_25\n",
      "85 conv2d_17\n",
      "86 batch_normalization_17\n",
      "87 activation_17\n",
      "88 lambda_26\n",
      "89 add_4\n",
      "90 activation_18\n",
      "91 lambda_27\n",
      "92 conv2d_18\n",
      "93 batch_normalization_18\n",
      "94 activation_19\n",
      "95 lambda_28\n",
      "96 conv2d_19\n",
      "97 batch_normalization_19\n",
      "98 activation_20\n",
      "99 lambda_29\n",
      "100 conv2d_20\n",
      "101 batch_normalization_20\n",
      "102 activation_21\n",
      "103 lambda_30\n",
      "104 add_5\n",
      "105 activation_22\n",
      "106 lambda_31\n",
      "107 conv2d_21\n",
      "108 batch_normalization_21\n",
      "109 activation_23\n",
      "110 lambda_32\n",
      "111 conv2d_22\n",
      "112 batch_normalization_22\n",
      "113 activation_24\n",
      "114 lambda_33\n",
      "115 conv2d_23\n",
      "116 batch_normalization_23\n",
      "117 activation_25\n",
      "118 lambda_34\n",
      "119 add_6\n",
      "120 activation_26\n",
      "121 lambda_35\n",
      "122 conv2d_24\n",
      "123 batch_normalization_24\n",
      "124 activation_27\n",
      "125 lambda_36\n",
      "126 lambda_37\n",
      "127 conv2d_25\n",
      "128 batch_normalization_25\n",
      "129 activation_28\n",
      "130 lambda_38\n",
      "131 lambda_39\n",
      "132 conv2d_26\n",
      "133 conv2d_27\n",
      "134 batch_normalization_26\n",
      "135 batch_normalization_27\n",
      "136 add_7\n",
      "137 activation_29\n",
      "138 lambda_40\n",
      "139 lambda_41\n",
      "140 conv2d_28\n",
      "141 batch_normalization_28\n",
      "142 activation_30\n",
      "143 lambda_42\n",
      "144 conv2d_29\n",
      "145 batch_normalization_29\n",
      "146 activation_31\n",
      "147 lambda_43\n",
      "148 conv2d_30\n",
      "149 batch_normalization_30\n",
      "150 activation_32\n",
      "151 lambda_44\n",
      "152 add_8\n",
      "153 activation_33\n",
      "154 lambda_45\n",
      "155 conv2d_31\n",
      "156 batch_normalization_31\n",
      "157 activation_34\n",
      "158 lambda_46\n",
      "159 conv2d_32\n",
      "160 batch_normalization_32\n",
      "161 activation_35\n",
      "162 lambda_47\n",
      "163 conv2d_33\n",
      "164 batch_normalization_33\n",
      "165 activation_36\n",
      "166 lambda_48\n",
      "167 add_9\n",
      "168 activation_37\n",
      "169 lambda_49\n",
      "170 conv2d_34\n",
      "171 batch_normalization_34\n",
      "172 activation_38\n",
      "173 lambda_50\n",
      "174 conv2d_35\n",
      "175 batch_normalization_35\n",
      "176 activation_39\n",
      "177 lambda_51\n",
      "178 conv2d_36\n",
      "179 batch_normalization_36\n",
      "180 activation_40\n",
      "181 lambda_52\n",
      "182 add_10\n",
      "183 activation_41\n",
      "184 lambda_53\n",
      "185 conv2d_37\n",
      "186 batch_normalization_37\n",
      "187 activation_42\n",
      "188 lambda_54\n",
      "189 conv2d_38\n",
      "190 batch_normalization_38\n",
      "191 activation_43\n",
      "192 lambda_55\n",
      "193 conv2d_39\n",
      "194 batch_normalization_39\n",
      "195 activation_44\n",
      "196 lambda_56\n",
      "197 add_11\n",
      "198 activation_45\n",
      "199 lambda_57\n",
      "200 conv2d_40\n",
      "201 batch_normalization_40\n",
      "202 activation_46\n",
      "203 lambda_58\n",
      "204 conv2d_41\n",
      "205 batch_normalization_41\n",
      "206 activation_47\n",
      "207 lambda_59\n",
      "208 conv2d_42\n",
      "209 batch_normalization_42\n",
      "210 activation_48\n",
      "211 lambda_60\n",
      "212 add_12\n",
      "213 activation_49\n",
      "214 lambda_61\n",
      "215 conv2d_43\n",
      "216 batch_normalization_43\n",
      "217 activation_50\n",
      "218 lambda_62\n",
      "219 lambda_63\n",
      "220 conv2d_44\n",
      "221 batch_normalization_44\n",
      "222 activation_51\n",
      "223 lambda_64\n",
      "224 lambda_65\n",
      "225 conv2d_45\n",
      "226 conv2d_46\n",
      "227 batch_normalization_45\n",
      "228 batch_normalization_46\n",
      "229 add_13\n",
      "230 activation_52\n",
      "231 lambda_66\n",
      "232 lambda_67\n",
      "233 conv2d_47\n",
      "234 batch_normalization_47\n",
      "235 activation_53\n",
      "236 lambda_68\n",
      "237 conv2d_48\n",
      "238 batch_normalization_48\n",
      "239 activation_54\n",
      "240 lambda_69\n",
      "241 conv2d_49\n",
      "242 batch_normalization_49\n",
      "243 activation_55\n",
      "244 lambda_70\n",
      "245 add_14\n",
      "246 activation_56\n",
      "247 lambda_71\n",
      "248 conv2d_50\n",
      "249 batch_normalization_50\n",
      "250 activation_57\n",
      "251 lambda_72\n",
      "252 conv2d_51\n",
      "253 batch_normalization_51\n",
      "254 activation_58\n",
      "255 lambda_73\n",
      "256 conv2d_52\n",
      "257 batch_normalization_52\n",
      "258 activation_59\n",
      "259 lambda_74\n",
      "260 add_15\n",
      "261 activation_60\n",
      "262 lambda_75\n",
      "263 average_pooling2d\n",
      "264 dropout\n",
      "265 lambda_76\n",
      "266 lambda_77\n",
      "267 flatten\n",
      "268 dense\n"
     ]
    }
   ],
   "source": [
    "for index,layer in enumerate(model.layers):\n",
    "    print(index,layer.name)"
   ]
  },
  {
   "cell_type": "code",
   "execution_count": 1,
   "metadata": {},
   "outputs": [],
   "source": [
    "Indices = [0,5,10,11,14,17,18,23,26,29,34,37,40,45,48,51,52,57,60,63,68,71,74,79,82,85,90,93,102,105,108,\n",
    " 113,116,119,127,130,135,138,141,146,149,152,160,163,164,169,172,175,180,183,186,191]"
   ]
  },
  {
   "cell_type": "code",
   "execution_count": 2,
   "metadata": {},
   "outputs": [
    {
     "data": {
      "text/plain": [
       "52"
      ]
     },
     "execution_count": 2,
     "metadata": {},
     "output_type": "execute_result"
    }
   ],
   "source": [
    "len(Indices)"
   ]
  },
  {
   "cell_type": "code",
   "execution_count": 19,
   "metadata": {
    "colab": {
     "base_uri": "https://localhost:8080/"
    },
    "id": "zMLEUYTWZmm2",
    "outputId": "6ce284d0-b912-486d-92b6-5908eb4dfbf8"
   },
   "outputs": [
    {
     "name": "stdout",
     "output_type": "stream",
     "text": [
      "procesados:  25\n",
      "procesados:  50\n",
      "procesados:  75\n",
      "procesados:  100\n",
      "procesados:  125\n",
      "procesados:  150\n"
     ]
    }
   ],
   "source": [
    "num_address  = 2359808\n",
    "\n",
    "\n",
    "Indices      = [5,10,11,16,21,22,29,33,37,44,48,52,59,64,69,70,77,81,85,92,96,100,107,111,115,122,\n",
    "                127,132,133,140,144,148,155,159,163,170,174,178,185,189,193,200,204,208,215,220,225,\n",
    "                226,233,237,241,248,252,256,263,268]\n",
    "                \n",
    "samples      = 150\n",
    "\n",
    "Data         = GetReadAndWrites(model,Indices,num_address,samples,CNN_gating=False)\n",
    "stats        = {'Lecturas': Data['Reads'],'Escrituras': Data['Writes']}\n",
    "Baseline_Acceses   = pd.DataFrame(stats).reset_index(drop=False)"
   ]
  },
  {
   "cell_type": "code",
   "execution_count": null,
   "metadata": {},
   "outputs": [],
   "source": []
  },
  {
   "cell_type": "code",
   "execution_count": 20,
   "metadata": {
    "colab": {
     "base_uri": "https://localhost:8080/"
    },
    "id": "c3CiYRIun6Dj",
    "outputId": "2935f47e-9fb6-48d1-e414-32344e0354c0"
   },
   "outputs": [
    {
     "name": "stdout",
     "output_type": "stream",
     "text": [
      "['x' 'x' 'x' ... 'x' 'x' 'x']\n",
      "16/16 [==============================] - 1s 76ms/step - loss: 0.6760 - accuracy: 0.7800\n",
      "0.7799999713897705\n",
      "16/16 [==============================] - 1s 75ms/step - loss: 0.6760 - accuracy: 0.7800\n",
      "0.7799999713897705\n",
      "16/16 [==============================] - 1s 76ms/step - loss: 0.6760 - accuracy: 0.7800\n",
      "0.7799999713897705\n",
      "16/16 [==============================] - 1s 76ms/step - loss: 0.6760 - accuracy: 0.7800\n",
      "0.7799999713897705\n",
      "16/16 [==============================] - 1s 76ms/step - loss: 0.6760 - accuracy: 0.7800\n",
      "0.7799999713897705\n",
      "16/16 [==============================] - 1s 76ms/step - loss: 0.6760 - accuracy: 0.7800\n",
      "0.7799999713897705\n",
      "16/16 [==============================] - 1s 76ms/step - loss: 0.6760 - accuracy: 0.7800\n",
      "0.7799999713897705\n",
      "16/16 [==============================] - 1s 76ms/step - loss: 0.6760 - accuracy: 0.7800\n",
      "0.7799999713897705\n",
      "16/16 [==============================] - 1s 76ms/step - loss: 0.6760 - accuracy: 0.7800\n",
      "0.7799999713897705\n",
      "16/16 [==============================] - 1s 76ms/step - loss: 0.6760 - accuracy: 0.7800\n",
      "0.7799999713897705\n",
      "4646400 completada:  15:39:28\n"
     ]
    }
   ],
   "source": [
    "Accs_x= []\n",
    "network_size   = 290400*16   # Tamaño del buffer (en bits)\n",
    "num_of_samples = 10       # Numero de muestras de distintas configuraciones de fallos a testear por cada valor de Accs/Loss\n",
    "\n",
    "n_bits_total = np.ceil(network_size).astype(int)    #numero de bits totales\n",
    "\n",
    "buffer = np.array(['x']*(network_size))\n",
    "print(buffer)\n",
    "for index in range(0,num_of_samples):\n",
    "  loss,acc_x   = CheckAccuracyAndLoss('ResNet', test_ds, 'weights.data', output_shape=8, input_shape = (150,150,3), \n",
    "                                      act_frac_size = 12, act_int_size = 3, wgt_frac_size = 13, wgt_int_size = 2, \n",
    "                                      batch_size=batch_size, verbose = 1, aging_active = True, weights_faults = False)\n",
    "  print(acc_x)\n",
    "  Accs_x.append(acc_x)\n",
    "print(str(n_bits_total)+' completada: ', datetime.now().strftime(\"%H:%M:%S\"))"
   ]
  },
  {
   "cell_type": "code",
   "execution_count": 21,
   "metadata": {
    "id": "yFcbzQyrbUGI"
   },
   "outputs": [],
   "source": [
    "Accs = []\n",
    "Accs_w = []\n",
    "Accs_a_w = []\n",
    "Accs_1 = []\n",
    "Accs_w_1 = []\n",
    "Accs_a_w_1 = []\n",
    "buffer_size= 16777216\n",
    "Accs_1_0 = []\n",
    "Accs_w_1_0 = []\n",
    "Accs_a_w_1_0 = []\n",
    "buffer_size= 16777216"
   ]
  },
  {
   "cell_type": "code",
   "execution_count": 22,
   "metadata": {
    "id": "HiVuCfG9fdjW"
   },
   "outputs": [],
   "source": [
    "import pathlib\n",
    "from datetime import datetime"
   ]
  },
  {
   "cell_type": "code",
   "execution_count": 23,
   "metadata": {
    "id": "96-1Z2E7bXEv"
   },
   "outputs": [],
   "source": [
    "ruta_bin = '../../Data/Fault_Characterization/VC707/RawData/'\n",
    "directorio = pathlib.Path(ruta_bin)\n",
    "\n",
    "ficheros = [fichero.name for fichero in directorio.iterdir()]"
   ]
  },
  {
   "cell_type": "code",
   "execution_count": 24,
   "metadata": {
    "colab": {
     "base_uri": "https://localhost:8080/"
    },
    "id": "F8NimJH2s1AO",
    "outputId": "b3fa4e2b-b3b0-4480-87ea-64e0f89db7ec"
   },
   "outputs": [
    {
     "name": "stdout",
     "output_type": "stream",
     "text": [
      "['VC707-0.54.bin', 'VC707-0.55.bin', 'VC707-0.56.bin', 'VC707-0.57.bin', 'VC707-0.60.bin', 'VC707-0.59.bin', 'VC707-0.58.bin']\n",
      "../../Data/Fault_Characterization/VC707/RawData/VC707-0.54.bin\n",
      "soy el buffer dentro de funciones 16777216\n",
      " dentro de funciones Cantidad de elementos por tipo : Counter({'x': 16766856, '0': 10360})\n",
      "acc_0: [0.800000011920929]\n",
      "acc_w0: []\n",
      "acc_a_w_0: []\n",
      "../../Data/Fault_Characterization/VC707/RawData/VC707-0.55.bin\n",
      "soy el buffer dentro de funciones 16777216\n",
      " dentro de funciones Cantidad de elementos por tipo : Counter({'x': 16773858, '0': 3358})\n",
      "acc_0: [0.800000011920929, 0.8080000281333923]\n",
      "acc_w0: []\n",
      "acc_a_w_0: []\n",
      "../../Data/Fault_Characterization/VC707/RawData/VC707-0.56.bin\n",
      "soy el buffer dentro de funciones 16777216\n",
      " dentro de funciones Cantidad de elementos por tipo : Counter({'x': 16776066, '0': 1150})\n",
      "acc_0: [0.800000011920929, 0.8080000281333923, 0.8119999766349792]\n",
      "acc_w0: []\n",
      "acc_a_w_0: []\n",
      "../../Data/Fault_Characterization/VC707/RawData/VC707-0.57.bin\n",
      "soy el buffer dentro de funciones 16777216\n",
      " dentro de funciones Cantidad de elementos por tipo : Counter({'x': 16776876, '0': 340})\n",
      "acc_0: [0.800000011920929, 0.8080000281333923, 0.8119999766349792, 0.8119999766349792]\n",
      "acc_w0: []\n",
      "acc_a_w_0: []\n",
      "../../Data/Fault_Characterization/VC707/RawData/VC707-0.60.bin\n",
      "soy el buffer dentro de funciones 16777216\n",
      " dentro de funciones Cantidad de elementos por tipo : Counter({'x': 16777214, '0': 2})\n",
      "acc_0: [0.800000011920929, 0.8080000281333923, 0.8119999766349792, 0.8119999766349792, 0.8119999766349792]\n",
      "acc_w0: []\n",
      "acc_a_w_0: []\n",
      "../../Data/Fault_Characterization/VC707/RawData/VC707-0.59.bin\n",
      "soy el buffer dentro de funciones 16777216\n",
      " dentro de funciones Cantidad de elementos por tipo : Counter({'x': 16777210, '0': 6})\n",
      "acc_0: [0.800000011920929, 0.8080000281333923, 0.8119999766349792, 0.8119999766349792, 0.8119999766349792, 0.8119999766349792]\n",
      "acc_w0: []\n",
      "acc_a_w_0: []\n",
      "../../Data/Fault_Characterization/VC707/RawData/VC707-0.58.bin\n",
      "soy el buffer dentro de funciones 16777216\n",
      " dentro de funciones Cantidad de elementos por tipo : Counter({'x': 16777160, '0': 56})\n",
      "acc_0: [0.800000011920929, 0.8080000281333923, 0.8119999766349792, 0.8119999766349792, 0.8119999766349792, 0.8119999766349792, 0.8119999766349792]\n",
      "acc_w0: []\n",
      "acc_a_w_0: []\n",
      " operación completada:  15:43:27\n"
     ]
    }
   ],
   "source": [
    "for base, dirs, files in os.walk(ruta_bin):\n",
    "  print(files)\n",
    "  \n",
    "  for i, j in enumerate(files):\n",
    "    directorio = os.path.join(ruta_bin, j)\n",
    "    print(directorio)\n",
    "    buffer = (analize_file(directorio, buffer_size))\n",
    "    error_mask, locs = (buffer_vectores(buffer))\n",
    " \n",
    "    loss,acc   = CheckAccuracyAndLoss('ResNet', test_ds, 'weights.data', output_shape=8, input_shape = (150,150,3), \n",
    "                                      act_frac_size = 11, act_int_size = 4, wgt_frac_size = 14, wgt_int_size = 1, \n",
    "                                      batch_size=16, verbose = 0, aging_active = True, weights_faults = False,\n",
    "                                      faulty_addresses = locs, masked_faults = error_mask)\n",
    "    loss,acc_w   = CheckAccuracyAndLoss('ResNet', test_ds, 'weights.data', output_shape=8, input_shape = (150,150,3),\n",
    "                                        act_frac_size = 11, act_int_size = 4, wgt_frac_size = 14, wgt_int_size = 1,\n",
    "                                        batch_size=16, verbose = 0, aging_active = False, weights_faults = True,\n",
    "                                        faulty_addresses = locs, masked_faults = error_mask)\n",
    "    \n",
    "    loss,acc_a_w   = CheckAccuracyAndLoss('ResNet', test_ds, 'weights.data', output_shape=8, input_shape = (150,150,3),\n",
    "                                          act_frac_size = 11, act_int_size = 4, wgt_frac_size = 14, wgt_int_size = 1,\n",
    "                                          batch_size=16, verbose = 0, aging_active = True, weights_faults = True,\n",
    "                                          faulty_addresses = locs, masked_faults = error_mask)\n",
    "\n",
    "    Accs.append(acc)\n",
    "    #Accs_w.append(acc_w)\n",
    "    #Accs_a_w.append(acc_a_w)\n",
    "    \n",
    "    print('acc_0:', Accs)\n",
    "    print('acc_w0:',Accs_w)\n",
    "    print('acc_a_w_0:',Accs_a_w)\n",
    "    \n",
    "Acc=pd.DataFrame(Accs)\n",
    "Acc_w =pd.DataFrame(Accs_w)\n",
    "Acc_a_w =pd.DataFrame(Accs_a_w)\n",
    "\n",
    "Acc.head()\n",
    "\n",
    "print(str()+' operación completada: ', datetime.now().strftime(\"%H:%M:%S\"))"
   ]
  },
  {
   "cell_type": "code",
   "execution_count": 25,
   "metadata": {
    "colab": {
     "base_uri": "https://localhost:8080/"
    },
    "id": "MZxdnOu-TIU8",
    "outputId": "8c719bfa-e4e5-488c-b9aa-d90970febeb7"
   },
   "outputs": [
    {
     "name": "stdout",
     "output_type": "stream",
     "text": [
      "/home/reynier/py_projects/Deployments/Data/error_mask_x/VC_707\n"
     ]
    }
   ],
   "source": [
    "%cd '../../Data/error_mask_x/VC_707'"
   ]
  },
  {
   "cell_type": "code",
   "execution_count": 26,
   "metadata": {
    "id": "GAOHBUSqTP30"
   },
   "outputs": [],
   "source": [
    "locs = load_obj('locs_054')\n",
    "error_mask = load_obj('error_mask_054')"
   ]
  },
  {
   "cell_type": "code",
   "execution_count": 27,
   "metadata": {
    "colab": {
     "base_uri": "https://localhost:8080/"
    },
    "id": "jKgL-sE9Tcyc",
    "outputId": "dc1aeaaf-5b95-4649-cc44-d95936b4986a"
   },
   "outputs": [
    {
     "name": "stdout",
     "output_type": "stream",
     "text": [
      "/home/reynier/py_projects/Deployments/ResNet50/Weights\n"
     ]
    }
   ],
   "source": [
    "%cd  '../../../ResNet50/Weights/'"
   ]
  },
  {
   "cell_type": "code",
   "execution_count": 28,
   "metadata": {
    "colab": {
     "base_uri": "https://localhost:8080/"
    },
    "id": "5qhtNPrrSIWv",
    "outputId": "8b9e8508-1efe-4b21-8709-457ac72aa199"
   },
   "outputs": [
    {
     "name": "stdout",
     "output_type": "stream",
     "text": [
      "/home/reynier/py_projects/Deployments/ResNet50/error_mask_x\n",
      " completada:  15:44:13\n",
      " completada:  15:44:13\n"
     ]
    }
   ],
   "source": [
    "Accs = []\n",
    "Accs_w = []\n",
    "Accs_a_w = []\n",
    "\n",
    "\n",
    "\n",
    "buffer_size= 16777216\n",
    "\n",
    "\n",
    "loss,acc   = CheckAccuracyAndLoss('ResNet', test_ds, 'weights.data', output_shape=8, input_shape = (150,150,3),\n",
    "                                            act_frac_size = 11, act_int_size = 4, wgt_frac_size = 14, wgt_int_size = 1,\n",
    "                                            batch_size=batch_size, verbose = 0, aging_active = True, weights_faults = False,\n",
    "                                            faulty_addresses = locs, masked_faults = error_mask)\n",
    "\n",
    "loss,acc_w   = CheckAccuracyAndLoss('ResNet', test_ds, 'weights.data', output_shape=8, input_shape = (150,150,3),\n",
    "                                            act_frac_size = 11, act_int_size = 4, wgt_frac_size = 14, wgt_int_size = 1,\n",
    "                                            batch_size=batch_size, verbose = 0, aging_active = True, weights_faults = True,\n",
    "                                            faulty_addresses = locs, masked_faults = error_mask)\n",
    "\n",
    "loss,acc_a_w   = CheckAccuracyAndLoss('ResNet', test_ds, 'weights.data', output_shape=8, input_shape = (150,150,3),\n",
    "                                            act_frac_size = 11, act_int_size = 4, wgt_frac_size = 14, wgt_int_size = 1,\n",
    "                                            batch_size=batch_size, verbose = 0, aging_active = False, weights_faults = True,\n",
    "                                            faulty_addresses = locs, masked_faults = error_mask)\n",
    "\n",
    "Accs.append(acc)\n",
    "Accs_w.append(acc_w)\n",
    "Accs_a_w.append(acc_a_w)\n",
    "\n",
    "\n",
    "Acc=pd.DataFrame(Accs)\n",
    "Acc_w =pd.DataFrame(Accs_w)\n",
    "Acc_a_w =pd.DataFrame(Accs_a_w)\n",
    "\n",
    "%cd  '../error_mask_x/'\n",
    "\n",
    "buf_cero = pd.concat([Acc,Acc_w, Acc_a_w], axis=1, join='outer')\n",
    "buf_cero.columns =['Acc', 'A_w', 'Acc_a_w']\n",
    "buf_cero.to_excel('ResNet_fichero_fichero_707_054.xlsx', sheet_name='fichero_707_054', index=False)\n",
    "\n",
    "print(' completada: ', datetime.now().strftime(\"%H:%M:%S\"))\n",
    "print(' completada: ', datetime.now().strftime(\"%H:%M:%S\"))\n"
   ]
  },
  {
   "cell_type": "code",
   "execution_count": 29,
   "metadata": {
    "colab": {
     "base_uri": "https://localhost:8080/"
    },
    "id": "VrSRQfvDy40L",
    "outputId": "33f19831-e9f2-49c6-80d6-636075e0fb40"
   },
   "outputs": [
    {
     "name": "stdout",
     "output_type": "stream",
     "text": [
      "/home/reynier/py_projects/Deployments/Data/error_mask_x/VC_707\n"
     ]
    }
   ],
   "source": [
    "%cd '../../Data/error_mask_x/VC_707'"
   ]
  },
  {
   "cell_type": "code",
   "execution_count": 30,
   "metadata": {
    "id": "sAUb1c2Fy40M"
   },
   "outputs": [],
   "source": [
    "locs = load_obj('locs_055')\n",
    "error_mask = load_obj('error_mask_055')"
   ]
  },
  {
   "cell_type": "code",
   "execution_count": 31,
   "metadata": {
    "colab": {
     "base_uri": "https://localhost:8080/"
    },
    "id": "WYq6xhxMy40N",
    "outputId": "3c0d1866-fa9d-4cf0-b31a-2acc9e9afc57"
   },
   "outputs": [
    {
     "name": "stdout",
     "output_type": "stream",
     "text": [
      "/home/reynier/py_projects/Deployments/ResNet50/Weights\n"
     ]
    }
   ],
   "source": [
    "%cd  '../../../ResNet50/Weights/'"
   ]
  },
  {
   "cell_type": "code",
   "execution_count": 32,
   "metadata": {
    "colab": {
     "base_uri": "https://localhost:8080/"
    },
    "id": "G2_0zwCzy40P",
    "outputId": "272e28bd-4379-4a92-f50b-f0ca85fcf082"
   },
   "outputs": [
    {
     "name": "stdout",
     "output_type": "stream",
     "text": [
      "/home/reynier/py_projects/Deployments/ResNet50/error_mask_x\n",
      " completada:  15:44:40\n",
      " completada:  15:44:40\n"
     ]
    }
   ],
   "source": [
    "Accs = []\n",
    "Accs_w = []\n",
    "Accs_a_w = []\n",
    "\n",
    "\n",
    "\n",
    "buffer_size= 16777216\n",
    "\n",
    "\n",
    "loss,acc   = CheckAccuracyAndLoss('ResNet', test_ds, 'weights.data', output_shape=8, input_shape = (150,150,3),\n",
    "                                            act_frac_size = 11, act_int_size = 4, wgt_frac_size = 14, wgt_int_size = 1,\n",
    "                                            batch_size=batch_size, verbose = 0, aging_active = True, weights_faults = False,\n",
    "                                            faulty_addresses = locs, masked_faults = error_mask)\n",
    "\n",
    "loss,acc_w   = CheckAccuracyAndLoss('ResNet', test_ds, 'weights.data', output_shape=8, input_shape = (150,150,3),\n",
    "                                            act_frac_size = 11, act_int_size = 4, wgt_frac_size = 14, wgt_int_size = 1,\n",
    "                                            batch_size=batch_size, verbose = 0, aging_active = True, weights_faults = True,\n",
    "                                            faulty_addresses = locs, masked_faults = error_mask)\n",
    "\n",
    "loss,acc_a_w   = CheckAccuracyAndLoss('ResNet', test_ds, 'weights.data', output_shape=8, input_shape = (150,150,3),\n",
    "                                            act_frac_size = 11, act_int_size = 4, wgt_frac_size = 14, wgt_int_size = 1,\n",
    "                                            batch_size=batch_size, verbose = 0, aging_active = False, weights_faults = True,\n",
    "                                            faulty_addresses = locs, masked_faults = error_mask)\n",
    "\n",
    "Accs.append(acc)\n",
    "Accs_w.append(acc_w)\n",
    "Accs_a_w.append(acc_a_w)\n",
    "\n",
    "\n",
    "Acc=pd.DataFrame(Accs)\n",
    "Acc_w =pd.DataFrame(Accs_w)\n",
    "Acc_a_w =pd.DataFrame(Accs_a_w)\n",
    "\n",
    "%cd  '../error_mask_x/'\n",
    "\n",
    "buf_cero = pd.concat([Acc,Acc_w, Acc_a_w], axis=1, join='outer')\n",
    "buf_cero.columns =['Acc', 'A_w', 'Acc_a_w']\n",
    "buf_cero.to_excel('ResNet_fichero_fichero_707_055.xlsx', sheet_name='fichero_707_055', index=False)\n",
    "\n",
    "print(' completada: ', datetime.now().strftime(\"%H:%M:%S\"))\n",
    "print(' completada: ', datetime.now().strftime(\"%H:%M:%S\"))\n"
   ]
  },
  {
   "cell_type": "code",
   "execution_count": 33,
   "metadata": {
    "colab": {
     "base_uri": "https://localhost:8080/"
    },
    "id": "A1CuNCxlzSri",
    "outputId": "6e0d3172-7329-4a64-9843-5218121983c2"
   },
   "outputs": [
    {
     "name": "stdout",
     "output_type": "stream",
     "text": [
      "/home/reynier/py_projects/Deployments/Data/error_mask_x/VC_707\n"
     ]
    }
   ],
   "source": [
    "%cd '../../Data/error_mask_x/VC_707'"
   ]
  },
  {
   "cell_type": "code",
   "execution_count": 34,
   "metadata": {
    "id": "iDTttLCyzSri"
   },
   "outputs": [],
   "source": [
    "locs = load_obj('locs_056')\n",
    "error_mask = load_obj('error_mask_056')"
   ]
  },
  {
   "cell_type": "code",
   "execution_count": 35,
   "metadata": {
    "colab": {
     "base_uri": "https://localhost:8080/"
    },
    "id": "6PjZ7AxnzSrj",
    "outputId": "5b0bf5b7-c71c-47a5-8321-64f1af997e5a"
   },
   "outputs": [
    {
     "name": "stdout",
     "output_type": "stream",
     "text": [
      "/home/reynier/py_projects/Deployments/ResNet50/Weights\n"
     ]
    }
   ],
   "source": [
    "%cd  '../../../ResNet50/Weights/'"
   ]
  },
  {
   "cell_type": "code",
   "execution_count": 36,
   "metadata": {
    "colab": {
     "base_uri": "https://localhost:8080/"
    },
    "id": "mp6E1CHKzSrj",
    "outputId": "bb0ac004-b21f-4b83-9b94-19680b46135f"
   },
   "outputs": [
    {
     "name": "stdout",
     "output_type": "stream",
     "text": [
      "/home/reynier/py_projects/Deployments/ResNet50/error_mask_x\n",
      " completada:  15:44:59\n",
      " completada:  15:44:59\n"
     ]
    }
   ],
   "source": [
    "Accs = []\n",
    "Accs_w = []\n",
    "Accs_a_w = []\n",
    "\n",
    "\n",
    "\n",
    "buffer_size= 16777216\n",
    "\n",
    "\n",
    "loss,acc   = CheckAccuracyAndLoss('ResNet', test_ds, 'weights.data', output_shape=8, input_shape = (150,150,3),\n",
    "                                            act_frac_size = 11, act_int_size = 4, wgt_frac_size = 14, wgt_int_size = 1,\n",
    "                                            batch_size=batch_size, verbose = 0, aging_active = True, weights_faults = False,\n",
    "                                            faulty_addresses = locs, masked_faults = error_mask)\n",
    "\n",
    "loss,acc_w   = CheckAccuracyAndLoss('ResNet', test_ds, 'weights.data', output_shape=8, input_shape = (150,150,3),\n",
    "                                            act_frac_size = 11, act_int_size = 4, wgt_frac_size = 14, wgt_int_size = 1,\n",
    "                                            batch_size=batch_size, verbose = 0, aging_active = True, weights_faults = True,\n",
    "                                            faulty_addresses = locs, masked_faults = error_mask)\n",
    "\n",
    "loss,acc_a_w   = CheckAccuracyAndLoss('ResNet', test_ds, 'weights.data', output_shape=8, input_shape = (150,150,3),\n",
    "                                            act_frac_size = 11, act_int_size = 4, wgt_frac_size = 14, wgt_int_size = 1,\n",
    "                                            batch_size=batch_size, verbose = 0, aging_active = False, weights_faults = True,\n",
    "                                            faulty_addresses = locs, masked_faults = error_mask)\n",
    "\n",
    "Accs.append(acc)\n",
    "Accs_w.append(acc_w)\n",
    "Accs_a_w.append(acc_a_w)\n",
    "\n",
    "\n",
    "Acc=pd.DataFrame(Accs)\n",
    "Acc_w =pd.DataFrame(Accs_w)\n",
    "Acc_a_w =pd.DataFrame(Accs_a_w)\n",
    "\n",
    "%cd  '../error_mask_x/'\n",
    "\n",
    "buf_cero = pd.concat([Acc,Acc_w, Acc_a_w], axis=1, join='outer')\n",
    "buf_cero.columns =['Acc', 'A_w', 'Acc_a_w']\n",
    "buf_cero.to_excel('ResNet_fichero_fichero_707_056.xlsx', sheet_name='fichero_707_056', index=False)\n",
    "\n",
    "print(' completada: ', datetime.now().strftime(\"%H:%M:%S\"))\n",
    "print(' completada: ', datetime.now().strftime(\"%H:%M:%S\"))\n"
   ]
  },
  {
   "cell_type": "code",
   "execution_count": 37,
   "metadata": {
    "colab": {
     "base_uri": "https://localhost:8080/"
    },
    "id": "ENxE-WBlzdI5",
    "outputId": "3cc937c5-65f9-4f3e-846a-9b539b8d16f8"
   },
   "outputs": [
    {
     "name": "stdout",
     "output_type": "stream",
     "text": [
      "/home/reynier/py_projects/Deployments/Data/error_mask_x/VC_707\n"
     ]
    }
   ],
   "source": [
    "%cd '../../Data/error_mask_x/VC_707'"
   ]
  },
  {
   "cell_type": "code",
   "execution_count": 38,
   "metadata": {
    "id": "xVsENPQPzdI6"
   },
   "outputs": [],
   "source": [
    "locs = load_obj('locs_057')\n",
    "error_mask = load_obj('error_mask_057')"
   ]
  },
  {
   "cell_type": "code",
   "execution_count": 39,
   "metadata": {
    "colab": {
     "base_uri": "https://localhost:8080/"
    },
    "id": "4QtVHtpuzdI6",
    "outputId": "ed4c8438-6f3b-4845-cddc-e346a19d6126"
   },
   "outputs": [
    {
     "name": "stdout",
     "output_type": "stream",
     "text": [
      "/home/reynier/py_projects/Deployments/ResNet50/Weights\n"
     ]
    }
   ],
   "source": [
    "%cd  '../../../ResNet50/Weights/'"
   ]
  },
  {
   "cell_type": "code",
   "execution_count": 40,
   "metadata": {
    "colab": {
     "base_uri": "https://localhost:8080/"
    },
    "id": "JFMVdfoUzdI7",
    "outputId": "ef63b4d1-2759-48ec-aaed-1f1b8688346c"
   },
   "outputs": [
    {
     "name": "stdout",
     "output_type": "stream",
     "text": [
      "/home/reynier/py_projects/Deployments/ResNet50/error_mask_x\n",
      " completada:  15:45:16\n",
      " completada:  15:45:16\n"
     ]
    }
   ],
   "source": [
    "Accs = []\n",
    "Accs_w = []\n",
    "Accs_a_w = []\n",
    "\n",
    "\n",
    "\n",
    "buffer_size= 16777216\n",
    "\n",
    "\n",
    "loss,acc   = CheckAccuracyAndLoss('ResNet', test_ds, 'weights.data', output_shape=8, input_shape = (150,150,3),\n",
    "                                            act_frac_size = 11, act_int_size = 4, wgt_frac_size = 14, wgt_int_size = 1,\n",
    "                                            batch_size=batch_size, verbose = 0, aging_active = True, weights_faults = False,\n",
    "                                            faulty_addresses = locs, masked_faults = error_mask)\n",
    "\n",
    "loss,acc_w   = CheckAccuracyAndLoss('ResNet', test_ds, 'weights.data', output_shape=8, input_shape = (150,150,3),\n",
    "                                            act_frac_size = 11, act_int_size = 4, wgt_frac_size = 14, wgt_int_size = 1,\n",
    "                                            batch_size=batch_size, verbose = 0, aging_active = True, weights_faults = True,\n",
    "                                            faulty_addresses = locs, masked_faults = error_mask)\n",
    "\n",
    "loss,acc_a_w   = CheckAccuracyAndLoss('ResNet', test_ds, 'weights.data', output_shape=8, input_shape = (150,150,3),\n",
    "                                            act_frac_size = 11, act_int_size = 4, wgt_frac_size = 14, wgt_int_size = 1,\n",
    "                                            batch_size=batch_size, verbose = 0, aging_active = False, weights_faults = True,\n",
    "                                            faulty_addresses = locs, masked_faults = error_mask)\n",
    "\n",
    "Accs.append(acc)\n",
    "Accs_w.append(acc_w)\n",
    "Accs_a_w.append(acc_a_w)\n",
    "\n",
    "\n",
    "Acc=pd.DataFrame(Accs)\n",
    "Acc_w =pd.DataFrame(Accs_w)\n",
    "Acc_a_w =pd.DataFrame(Accs_a_w)\n",
    "\n",
    "%cd  '../error_mask_x/'\n",
    "\n",
    "buf_cero = pd.concat([Acc,Acc_w, Acc_a_w], axis=1, join='outer')\n",
    "buf_cero.columns =['Acc', 'A_w', 'Acc_a_w']\n",
    "buf_cero.to_excel('ResNet_fichero_fichero_707_057.xlsx', sheet_name='fichero_707_055', index=False)\n",
    "\n",
    "print(' completada: ', datetime.now().strftime(\"%H:%M:%S\"))\n",
    "print(' completada: ', datetime.now().strftime(\"%H:%M:%S\"))\n"
   ]
  },
  {
   "cell_type": "code",
   "execution_count": 41,
   "metadata": {
    "colab": {
     "base_uri": "https://localhost:8080/"
    },
    "id": "48ILeC0qzlQi",
    "outputId": "6324fe2a-1ad5-4bdc-b946-cfad223427fa"
   },
   "outputs": [
    {
     "name": "stdout",
     "output_type": "stream",
     "text": [
      "/home/reynier/py_projects/Deployments/Data/error_mask_x/VC_707\n"
     ]
    }
   ],
   "source": [
    "%cd '../../Data/error_mask_x/VC_707'"
   ]
  },
  {
   "cell_type": "code",
   "execution_count": 42,
   "metadata": {
    "id": "RiuoYxt9zlQj"
   },
   "outputs": [],
   "source": [
    "locs = load_obj('locs_058')\n",
    "error_mask = load_obj('error_mask_058')"
   ]
  },
  {
   "cell_type": "code",
   "execution_count": 43,
   "metadata": {
    "colab": {
     "base_uri": "https://localhost:8080/"
    },
    "id": "jhImBENrzlQj",
    "outputId": "f679d787-12f7-4b03-ec41-6327ce3b047b"
   },
   "outputs": [
    {
     "name": "stdout",
     "output_type": "stream",
     "text": [
      "/home/reynier/py_projects/Deployments/ResNet50/Weights\n"
     ]
    }
   ],
   "source": [
    "%cd  '../../../ResNet50/Weights/'"
   ]
  },
  {
   "cell_type": "code",
   "execution_count": 44,
   "metadata": {
    "colab": {
     "base_uri": "https://localhost:8080/"
    },
    "id": "azGJQy-mzlQk",
    "outputId": "d3db181c-0c16-4386-f6ce-a933be32955c"
   },
   "outputs": [
    {
     "name": "stdout",
     "output_type": "stream",
     "text": [
      "/home/reynier/py_projects/Deployments/ResNet50/error_mask_x\n",
      " completada:  15:45:29\n",
      " completada:  15:45:29\n"
     ]
    }
   ],
   "source": [
    "Accs = []\n",
    "Accs_w = []\n",
    "Accs_a_w = []\n",
    "\n",
    "\n",
    "\n",
    "buffer_size= 16777216\n",
    "\n",
    "\n",
    "loss,acc   = CheckAccuracyAndLoss('ResNet', test_ds, 'weights.data', output_shape=8, input_shape = (150,150,3),\n",
    "                                            act_frac_size = 11, act_int_size = 4, wgt_frac_size = 14, wgt_int_size = 1,\n",
    "                                            batch_size=batch_size, verbose = 0, aging_active = True, weights_faults = False,\n",
    "                                            faulty_addresses = locs, masked_faults = error_mask)\n",
    "\n",
    "loss,acc_w   = CheckAccuracyAndLoss('ResNet', test_ds, 'weights.data', output_shape=8, input_shape = (150,150,3),\n",
    "                                            act_frac_size = 11, act_int_size = 4, wgt_frac_size = 14, wgt_int_size = 1,\n",
    "                                            batch_size=batch_size, verbose = 0, aging_active = True, weights_faults = True,\n",
    "                                            faulty_addresses = locs, masked_faults = error_mask)\n",
    "\n",
    "loss,acc_a_w   = CheckAccuracyAndLoss('ResNet', test_ds, 'weights.data', output_shape=8, input_shape = (150,150,3),\n",
    "                                            act_frac_size = 11, act_int_size = 4, wgt_frac_size = 14, wgt_int_size = 1,\n",
    "                                            batch_size=batch_size, verbose = 0, aging_active = False, weights_faults = True,\n",
    "                                            faulty_addresses = locs, masked_faults = error_mask)\n",
    "\n",
    "Accs.append(acc)\n",
    "Accs_w.append(acc_w)\n",
    "Accs_a_w.append(acc_a_w)\n",
    "\n",
    "\n",
    "Acc=pd.DataFrame(Accs)\n",
    "Acc_w =pd.DataFrame(Accs_w)\n",
    "Acc_a_w =pd.DataFrame(Accs_a_w)\n",
    "\n",
    "%cd  '../error_mask_x/'\n",
    "\n",
    "buf_cero = pd.concat([Acc,Acc_w, Acc_a_w], axis=1, join='outer')\n",
    "buf_cero.columns =['Acc', 'A_w', 'Acc_a_w']\n",
    "buf_cero.to_excel('ResNet_fichero_fichero_707_058.xlsx', sheet_name='fichero_707_058', index=False)\n",
    "\n",
    "print(' completada: ', datetime.now().strftime(\"%H:%M:%S\"))\n",
    "print(' completada: ', datetime.now().strftime(\"%H:%M:%S\"))\n"
   ]
  },
  {
   "cell_type": "code",
   "execution_count": 45,
   "metadata": {
    "colab": {
     "base_uri": "https://localhost:8080/"
    },
    "id": "Y40KuqvEzvbC",
    "outputId": "1f130be2-c468-44a2-aaad-3a58e778d64f"
   },
   "outputs": [
    {
     "name": "stdout",
     "output_type": "stream",
     "text": [
      "/home/reynier/py_projects/Deployments/Data/error_mask_x/VC_707\n"
     ]
    }
   ],
   "source": [
    "%cd '../../Data/error_mask_x/VC_707'"
   ]
  },
  {
   "cell_type": "code",
   "execution_count": 46,
   "metadata": {
    "id": "ZgAqSUx5zvbC"
   },
   "outputs": [],
   "source": [
    "locs = load_obj('locs_059')\n",
    "error_mask = load_obj('error_mask_059')"
   ]
  },
  {
   "cell_type": "code",
   "execution_count": 47,
   "metadata": {
    "colab": {
     "base_uri": "https://localhost:8080/"
    },
    "id": "MWJw6dQ6zvbD",
    "outputId": "f1455456-d60b-4c30-f772-8152775b5769"
   },
   "outputs": [
    {
     "name": "stdout",
     "output_type": "stream",
     "text": [
      "/home/reynier/py_projects/Deployments/ResNet50/Weights\n"
     ]
    }
   ],
   "source": [
    "%cd  '../../../ResNet50/Weights/'"
   ]
  },
  {
   "cell_type": "code",
   "execution_count": 48,
   "metadata": {
    "colab": {
     "base_uri": "https://localhost:8080/"
    },
    "id": "8_k9DPHlzvbD",
    "outputId": "b07c9f4b-bcb1-46ed-ec1f-b397b0dcde97"
   },
   "outputs": [
    {
     "name": "stdout",
     "output_type": "stream",
     "text": [
      "/home/reynier/py_projects/Deployments/ResNet50/error_mask_x\n",
      " completada:  15:45:40\n",
      " completada:  15:45:40\n"
     ]
    }
   ],
   "source": [
    "Accs = []\n",
    "Accs_w = []\n",
    "Accs_a_w = []\n",
    "\n",
    "\n",
    "\n",
    "buffer_size= 16777216\n",
    "\n",
    "\n",
    "loss,acc   = CheckAccuracyAndLoss('ResNet', test_ds, 'weights.data', output_shape=8, input_shape = (150,150,3),\n",
    "                                            act_frac_size = 11, act_int_size = 4, wgt_frac_size = 14, wgt_int_size = 1,\n",
    "                                            batch_size=batch_size, verbose = 0, aging_active = True, weights_faults = False,\n",
    "                                            faulty_addresses = locs, masked_faults = error_mask)\n",
    "\n",
    "loss,acc_w   = CheckAccuracyAndLoss('ResNet', test_ds, 'weights.data', output_shape=8, input_shape = (150,150,3),\n",
    "                                            act_frac_size = 11, act_int_size = 4, wgt_frac_size = 14, wgt_int_size = 1,\n",
    "                                            batch_size=batch_size, verbose = 0, aging_active = True, weights_faults = True,\n",
    "                                            faulty_addresses = locs, masked_faults = error_mask)\n",
    "\n",
    "loss,acc_a_w   = CheckAccuracyAndLoss('ResNet', test_ds, 'weights.data', output_shape=8, input_shape = (150,150,3),\n",
    "                                            act_frac_size = 11, act_int_size = 4, wgt_frac_size = 14, wgt_int_size = 1,\n",
    "                                            batch_size=batch_size, verbose = 0, aging_active = False, weights_faults = True,\n",
    "                                            faulty_addresses = locs, masked_faults = error_mask)\n",
    "\n",
    "Accs.append(acc)\n",
    "Accs_w.append(acc_w)\n",
    "Accs_a_w.append(acc_a_w)\n",
    "\n",
    "\n",
    "Acc=pd.DataFrame(Accs)\n",
    "Acc_w =pd.DataFrame(Accs_w)\n",
    "Acc_a_w =pd.DataFrame(Accs_a_w)\n",
    "\n",
    "%cd  '../error_mask_x/'\n",
    "\n",
    "buf_cero = pd.concat([Acc,Acc_w, Acc_a_w], axis=1, join='outer')\n",
    "buf_cero.columns =['Acc', 'A_w', 'Acc_a_w']\n",
    "buf_cero.to_excel('ResNet_fichero_fichero_707_059.xlsx', sheet_name='fichero_707_059', index=False)\n",
    "\n",
    "print(' completada: ', datetime.now().strftime(\"%H:%M:%S\"))\n",
    "print(' completada: ', datetime.now().strftime(\"%H:%M:%S\"))\n"
   ]
  },
  {
   "cell_type": "code",
   "execution_count": 49,
   "metadata": {
    "colab": {
     "base_uri": "https://localhost:8080/"
    },
    "id": "dMRfrafR0EZp",
    "outputId": "446cd6a7-16cd-488e-efc4-44f50ba2b22f"
   },
   "outputs": [
    {
     "name": "stdout",
     "output_type": "stream",
     "text": [
      "/home/reynier/py_projects/Deployments/Data/error_mask_x/VC_707\n"
     ]
    }
   ],
   "source": [
    "%cd '../../Data/error_mask_x/VC_707'"
   ]
  },
  {
   "cell_type": "code",
   "execution_count": 50,
   "metadata": {
    "id": "m_nfxsrc0EZq"
   },
   "outputs": [],
   "source": [
    "locs = load_obj('locs_060')\n",
    "error_mask = load_obj('error_mask_060')"
   ]
  },
  {
   "cell_type": "code",
   "execution_count": 51,
   "metadata": {
    "colab": {
     "base_uri": "https://localhost:8080/"
    },
    "id": "cTbTH7aQ0EZq",
    "outputId": "cbf8e567-2d23-4abd-bda7-7f51bd22d958"
   },
   "outputs": [
    {
     "name": "stdout",
     "output_type": "stream",
     "text": [
      "/home/reynier/py_projects/Deployments/ResNet50/Weights\n"
     ]
    }
   ],
   "source": [
    "%cd  '../../../ResNet50/Weights/'"
   ]
  },
  {
   "cell_type": "code",
   "execution_count": 52,
   "metadata": {
    "colab": {
     "base_uri": "https://localhost:8080/"
    },
    "id": "-Xn_UFo_0EZr",
    "outputId": "cd97908f-e82c-4cb7-fd56-2b8517276efc"
   },
   "outputs": [
    {
     "name": "stdout",
     "output_type": "stream",
     "text": [
      "/home/reynier/py_projects/Deployments/ResNet50/error_mask_x\n",
      " completada:  15:45:51\n",
      " completada:  15:45:51\n"
     ]
    }
   ],
   "source": [
    "Accs = []\n",
    "Accs_w = []\n",
    "Accs_a_w = []\n",
    "\n",
    "\n",
    "\n",
    "buffer_size= 16777216\n",
    "\n",
    "\n",
    "loss,acc   = CheckAccuracyAndLoss('ResNet', test_ds, 'weights.data', output_shape=8, input_shape = (150,150,3),\n",
    "                                            act_frac_size = 11, act_int_size = 4, wgt_frac_size = 14, wgt_int_size = 1,\n",
    "                                            batch_size=batch_size, verbose = 0, aging_active = True, weights_faults = False,\n",
    "                                            faulty_addresses = locs, masked_faults = error_mask)\n",
    "\n",
    "loss,acc_w   = CheckAccuracyAndLoss('ResNet', test_ds, 'weights.data', output_shape=8, input_shape = (150,150,3),\n",
    "                                            act_frac_size = 11, act_int_size = 4, wgt_frac_size = 14, wgt_int_size = 1,\n",
    "                                            batch_size=batch_size, verbose = 0, aging_active = True, weights_faults = True,\n",
    "                                            faulty_addresses = locs, masked_faults = error_mask)\n",
    "\n",
    "loss,acc_a_w   = CheckAccuracyAndLoss('ResNet', test_ds, 'weights.data', output_shape=8, input_shape = (150,150,3),\n",
    "                                            act_frac_size = 11, act_int_size = 4, wgt_frac_size = 14, wgt_int_size = 1,\n",
    "                                            batch_size=batch_size, verbose = 0, aging_active = False, weights_faults = True,\n",
    "                                            faulty_addresses = locs, masked_faults = error_mask)\n",
    "\n",
    "Accs.append(acc)\n",
    "Accs_w.append(acc_w)\n",
    "Accs_a_w.append(acc_a_w)\n",
    "\n",
    "\n",
    "Acc=pd.DataFrame(Accs)\n",
    "Acc_w =pd.DataFrame(Accs_w)\n",
    "Acc_a_w =pd.DataFrame(Accs_a_w)\n",
    "\n",
    "%cd  '../error_mask_x/'\n",
    "\n",
    "buf_cero = pd.concat([Acc,Acc_w, Acc_a_w], axis=1, join='outer')\n",
    "buf_cero.columns =['Acc', 'A_w', 'Acc_a_w']\n",
    "buf_cero.to_excel('ResNet_fichero_fichero_707_060.xlsx', sheet_name='fichero_707_060', index=False)\n",
    "\n",
    "print(' completada: ', datetime.now().strftime(\"%H:%M:%S\"))\n",
    "print(' completada: ', datetime.now().strftime(\"%H:%M:%S\"))\n"
   ]
  },
  {
   "cell_type": "code",
   "execution_count": 53,
   "metadata": {
    "colab": {
     "base_uri": "https://localhost:8080/"
    },
    "id": "tU13iHd51pCe",
    "outputId": "3f7d2c9f-c058-4c8c-fab8-0e5936a62027"
   },
   "outputs": [
    {
     "name": "stdout",
     "output_type": "stream",
     "text": [
      "/home/reynier/py_projects/Deployments/Data/mask_volteada/VC_707\n"
     ]
    }
   ],
   "source": [
    "%cd '../../Data/mask_volteada/VC_707'"
   ]
  },
  {
   "cell_type": "code",
   "execution_count": 54,
   "metadata": {
    "id": "9XBpOXWG1pCe"
   },
   "outputs": [],
   "source": [
    "locs = load_obj('locs_054')\n",
    "error_mask = load_obj('error_mask_054')"
   ]
  },
  {
   "cell_type": "code",
   "execution_count": 55,
   "metadata": {
    "colab": {
     "base_uri": "https://localhost:8080/"
    },
    "id": "pZlZOSAb1pCf",
    "outputId": "6cb329fb-2c21-4fc6-a3b6-0aa49329ed4a"
   },
   "outputs": [
    {
     "name": "stdout",
     "output_type": "stream",
     "text": [
      "/home/reynier/py_projects/Deployments/ResNet50/Weights\n"
     ]
    }
   ],
   "source": [
    "%cd  '../../../ResNet50/Weights/'"
   ]
  },
  {
   "cell_type": "code",
   "execution_count": 56,
   "metadata": {
    "colab": {
     "base_uri": "https://localhost:8080/"
    },
    "id": "8BbOFEWY1pCf",
    "outputId": "b9df0e76-ac27-44de-f1d7-5c34e45dfbb3"
   },
   "outputs": [
    {
     "name": "stdout",
     "output_type": "stream",
     "text": [
      "/home/reynier/py_projects/Deployments/ResNet50/mask_volteada\n",
      " completada:  15:46:37\n",
      " completada:  15:46:37\n"
     ]
    }
   ],
   "source": [
    "Accs = []\n",
    "Accs_w = []\n",
    "Accs_a_w = []\n",
    "\n",
    "\n",
    "\n",
    "buffer_size= 16777216\n",
    "\n",
    "\n",
    "loss,acc   = CheckAccuracyAndLoss('ResNet', test_ds, 'weights.data', output_shape=8, input_shape = (150,150,3),\n",
    "                                            act_frac_size = 11, act_int_size = 4, wgt_frac_size = 14, wgt_int_size = 1,\n",
    "                                            batch_size=batch_size, verbose = 0, aging_active = True, weights_faults = False,\n",
    "                                            faulty_addresses = locs, masked_faults = error_mask)\n",
    "\n",
    "loss,acc_w   = CheckAccuracyAndLoss('ResNet', test_ds, 'weights.data', output_shape=8, input_shape = (150,150,3),\n",
    "                                            act_frac_size = 11, act_int_size = 4, wgt_frac_size = 14, wgt_int_size = 1,\n",
    "                                            batch_size=batch_size, verbose = 0, aging_active = True, weights_faults = True,\n",
    "                                            faulty_addresses = locs, masked_faults = error_mask)\n",
    "\n",
    "loss,acc_a_w   = CheckAccuracyAndLoss('ResNet', test_ds, 'weights.data', output_shape=8, input_shape = (150,150,3),\n",
    "                                            act_frac_size = 11, act_int_size = 4, wgt_frac_size = 14, wgt_int_size = 1,\n",
    "                                            batch_size=batch_size, verbose = 0, aging_active = False, weights_faults = True,\n",
    "                                            faulty_addresses = locs, masked_faults = error_mask)\n",
    "\n",
    "Accs.append(acc)\n",
    "Accs_w.append(acc_w)\n",
    "Accs_a_w.append(acc_a_w)\n",
    "\n",
    "\n",
    "Acc=pd.DataFrame(Accs)\n",
    "Acc_w =pd.DataFrame(Accs_w)\n",
    "Acc_a_w =pd.DataFrame(Accs_a_w)\n",
    "\n",
    "%cd  '../mask_volteada/'\n",
    "\n",
    "buf_cero = pd.concat([Acc,Acc_w, Acc_a_w], axis=1, join='outer')\n",
    "buf_cero.columns =['Acc', 'A_w', 'Acc_a_w']\n",
    "buf_cero.to_excel('ResNet_fichero_fichero_707_054.xlsx', sheet_name='fichero_707_054', index=False)\n",
    "\n",
    "print(' completada: ', datetime.now().strftime(\"%H:%M:%S\"))\n",
    "print(' completada: ', datetime.now().strftime(\"%H:%M:%S\"))\n"
   ]
  },
  {
   "cell_type": "code",
   "execution_count": 57,
   "metadata": {
    "colab": {
     "base_uri": "https://localhost:8080/"
    },
    "id": "CTzEEjYA4pGW",
    "outputId": "5ab146f2-a720-4a89-86bc-e0bf7e97ea2d"
   },
   "outputs": [
    {
     "name": "stdout",
     "output_type": "stream",
     "text": [
      "/home/reynier/py_projects/Deployments/Data/byte_x/VC_707\n"
     ]
    }
   ],
   "source": [
    "%cd '../../Data/byte_x/VC_707'"
   ]
  },
  {
   "cell_type": "code",
   "execution_count": 58,
   "metadata": {
    "id": "hrLF_KAz4pGX"
   },
   "outputs": [],
   "source": [
    "locs = load_obj('locs_054')\n",
    "error_mask = load_obj('error_mask_054')"
   ]
  },
  {
   "cell_type": "code",
   "execution_count": 59,
   "metadata": {
    "colab": {
     "base_uri": "https://localhost:8080/"
    },
    "id": "mNnRkpOP4pGY",
    "outputId": "1607b787-cedd-4208-86af-0974369db723"
   },
   "outputs": [
    {
     "name": "stdout",
     "output_type": "stream",
     "text": [
      "/home/reynier/py_projects/Deployments/ResNet50/Weights\n"
     ]
    }
   ],
   "source": [
    "%cd  '../../../ResNet50/Weights/'"
   ]
  },
  {
   "cell_type": "code",
   "execution_count": 60,
   "metadata": {
    "colab": {
     "base_uri": "https://localhost:8080/"
    },
    "id": "yQ7qpVy-4pGY",
    "outputId": "df2d89fa-c038-4217-8af9-ef67f49611d2"
   },
   "outputs": [
    {
     "name": "stdout",
     "output_type": "stream",
     "text": [
      "/home/reynier/py_projects/Deployments/ResNet50/byte_x\n",
      " completada:  15:47:23\n",
      " completada:  15:47:23\n"
     ]
    }
   ],
   "source": [
    "Accs = []\n",
    "Accs_w = []\n",
    "Accs_a_w = []\n",
    "\n",
    "\n",
    "\n",
    "buffer_size= 16777216\n",
    "\n",
    "\n",
    "loss,acc   = CheckAccuracyAndLoss('ResNet', test_ds, 'weights.data', output_shape=8, input_shape = (150,150,3),\n",
    "                                            act_frac_size = 11, act_int_size = 4, wgt_frac_size = 14, wgt_int_size = 1,\n",
    "                                            batch_size=batch_size, verbose = 0, aging_active = True, weights_faults = False,\n",
    "                                            faulty_addresses = locs, masked_faults = error_mask)\n",
    "\n",
    "loss,acc_w   = CheckAccuracyAndLoss('ResNet', test_ds, 'weights.data', output_shape=8, input_shape = (150,150,3),\n",
    "                                            act_frac_size = 11, act_int_size = 4, wgt_frac_size = 14, wgt_int_size = 1,\n",
    "                                            batch_size=batch_size, verbose = 0, aging_active = True, weights_faults = True,\n",
    "                                            faulty_addresses = locs, masked_faults = error_mask)\n",
    "\n",
    "loss,acc_a_w   = CheckAccuracyAndLoss('ResNet', test_ds, 'weights.data', output_shape=8, input_shape = (150,150,3),\n",
    "                                            act_frac_size = 11, act_int_size = 4, wgt_frac_size = 14, wgt_int_size = 1,\n",
    "                                            batch_size=batch_size, verbose = 0, aging_active = False, weights_faults = True,\n",
    "                                            faulty_addresses = locs, masked_faults = error_mask)\n",
    "\n",
    "Accs.append(acc)\n",
    "Accs_w.append(acc_w)\n",
    "Accs_a_w.append(acc_a_w)\n",
    "\n",
    "\n",
    "Acc=pd.DataFrame(Accs)\n",
    "Acc_w =pd.DataFrame(Accs_w)\n",
    "Acc_a_w =pd.DataFrame(Accs_a_w)\n",
    "\n",
    "%cd  '../byte_x/'\n",
    "\n",
    "buf_cero = pd.concat([Acc,Acc_w, Acc_a_w], axis=1, join='outer')\n",
    "buf_cero.columns =['Acc', 'A_w', 'Acc_a_w']\n",
    "buf_cero.to_excel('ResNet_fichero_fichero_707_054.xlsx', sheet_name='fichero_707_054', index=False)\n",
    "\n",
    "print(' completada: ', datetime.now().strftime(\"%H:%M:%S\"))\n",
    "print(' completada: ', datetime.now().strftime(\"%H:%M:%S\"))\n"
   ]
  },
  {
   "cell_type": "code",
   "execution_count": 61,
   "metadata": {
    "colab": {
     "base_uri": "https://localhost:8080/"
    },
    "id": "CTzEEjYA4pGW",
    "outputId": "5ab146f2-a720-4a89-86bc-e0bf7e97ea2d"
   },
   "outputs": [
    {
     "name": "stdout",
     "output_type": "stream",
     "text": [
      "/home/reynier/py_projects/Deployments/Data/byte_x/VC_707\n"
     ]
    }
   ],
   "source": [
    "%cd '../../Data/byte_x/VC_707'"
   ]
  },
  {
   "cell_type": "code",
   "execution_count": 62,
   "metadata": {
    "colab": {
     "base_uri": "https://localhost:8080/"
    },
    "id": "mNnRkpOP4pGY",
    "outputId": "1607b787-cedd-4208-86af-0974369db723"
   },
   "outputs": [
    {
     "name": "stdout",
     "output_type": "stream",
     "text": [
      "/home/reynier/py_projects/Deployments/ResNet50/Weights\n"
     ]
    }
   ],
   "source": [
    "%cd  '../../../ResNet50/Weights/'"
   ]
  },
  {
   "cell_type": "code",
   "execution_count": 63,
   "metadata": {},
   "outputs": [
    {
     "name": "stdout",
     "output_type": "stream",
     "text": [
      "/home/reynier/py_projects/Deployments/Data/byte_x/VC_707\n",
      "tamaño de locs 9439\n",
      "/home/reynier/py_projects/Deployments/ResNet50/Weights\n",
      "0.8119999766349792\n",
      "/home/reynier/py_projects/Deployments/Data/byte_x/VC_707\n",
      "tamaño de locs 3191\n",
      "/home/reynier/py_projects/Deployments/ResNet50/Weights\n",
      "0.8119999766349792\n",
      "/home/reynier/py_projects/Deployments/Data/byte_x/VC_707\n",
      "tamaño de locs 1126\n",
      "/home/reynier/py_projects/Deployments/ResNet50/Weights\n",
      "0.8119999766349792\n",
      "/home/reynier/py_projects/Deployments/Data/byte_x/VC_707\n",
      "tamaño de locs 337\n",
      "/home/reynier/py_projects/Deployments/ResNet50/Weights\n",
      "0.8119999766349792\n",
      "/home/reynier/py_projects/Deployments/Data/byte_x/VC_707\n",
      "tamaño de locs 56\n",
      "/home/reynier/py_projects/Deployments/ResNet50/Weights\n",
      "0.8119999766349792\n",
      "/home/reynier/py_projects/Deployments/Data/byte_x/VC_707\n",
      "tamaño de locs 6\n",
      "/home/reynier/py_projects/Deployments/ResNet50/Weights\n",
      "0.8119999766349792\n",
      "/home/reynier/py_projects/Deployments/Data/byte_x/VC_707\n",
      "tamaño de locs 2\n",
      "/home/reynier/py_projects/Deployments/ResNet50/Weights\n",
      "0.8119999766349792\n",
      " completada:  15:48:15\n",
      " completada:  15:48:15\n"
     ]
    }
   ],
   "source": [
    "Accs = []\n",
    "\n",
    "vol=54\n",
    "for i in range(7):\n",
    "    %cd '../../Data/byte_x/VC_707'\n",
    "    error_mask = load_obj('error_mask_0' + str(vol))\n",
    "    locs = load_obj('locs_0' + str(vol))\n",
    "\n",
    "    vol = vol + 1\n",
    "    print('tamaño de locs', len(locs))\n",
    "    \n",
    "    %cd  '../../../ResNet50/Weights/'\n",
    "    \n",
    "    loss,acc   = CheckAccuracyAndLoss('ResNet', test_ds, 'weights.data', output_shape=8, input_shape = (150,150,3),\n",
    "                                            act_frac_size = 11, act_int_size = 4, wgt_frac_size = 14, wgt_int_size = 1,\n",
    "                                            batch_size=batch_size, verbose = 0, aging_active = True, weights_faults = False,\n",
    "                                            faulty_addresses = locs, masked_faults = error_mask)\n",
    "    \n",
    "    Accs.append(acc)\n",
    "    print(acc)\n",
    "    \n",
    "Acc_ResNet=pd.DataFrame(Accs)\n",
    "\n",
    "buf_cero = pd.concat([Acc_ResNet], axis=1, join='outer')\n",
    "buf_cero.columns =['Acc']\n",
    "buf_cero.to_excel('ResNet_fichero_fichero_Flip-patch.xlsx', sheet_name='report', index=False)\n",
    "\n",
    "print(' completada: ', datetime.now().strftime(\"%H:%M:%S\"))\n",
    "print(' completada: ', datetime.now().strftime(\"%H:%M:%S\"))"
   ]
  },
  {
   "cell_type": "code",
   "execution_count": 64,
   "metadata": {},
   "outputs": [
    {
     "name": "stdout",
     "output_type": "stream",
     "text": [
      "/home/reynier/py_projects/Deployments/Data/ECC/VC_707\n",
      "tamaño de locs 9439\n",
      "/home/reynier/py_projects/Deployments/ResNet50/Weights\n",
      "0.828000009059906\n",
      "/home/reynier/py_projects/Deployments/Data/ECC/VC_707\n",
      "tamaño de locs 3191\n",
      "/home/reynier/py_projects/Deployments/ResNet50/Weights\n",
      "0.8119999766349792\n",
      "/home/reynier/py_projects/Deployments/Data/ECC/VC_707\n",
      "tamaño de locs 1126\n",
      "/home/reynier/py_projects/Deployments/ResNet50/Weights\n",
      "0.8159999847412109\n",
      "/home/reynier/py_projects/Deployments/Data/ECC/VC_707\n",
      "tamaño de locs 337\n",
      "/home/reynier/py_projects/Deployments/ResNet50/Weights\n",
      "0.8119999766349792\n",
      "/home/reynier/py_projects/Deployments/Data/ECC/VC_707\n",
      "tamaño de locs 56\n",
      "/home/reynier/py_projects/Deployments/ResNet50/Weights\n",
      "0.8119999766349792\n",
      "/home/reynier/py_projects/Deployments/Data/ECC/VC_707\n",
      "tamaño de locs 6\n",
      "/home/reynier/py_projects/Deployments/ResNet50/Weights\n",
      "0.8119999766349792\n",
      "/home/reynier/py_projects/Deployments/Data/ECC/VC_707\n",
      "tamaño de locs 9439\n",
      "/home/reynier/py_projects/Deployments/ResNet50/Weights\n",
      "0.828000009059906\n",
      " completada:  15:49:19\n",
      " completada:  15:49:19\n"
     ]
    }
   ],
   "source": [
    "Accs = []\n",
    "\n",
    "vol=54\n",
    "for i in range(7):\n",
    "    %cd '../../Data/ECC/VC_707'\n",
    "    error_mask = load_obj('error_mask_0' + str(vol))\n",
    "    locs = load_obj('locs_0' + str(vol))\n",
    "\n",
    "    vol = vol + 1\n",
    "    print('tamaño de locs', len(locs))\n",
    "    \n",
    "    %cd  '../../../ResNet50/Weights/'\n",
    "    \n",
    "    loss,acc   = CheckAccuracyAndLoss('ResNet', test_ds, 'weights.data', output_shape=8, input_shape = (150,150,3),\n",
    "                                            act_frac_size = 11, act_int_size = 4, wgt_frac_size = 14, wgt_int_size = 1,\n",
    "                                            batch_size=batch_size, verbose = 0, aging_active = True, weights_faults = False,\n",
    "                                            faulty_addresses = locs, masked_faults = error_mask)\n",
    "    \n",
    "    Accs.append(acc)\n",
    "    print(acc)\n",
    "    \n",
    "Acc_ResNet=pd.DataFrame(Accs)\n",
    "\n",
    "buf_cero = pd.concat([Acc_ResNet], axis=1, join='outer')\n",
    "buf_cero.columns =['Acc']\n",
    "buf_cero.to_excel('ResNet_fichero_fichero_ECC.xlsx', sheet_name='report', index=False)\n",
    "\n",
    "print(' completada: ', datetime.now().strftime(\"%H:%M:%S\"))\n",
    "print(' completada: ', datetime.now().strftime(\"%H:%M:%S\"))"
   ]
  },
  {
   "cell_type": "code",
   "execution_count": 65,
   "metadata": {},
   "outputs": [
    {
     "name": "stdout",
     "output_type": "stream",
     "text": [
      "/home/reynier/py_projects/Deployments/Data/ECCx/VC_707\n",
      "tamaño de locs 9439\n",
      "/home/reynier/py_projects/Deployments/ResNet50/Weights\n",
      "0.6399999856948853\n",
      "/home/reynier/py_projects/Deployments/Data/ECCx/VC_707\n",
      "tamaño de locs 3191\n",
      "/home/reynier/py_projects/Deployments/ResNet50/Weights\n",
      "0.7039999961853027\n",
      "/home/reynier/py_projects/Deployments/Data/ECCx/VC_707\n",
      "tamaño de locs 1126\n",
      "/home/reynier/py_projects/Deployments/ResNet50/Weights\n",
      "0.8159999847412109\n",
      "/home/reynier/py_projects/Deployments/Data/ECCx/VC_707\n",
      "tamaño de locs 337\n",
      "/home/reynier/py_projects/Deployments/ResNet50/Weights\n",
      "0.8119999766349792\n",
      "/home/reynier/py_projects/Deployments/Data/ECCx/VC_707\n",
      "tamaño de locs 56\n",
      "/home/reynier/py_projects/Deployments/ResNet50/Weights\n",
      "0.8119999766349792\n",
      "/home/reynier/py_projects/Deployments/Data/ECCx/VC_707\n",
      "tamaño de locs 6\n",
      "/home/reynier/py_projects/Deployments/ResNet50/Weights\n",
      "0.8119999766349792\n",
      "/home/reynier/py_projects/Deployments/Data/ECCx/VC_707\n",
      "tamaño de locs 2\n",
      "/home/reynier/py_projects/Deployments/ResNet50/Weights\n",
      "0.8119999766349792\n",
      " completada:  15:50:11\n",
      " completada:  15:50:11\n"
     ]
    }
   ],
   "source": [
    "Accs = []\n",
    "\n",
    "vol=54\n",
    "for i in range(7):\n",
    "    %cd '../../Data/ECCx/VC_707'\n",
    "    error_mask = load_obj('error_mask_0' + str(vol))\n",
    "    locs = load_obj('locs_0' + str(vol))\n",
    "\n",
    "    vol = vol + 1\n",
    "    print('tamaño de locs', len(locs))\n",
    "    \n",
    "    %cd  '../../../ResNet50/Weights/'\n",
    "    \n",
    "    loss,acc   = CheckAccuracyAndLoss('ResNet', test_ds, 'weights.data', output_shape=8, input_shape = (150,150,3),\n",
    "                                            act_frac_size = 11, act_int_size = 4, wgt_frac_size = 14, wgt_int_size = 1,\n",
    "                                            batch_size=batch_size, verbose = 0, aging_active = True, weights_faults = False,\n",
    "                                            faulty_addresses = locs, masked_faults = error_mask)\n",
    "    \n",
    "    Accs.append(acc)\n",
    "    print(acc)\n",
    "    \n",
    "Acc_ResNet=pd.DataFrame(Accs)\n",
    "\n",
    "buf_cero = pd.concat([Acc_ResNet], axis=1, join='outer')\n",
    "buf_cero.columns =['Acc']\n",
    "buf_cero.to_excel('ResNet_fichero_fichero_Iso-Area_ECC.xlsx', sheet_name='report', index=False)\n",
    "\n",
    "print(' completada: ', datetime.now().strftime(\"%H:%M:%S\"))\n",
    "print(' completada: ', datetime.now().strftime(\"%H:%M:%S\"))"
   ]
  },
  {
   "cell_type": "code",
   "execution_count": 66,
   "metadata": {},
   "outputs": [
    {
     "name": "stdout",
     "output_type": "stream",
     "text": [
      "/home/reynier/py_projects/Deployments/Data/mask_volteada/VC_707\n",
      "tamaño de locs 9439\n",
      "/home/reynier/py_projects/Deployments/ResNet50/Weights\n",
      "0.8119999766349792\n",
      "/home/reynier/py_projects/Deployments/Data/mask_volteada/VC_707\n",
      "tamaño de locs 3191\n",
      "/home/reynier/py_projects/Deployments/ResNet50/Weights\n",
      "0.8119999766349792\n",
      "/home/reynier/py_projects/Deployments/Data/mask_volteada/VC_707\n",
      "tamaño de locs 1126\n",
      "/home/reynier/py_projects/Deployments/ResNet50/Weights\n",
      "0.8119999766349792\n",
      "/home/reynier/py_projects/Deployments/Data/mask_volteada/VC_707\n",
      "tamaño de locs 337\n",
      "/home/reynier/py_projects/Deployments/ResNet50/Weights\n",
      "0.8119999766349792\n",
      "/home/reynier/py_projects/Deployments/Data/mask_volteada/VC_707\n",
      "tamaño de locs 56\n",
      "/home/reynier/py_projects/Deployments/ResNet50/Weights\n",
      "0.8119999766349792\n",
      "/home/reynier/py_projects/Deployments/Data/mask_volteada/VC_707\n",
      "tamaño de locs 6\n",
      "/home/reynier/py_projects/Deployments/ResNet50/Weights\n",
      "0.8119999766349792\n",
      "/home/reynier/py_projects/Deployments/Data/mask_volteada/VC_707\n",
      "tamaño de locs 2\n",
      "/home/reynier/py_projects/Deployments/ResNet50/Weights\n",
      "0.8119999766349792\n",
      " completada:  16:37:35\n",
      " completada:  16:37:35\n"
     ]
    }
   ],
   "source": [
    "Accs = []\n",
    "\n",
    "vol=54\n",
    "for i in range(7):\n",
    "    %cd '../../Data/mask_volteada/VC_707'\n",
    "    error_mask = load_obj('error_mask_0' + str(vol))\n",
    "    locs = load_obj('locs_0' + str(vol))\n",
    "\n",
    "    vol = vol + 1\n",
    "    print('tamaño de locs', len(locs))\n",
    "    \n",
    "    %cd  '../../../ResNet50/Weights/'\n",
    "    \n",
    "    loss,acc   = CheckAccuracyAndLoss('ResNet', test_ds, 'weights.data', output_shape=8, input_shape = (150,150,3),\n",
    "                                            act_frac_size = 11, act_int_size = 4, wgt_frac_size = 14, wgt_int_size = 1,\n",
    "                                            batch_size=batch_size, verbose = 0, aging_active = True, weights_faults = False,\n",
    "                                            faulty_addresses = locs, masked_faults = error_mask)\n",
    "    \n",
    "    Accs.append(acc)\n",
    "    print(acc)\n",
    "    \n",
    "Acc_ResNet=pd.DataFrame(Accs)\n",
    "\n",
    "buf_cero = pd.concat([Acc_ResNet], axis=1, join='outer')\n",
    "buf_cero.columns =['Acc']\n",
    "buf_cero.to_excel('ResNet_fichero_fichero_mask_volteada.xlsx', sheet_name='report', index=False)\n",
    "\n",
    "print(' completada: ', datetime.now().strftime(\"%H:%M:%S\"))\n",
    "print(' completada: ', datetime.now().strftime(\"%H:%M:%S\"))"
   ]
  }
 ],
 "metadata": {
  "accelerator": "GPU",
  "colab": {
   "provenance": []
  },
  "gpuClass": "standard",
  "kernelspec": {
   "display_name": "Python 3 (ipykernel)",
   "language": "python",
   "name": "python3"
  },
  "language_info": {
   "codemirror_mode": {
    "name": "ipython",
    "version": 3
   },
   "file_extension": ".py",
   "mimetype": "text/x-python",
   "name": "python",
   "nbconvert_exporter": "python",
   "pygments_lexer": "ipython3",
   "version": "3.8.0"
  },
  "widgets": {
   "application/vnd.jupyter.widget-state+json": {
    "000fee8c39b74ee68af41a52c4bade46": {
     "model_module": "@jupyter-widgets/base",
     "model_module_version": "1.2.0",
     "model_name": "LayoutModel",
     "state": {
      "_model_module": "@jupyter-widgets/base",
      "_model_module_version": "1.2.0",
      "_model_name": "LayoutModel",
      "_view_count": null,
      "_view_module": "@jupyter-widgets/base",
      "_view_module_version": "1.2.0",
      "_view_name": "LayoutView",
      "align_content": null,
      "align_items": null,
      "align_self": null,
      "border": null,
      "bottom": null,
      "display": null,
      "flex": null,
      "flex_flow": null,
      "grid_area": null,
      "grid_auto_columns": null,
      "grid_auto_flow": null,
      "grid_auto_rows": null,
      "grid_column": null,
      "grid_gap": null,
      "grid_row": null,
      "grid_template_areas": null,
      "grid_template_columns": null,
      "grid_template_rows": null,
      "height": null,
      "justify_content": null,
      "justify_items": null,
      "left": null,
      "margin": null,
      "max_height": null,
      "max_width": null,
      "min_height": null,
      "min_width": null,
      "object_fit": null,
      "object_position": null,
      "order": null,
      "overflow": null,
      "overflow_x": null,
      "overflow_y": null,
      "padding": null,
      "right": null,
      "top": null,
      "visibility": null,
      "width": null
     }
    },
    "00b5d49210f24330a954102f6d62313d": {
     "model_module": "@jupyter-widgets/controls",
     "model_module_version": "1.5.0",
     "model_name": "HTMLModel",
     "state": {
      "_dom_classes": [],
      "_model_module": "@jupyter-widgets/controls",
      "_model_module_version": "1.5.0",
      "_model_name": "HTMLModel",
      "_view_count": null,
      "_view_module": "@jupyter-widgets/controls",
      "_view_module_version": "1.5.0",
      "_view_name": "HTMLView",
      "description": "",
      "description_tooltip": null,
      "layout": "IPY_MODEL_b4e51762602c482192611a31f4ff3779",
      "placeholder": "​",
      "style": "IPY_MODEL_b8c3749a5f334c6cb8130b93d6172d42",
      "value": "Generating splits...: 100%"
     }
    },
    "0d9d19b37d9a41c98de64b7e99a269a7": {
     "model_module": "@jupyter-widgets/controls",
     "model_module_version": "1.5.0",
     "model_name": "DescriptionStyleModel",
     "state": {
      "_model_module": "@jupyter-widgets/controls",
      "_model_module_version": "1.5.0",
      "_model_name": "DescriptionStyleModel",
      "_view_count": null,
      "_view_module": "@jupyter-widgets/base",
      "_view_module_version": "1.2.0",
      "_view_name": "StyleView",
      "description_width": ""
     }
    },
    "0e0bfb0ca9cc4180ba2e73f90bdad2ff": {
     "model_module": "@jupyter-widgets/controls",
     "model_module_version": "1.5.0",
     "model_name": "DescriptionStyleModel",
     "state": {
      "_model_module": "@jupyter-widgets/controls",
      "_model_module_version": "1.5.0",
      "_model_name": "DescriptionStyleModel",
      "_view_count": null,
      "_view_module": "@jupyter-widgets/base",
      "_view_module_version": "1.2.0",
      "_view_name": "StyleView",
      "description_width": ""
     }
    },
    "11bfec7bae734183ae70fb8118e6a9c5": {
     "model_module": "@jupyter-widgets/controls",
     "model_module_version": "1.5.0",
     "model_name": "HTMLModel",
     "state": {
      "_dom_classes": [],
      "_model_module": "@jupyter-widgets/controls",
      "_model_module_version": "1.5.0",
      "_model_name": "HTMLModel",
      "_view_count": null,
      "_view_module": "@jupyter-widgets/controls",
      "_view_module_version": "1.5.0",
      "_view_name": "HTMLView",
      "description": "",
      "description_tooltip": null,
      "layout": "IPY_MODEL_c32a4bb9e94d43229f3df7d774e1fef8",
      "placeholder": "​",
      "style": "IPY_MODEL_43b50f0d2dbc467a916f2dfcfa6e8356",
      "value": " 3878/5000 [00:00&lt;00:00, 19217.78 examples/s]"
     }
    },
    "138558e184c149a8bd0cb8768fc330a2": {
     "model_module": "@jupyter-widgets/base",
     "model_module_version": "1.2.0",
     "model_name": "LayoutModel",
     "state": {
      "_model_module": "@jupyter-widgets/base",
      "_model_module_version": "1.2.0",
      "_model_name": "LayoutModel",
      "_view_count": null,
      "_view_module": "@jupyter-widgets/base",
      "_view_module_version": "1.2.0",
      "_view_name": "LayoutView",
      "align_content": null,
      "align_items": null,
      "align_self": null,
      "border": null,
      "bottom": null,
      "display": null,
      "flex": null,
      "flex_flow": null,
      "grid_area": null,
      "grid_auto_columns": null,
      "grid_auto_flow": null,
      "grid_auto_rows": null,
      "grid_column": null,
      "grid_gap": null,
      "grid_row": null,
      "grid_template_areas": null,
      "grid_template_columns": null,
      "grid_template_rows": null,
      "height": null,
      "justify_content": null,
      "justify_items": null,
      "left": null,
      "margin": null,
      "max_height": null,
      "max_width": null,
      "min_height": null,
      "min_width": null,
      "object_fit": null,
      "object_position": null,
      "order": null,
      "overflow": null,
      "overflow_x": null,
      "overflow_y": null,
      "padding": null,
      "right": null,
      "top": null,
      "visibility": null,
      "width": "20px"
     }
    },
    "1b16ed282f9c4526a081d685ad8895e7": {
     "model_module": "@jupyter-widgets/controls",
     "model_module_version": "1.5.0",
     "model_name": "FloatProgressModel",
     "state": {
      "_dom_classes": [],
      "_model_module": "@jupyter-widgets/controls",
      "_model_module_version": "1.5.0",
      "_model_name": "FloatProgressModel",
      "_view_count": null,
      "_view_module": "@jupyter-widgets/controls",
      "_view_module_version": "1.5.0",
      "_view_name": "ProgressView",
      "bar_style": "success",
      "description": "",
      "description_tooltip": null,
      "layout": "IPY_MODEL_3837f04095ea48c7bc2ec355e6216278",
      "max": 1,
      "min": 0,
      "orientation": "horizontal",
      "style": "IPY_MODEL_4b47b3022326425c8849785d9cad6eea",
      "value": 1
     }
    },
    "1b594d75463940c3b92465b5759c2ab9": {
     "model_module": "@jupyter-widgets/controls",
     "model_module_version": "1.5.0",
     "model_name": "FloatProgressModel",
     "state": {
      "_dom_classes": [],
      "_model_module": "@jupyter-widgets/controls",
      "_model_module_version": "1.5.0",
      "_model_name": "FloatProgressModel",
      "_view_count": null,
      "_view_module": "@jupyter-widgets/controls",
      "_view_module_version": "1.5.0",
      "_view_name": "ProgressView",
      "bar_style": "success",
      "description": "",
      "description_tooltip": null,
      "layout": "IPY_MODEL_b374dc806e2e4e3fa118913fa22ae0b3",
      "max": 1,
      "min": 0,
      "orientation": "horizontal",
      "style": "IPY_MODEL_65729d31b04449f28687bf76adcb3124",
      "value": 1
     }
    },
    "1c942873956542f8924a1d3721759a2d": {
     "model_module": "@jupyter-widgets/controls",
     "model_module_version": "1.5.0",
     "model_name": "DescriptionStyleModel",
     "state": {
      "_model_module": "@jupyter-widgets/controls",
      "_model_module_version": "1.5.0",
      "_model_name": "DescriptionStyleModel",
      "_view_count": null,
      "_view_module": "@jupyter-widgets/base",
      "_view_module_version": "1.2.0",
      "_view_name": "StyleView",
      "description_width": ""
     }
    },
    "1e0ec9046eae43c1a70eceee9d667ad2": {
     "model_module": "@jupyter-widgets/controls",
     "model_module_version": "1.5.0",
     "model_name": "HTMLModel",
     "state": {
      "_dom_classes": [],
      "_model_module": "@jupyter-widgets/controls",
      "_model_module_version": "1.5.0",
      "_model_name": "HTMLModel",
      "_view_count": null,
      "_view_module": "@jupyter-widgets/controls",
      "_view_module_version": "1.5.0",
      "_view_name": "HTMLView",
      "description": "",
      "description_tooltip": null,
      "layout": "IPY_MODEL_3c575591ed6348d998a9f1a98be1d1f3",
      "placeholder": "​",
      "style": "IPY_MODEL_74209965e7214aaf93dcd25daf3a675c",
      "value": "Shuffling /root/tensorflow_datasets/colorectal_histology/2.0.0.incompleteFQJDDK/colorectal_histology-train.tfrecord*...:  78%"
     }
    },
    "2198bf2434c34933af2ab6b14c27cb6e": {
     "model_module": "@jupyter-widgets/controls",
     "model_module_version": "1.5.0",
     "model_name": "DescriptionStyleModel",
     "state": {
      "_model_module": "@jupyter-widgets/controls",
      "_model_module_version": "1.5.0",
      "_model_name": "DescriptionStyleModel",
      "_view_count": null,
      "_view_module": "@jupyter-widgets/base",
      "_view_module_version": "1.2.0",
      "_view_name": "StyleView",
      "description_width": ""
     }
    },
    "21e424c930664fb0b8b697b01111695f": {
     "model_module": "@jupyter-widgets/base",
     "model_module_version": "1.2.0",
     "model_name": "LayoutModel",
     "state": {
      "_model_module": "@jupyter-widgets/base",
      "_model_module_version": "1.2.0",
      "_model_name": "LayoutModel",
      "_view_count": null,
      "_view_module": "@jupyter-widgets/base",
      "_view_module_version": "1.2.0",
      "_view_name": "LayoutView",
      "align_content": null,
      "align_items": null,
      "align_self": null,
      "border": null,
      "bottom": null,
      "display": null,
      "flex": null,
      "flex_flow": null,
      "grid_area": null,
      "grid_auto_columns": null,
      "grid_auto_flow": null,
      "grid_auto_rows": null,
      "grid_column": null,
      "grid_gap": null,
      "grid_row": null,
      "grid_template_areas": null,
      "grid_template_columns": null,
      "grid_template_rows": null,
      "height": null,
      "justify_content": null,
      "justify_items": null,
      "left": null,
      "margin": null,
      "max_height": null,
      "max_width": null,
      "min_height": null,
      "min_width": null,
      "object_fit": null,
      "object_position": null,
      "order": null,
      "overflow": null,
      "overflow_x": null,
      "overflow_y": null,
      "padding": null,
      "right": null,
      "top": null,
      "visibility": null,
      "width": "20px"
     }
    },
    "22c943d78e7243449e3e5e97a2c2bdab": {
     "model_module": "@jupyter-widgets/base",
     "model_module_version": "1.2.0",
     "model_name": "LayoutModel",
     "state": {
      "_model_module": "@jupyter-widgets/base",
      "_model_module_version": "1.2.0",
      "_model_name": "LayoutModel",
      "_view_count": null,
      "_view_module": "@jupyter-widgets/base",
      "_view_module_version": "1.2.0",
      "_view_name": "LayoutView",
      "align_content": null,
      "align_items": null,
      "align_self": null,
      "border": null,
      "bottom": null,
      "display": null,
      "flex": null,
      "flex_flow": null,
      "grid_area": null,
      "grid_auto_columns": null,
      "grid_auto_flow": null,
      "grid_auto_rows": null,
      "grid_column": null,
      "grid_gap": null,
      "grid_row": null,
      "grid_template_areas": null,
      "grid_template_columns": null,
      "grid_template_rows": null,
      "height": null,
      "justify_content": null,
      "justify_items": null,
      "left": null,
      "margin": null,
      "max_height": null,
      "max_width": null,
      "min_height": null,
      "min_width": null,
      "object_fit": null,
      "object_position": null,
      "order": null,
      "overflow": null,
      "overflow_x": null,
      "overflow_y": null,
      "padding": null,
      "right": null,
      "top": null,
      "visibility": null,
      "width": null
     }
    },
    "233948680fcc4cb281647995cacbf489": {
     "model_module": "@jupyter-widgets/base",
     "model_module_version": "1.2.0",
     "model_name": "LayoutModel",
     "state": {
      "_model_module": "@jupyter-widgets/base",
      "_model_module_version": "1.2.0",
      "_model_name": "LayoutModel",
      "_view_count": null,
      "_view_module": "@jupyter-widgets/base",
      "_view_module_version": "1.2.0",
      "_view_name": "LayoutView",
      "align_content": null,
      "align_items": null,
      "align_self": null,
      "border": null,
      "bottom": null,
      "display": null,
      "flex": null,
      "flex_flow": null,
      "grid_area": null,
      "grid_auto_columns": null,
      "grid_auto_flow": null,
      "grid_auto_rows": null,
      "grid_column": null,
      "grid_gap": null,
      "grid_row": null,
      "grid_template_areas": null,
      "grid_template_columns": null,
      "grid_template_rows": null,
      "height": null,
      "justify_content": null,
      "justify_items": null,
      "left": null,
      "margin": null,
      "max_height": null,
      "max_width": null,
      "min_height": null,
      "min_width": null,
      "object_fit": null,
      "object_position": null,
      "order": null,
      "overflow": null,
      "overflow_x": null,
      "overflow_y": null,
      "padding": null,
      "right": null,
      "top": null,
      "visibility": "hidden",
      "width": null
     }
    },
    "2a06bda49c024406b39e0115e26c78ab": {
     "model_module": "@jupyter-widgets/controls",
     "model_module_version": "1.5.0",
     "model_name": "HBoxModel",
     "state": {
      "_dom_classes": [],
      "_model_module": "@jupyter-widgets/controls",
      "_model_module_version": "1.5.0",
      "_model_name": "HBoxModel",
      "_view_count": null,
      "_view_module": "@jupyter-widgets/controls",
      "_view_module_version": "1.5.0",
      "_view_name": "HBoxView",
      "box_style": "",
      "children": [
       "IPY_MODEL_00b5d49210f24330a954102f6d62313d",
       "IPY_MODEL_9c20378530544e4b936a92470e15e9b0",
       "IPY_MODEL_c39ef7bad57544eca7bf46d3318e1d16"
      ],
      "layout": "IPY_MODEL_233948680fcc4cb281647995cacbf489"
     }
    },
    "317004f8489b4817b3c8f39915f4d86e": {
     "model_module": "@jupyter-widgets/controls",
     "model_module_version": "1.5.0",
     "model_name": "DescriptionStyleModel",
     "state": {
      "_model_module": "@jupyter-widgets/controls",
      "_model_module_version": "1.5.0",
      "_model_name": "DescriptionStyleModel",
      "_view_count": null,
      "_view_module": "@jupyter-widgets/base",
      "_view_module_version": "1.2.0",
      "_view_name": "StyleView",
      "description_width": ""
     }
    },
    "342fa5cea4f44f4796365ab861faba6e": {
     "model_module": "@jupyter-widgets/controls",
     "model_module_version": "1.5.0",
     "model_name": "ProgressStyleModel",
     "state": {
      "_model_module": "@jupyter-widgets/controls",
      "_model_module_version": "1.5.0",
      "_model_name": "ProgressStyleModel",
      "_view_count": null,
      "_view_module": "@jupyter-widgets/base",
      "_view_module_version": "1.2.0",
      "_view_name": "StyleView",
      "bar_color": null,
      "description_width": ""
     }
    },
    "3467232377da490fb7f160137f5bd3f6": {
     "model_module": "@jupyter-widgets/controls",
     "model_module_version": "1.5.0",
     "model_name": "DescriptionStyleModel",
     "state": {
      "_model_module": "@jupyter-widgets/controls",
      "_model_module_version": "1.5.0",
      "_model_name": "DescriptionStyleModel",
      "_view_count": null,
      "_view_module": "@jupyter-widgets/base",
      "_view_module_version": "1.2.0",
      "_view_name": "StyleView",
      "description_width": ""
     }
    },
    "375383fe26f64dadb76e1e09a737a344": {
     "model_module": "@jupyter-widgets/controls",
     "model_module_version": "1.5.0",
     "model_name": "FloatProgressModel",
     "state": {
      "_dom_classes": [],
      "_model_module": "@jupyter-widgets/controls",
      "_model_module_version": "1.5.0",
      "_model_name": "FloatProgressModel",
      "_view_count": null,
      "_view_module": "@jupyter-widgets/controls",
      "_view_module_version": "1.5.0",
      "_view_name": "ProgressView",
      "bar_style": "",
      "description": "",
      "description_tooltip": null,
      "layout": "IPY_MODEL_6e96eadbb83841d699804486ffe32189",
      "max": 5000,
      "min": 0,
      "orientation": "horizontal",
      "style": "IPY_MODEL_bd12a885fdda48388ffe6b7cb64f50db",
      "value": 5000
     }
    },
    "3837f04095ea48c7bc2ec355e6216278": {
     "model_module": "@jupyter-widgets/base",
     "model_module_version": "1.2.0",
     "model_name": "LayoutModel",
     "state": {
      "_model_module": "@jupyter-widgets/base",
      "_model_module_version": "1.2.0",
      "_model_name": "LayoutModel",
      "_view_count": null,
      "_view_module": "@jupyter-widgets/base",
      "_view_module_version": "1.2.0",
      "_view_name": "LayoutView",
      "align_content": null,
      "align_items": null,
      "align_self": null,
      "border": null,
      "bottom": null,
      "display": null,
      "flex": null,
      "flex_flow": null,
      "grid_area": null,
      "grid_auto_columns": null,
      "grid_auto_flow": null,
      "grid_auto_rows": null,
      "grid_column": null,
      "grid_gap": null,
      "grid_row": null,
      "grid_template_areas": null,
      "grid_template_columns": null,
      "grid_template_rows": null,
      "height": null,
      "justify_content": null,
      "justify_items": null,
      "left": null,
      "margin": null,
      "max_height": null,
      "max_width": null,
      "min_height": null,
      "min_width": null,
      "object_fit": null,
      "object_position": null,
      "order": null,
      "overflow": null,
      "overflow_x": null,
      "overflow_y": null,
      "padding": null,
      "right": null,
      "top": null,
      "visibility": null,
      "width": "20px"
     }
    },
    "3c575591ed6348d998a9f1a98be1d1f3": {
     "model_module": "@jupyter-widgets/base",
     "model_module_version": "1.2.0",
     "model_name": "LayoutModel",
     "state": {
      "_model_module": "@jupyter-widgets/base",
      "_model_module_version": "1.2.0",
      "_model_name": "LayoutModel",
      "_view_count": null,
      "_view_module": "@jupyter-widgets/base",
      "_view_module_version": "1.2.0",
      "_view_name": "LayoutView",
      "align_content": null,
      "align_items": null,
      "align_self": null,
      "border": null,
      "bottom": null,
      "display": null,
      "flex": null,
      "flex_flow": null,
      "grid_area": null,
      "grid_auto_columns": null,
      "grid_auto_flow": null,
      "grid_auto_rows": null,
      "grid_column": null,
      "grid_gap": null,
      "grid_row": null,
      "grid_template_areas": null,
      "grid_template_columns": null,
      "grid_template_rows": null,
      "height": null,
      "justify_content": null,
      "justify_items": null,
      "left": null,
      "margin": null,
      "max_height": null,
      "max_width": null,
      "min_height": null,
      "min_width": null,
      "object_fit": null,
      "object_position": null,
      "order": null,
      "overflow": null,
      "overflow_x": null,
      "overflow_y": null,
      "padding": null,
      "right": null,
      "top": null,
      "visibility": null,
      "width": null
     }
    },
    "3eaaad0b7343411eb3ff52868bafc72e": {
     "model_module": "@jupyter-widgets/controls",
     "model_module_version": "1.5.0",
     "model_name": "HTMLModel",
     "state": {
      "_dom_classes": [],
      "_model_module": "@jupyter-widgets/controls",
      "_model_module_version": "1.5.0",
      "_model_name": "HTMLModel",
      "_view_count": null,
      "_view_module": "@jupyter-widgets/controls",
      "_view_module_version": "1.5.0",
      "_view_name": "HTMLView",
      "description": "",
      "description_tooltip": null,
      "layout": "IPY_MODEL_9f1f28ab68a8429bb06451598e5b6415",
      "placeholder": "​",
      "style": "IPY_MODEL_0d9d19b37d9a41c98de64b7e99a269a7",
      "value": "Dl Completed...: 100%"
     }
    },
    "3fa84cf68f4c4413ae97ea67d1a6faa2": {
     "model_module": "@jupyter-widgets/controls",
     "model_module_version": "1.5.0",
     "model_name": "HTMLModel",
     "state": {
      "_dom_classes": [],
      "_model_module": "@jupyter-widgets/controls",
      "_model_module_version": "1.5.0",
      "_model_name": "HTMLModel",
      "_view_count": null,
      "_view_module": "@jupyter-widgets/controls",
      "_view_module_version": "1.5.0",
      "_view_name": "HTMLView",
      "description": "",
      "description_tooltip": null,
      "layout": "IPY_MODEL_55fa05d527ef406c87678489dea5485c",
      "placeholder": "​",
      "style": "IPY_MODEL_6d34df63201b4552b8fd010df3a10e8b",
      "value": " 5000/? [00:45&lt;00:00, 171.49 examples/s]"
     }
    },
    "433f0927f3904745be96ca7024c88ac8": {
     "model_module": "@jupyter-widgets/controls",
     "model_module_version": "1.5.0",
     "model_name": "HBoxModel",
     "state": {
      "_dom_classes": [],
      "_model_module": "@jupyter-widgets/controls",
      "_model_module_version": "1.5.0",
      "_model_name": "HBoxModel",
      "_view_count": null,
      "_view_module": "@jupyter-widgets/controls",
      "_view_module_version": "1.5.0",
      "_view_name": "HBoxView",
      "box_style": "",
      "children": [
       "IPY_MODEL_f61d30b34ca94dd491eb04b4151cd675",
       "IPY_MODEL_489a3194279d4de782c13a0ea72ea337",
       "IPY_MODEL_9c643ed888f5426b8ef4934f80cc53f4"
      ],
      "layout": "IPY_MODEL_a25f50041ae046d68626fb887b6bfbe9"
     }
    },
    "43b50f0d2dbc467a916f2dfcfa6e8356": {
     "model_module": "@jupyter-widgets/controls",
     "model_module_version": "1.5.0",
     "model_name": "DescriptionStyleModel",
     "state": {
      "_model_module": "@jupyter-widgets/controls",
      "_model_module_version": "1.5.0",
      "_model_name": "DescriptionStyleModel",
      "_view_count": null,
      "_view_module": "@jupyter-widgets/base",
      "_view_module_version": "1.2.0",
      "_view_name": "StyleView",
      "description_width": ""
     }
    },
    "489a3194279d4de782c13a0ea72ea337": {
     "model_module": "@jupyter-widgets/controls",
     "model_module_version": "1.5.0",
     "model_name": "FloatProgressModel",
     "state": {
      "_dom_classes": [],
      "_model_module": "@jupyter-widgets/controls",
      "_model_module_version": "1.5.0",
      "_model_name": "FloatProgressModel",
      "_view_count": null,
      "_view_module": "@jupyter-widgets/controls",
      "_view_module_version": "1.5.0",
      "_view_name": "ProgressView",
      "bar_style": "success",
      "description": "",
      "description_tooltip": null,
      "layout": "IPY_MODEL_21e424c930664fb0b8b697b01111695f",
      "max": 1,
      "min": 0,
      "orientation": "horizontal",
      "style": "IPY_MODEL_587610cc288a4a09b8c76c38d34f5353",
      "value": 1
     }
    },
    "4b47b3022326425c8849785d9cad6eea": {
     "model_module": "@jupyter-widgets/controls",
     "model_module_version": "1.5.0",
     "model_name": "ProgressStyleModel",
     "state": {
      "_model_module": "@jupyter-widgets/controls",
      "_model_module_version": "1.5.0",
      "_model_name": "ProgressStyleModel",
      "_view_count": null,
      "_view_module": "@jupyter-widgets/base",
      "_view_module_version": "1.2.0",
      "_view_name": "StyleView",
      "bar_color": null,
      "description_width": ""
     }
    },
    "4bf65d1ad0b8402d8c6f1d601f573a85": {
     "model_module": "@jupyter-widgets/base",
     "model_module_version": "1.2.0",
     "model_name": "LayoutModel",
     "state": {
      "_model_module": "@jupyter-widgets/base",
      "_model_module_version": "1.2.0",
      "_model_name": "LayoutModel",
      "_view_count": null,
      "_view_module": "@jupyter-widgets/base",
      "_view_module_version": "1.2.0",
      "_view_name": "LayoutView",
      "align_content": null,
      "align_items": null,
      "align_self": null,
      "border": null,
      "bottom": null,
      "display": null,
      "flex": null,
      "flex_flow": null,
      "grid_area": null,
      "grid_auto_columns": null,
      "grid_auto_flow": null,
      "grid_auto_rows": null,
      "grid_column": null,
      "grid_gap": null,
      "grid_row": null,
      "grid_template_areas": null,
      "grid_template_columns": null,
      "grid_template_rows": null,
      "height": null,
      "justify_content": null,
      "justify_items": null,
      "left": null,
      "margin": null,
      "max_height": null,
      "max_width": null,
      "min_height": null,
      "min_width": null,
      "object_fit": null,
      "object_position": null,
      "order": null,
      "overflow": null,
      "overflow_x": null,
      "overflow_y": null,
      "padding": null,
      "right": null,
      "top": null,
      "visibility": null,
      "width": null
     }
    },
    "55fa05d527ef406c87678489dea5485c": {
     "model_module": "@jupyter-widgets/base",
     "model_module_version": "1.2.0",
     "model_name": "LayoutModel",
     "state": {
      "_model_module": "@jupyter-widgets/base",
      "_model_module_version": "1.2.0",
      "_model_name": "LayoutModel",
      "_view_count": null,
      "_view_module": "@jupyter-widgets/base",
      "_view_module_version": "1.2.0",
      "_view_name": "LayoutView",
      "align_content": null,
      "align_items": null,
      "align_self": null,
      "border": null,
      "bottom": null,
      "display": null,
      "flex": null,
      "flex_flow": null,
      "grid_area": null,
      "grid_auto_columns": null,
      "grid_auto_flow": null,
      "grid_auto_rows": null,
      "grid_column": null,
      "grid_gap": null,
      "grid_row": null,
      "grid_template_areas": null,
      "grid_template_columns": null,
      "grid_template_rows": null,
      "height": null,
      "justify_content": null,
      "justify_items": null,
      "left": null,
      "margin": null,
      "max_height": null,
      "max_width": null,
      "min_height": null,
      "min_width": null,
      "object_fit": null,
      "object_position": null,
      "order": null,
      "overflow": null,
      "overflow_x": null,
      "overflow_y": null,
      "padding": null,
      "right": null,
      "top": null,
      "visibility": null,
      "width": null
     }
    },
    "56dfd124425142ea93e76766a1f4955e": {
     "model_module": "@jupyter-widgets/base",
     "model_module_version": "1.2.0",
     "model_name": "LayoutModel",
     "state": {
      "_model_module": "@jupyter-widgets/base",
      "_model_module_version": "1.2.0",
      "_model_name": "LayoutModel",
      "_view_count": null,
      "_view_module": "@jupyter-widgets/base",
      "_view_module_version": "1.2.0",
      "_view_name": "LayoutView",
      "align_content": null,
      "align_items": null,
      "align_self": null,
      "border": null,
      "bottom": null,
      "display": null,
      "flex": null,
      "flex_flow": null,
      "grid_area": null,
      "grid_auto_columns": null,
      "grid_auto_flow": null,
      "grid_auto_rows": null,
      "grid_column": null,
      "grid_gap": null,
      "grid_row": null,
      "grid_template_areas": null,
      "grid_template_columns": null,
      "grid_template_rows": null,
      "height": null,
      "justify_content": null,
      "justify_items": null,
      "left": null,
      "margin": null,
      "max_height": null,
      "max_width": null,
      "min_height": null,
      "min_width": null,
      "object_fit": null,
      "object_position": null,
      "order": null,
      "overflow": null,
      "overflow_x": null,
      "overflow_y": null,
      "padding": null,
      "right": null,
      "top": null,
      "visibility": null,
      "width": null
     }
    },
    "587610cc288a4a09b8c76c38d34f5353": {
     "model_module": "@jupyter-widgets/controls",
     "model_module_version": "1.5.0",
     "model_name": "ProgressStyleModel",
     "state": {
      "_model_module": "@jupyter-widgets/controls",
      "_model_module_version": "1.5.0",
      "_model_name": "ProgressStyleModel",
      "_view_count": null,
      "_view_module": "@jupyter-widgets/base",
      "_view_module_version": "1.2.0",
      "_view_name": "StyleView",
      "bar_color": null,
      "description_width": ""
     }
    },
    "636547367c5242b2ab95f0ef94aca68d": {
     "model_module": "@jupyter-widgets/controls",
     "model_module_version": "1.5.0",
     "model_name": "FloatProgressModel",
     "state": {
      "_dom_classes": [],
      "_model_module": "@jupyter-widgets/controls",
      "_model_module_version": "1.5.0",
      "_model_name": "FloatProgressModel",
      "_view_count": null,
      "_view_module": "@jupyter-widgets/controls",
      "_view_module_version": "1.5.0",
      "_view_name": "ProgressView",
      "bar_style": "info",
      "description": "",
      "description_tooltip": null,
      "layout": "IPY_MODEL_138558e184c149a8bd0cb8768fc330a2",
      "max": 1,
      "min": 0,
      "orientation": "horizontal",
      "style": "IPY_MODEL_342fa5cea4f44f4796365ab861faba6e",
      "value": 1
     }
    },
    "65729d31b04449f28687bf76adcb3124": {
     "model_module": "@jupyter-widgets/controls",
     "model_module_version": "1.5.0",
     "model_name": "ProgressStyleModel",
     "state": {
      "_model_module": "@jupyter-widgets/controls",
      "_model_module_version": "1.5.0",
      "_model_name": "ProgressStyleModel",
      "_view_count": null,
      "_view_module": "@jupyter-widgets/base",
      "_view_module_version": "1.2.0",
      "_view_name": "StyleView",
      "bar_color": null,
      "description_width": ""
     }
    },
    "6d34df63201b4552b8fd010df3a10e8b": {
     "model_module": "@jupyter-widgets/controls",
     "model_module_version": "1.5.0",
     "model_name": "DescriptionStyleModel",
     "state": {
      "_model_module": "@jupyter-widgets/controls",
      "_model_module_version": "1.5.0",
      "_model_name": "DescriptionStyleModel",
      "_view_count": null,
      "_view_module": "@jupyter-widgets/base",
      "_view_module_version": "1.2.0",
      "_view_name": "StyleView",
      "description_width": ""
     }
    },
    "6e96eadbb83841d699804486ffe32189": {
     "model_module": "@jupyter-widgets/base",
     "model_module_version": "1.2.0",
     "model_name": "LayoutModel",
     "state": {
      "_model_module": "@jupyter-widgets/base",
      "_model_module_version": "1.2.0",
      "_model_name": "LayoutModel",
      "_view_count": null,
      "_view_module": "@jupyter-widgets/base",
      "_view_module_version": "1.2.0",
      "_view_name": "LayoutView",
      "align_content": null,
      "align_items": null,
      "align_self": null,
      "border": null,
      "bottom": null,
      "display": null,
      "flex": null,
      "flex_flow": null,
      "grid_area": null,
      "grid_auto_columns": null,
      "grid_auto_flow": null,
      "grid_auto_rows": null,
      "grid_column": null,
      "grid_gap": null,
      "grid_row": null,
      "grid_template_areas": null,
      "grid_template_columns": null,
      "grid_template_rows": null,
      "height": null,
      "justify_content": null,
      "justify_items": null,
      "left": null,
      "margin": null,
      "max_height": null,
      "max_width": null,
      "min_height": null,
      "min_width": null,
      "object_fit": null,
      "object_position": null,
      "order": null,
      "overflow": null,
      "overflow_x": null,
      "overflow_y": null,
      "padding": null,
      "right": null,
      "top": null,
      "visibility": null,
      "width": null
     }
    },
    "74209965e7214aaf93dcd25daf3a675c": {
     "model_module": "@jupyter-widgets/controls",
     "model_module_version": "1.5.0",
     "model_name": "DescriptionStyleModel",
     "state": {
      "_model_module": "@jupyter-widgets/controls",
      "_model_module_version": "1.5.0",
      "_model_name": "DescriptionStyleModel",
      "_view_count": null,
      "_view_module": "@jupyter-widgets/base",
      "_view_module_version": "1.2.0",
      "_view_name": "StyleView",
      "description_width": ""
     }
    },
    "7added79d0174996b90a468baa3a23b0": {
     "model_module": "@jupyter-widgets/controls",
     "model_module_version": "1.5.0",
     "model_name": "HTMLModel",
     "state": {
      "_dom_classes": [],
      "_model_module": "@jupyter-widgets/controls",
      "_model_module_version": "1.5.0",
      "_model_name": "HTMLModel",
      "_view_count": null,
      "_view_module": "@jupyter-widgets/controls",
      "_view_module_version": "1.5.0",
      "_view_name": "HTMLView",
      "description": "",
      "description_tooltip": null,
      "layout": "IPY_MODEL_22c943d78e7243449e3e5e97a2c2bdab",
      "placeholder": "​",
      "style": "IPY_MODEL_3467232377da490fb7f160137f5bd3f6",
      "value": " 1/1 [01:39&lt;00:00, 83.55s/ url]"
     }
    },
    "87f66c78d99c46278890a816814ff312": {
     "model_module": "@jupyter-widgets/controls",
     "model_module_version": "1.5.0",
     "model_name": "DescriptionStyleModel",
     "state": {
      "_model_module": "@jupyter-widgets/controls",
      "_model_module_version": "1.5.0",
      "_model_name": "DescriptionStyleModel",
      "_view_count": null,
      "_view_module": "@jupyter-widgets/base",
      "_view_module_version": "1.2.0",
      "_view_name": "StyleView",
      "description_width": ""
     }
    },
    "898d2c4005204f1dac72aa8962299b63": {
     "model_module": "@jupyter-widgets/controls",
     "model_module_version": "1.5.0",
     "model_name": "HTMLModel",
     "state": {
      "_dom_classes": [],
      "_model_module": "@jupyter-widgets/controls",
      "_model_module_version": "1.5.0",
      "_model_name": "HTMLModel",
      "_view_count": null,
      "_view_module": "@jupyter-widgets/controls",
      "_view_module_version": "1.5.0",
      "_view_name": "HTMLView",
      "description": "",
      "description_tooltip": null,
      "layout": "IPY_MODEL_a449acb9d7154774987934c4f45754dd",
      "placeholder": "​",
      "style": "IPY_MODEL_a3c428858d4d45719e7c45ad8f2a914d",
      "value": "Extraction completed...: 100%"
     }
    },
    "955b1e01e7ce444398e47bbcb2b69465": {
     "model_module": "@jupyter-widgets/base",
     "model_module_version": "1.2.0",
     "model_name": "LayoutModel",
     "state": {
      "_model_module": "@jupyter-widgets/base",
      "_model_module_version": "1.2.0",
      "_model_name": "LayoutModel",
      "_view_count": null,
      "_view_module": "@jupyter-widgets/base",
      "_view_module_version": "1.2.0",
      "_view_name": "LayoutView",
      "align_content": null,
      "align_items": null,
      "align_self": null,
      "border": null,
      "bottom": null,
      "display": null,
      "flex": null,
      "flex_flow": null,
      "grid_area": null,
      "grid_auto_columns": null,
      "grid_auto_flow": null,
      "grid_auto_rows": null,
      "grid_column": null,
      "grid_gap": null,
      "grid_row": null,
      "grid_template_areas": null,
      "grid_template_columns": null,
      "grid_template_rows": null,
      "height": null,
      "justify_content": null,
      "justify_items": null,
      "left": null,
      "margin": null,
      "max_height": null,
      "max_width": null,
      "min_height": null,
      "min_width": null,
      "object_fit": null,
      "object_position": null,
      "order": null,
      "overflow": null,
      "overflow_x": null,
      "overflow_y": null,
      "padding": null,
      "right": null,
      "top": null,
      "visibility": null,
      "width": null
     }
    },
    "96629f0067e74f42962fc7a4cfa6523f": {
     "model_module": "@jupyter-widgets/base",
     "model_module_version": "1.2.0",
     "model_name": "LayoutModel",
     "state": {
      "_model_module": "@jupyter-widgets/base",
      "_model_module_version": "1.2.0",
      "_model_name": "LayoutModel",
      "_view_count": null,
      "_view_module": "@jupyter-widgets/base",
      "_view_module_version": "1.2.0",
      "_view_name": "LayoutView",
      "align_content": null,
      "align_items": null,
      "align_self": null,
      "border": null,
      "bottom": null,
      "display": null,
      "flex": null,
      "flex_flow": null,
      "grid_area": null,
      "grid_auto_columns": null,
      "grid_auto_flow": null,
      "grid_auto_rows": null,
      "grid_column": null,
      "grid_gap": null,
      "grid_row": null,
      "grid_template_areas": null,
      "grid_template_columns": null,
      "grid_template_rows": null,
      "height": null,
      "justify_content": null,
      "justify_items": null,
      "left": null,
      "margin": null,
      "max_height": null,
      "max_width": null,
      "min_height": null,
      "min_width": null,
      "object_fit": null,
      "object_position": null,
      "order": null,
      "overflow": null,
      "overflow_x": null,
      "overflow_y": null,
      "padding": null,
      "right": null,
      "top": null,
      "visibility": "hidden",
      "width": null
     }
    },
    "9c20378530544e4b936a92470e15e9b0": {
     "model_module": "@jupyter-widgets/controls",
     "model_module_version": "1.5.0",
     "model_name": "FloatProgressModel",
     "state": {
      "_dom_classes": [],
      "_model_module": "@jupyter-widgets/controls",
      "_model_module_version": "1.5.0",
      "_model_name": "FloatProgressModel",
      "_view_count": null,
      "_view_module": "@jupyter-widgets/controls",
      "_view_module_version": "1.5.0",
      "_view_name": "ProgressView",
      "bar_style": "",
      "description": "",
      "description_tooltip": null,
      "layout": "IPY_MODEL_4bf65d1ad0b8402d8c6f1d601f573a85",
      "max": 1,
      "min": 0,
      "orientation": "horizontal",
      "style": "IPY_MODEL_a5b93eb289d64ecfbc6525356b347df9",
      "value": 1
     }
    },
    "9c643ed888f5426b8ef4934f80cc53f4": {
     "model_module": "@jupyter-widgets/controls",
     "model_module_version": "1.5.0",
     "model_name": "HTMLModel",
     "state": {
      "_dom_classes": [],
      "_model_module": "@jupyter-widgets/controls",
      "_model_module_version": "1.5.0",
      "_model_name": "HTMLModel",
      "_view_count": null,
      "_view_module": "@jupyter-widgets/controls",
      "_view_module_version": "1.5.0",
      "_view_name": "HTMLView",
      "description": "",
      "description_tooltip": null,
      "layout": "IPY_MODEL_ade56437cf4b486fb26f910ce5a98276",
      "placeholder": "​",
      "style": "IPY_MODEL_2198bf2434c34933af2ab6b14c27cb6e",
      "value": " 246/246 [01:39&lt;00:00,  2.61 MiB/s]"
     }
    },
    "9f1f28ab68a8429bb06451598e5b6415": {
     "model_module": "@jupyter-widgets/base",
     "model_module_version": "1.2.0",
     "model_name": "LayoutModel",
     "state": {
      "_model_module": "@jupyter-widgets/base",
      "_model_module_version": "1.2.0",
      "_model_name": "LayoutModel",
      "_view_count": null,
      "_view_module": "@jupyter-widgets/base",
      "_view_module_version": "1.2.0",
      "_view_name": "LayoutView",
      "align_content": null,
      "align_items": null,
      "align_self": null,
      "border": null,
      "bottom": null,
      "display": null,
      "flex": null,
      "flex_flow": null,
      "grid_area": null,
      "grid_auto_columns": null,
      "grid_auto_flow": null,
      "grid_auto_rows": null,
      "grid_column": null,
      "grid_gap": null,
      "grid_row": null,
      "grid_template_areas": null,
      "grid_template_columns": null,
      "grid_template_rows": null,
      "height": null,
      "justify_content": null,
      "justify_items": null,
      "left": null,
      "margin": null,
      "max_height": null,
      "max_width": null,
      "min_height": null,
      "min_width": null,
      "object_fit": null,
      "object_position": null,
      "order": null,
      "overflow": null,
      "overflow_x": null,
      "overflow_y": null,
      "padding": null,
      "right": null,
      "top": null,
      "visibility": null,
      "width": null
     }
    },
    "a25f50041ae046d68626fb887b6bfbe9": {
     "model_module": "@jupyter-widgets/base",
     "model_module_version": "1.2.0",
     "model_name": "LayoutModel",
     "state": {
      "_model_module": "@jupyter-widgets/base",
      "_model_module_version": "1.2.0",
      "_model_name": "LayoutModel",
      "_view_count": null,
      "_view_module": "@jupyter-widgets/base",
      "_view_module_version": "1.2.0",
      "_view_name": "LayoutView",
      "align_content": null,
      "align_items": null,
      "align_self": null,
      "border": null,
      "bottom": null,
      "display": null,
      "flex": null,
      "flex_flow": null,
      "grid_area": null,
      "grid_auto_columns": null,
      "grid_auto_flow": null,
      "grid_auto_rows": null,
      "grid_column": null,
      "grid_gap": null,
      "grid_row": null,
      "grid_template_areas": null,
      "grid_template_columns": null,
      "grid_template_rows": null,
      "height": null,
      "justify_content": null,
      "justify_items": null,
      "left": null,
      "margin": null,
      "max_height": null,
      "max_width": null,
      "min_height": null,
      "min_width": null,
      "object_fit": null,
      "object_position": null,
      "order": null,
      "overflow": null,
      "overflow_x": null,
      "overflow_y": null,
      "padding": null,
      "right": null,
      "top": null,
      "visibility": null,
      "width": null
     }
    },
    "a3c428858d4d45719e7c45ad8f2a914d": {
     "model_module": "@jupyter-widgets/controls",
     "model_module_version": "1.5.0",
     "model_name": "DescriptionStyleModel",
     "state": {
      "_model_module": "@jupyter-widgets/controls",
      "_model_module_version": "1.5.0",
      "_model_name": "DescriptionStyleModel",
      "_view_count": null,
      "_view_module": "@jupyter-widgets/base",
      "_view_module_version": "1.2.0",
      "_view_name": "StyleView",
      "description_width": ""
     }
    },
    "a449acb9d7154774987934c4f45754dd": {
     "model_module": "@jupyter-widgets/base",
     "model_module_version": "1.2.0",
     "model_name": "LayoutModel",
     "state": {
      "_model_module": "@jupyter-widgets/base",
      "_model_module_version": "1.2.0",
      "_model_name": "LayoutModel",
      "_view_count": null,
      "_view_module": "@jupyter-widgets/base",
      "_view_module_version": "1.2.0",
      "_view_name": "LayoutView",
      "align_content": null,
      "align_items": null,
      "align_self": null,
      "border": null,
      "bottom": null,
      "display": null,
      "flex": null,
      "flex_flow": null,
      "grid_area": null,
      "grid_auto_columns": null,
      "grid_auto_flow": null,
      "grid_auto_rows": null,
      "grid_column": null,
      "grid_gap": null,
      "grid_row": null,
      "grid_template_areas": null,
      "grid_template_columns": null,
      "grid_template_rows": null,
      "height": null,
      "justify_content": null,
      "justify_items": null,
      "left": null,
      "margin": null,
      "max_height": null,
      "max_width": null,
      "min_height": null,
      "min_width": null,
      "object_fit": null,
      "object_position": null,
      "order": null,
      "overflow": null,
      "overflow_x": null,
      "overflow_y": null,
      "padding": null,
      "right": null,
      "top": null,
      "visibility": null,
      "width": null
     }
    },
    "a5b93eb289d64ecfbc6525356b347df9": {
     "model_module": "@jupyter-widgets/controls",
     "model_module_version": "1.5.0",
     "model_name": "ProgressStyleModel",
     "state": {
      "_model_module": "@jupyter-widgets/controls",
      "_model_module_version": "1.5.0",
      "_model_name": "ProgressStyleModel",
      "_view_count": null,
      "_view_module": "@jupyter-widgets/base",
      "_view_module_version": "1.2.0",
      "_view_name": "StyleView",
      "bar_color": null,
      "description_width": ""
     }
    },
    "a6e62ee9ea4d4df7b7cd0990848c1c36": {
     "model_module": "@jupyter-widgets/base",
     "model_module_version": "1.2.0",
     "model_name": "LayoutModel",
     "state": {
      "_model_module": "@jupyter-widgets/base",
      "_model_module_version": "1.2.0",
      "_model_name": "LayoutModel",
      "_view_count": null,
      "_view_module": "@jupyter-widgets/base",
      "_view_module_version": "1.2.0",
      "_view_name": "LayoutView",
      "align_content": null,
      "align_items": null,
      "align_self": null,
      "border": null,
      "bottom": null,
      "display": null,
      "flex": null,
      "flex_flow": null,
      "grid_area": null,
      "grid_auto_columns": null,
      "grid_auto_flow": null,
      "grid_auto_rows": null,
      "grid_column": null,
      "grid_gap": null,
      "grid_row": null,
      "grid_template_areas": null,
      "grid_template_columns": null,
      "grid_template_rows": null,
      "height": null,
      "justify_content": null,
      "justify_items": null,
      "left": null,
      "margin": null,
      "max_height": null,
      "max_width": null,
      "min_height": null,
      "min_width": null,
      "object_fit": null,
      "object_position": null,
      "order": null,
      "overflow": null,
      "overflow_x": null,
      "overflow_y": null,
      "padding": null,
      "right": null,
      "top": null,
      "visibility": null,
      "width": null
     }
    },
    "ade56437cf4b486fb26f910ce5a98276": {
     "model_module": "@jupyter-widgets/base",
     "model_module_version": "1.2.0",
     "model_name": "LayoutModel",
     "state": {
      "_model_module": "@jupyter-widgets/base",
      "_model_module_version": "1.2.0",
      "_model_name": "LayoutModel",
      "_view_count": null,
      "_view_module": "@jupyter-widgets/base",
      "_view_module_version": "1.2.0",
      "_view_name": "LayoutView",
      "align_content": null,
      "align_items": null,
      "align_self": null,
      "border": null,
      "bottom": null,
      "display": null,
      "flex": null,
      "flex_flow": null,
      "grid_area": null,
      "grid_auto_columns": null,
      "grid_auto_flow": null,
      "grid_auto_rows": null,
      "grid_column": null,
      "grid_gap": null,
      "grid_row": null,
      "grid_template_areas": null,
      "grid_template_columns": null,
      "grid_template_rows": null,
      "height": null,
      "justify_content": null,
      "justify_items": null,
      "left": null,
      "margin": null,
      "max_height": null,
      "max_width": null,
      "min_height": null,
      "min_width": null,
      "object_fit": null,
      "object_position": null,
      "order": null,
      "overflow": null,
      "overflow_x": null,
      "overflow_y": null,
      "padding": null,
      "right": null,
      "top": null,
      "visibility": null,
      "width": null
     }
    },
    "b00478de347d445f848a72822d5d223c": {
     "model_module": "@jupyter-widgets/controls",
     "model_module_version": "1.5.0",
     "model_name": "HBoxModel",
     "state": {
      "_dom_classes": [],
      "_model_module": "@jupyter-widgets/controls",
      "_model_module_version": "1.5.0",
      "_model_name": "HBoxModel",
      "_view_count": null,
      "_view_module": "@jupyter-widgets/controls",
      "_view_module_version": "1.5.0",
      "_view_name": "HBoxView",
      "box_style": "",
      "children": [
       "IPY_MODEL_1e0ec9046eae43c1a70eceee9d667ad2",
       "IPY_MODEL_375383fe26f64dadb76e1e09a737a344",
       "IPY_MODEL_11bfec7bae734183ae70fb8118e6a9c5"
      ],
      "layout": "IPY_MODEL_bf233d6f11504027bd5a47310b1b80a0"
     }
    },
    "b374dc806e2e4e3fa118913fa22ae0b3": {
     "model_module": "@jupyter-widgets/base",
     "model_module_version": "1.2.0",
     "model_name": "LayoutModel",
     "state": {
      "_model_module": "@jupyter-widgets/base",
      "_model_module_version": "1.2.0",
      "_model_name": "LayoutModel",
      "_view_count": null,
      "_view_module": "@jupyter-widgets/base",
      "_view_module_version": "1.2.0",
      "_view_name": "LayoutView",
      "align_content": null,
      "align_items": null,
      "align_self": null,
      "border": null,
      "bottom": null,
      "display": null,
      "flex": null,
      "flex_flow": null,
      "grid_area": null,
      "grid_auto_columns": null,
      "grid_auto_flow": null,
      "grid_auto_rows": null,
      "grid_column": null,
      "grid_gap": null,
      "grid_row": null,
      "grid_template_areas": null,
      "grid_template_columns": null,
      "grid_template_rows": null,
      "height": null,
      "justify_content": null,
      "justify_items": null,
      "left": null,
      "margin": null,
      "max_height": null,
      "max_width": null,
      "min_height": null,
      "min_width": null,
      "object_fit": null,
      "object_position": null,
      "order": null,
      "overflow": null,
      "overflow_x": null,
      "overflow_y": null,
      "padding": null,
      "right": null,
      "top": null,
      "visibility": null,
      "width": "20px"
     }
    },
    "b4e51762602c482192611a31f4ff3779": {
     "model_module": "@jupyter-widgets/base",
     "model_module_version": "1.2.0",
     "model_name": "LayoutModel",
     "state": {
      "_model_module": "@jupyter-widgets/base",
      "_model_module_version": "1.2.0",
      "_model_name": "LayoutModel",
      "_view_count": null,
      "_view_module": "@jupyter-widgets/base",
      "_view_module_version": "1.2.0",
      "_view_name": "LayoutView",
      "align_content": null,
      "align_items": null,
      "align_self": null,
      "border": null,
      "bottom": null,
      "display": null,
      "flex": null,
      "flex_flow": null,
      "grid_area": null,
      "grid_auto_columns": null,
      "grid_auto_flow": null,
      "grid_auto_rows": null,
      "grid_column": null,
      "grid_gap": null,
      "grid_row": null,
      "grid_template_areas": null,
      "grid_template_columns": null,
      "grid_template_rows": null,
      "height": null,
      "justify_content": null,
      "justify_items": null,
      "left": null,
      "margin": null,
      "max_height": null,
      "max_width": null,
      "min_height": null,
      "min_width": null,
      "object_fit": null,
      "object_position": null,
      "order": null,
      "overflow": null,
      "overflow_x": null,
      "overflow_y": null,
      "padding": null,
      "right": null,
      "top": null,
      "visibility": null,
      "width": null
     }
    },
    "b81834febd774c219576f1b414652d57": {
     "model_module": "@jupyter-widgets/controls",
     "model_module_version": "1.5.0",
     "model_name": "HTMLModel",
     "state": {
      "_dom_classes": [],
      "_model_module": "@jupyter-widgets/controls",
      "_model_module_version": "1.5.0",
      "_model_name": "HTMLModel",
      "_view_count": null,
      "_view_module": "@jupyter-widgets/controls",
      "_view_module_version": "1.5.0",
      "_view_name": "HTMLView",
      "description": "",
      "description_tooltip": null,
      "layout": "IPY_MODEL_ba38cc293c6b45b99a8f7fb2d8de6dbb",
      "placeholder": "​",
      "style": "IPY_MODEL_317004f8489b4817b3c8f39915f4d86e",
      "value": " 5000/5000 [01:39&lt;00:00, 1043.29 file/s]"
     }
    },
    "b8c3749a5f334c6cb8130b93d6172d42": {
     "model_module": "@jupyter-widgets/controls",
     "model_module_version": "1.5.0",
     "model_name": "DescriptionStyleModel",
     "state": {
      "_model_module": "@jupyter-widgets/controls",
      "_model_module_version": "1.5.0",
      "_model_name": "DescriptionStyleModel",
      "_view_count": null,
      "_view_module": "@jupyter-widgets/base",
      "_view_module_version": "1.2.0",
      "_view_name": "StyleView",
      "description_width": ""
     }
    },
    "ba38cc293c6b45b99a8f7fb2d8de6dbb": {
     "model_module": "@jupyter-widgets/base",
     "model_module_version": "1.2.0",
     "model_name": "LayoutModel",
     "state": {
      "_model_module": "@jupyter-widgets/base",
      "_model_module_version": "1.2.0",
      "_model_name": "LayoutModel",
      "_view_count": null,
      "_view_module": "@jupyter-widgets/base",
      "_view_module_version": "1.2.0",
      "_view_name": "LayoutView",
      "align_content": null,
      "align_items": null,
      "align_self": null,
      "border": null,
      "bottom": null,
      "display": null,
      "flex": null,
      "flex_flow": null,
      "grid_area": null,
      "grid_auto_columns": null,
      "grid_auto_flow": null,
      "grid_auto_rows": null,
      "grid_column": null,
      "grid_gap": null,
      "grid_row": null,
      "grid_template_areas": null,
      "grid_template_columns": null,
      "grid_template_rows": null,
      "height": null,
      "justify_content": null,
      "justify_items": null,
      "left": null,
      "margin": null,
      "max_height": null,
      "max_width": null,
      "min_height": null,
      "min_width": null,
      "object_fit": null,
      "object_position": null,
      "order": null,
      "overflow": null,
      "overflow_x": null,
      "overflow_y": null,
      "padding": null,
      "right": null,
      "top": null,
      "visibility": null,
      "width": null
     }
    },
    "bd12a885fdda48388ffe6b7cb64f50db": {
     "model_module": "@jupyter-widgets/controls",
     "model_module_version": "1.5.0",
     "model_name": "ProgressStyleModel",
     "state": {
      "_model_module": "@jupyter-widgets/controls",
      "_model_module_version": "1.5.0",
      "_model_name": "ProgressStyleModel",
      "_view_count": null,
      "_view_module": "@jupyter-widgets/base",
      "_view_module_version": "1.2.0",
      "_view_name": "StyleView",
      "bar_color": null,
      "description_width": ""
     }
    },
    "bf233d6f11504027bd5a47310b1b80a0": {
     "model_module": "@jupyter-widgets/base",
     "model_module_version": "1.2.0",
     "model_name": "LayoutModel",
     "state": {
      "_model_module": "@jupyter-widgets/base",
      "_model_module_version": "1.2.0",
      "_model_name": "LayoutModel",
      "_view_count": null,
      "_view_module": "@jupyter-widgets/base",
      "_view_module_version": "1.2.0",
      "_view_name": "LayoutView",
      "align_content": null,
      "align_items": null,
      "align_self": null,
      "border": null,
      "bottom": null,
      "display": null,
      "flex": null,
      "flex_flow": null,
      "grid_area": null,
      "grid_auto_columns": null,
      "grid_auto_flow": null,
      "grid_auto_rows": null,
      "grid_column": null,
      "grid_gap": null,
      "grid_row": null,
      "grid_template_areas": null,
      "grid_template_columns": null,
      "grid_template_rows": null,
      "height": null,
      "justify_content": null,
      "justify_items": null,
      "left": null,
      "margin": null,
      "max_height": null,
      "max_width": null,
      "min_height": null,
      "min_width": null,
      "object_fit": null,
      "object_position": null,
      "order": null,
      "overflow": null,
      "overflow_x": null,
      "overflow_y": null,
      "padding": null,
      "right": null,
      "top": null,
      "visibility": "hidden",
      "width": null
     }
    },
    "c32a4bb9e94d43229f3df7d774e1fef8": {
     "model_module": "@jupyter-widgets/base",
     "model_module_version": "1.2.0",
     "model_name": "LayoutModel",
     "state": {
      "_model_module": "@jupyter-widgets/base",
      "_model_module_version": "1.2.0",
      "_model_name": "LayoutModel",
      "_view_count": null,
      "_view_module": "@jupyter-widgets/base",
      "_view_module_version": "1.2.0",
      "_view_name": "LayoutView",
      "align_content": null,
      "align_items": null,
      "align_self": null,
      "border": null,
      "bottom": null,
      "display": null,
      "flex": null,
      "flex_flow": null,
      "grid_area": null,
      "grid_auto_columns": null,
      "grid_auto_flow": null,
      "grid_auto_rows": null,
      "grid_column": null,
      "grid_gap": null,
      "grid_row": null,
      "grid_template_areas": null,
      "grid_template_columns": null,
      "grid_template_rows": null,
      "height": null,
      "justify_content": null,
      "justify_items": null,
      "left": null,
      "margin": null,
      "max_height": null,
      "max_width": null,
      "min_height": null,
      "min_width": null,
      "object_fit": null,
      "object_position": null,
      "order": null,
      "overflow": null,
      "overflow_x": null,
      "overflow_y": null,
      "padding": null,
      "right": null,
      "top": null,
      "visibility": null,
      "width": null
     }
    },
    "c39ef7bad57544eca7bf46d3318e1d16": {
     "model_module": "@jupyter-widgets/controls",
     "model_module_version": "1.5.0",
     "model_name": "HTMLModel",
     "state": {
      "_dom_classes": [],
      "_model_module": "@jupyter-widgets/controls",
      "_model_module_version": "1.5.0",
      "_model_name": "HTMLModel",
      "_view_count": null,
      "_view_module": "@jupyter-widgets/controls",
      "_view_module_version": "1.5.0",
      "_view_name": "HTMLView",
      "description": "",
      "description_tooltip": null,
      "layout": "IPY_MODEL_955b1e01e7ce444398e47bbcb2b69465",
      "placeholder": "​",
      "style": "IPY_MODEL_0e0bfb0ca9cc4180ba2e73f90bdad2ff",
      "value": " 1/1 [00:45&lt;00:00, 45.43s/ splits]"
     }
    },
    "cee5d16a99eb464fb820ce04830c62fd": {
     "model_module": "@jupyter-widgets/controls",
     "model_module_version": "1.5.0",
     "model_name": "HBoxModel",
     "state": {
      "_dom_classes": [],
      "_model_module": "@jupyter-widgets/controls",
      "_model_module_version": "1.5.0",
      "_model_name": "HBoxModel",
      "_view_count": null,
      "_view_module": "@jupyter-widgets/controls",
      "_view_module_version": "1.5.0",
      "_view_name": "HBoxView",
      "box_style": "",
      "children": [
       "IPY_MODEL_898d2c4005204f1dac72aa8962299b63",
       "IPY_MODEL_1b16ed282f9c4526a081d685ad8895e7",
       "IPY_MODEL_b81834febd774c219576f1b414652d57"
      ],
      "layout": "IPY_MODEL_a6e62ee9ea4d4df7b7cd0990848c1c36"
     }
    },
    "d2dd8e1f61be49c0b437c0dd0dc9ad43": {
     "model_module": "@jupyter-widgets/controls",
     "model_module_version": "1.5.0",
     "model_name": "HTMLModel",
     "state": {
      "_dom_classes": [],
      "_model_module": "@jupyter-widgets/controls",
      "_model_module_version": "1.5.0",
      "_model_name": "HTMLModel",
      "_view_count": null,
      "_view_module": "@jupyter-widgets/controls",
      "_view_module_version": "1.5.0",
      "_view_name": "HTMLView",
      "description": "",
      "description_tooltip": null,
      "layout": "IPY_MODEL_e6f96ce8d6d04afc8474476865dcaaca",
      "placeholder": "​",
      "style": "IPY_MODEL_87f66c78d99c46278890a816814ff312",
      "value": "Generating train examples...: "
     }
    },
    "d575c8f4193b4d02aa5de08b8cb1909a": {
     "model_module": "@jupyter-widgets/controls",
     "model_module_version": "1.5.0",
     "model_name": "HBoxModel",
     "state": {
      "_dom_classes": [],
      "_model_module": "@jupyter-widgets/controls",
      "_model_module_version": "1.5.0",
      "_model_name": "HBoxModel",
      "_view_count": null,
      "_view_module": "@jupyter-widgets/controls",
      "_view_module_version": "1.5.0",
      "_view_name": "HBoxView",
      "box_style": "",
      "children": [
       "IPY_MODEL_3eaaad0b7343411eb3ff52868bafc72e",
       "IPY_MODEL_1b594d75463940c3b92465b5759c2ab9",
       "IPY_MODEL_7added79d0174996b90a468baa3a23b0"
      ],
      "layout": "IPY_MODEL_000fee8c39b74ee68af41a52c4bade46"
     }
    },
    "e6f96ce8d6d04afc8474476865dcaaca": {
     "model_module": "@jupyter-widgets/base",
     "model_module_version": "1.2.0",
     "model_name": "LayoutModel",
     "state": {
      "_model_module": "@jupyter-widgets/base",
      "_model_module_version": "1.2.0",
      "_model_name": "LayoutModel",
      "_view_count": null,
      "_view_module": "@jupyter-widgets/base",
      "_view_module_version": "1.2.0",
      "_view_name": "LayoutView",
      "align_content": null,
      "align_items": null,
      "align_self": null,
      "border": null,
      "bottom": null,
      "display": null,
      "flex": null,
      "flex_flow": null,
      "grid_area": null,
      "grid_auto_columns": null,
      "grid_auto_flow": null,
      "grid_auto_rows": null,
      "grid_column": null,
      "grid_gap": null,
      "grid_row": null,
      "grid_template_areas": null,
      "grid_template_columns": null,
      "grid_template_rows": null,
      "height": null,
      "justify_content": null,
      "justify_items": null,
      "left": null,
      "margin": null,
      "max_height": null,
      "max_width": null,
      "min_height": null,
      "min_width": null,
      "object_fit": null,
      "object_position": null,
      "order": null,
      "overflow": null,
      "overflow_x": null,
      "overflow_y": null,
      "padding": null,
      "right": null,
      "top": null,
      "visibility": null,
      "width": null
     }
    },
    "ed22e17dc65a469cb94a89dfe6ba883c": {
     "model_module": "@jupyter-widgets/controls",
     "model_module_version": "1.5.0",
     "model_name": "HBoxModel",
     "state": {
      "_dom_classes": [],
      "_model_module": "@jupyter-widgets/controls",
      "_model_module_version": "1.5.0",
      "_model_name": "HBoxModel",
      "_view_count": null,
      "_view_module": "@jupyter-widgets/controls",
      "_view_module_version": "1.5.0",
      "_view_name": "HBoxView",
      "box_style": "",
      "children": [
       "IPY_MODEL_d2dd8e1f61be49c0b437c0dd0dc9ad43",
       "IPY_MODEL_636547367c5242b2ab95f0ef94aca68d",
       "IPY_MODEL_3fa84cf68f4c4413ae97ea67d1a6faa2"
      ],
      "layout": "IPY_MODEL_96629f0067e74f42962fc7a4cfa6523f"
     }
    },
    "f61d30b34ca94dd491eb04b4151cd675": {
     "model_module": "@jupyter-widgets/controls",
     "model_module_version": "1.5.0",
     "model_name": "HTMLModel",
     "state": {
      "_dom_classes": [],
      "_model_module": "@jupyter-widgets/controls",
      "_model_module_version": "1.5.0",
      "_model_name": "HTMLModel",
      "_view_count": null,
      "_view_module": "@jupyter-widgets/controls",
      "_view_module_version": "1.5.0",
      "_view_name": "HTMLView",
      "description": "",
      "description_tooltip": null,
      "layout": "IPY_MODEL_56dfd124425142ea93e76766a1f4955e",
      "placeholder": "​",
      "style": "IPY_MODEL_1c942873956542f8924a1d3721759a2d",
      "value": "Dl Size...: 100%"
     }
    }
   }
  }
 },
 "nbformat": 4,
 "nbformat_minor": 1
}
