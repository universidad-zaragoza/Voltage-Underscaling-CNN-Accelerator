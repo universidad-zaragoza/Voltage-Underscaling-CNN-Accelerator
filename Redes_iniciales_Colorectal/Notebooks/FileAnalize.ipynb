{
 "cells": [
  {
   "cell_type": "code",
   "execution_count": 46,
   "id": "3d252fba",
   "metadata": {},
   "outputs": [],
   "source": [
    "import numpy as np\n",
    "from pathlib import Path\n",
    "import collections \n",
    "import pandas as pd\n",
    "import matplotlib.pyplot as plt\n",
    "#from numpy import random\n",
    "import random\n",
    "from scipy.stats import poisson\n",
    "from datetime import datetime\n",
    "\n",
    "\n",
    "def analize_file_uno_ceros(obj_dir,buffer_size):\n",
    "    with open(obj_dir + '.bin', 'rb') as f:\n",
    "        data = f.read()\n",
    "    #Path(r'VC.bin').stat()\n",
    "    #file_size = Path(r'VC.bin').stat().st_size\n",
    "    index =0\n",
    "    buffer=[]\n",
    "    res = \"{0:04b}\".format(int(data, 16))\n",
    "    res_list = list(res)\n",
    "    print(len(res_list[16777216:]))\n",
    "    vin_arr=[]\n",
    "    num_fallos=0\n",
    "    #state = random.getstate()\n",
    "    random.seed(15)\n",
    "    #random.seed(134)\n",
    "    \n",
    "    \n",
    "    \n",
    "    while index < 16777216:\n",
    "        \n",
    "        for i,j in enumerate(res_list[16777216:buffer_size]):            \n",
    "                  \n",
    "        \n",
    "            if j=='1':\n",
    "                vin_arr.append('x')\n",
    "            \n",
    "            else:\n",
    "                                            \n",
    "                vin_arr.append(random.randint(0,1))\n",
    "                \n",
    "                num_fallos = num_fallos + 1\n",
    "            index=index +1\n",
    "            if index == buffer_size:\n",
    "                #random.setstate(state)\n",
    "                break\n",
    "        buffer=np.asarray(vin_arr)\n",
    "        print('vin_ggyy', collections.Counter(buffer))\n",
    "        print(len(buffer))\n",
    "    \n",
    "    #print(buffer)\n",
    "    return buffer\n",
    "\n",
    " \n",
    "    \n",
    "\n",
    " \n",
    " \n",
    " #address_with_errors[:,15]='1'\n",
    " \n",
    "\n",
    "\n",
    "    "
   ]
  },
  {
   "cell_type": "code",
   "execution_count": 45,
   "id": "f21ee057",
   "metadata": {},
   "outputs": [
    {
     "name": "stdout",
     "output_type": "stream",
     "text": [
      "16973824\n",
      "vin_ggyy Counter({'x': 16764012, '1': 6610, '0': 6594})\n",
      "16777216\n",
      "['x' 'x' 'x' ... 'x' 'x' 'x']\n"
     ]
    }
   ],
   "source": [
    "print(analize_file_uno_ceros(('Data/Fault Characterization/VC707/RawData/VC707-0.54'), 33554432))"
   ]
  },
  {
   "cell_type": "code",
   "execution_count": 39,
   "id": "4ac6ba8d",
   "metadata": {},
   "outputs": [
    {
     "data": {
      "text/plain": [
       "16777216"
      ]
     },
     "execution_count": 39,
     "metadata": {},
     "output_type": "execute_result"
    }
   ],
   "source": [
    "#33751040/16777216\n",
    "#16777216*2\n",
    "16764012+6646+6558\n"
   ]
  },
  {
   "cell_type": "code",
   "execution_count": 4,
   "id": "fd63b4b7",
   "metadata": {},
   "outputs": [],
   "source": [
    "import numpy as np\n",
    "from pathlib import Path\n",
    "import collections \n",
    "import pandas as pd\n",
    "import matplotlib.pyplot as plt\n",
    "#from numpy import random\n",
    "import random\n",
    "from scipy.stats import poisson\n",
    "from datetime import datetime\n",
    "\n",
    "\n",
    "def analize_file(obj_dir,buffer_size):\n",
    "    with open(obj_dir + '.bin', 'rb') as f:\n",
    "        data = f.read()\n",
    "    #Path(r'VC.bin').stat()\n",
    "    #file_size = Path(r'VC.bin').stat().st_size\n",
    "    index =0\n",
    "    buffer=[]\n",
    "    res = \"{0:04b}\".format(int(data, 16))\n",
    "    res_list = list(res)\n",
    "    vin_arr=[]\n",
    "    num_fallos=0\n",
    "    \n",
    "    \n",
    "    \n",
    "    while index < buffer_size:\n",
    "        \n",
    "        for i,j in enumerate(res_list):       \n",
    "            \n",
    "        \n",
    "            if j=='1':\n",
    "                vin_arr.append('x')\n",
    "            \n",
    "            else:\n",
    "                                            \n",
    "                vin_arr.append(0)\n",
    "                \n",
    "                num_fallos = num_fallos + 1\n",
    "            index=index +1\n",
    "            if index == buffer_size:\n",
    "                \n",
    "                break\n",
    "        buffer=np.asarray(vin_arr)\n",
    "        print('vin_ggyy', collections.Counter(buffer))\n",
    "        print(len(buffer))\n",
    "    \n",
    "    #print(buffer)\n",
    "    return buffer"
   ]
  },
  {
   "cell_type": "code",
   "execution_count": 32,
   "id": "c63b06a0",
   "metadata": {},
   "outputs": [
    {
     "name": "stdout",
     "output_type": "stream",
     "text": [
      "[4, 5]\n"
     ]
    }
   ],
   "source": [
    "lis=[1,2,3,4,5]\n",
    "print(lis[3:5])"
   ]
  },
  {
   "cell_type": "code",
   "execution_count": 5,
   "id": "248fcc4c",
   "metadata": {},
   "outputs": [
    {
     "name": "stdout",
     "output_type": "stream",
     "text": [
      "vin_ggyy Counter({'x': 14581698, '0': 62})\n",
      "14581760\n",
      "vin_ggyy Counter({'x': 16777144, '0': 72})\n",
      "16777216\n",
      "['x' 'x' 'x' ... 'x' 'x' 'x']\n"
     ]
    }
   ],
   "source": [
    "print(analize_file(('Data/Fault Characterization/KC705_B/RowData/KC705B-0.56'), 16777216))"
   ]
  },
  {
   "cell_type": "code",
   "execution_count": 257,
   "id": "da05d713",
   "metadata": {},
   "outputs": [
    {
     "name": "stdout",
     "output_type": "stream",
     "text": [
      "Semilla 1\n",
      "[9 5 8 8 8 6 8 7 9 5 5 9]\n",
      "\n",
      "Semilla 2\n",
      "[5 5 8 7 8 5 7 6 8 7 9 9]\n",
      "\n",
      "Semilla\n",
      "[9 5 6 8 8 6 6 6 7 7 5 6]\n",
      "\n",
      "[8 9 5 6 8 5 5 6 9 9 6 7]\n",
      "[8 9 5 6 8 5 5 6 9 9 6 7]\n",
      "[8 9 5 6 8 5 5 6 9 9 6 7]\n",
      "[8 9 5 6 8 5 5 6 9 9 6 7]\n",
      "[8 9 5 6 8 5 5 6 9 9 6 7]\n",
      "[8 9 5 6 8 5 5 6 9 9 6 7]\n",
      "[8 9 5 6 8 5 5 6 9 9 6 7]\n",
      "Semilla\n"
     ]
    }
   ],
   "source": [
    "import numpy as np \n",
    "\n",
    " # Juego de códigos A np.random.seed(1) \n",
    "s=np.random.randint(5,10,12) \n",
    "print(\"Semilla 1\") \n",
    "print(s)\n",
    "#huellas dactilares) \n",
    "print() \n",
    "# Juego de códigos B \n",
    "np.random.seed(2) \n",
    "s=np.random.randint(5,10,12) \n",
    "print(\"Semilla 2\")\n",
    "print(s)\n",
    "#huellas dactilares) \n",
    "print() \n",
    "# Conjunto de códigos C \n",
    "np.random.seed() \n",
    "s=np.random.randint(5,10,12) \n",
    "print(\"Semilla\") \n",
    "print(s)\n",
    "#huellas dactilares) \n",
    "print() \n",
    "# Conjunto de códigos D \n",
    "for i in range(7): \n",
    "    np.random.seed(1) \n",
    "    s=np.random.randint(5,10,12) \n",
    "    print(s)\n",
    "print(\"Semilla\") \n",
    "#huellas dactilares) "
   ]
  },
  {
   "cell_type": "code",
   "execution_count": 152,
   "id": "5e399bef",
   "metadata": {},
   "outputs": [
    {
     "name": "stdout",
     "output_type": "stream",
     "text": [
      "Inicializa dos generadores:\n",
      "0.7754489280779643 0.6445092159581047\n",
      "0.5940681268023906 0.6253919006600739\n",
      "0.6418607506060077 0.1836785277956413\n",
      "Se utiliza la misma semilla:\n",
      "0.3963086393590315 0.3963086393590315\n",
      "0.434702587481566 0.434702587481566\n",
      "0.038889599850399637 0.038889599850399637\n"
     ]
    }
   ],
   "source": [
    "print('Inicializa dos generadores:')\n",
    "\n",
    "serie1 = random.Random()\n",
    "serie2 = random.Random()\n",
    "\n",
    "for num in range(3):\n",
    "    print(serie1.random(), serie2.random())\n",
    "\n",
    "print('Se utiliza la misma semilla:')\n",
    "\n",
    "semilla = 'Python'\n",
    "serie1 = random.Random(semilla)\n",
    "serie2 = random.Random(semilla)\n",
    "\n",
    "for num in range(3):\n",
    "    print(serie1.random(), serie2.random())"
   ]
  },
  {
   "cell_type": "code",
   "execution_count": 7,
   "id": "dc6b9df1",
   "metadata": {},
   "outputs": [],
   "source": [
    "#!/usr/bin/env python\n",
    "# coding: utf-8\n",
    "\n",
    "# In[2]:\n",
    "\n",
    "\n",
    "import numpy as np\n",
    "from pathlib import Path\n",
    "import collections\n",
    "from numpy import random\n",
    "\n",
    "import matplotlib.pyplot as plt\n",
    "\n",
    "from datetime import datetime\n",
    "\n",
    "\n",
    "def analize_file(obj_dir,buffer_size):\n",
    "    with open(obj_dir + '.bin', 'rb') as f:\n",
    "        data = f.read()\n",
    "    #Path(r'VC.bin').stat()\n",
    "    #file_size = Path(r'VC.bin').stat().st_size\n",
    "    index =0\n",
    "    buffer=[]\n",
    "    res = \"{0:04b}\".format(int(data, 16))\n",
    "    res_list = list(res)\n",
    "    vin_arr=[]\n",
    "    num_ceros=0\n",
    "    for i,j in enumerate(res_list):\n",
    "        #if j=='1' and res_list[i+1]==('0'):\n",
    "            #vin_arr.append('1')\n",
    "        if j=='1':\n",
    "            vin_arr.append('x')\n",
    "            \n",
    "        else:\n",
    "            vin_arr.append('0')\n",
    "            num_fallos = num_ceros + 1\n",
    "        index=index +1\n",
    "\n",
    "        if index == buffer_size:\n",
    "            break\n",
    "    buffer=np.asarray(vin_arr)\n",
    "    print('vin_gg', collections.Counter(buffer))\n",
    "    \n",
    "    #print(buffer)\n",
    "    return buffer\n",
    "\n",
    "def analize_file_uno(obj_dir,buffer_size):\n",
    "    with open(obj_dir + '.bin', 'rb') as f:\n",
    "        data = f.read()\n",
    "    #Path(r'VC.bin').stat()\n",
    "    #file_size = Path(r'VC.bin').stat().st_size\n",
    "    index =0\n",
    "    buffer=[]\n",
    "    res = \"{0:04b}\".format(int(data, 16))\n",
    "    res_list = list(res)\n",
    "    vin_arr=[]\n",
    "    num_ceros=0\n",
    "    for i,j in enumerate(res_list):\n",
    "        \n",
    "            \n",
    "        if j=='1':\n",
    "            vin_arr.append('x')\n",
    "            \n",
    "        else:\n",
    "            vin_arr.append(1)\n",
    "            num_fallos = num_ceros + 1\n",
    "        index=index +1\n",
    "\n",
    "        if index == buffer_size:\n",
    "            \n",
    "            break\n",
    "    buffer=np.asarray(vin_arr)\n",
    "   \n",
    "    n_bits_fails=np.where(buffer == '1')\n",
    "    print(n_bits_fails)\n",
    "    \n",
    "    print('vin_gg', collections.Counter(buffer))\n",
    "    \n",
    "    \n",
    "    return buffer, n_bits_fails\n",
    "\n",
    "\n",
    "def analize_file_uno_ceros(obj_dir,buffer_size):\n",
    "    with open(obj_dir + '.bin', 'rb') as f:\n",
    "        data = f.read()\n",
    "    #Path(r'VC.bin').stat()\n",
    "    #file_size = Path(r'VC.bin').stat().st_size\n",
    "    index =0\n",
    "    buffer=[]\n",
    "    res = \"{0:04b}\".format(int(data, 16))\n",
    "    res_list = list(res)\n",
    "    vin_arr=[]\n",
    "    num_fallos=0\n",
    "    for i,j in enumerate(res_list):\n",
    "        \n",
    "            \n",
    "        if j=='1':\n",
    "            vin_arr.append('x')\n",
    "            \n",
    "        else:\n",
    "            vin_arr.append(random.randint(2))\n",
    "            num_fallos = num_fallos + 1\n",
    "        index=index +1\n",
    "\n",
    "        if index == buffer_size:\n",
    "            \n",
    "            break\n",
    "    buffer=np.asarray(vin_arr)\n",
    "    #plt.plot(buffer)\n",
    "    #plt.show\n",
    "   \n",
    "    n_bits_fails=np.where(buffer == '1')\n",
    "    print(n_bits_fails)\n",
    "    \n",
    "    print('vin_gg', collections.Counter(buffer))\n",
    "    \n",
    "    \n",
    "    \n",
    "    return buffer, n_bits_fails"
   ]
  },
  {
   "cell_type": "markdown",
   "id": "0e5ae5a7",
   "metadata": {},
   "source": [
    "toma toda la lista de ficheros "
   ]
  },
  {
   "cell_type": "code",
   "execution_count": null,
   "id": "4a848778",
   "metadata": {},
   "outputs": [],
   "source": [
    "import os, sys\n",
    "import numpy as np\n",
    "from pathlib import Path\n",
    "import collections\n",
    "from numpy import random\n",
    "\n",
    "import matplotlib.pyplot as plt\n",
    "\n",
    "from datetime import datetime\n",
    "\n",
    "\n",
    "\n",
    "# Open a file\n",
    "path =r\"C:\\Users\\usuario\\Desktop/CNN_Gating/Data/Fault Characterization/VC707/RawData\"\n",
    "dirs = os.listdir( path )\n",
    "buffer_size=16777216\n",
    "\n",
    "# This would print all the files and directories\n",
    "def analize_file(path,buffer_size):\n",
    "    for file in dirs:\n",
    "        with open(file, 'rb') as f:\n",
    "            data = f.read()\n",
    "    #Path(r'VC.bin').stat()\n",
    "    #file_size = Path(r'VC.bin').stat().st_size\n",
    "        index =0\n",
    "        buffer=[]\n",
    "        res = \"{0:04b}\".format(int(data, 16))\n",
    "        res_list = list(res)\n",
    "        vin_arr=[]\n",
    "        num_ceros=0\n",
    "        for i,j in enumerate(res_list):\n",
    "        \n",
    "        \n",
    "            if j=='1':\n",
    "                vin_arr.append('x')\n",
    "            \n",
    "            \n",
    "            else:\n",
    "                vin_arr.append('0')          \n",
    "            \n",
    "                #num_fallos = num_fallos + 1\n",
    "            index=index +1\n",
    "        \n",
    "\n",
    "            if index ==  buffer_size:\n",
    "                print(index)\n",
    "                break\n",
    "        buffer=np.asarray(vin_arr)\n",
    "        print(file)\n",
    "        print('vin_gg', collections.Counter(buffer))\n",
    "    \n",
    "    print(len(buffer))\n",
    "    return buffer\n",
    "\n",
    "if __name__ == '__main__':"
   ]
  },
  {
   "cell_type": "code",
   "execution_count": 8,
   "id": "4f04a50b",
   "metadata": {},
   "outputs": [
    {
     "name": "stdout",
     "output_type": "stream",
     "text": [
      "vin_gg Counter({'x': 16766856, '0': 10360})\n",
      "['x' 'x' 'x' ... 'x' 'x' 'x']\n"
     ]
    }
   ],
   "source": [
    "print(analize_file(('Data/VC'), 16777216))"
   ]
  },
  {
   "cell_type": "code",
   "execution_count": 20,
   "id": "bf583939",
   "metadata": {},
   "outputs": [
    {
     "ename": "NameError",
     "evalue": "name 'buffer' is not defined",
     "output_type": "error",
     "traceback": [
      "\u001b[1;31m---------------------------------------------------------------------------\u001b[0m",
      "\u001b[1;31mNameError\u001b[0m                                 Traceback (most recent call last)",
      "\u001b[1;32m<ipython-input-20-75fde0102b5d>\u001b[0m in \u001b[0;36m<module>\u001b[1;34m\u001b[0m\n\u001b[0;32m      1\u001b[0m \u001b[1;32mimport\u001b[0m \u001b[0mmatplotlib\u001b[0m\u001b[1;33m.\u001b[0m\u001b[0mpyplot\u001b[0m \u001b[1;32mas\u001b[0m \u001b[0mplt\u001b[0m\u001b[1;33m\u001b[0m\u001b[1;33m\u001b[0m\u001b[0m\n\u001b[0;32m      2\u001b[0m \u001b[0mfig\u001b[0m\u001b[1;33m,\u001b[0m \u001b[0max\u001b[0m \u001b[1;33m=\u001b[0m \u001b[0mplt\u001b[0m\u001b[1;33m.\u001b[0m\u001b[0msubplots\u001b[0m\u001b[1;33m(\u001b[0m\u001b[1;33m)\u001b[0m\u001b[1;33m\u001b[0m\u001b[1;33m\u001b[0m\u001b[0m\n\u001b[1;32m----> 3\u001b[1;33m \u001b[0mx\u001b[0m \u001b[1;33m=\u001b[0m \u001b[0mbuffer\u001b[0m\u001b[1;33m\u001b[0m\u001b[1;33m\u001b[0m\u001b[0m\n\u001b[0m\u001b[0;32m      4\u001b[0m \u001b[0max\u001b[0m\u001b[1;33m.\u001b[0m\u001b[0mimshow\u001b[0m\u001b[1;33m(\u001b[0m\u001b[0mx\u001b[0m\u001b[1;33m)\u001b[0m\u001b[1;33m\u001b[0m\u001b[1;33m\u001b[0m\u001b[0m\n\u001b[0;32m      5\u001b[0m \u001b[0mplt\u001b[0m\u001b[1;33m.\u001b[0m\u001b[0mshow\u001b[0m\u001b[1;33m(\u001b[0m\u001b[1;33m)\u001b[0m\u001b[1;33m\u001b[0m\u001b[1;33m\u001b[0m\u001b[0m\n",
      "\u001b[1;31mNameError\u001b[0m: name 'buffer' is not defined"
     ]
    },
    {
     "data": {
      "image/png": "[encoded data removed]",
      "text/plain": [
       "<Figure size 432x288 with 1 Axes>"
      ]
     },
     "metadata": {
      "needs_background": "light"
     },
     "output_type": "display_data"
    }
   ],
   "source": [
    "import matplotlib.pyplot as plt\n",
    "fig, ax = plt.subplots()\n",
    "x = buffer\n",
    "ax.imshow(x)\n",
    "plt.show()"
   ]
  },
  {
   "cell_type": "code",
   "execution_count": 171,
   "id": "a3b40e80",
   "metadata": {},
   "outputs": [
    {
     "name": "stdout",
     "output_type": "stream",
     "text": [
      "[[0, 1, 0], [0, 1, 0], [0, 1, 0]]\n"
     ]
    }
   ],
   "source": [
    "b =  [[22,56,33] , [21,58,33], [20,51,39]]\n",
    "\n",
    " \n",
    "\n",
    "for i in range(0, 3):\n",
    "\n",
    "    for j in range(0, 3):\n",
    "\n",
    "        valor = b[i][j]\n",
    "\n",
    "        if valor <= 50:\n",
    "\n",
    "            b[i][j] = 0\n",
    "\n",
    "        else:\n",
    "\n",
    "            b[i][j] = 1\n",
    "\n",
    " \n",
    "\n",
    " print(b)"
   ]
  },
  {
   "cell_type": "code",
   "execution_count": 381,
   "id": "5ac251c8",
   "metadata": {},
   "outputs": [
    {
     "name": "stdout",
     "output_type": "stream",
     "text": [
      "10360\n",
      "(array([], dtype=int64),)\n",
      "vin_gg Counter({'x': 16766856, '0': 10360})\n",
      "(array(['x', 'x', 'x', ..., 'x', 'x', 'x'], dtype='<U1'), (array([], dtype=int64),))\n"
     ]
    }
   ],
   "source": [
    "print(analize_file_uno(('Data/VC'), 16777216))\n"
   ]
  },
  {
   "cell_type": "code",
   "execution_count": 379,
   "id": "e7e71353",
   "metadata": {},
   "outputs": [
    {
     "ename": "ValueError",
     "evalue": "cannot reshape array of size 16787078 into shape (16)",
     "output_type": "error",
     "traceback": [
      "\u001b[1;31m---------------------------------------------------------------------------\u001b[0m",
      "\u001b[1;31mValueError\u001b[0m                                Traceback (most recent call last)",
      "\u001b[1;32m<ipython-input-379-e7c20d608d5c>\u001b[0m in \u001b[0;36m<module>\u001b[1;34m\u001b[0m\n\u001b[1;32m----> 1\u001b[1;33m \u001b[0mprint\u001b[0m\u001b[1;33m(\u001b[0m\u001b[0manalize_file\u001b[0m\u001b[1;33m(\u001b[0m\u001b[1;33m(\u001b[0m\u001b[1;34m'Data/VC'\u001b[0m\u001b[1;33m)\u001b[0m\u001b[1;33m,\u001b[0m \u001b[1;36m16777216\u001b[0m\u001b[1;33m)\u001b[0m\u001b[1;33m)\u001b[0m\u001b[1;33m\u001b[0m\u001b[1;33m\u001b[0m\u001b[0m\n\u001b[0m",
      "\u001b[1;32m<ipython-input-377-506db3bd48d1>\u001b[0m in \u001b[0;36manalize_file\u001b[1;34m(obj_dir, buffer_size)\u001b[0m\n\u001b[0;32m     35\u001b[0m             \u001b[1;32mbreak\u001b[0m\u001b[1;33m\u001b[0m\u001b[1;33m\u001b[0m\u001b[0m\n\u001b[0;32m     36\u001b[0m     \u001b[0mvin_arr\u001b[0m\u001b[1;33m=\u001b[0m\u001b[0mnp\u001b[0m\u001b[1;33m.\u001b[0m\u001b[0masarray\u001b[0m\u001b[1;33m(\u001b[0m\u001b[0mvin_arr\u001b[0m\u001b[1;33m)\u001b[0m\u001b[1;33m\u001b[0m\u001b[1;33m\u001b[0m\u001b[0m\n\u001b[1;32m---> 37\u001b[1;33m     \u001b[0maddress_with_errors\u001b[0m \u001b[1;33m=\u001b[0m \u001b[0mnp\u001b[0m\u001b[1;33m.\u001b[0m\u001b[0mreshape\u001b[0m\u001b[1;33m(\u001b[0m\u001b[0mvin_arr\u001b[0m\u001b[1;33m,\u001b[0m\u001b[1;33m(\u001b[0m\u001b[1;33m-\u001b[0m\u001b[1;36m1\u001b[0m\u001b[1;33m,\u001b[0m\u001b[1;36m16\u001b[0m\u001b[1;33m)\u001b[0m\u001b[1;33m)\u001b[0m\u001b[1;33m\u001b[0m\u001b[1;33m\u001b[0m\u001b[0m\n\u001b[0m\u001b[0;32m     38\u001b[0m     \u001b[0mprint\u001b[0m\u001b[1;33m(\u001b[0m\u001b[0maddress_with_errors\u001b[0m\u001b[1;33m.\u001b[0m\u001b[0mshape\u001b[0m\u001b[1;33m)\u001b[0m\u001b[1;33m\u001b[0m\u001b[1;33m\u001b[0m\u001b[0m\n\u001b[0;32m     39\u001b[0m    \u001b[1;31m#df = pd.DataFrame(address_with_errors)\u001b[0m\u001b[1;33m\u001b[0m\u001b[1;33m\u001b[0m\u001b[1;33m\u001b[0m\u001b[0m\n",
      "\u001b[1;32m<__array_function__ internals>\u001b[0m in \u001b[0;36mreshape\u001b[1;34m(*args, **kwargs)\u001b[0m\n",
      "\u001b[1;32m~\\anaconda3\\envs\\env_first\\lib\\site-packages\\numpy\\core\\fromnumeric.py\u001b[0m in \u001b[0;36mreshape\u001b[1;34m(a, newshape, order)\u001b[0m\n\u001b[0;32m    296\u001b[0m            [5, 6]])\n\u001b[0;32m    297\u001b[0m     \"\"\"\n\u001b[1;32m--> 298\u001b[1;33m     \u001b[1;32mreturn\u001b[0m \u001b[0m_wrapfunc\u001b[0m\u001b[1;33m(\u001b[0m\u001b[0ma\u001b[0m\u001b[1;33m,\u001b[0m \u001b[1;34m'reshape'\u001b[0m\u001b[1;33m,\u001b[0m \u001b[0mnewshape\u001b[0m\u001b[1;33m,\u001b[0m \u001b[0morder\u001b[0m\u001b[1;33m=\u001b[0m\u001b[0morder\u001b[0m\u001b[1;33m)\u001b[0m\u001b[1;33m\u001b[0m\u001b[1;33m\u001b[0m\u001b[0m\n\u001b[0m\u001b[0;32m    299\u001b[0m \u001b[1;33m\u001b[0m\u001b[0m\n\u001b[0;32m    300\u001b[0m \u001b[1;33m\u001b[0m\u001b[0m\n",
      "\u001b[1;32m~\\anaconda3\\envs\\env_first\\lib\\site-packages\\numpy\\core\\fromnumeric.py\u001b[0m in \u001b[0;36m_wrapfunc\u001b[1;34m(obj, method, *args, **kwds)\u001b[0m\n\u001b[0;32m     55\u001b[0m \u001b[1;33m\u001b[0m\u001b[0m\n\u001b[0;32m     56\u001b[0m     \u001b[1;32mtry\u001b[0m\u001b[1;33m:\u001b[0m\u001b[1;33m\u001b[0m\u001b[1;33m\u001b[0m\u001b[0m\n\u001b[1;32m---> 57\u001b[1;33m         \u001b[1;32mreturn\u001b[0m \u001b[0mbound\u001b[0m\u001b[1;33m(\u001b[0m\u001b[1;33m*\u001b[0m\u001b[0margs\u001b[0m\u001b[1;33m,\u001b[0m \u001b[1;33m**\u001b[0m\u001b[0mkwds\u001b[0m\u001b[1;33m)\u001b[0m\u001b[1;33m\u001b[0m\u001b[1;33m\u001b[0m\u001b[0m\n\u001b[0m\u001b[0;32m     58\u001b[0m     \u001b[1;32mexcept\u001b[0m \u001b[0mTypeError\u001b[0m\u001b[1;33m:\u001b[0m\u001b[1;33m\u001b[0m\u001b[1;33m\u001b[0m\u001b[0m\n\u001b[0;32m     59\u001b[0m         \u001b[1;31m# A TypeError occurs if the object does have such a method in its\u001b[0m\u001b[1;33m\u001b[0m\u001b[1;33m\u001b[0m\u001b[1;33m\u001b[0m\u001b[0m\n",
      "\u001b[1;31mValueError\u001b[0m: cannot reshape array of size 16787078 into shape (16)"
     ]
    }
   ],
   "source": [
    "print(analize_file(('Data/VC'), 16777216))"
   ]
  },
  {
   "cell_type": "code",
   "execution_count": 114,
   "id": "70d7c4d5",
   "metadata": {},
   "outputs": [],
   "source": [
    "def analize_file(obj_dir,buffer_size):\n",
    "    with open(obj_dir + '.bin', 'rb') as f:\n",
    "        data = f.read()\n",
    "    #Path(r'VC.bin').stat()\n",
    "    #file_size = Path(r'VC.bin').stat().st_size\n",
    "    index =0\n",
    "    buffer=[]\n",
    "    res = \"{0:04b}\".format(int(data, 16))\n",
    "    res_list = list(res)\n",
    "    vin_arr=[]\n",
    "    num_fallos=0\n",
    "    \n",
    "    \n",
    "    while index < buffer_size:\n",
    "        for i,j in enumerate(res_list):\n",
    "        #if j=='1' and res_list[i+1]==('0'):\n",
    "            #vin_arr.append('1')\n",
    "            if j=='1':\n",
    "                vin_arr.append('x')\n",
    "            \n",
    "            else:\n",
    "                vin_arr.append('0')\n",
    "                num_fallos = num_ceros + 1\n",
    "            index=index +1\n",
    "\n",
    "            if index == buffer_size:\n",
    "                break\n",
    "        buffer=np.asarray(vin_arr)\n",
    "        print('vin_ggyy', collections.Counter(buffer))\n",
    "        #print(len(buffer))\n",
    "    \n",
    "    #print(buffer)\n",
    "    return buffer"
   ]
  },
  {
   "cell_type": "code",
   "execution_count": 115,
   "id": "0e5d8e81",
   "metadata": {},
   "outputs": [
    {
     "name": "stdout",
     "output_type": "stream",
     "text": [
      "vin_ggyy Counter({'x': 14581698, '0': 62})\n",
      "vin_ggyy Counter({'x': 16777144, '0': 72})\n",
      "['x' 'x' 'x' ... 'x' 'x' 'x']\n"
     ]
    }
   ],
   "source": [
    "print(analize_file(('Data/Fault Characterization/KC705_B/RowData/KC705B-0.56'), 16777216))"
   ]
  },
  {
   "cell_type": "code",
   "execution_count": null,
   "id": "965f4163",
   "metadata": {},
   "outputs": [],
   "source": []
  }
 ],
 "metadata": {
  "kernelspec": {
   "display_name": "env_first",
   "language": "python",
   "name": "env_first"
  },
  "language_info": {
   "codemirror_mode": {
    "name": "ipython",
    "version": 3
   },
   "file_extension": ".py",
   "mimetype": "text/x-python",
   "name": "python",
   "nbconvert_exporter": "python",
   "pygments_lexer": "ipython3",
   "version": "3.8.0"
  }
 },
 "nbformat": 4,
 "nbformat_minor": 5
}
