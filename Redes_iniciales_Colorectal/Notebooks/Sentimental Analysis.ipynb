{
 "cells": [
  {
   "cell_type": "code",
   "execution_count": 1,
   "metadata": {},
   "outputs": [],
   "source": [
    "%load_ext autoreload\n",
    "%autoreload 2\n",
    "\n",
    "import tensorflow as tf\n",
    "import os\n",
    "import sys\n",
    "import numpy as np\n",
    "import pandas as pd\n",
    "import seaborn as sns\n",
    "import matplotlib.pyplot as plt\n",
    "#from Heatmap_plot import Heatmap\n",
    "from Training import GetIMBDDataset\n",
    "from Nets_original  import GetNeuralNetworkModel\n",
    "from Stats import WeightQuantization, ActivationStats, CheckAccuracyAndLoss, QuantizationEffect, GetReadAndWrites\n",
    "from Simulation import buffer_simulation, save_obj, load_obj\n",
    "\n",
    "tf.random.set_seed(1234)\n",
    "np.random.seed(1234)"
   ]
  },
  {
   "cell_type": "markdown",
   "metadata": {},
   "source": [
    "# 1) Training"
   ]
  },
  {
   "cell_type": "markdown",
   "metadata": {},
   "source": [
    "### &nbsp;&nbsp;&nbsp;&nbsp;&nbsp;&nbsp; a) Get Dataset"
   ]
  },
  {
   "cell_type": "code",
   "execution_count": 2,
   "metadata": {},
   "outputs": [
    {
     "name": "stderr",
     "output_type": "stream",
     "text": [
      "<__array_function__ internals>:180: VisibleDeprecationWarning: Creating an ndarray from ragged nested sequences (which is a list-or-tuple of lists-or-tuples-or ndarrays with different lengths or shapes) is deprecated. If you meant to do this, you must specify 'dtype=object' when creating the ndarray.\n",
      "C:\\Users\\usuario\\anaconda3\\envs\\env_first\\lib\\site-packages\\tensorflow\\python\\keras\\datasets\\imdb.py:155: VisibleDeprecationWarning: Creating an ndarray from ragged nested sequences (which is a list-or-tuple of lists-or-tuples-or ndarrays with different lengths or shapes) is deprecated. If you meant to do this, you must specify 'dtype=object' when creating the ndarray.\n",
      "  x_train, y_train = np.array(xs[:idx]), np.array(labels[:idx])\n",
      "C:\\Users\\usuario\\anaconda3\\envs\\env_first\\lib\\site-packages\\tensorflow\\python\\keras\\datasets\\imdb.py:156: VisibleDeprecationWarning: Creating an ndarray from ragged nested sequences (which is a list-or-tuple of lists-or-tuples-or ndarrays with different lengths or shapes) is deprecated. If you meant to do this, you must specify 'dtype=object' when creating the ndarray.\n",
      "  x_test, y_test = np.array(xs[idx:]), np.array(labels[idx:])\n"
     ]
    }
   ],
   "source": [
    "train_batch_size = test_batch_size = 32\n",
    "train_set,valid_set,test_set  = GetIMBDDataset(train_batch_size, test_batch_size)"
   ]
  },
  {
   "cell_type": "markdown",
   "metadata": {},
   "source": [
    "### &nbsp;&nbsp;&nbsp;&nbsp;&nbsp;&nbsp; b) Get Model"
   ]
  },
  {
   "cell_type": "code",
   "execution_count": 3,
   "metadata": {},
   "outputs": [
    {
     "ename": "TypeError",
     "evalue": "'bool' object is not subscriptable",
     "output_type": "error",
     "traceback": [
      "\u001b[1;31m---------------------------------------------------------------------------\u001b[0m",
      "\u001b[1;31mTypeError\u001b[0m                                 Traceback (most recent call last)",
      "Input \u001b[1;32mIn [3]\u001b[0m, in \u001b[0;36m<cell line: 1>\u001b[1;34m()\u001b[0m\n\u001b[1;32m----> 1\u001b[0m SentimentalNet \u001b[38;5;241m=\u001b[39m \u001b[43mGetNeuralNetworkModel\u001b[49m\u001b[43m(\u001b[49m\u001b[38;5;124;43m'\u001b[39;49m\u001b[38;5;124;43mSentimentalNet\u001b[39;49m\u001b[38;5;124;43m'\u001b[39;49m\u001b[43m,\u001b[49m\u001b[43m(\u001b[49m\u001b[38;5;241;43m500\u001b[39;49m\u001b[43m)\u001b[49m\u001b[43m,\u001b[49m\u001b[38;5;241;43m1\u001b[39;49m\u001b[43m,\u001b[49m\u001b[43mquantization\u001b[49m\u001b[43m \u001b[49m\u001b[38;5;241;43m=\u001b[39;49m\u001b[43m \u001b[49m\u001b[38;5;28;43;01mFalse\u001b[39;49;00m\u001b[43m,\u001b[49m\u001b[43maging_active\u001b[49m\u001b[43m \u001b[49m\u001b[38;5;241;43m=\u001b[39;49m\u001b[43m \u001b[49m\u001b[38;5;28;43;01mFalse\u001b[39;49;00m\u001b[43m)\u001b[49m\n\u001b[0;32m      2\u001b[0m optimizer \u001b[38;5;241m=\u001b[39m tf\u001b[38;5;241m.\u001b[39mkeras\u001b[38;5;241m.\u001b[39moptimizers\u001b[38;5;241m.\u001b[39mAdam(learning_rate\u001b[38;5;241m=\u001b[39m\u001b[38;5;241m1e-4\u001b[39m)\n\u001b[0;32m      3\u001b[0m \u001b[38;5;66;03m#metrics = ['accuracy']\u001b[39;00m\n\u001b[0;32m      4\u001b[0m \u001b[38;5;66;03m# Compile Model\u001b[39;00m\n",
      "File \u001b[1;32m~\\Desktop\\CNN_Gating\\Nets_original.py:518\u001b[0m, in \u001b[0;36mGetNeuralNetworkModel\u001b[1;34m(architecture, input_shape, output_shape, faulty_addresses, masked_faults, quantization, aging_active, word_size, frac_size, batch_size)\u001b[0m\n\u001b[0;32m    516\u001b[0m top_words \u001b[38;5;241m=\u001b[39m \u001b[38;5;241m5000\u001b[39m\n\u001b[0;32m    517\u001b[0m max_words \u001b[38;5;241m=\u001b[39m \u001b[38;5;241m500\u001b[39m\t\n\u001b[1;32m--> 518\u001b[0m \u001b[38;5;28mprint\u001b[39m(\u001b[38;5;124m'\u001b[39m\u001b[38;5;124maging_active\u001b[39m\u001b[38;5;124m'\u001b[39m,\u001b[43maging_active\u001b[49m\u001b[43m[\u001b[49m\u001b[38;5;241;43m0\u001b[39;49m\u001b[43m]\u001b[49m)\n\u001b[0;32m    519\u001b[0m input_layer \u001b[38;5;241m=\u001b[39m tf\u001b[38;5;241m.\u001b[39mkeras\u001b[38;5;241m.\u001b[39mInput(input_shape)\n\u001b[0;32m    520\u001b[0m x \u001b[38;5;241m=\u001b[39m Embedding(top_words, \u001b[38;5;241m32\u001b[39m, input_length\u001b[38;5;241m=\u001b[39mmax_words)(input_layer)\n",
      "\u001b[1;31mTypeError\u001b[0m: 'bool' object is not subscriptable"
     ]
    }
   ],
   "source": [
    "\n",
    "\n",
    "SentimentalNet = GetNeuralNetworkModel('SentimentalNet',(500),1,quantization = False,aging_active = False)\n",
    "optimizer = tf.keras.optimizers.Adam(learning_rate=1e-4)\n",
    "#metrics = ['accuracy']\n",
    "# Compile Model\n",
    "SentimentalNet.compile(optimizer=optimizer, loss='binary_crossentropy', metrics = ['accuracy'])"
   ]
  },
  {
   "cell_type": "markdown",
   "metadata": {},
   "source": [
    "### &nbsp;&nbsp;&nbsp;&nbsp;&nbsp;&nbsp; d) Save/Load Weigths"
   ]
  },
  {
   "cell_type": "code",
   "execution_count": 4,
   "metadata": {
    "scrolled": true
   },
   "outputs": [],
   "source": [
    "cwd = os.getcwd()\n",
    "wgt_dir = os.path.join(cwd, 'Data')\n",
    "wgt_dir = os.path.join(wgt_dir, 'Trained Weights')\n",
    "wgt_dir = os.path.join(wgt_dir, 'SentimentalNet')\n",
    "wgt_dir = os.path.join(wgt_dir, 'IMBD Reviews Dataset')\n",
    "wgt_dir = os.path.join(wgt_dir,'Weights')\n",
    "#SentimentalNet.load_weights(wgtDir)"
   ]
  },
  {
   "cell_type": "markdown",
   "metadata": {},
   "source": [
    "# 2) Stats"
   ]
  },
  {
   "cell_type": "markdown",
   "metadata": {},
   "source": [
    "### &nbsp;&nbsp;&nbsp;&nbsp;&nbsp;&nbsp;  e) Activation Stats"
   ]
  },
  {
   "cell_type": "code",
   "execution_count": 5,
   "metadata": {
    "scrolled": true
   },
   "outputs": [
    {
     "name": "stdout",
     "output_type": "stream",
     "text": [
      "mean value (MMU): 0.0029325176\n",
      "mean value (Buffer): 0.00909117\n",
      "maximum (MMU): 0.16042535\n",
      "minimum (MMU): -0.15042056\n",
      "maximum (Buffer): 0.52474165\n",
      "minimum (Buffer): -0.049999762\n",
      "saturation ratio (MMU): 0.0\n",
      "saturation ratio (Buffer): 0.0\n"
     ]
    }
   ],
   "source": [
    "    ActivationStats(SentimentalNet,test_set,14,1,469)"
   ]
  },
  {
   "cell_type": "markdown",
   "metadata": {},
   "source": [
    "### &nbsp;&nbsp;&nbsp;&nbsp;&nbsp;&nbsp;  f) Write/Read Stats"
   ]
  },
  {
   "cell_type": "code",
   "execution_count": 6,
   "metadata": {},
   "outputs": [
    {
     "name": "stdout",
     "output_type": "stream",
     "text": [
      "procesados:  25\n",
      "procesados:  50\n",
      "procesados:  75\n",
      "procesados:  100\n",
      "procesados:  125\n",
      "procesados:  150\n"
     ]
    }
   ],
   "source": [
    "Indices  = [1,4,8,12,16]\n",
    "#Data     = GetReadAndWrites(SentimentalNet,Indices,16000,150,CNN_gating=False)\n",
    "#stats    = {'Lecturas': Data['Reads'],'Escrituras': Data['Writes']}\n",
    "#Baseline_Acceses   = pd.DataFrame(stats).reset_index(drop=False)\n",
    "Data     = GetReadAndWrites(SentimentalNet,Indices,1024*1024,150,CNN_gating=True)\n",
    "stats    = {'Lecturas': Data['Reads'],'Escrituras': Data['Writes']}\n",
    "CNN_gating_Acceses = pd.DataFrame(stats).reset_index(drop=False)\n",
    "#save_obj(Baseline_Acceses,'Data/Acceses/SentimentalNet/Baseline')\n",
    "#save_obj(CNN_gating_Acceses,'Data/Acceses/SentimentalNet/CNN_gating_Fix')"
   ]
  },
  {
   "cell_type": "code",
   "execution_count": 7,
   "metadata": {},
   "outputs": [
    {
     "data": {
      "text/plain": [
       "<matplotlib.legend.Legend at 0x239ed881370>"
      ]
     },
     "execution_count": 7,
     "metadata": {},
     "output_type": "execute_result"
    },
    {
     "data": {
      "image/png": "[encoded data removed]",
      "text/plain": [
       "<Figure size 1500x500 with 1 Axes>"
      ]
     },
     "metadata": {},
     "output_type": "display_data"
    }
   ],
   "source": [
    "plt.figure(figsize=(15, 5))\n",
    "plt.stackplot(CNN_gating_Acceses.to_dict()['index'].values(),\n",
    "              CNN_gating_Acceses.to_dict()['Lecturas'].values(),\n",
    "              CNN_gating_Acceses.to_dict()['Escrituras'].values(),\n",
    "              colors=['blue', 'orange'])\n",
    "plt.legend(['Reads','Writes'])"
   ]
  },
  {
   "cell_type": "code",
   "execution_count": 36,
   "metadata": {},
   "outputs": [
    {
     "data": {
      "text/plain": [
       "<matplotlib.legend.Legend at 0x15dce44ca08>"
      ]
     },
     "execution_count": 36,
     "metadata": {},
     "output_type": "execute_result"
    },
    {
     "data": {
      "image/png": "[encoded data removed]",
      "text/plain": [
       "<Figure size 1080x360 with 1 Axes>"
      ]
     },
     "metadata": {
      "needs_background": "light"
     },
     "output_type": "display_data"
    }
   ],
   "source": [
    "plt.figure(figsize=(15, 5))\n",
    "plt.stackplot(Baseline_Acceses.to_dict()['index'].values(),\n",
    "              Baseline_Acceses.to_dict()['Lecturas'].values(),\n",
    "              Baseline_Acceses.to_dict()['Escrituras'].values(),\n",
    "              colors=['blue', 'orange'])\n",
    "plt.legend(['Reads','Writes'])"
   ]
  },
  {
   "cell_type": "markdown",
   "metadata": {},
   "source": [
    "# 3) Quantization "
   ]
  },
  {
   "cell_type": "markdown",
   "metadata": {},
   "source": [
    "### &nbsp;&nbsp;&nbsp;&nbsp;&nbsp;&nbsp; a) Starting Point"
   ]
  },
  {
   "cell_type": "code",
   "execution_count": 9,
   "metadata": {},
   "outputs": [
    {
     "ename": "ValueError",
     "evalue": "Shapes (16000, 250) and (8000, 250) are incompatible",
     "output_type": "error",
     "traceback": [
      "\u001b[1;31m---------------------------------------------------------------------------\u001b[0m",
      "\u001b[1;31mValueError\u001b[0m                                Traceback (most recent call last)",
      "Input \u001b[1;32mIn [9]\u001b[0m, in \u001b[0;36m<cell line: 1>\u001b[1;34m()\u001b[0m\n\u001b[1;32m----> 1\u001b[0m \u001b[43mCheckAccuracyAndLoss\u001b[49m\u001b[43m(\u001b[49m\u001b[38;5;124;43m'\u001b[39;49m\u001b[38;5;124;43mSentimentalNet\u001b[39;49m\u001b[38;5;124;43m'\u001b[39;49m\u001b[43m,\u001b[49m\u001b[43m \u001b[49m\u001b[43mtest_set\u001b[49m\u001b[43m,\u001b[49m\u001b[43m \u001b[49m\u001b[43mwgt_dir\u001b[49m\u001b[43m,\u001b[49m\u001b[43m \u001b[49m\u001b[43mact_frac_size\u001b[49m\u001b[43m \u001b[49m\u001b[38;5;241;43m=\u001b[39;49m\u001b[43m \u001b[49m\u001b[38;5;241;43m16\u001b[39;49m\u001b[43m,\u001b[49m\u001b[43m \u001b[49m\u001b[43mact_int_size\u001b[49m\u001b[43m \u001b[49m\u001b[38;5;241;43m=\u001b[39;49m\u001b[43m \u001b[49m\u001b[38;5;241;43m16\u001b[39;49m\u001b[43m,\u001b[49m\u001b[43m \u001b[49m\u001b[43mwgt_frac_size\u001b[49m\u001b[43m \u001b[49m\u001b[38;5;241;43m=\u001b[39;49m\u001b[43m \u001b[49m\u001b[38;5;241;43m16\u001b[39;49m\u001b[43m,\u001b[49m\u001b[43m \u001b[49m\u001b[43mwgt_int_size\u001b[49m\u001b[43m \u001b[49m\u001b[38;5;241;43m=\u001b[39;49m\u001b[43m \u001b[49m\u001b[38;5;241;43m16\u001b[39;49m\u001b[43m,\u001b[49m\u001b[43m \u001b[49m\n\u001b[0;32m      2\u001b[0m \u001b[43m                    \u001b[49m\u001b[43minput_shape\u001b[49m\u001b[43m \u001b[49m\u001b[38;5;241;43m=\u001b[39;49m\u001b[43m \u001b[49m\u001b[43m(\u001b[49m\u001b[38;5;241;43m500\u001b[39;49m\u001b[43m)\u001b[49m\u001b[43m,\u001b[49m\u001b[43m \u001b[49m\u001b[43moutput_shape\u001b[49m\u001b[43m \u001b[49m\u001b[38;5;241;43m=\u001b[39;49m\u001b[43m \u001b[49m\u001b[38;5;241;43m1\u001b[39;49m\u001b[43m,\u001b[49m\u001b[43m \u001b[49m\u001b[43mbatch_size\u001b[49m\u001b[43m \u001b[49m\u001b[38;5;241;43m=\u001b[39;49m\u001b[43m \u001b[49m\u001b[43mtest_batch_size\u001b[49m\u001b[43m)\u001b[49m\n",
      "File \u001b[1;32m~\\Desktop\\CNN_Gating\\Stats.py:115\u001b[0m, in \u001b[0;36mCheckAccuracyAndLoss\u001b[1;34m(architecture, test_dataset, wgt_dir, act_frac_size, act_int_size, wgt_frac_size, wgt_int_size, input_shape, output_shape, faulty_addresses, masked_faults, aging_active, batch_size, verbose, weights_faults)\u001b[0m\n\u001b[0;32m    109\u001b[0m qNet \u001b[38;5;241m=\u001b[39m GetNeuralNetworkModel(architecture,input_shape,output_shape,faulty_addresses,masked_faults,aging_active\u001b[38;5;241m=\u001b[39maging_active,\n\u001b[0;32m    110\u001b[0m \t\t\t\t\t\t\t word_size\u001b[38;5;241m=\u001b[39m(\u001b[38;5;241m1\u001b[39m\u001b[38;5;241m+\u001b[39mact_frac_size\u001b[38;5;241m+\u001b[39mact_int_size), frac_size\u001b[38;5;241m=\u001b[39mact_frac_size, batch_size \u001b[38;5;241m=\u001b[39m batch_size)\n\u001b[0;32m    111\u001b[0m \u001b[38;5;66;03m#print('valor de aging_active', aging_active)\u001b[39;00m\n\u001b[0;32m    112\u001b[0m \n\u001b[0;32m    113\u001b[0m \n\u001b[0;32m    114\u001b[0m \u001b[38;5;66;03m#Load Weights\u001b[39;00m\n\u001b[1;32m--> 115\u001b[0m \u001b[43mqNet\u001b[49m\u001b[38;5;241;43m.\u001b[39;49m\u001b[43mload_weights\u001b[49m\u001b[43m(\u001b[49m\u001b[43mwgt_dir\u001b[49m\u001b[43m)\u001b[49m\u001b[38;5;241m.\u001b[39mexpect_partial()\n\u001b[0;32m    116\u001b[0m pesos_antes \u001b[38;5;241m=\u001b[39m qNet\u001b[38;5;241m.\u001b[39mget_weights()\n\u001b[0;32m    117\u001b[0m \u001b[38;5;66;03m#print(len(pesos_antes))\u001b[39;00m\n\u001b[0;32m    118\u001b[0m \u001b[38;5;66;03m#print('pesos antes',pesos_antes)\u001b[39;00m\n\u001b[0;32m    119\u001b[0m \u001b[38;5;66;03m#print('qnet.load',qNet.load_weights(wgt_dir).expect_partial())\u001b[39;00m\n\u001b[0;32m    120\u001b[0m \u001b[38;5;66;03m#Quantize Weights\u001b[39;00m\n",
      "File \u001b[1;32m~\\anaconda3\\envs\\env_first\\lib\\site-packages\\tensorflow\\python\\keras\\engine\\training.py:2297\u001b[0m, in \u001b[0;36mModel.load_weights\u001b[1;34m(self, filepath, by_name, skip_mismatch, options)\u001b[0m\n\u001b[0;32m   2295\u001b[0m filepath, save_format \u001b[38;5;241m=\u001b[39m _detect_save_format(filepath)\n\u001b[0;32m   2296\u001b[0m \u001b[38;5;28;01mif\u001b[39;00m save_format \u001b[38;5;241m==\u001b[39m \u001b[38;5;124m'\u001b[39m\u001b[38;5;124mtf\u001b[39m\u001b[38;5;124m'\u001b[39m:\n\u001b[1;32m-> 2297\u001b[0m   status \u001b[38;5;241m=\u001b[39m \u001b[38;5;28;43mself\u001b[39;49m\u001b[38;5;241;43m.\u001b[39;49m\u001b[43m_trackable_saver\u001b[49m\u001b[38;5;241;43m.\u001b[39;49m\u001b[43mrestore\u001b[49m\u001b[43m(\u001b[49m\u001b[43mfilepath\u001b[49m\u001b[43m,\u001b[49m\u001b[43m \u001b[49m\u001b[43moptions\u001b[49m\u001b[43m)\u001b[49m\n\u001b[0;32m   2298\u001b[0m   \u001b[38;5;28;01mif\u001b[39;00m by_name:\n\u001b[0;32m   2299\u001b[0m     \u001b[38;5;28;01mraise\u001b[39;00m \u001b[38;5;167;01mNotImplementedError\u001b[39;00m(\n\u001b[0;32m   2300\u001b[0m         \u001b[38;5;124m'\u001b[39m\u001b[38;5;124mWeights may only be loaded based on topology into Models when \u001b[39m\u001b[38;5;124m'\u001b[39m\n\u001b[0;32m   2301\u001b[0m         \u001b[38;5;124m'\u001b[39m\u001b[38;5;124mloading TensorFlow-formatted weights (got by_name=True to \u001b[39m\u001b[38;5;124m'\u001b[39m\n\u001b[0;32m   2302\u001b[0m         \u001b[38;5;124m'\u001b[39m\u001b[38;5;124mload_weights).\u001b[39m\u001b[38;5;124m'\u001b[39m)\n",
      "File \u001b[1;32m~\\anaconda3\\envs\\env_first\\lib\\site-packages\\tensorflow\\python\\training\\tracking\\util.py:1338\u001b[0m, in \u001b[0;36mTrackableSaver.restore\u001b[1;34m(self, save_path, options)\u001b[0m\n\u001b[0;32m   1330\u001b[0m object_graph_proto\u001b[38;5;241m.\u001b[39mParseFromString(object_graph_string)\n\u001b[0;32m   1331\u001b[0m checkpoint \u001b[38;5;241m=\u001b[39m _CheckpointRestoreCoordinator(\n\u001b[0;32m   1332\u001b[0m     object_graph_proto\u001b[38;5;241m=\u001b[39mobject_graph_proto,\n\u001b[0;32m   1333\u001b[0m     save_path\u001b[38;5;241m=\u001b[39msave_path,\n\u001b[1;32m   (...)\u001b[0m\n\u001b[0;32m   1336\u001b[0m     graph_view\u001b[38;5;241m=\u001b[39m\u001b[38;5;28mself\u001b[39m\u001b[38;5;241m.\u001b[39m_graph_view,\n\u001b[0;32m   1337\u001b[0m     options\u001b[38;5;241m=\u001b[39moptions)\n\u001b[1;32m-> 1338\u001b[0m \u001b[43mbase\u001b[49m\u001b[38;5;241;43m.\u001b[39;49m\u001b[43mCheckpointPosition\u001b[49m\u001b[43m(\u001b[49m\n\u001b[0;32m   1339\u001b[0m \u001b[43m    \u001b[49m\u001b[43mcheckpoint\u001b[49m\u001b[38;5;241;43m=\u001b[39;49m\u001b[43mcheckpoint\u001b[49m\u001b[43m,\u001b[49m\u001b[43m \u001b[49m\u001b[43mproto_id\u001b[49m\u001b[38;5;241;43m=\u001b[39;49m\u001b[38;5;241;43m0\u001b[39;49m\u001b[43m)\u001b[49m\u001b[38;5;241;43m.\u001b[39;49m\u001b[43mrestore\u001b[49m\u001b[43m(\u001b[49m\u001b[38;5;28;43mself\u001b[39;49m\u001b[38;5;241;43m.\u001b[39;49m\u001b[43m_graph_view\u001b[49m\u001b[38;5;241;43m.\u001b[39;49m\u001b[43mroot\u001b[49m\u001b[43m)\u001b[49m\n\u001b[0;32m   1341\u001b[0m \u001b[38;5;66;03m# Attached dependencies are not attached to the root, so should be restored\u001b[39;00m\n\u001b[0;32m   1342\u001b[0m \u001b[38;5;66;03m# separately.\u001b[39;00m\n\u001b[0;32m   1343\u001b[0m \u001b[38;5;28;01mif\u001b[39;00m \u001b[38;5;28mself\u001b[39m\u001b[38;5;241m.\u001b[39m_graph_view\u001b[38;5;241m.\u001b[39mattached_dependencies:\n",
      "File \u001b[1;32m~\\anaconda3\\envs\\env_first\\lib\\site-packages\\tensorflow\\python\\training\\tracking\\base.py:258\u001b[0m, in \u001b[0;36mCheckpointPosition.restore\u001b[1;34m(self, trackable)\u001b[0m\n\u001b[0;32m    254\u001b[0m \u001b[38;5;28;01mwith\u001b[39;00m ops\u001b[38;5;241m.\u001b[39minit_scope():\n\u001b[0;32m    255\u001b[0m   \u001b[38;5;28;01mif\u001b[39;00m \u001b[38;5;28mself\u001b[39m\u001b[38;5;241m.\u001b[39mbind_object(trackable):\n\u001b[0;32m    256\u001b[0m     \u001b[38;5;66;03m# This object's correspondence with a checkpointed object is new, so\u001b[39;00m\n\u001b[0;32m    257\u001b[0m     \u001b[38;5;66;03m# process deferred restorations for it and its dependencies.\u001b[39;00m\n\u001b[1;32m--> 258\u001b[0m     restore_ops \u001b[38;5;241m=\u001b[39m \u001b[43mtrackable\u001b[49m\u001b[38;5;241;43m.\u001b[39;49m\u001b[43m_restore_from_checkpoint_position\u001b[49m\u001b[43m(\u001b[49m\u001b[38;5;28;43mself\u001b[39;49m\u001b[43m)\u001b[49m  \u001b[38;5;66;03m# pylint: disable=protected-access\u001b[39;00m\n\u001b[0;32m    259\u001b[0m     \u001b[38;5;28;01mif\u001b[39;00m restore_ops:\n\u001b[0;32m    260\u001b[0m       \u001b[38;5;28mself\u001b[39m\u001b[38;5;241m.\u001b[39m_checkpoint\u001b[38;5;241m.\u001b[39mnew_restore_ops(restore_ops)\n",
      "File \u001b[1;32m~\\anaconda3\\envs\\env_first\\lib\\site-packages\\tensorflow\\python\\training\\tracking\\base.py:977\u001b[0m, in \u001b[0;36mTrackable._restore_from_checkpoint_position\u001b[1;34m(self, checkpoint_position)\u001b[0m\n\u001b[0;32m    974\u001b[0m   tensor_saveables\u001b[38;5;241m.\u001b[39mupdate(new_tensor_saveables)\n\u001b[0;32m    975\u001b[0m   python_saveables\u001b[38;5;241m.\u001b[39mextend(new_python_saveables)\n\u001b[0;32m    976\u001b[0m restore_ops\u001b[38;5;241m.\u001b[39mextend(\n\u001b[1;32m--> 977\u001b[0m     \u001b[43mcurrent_position\u001b[49m\u001b[38;5;241;43m.\u001b[39;49m\u001b[43mcheckpoint\u001b[49m\u001b[38;5;241;43m.\u001b[39;49m\u001b[43mrestore_saveables\u001b[49m\u001b[43m(\u001b[49m\n\u001b[0;32m    978\u001b[0m \u001b[43m        \u001b[49m\u001b[43mtensor_saveables\u001b[49m\u001b[43m,\u001b[49m\u001b[43m \u001b[49m\u001b[43mpython_saveables\u001b[49m\u001b[43m)\u001b[49m)\n\u001b[0;32m    979\u001b[0m \u001b[38;5;28;01mreturn\u001b[39;00m restore_ops\n",
      "File \u001b[1;32m~\\anaconda3\\envs\\env_first\\lib\\site-packages\\tensorflow\\python\\training\\tracking\\util.py:308\u001b[0m, in \u001b[0;36m_CheckpointRestoreCoordinator.restore_saveables\u001b[1;34m(self, tensor_saveables, python_saveables)\u001b[0m\n\u001b[0;32m    304\u001b[0m \u001b[38;5;28;01mif\u001b[39;00m \u001b[38;5;28mset\u001b[39m(tensor_saveables\u001b[38;5;241m.\u001b[39mkeys()) \u001b[38;5;241m!=\u001b[39m validated_names:\n\u001b[0;32m    305\u001b[0m   \u001b[38;5;28;01mraise\u001b[39;00m \u001b[38;5;167;01mAssertionError\u001b[39;00m(\n\u001b[0;32m    306\u001b[0m       (\u001b[38;5;124m\"\u001b[39m\u001b[38;5;124mSaveable keys changed when validating. Got back \u001b[39m\u001b[38;5;132;01m%s\u001b[39;00m\u001b[38;5;124m, was \u001b[39m\u001b[38;5;124m\"\u001b[39m\n\u001b[0;32m    307\u001b[0m        \u001b[38;5;124m\"\u001b[39m\u001b[38;5;124mexpecting \u001b[39m\u001b[38;5;132;01m%s\u001b[39;00m\u001b[38;5;124m\"\u001b[39m) \u001b[38;5;241m%\u001b[39m (tensor_saveables\u001b[38;5;241m.\u001b[39mkeys(), validated_names))\n\u001b[1;32m--> 308\u001b[0m new_restore_ops \u001b[38;5;241m=\u001b[39m \u001b[43mfunctional_saver\u001b[49m\u001b[38;5;241;43m.\u001b[39;49m\u001b[43mMultiDeviceSaver\u001b[49m\u001b[43m(\u001b[49m\n\u001b[0;32m    309\u001b[0m \u001b[43m    \u001b[49m\u001b[43mvalidated_saveables\u001b[49m\u001b[43m)\u001b[49m\u001b[38;5;241;43m.\u001b[39;49m\u001b[43mrestore\u001b[49m\u001b[43m(\u001b[49m\u001b[38;5;28;43mself\u001b[39;49m\u001b[38;5;241;43m.\u001b[39;49m\u001b[43msave_path_tensor\u001b[49m\u001b[43m,\u001b[49m\u001b[43m \u001b[49m\u001b[38;5;28;43mself\u001b[39;49m\u001b[38;5;241;43m.\u001b[39;49m\u001b[43moptions\u001b[49m\u001b[43m)\u001b[49m\n\u001b[0;32m    310\u001b[0m \u001b[38;5;28;01mif\u001b[39;00m \u001b[38;5;129;01mnot\u001b[39;00m context\u001b[38;5;241m.\u001b[39mexecuting_eagerly():\n\u001b[0;32m    311\u001b[0m   \u001b[38;5;28;01mfor\u001b[39;00m name, restore_op \u001b[38;5;129;01min\u001b[39;00m \u001b[38;5;28msorted\u001b[39m(new_restore_ops\u001b[38;5;241m.\u001b[39mitems()):\n",
      "File \u001b[1;32m~\\anaconda3\\envs\\env_first\\lib\\site-packages\\tensorflow\\python\\training\\saving\\functional_saver.py:339\u001b[0m, in \u001b[0;36mMultiDeviceSaver.restore\u001b[1;34m(self, file_prefix, options)\u001b[0m\n\u001b[0;32m    337\u001b[0m   restore_ops \u001b[38;5;241m=\u001b[39m tf_function_restore()\n\u001b[0;32m    338\u001b[0m \u001b[38;5;28;01melse\u001b[39;00m:\n\u001b[1;32m--> 339\u001b[0m   restore_ops \u001b[38;5;241m=\u001b[39m \u001b[43mrestore_fn\u001b[49m\u001b[43m(\u001b[49m\u001b[43m)\u001b[49m\n\u001b[0;32m    341\u001b[0m \u001b[38;5;28;01mfor\u001b[39;00m callback \u001b[38;5;129;01min\u001b[39;00m \u001b[38;5;28mself\u001b[39m\u001b[38;5;241m.\u001b[39m_after_restore_callbacks:\n\u001b[0;32m    342\u001b[0m   callback()\n",
      "File \u001b[1;32m~\\anaconda3\\envs\\env_first\\lib\\site-packages\\tensorflow\\python\\training\\saving\\functional_saver.py:323\u001b[0m, in \u001b[0;36mMultiDeviceSaver.restore.<locals>.restore_fn\u001b[1;34m()\u001b[0m\n\u001b[0;32m    321\u001b[0m \u001b[38;5;28;01mfor\u001b[39;00m device, saver \u001b[38;5;129;01min\u001b[39;00m \u001b[38;5;28msorted\u001b[39m(\u001b[38;5;28mself\u001b[39m\u001b[38;5;241m.\u001b[39m_single_device_savers\u001b[38;5;241m.\u001b[39mitems()):\n\u001b[0;32m    322\u001b[0m   \u001b[38;5;28;01mwith\u001b[39;00m ops\u001b[38;5;241m.\u001b[39mdevice(device):\n\u001b[1;32m--> 323\u001b[0m     restore_ops\u001b[38;5;241m.\u001b[39mupdate(\u001b[43msaver\u001b[49m\u001b[38;5;241;43m.\u001b[39;49m\u001b[43mrestore\u001b[49m\u001b[43m(\u001b[49m\u001b[43mfile_prefix\u001b[49m\u001b[43m,\u001b[49m\u001b[43m \u001b[49m\u001b[43moptions\u001b[49m\u001b[43m)\u001b[49m)\n\u001b[0;32m    325\u001b[0m \u001b[38;5;28;01mreturn\u001b[39;00m restore_ops\n",
      "File \u001b[1;32m~\\anaconda3\\envs\\env_first\\lib\\site-packages\\tensorflow\\python\\training\\saving\\functional_saver.py:115\u001b[0m, in \u001b[0;36m_SingleDeviceSaver.restore\u001b[1;34m(self, file_prefix, options)\u001b[0m\n\u001b[0;32m    112\u001b[0m restore_ops \u001b[38;5;241m=\u001b[39m {}\n\u001b[0;32m    113\u001b[0m \u001b[38;5;28;01mfor\u001b[39;00m saveable, restored_tensors \u001b[38;5;129;01min\u001b[39;00m \u001b[38;5;28mzip\u001b[39m(\u001b[38;5;28mself\u001b[39m\u001b[38;5;241m.\u001b[39m_saveable_objects,\n\u001b[0;32m    114\u001b[0m                                       structured_restored_tensors):\n\u001b[1;32m--> 115\u001b[0m   restore_ops[saveable\u001b[38;5;241m.\u001b[39mname] \u001b[38;5;241m=\u001b[39m \u001b[43msaveable\u001b[49m\u001b[38;5;241;43m.\u001b[39;49m\u001b[43mrestore\u001b[49m\u001b[43m(\u001b[49m\n\u001b[0;32m    116\u001b[0m \u001b[43m      \u001b[49m\u001b[43mrestored_tensors\u001b[49m\u001b[43m,\u001b[49m\u001b[43m \u001b[49m\u001b[43mrestored_shapes\u001b[49m\u001b[38;5;241;43m=\u001b[39;49m\u001b[38;5;28;43;01mNone\u001b[39;49;00m\u001b[43m)\u001b[49m\n\u001b[0;32m    117\u001b[0m \u001b[38;5;28;01mreturn\u001b[39;00m restore_ops\n",
      "File \u001b[1;32m~\\anaconda3\\envs\\env_first\\lib\\site-packages\\tensorflow\\python\\training\\saving\\saveable_object_util.py:131\u001b[0m, in \u001b[0;36mResourceVariableSaveable.restore\u001b[1;34m(self, restored_tensors, restored_shapes)\u001b[0m\n\u001b[0;32m    129\u001b[0m \u001b[38;5;28;01mwith\u001b[39;00m ops\u001b[38;5;241m.\u001b[39mdevice(\u001b[38;5;28mself\u001b[39m\u001b[38;5;241m.\u001b[39m_var_device):\n\u001b[0;32m    130\u001b[0m   restored_tensor \u001b[38;5;241m=\u001b[39m array_ops\u001b[38;5;241m.\u001b[39midentity(restored_tensor)\n\u001b[1;32m--> 131\u001b[0m   \u001b[38;5;28;01mreturn\u001b[39;00m \u001b[43mresource_variable_ops\u001b[49m\u001b[38;5;241;43m.\u001b[39;49m\u001b[43mshape_safe_assign_variable_handle\u001b[49m\u001b[43m(\u001b[49m\n\u001b[0;32m    132\u001b[0m \u001b[43m      \u001b[49m\u001b[38;5;28;43mself\u001b[39;49m\u001b[38;5;241;43m.\u001b[39;49m\u001b[43mhandle_op\u001b[49m\u001b[43m,\u001b[49m\u001b[43m \u001b[49m\u001b[38;5;28;43mself\u001b[39;49m\u001b[38;5;241;43m.\u001b[39;49m\u001b[43m_var_shape\u001b[49m\u001b[43m,\u001b[49m\u001b[43m \u001b[49m\u001b[43mrestored_tensor\u001b[49m\u001b[43m)\u001b[49m\n",
      "File \u001b[1;32m~\\anaconda3\\envs\\env_first\\lib\\site-packages\\tensorflow\\python\\ops\\resource_variable_ops.py:308\u001b[0m, in \u001b[0;36mshape_safe_assign_variable_handle\u001b[1;34m(handle, shape, value, name)\u001b[0m\n\u001b[0;32m    306\u001b[0m \u001b[38;5;28;01mwith\u001b[39;00m _handle_graph(handle):\n\u001b[0;32m    307\u001b[0m   value_tensor \u001b[38;5;241m=\u001b[39m ops\u001b[38;5;241m.\u001b[39mconvert_to_tensor(value)\n\u001b[1;32m--> 308\u001b[0m \u001b[43mshape\u001b[49m\u001b[38;5;241;43m.\u001b[39;49m\u001b[43massert_is_compatible_with\u001b[49m\u001b[43m(\u001b[49m\u001b[43mvalue_tensor\u001b[49m\u001b[38;5;241;43m.\u001b[39;49m\u001b[43mshape\u001b[49m\u001b[43m)\u001b[49m\n\u001b[0;32m    309\u001b[0m \u001b[38;5;28;01mreturn\u001b[39;00m gen_resource_variable_ops\u001b[38;5;241m.\u001b[39massign_variable_op(\n\u001b[0;32m    310\u001b[0m     handle, value_tensor, name\u001b[38;5;241m=\u001b[39mname)\n",
      "File \u001b[1;32m~\\anaconda3\\envs\\env_first\\lib\\site-packages\\tensorflow\\python\\framework\\tensor_shape.py:1161\u001b[0m, in \u001b[0;36mTensorShape.assert_is_compatible_with\u001b[1;34m(self, other)\u001b[0m\n\u001b[0;32m   1149\u001b[0m \u001b[38;5;124;03m\"\"\"Raises exception if `self` and `other` do not represent the same shape.\u001b[39;00m\n\u001b[0;32m   1150\u001b[0m \n\u001b[0;32m   1151\u001b[0m \u001b[38;5;124;03mThis method can be used to assert that there exists a shape that both\u001b[39;00m\n\u001b[1;32m   (...)\u001b[0m\n\u001b[0;32m   1158\u001b[0m \u001b[38;5;124;03m  ValueError: If `self` and `other` do not represent the same shape.\u001b[39;00m\n\u001b[0;32m   1159\u001b[0m \u001b[38;5;124;03m\"\"\"\u001b[39;00m\n\u001b[0;32m   1160\u001b[0m \u001b[38;5;28;01mif\u001b[39;00m \u001b[38;5;129;01mnot\u001b[39;00m \u001b[38;5;28mself\u001b[39m\u001b[38;5;241m.\u001b[39mis_compatible_with(other):\n\u001b[1;32m-> 1161\u001b[0m   \u001b[38;5;28;01mraise\u001b[39;00m \u001b[38;5;167;01mValueError\u001b[39;00m(\u001b[38;5;124m\"\u001b[39m\u001b[38;5;124mShapes \u001b[39m\u001b[38;5;132;01m%s\u001b[39;00m\u001b[38;5;124m and \u001b[39m\u001b[38;5;132;01m%s\u001b[39;00m\u001b[38;5;124m are incompatible\u001b[39m\u001b[38;5;124m\"\u001b[39m \u001b[38;5;241m%\u001b[39m (\u001b[38;5;28mself\u001b[39m, other))\n",
      "\u001b[1;31mValueError\u001b[0m: Shapes (16000, 250) and (8000, 250) are incompatible"
     ]
    }
   ],
   "source": [
    "CheckAccuracyAndLoss('SentimentalNet', test_set, wgt_dir, act_frac_size = 16, act_int_size = 16, wgt_frac_size = 16, wgt_int_size = 16, \n",
    "                    input_shape = (500), output_shape = 1, batch_size = test_batch_size);"
   ]
  },
  {
   "cell_type": "markdown",
   "metadata": {},
   "source": [
    "### &nbsp;&nbsp;&nbsp;&nbsp;&nbsp;&nbsp; b) Number of bits analysis"
   ]
  },
  {
   "cell_type": "code",
   "execution_count": 40,
   "metadata": {},
   "outputs": [
    {
     "name": "stdout",
     "output_type": "stream",
     "text": [
      "Estoy aquí en el efecto d ecuantización\n",
      "Activation fraction part\n",
      "aging_active en AddCustomLayers False\n",
      "dentro de includin Aging False\n",
      "dentro de GenerateAddressList \n",
      "aging_active dentro de aging_argiments False\n",
      "aging_active en AddCustomLayers False\n",
      "dentro de includin Aging False\n",
      "dentro de GenerateAddressList \n",
      "aging_active dentro de aging_argiments False\n",
      "aging_active en AddCustomLayers False\n",
      "dentro de includin Aging False\n",
      "dentro de GenerateAddressList \n",
      "aging_active dentro de aging_argiments False\n",
      "aging_active en AddCustomLayers False\n",
      "dentro de includin Aging False\n",
      "dentro de GenerateAddressList \n",
      "aging_active dentro de aging_argiments False\n",
      "aging_active en AddCustomLayers False\n",
      "aging_active en AddCustomLayers False\n"
     ]
    },
    {
     "ename": "ValueError",
     "evalue": "Shapes (16000, 250) and (8000, 250) are incompatible",
     "output_type": "error",
     "traceback": [
      "\u001b[1;31m---------------------------------------------------------------------------\u001b[0m",
      "\u001b[1;31mValueError\u001b[0m                                Traceback (most recent call last)",
      "Input \u001b[1;32mIn [40]\u001b[0m, in \u001b[0;36m<cell line: 1>\u001b[1;34m()\u001b[0m\n\u001b[1;32m----> 1\u001b[0m df \u001b[38;5;241m=\u001b[39m \u001b[43mQuantizationEffect\u001b[49m\u001b[43m(\u001b[49m\u001b[38;5;124;43m'\u001b[39;49m\u001b[38;5;124;43mSentimentalNet\u001b[39;49m\u001b[38;5;124;43m'\u001b[39;49m\u001b[43m,\u001b[49m\u001b[43mtest_set\u001b[49m\u001b[43m,\u001b[49m\u001b[43mwgt_dir\u001b[49m\u001b[43m,\u001b[49m\u001b[43m(\u001b[49m\u001b[38;5;241;43m500\u001b[39;49m\u001b[43m)\u001b[49m\u001b[43m,\u001b[49m\u001b[38;5;241;43m1\u001b[39;49m\u001b[43m,\u001b[49m\u001b[43mtest_batch_size\u001b[49m\u001b[43m)\u001b[49m\n",
      "File \u001b[1;32m~\\Desktop\\CNN_Gating\\Stats.py:341\u001b[0m, in \u001b[0;36mQuantizationEffect\u001b[1;34m(architecture, dataset, wgt_dir, input_shape, output_shape, batch_size, verbose)\u001b[0m\n\u001b[0;32m    339\u001b[0m \u001b[38;5;28mprint\u001b[39m(\u001b[38;5;124m'\u001b[39m\u001b[38;5;124mActivation fraction part\u001b[39m\u001b[38;5;124m'\u001b[39m)\n\u001b[0;32m    340\u001b[0m \u001b[38;5;28;01mfor\u001b[39;00m bit \u001b[38;5;129;01min\u001b[39;00m bits:\n\u001b[1;32m--> 341\u001b[0m \tloss, acc \u001b[38;5;241m=\u001b[39m \u001b[43mCheckAccuracyAndLoss\u001b[49m\u001b[43m(\u001b[49m\u001b[43marchitecture\u001b[49m\u001b[43m,\u001b[49m\u001b[43m \u001b[49m\u001b[43mdataset\u001b[49m\u001b[43m,\u001b[49m\u001b[43m \u001b[49m\u001b[43mwgt_dir\u001b[49m\u001b[43m,\u001b[49m\u001b[43m \u001b[49m\u001b[43mact_frac_size\u001b[49m\u001b[43m \u001b[49m\u001b[38;5;241;43m=\u001b[39;49m\u001b[43m \u001b[49m\u001b[43mbit\u001b[49m\u001b[43m,\u001b[49m\u001b[43m \u001b[49m\u001b[43mact_int_size\u001b[49m\u001b[43m \u001b[49m\u001b[38;5;241;43m=\u001b[39;49m\u001b[43m \u001b[49m\u001b[43mNQBE\u001b[49m\u001b[43m,\u001b[49m\u001b[43m \u001b[49m\u001b[43mwgt_frac_size\u001b[49m\u001b[43m \u001b[49m\u001b[38;5;241;43m=\u001b[39;49m\u001b[43m \u001b[49m\u001b[43mNQBE\u001b[49m\u001b[43m,\u001b[49m\u001b[43m \u001b[49m\u001b[43mwgt_int_size\u001b[49m\u001b[43m \u001b[49m\u001b[38;5;241;43m=\u001b[39;49m\u001b[43m \u001b[49m\u001b[43mNQBE\u001b[49m\u001b[43m,\u001b[49m\u001b[43m \u001b[49m\n\u001b[0;32m    342\u001b[0m \u001b[43m\t\t\t\t\t\t\t\t\t\u001b[49m\u001b[43minput_shape\u001b[49m\u001b[43m \u001b[49m\u001b[38;5;241;43m=\u001b[39;49m\u001b[43m \u001b[49m\u001b[43minput_shape\u001b[49m\u001b[43m,\u001b[49m\u001b[43m \u001b[49m\u001b[43moutput_shape\u001b[49m\u001b[43m \u001b[49m\u001b[38;5;241;43m=\u001b[39;49m\u001b[43m \u001b[49m\u001b[43moutput_shape\u001b[49m\u001b[43m,\u001b[49m\u001b[43m \u001b[49m\u001b[43mbatch_size\u001b[49m\u001b[43m \u001b[49m\u001b[38;5;241;43m=\u001b[39;49m\u001b[43m \u001b[49m\u001b[43mbatch_size\u001b[49m\u001b[43m,\u001b[49m\u001b[43m \u001b[49m\u001b[43mverbose\u001b[49m\u001b[43m \u001b[49m\u001b[38;5;241;43m=\u001b[39;49m\u001b[43m \u001b[49m\u001b[43mverbose\u001b[49m\u001b[43m)\u001b[49m\n\u001b[0;32m    343\u001b[0m \t\u001b[38;5;28mprint\u001b[39m(bit,\u001b[38;5;124m'\u001b[39m\u001b[38;5;124m bits results: \u001b[39m\u001b[38;5;124m'\u001b[39m,\u001b[38;5;124m'\u001b[39m\u001b[38;5;124macc: \u001b[39m\u001b[38;5;124m'\u001b[39m,acc, \u001b[38;5;124m'\u001b[39m\u001b[38;5;124mloss: \u001b[39m\u001b[38;5;124m'\u001b[39m,loss)\n\u001b[0;32m    344\u001b[0m \tdf \u001b[38;5;241m=\u001b[39m df\u001b[38;5;241m.\u001b[39mappend(pd\u001b[38;5;241m.\u001b[39mDataFrame({\u001b[38;5;124m'\u001b[39m\u001b[38;5;124mExperiment\u001b[39m\u001b[38;5;124m'\u001b[39m:[\u001b[38;5;124m'\u001b[39m\u001b[38;5;124mActivation fraction part\u001b[39m\u001b[38;5;124m'\u001b[39m],\u001b[38;5;124m'\u001b[39m\u001b[38;5;124mbits\u001b[39m\u001b[38;5;124m'\u001b[39m:[bit],\u001b[38;5;124m'\u001b[39m\u001b[38;5;124macc\u001b[39m\u001b[38;5;124m'\u001b[39m:[acc],\u001b[38;5;124m'\u001b[39m\u001b[38;5;124mloss\u001b[39m\u001b[38;5;124m'\u001b[39m:[loss]}))\n",
      "File \u001b[1;32m~\\Desktop\\CNN_Gating\\Stats.py:115\u001b[0m, in \u001b[0;36mCheckAccuracyAndLoss\u001b[1;34m(architecture, test_dataset, wgt_dir, act_frac_size, act_int_size, wgt_frac_size, wgt_int_size, input_shape, output_shape, faulty_addresses, masked_faults, aging_active, batch_size, verbose, weights_faults)\u001b[0m\n\u001b[0;32m    109\u001b[0m qNet \u001b[38;5;241m=\u001b[39m GetNeuralNetworkModel(architecture,input_shape,output_shape,faulty_addresses,masked_faults,aging_active\u001b[38;5;241m=\u001b[39maging_active,\n\u001b[0;32m    110\u001b[0m \t\t\t\t\t\t\t word_size\u001b[38;5;241m=\u001b[39m(\u001b[38;5;241m1\u001b[39m\u001b[38;5;241m+\u001b[39mact_frac_size\u001b[38;5;241m+\u001b[39mact_int_size), frac_size\u001b[38;5;241m=\u001b[39mact_frac_size, batch_size \u001b[38;5;241m=\u001b[39m batch_size)\n\u001b[0;32m    111\u001b[0m \u001b[38;5;66;03m#print('valor de aging_active', aging_active)\u001b[39;00m\n\u001b[0;32m    112\u001b[0m \n\u001b[0;32m    113\u001b[0m \n\u001b[0;32m    114\u001b[0m \u001b[38;5;66;03m#Load Weights\u001b[39;00m\n\u001b[1;32m--> 115\u001b[0m \u001b[43mqNet\u001b[49m\u001b[38;5;241;43m.\u001b[39;49m\u001b[43mload_weights\u001b[49m\u001b[43m(\u001b[49m\u001b[43mwgt_dir\u001b[49m\u001b[43m)\u001b[49m\u001b[38;5;241m.\u001b[39mexpect_partial()\n\u001b[0;32m    116\u001b[0m pesos_antes \u001b[38;5;241m=\u001b[39m qNet\u001b[38;5;241m.\u001b[39mget_weights()\n\u001b[0;32m    117\u001b[0m \u001b[38;5;66;03m#print(len(pesos_antes))\u001b[39;00m\n\u001b[0;32m    118\u001b[0m \u001b[38;5;66;03m#print('pesos antes',pesos_antes)\u001b[39;00m\n\u001b[0;32m    119\u001b[0m \u001b[38;5;66;03m#print('qnet.load',qNet.load_weights(wgt_dir).expect_partial())\u001b[39;00m\n\u001b[0;32m    120\u001b[0m \u001b[38;5;66;03m#Quantize Weights\u001b[39;00m\n",
      "File \u001b[1;32m~\\anaconda3\\envs\\env_first\\lib\\site-packages\\tensorflow\\python\\keras\\engine\\training.py:2297\u001b[0m, in \u001b[0;36mModel.load_weights\u001b[1;34m(self, filepath, by_name, skip_mismatch, options)\u001b[0m\n\u001b[0;32m   2295\u001b[0m filepath, save_format \u001b[38;5;241m=\u001b[39m _detect_save_format(filepath)\n\u001b[0;32m   2296\u001b[0m \u001b[38;5;28;01mif\u001b[39;00m save_format \u001b[38;5;241m==\u001b[39m \u001b[38;5;124m'\u001b[39m\u001b[38;5;124mtf\u001b[39m\u001b[38;5;124m'\u001b[39m:\n\u001b[1;32m-> 2297\u001b[0m   status \u001b[38;5;241m=\u001b[39m \u001b[38;5;28;43mself\u001b[39;49m\u001b[38;5;241;43m.\u001b[39;49m\u001b[43m_trackable_saver\u001b[49m\u001b[38;5;241;43m.\u001b[39;49m\u001b[43mrestore\u001b[49m\u001b[43m(\u001b[49m\u001b[43mfilepath\u001b[49m\u001b[43m,\u001b[49m\u001b[43m \u001b[49m\u001b[43moptions\u001b[49m\u001b[43m)\u001b[49m\n\u001b[0;32m   2298\u001b[0m   \u001b[38;5;28;01mif\u001b[39;00m by_name:\n\u001b[0;32m   2299\u001b[0m     \u001b[38;5;28;01mraise\u001b[39;00m \u001b[38;5;167;01mNotImplementedError\u001b[39;00m(\n\u001b[0;32m   2300\u001b[0m         \u001b[38;5;124m'\u001b[39m\u001b[38;5;124mWeights may only be loaded based on topology into Models when \u001b[39m\u001b[38;5;124m'\u001b[39m\n\u001b[0;32m   2301\u001b[0m         \u001b[38;5;124m'\u001b[39m\u001b[38;5;124mloading TensorFlow-formatted weights (got by_name=True to \u001b[39m\u001b[38;5;124m'\u001b[39m\n\u001b[0;32m   2302\u001b[0m         \u001b[38;5;124m'\u001b[39m\u001b[38;5;124mload_weights).\u001b[39m\u001b[38;5;124m'\u001b[39m)\n",
      "File \u001b[1;32m~\\anaconda3\\envs\\env_first\\lib\\site-packages\\tensorflow\\python\\training\\tracking\\util.py:1338\u001b[0m, in \u001b[0;36mTrackableSaver.restore\u001b[1;34m(self, save_path, options)\u001b[0m\n\u001b[0;32m   1330\u001b[0m object_graph_proto\u001b[38;5;241m.\u001b[39mParseFromString(object_graph_string)\n\u001b[0;32m   1331\u001b[0m checkpoint \u001b[38;5;241m=\u001b[39m _CheckpointRestoreCoordinator(\n\u001b[0;32m   1332\u001b[0m     object_graph_proto\u001b[38;5;241m=\u001b[39mobject_graph_proto,\n\u001b[0;32m   1333\u001b[0m     save_path\u001b[38;5;241m=\u001b[39msave_path,\n\u001b[1;32m   (...)\u001b[0m\n\u001b[0;32m   1336\u001b[0m     graph_view\u001b[38;5;241m=\u001b[39m\u001b[38;5;28mself\u001b[39m\u001b[38;5;241m.\u001b[39m_graph_view,\n\u001b[0;32m   1337\u001b[0m     options\u001b[38;5;241m=\u001b[39moptions)\n\u001b[1;32m-> 1338\u001b[0m \u001b[43mbase\u001b[49m\u001b[38;5;241;43m.\u001b[39;49m\u001b[43mCheckpointPosition\u001b[49m\u001b[43m(\u001b[49m\n\u001b[0;32m   1339\u001b[0m \u001b[43m    \u001b[49m\u001b[43mcheckpoint\u001b[49m\u001b[38;5;241;43m=\u001b[39;49m\u001b[43mcheckpoint\u001b[49m\u001b[43m,\u001b[49m\u001b[43m \u001b[49m\u001b[43mproto_id\u001b[49m\u001b[38;5;241;43m=\u001b[39;49m\u001b[38;5;241;43m0\u001b[39;49m\u001b[43m)\u001b[49m\u001b[38;5;241;43m.\u001b[39;49m\u001b[43mrestore\u001b[49m\u001b[43m(\u001b[49m\u001b[38;5;28;43mself\u001b[39;49m\u001b[38;5;241;43m.\u001b[39;49m\u001b[43m_graph_view\u001b[49m\u001b[38;5;241;43m.\u001b[39;49m\u001b[43mroot\u001b[49m\u001b[43m)\u001b[49m\n\u001b[0;32m   1341\u001b[0m \u001b[38;5;66;03m# Attached dependencies are not attached to the root, so should be restored\u001b[39;00m\n\u001b[0;32m   1342\u001b[0m \u001b[38;5;66;03m# separately.\u001b[39;00m\n\u001b[0;32m   1343\u001b[0m \u001b[38;5;28;01mif\u001b[39;00m \u001b[38;5;28mself\u001b[39m\u001b[38;5;241m.\u001b[39m_graph_view\u001b[38;5;241m.\u001b[39mattached_dependencies:\n",
      "File \u001b[1;32m~\\anaconda3\\envs\\env_first\\lib\\site-packages\\tensorflow\\python\\training\\tracking\\base.py:258\u001b[0m, in \u001b[0;36mCheckpointPosition.restore\u001b[1;34m(self, trackable)\u001b[0m\n\u001b[0;32m    254\u001b[0m \u001b[38;5;28;01mwith\u001b[39;00m ops\u001b[38;5;241m.\u001b[39minit_scope():\n\u001b[0;32m    255\u001b[0m   \u001b[38;5;28;01mif\u001b[39;00m \u001b[38;5;28mself\u001b[39m\u001b[38;5;241m.\u001b[39mbind_object(trackable):\n\u001b[0;32m    256\u001b[0m     \u001b[38;5;66;03m# This object's correspondence with a checkpointed object is new, so\u001b[39;00m\n\u001b[0;32m    257\u001b[0m     \u001b[38;5;66;03m# process deferred restorations for it and its dependencies.\u001b[39;00m\n\u001b[1;32m--> 258\u001b[0m     restore_ops \u001b[38;5;241m=\u001b[39m \u001b[43mtrackable\u001b[49m\u001b[38;5;241;43m.\u001b[39;49m\u001b[43m_restore_from_checkpoint_position\u001b[49m\u001b[43m(\u001b[49m\u001b[38;5;28;43mself\u001b[39;49m\u001b[43m)\u001b[49m  \u001b[38;5;66;03m# pylint: disable=protected-access\u001b[39;00m\n\u001b[0;32m    259\u001b[0m     \u001b[38;5;28;01mif\u001b[39;00m restore_ops:\n\u001b[0;32m    260\u001b[0m       \u001b[38;5;28mself\u001b[39m\u001b[38;5;241m.\u001b[39m_checkpoint\u001b[38;5;241m.\u001b[39mnew_restore_ops(restore_ops)\n",
      "File \u001b[1;32m~\\anaconda3\\envs\\env_first\\lib\\site-packages\\tensorflow\\python\\training\\tracking\\base.py:977\u001b[0m, in \u001b[0;36mTrackable._restore_from_checkpoint_position\u001b[1;34m(self, checkpoint_position)\u001b[0m\n\u001b[0;32m    974\u001b[0m   tensor_saveables\u001b[38;5;241m.\u001b[39mupdate(new_tensor_saveables)\n\u001b[0;32m    975\u001b[0m   python_saveables\u001b[38;5;241m.\u001b[39mextend(new_python_saveables)\n\u001b[0;32m    976\u001b[0m restore_ops\u001b[38;5;241m.\u001b[39mextend(\n\u001b[1;32m--> 977\u001b[0m     \u001b[43mcurrent_position\u001b[49m\u001b[38;5;241;43m.\u001b[39;49m\u001b[43mcheckpoint\u001b[49m\u001b[38;5;241;43m.\u001b[39;49m\u001b[43mrestore_saveables\u001b[49m\u001b[43m(\u001b[49m\n\u001b[0;32m    978\u001b[0m \u001b[43m        \u001b[49m\u001b[43mtensor_saveables\u001b[49m\u001b[43m,\u001b[49m\u001b[43m \u001b[49m\u001b[43mpython_saveables\u001b[49m\u001b[43m)\u001b[49m)\n\u001b[0;32m    979\u001b[0m \u001b[38;5;28;01mreturn\u001b[39;00m restore_ops\n",
      "File \u001b[1;32m~\\anaconda3\\envs\\env_first\\lib\\site-packages\\tensorflow\\python\\training\\tracking\\util.py:308\u001b[0m, in \u001b[0;36m_CheckpointRestoreCoordinator.restore_saveables\u001b[1;34m(self, tensor_saveables, python_saveables)\u001b[0m\n\u001b[0;32m    304\u001b[0m \u001b[38;5;28;01mif\u001b[39;00m \u001b[38;5;28mset\u001b[39m(tensor_saveables\u001b[38;5;241m.\u001b[39mkeys()) \u001b[38;5;241m!=\u001b[39m validated_names:\n\u001b[0;32m    305\u001b[0m   \u001b[38;5;28;01mraise\u001b[39;00m \u001b[38;5;167;01mAssertionError\u001b[39;00m(\n\u001b[0;32m    306\u001b[0m       (\u001b[38;5;124m\"\u001b[39m\u001b[38;5;124mSaveable keys changed when validating. Got back \u001b[39m\u001b[38;5;132;01m%s\u001b[39;00m\u001b[38;5;124m, was \u001b[39m\u001b[38;5;124m\"\u001b[39m\n\u001b[0;32m    307\u001b[0m        \u001b[38;5;124m\"\u001b[39m\u001b[38;5;124mexpecting \u001b[39m\u001b[38;5;132;01m%s\u001b[39;00m\u001b[38;5;124m\"\u001b[39m) \u001b[38;5;241m%\u001b[39m (tensor_saveables\u001b[38;5;241m.\u001b[39mkeys(), validated_names))\n\u001b[1;32m--> 308\u001b[0m new_restore_ops \u001b[38;5;241m=\u001b[39m \u001b[43mfunctional_saver\u001b[49m\u001b[38;5;241;43m.\u001b[39;49m\u001b[43mMultiDeviceSaver\u001b[49m\u001b[43m(\u001b[49m\n\u001b[0;32m    309\u001b[0m \u001b[43m    \u001b[49m\u001b[43mvalidated_saveables\u001b[49m\u001b[43m)\u001b[49m\u001b[38;5;241;43m.\u001b[39;49m\u001b[43mrestore\u001b[49m\u001b[43m(\u001b[49m\u001b[38;5;28;43mself\u001b[39;49m\u001b[38;5;241;43m.\u001b[39;49m\u001b[43msave_path_tensor\u001b[49m\u001b[43m,\u001b[49m\u001b[43m \u001b[49m\u001b[38;5;28;43mself\u001b[39;49m\u001b[38;5;241;43m.\u001b[39;49m\u001b[43moptions\u001b[49m\u001b[43m)\u001b[49m\n\u001b[0;32m    310\u001b[0m \u001b[38;5;28;01mif\u001b[39;00m \u001b[38;5;129;01mnot\u001b[39;00m context\u001b[38;5;241m.\u001b[39mexecuting_eagerly():\n\u001b[0;32m    311\u001b[0m   \u001b[38;5;28;01mfor\u001b[39;00m name, restore_op \u001b[38;5;129;01min\u001b[39;00m \u001b[38;5;28msorted\u001b[39m(new_restore_ops\u001b[38;5;241m.\u001b[39mitems()):\n",
      "File \u001b[1;32m~\\anaconda3\\envs\\env_first\\lib\\site-packages\\tensorflow\\python\\training\\saving\\functional_saver.py:339\u001b[0m, in \u001b[0;36mMultiDeviceSaver.restore\u001b[1;34m(self, file_prefix, options)\u001b[0m\n\u001b[0;32m    337\u001b[0m   restore_ops \u001b[38;5;241m=\u001b[39m tf_function_restore()\n\u001b[0;32m    338\u001b[0m \u001b[38;5;28;01melse\u001b[39;00m:\n\u001b[1;32m--> 339\u001b[0m   restore_ops \u001b[38;5;241m=\u001b[39m \u001b[43mrestore_fn\u001b[49m\u001b[43m(\u001b[49m\u001b[43m)\u001b[49m\n\u001b[0;32m    341\u001b[0m \u001b[38;5;28;01mfor\u001b[39;00m callback \u001b[38;5;129;01min\u001b[39;00m \u001b[38;5;28mself\u001b[39m\u001b[38;5;241m.\u001b[39m_after_restore_callbacks:\n\u001b[0;32m    342\u001b[0m   callback()\n",
      "File \u001b[1;32m~\\anaconda3\\envs\\env_first\\lib\\site-packages\\tensorflow\\python\\training\\saving\\functional_saver.py:323\u001b[0m, in \u001b[0;36mMultiDeviceSaver.restore.<locals>.restore_fn\u001b[1;34m()\u001b[0m\n\u001b[0;32m    321\u001b[0m \u001b[38;5;28;01mfor\u001b[39;00m device, saver \u001b[38;5;129;01min\u001b[39;00m \u001b[38;5;28msorted\u001b[39m(\u001b[38;5;28mself\u001b[39m\u001b[38;5;241m.\u001b[39m_single_device_savers\u001b[38;5;241m.\u001b[39mitems()):\n\u001b[0;32m    322\u001b[0m   \u001b[38;5;28;01mwith\u001b[39;00m ops\u001b[38;5;241m.\u001b[39mdevice(device):\n\u001b[1;32m--> 323\u001b[0m     restore_ops\u001b[38;5;241m.\u001b[39mupdate(\u001b[43msaver\u001b[49m\u001b[38;5;241;43m.\u001b[39;49m\u001b[43mrestore\u001b[49m\u001b[43m(\u001b[49m\u001b[43mfile_prefix\u001b[49m\u001b[43m,\u001b[49m\u001b[43m \u001b[49m\u001b[43moptions\u001b[49m\u001b[43m)\u001b[49m)\n\u001b[0;32m    325\u001b[0m \u001b[38;5;28;01mreturn\u001b[39;00m restore_ops\n",
      "File \u001b[1;32m~\\anaconda3\\envs\\env_first\\lib\\site-packages\\tensorflow\\python\\training\\saving\\functional_saver.py:115\u001b[0m, in \u001b[0;36m_SingleDeviceSaver.restore\u001b[1;34m(self, file_prefix, options)\u001b[0m\n\u001b[0;32m    112\u001b[0m restore_ops \u001b[38;5;241m=\u001b[39m {}\n\u001b[0;32m    113\u001b[0m \u001b[38;5;28;01mfor\u001b[39;00m saveable, restored_tensors \u001b[38;5;129;01min\u001b[39;00m \u001b[38;5;28mzip\u001b[39m(\u001b[38;5;28mself\u001b[39m\u001b[38;5;241m.\u001b[39m_saveable_objects,\n\u001b[0;32m    114\u001b[0m                                       structured_restored_tensors):\n\u001b[1;32m--> 115\u001b[0m   restore_ops[saveable\u001b[38;5;241m.\u001b[39mname] \u001b[38;5;241m=\u001b[39m \u001b[43msaveable\u001b[49m\u001b[38;5;241;43m.\u001b[39;49m\u001b[43mrestore\u001b[49m\u001b[43m(\u001b[49m\n\u001b[0;32m    116\u001b[0m \u001b[43m      \u001b[49m\u001b[43mrestored_tensors\u001b[49m\u001b[43m,\u001b[49m\u001b[43m \u001b[49m\u001b[43mrestored_shapes\u001b[49m\u001b[38;5;241;43m=\u001b[39;49m\u001b[38;5;28;43;01mNone\u001b[39;49;00m\u001b[43m)\u001b[49m\n\u001b[0;32m    117\u001b[0m \u001b[38;5;28;01mreturn\u001b[39;00m restore_ops\n",
      "File \u001b[1;32m~\\anaconda3\\envs\\env_first\\lib\\site-packages\\tensorflow\\python\\training\\saving\\saveable_object_util.py:131\u001b[0m, in \u001b[0;36mResourceVariableSaveable.restore\u001b[1;34m(self, restored_tensors, restored_shapes)\u001b[0m\n\u001b[0;32m    129\u001b[0m \u001b[38;5;28;01mwith\u001b[39;00m ops\u001b[38;5;241m.\u001b[39mdevice(\u001b[38;5;28mself\u001b[39m\u001b[38;5;241m.\u001b[39m_var_device):\n\u001b[0;32m    130\u001b[0m   restored_tensor \u001b[38;5;241m=\u001b[39m array_ops\u001b[38;5;241m.\u001b[39midentity(restored_tensor)\n\u001b[1;32m--> 131\u001b[0m   \u001b[38;5;28;01mreturn\u001b[39;00m \u001b[43mresource_variable_ops\u001b[49m\u001b[38;5;241;43m.\u001b[39;49m\u001b[43mshape_safe_assign_variable_handle\u001b[49m\u001b[43m(\u001b[49m\n\u001b[0;32m    132\u001b[0m \u001b[43m      \u001b[49m\u001b[38;5;28;43mself\u001b[39;49m\u001b[38;5;241;43m.\u001b[39;49m\u001b[43mhandle_op\u001b[49m\u001b[43m,\u001b[49m\u001b[43m \u001b[49m\u001b[38;5;28;43mself\u001b[39;49m\u001b[38;5;241;43m.\u001b[39;49m\u001b[43m_var_shape\u001b[49m\u001b[43m,\u001b[49m\u001b[43m \u001b[49m\u001b[43mrestored_tensor\u001b[49m\u001b[43m)\u001b[49m\n",
      "File \u001b[1;32m~\\anaconda3\\envs\\env_first\\lib\\site-packages\\tensorflow\\python\\ops\\resource_variable_ops.py:308\u001b[0m, in \u001b[0;36mshape_safe_assign_variable_handle\u001b[1;34m(handle, shape, value, name)\u001b[0m\n\u001b[0;32m    306\u001b[0m \u001b[38;5;28;01mwith\u001b[39;00m _handle_graph(handle):\n\u001b[0;32m    307\u001b[0m   value_tensor \u001b[38;5;241m=\u001b[39m ops\u001b[38;5;241m.\u001b[39mconvert_to_tensor(value)\n\u001b[1;32m--> 308\u001b[0m \u001b[43mshape\u001b[49m\u001b[38;5;241;43m.\u001b[39;49m\u001b[43massert_is_compatible_with\u001b[49m\u001b[43m(\u001b[49m\u001b[43mvalue_tensor\u001b[49m\u001b[38;5;241;43m.\u001b[39;49m\u001b[43mshape\u001b[49m\u001b[43m)\u001b[49m\n\u001b[0;32m    309\u001b[0m \u001b[38;5;28;01mreturn\u001b[39;00m gen_resource_variable_ops\u001b[38;5;241m.\u001b[39massign_variable_op(\n\u001b[0;32m    310\u001b[0m     handle, value_tensor, name\u001b[38;5;241m=\u001b[39mname)\n",
      "File \u001b[1;32m~\\anaconda3\\envs\\env_first\\lib\\site-packages\\tensorflow\\python\\framework\\tensor_shape.py:1161\u001b[0m, in \u001b[0;36mTensorShape.assert_is_compatible_with\u001b[1;34m(self, other)\u001b[0m\n\u001b[0;32m   1149\u001b[0m \u001b[38;5;124;03m\"\"\"Raises exception if `self` and `other` do not represent the same shape.\u001b[39;00m\n\u001b[0;32m   1150\u001b[0m \n\u001b[0;32m   1151\u001b[0m \u001b[38;5;124;03mThis method can be used to assert that there exists a shape that both\u001b[39;00m\n\u001b[1;32m   (...)\u001b[0m\n\u001b[0;32m   1158\u001b[0m \u001b[38;5;124;03m  ValueError: If `self` and `other` do not represent the same shape.\u001b[39;00m\n\u001b[0;32m   1159\u001b[0m \u001b[38;5;124;03m\"\"\"\u001b[39;00m\n\u001b[0;32m   1160\u001b[0m \u001b[38;5;28;01mif\u001b[39;00m \u001b[38;5;129;01mnot\u001b[39;00m \u001b[38;5;28mself\u001b[39m\u001b[38;5;241m.\u001b[39mis_compatible_with(other):\n\u001b[1;32m-> 1161\u001b[0m   \u001b[38;5;28;01mraise\u001b[39;00m \u001b[38;5;167;01mValueError\u001b[39;00m(\u001b[38;5;124m\"\u001b[39m\u001b[38;5;124mShapes \u001b[39m\u001b[38;5;132;01m%s\u001b[39;00m\u001b[38;5;124m and \u001b[39m\u001b[38;5;132;01m%s\u001b[39;00m\u001b[38;5;124m are incompatible\u001b[39m\u001b[38;5;124m\"\u001b[39m \u001b[38;5;241m%\u001b[39m (\u001b[38;5;28mself\u001b[39m, other))\n",
      "\u001b[1;31mValueError\u001b[0m: Shapes (16000, 250) and (8000, 250) are incompatible"
     ]
    }
   ],
   "source": [
    "df = QuantizationEffect('SentimentalNet',test_set,wgt_dir,(500),1,test_batch_size)\n",
    "#save_obj(df,'Data/Quantization/SentimentalNet/IMDB Reviews Dataset/Quantization')"
   ]
  },
  {
   "cell_type": "markdown",
   "metadata": {},
   "source": [
    "### &nbsp;&nbsp;&nbsp;&nbsp;&nbsp;&nbsp; f) Used Config"
   ]
  },
  {
   "cell_type": "code",
   "execution_count": 43,
   "metadata": {},
   "outputs": [
    {
     "name": "stdout",
     "output_type": "stream",
     "text": [
      "aging_active en AddCustomLayers False\n",
      "dentro de includin Aging False\n",
      "dentro de GenerateAddressList \n",
      "aging_active dentro de aging_argiments False\n",
      "aging_active en AddCustomLayers False\n",
      "dentro de includin Aging False\n",
      "dentro de GenerateAddressList \n",
      "aging_active dentro de aging_argiments False\n",
      "aging_active en AddCustomLayers False\n",
      "dentro de includin Aging False\n",
      "dentro de GenerateAddressList \n",
      "aging_active dentro de aging_argiments False\n",
      "aging_active en AddCustomLayers False\n",
      "dentro de includin Aging False\n",
      "dentro de GenerateAddressList \n",
      "aging_active dentro de aging_argiments False\n",
      "aging_active en AddCustomLayers False\n",
      "aging_active en AddCustomLayers False\n"
     ]
    },
    {
     "ename": "ValueError",
     "evalue": "Shapes (16000, 250) and (8000, 250) are incompatible",
     "output_type": "error",
     "traceback": [
      "\u001b[1;31m---------------------------------------------------------------------------\u001b[0m",
      "\u001b[1;31mValueError\u001b[0m                                Traceback (most recent call last)",
      "Input \u001b[1;32mIn [43]\u001b[0m, in \u001b[0;36m<cell line: 1>\u001b[1;34m()\u001b[0m\n\u001b[1;32m----> 1\u001b[0m \u001b[43mCheckAccuracyAndLoss\u001b[49m\u001b[43m(\u001b[49m\u001b[38;5;124;43m'\u001b[39;49m\u001b[38;5;124;43mSentimentalNet\u001b[39;49m\u001b[38;5;124;43m'\u001b[39;49m\u001b[43m,\u001b[49m\u001b[43m \u001b[49m\u001b[43mtest_set\u001b[49m\u001b[43m,\u001b[49m\u001b[43m \u001b[49m\u001b[43mwgt_dir\u001b[49m\u001b[43m,\u001b[49m\u001b[43m \u001b[49m\u001b[43mact_frac_size\u001b[49m\u001b[43m \u001b[49m\u001b[38;5;241;43m=\u001b[39;49m\u001b[43m \u001b[49m\u001b[38;5;241;43m14\u001b[39;49m\u001b[43m,\u001b[49m\u001b[43m \u001b[49m\u001b[43mact_int_size\u001b[49m\u001b[43m \u001b[49m\u001b[38;5;241;43m=\u001b[39;49m\u001b[43m \u001b[49m\u001b[38;5;241;43m1\u001b[39;49m\u001b[43m,\u001b[49m\u001b[43m \u001b[49m\u001b[43mwgt_frac_size\u001b[49m\u001b[43m \u001b[49m\u001b[38;5;241;43m=\u001b[39;49m\u001b[43m \u001b[49m\u001b[38;5;241;43m15\u001b[39;49m\u001b[43m,\u001b[49m\u001b[43m \u001b[49m\u001b[43mwgt_int_size\u001b[49m\u001b[43m \u001b[49m\u001b[38;5;241;43m=\u001b[39;49m\u001b[43m \u001b[49m\u001b[38;5;241;43m0\u001b[39;49m\u001b[43m,\u001b[49m\u001b[43m \u001b[49m\n\u001b[0;32m      2\u001b[0m \u001b[43m                    \u001b[49m\u001b[43minput_shape\u001b[49m\u001b[43m \u001b[49m\u001b[38;5;241;43m=\u001b[39;49m\u001b[43m \u001b[49m\u001b[43m(\u001b[49m\u001b[38;5;241;43m500\u001b[39;49m\u001b[43m)\u001b[49m\u001b[43m,\u001b[49m\u001b[43m \u001b[49m\u001b[43moutput_shape\u001b[49m\u001b[43m \u001b[49m\u001b[38;5;241;43m=\u001b[39;49m\u001b[43m \u001b[49m\u001b[38;5;241;43m1\u001b[39;49m\u001b[43m,\u001b[49m\u001b[43m \u001b[49m\u001b[43mbatch_size\u001b[49m\u001b[43m \u001b[49m\u001b[38;5;241;43m=\u001b[39;49m\u001b[43m \u001b[49m\u001b[43mtest_batch_size\u001b[49m\u001b[43m)\u001b[49m\n",
      "File \u001b[1;32m~\\Desktop\\CNN_Gating\\Stats.py:115\u001b[0m, in \u001b[0;36mCheckAccuracyAndLoss\u001b[1;34m(architecture, test_dataset, wgt_dir, act_frac_size, act_int_size, wgt_frac_size, wgt_int_size, input_shape, output_shape, faulty_addresses, masked_faults, aging_active, batch_size, verbose, weights_faults)\u001b[0m\n\u001b[0;32m    109\u001b[0m qNet \u001b[38;5;241m=\u001b[39m GetNeuralNetworkModel(architecture,input_shape,output_shape,faulty_addresses,masked_faults,aging_active\u001b[38;5;241m=\u001b[39maging_active,\n\u001b[0;32m    110\u001b[0m \t\t\t\t\t\t\t word_size\u001b[38;5;241m=\u001b[39m(\u001b[38;5;241m1\u001b[39m\u001b[38;5;241m+\u001b[39mact_frac_size\u001b[38;5;241m+\u001b[39mact_int_size), frac_size\u001b[38;5;241m=\u001b[39mact_frac_size, batch_size \u001b[38;5;241m=\u001b[39m batch_size)\n\u001b[0;32m    111\u001b[0m \u001b[38;5;66;03m#print('valor de aging_active', aging_active)\u001b[39;00m\n\u001b[0;32m    112\u001b[0m \n\u001b[0;32m    113\u001b[0m \n\u001b[0;32m    114\u001b[0m \u001b[38;5;66;03m#Load Weights\u001b[39;00m\n\u001b[1;32m--> 115\u001b[0m \u001b[43mqNet\u001b[49m\u001b[38;5;241;43m.\u001b[39;49m\u001b[43mload_weights\u001b[49m\u001b[43m(\u001b[49m\u001b[43mwgt_dir\u001b[49m\u001b[43m)\u001b[49m\u001b[38;5;241m.\u001b[39mexpect_partial()\n\u001b[0;32m    116\u001b[0m pesos_antes \u001b[38;5;241m=\u001b[39m qNet\u001b[38;5;241m.\u001b[39mget_weights()\n\u001b[0;32m    117\u001b[0m \u001b[38;5;66;03m#print(len(pesos_antes))\u001b[39;00m\n\u001b[0;32m    118\u001b[0m \u001b[38;5;66;03m#print('pesos antes',pesos_antes)\u001b[39;00m\n\u001b[0;32m    119\u001b[0m \u001b[38;5;66;03m#print('qnet.load',qNet.load_weights(wgt_dir).expect_partial())\u001b[39;00m\n\u001b[0;32m    120\u001b[0m \u001b[38;5;66;03m#Quantize Weights\u001b[39;00m\n",
      "File \u001b[1;32m~\\anaconda3\\envs\\env_first\\lib\\site-packages\\tensorflow\\python\\keras\\engine\\training.py:2297\u001b[0m, in \u001b[0;36mModel.load_weights\u001b[1;34m(self, filepath, by_name, skip_mismatch, options)\u001b[0m\n\u001b[0;32m   2295\u001b[0m filepath, save_format \u001b[38;5;241m=\u001b[39m _detect_save_format(filepath)\n\u001b[0;32m   2296\u001b[0m \u001b[38;5;28;01mif\u001b[39;00m save_format \u001b[38;5;241m==\u001b[39m \u001b[38;5;124m'\u001b[39m\u001b[38;5;124mtf\u001b[39m\u001b[38;5;124m'\u001b[39m:\n\u001b[1;32m-> 2297\u001b[0m   status \u001b[38;5;241m=\u001b[39m \u001b[38;5;28;43mself\u001b[39;49m\u001b[38;5;241;43m.\u001b[39;49m\u001b[43m_trackable_saver\u001b[49m\u001b[38;5;241;43m.\u001b[39;49m\u001b[43mrestore\u001b[49m\u001b[43m(\u001b[49m\u001b[43mfilepath\u001b[49m\u001b[43m,\u001b[49m\u001b[43m \u001b[49m\u001b[43moptions\u001b[49m\u001b[43m)\u001b[49m\n\u001b[0;32m   2298\u001b[0m   \u001b[38;5;28;01mif\u001b[39;00m by_name:\n\u001b[0;32m   2299\u001b[0m     \u001b[38;5;28;01mraise\u001b[39;00m \u001b[38;5;167;01mNotImplementedError\u001b[39;00m(\n\u001b[0;32m   2300\u001b[0m         \u001b[38;5;124m'\u001b[39m\u001b[38;5;124mWeights may only be loaded based on topology into Models when \u001b[39m\u001b[38;5;124m'\u001b[39m\n\u001b[0;32m   2301\u001b[0m         \u001b[38;5;124m'\u001b[39m\u001b[38;5;124mloading TensorFlow-formatted weights (got by_name=True to \u001b[39m\u001b[38;5;124m'\u001b[39m\n\u001b[0;32m   2302\u001b[0m         \u001b[38;5;124m'\u001b[39m\u001b[38;5;124mload_weights).\u001b[39m\u001b[38;5;124m'\u001b[39m)\n",
      "File \u001b[1;32m~\\anaconda3\\envs\\env_first\\lib\\site-packages\\tensorflow\\python\\training\\tracking\\util.py:1338\u001b[0m, in \u001b[0;36mTrackableSaver.restore\u001b[1;34m(self, save_path, options)\u001b[0m\n\u001b[0;32m   1330\u001b[0m object_graph_proto\u001b[38;5;241m.\u001b[39mParseFromString(object_graph_string)\n\u001b[0;32m   1331\u001b[0m checkpoint \u001b[38;5;241m=\u001b[39m _CheckpointRestoreCoordinator(\n\u001b[0;32m   1332\u001b[0m     object_graph_proto\u001b[38;5;241m=\u001b[39mobject_graph_proto,\n\u001b[0;32m   1333\u001b[0m     save_path\u001b[38;5;241m=\u001b[39msave_path,\n\u001b[1;32m   (...)\u001b[0m\n\u001b[0;32m   1336\u001b[0m     graph_view\u001b[38;5;241m=\u001b[39m\u001b[38;5;28mself\u001b[39m\u001b[38;5;241m.\u001b[39m_graph_view,\n\u001b[0;32m   1337\u001b[0m     options\u001b[38;5;241m=\u001b[39moptions)\n\u001b[1;32m-> 1338\u001b[0m \u001b[43mbase\u001b[49m\u001b[38;5;241;43m.\u001b[39;49m\u001b[43mCheckpointPosition\u001b[49m\u001b[43m(\u001b[49m\n\u001b[0;32m   1339\u001b[0m \u001b[43m    \u001b[49m\u001b[43mcheckpoint\u001b[49m\u001b[38;5;241;43m=\u001b[39;49m\u001b[43mcheckpoint\u001b[49m\u001b[43m,\u001b[49m\u001b[43m \u001b[49m\u001b[43mproto_id\u001b[49m\u001b[38;5;241;43m=\u001b[39;49m\u001b[38;5;241;43m0\u001b[39;49m\u001b[43m)\u001b[49m\u001b[38;5;241;43m.\u001b[39;49m\u001b[43mrestore\u001b[49m\u001b[43m(\u001b[49m\u001b[38;5;28;43mself\u001b[39;49m\u001b[38;5;241;43m.\u001b[39;49m\u001b[43m_graph_view\u001b[49m\u001b[38;5;241;43m.\u001b[39;49m\u001b[43mroot\u001b[49m\u001b[43m)\u001b[49m\n\u001b[0;32m   1341\u001b[0m \u001b[38;5;66;03m# Attached dependencies are not attached to the root, so should be restored\u001b[39;00m\n\u001b[0;32m   1342\u001b[0m \u001b[38;5;66;03m# separately.\u001b[39;00m\n\u001b[0;32m   1343\u001b[0m \u001b[38;5;28;01mif\u001b[39;00m \u001b[38;5;28mself\u001b[39m\u001b[38;5;241m.\u001b[39m_graph_view\u001b[38;5;241m.\u001b[39mattached_dependencies:\n",
      "File \u001b[1;32m~\\anaconda3\\envs\\env_first\\lib\\site-packages\\tensorflow\\python\\training\\tracking\\base.py:258\u001b[0m, in \u001b[0;36mCheckpointPosition.restore\u001b[1;34m(self, trackable)\u001b[0m\n\u001b[0;32m    254\u001b[0m \u001b[38;5;28;01mwith\u001b[39;00m ops\u001b[38;5;241m.\u001b[39minit_scope():\n\u001b[0;32m    255\u001b[0m   \u001b[38;5;28;01mif\u001b[39;00m \u001b[38;5;28mself\u001b[39m\u001b[38;5;241m.\u001b[39mbind_object(trackable):\n\u001b[0;32m    256\u001b[0m     \u001b[38;5;66;03m# This object's correspondence with a checkpointed object is new, so\u001b[39;00m\n\u001b[0;32m    257\u001b[0m     \u001b[38;5;66;03m# process deferred restorations for it and its dependencies.\u001b[39;00m\n\u001b[1;32m--> 258\u001b[0m     restore_ops \u001b[38;5;241m=\u001b[39m \u001b[43mtrackable\u001b[49m\u001b[38;5;241;43m.\u001b[39;49m\u001b[43m_restore_from_checkpoint_position\u001b[49m\u001b[43m(\u001b[49m\u001b[38;5;28;43mself\u001b[39;49m\u001b[43m)\u001b[49m  \u001b[38;5;66;03m# pylint: disable=protected-access\u001b[39;00m\n\u001b[0;32m    259\u001b[0m     \u001b[38;5;28;01mif\u001b[39;00m restore_ops:\n\u001b[0;32m    260\u001b[0m       \u001b[38;5;28mself\u001b[39m\u001b[38;5;241m.\u001b[39m_checkpoint\u001b[38;5;241m.\u001b[39mnew_restore_ops(restore_ops)\n",
      "File \u001b[1;32m~\\anaconda3\\envs\\env_first\\lib\\site-packages\\tensorflow\\python\\training\\tracking\\base.py:977\u001b[0m, in \u001b[0;36mTrackable._restore_from_checkpoint_position\u001b[1;34m(self, checkpoint_position)\u001b[0m\n\u001b[0;32m    974\u001b[0m   tensor_saveables\u001b[38;5;241m.\u001b[39mupdate(new_tensor_saveables)\n\u001b[0;32m    975\u001b[0m   python_saveables\u001b[38;5;241m.\u001b[39mextend(new_python_saveables)\n\u001b[0;32m    976\u001b[0m restore_ops\u001b[38;5;241m.\u001b[39mextend(\n\u001b[1;32m--> 977\u001b[0m     \u001b[43mcurrent_position\u001b[49m\u001b[38;5;241;43m.\u001b[39;49m\u001b[43mcheckpoint\u001b[49m\u001b[38;5;241;43m.\u001b[39;49m\u001b[43mrestore_saveables\u001b[49m\u001b[43m(\u001b[49m\n\u001b[0;32m    978\u001b[0m \u001b[43m        \u001b[49m\u001b[43mtensor_saveables\u001b[49m\u001b[43m,\u001b[49m\u001b[43m \u001b[49m\u001b[43mpython_saveables\u001b[49m\u001b[43m)\u001b[49m)\n\u001b[0;32m    979\u001b[0m \u001b[38;5;28;01mreturn\u001b[39;00m restore_ops\n",
      "File \u001b[1;32m~\\anaconda3\\envs\\env_first\\lib\\site-packages\\tensorflow\\python\\training\\tracking\\util.py:308\u001b[0m, in \u001b[0;36m_CheckpointRestoreCoordinator.restore_saveables\u001b[1;34m(self, tensor_saveables, python_saveables)\u001b[0m\n\u001b[0;32m    304\u001b[0m \u001b[38;5;28;01mif\u001b[39;00m \u001b[38;5;28mset\u001b[39m(tensor_saveables\u001b[38;5;241m.\u001b[39mkeys()) \u001b[38;5;241m!=\u001b[39m validated_names:\n\u001b[0;32m    305\u001b[0m   \u001b[38;5;28;01mraise\u001b[39;00m \u001b[38;5;167;01mAssertionError\u001b[39;00m(\n\u001b[0;32m    306\u001b[0m       (\u001b[38;5;124m\"\u001b[39m\u001b[38;5;124mSaveable keys changed when validating. Got back \u001b[39m\u001b[38;5;132;01m%s\u001b[39;00m\u001b[38;5;124m, was \u001b[39m\u001b[38;5;124m\"\u001b[39m\n\u001b[0;32m    307\u001b[0m        \u001b[38;5;124m\"\u001b[39m\u001b[38;5;124mexpecting \u001b[39m\u001b[38;5;132;01m%s\u001b[39;00m\u001b[38;5;124m\"\u001b[39m) \u001b[38;5;241m%\u001b[39m (tensor_saveables\u001b[38;5;241m.\u001b[39mkeys(), validated_names))\n\u001b[1;32m--> 308\u001b[0m new_restore_ops \u001b[38;5;241m=\u001b[39m \u001b[43mfunctional_saver\u001b[49m\u001b[38;5;241;43m.\u001b[39;49m\u001b[43mMultiDeviceSaver\u001b[49m\u001b[43m(\u001b[49m\n\u001b[0;32m    309\u001b[0m \u001b[43m    \u001b[49m\u001b[43mvalidated_saveables\u001b[49m\u001b[43m)\u001b[49m\u001b[38;5;241;43m.\u001b[39;49m\u001b[43mrestore\u001b[49m\u001b[43m(\u001b[49m\u001b[38;5;28;43mself\u001b[39;49m\u001b[38;5;241;43m.\u001b[39;49m\u001b[43msave_path_tensor\u001b[49m\u001b[43m,\u001b[49m\u001b[43m \u001b[49m\u001b[38;5;28;43mself\u001b[39;49m\u001b[38;5;241;43m.\u001b[39;49m\u001b[43moptions\u001b[49m\u001b[43m)\u001b[49m\n\u001b[0;32m    310\u001b[0m \u001b[38;5;28;01mif\u001b[39;00m \u001b[38;5;129;01mnot\u001b[39;00m context\u001b[38;5;241m.\u001b[39mexecuting_eagerly():\n\u001b[0;32m    311\u001b[0m   \u001b[38;5;28;01mfor\u001b[39;00m name, restore_op \u001b[38;5;129;01min\u001b[39;00m \u001b[38;5;28msorted\u001b[39m(new_restore_ops\u001b[38;5;241m.\u001b[39mitems()):\n",
      "File \u001b[1;32m~\\anaconda3\\envs\\env_first\\lib\\site-packages\\tensorflow\\python\\training\\saving\\functional_saver.py:339\u001b[0m, in \u001b[0;36mMultiDeviceSaver.restore\u001b[1;34m(self, file_prefix, options)\u001b[0m\n\u001b[0;32m    337\u001b[0m   restore_ops \u001b[38;5;241m=\u001b[39m tf_function_restore()\n\u001b[0;32m    338\u001b[0m \u001b[38;5;28;01melse\u001b[39;00m:\n\u001b[1;32m--> 339\u001b[0m   restore_ops \u001b[38;5;241m=\u001b[39m \u001b[43mrestore_fn\u001b[49m\u001b[43m(\u001b[49m\u001b[43m)\u001b[49m\n\u001b[0;32m    341\u001b[0m \u001b[38;5;28;01mfor\u001b[39;00m callback \u001b[38;5;129;01min\u001b[39;00m \u001b[38;5;28mself\u001b[39m\u001b[38;5;241m.\u001b[39m_after_restore_callbacks:\n\u001b[0;32m    342\u001b[0m   callback()\n",
      "File \u001b[1;32m~\\anaconda3\\envs\\env_first\\lib\\site-packages\\tensorflow\\python\\training\\saving\\functional_saver.py:323\u001b[0m, in \u001b[0;36mMultiDeviceSaver.restore.<locals>.restore_fn\u001b[1;34m()\u001b[0m\n\u001b[0;32m    321\u001b[0m \u001b[38;5;28;01mfor\u001b[39;00m device, saver \u001b[38;5;129;01min\u001b[39;00m \u001b[38;5;28msorted\u001b[39m(\u001b[38;5;28mself\u001b[39m\u001b[38;5;241m.\u001b[39m_single_device_savers\u001b[38;5;241m.\u001b[39mitems()):\n\u001b[0;32m    322\u001b[0m   \u001b[38;5;28;01mwith\u001b[39;00m ops\u001b[38;5;241m.\u001b[39mdevice(device):\n\u001b[1;32m--> 323\u001b[0m     restore_ops\u001b[38;5;241m.\u001b[39mupdate(\u001b[43msaver\u001b[49m\u001b[38;5;241;43m.\u001b[39;49m\u001b[43mrestore\u001b[49m\u001b[43m(\u001b[49m\u001b[43mfile_prefix\u001b[49m\u001b[43m,\u001b[49m\u001b[43m \u001b[49m\u001b[43moptions\u001b[49m\u001b[43m)\u001b[49m)\n\u001b[0;32m    325\u001b[0m \u001b[38;5;28;01mreturn\u001b[39;00m restore_ops\n",
      "File \u001b[1;32m~\\anaconda3\\envs\\env_first\\lib\\site-packages\\tensorflow\\python\\training\\saving\\functional_saver.py:115\u001b[0m, in \u001b[0;36m_SingleDeviceSaver.restore\u001b[1;34m(self, file_prefix, options)\u001b[0m\n\u001b[0;32m    112\u001b[0m restore_ops \u001b[38;5;241m=\u001b[39m {}\n\u001b[0;32m    113\u001b[0m \u001b[38;5;28;01mfor\u001b[39;00m saveable, restored_tensors \u001b[38;5;129;01min\u001b[39;00m \u001b[38;5;28mzip\u001b[39m(\u001b[38;5;28mself\u001b[39m\u001b[38;5;241m.\u001b[39m_saveable_objects,\n\u001b[0;32m    114\u001b[0m                                       structured_restored_tensors):\n\u001b[1;32m--> 115\u001b[0m   restore_ops[saveable\u001b[38;5;241m.\u001b[39mname] \u001b[38;5;241m=\u001b[39m \u001b[43msaveable\u001b[49m\u001b[38;5;241;43m.\u001b[39;49m\u001b[43mrestore\u001b[49m\u001b[43m(\u001b[49m\n\u001b[0;32m    116\u001b[0m \u001b[43m      \u001b[49m\u001b[43mrestored_tensors\u001b[49m\u001b[43m,\u001b[49m\u001b[43m \u001b[49m\u001b[43mrestored_shapes\u001b[49m\u001b[38;5;241;43m=\u001b[39;49m\u001b[38;5;28;43;01mNone\u001b[39;49;00m\u001b[43m)\u001b[49m\n\u001b[0;32m    117\u001b[0m \u001b[38;5;28;01mreturn\u001b[39;00m restore_ops\n",
      "File \u001b[1;32m~\\anaconda3\\envs\\env_first\\lib\\site-packages\\tensorflow\\python\\training\\saving\\saveable_object_util.py:131\u001b[0m, in \u001b[0;36mResourceVariableSaveable.restore\u001b[1;34m(self, restored_tensors, restored_shapes)\u001b[0m\n\u001b[0;32m    129\u001b[0m \u001b[38;5;28;01mwith\u001b[39;00m ops\u001b[38;5;241m.\u001b[39mdevice(\u001b[38;5;28mself\u001b[39m\u001b[38;5;241m.\u001b[39m_var_device):\n\u001b[0;32m    130\u001b[0m   restored_tensor \u001b[38;5;241m=\u001b[39m array_ops\u001b[38;5;241m.\u001b[39midentity(restored_tensor)\n\u001b[1;32m--> 131\u001b[0m   \u001b[38;5;28;01mreturn\u001b[39;00m \u001b[43mresource_variable_ops\u001b[49m\u001b[38;5;241;43m.\u001b[39;49m\u001b[43mshape_safe_assign_variable_handle\u001b[49m\u001b[43m(\u001b[49m\n\u001b[0;32m    132\u001b[0m \u001b[43m      \u001b[49m\u001b[38;5;28;43mself\u001b[39;49m\u001b[38;5;241;43m.\u001b[39;49m\u001b[43mhandle_op\u001b[49m\u001b[43m,\u001b[49m\u001b[43m \u001b[49m\u001b[38;5;28;43mself\u001b[39;49m\u001b[38;5;241;43m.\u001b[39;49m\u001b[43m_var_shape\u001b[49m\u001b[43m,\u001b[49m\u001b[43m \u001b[49m\u001b[43mrestored_tensor\u001b[49m\u001b[43m)\u001b[49m\n",
      "File \u001b[1;32m~\\anaconda3\\envs\\env_first\\lib\\site-packages\\tensorflow\\python\\ops\\resource_variable_ops.py:308\u001b[0m, in \u001b[0;36mshape_safe_assign_variable_handle\u001b[1;34m(handle, shape, value, name)\u001b[0m\n\u001b[0;32m    306\u001b[0m \u001b[38;5;28;01mwith\u001b[39;00m _handle_graph(handle):\n\u001b[0;32m    307\u001b[0m   value_tensor \u001b[38;5;241m=\u001b[39m ops\u001b[38;5;241m.\u001b[39mconvert_to_tensor(value)\n\u001b[1;32m--> 308\u001b[0m \u001b[43mshape\u001b[49m\u001b[38;5;241;43m.\u001b[39;49m\u001b[43massert_is_compatible_with\u001b[49m\u001b[43m(\u001b[49m\u001b[43mvalue_tensor\u001b[49m\u001b[38;5;241;43m.\u001b[39;49m\u001b[43mshape\u001b[49m\u001b[43m)\u001b[49m\n\u001b[0;32m    309\u001b[0m \u001b[38;5;28;01mreturn\u001b[39;00m gen_resource_variable_ops\u001b[38;5;241m.\u001b[39massign_variable_op(\n\u001b[0;32m    310\u001b[0m     handle, value_tensor, name\u001b[38;5;241m=\u001b[39mname)\n",
      "File \u001b[1;32m~\\anaconda3\\envs\\env_first\\lib\\site-packages\\tensorflow\\python\\framework\\tensor_shape.py:1161\u001b[0m, in \u001b[0;36mTensorShape.assert_is_compatible_with\u001b[1;34m(self, other)\u001b[0m\n\u001b[0;32m   1149\u001b[0m \u001b[38;5;124;03m\"\"\"Raises exception if `self` and `other` do not represent the same shape.\u001b[39;00m\n\u001b[0;32m   1150\u001b[0m \n\u001b[0;32m   1151\u001b[0m \u001b[38;5;124;03mThis method can be used to assert that there exists a shape that both\u001b[39;00m\n\u001b[1;32m   (...)\u001b[0m\n\u001b[0;32m   1158\u001b[0m \u001b[38;5;124;03m  ValueError: If `self` and `other` do not represent the same shape.\u001b[39;00m\n\u001b[0;32m   1159\u001b[0m \u001b[38;5;124;03m\"\"\"\u001b[39;00m\n\u001b[0;32m   1160\u001b[0m \u001b[38;5;28;01mif\u001b[39;00m \u001b[38;5;129;01mnot\u001b[39;00m \u001b[38;5;28mself\u001b[39m\u001b[38;5;241m.\u001b[39mis_compatible_with(other):\n\u001b[1;32m-> 1161\u001b[0m   \u001b[38;5;28;01mraise\u001b[39;00m \u001b[38;5;167;01mValueError\u001b[39;00m(\u001b[38;5;124m\"\u001b[39m\u001b[38;5;124mShapes \u001b[39m\u001b[38;5;132;01m%s\u001b[39;00m\u001b[38;5;124m and \u001b[39m\u001b[38;5;132;01m%s\u001b[39;00m\u001b[38;5;124m are incompatible\u001b[39m\u001b[38;5;124m\"\u001b[39m \u001b[38;5;241m%\u001b[39m (\u001b[38;5;28mself\u001b[39m, other))\n",
      "\u001b[1;31mValueError\u001b[0m: Shapes (16000, 250) and (8000, 250) are incompatible"
     ]
    }
   ],
   "source": [
    "CheckAccuracyAndLoss('SentimentalNet', test_set, wgt_dir, act_frac_size = 14, act_int_size = 1, wgt_frac_size = 15, wgt_int_size = 0, \n",
    "                    input_shape = (500), output_shape = 1, batch_size = test_batch_size);"
   ]
  },
  {
   "cell_type": "markdown",
   "metadata": {},
   "source": [
    "# 3) Buffer Simulation"
   ]
  },
  {
   "cell_type": "markdown",
   "metadata": {},
   "source": [
    "### &nbsp;&nbsp;&nbsp;&nbsp;&nbsp;&nbsp; Baseline"
   ]
  },
  {
   "cell_type": "code",
   "execution_count": 7,
   "metadata": {},
   "outputs": [
    {
     "name": "stdout",
     "output_type": "stream",
     "text": [
      "buffer sections:  [0, 2000, 4000, 6000, 8000, 10000, 12000, 14000, 16000]\n",
      "Simulation Started, time: 12:42:40 cycles:  0 offset:  0\n",
      "procesed images: 0  time: 12:42:43 cycles:  13106 offset:  0\n",
      "procesed images: 1  time: 12:42:44 cycles:  26212 offset:  0\n",
      "procesed images: 2  time: 12:42:46 cycles:  39318 offset:  0\n",
      "procesed images: 3  time: 12:42:47 cycles:  52424 offset:  0\n",
      "procesed images: 4  time: 12:42:49 cycles:  65530 offset:  0\n",
      "procesed images: 5  time: 12:42:50 cycles:  78636 offset:  0\n",
      "procesed images: 6  time: 12:42:52 cycles:  91742 offset:  0\n",
      "procesed images: 7  time: 12:42:52 cycles:  104848 offset:  0\n",
      "procesed images: 8  time: 12:42:54 cycles:  117954 offset:  0\n",
      "procesed images: 9  time: 12:42:55 cycles:  131060 offset:  0\n",
      "procesed images: 10  time: 12:42:57 cycles:  144166 offset:  0\n",
      "procesed images: 11  time: 12:42:58 cycles:  157272 offset:  0\n",
      "procesed images: 12  time: 12:43:00 cycles:  170378 offset:  0\n",
      "procesed images: 13  time: 12:43:01 cycles:  183484 offset:  0\n",
      "procesed images: 14  time: 12:43:03 cycles:  196590 offset:  0\n",
      "procesed images: 15  time: 12:43:03 cycles:  209696 offset:  0\n",
      "procesed images: 16  time: 12:43:05 cycles:  222802 offset:  0\n",
      "procesed images: 17  time: 12:43:06 cycles:  235908 offset:  0\n",
      "procesed images: 18  time: 12:43:08 cycles:  249014 offset:  0\n",
      "procesed images: 19  time: 12:43:09 cycles:  262120 offset:  0\n",
      "procesed images: 20  time: 12:43:11 cycles:  275226 offset:  0\n",
      "procesed images: 21  time: 12:43:11 cycles:  288332 offset:  0\n",
      "procesed images: 22  time: 12:43:13 cycles:  301438 offset:  0\n",
      "procesed images: 23  time: 12:43:14 cycles:  314544 offset:  0\n",
      "procesed images: 24  time: 12:43:16 cycles:  327650 offset:  0\n",
      "procesed images: 25  time: 12:43:17 cycles:  340756 offset:  0\n",
      "procesed images: 26  time: 12:43:19 cycles:  353862 offset:  0\n",
      "procesed images: 27  time: 12:43:19 cycles:  366968 offset:  0\n",
      "procesed images: 28  time: 12:43:21 cycles:  380074 offset:  0\n",
      "procesed images: 29  time: 12:43:22 cycles:  393180 offset:  0\n",
      "procesed images: 30  time: 12:43:24 cycles:  406286 offset:  0\n",
      "procesed images: 31  time: 12:43:25 cycles:  419392 offset:  0\n",
      "procesed images: 32  time: 12:43:27 cycles:  432498 offset:  0\n",
      "procesed images: 33  time: 12:43:28 cycles:  445604 offset:  0\n",
      "procesed images: 34  time: 12:43:30 cycles:  458710 offset:  0\n",
      "procesed images: 35  time: 12:43:30 cycles:  471816 offset:  0\n",
      "procesed images: 36  time: 12:43:32 cycles:  484922 offset:  0\n",
      "procesed images: 37  time: 12:43:33 cycles:  498028 offset:  0\n",
      "procesed images: 38  time: 12:43:35 cycles:  511134 offset:  0\n",
      "procesed images: 39  time: 12:43:36 cycles:  524240 offset:  0\n",
      "procesed images: 40  time: 12:43:38 cycles:  537346 offset:  0\n",
      "procesed images: 41  time: 12:43:39 cycles:  550452 offset:  0\n",
      "procesed images: 42  time: 12:43:41 cycles:  563558 offset:  0\n",
      "procesed images: 43  time: 12:43:41 cycles:  576664 offset:  0\n",
      "procesed images: 44  time: 12:43:43 cycles:  589770 offset:  0\n",
      "procesed images: 45  time: 12:43:44 cycles:  602876 offset:  0\n",
      "procesed images: 46  time: 12:43:46 cycles:  615982 offset:  0\n",
      "procesed images: 47  time: 12:43:47 cycles:  629088 offset:  0\n",
      "procesed images: 48  time: 12:43:49 cycles:  642194 offset:  0\n",
      "procesed images: 49  time: 12:43:49 cycles:  655300 offset:  0\n",
      "procesed images: 50  time: 12:43:51 cycles:  668406 offset:  0\n",
      "procesed images: 51  time: 12:43:52 cycles:  681512 offset:  0\n",
      "procesed images: 52  time: 12:43:54 cycles:  694618 offset:  0\n",
      "procesed images: 53  time: 12:43:55 cycles:  707724 offset:  0\n",
      "procesed images: 54  time: 12:43:57 cycles:  720830 offset:  0\n",
      "procesed images: 55  time: 12:43:57 cycles:  733936 offset:  0\n",
      "procesed images: 56  time: 12:43:59 cycles:  747042 offset:  0\n",
      "procesed images: 57  time: 12:44:00 cycles:  760148 offset:  0\n",
      "procesed images: 58  time: 12:44:02 cycles:  773254 offset:  0\n",
      "procesed images: 59  time: 12:44:03 cycles:  786360 offset:  0\n",
      "procesed images: 60  time: 12:44:05 cycles:  799466 offset:  0\n",
      "procesed images: 61  time: 12:44:06 cycles:  812572 offset:  0\n",
      "procesed images: 62  time: 12:44:08 cycles:  825678 offset:  0\n",
      "procesed images: 63  time: 12:44:08 cycles:  838784 offset:  0\n",
      "procesed images: 64  time: 12:44:10 cycles:  851890 offset:  0\n",
      "procesed images: 65  time: 12:44:11 cycles:  864996 offset:  0\n",
      "procesed images: 66  time: 12:44:13 cycles:  878102 offset:  0\n",
      "procesed images: 67  time: 12:44:14 cycles:  891208 offset:  0\n",
      "procesed images: 68  time: 12:44:16 cycles:  904314 offset:  0\n",
      "procesed images: 69  time: 12:44:16 cycles:  917420 offset:  0\n",
      "procesed images: 70  time: 12:44:18 cycles:  930526 offset:  0\n",
      "procesed images: 71  time: 12:44:19 cycles:  943632 offset:  0\n",
      "procesed images: 72  time: 12:44:21 cycles:  956738 offset:  0\n",
      "procesed images: 73  time: 12:44:22 cycles:  969844 offset:  0\n",
      "procesed images: 74  time: 12:44:24 cycles:  982950 offset:  0\n",
      "procesed images: 75  time: 12:44:24 cycles:  996056 offset:  0\n",
      "procesed images: 76  time: 12:44:26 cycles:  1009162 offset:  0\n",
      "procesed images: 77  time: 12:44:27 cycles:  1022268 offset:  0\n",
      "procesed images: 78  time: 12:44:29 cycles:  1035374 offset:  0\n",
      "procesed images: 79  time: 12:44:30 cycles:  1048480 offset:  0\n",
      "procesed images: 80  time: 12:44:32 cycles:  1061586 offset:  0\n",
      "procesed images: 81  time: 12:44:32 cycles:  1074692 offset:  0\n",
      "procesed images: 82  time: 12:44:34 cycles:  1087798 offset:  0\n",
      "procesed images: 83  time: 12:44:35 cycles:  1100904 offset:  0\n",
      "procesed images: 84  time: 12:44:37 cycles:  1114010 offset:  0\n",
      "procesed images: 85  time: 12:44:38 cycles:  1127116 offset:  0\n",
      "procesed images: 86  time: 12:44:40 cycles:  1140222 offset:  0\n",
      "procesed images: 87  time: 12:44:41 cycles:  1153328 offset:  0\n",
      "procesed images: 88  time: 12:44:43 cycles:  1166434 offset:  0\n",
      "procesed images: 89  time: 12:44:43 cycles:  1179540 offset:  0\n",
      "procesed images: 90  time: 12:44:45 cycles:  1192646 offset:  0\n",
      "procesed images: 91  time: 12:44:46 cycles:  1205752 offset:  0\n",
      "procesed images: 92  time: 12:44:48 cycles:  1218858 offset:  0\n",
      "procesed images: 93  time: 12:44:49 cycles:  1231964 offset:  0\n",
      "procesed images: 94  time: 12:44:51 cycles:  1245070 offset:  0\n",
      "procesed images: 95  time: 12:44:52 cycles:  1258176 offset:  0\n",
      "procesed images: 96  time: 12:44:53 cycles:  1271282 offset:  0\n",
      "procesed images: 97  time: 12:44:54 cycles:  1284388 offset:  0\n",
      "procesed images: 98  time: 12:44:56 cycles:  1297494 offset:  0\n",
      "procesed images: 99  time: 12:44:57 cycles:  1310600 offset:  0\n",
      "procesed images: 100  time: 12:44:59 cycles:  1323706 offset:  0\n",
      "procesed images: 101  time: 12:45:00 cycles:  1336812 offset:  0\n",
      "procesed images: 102  time: 12:45:02 cycles:  1349918 offset:  0\n",
      "procesed images: 103  time: 12:45:02 cycles:  1363024 offset:  0\n",
      "procesed images: 104  time: 12:45:04 cycles:  1376130 offset:  0\n",
      "procesed images: 105  time: 12:45:05 cycles:  1389236 offset:  0\n",
      "procesed images: 106  time: 12:45:07 cycles:  1402342 offset:  0\n",
      "procesed images: 107  time: 12:45:08 cycles:  1415448 offset:  0\n",
      "procesed images: 108  time: 12:45:10 cycles:  1428554 offset:  0\n",
      "procesed images: 109  time: 12:45:10 cycles:  1441660 offset:  0\n",
      "procesed images: 110  time: 12:45:12 cycles:  1454766 offset:  0\n",
      "procesed images: 111  time: 12:45:13 cycles:  1467872 offset:  0\n",
      "procesed images: 112  time: 12:45:15 cycles:  1480978 offset:  0\n",
      "procesed images: 113  time: 12:45:16 cycles:  1494084 offset:  0\n",
      "procesed images: 114  time: 12:45:18 cycles:  1507190 offset:  0\n",
      "procesed images: 115  time: 12:45:19 cycles:  1520296 offset:  0\n",
      "procesed images: 116  time: 12:45:21 cycles:  1533402 offset:  0\n",
      "procesed images: 117  time: 12:45:21 cycles:  1546508 offset:  0\n",
      "procesed images: 118  time: 12:45:23 cycles:  1559614 offset:  0\n",
      "procesed images: 119  time: 12:45:24 cycles:  1572720 offset:  0\n",
      "procesed images: 120  time: 12:45:26 cycles:  1585826 offset:  0\n",
      "procesed images: 121  time: 12:45:27 cycles:  1598932 offset:  0\n",
      "procesed images: 122  time: 12:45:29 cycles:  1612038 offset:  0\n",
      "procesed images: 123  time: 12:45:29 cycles:  1625144 offset:  0\n",
      "procesed images: 124  time: 12:45:31 cycles:  1638250 offset:  0\n",
      "procesed images: 125  time: 12:45:32 cycles:  1651356 offset:  0\n",
      "procesed images: 126  time: 12:45:34 cycles:  1664462 offset:  0\n"
     ]
    },
    {
     "name": "stdout",
     "output_type": "stream",
     "text": [
      "procesed images: 127  time: 12:45:35 cycles:  1677568 offset:  0\n",
      "procesed images: 128  time: 12:45:37 cycles:  1690674 offset:  0\n",
      "procesed images: 129  time: 12:45:38 cycles:  1703780 offset:  0\n",
      "procesed images: 130  time: 12:45:40 cycles:  1716886 offset:  0\n",
      "procesed images: 131  time: 12:45:40 cycles:  1729992 offset:  0\n",
      "procesed images: 132  time: 12:45:43 cycles:  1743098 offset:  0\n",
      "procesed images: 133  time: 12:45:43 cycles:  1756204 offset:  0\n",
      "procesed images: 134  time: 12:45:45 cycles:  1769310 offset:  0\n",
      "procesed images: 135  time: 12:45:46 cycles:  1782416 offset:  0\n",
      "procesed images: 136  time: 12:45:48 cycles:  1795522 offset:  0\n",
      "procesed images: 137  time: 12:45:49 cycles:  1808628 offset:  0\n",
      "procesed images: 138  time: 12:45:51 cycles:  1821734 offset:  0\n",
      "procesed images: 139  time: 12:45:51 cycles:  1834840 offset:  0\n",
      "procesed images: 140  time: 12:45:53 cycles:  1847946 offset:  0\n",
      "procesed images: 141  time: 12:45:54 cycles:  1861052 offset:  0\n",
      "procesed images: 142  time: 12:45:56 cycles:  1874158 offset:  0\n",
      "procesed images: 143  time: 12:45:57 cycles:  1887264 offset:  0\n",
      "procesed images: 144  time: 12:45:59 cycles:  1900370 offset:  0\n",
      "procesed images: 145  time: 12:46:00 cycles:  1913476 offset:  0\n",
      "procesed images: 146  time: 12:46:02 cycles:  1926582 offset:  0\n",
      "procesed images: 147  time: 12:46:02 cycles:  1939688 offset:  0\n",
      "procesed images: 148  time: 12:46:04 cycles:  1952794 offset:  0\n",
      "procesed images: 149  time: 12:46:05 cycles:  1965900 offset:  0\n"
     ]
    },
    {
     "data": {
      "text/plain": [
       "({'Number of Addresses': 16000,\n",
       "  'Data': array([0, 0, 0, ..., 1, 1, 0], dtype=int8),\n",
       "  'HighCyclesCount': array([330836,  26792,  32308, ..., 816060, 629082, 955544], dtype=uint32),\n",
       "  'OffCyclesCount': array([0, 0, 0, ..., 0, 0, 0], dtype=uint32),\n",
       "  'LowCyclesCount': array([1635064, 1939108, 1933592, ..., 1149840, 1336818, 1010356],\n",
       "        dtype=uint32),\n",
       "  'Flips': array([146,  68,  82, ...,  85,  67,  88], dtype=uint32),\n",
       "  'offset': 0},\n",
       " 1965900)"
      ]
     },
     "execution_count": 7,
     "metadata": {},
     "output_type": "execute_result"
    }
   ],
   "source": [
    "trainBatchSize = testBatchSize = 1\n",
    "_,_,testSet = GetIMBDDataset(train_batch_size=1, test_batch_size=1)\n",
    "\n",
    "QSentimentalNet  = GetNeuralNetworkModel('SentimentalNet',(500),1,quantization = True, aging=False,wordSize = 16, fracSize = 15)\n",
    "optimizer = tf.keras.optimizers.Adam(learning_rate=1e-4)\n",
    "QSentimentalNet.compile(optimizer=optimizer, loss='binary_crossentropy', metrics=['accuracy'])\n",
    "QSentimentalNet.load_weights(wgtDir).expect_partial()\n",
    "WeightQuantization(model = QSentimentalNet, fracBits = 15, intBits = 0)\n",
    "\n",
    "\n",
    "LI = [1,4,8,12,16]\n",
    "AI = [3,7,10,15,19]\n",
    "buffer_simulation(QSentimentalNet,testSet, integer_bits = 0, fractional_bits = 15, samples = 150, start_from = 0,\n",
    "                 bit_invertion = False, bit_shifting = False, CNN_gating = False, write_mode ='default',\n",
    "                 results_dir = 'Data/Stats/SentimentalNet/IMDB Reviews Dataset/Baseline/',buffer_size = 2*16000,\n",
    "                 layer_indexes = LI , activation_indixes = AI)"
   ]
  },
  {
   "cell_type": "markdown",
   "metadata": {},
   "source": [
    "### &nbsp;&nbsp;&nbsp;&nbsp;&nbsp;&nbsp; CNN-Gated, case 1"
   ]
  },
  {
   "cell_type": "code",
   "execution_count": 8,
   "metadata": {},
   "outputs": [
    {
     "name": "stderr",
     "output_type": "stream",
     "text": [
      "<string>:6: VisibleDeprecationWarning: Creating an ndarray from ragged nested sequences (which is a list-or-tuple of lists-or-tuples-or ndarrays with different lengths or shapes) is deprecated. If you meant to do this, you must specify 'dtype=object' when creating the ndarray.\n",
      "c:\\users\\nicol\\anaconda3\\envs\\tf_env\\lib\\site-packages\\tensorflow\\python\\keras\\datasets\\imdb.py:155: VisibleDeprecationWarning: Creating an ndarray from ragged nested sequences (which is a list-or-tuple of lists-or-tuples-or ndarrays with different lengths or shapes) is deprecated. If you meant to do this, you must specify 'dtype=object' when creating the ndarray.\n",
      "  x_train, y_train = np.array(xs[:idx]), np.array(labels[:idx])\n",
      "c:\\users\\nicol\\anaconda3\\envs\\tf_env\\lib\\site-packages\\tensorflow\\python\\keras\\datasets\\imdb.py:156: VisibleDeprecationWarning: Creating an ndarray from ragged nested sequences (which is a list-or-tuple of lists-or-tuples-or ndarrays with different lengths or shapes) is deprecated. If you meant to do this, you must specify 'dtype=object' when creating the ndarray.\n",
      "  x_test, y_test = np.array(xs[idx:]), np.array(labels[idx:])\n"
     ]
    },
    {
     "name": "stdout",
     "output_type": "stream",
     "text": [
      "buffer sections:  [0, 131072, 262144, 393216, 524288, 655360, 786432, 917504, 1048576]\n",
      "Simulation Started, time: 12:53:19 cycles:  0 offset:  0\n",
      "procesed images: 0  time: 12:53:24 cycles:  13106 offset:  393216\n",
      "procesed images: 1  time: 12:53:26 cycles:  26212 offset:  655360\n",
      "procesed images: 2  time: 12:53:29 cycles:  39318 offset:  1048576\n",
      "procesed images: 3  time: 12:53:31 cycles:  52424 offset:  262144\n",
      "procesed images: 4  time: 12:53:34 cycles:  65530 offset:  655360\n",
      "procesed images: 5  time: 12:53:35 cycles:  78636 offset:  917504\n",
      "procesed images: 6  time: 12:53:38 cycles:  91742 offset:  262144\n",
      "procesed images: 7  time: 12:53:40 cycles:  104848 offset:  524288\n",
      "procesed images: 8  time: 12:53:43 cycles:  117954 offset:  917504\n",
      "procesed images: 9  time: 12:53:45 cycles:  131060 offset:  131072\n",
      "procesed images: 10  time: 12:53:48 cycles:  144166 offset:  524288\n",
      "procesed images: 11  time: 12:53:49 cycles:  157272 offset:  786432\n",
      "procesed images: 12  time: 12:53:53 cycles:  170378 offset:  131072\n",
      "procesed images: 13  time: 12:53:54 cycles:  183484 offset:  393216\n",
      "procesed images: 14  time: 12:53:57 cycles:  196590 offset:  786432\n",
      "procesed images: 15  time: 12:53:59 cycles:  209696 offset:  1048576\n",
      "procesed images: 16  time: 12:54:02 cycles:  222802 offset:  393216\n",
      "procesed images: 17  time: 12:54:04 cycles:  235908 offset:  655360\n",
      "procesed images: 18  time: 12:54:07 cycles:  249014 offset:  1048576\n",
      "procesed images: 19  time: 12:54:09 cycles:  262120 offset:  262144\n",
      "procesed images: 20  time: 12:54:12 cycles:  275226 offset:  655360\n",
      "procesed images: 21  time: 12:54:13 cycles:  288332 offset:  917504\n",
      "procesed images: 22  time: 12:54:16 cycles:  301438 offset:  262144\n",
      "procesed images: 23  time: 12:54:18 cycles:  314544 offset:  524288\n",
      "procesed images: 24  time: 12:54:21 cycles:  327650 offset:  917504\n",
      "procesed images: 25  time: 12:54:23 cycles:  340756 offset:  131072\n",
      "procesed images: 26  time: 12:54:26 cycles:  353862 offset:  524288\n",
      "procesed images: 27  time: 12:54:28 cycles:  366968 offset:  786432\n",
      "procesed images: 28  time: 12:54:31 cycles:  380074 offset:  131072\n",
      "procesed images: 29  time: 12:54:33 cycles:  393180 offset:  393216\n",
      "procesed images: 30  time: 12:54:36 cycles:  406286 offset:  786432\n",
      "procesed images: 31  time: 12:54:38 cycles:  419392 offset:  1048576\n",
      "procesed images: 32  time: 12:54:41 cycles:  432498 offset:  393216\n",
      "procesed images: 33  time: 12:54:42 cycles:  445604 offset:  655360\n",
      "procesed images: 34  time: 12:54:45 cycles:  458710 offset:  1048576\n",
      "procesed images: 35  time: 12:54:47 cycles:  471816 offset:  262144\n",
      "procesed images: 36  time: 12:54:50 cycles:  484922 offset:  655360\n",
      "procesed images: 37  time: 12:54:52 cycles:  498028 offset:  917504\n",
      "procesed images: 38  time: 12:54:55 cycles:  511134 offset:  262144\n",
      "procesed images: 39  time: 12:54:57 cycles:  524240 offset:  524288\n",
      "procesed images: 40  time: 12:55:00 cycles:  537346 offset:  917504\n",
      "procesed images: 41  time: 12:55:01 cycles:  550452 offset:  131072\n",
      "procesed images: 42  time: 12:55:05 cycles:  563558 offset:  524288\n",
      "procesed images: 43  time: 12:55:06 cycles:  576664 offset:  786432\n",
      "procesed images: 44  time: 12:55:09 cycles:  589770 offset:  131072\n",
      "procesed images: 45  time: 12:55:11 cycles:  602876 offset:  393216\n",
      "procesed images: 46  time: 12:55:14 cycles:  615982 offset:  786432\n",
      "procesed images: 47  time: 12:55:16 cycles:  629088 offset:  1048576\n",
      "procesed images: 48  time: 12:55:19 cycles:  642194 offset:  393216\n",
      "procesed images: 49  time: 12:55:21 cycles:  655300 offset:  655360\n",
      "procesed images: 50  time: 12:55:24 cycles:  668406 offset:  1048576\n",
      "procesed images: 51  time: 12:55:26 cycles:  681512 offset:  262144\n",
      "procesed images: 52  time: 12:55:29 cycles:  694618 offset:  655360\n",
      "procesed images: 53  time: 12:55:31 cycles:  707724 offset:  917504\n",
      "procesed images: 54  time: 12:55:34 cycles:  720830 offset:  262144\n",
      "procesed images: 55  time: 12:55:35 cycles:  733936 offset:  524288\n",
      "procesed images: 56  time: 12:55:39 cycles:  747042 offset:  917504\n",
      "procesed images: 57  time: 12:55:41 cycles:  760148 offset:  131072\n",
      "procesed images: 58  time: 12:55:44 cycles:  773254 offset:  524288\n",
      "procesed images: 59  time: 12:55:45 cycles:  786360 offset:  786432\n",
      "procesed images: 60  time: 12:55:48 cycles:  799466 offset:  131072\n",
      "procesed images: 61  time: 12:55:50 cycles:  812572 offset:  393216\n",
      "procesed images: 62  time: 12:55:53 cycles:  825678 offset:  786432\n",
      "procesed images: 63  time: 12:55:55 cycles:  838784 offset:  1048576\n",
      "procesed images: 64  time: 12:55:59 cycles:  851890 offset:  393216\n",
      "procesed images: 65  time: 12:56:00 cycles:  864996 offset:  655360\n",
      "procesed images: 66  time: 12:56:03 cycles:  878102 offset:  1048576\n",
      "procesed images: 67  time: 12:56:05 cycles:  891208 offset:  262144\n",
      "procesed images: 68  time: 12:56:08 cycles:  904314 offset:  655360\n",
      "procesed images: 69  time: 12:56:10 cycles:  917420 offset:  917504\n",
      "procesed images: 70  time: 12:56:14 cycles:  930526 offset:  262144\n",
      "procesed images: 71  time: 12:56:15 cycles:  943632 offset:  524288\n",
      "procesed images: 72  time: 12:56:19 cycles:  956738 offset:  917504\n",
      "procesed images: 73  time: 12:56:20 cycles:  969844 offset:  131072\n",
      "procesed images: 74  time: 12:56:23 cycles:  982950 offset:  524288\n",
      "procesed images: 75  time: 12:56:26 cycles:  996056 offset:  786432\n",
      "procesed images: 76  time: 12:56:29 cycles:  1009162 offset:  131072\n",
      "procesed images: 77  time: 12:56:31 cycles:  1022268 offset:  393216\n",
      "procesed images: 78  time: 12:56:34 cycles:  1035374 offset:  786432\n",
      "procesed images: 79  time: 12:56:36 cycles:  1048480 offset:  1048576\n",
      "procesed images: 80  time: 12:56:39 cycles:  1061586 offset:  393216\n",
      "procesed images: 81  time: 12:56:41 cycles:  1074692 offset:  655360\n",
      "procesed images: 82  time: 12:56:44 cycles:  1087798 offset:  1048576\n",
      "procesed images: 83  time: 12:56:46 cycles:  1100904 offset:  262144\n",
      "procesed images: 84  time: 12:56:49 cycles:  1114010 offset:  655360\n",
      "procesed images: 85  time: 12:56:51 cycles:  1127116 offset:  917504\n",
      "procesed images: 86  time: 12:56:54 cycles:  1140222 offset:  262144\n",
      "procesed images: 87  time: 12:56:56 cycles:  1153328 offset:  524288\n",
      "procesed images: 88  time: 12:56:59 cycles:  1166434 offset:  917504\n",
      "procesed images: 89  time: 12:57:00 cycles:  1179540 offset:  131072\n",
      "procesed images: 90  time: 12:57:04 cycles:  1192646 offset:  524288\n",
      "procesed images: 91  time: 12:57:05 cycles:  1205752 offset:  786432\n",
      "procesed images: 92  time: 12:57:08 cycles:  1218858 offset:  131072\n",
      "procesed images: 93  time: 12:57:10 cycles:  1231964 offset:  393216\n",
      "procesed images: 94  time: 12:57:13 cycles:  1245070 offset:  786432\n",
      "procesed images: 95  time: 12:57:15 cycles:  1258176 offset:  1048576\n",
      "procesed images: 96  time: 12:57:18 cycles:  1271282 offset:  393216\n",
      "procesed images: 97  time: 12:57:20 cycles:  1284388 offset:  655360\n",
      "procesed images: 98  time: 12:57:23 cycles:  1297494 offset:  1048576\n",
      "procesed images: 99  time: 12:57:24 cycles:  1310600 offset:  262144\n",
      "procesed images: 100  time: 12:57:28 cycles:  1323706 offset:  655360\n",
      "procesed images: 101  time: 12:57:30 cycles:  1336812 offset:  917504\n",
      "procesed images: 102  time: 12:57:33 cycles:  1349918 offset:  262144\n",
      "procesed images: 103  time: 12:57:35 cycles:  1363024 offset:  524288\n",
      "procesed images: 104  time: 12:57:38 cycles:  1376130 offset:  917504\n",
      "procesed images: 105  time: 12:57:40 cycles:  1389236 offset:  131072\n",
      "procesed images: 106  time: 12:57:43 cycles:  1402342 offset:  524288\n",
      "procesed images: 107  time: 12:57:45 cycles:  1415448 offset:  786432\n",
      "procesed images: 108  time: 12:57:48 cycles:  1428554 offset:  131072\n",
      "procesed images: 109  time: 12:57:50 cycles:  1441660 offset:  393216\n",
      "procesed images: 110  time: 12:57:53 cycles:  1454766 offset:  786432\n",
      "procesed images: 111  time: 12:57:55 cycles:  1467872 offset:  1048576\n",
      "procesed images: 112  time: 12:57:58 cycles:  1480978 offset:  393216\n",
      "procesed images: 113  time: 12:58:00 cycles:  1494084 offset:  655360\n",
      "procesed images: 114  time: 12:58:03 cycles:  1507190 offset:  1048576\n",
      "procesed images: 115  time: 12:58:04 cycles:  1520296 offset:  262144\n",
      "procesed images: 116  time: 12:58:08 cycles:  1533402 offset:  655360\n",
      "procesed images: 117  time: 12:58:09 cycles:  1546508 offset:  917504\n"
     ]
    },
    {
     "name": "stdout",
     "output_type": "stream",
     "text": [
      "procesed images: 118  time: 12:58:12 cycles:  1559614 offset:  262144\n",
      "procesed images: 119  time: 12:58:14 cycles:  1572720 offset:  524288\n",
      "procesed images: 120  time: 12:58:17 cycles:  1585826 offset:  917504\n",
      "procesed images: 121  time: 12:58:19 cycles:  1598932 offset:  131072\n",
      "procesed images: 122  time: 12:58:22 cycles:  1612038 offset:  524288\n",
      "procesed images: 123  time: 12:58:24 cycles:  1625144 offset:  786432\n",
      "procesed images: 124  time: 12:58:27 cycles:  1638250 offset:  131072\n",
      "procesed images: 125  time: 12:58:29 cycles:  1651356 offset:  393216\n",
      "procesed images: 126  time: 12:58:32 cycles:  1664462 offset:  786432\n",
      "procesed images: 127  time: 12:58:34 cycles:  1677568 offset:  1048576\n",
      "procesed images: 128  time: 12:58:37 cycles:  1690674 offset:  393216\n",
      "procesed images: 129  time: 12:58:39 cycles:  1703780 offset:  655360\n",
      "procesed images: 130  time: 12:58:42 cycles:  1716886 offset:  1048576\n",
      "procesed images: 131  time: 12:58:44 cycles:  1729992 offset:  262144\n",
      "procesed images: 132  time: 12:58:47 cycles:  1743098 offset:  655360\n",
      "procesed images: 133  time: 12:58:49 cycles:  1756204 offset:  917504\n",
      "procesed images: 134  time: 12:58:52 cycles:  1769310 offset:  262144\n",
      "procesed images: 135  time: 12:58:54 cycles:  1782416 offset:  524288\n",
      "procesed images: 136  time: 12:58:57 cycles:  1795522 offset:  917504\n",
      "procesed images: 137  time: 12:58:58 cycles:  1808628 offset:  131072\n",
      "procesed images: 138  time: 12:59:02 cycles:  1821734 offset:  524288\n",
      "procesed images: 139  time: 12:59:03 cycles:  1834840 offset:  786432\n",
      "procesed images: 140  time: 12:59:06 cycles:  1847946 offset:  131072\n",
      "procesed images: 141  time: 12:59:08 cycles:  1861052 offset:  393216\n",
      "procesed images: 142  time: 12:59:11 cycles:  1874158 offset:  786432\n",
      "procesed images: 143  time: 12:59:13 cycles:  1887264 offset:  1048576\n",
      "procesed images: 144  time: 12:59:16 cycles:  1900370 offset:  393216\n",
      "procesed images: 145  time: 12:59:18 cycles:  1913476 offset:  655360\n",
      "procesed images: 146  time: 12:59:21 cycles:  1926582 offset:  1048576\n",
      "procesed images: 147  time: 12:59:22 cycles:  1939688 offset:  262144\n",
      "procesed images: 148  time: 12:59:25 cycles:  1952794 offset:  655360\n",
      "procesed images: 149  time: 12:59:27 cycles:  1965900 offset:  917504\n"
     ]
    },
    {
     "data": {
      "text/plain": [
       "({'Number of Addresses': 1048576,\n",
       "  'Data': array([2, 2, 2, ..., 2, 2, 2], dtype=int8),\n",
       "  'HighCyclesCount': array([ 82694,  34413,  33215, ...,  97722, 111114, 144354], dtype=uint32),\n",
       "  'OffCyclesCount': array([1727008, 1727008, 1727008, ..., 1735500, 1735500, 1735500],\n",
       "        dtype=uint32),\n",
       "  'LowCyclesCount': array([156198, 204479, 205677, ..., 132678, 119286,  86046], dtype=uint32),\n",
       "  'Flips': array([25, 22, 17, ...,  0,  0,  0], dtype=uint32),\n",
       "  'offset': 917504},\n",
       " 1965900)"
      ]
     },
     "execution_count": 8,
     "metadata": {},
     "output_type": "execute_result"
    }
   ],
   "source": [
    "trainBatchSize = testBatchSize = 1\n",
    "_,_,testSet = GetIMBDDataset(train_batch_size=1, test_batch_size=1)\n",
    "\n",
    "QSentimentalNet  = GetNeuralNetworkModel('SentimentalNet',(500),1,quantization = True, aging=False,wordSize = 16, fracSize = 15)\n",
    "optimizer = tf.keras.optimizers.Adam(learning_rate=1e-4)\n",
    "QSentimentalNet.compile(optimizer=optimizer, loss='binary_crossentropy', metrics=['accuracy'])\n",
    "QSentimentalNet.load_weights(wgtDir).expect_partial()\n",
    "WeightQuantization(model = QSentimentalNet, fracBits = 15, intBits = 0)\n",
    "\n",
    "\n",
    "LI = [1,4,8,12,16]\n",
    "AI = [3,7,10,15,19]\n",
    "buffer_simulation(QSentimentalNet,testSet, integer_bits = 0, fractional_bits = 15, samples = 150, start_from = 0,\n",
    "                 bit_invertion = False, bit_shifting = False, CNN_gating = True, write_mode ='default',\n",
    "                 results_dir = 'Data/Stats/SentimentalNet/IMDB Reviews Dataset/CNN-Gated/Full Buffer',buffer_size = 2*1024*1024,\n",
    "                 layer_indexes = LI , activation_indixes = AI)"
   ]
  },
  {
   "cell_type": "markdown",
   "metadata": {},
   "source": [
    "### &nbsp;&nbsp;&nbsp;&nbsp;&nbsp;&nbsp; CNN-Gated, case 2"
   ]
  },
  {
   "cell_type": "code",
   "execution_count": 9,
   "metadata": {},
   "outputs": [
    {
     "name": "stdout",
     "output_type": "stream",
     "text": [
      "buffer sections:  [0, 2000, 4000, 6000, 8000, 10000, 12000, 14000, 16000]\n",
      "Simulation Started, time: 13:00:41 cycles:  0 offset:  0\n",
      "procesed images: 0  time: 13:00:44 cycles:  13106 offset:  10000\n",
      "procesed images: 1  time: 13:00:45 cycles:  26212 offset:  12000\n",
      "procesed images: 2  time: 13:00:47 cycles:  39318 offset:  6000\n",
      "procesed images: 3  time: 13:00:48 cycles:  52424 offset:  8000\n",
      "procesed images: 4  time: 13:00:50 cycles:  65530 offset:  2000\n",
      "procesed images: 5  time: 13:00:50 cycles:  78636 offset:  4000\n",
      "procesed images: 6  time: 13:00:52 cycles:  91742 offset:  14000\n",
      "procesed images: 7  time: 13:00:53 cycles:  104848 offset:  16000\n",
      "procesed images: 8  time: 13:00:55 cycles:  117954 offset:  10000\n",
      "procesed images: 9  time: 13:00:56 cycles:  131060 offset:  12000\n",
      "procesed images: 10  time: 13:00:58 cycles:  144166 offset:  6000\n",
      "procesed images: 11  time: 13:00:58 cycles:  157272 offset:  8000\n",
      "procesed images: 12  time: 13:01:00 cycles:  170378 offset:  2000\n",
      "procesed images: 13  time: 13:01:01 cycles:  183484 offset:  4000\n",
      "procesed images: 14  time: 13:01:03 cycles:  196590 offset:  14000\n",
      "procesed images: 15  time: 13:01:04 cycles:  209696 offset:  16000\n",
      "procesed images: 16  time: 13:01:06 cycles:  222802 offset:  10000\n",
      "procesed images: 17  time: 13:01:07 cycles:  235908 offset:  12000\n",
      "procesed images: 18  time: 13:01:09 cycles:  249014 offset:  6000\n",
      "procesed images: 19  time: 13:01:09 cycles:  262120 offset:  8000\n",
      "procesed images: 20  time: 13:01:11 cycles:  275226 offset:  2000\n",
      "procesed images: 21  time: 13:01:12 cycles:  288332 offset:  4000\n",
      "procesed images: 22  time: 13:01:14 cycles:  301438 offset:  14000\n",
      "procesed images: 23  time: 13:01:15 cycles:  314544 offset:  16000\n",
      "procesed images: 24  time: 13:01:17 cycles:  327650 offset:  10000\n",
      "procesed images: 25  time: 13:01:18 cycles:  340756 offset:  12000\n",
      "procesed images: 26  time: 13:01:20 cycles:  353862 offset:  6000\n",
      "procesed images: 27  time: 13:01:20 cycles:  366968 offset:  8000\n",
      "procesed images: 28  time: 13:01:22 cycles:  380074 offset:  2000\n",
      "procesed images: 29  time: 13:01:23 cycles:  393180 offset:  4000\n",
      "procesed images: 30  time: 13:01:25 cycles:  406286 offset:  14000\n",
      "procesed images: 31  time: 13:01:26 cycles:  419392 offset:  16000\n",
      "procesed images: 32  time: 13:01:28 cycles:  432498 offset:  10000\n",
      "procesed images: 33  time: 13:01:28 cycles:  445604 offset:  12000\n",
      "procesed images: 34  time: 13:01:30 cycles:  458710 offset:  6000\n",
      "procesed images: 35  time: 13:01:31 cycles:  471816 offset:  8000\n",
      "procesed images: 36  time: 13:01:33 cycles:  484922 offset:  2000\n",
      "procesed images: 37  time: 13:01:34 cycles:  498028 offset:  4000\n",
      "procesed images: 38  time: 13:01:36 cycles:  511134 offset:  14000\n",
      "procesed images: 39  time: 13:01:37 cycles:  524240 offset:  16000\n",
      "procesed images: 40  time: 13:01:39 cycles:  537346 offset:  10000\n",
      "procesed images: 41  time: 13:01:39 cycles:  550452 offset:  12000\n",
      "procesed images: 42  time: 13:01:41 cycles:  563558 offset:  6000\n",
      "procesed images: 43  time: 13:01:42 cycles:  576664 offset:  8000\n",
      "procesed images: 44  time: 13:01:44 cycles:  589770 offset:  2000\n",
      "procesed images: 45  time: 13:01:45 cycles:  602876 offset:  4000\n",
      "procesed images: 46  time: 13:01:47 cycles:  615982 offset:  14000\n",
      "procesed images: 47  time: 13:01:47 cycles:  629088 offset:  16000\n",
      "procesed images: 48  time: 13:01:49 cycles:  642194 offset:  10000\n",
      "procesed images: 49  time: 13:01:50 cycles:  655300 offset:  12000\n",
      "procesed images: 50  time: 13:01:52 cycles:  668406 offset:  6000\n",
      "procesed images: 51  time: 13:01:53 cycles:  681512 offset:  8000\n",
      "procesed images: 52  time: 13:01:55 cycles:  694618 offset:  2000\n",
      "procesed images: 53  time: 13:01:55 cycles:  707724 offset:  4000\n",
      "procesed images: 54  time: 13:01:57 cycles:  720830 offset:  14000\n",
      "procesed images: 55  time: 13:01:58 cycles:  733936 offset:  16000\n",
      "procesed images: 56  time: 13:02:00 cycles:  747042 offset:  10000\n",
      "procesed images: 57  time: 13:02:01 cycles:  760148 offset:  12000\n",
      "procesed images: 58  time: 13:02:03 cycles:  773254 offset:  6000\n",
      "procesed images: 59  time: 13:02:04 cycles:  786360 offset:  8000\n",
      "procesed images: 60  time: 13:02:06 cycles:  799466 offset:  2000\n",
      "procesed images: 61  time: 13:02:06 cycles:  812572 offset:  4000\n",
      "procesed images: 62  time: 13:02:08 cycles:  825678 offset:  14000\n",
      "procesed images: 63  time: 13:02:09 cycles:  838784 offset:  16000\n",
      "procesed images: 64  time: 13:02:11 cycles:  851890 offset:  10000\n",
      "procesed images: 65  time: 13:02:12 cycles:  864996 offset:  12000\n",
      "procesed images: 66  time: 13:02:14 cycles:  878102 offset:  6000\n",
      "procesed images: 67  time: 13:02:14 cycles:  891208 offset:  8000\n",
      "procesed images: 68  time: 13:02:16 cycles:  904314 offset:  2000\n",
      "procesed images: 69  time: 13:02:17 cycles:  917420 offset:  4000\n",
      "procesed images: 70  time: 13:02:19 cycles:  930526 offset:  14000\n",
      "procesed images: 71  time: 13:02:20 cycles:  943632 offset:  16000\n",
      "procesed images: 72  time: 13:02:22 cycles:  956738 offset:  10000\n",
      "procesed images: 73  time: 13:02:23 cycles:  969844 offset:  12000\n",
      "procesed images: 74  time: 13:02:25 cycles:  982950 offset:  6000\n",
      "procesed images: 75  time: 13:02:25 cycles:  996056 offset:  8000\n",
      "procesed images: 76  time: 13:02:27 cycles:  1009162 offset:  2000\n",
      "procesed images: 77  time: 13:02:28 cycles:  1022268 offset:  4000\n",
      "procesed images: 78  time: 13:02:30 cycles:  1035374 offset:  14000\n",
      "procesed images: 79  time: 13:02:31 cycles:  1048480 offset:  16000\n",
      "procesed images: 80  time: 13:02:33 cycles:  1061586 offset:  10000\n",
      "procesed images: 81  time: 13:02:33 cycles:  1074692 offset:  12000\n",
      "procesed images: 82  time: 13:02:35 cycles:  1087798 offset:  6000\n",
      "procesed images: 83  time: 13:02:36 cycles:  1100904 offset:  8000\n",
      "procesed images: 84  time: 13:02:38 cycles:  1114010 offset:  2000\n",
      "procesed images: 85  time: 13:02:39 cycles:  1127116 offset:  4000\n",
      "procesed images: 86  time: 13:02:41 cycles:  1140222 offset:  14000\n",
      "procesed images: 87  time: 13:02:41 cycles:  1153328 offset:  16000\n",
      "procesed images: 88  time: 13:02:43 cycles:  1166434 offset:  10000\n",
      "procesed images: 89  time: 13:02:44 cycles:  1179540 offset:  12000\n",
      "procesed images: 90  time: 13:02:46 cycles:  1192646 offset:  6000\n",
      "procesed images: 91  time: 13:02:47 cycles:  1205752 offset:  8000\n",
      "procesed images: 92  time: 13:02:49 cycles:  1218858 offset:  2000\n",
      "procesed images: 93  time: 13:02:49 cycles:  1231964 offset:  4000\n",
      "procesed images: 94  time: 13:02:51 cycles:  1245070 offset:  14000\n",
      "procesed images: 95  time: 13:02:52 cycles:  1258176 offset:  16000\n",
      "procesed images: 96  time: 13:02:54 cycles:  1271282 offset:  10000\n",
      "procesed images: 97  time: 13:02:55 cycles:  1284388 offset:  12000\n",
      "procesed images: 98  time: 13:02:57 cycles:  1297494 offset:  6000\n",
      "procesed images: 99  time: 13:02:58 cycles:  1310600 offset:  8000\n",
      "procesed images: 100  time: 13:03:00 cycles:  1323706 offset:  2000\n",
      "procesed images: 101  time: 13:03:00 cycles:  1336812 offset:  4000\n",
      "procesed images: 102  time: 13:03:02 cycles:  1349918 offset:  14000\n",
      "procesed images: 103  time: 13:03:03 cycles:  1363024 offset:  16000\n",
      "procesed images: 104  time: 13:03:05 cycles:  1376130 offset:  10000\n",
      "procesed images: 105  time: 13:03:06 cycles:  1389236 offset:  12000\n",
      "procesed images: 106  time: 13:03:08 cycles:  1402342 offset:  6000\n",
      "procesed images: 107  time: 13:03:08 cycles:  1415448 offset:  8000\n",
      "procesed images: 108  time: 13:03:10 cycles:  1428554 offset:  2000\n",
      "procesed images: 109  time: 13:03:11 cycles:  1441660 offset:  4000\n",
      "procesed images: 110  time: 13:03:13 cycles:  1454766 offset:  14000\n",
      "procesed images: 111  time: 13:03:14 cycles:  1467872 offset:  16000\n",
      "procesed images: 112  time: 13:03:16 cycles:  1480978 offset:  10000\n",
      "procesed images: 113  time: 13:03:16 cycles:  1494084 offset:  12000\n",
      "procesed images: 114  time: 13:03:18 cycles:  1507190 offset:  6000\n",
      "procesed images: 115  time: 13:03:19 cycles:  1520296 offset:  8000\n",
      "procesed images: 116  time: 13:03:21 cycles:  1533402 offset:  2000\n",
      "procesed images: 117  time: 13:03:22 cycles:  1546508 offset:  4000\n",
      "procesed images: 118  time: 13:03:24 cycles:  1559614 offset:  14000\n",
      "procesed images: 119  time: 13:03:25 cycles:  1572720 offset:  16000\n",
      "procesed images: 120  time: 13:03:27 cycles:  1585826 offset:  10000\n"
     ]
    },
    {
     "name": "stdout",
     "output_type": "stream",
     "text": [
      "procesed images: 121  time: 13:03:27 cycles:  1598932 offset:  12000\n",
      "procesed images: 122  time: 13:03:29 cycles:  1612038 offset:  6000\n",
      "procesed images: 123  time: 13:03:30 cycles:  1625144 offset:  8000\n",
      "procesed images: 124  time: 13:03:32 cycles:  1638250 offset:  2000\n",
      "procesed images: 125  time: 13:03:33 cycles:  1651356 offset:  4000\n",
      "procesed images: 126  time: 13:03:35 cycles:  1664462 offset:  14000\n",
      "procesed images: 127  time: 13:03:35 cycles:  1677568 offset:  16000\n",
      "procesed images: 128  time: 13:03:37 cycles:  1690674 offset:  10000\n",
      "procesed images: 129  time: 13:03:38 cycles:  1703780 offset:  12000\n",
      "procesed images: 130  time: 13:03:40 cycles:  1716886 offset:  6000\n",
      "procesed images: 131  time: 13:03:41 cycles:  1729992 offset:  8000\n",
      "procesed images: 132  time: 13:03:43 cycles:  1743098 offset:  2000\n",
      "procesed images: 133  time: 13:03:44 cycles:  1756204 offset:  4000\n",
      "procesed images: 134  time: 13:03:46 cycles:  1769310 offset:  14000\n",
      "procesed images: 135  time: 13:03:46 cycles:  1782416 offset:  16000\n",
      "procesed images: 136  time: 13:03:48 cycles:  1795522 offset:  10000\n",
      "procesed images: 137  time: 13:03:49 cycles:  1808628 offset:  12000\n",
      "procesed images: 138  time: 13:03:51 cycles:  1821734 offset:  6000\n",
      "procesed images: 139  time: 13:03:52 cycles:  1834840 offset:  8000\n",
      "procesed images: 140  time: 13:03:54 cycles:  1847946 offset:  2000\n",
      "procesed images: 141  time: 13:03:54 cycles:  1861052 offset:  4000\n",
      "procesed images: 142  time: 13:03:56 cycles:  1874158 offset:  14000\n",
      "procesed images: 143  time: 13:03:57 cycles:  1887264 offset:  16000\n",
      "procesed images: 144  time: 13:03:59 cycles:  1900370 offset:  10000\n",
      "procesed images: 145  time: 13:04:00 cycles:  1913476 offset:  12000\n",
      "procesed images: 146  time: 13:04:02 cycles:  1926582 offset:  6000\n",
      "procesed images: 147  time: 13:04:03 cycles:  1939688 offset:  8000\n",
      "procesed images: 148  time: 13:04:05 cycles:  1952794 offset:  2000\n",
      "procesed images: 149  time: 13:04:05 cycles:  1965900 offset:  4000\n"
     ]
    },
    {
     "data": {
      "text/plain": [
       "({'Number of Addresses': 16000,\n",
       "  'Data': array([2, 2, 2, ..., 2, 2, 2], dtype=int8),\n",
       "  'HighCyclesCount': array([304464,  42996,  47890, ..., 244240, 197748, 394506], dtype=uint32),\n",
       "  'OffCyclesCount': array([989076, 989076, 989076, ..., 845292, 845292, 845292], dtype=uint32),\n",
       "  'LowCyclesCount': array([672360, 933828, 928934, ..., 876368, 922860, 726102], dtype=uint32),\n",
       "  'Flips': array([126,  89,  94, ...,  98, 105, 125], dtype=uint32),\n",
       "  'offset': 4000},\n",
       " 1965900)"
      ]
     },
     "execution_count": 9,
     "metadata": {},
     "output_type": "execute_result"
    }
   ],
   "source": [
    "trainBatchSize = testBatchSize = 1\n",
    "_,_,testSet = GetIMBDDataset(train_batch_size=1, test_batch_size=1)\n",
    "\n",
    "QSentimentalNet  = GetNeuralNetworkModel('SentimentalNet',(500),1,quantization = True, aging=False,wordSize = 16, fracSize = 15)\n",
    "optimizer = tf.keras.optimizers.Adam(learning_rate=1e-4)\n",
    "QSentimentalNet.compile(optimizer=optimizer, loss='binary_crossentropy', metrics=['accuracy'])\n",
    "QSentimentalNet.load_weights(wgtDir).expect_partial()\n",
    "WeightQuantization(model = QSentimentalNet, fracBits = 15, intBits = 0)\n",
    "\n",
    "\n",
    "LI = [1,4,8,12,16]\n",
    "AI = [3,7,10,15,19]\n",
    "buffer_simulation(QSentimentalNet,testSet, integer_bits = 0, fractional_bits = 15, samples = 150, start_from = 0,\n",
    "                 bit_invertion = False, bit_shifting = False, CNN_gating = True, write_mode ='default',\n",
    "                 results_dir = 'Data/Stats/SentimentalNet/IMDB Reviews Dataset/CNN-Gated/', buffer_size = 2*16000,\n",
    "                 layer_indexes = LI , activation_indixes = AI)"
   ]
  },
  {
   "cell_type": "markdown",
   "metadata": {},
   "source": [
    "# 4) Error Injection"
   ]
  },
  {
   "cell_type": "code",
   "execution_count": 5,
   "metadata": {},
   "outputs": [],
   "source": [
    "trainSet,validSet,testSet = GetIMBDDataset(32, 32)"
   ]
  },
  {
   "cell_type": "markdown",
   "metadata": {},
   "source": [
    "### &nbsp;&nbsp;&nbsp;&nbsp;&nbsp;&nbsp; a) Measuring effect of errors by buffer,section,number of faults and bit localization of the fault"
   ]
  },
  {
   "cell_type": "code",
   "execution_count": null,
   "metadata": {
    "scrolled": true
   },
   "outputs": [],
   "source": [
    "import itertools\n",
    "from copy import deepcopy\n",
    "from Quantization_and_Errors import Check_Accuracy_and_Loss\n",
    "from Simulation import save_obj, load_obj\n",
    "from datetime import datetime\n",
    "\n",
    "Start_from_zero = False\n",
    "\n",
    "if Start_from_zero:\n",
    "    Accs     = {0.0001:[],0.0005:[],0.001:[],0.005:[],0.01:[]}\n",
    "    Loss     = {0.0001:[],0.0005:[],0.001:[],0.005:[],0.01:[]}\n",
    "else:\n",
    "    Accs     = load_obj('Data/Errors/SentimentalNet/IMDB Reviews Dataset/Accs')\n",
    "    Loss     = load_obj('Data/Errors/SentimentalNet/IMDB Reviews Dataset/Loss')\n",
    "    \n",
    "cell_modifications = list(itertools.product(['1', 'x','0'], repeat=16))\n",
    "possible_errors_under_8000 = [\"\".join(i) for i in cell_modifications]\n",
    "cell_modifications = list(itertools.product(['1', 'x','0'], repeat=5))\n",
    "possible_errors_above_8000 = ['x'+\"\".join(i)+'xxxxxxxxxx' for i in cell_modifications]\n",
    "\n",
    "\n",
    "Num_of_samples = 200\n",
    "for Enumber in Accs:\n",
    "    for index in range(0,Num_of_samples):\n",
    "        if index < Num_of_samples//2:\n",
    "            mask = [True,False,True,False]\n",
    "        else:\n",
    "            mask = [False,True,False,True]\n",
    "        number_of_errors = np.ceil(Enumber*8000).astype(int)\n",
    "        locs1      = np.random.choice(range(0,8000),number_of_errors,False)\n",
    "        Errortype1 = np.random.choice(possible_errors_under_8000, number_of_errors, True)\n",
    "        locs2      = np.random.choice(range(8000,16000),number_of_errors,False)\n",
    "        Errortype2 = np.random.choice(possible_errors_above_8000, number_of_errors, True)\n",
    "        locs       = np.concatenate([locs1,locs2])\n",
    "        Errortype  = np.concatenate([Errortype1,Errortype2])\n",
    "        acc,loss   = CheckAccuracyAndLoss('PilotNet', test_dataset, wgtDir, outputShape=1, inputShape = (500),\n",
    "                                            aFracSize = 14, aIntSize = 1, wFracSize = 15, wIntSize = 0,\n",
    "                                            batchSize=32, verbose = 0, aging = mask,\n",
    "                                            faultyAddresses = locs, maskedFaults = Errortype)\n",
    "        Accs[Enumber].append(acc)\n",
    "        Loss[Enumber].append(loss)\n",
    "        if index % 10 == 0:\n",
    "            print(index)\n",
    "    print(str(Enumber)+' completada: ', datetime.now().strftime(\"%H:%M:%S\"))\n",
    "    #save_obj(Accs,'Data/Errors/SentimentalNet/IMDB Reviews Dataset/Accs')\n",
    "    #save_obj(Loss,'Data/Errors/SentimentalNet/IMDB Reviews Dataset/Loss')"
   ]
  }
 ],
 "metadata": {
  "kernelspec": {
   "display_name": "env_first",
   "language": "python",
   "name": "env_first"
  },
  "language_info": {
   "codemirror_mode": {
    "name": "ipython",
    "version": 3
   },
   "file_extension": ".py",
   "mimetype": "text/x-python",
   "name": "python",
   "nbconvert_exporter": "python",
   "pygments_lexer": "ipython3",
   "version": "3.8.0"
  }
 },
 "nbformat": 4,
 "nbformat_minor": 4
}
