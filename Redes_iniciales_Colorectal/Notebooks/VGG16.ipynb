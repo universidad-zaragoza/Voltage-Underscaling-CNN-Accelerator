{
 "cells": [
  {
   "cell_type": "code",
   "execution_count": 1,
   "id": "ac4390fa",
   "metadata": {},
   "outputs": [],
   "source": [
    "%load_ext autoreload\n",
    "%autoreload 2\n",
    "\n",
    "import tensorflow as tf\n",
    "import os\n",
    "import sys\n",
    "import numpy as np\n",
    "import pandas as pd\n",
    "import seaborn as sns\n",
    "import matplotlib.pyplot as plt\n",
    "\n",
    "from Training import GetDatasets\n",
    "from Nets  import GetNeuralNetworkModel\n",
    "from Stats import WeightQuantization, ActivationStats, CheckAccuracyAndLoss, QuantizationEffect, GetReadAndWrites\n",
    "from Simulation import buffer_simulation, save_obj, load_obj\n",
    "\n",
    "\n",
    "tf.random.set_seed(1234)\n",
    "np.random.seed(1234)"
   ]
  },
  {
   "cell_type": "code",
   "execution_count": 2,
   "id": "6122ec66",
   "metadata": {},
   "outputs": [
    {
     "name": "stdout",
     "output_type": "stream",
     "text": [
      "tf.Tensor([4 2 3], shape=(3,), dtype=int32)\n"
     ]
    }
   ],
   "source": [
    "import tensorflow as tf\n",
    "import numpy as np\n",
    "a = np.array([1, 2, 3])\n",
    "b = tf.constant(a)\n",
    "a[0] = 4\n",
    "print(b)  # tf.Tensor([4 2 3], shape=(3,), dtype=int64)\n"
   ]
  },
  {
   "cell_type": "markdown",
   "id": "865a0eaa",
   "metadata": {},
   "source": [
    "a) Get Dataset"
   ]
  },
  {
   "cell_type": "code",
   "execution_count": 8,
   "id": "b52f3b9b",
   "metadata": {},
   "outputs": [],
   "source": [
    "train_batch_size = test_batch_size = 32\n",
    "\n",
    "train_set,valid_set,test_set = GetDatasets('colorectal_histology',(80,5,15),(227,227), 8, train_batch_size, test_batch_size)"
   ]
  },
  {
   "cell_type": "markdown",
   "id": "601ffadf",
   "metadata": {},
   "source": [
    "a) Get Model"
   ]
  },
  {
   "cell_type": "code",
   "execution_count": 9,
   "id": "5df3c948",
   "metadata": {},
   "outputs": [
    {
     "data": {
      "text/plain": [
       "{'train': <PrefetchDataset shapes: {filename: (), image: (150, 150, 3), label: ()}, types: {filename: tf.string, image: tf.uint8, label: tf.int64}>}"
      ]
     },
     "execution_count": 9,
     "metadata": {},
     "output_type": "execute_result"
    }
   ],
   "source": [
    "import tensorflow_datasets as tfds\n",
    "tfds.load('colorectal_histology')"
   ]
  },
  {
   "cell_type": "markdown",
   "id": "92356150",
   "metadata": {},
   "source": [
    "Se crea la red, sin activar la cuantización ni el efecto de envejecimiento\n",
    "Las dimensiones de entrada de la imagen (227,227), el número de clases (8) y el tamaño de los batches"
   ]
  },
  {
   "cell_type": "code",
   "execution_count": 10,
   "id": "d9267cdd",
   "metadata": {},
   "outputs": [],
   "source": [
    "activation_aging = [True] * 21\n",
    "VGG16   = GetNeuralNetworkModel('VGG16',(227,227,3),8, quantization = False, aging_active=activation_aging)\n",
    "loss      = tf.keras.losses.CategoricalCrossentropy()\n",
    "optimizer = tf.keras.optimizers.Adam(learning_rate=1e-4)\n",
    "VGG16.compile(optimizer=optimizer, loss=loss, metrics=['accuracy'])"
   ]
  },
  {
   "cell_type": "code",
   "execution_count": 6,
   "id": "cbe1a15f",
   "metadata": {},
   "outputs": [
    {
     "name": "stdout",
     "output_type": "stream",
     "text": [
      "Model: \"model_1\"\n",
      "_________________________________________________________________\n",
      "Layer (type)                 Output Shape              Param #   \n",
      "=================================================================\n",
      "input_2 (InputLayer)         [(None, 227, 227, 3)]     0         \n",
      "_________________________________________________________________\n",
      "lambda_39 (Lambda)           (None, 227, 227, 3)       0         \n",
      "_________________________________________________________________\n",
      "lambda_40 (Lambda)           (None, 227, 227, 3)       0         \n",
      "_________________________________________________________________\n",
      "conv2d_13 (Conv2D)           (None, 227, 227, 64)      1792      \n",
      "_________________________________________________________________\n",
      "lambda_41 (Lambda)           (None, 227, 227, 64)      0         \n",
      "_________________________________________________________________\n",
      "re_lu_15 (ReLU)              (None, 227, 227, 64)      0         \n",
      "_________________________________________________________________\n",
      "lambda_42 (Lambda)           (None, 227, 227, 64)      0         \n",
      "_________________________________________________________________\n",
      "conv2d_14 (Conv2D)           (None, 227, 227, 64)      36928     \n",
      "_________________________________________________________________\n",
      "lambda_43 (Lambda)           (None, 227, 227, 64)      0         \n",
      "_________________________________________________________________\n",
      "re_lu_16 (ReLU)              (None, 227, 227, 64)      0         \n",
      "_________________________________________________________________\n",
      "lambda_44 (Lambda)           (None, 227, 227, 64)      0         \n",
      "_________________________________________________________________\n",
      "max_pooling2d_5 (MaxPooling2 (None, 113, 113, 64)      0         \n",
      "_________________________________________________________________\n",
      "lambda_45 (Lambda)           (None, 113, 113, 64)      0         \n",
      "_________________________________________________________________\n",
      "conv2d_15 (Conv2D)           (None, 113, 113, 128)     73856     \n",
      "_________________________________________________________________\n",
      "lambda_46 (Lambda)           (None, 113, 113, 128)     0         \n",
      "_________________________________________________________________\n",
      "re_lu_17 (ReLU)              (None, 113, 113, 128)     0         \n",
      "_________________________________________________________________\n",
      "lambda_47 (Lambda)           (None, 113, 113, 128)     0         \n",
      "_________________________________________________________________\n",
      "conv2d_16 (Conv2D)           (None, 113, 113, 128)     147584    \n",
      "_________________________________________________________________\n",
      "lambda_48 (Lambda)           (None, 113, 113, 128)     0         \n",
      "_________________________________________________________________\n",
      "re_lu_18 (ReLU)              (None, 113, 113, 128)     0         \n",
      "_________________________________________________________________\n",
      "lambda_49 (Lambda)           (None, 113, 113, 128)     0         \n",
      "_________________________________________________________________\n",
      "max_pooling2d_6 (MaxPooling2 (None, 56, 56, 128)       0         \n",
      "_________________________________________________________________\n",
      "lambda_50 (Lambda)           (None, 56, 56, 128)       0         \n",
      "_________________________________________________________________\n",
      "conv2d_17 (Conv2D)           (None, 56, 56, 256)       295168    \n",
      "_________________________________________________________________\n",
      "lambda_51 (Lambda)           (None, 56, 56, 256)       0         \n",
      "_________________________________________________________________\n",
      "re_lu_19 (ReLU)              (None, 56, 56, 256)       0         \n",
      "_________________________________________________________________\n",
      "lambda_52 (Lambda)           (None, 56, 56, 256)       0         \n",
      "_________________________________________________________________\n",
      "conv2d_18 (Conv2D)           (None, 56, 56, 256)       590080    \n",
      "_________________________________________________________________\n",
      "lambda_53 (Lambda)           (None, 56, 56, 256)       0         \n",
      "_________________________________________________________________\n",
      "re_lu_20 (ReLU)              (None, 56, 56, 256)       0         \n",
      "_________________________________________________________________\n",
      "lambda_54 (Lambda)           (None, 56, 56, 256)       0         \n",
      "_________________________________________________________________\n",
      "conv2d_19 (Conv2D)           (None, 56, 56, 256)       590080    \n",
      "_________________________________________________________________\n",
      "lambda_55 (Lambda)           (None, 56, 56, 256)       0         \n",
      "_________________________________________________________________\n",
      "re_lu_21 (ReLU)              (None, 56, 56, 256)       0         \n",
      "_________________________________________________________________\n",
      "lambda_56 (Lambda)           (None, 56, 56, 256)       0         \n",
      "_________________________________________________________________\n",
      "max_pooling2d_7 (MaxPooling2 (None, 28, 28, 256)       0         \n",
      "_________________________________________________________________\n",
      "lambda_57 (Lambda)           (None, 28, 28, 256)       0         \n",
      "_________________________________________________________________\n",
      "conv2d_20 (Conv2D)           (None, 28, 28, 512)       1180160   \n",
      "_________________________________________________________________\n",
      "lambda_58 (Lambda)           (None, 28, 28, 512)       0         \n",
      "_________________________________________________________________\n",
      "re_lu_22 (ReLU)              (None, 28, 28, 512)       0         \n",
      "_________________________________________________________________\n",
      "lambda_59 (Lambda)           (None, 28, 28, 512)       0         \n",
      "_________________________________________________________________\n",
      "conv2d_21 (Conv2D)           (None, 28, 28, 512)       2359808   \n",
      "_________________________________________________________________\n",
      "lambda_60 (Lambda)           (None, 28, 28, 512)       0         \n",
      "_________________________________________________________________\n",
      "re_lu_23 (ReLU)              (None, 28, 28, 512)       0         \n",
      "_________________________________________________________________\n",
      "lambda_61 (Lambda)           (None, 28, 28, 512)       0         \n",
      "_________________________________________________________________\n",
      "conv2d_22 (Conv2D)           (None, 28, 28, 512)       2359808   \n",
      "_________________________________________________________________\n",
      "lambda_62 (Lambda)           (None, 28, 28, 512)       0         \n",
      "_________________________________________________________________\n",
      "re_lu_24 (ReLU)              (None, 28, 28, 512)       0         \n",
      "_________________________________________________________________\n",
      "lambda_63 (Lambda)           (None, 28, 28, 512)       0         \n",
      "_________________________________________________________________\n",
      "max_pooling2d_8 (MaxPooling2 (None, 14, 14, 512)       0         \n",
      "_________________________________________________________________\n",
      "lambda_64 (Lambda)           (None, 14, 14, 512)       0         \n",
      "_________________________________________________________________\n",
      "conv2d_23 (Conv2D)           (None, 14, 14, 512)       2359808   \n",
      "_________________________________________________________________\n",
      "lambda_65 (Lambda)           (None, 14, 14, 512)       0         \n",
      "_________________________________________________________________\n",
      "re_lu_25 (ReLU)              (None, 14, 14, 512)       0         \n",
      "_________________________________________________________________\n",
      "lambda_66 (Lambda)           (None, 14, 14, 512)       0         \n",
      "_________________________________________________________________\n",
      "conv2d_24 (Conv2D)           (None, 14, 14, 512)       2359808   \n",
      "_________________________________________________________________\n",
      "lambda_67 (Lambda)           (None, 14, 14, 512)       0         \n",
      "_________________________________________________________________\n",
      "re_lu_26 (ReLU)              (None, 14, 14, 512)       0         \n",
      "_________________________________________________________________\n",
      "lambda_68 (Lambda)           (None, 14, 14, 512)       0         \n",
      "_________________________________________________________________\n",
      "conv2d_25 (Conv2D)           (None, 14, 14, 512)       2359808   \n",
      "_________________________________________________________________\n",
      "lambda_69 (Lambda)           (None, 14, 14, 512)       0         \n",
      "_________________________________________________________________\n",
      "re_lu_27 (ReLU)              (None, 14, 14, 512)       0         \n",
      "_________________________________________________________________\n",
      "lambda_70 (Lambda)           (None, 14, 14, 512)       0         \n",
      "_________________________________________________________________\n",
      "max_pooling2d_9 (MaxPooling2 (None, 7, 7, 512)         0         \n",
      "_________________________________________________________________\n",
      "lambda_71 (Lambda)           (None, 7, 7, 512)         0         \n",
      "_________________________________________________________________\n",
      "flatten_1 (Flatten)          (None, 25088)             0         \n",
      "_________________________________________________________________\n",
      "dense_3 (Dense)              (None, 4096)              102764544 \n",
      "_________________________________________________________________\n",
      "lambda_72 (Lambda)           (None, 4096)              0         \n",
      "_________________________________________________________________\n",
      "re_lu_28 (ReLU)              (None, 4096)              0         \n",
      "_________________________________________________________________\n",
      "lambda_73 (Lambda)           (None, 4096)              0         \n",
      "_________________________________________________________________\n",
      "dense_4 (Dense)              (None, 4096)              16781312  \n",
      "_________________________________________________________________\n",
      "lambda_74 (Lambda)           (None, 4096)              0         \n",
      "_________________________________________________________________\n",
      "re_lu_29 (ReLU)              (None, 4096)              0         \n",
      "_________________________________________________________________\n",
      "lambda_75 (Lambda)           (None, 4096)              0         \n",
      "_________________________________________________________________\n",
      "dense_5 (Dense)              (None, 8)                 32776     \n",
      "_________________________________________________________________\n",
      "lambda_76 (Lambda)           (None, 8)                 0         \n",
      "_________________________________________________________________\n",
      "tf.compat.v1.nn.softmax_1 (T (None, 8)                 0         \n",
      "_________________________________________________________________\n",
      "lambda_77 (Lambda)           (None, 8)                 0         \n",
      "=================================================================\n",
      "Total params: 134,293,320\n",
      "Trainable params: 134,293,320\n",
      "Non-trainable params: 0\n",
      "_________________________________________________________________\n"
     ]
    }
   ],
   "source": [
    "VGG16.summary()"
   ]
  },
  {
   "cell_type": "code",
   "execution_count": 7,
   "id": "7858a554",
   "metadata": {},
   "outputs": [
    {
     "name": "stdout",
     "output_type": "stream",
     "text": [
      "0 input_2\n",
      "1 lambda_39\n",
      "2 lambda_40\n",
      "3 conv2d_13\n",
      "4 lambda_41\n",
      "5 re_lu_15\n",
      "6 lambda_42\n",
      "7 conv2d_14\n",
      "8 lambda_43\n",
      "9 re_lu_16\n",
      "10 lambda_44\n",
      "11 max_pooling2d_5\n",
      "12 lambda_45\n",
      "13 conv2d_15\n",
      "14 lambda_46\n",
      "15 re_lu_17\n",
      "16 lambda_47\n",
      "17 conv2d_16\n",
      "18 lambda_48\n",
      "19 re_lu_18\n",
      "20 lambda_49\n",
      "21 max_pooling2d_6\n",
      "22 lambda_50\n",
      "23 conv2d_17\n",
      "24 lambda_51\n",
      "25 re_lu_19\n",
      "26 lambda_52\n",
      "27 conv2d_18\n",
      "28 lambda_53\n",
      "29 re_lu_20\n",
      "30 lambda_54\n",
      "31 conv2d_19\n",
      "32 lambda_55\n",
      "33 re_lu_21\n",
      "34 lambda_56\n",
      "35 max_pooling2d_7\n",
      "36 lambda_57\n",
      "37 conv2d_20\n",
      "38 lambda_58\n",
      "39 re_lu_22\n",
      "40 lambda_59\n",
      "41 conv2d_21\n",
      "42 lambda_60\n",
      "43 re_lu_23\n",
      "44 lambda_61\n",
      "45 conv2d_22\n",
      "46 lambda_62\n",
      "47 re_lu_24\n",
      "48 lambda_63\n",
      "49 max_pooling2d_8\n",
      "50 lambda_64\n",
      "51 conv2d_23\n",
      "52 lambda_65\n",
      "53 re_lu_25\n",
      "54 lambda_66\n",
      "55 conv2d_24\n",
      "56 lambda_67\n",
      "57 re_lu_26\n",
      "58 lambda_68\n",
      "59 conv2d_25\n",
      "60 lambda_69\n",
      "61 re_lu_27\n",
      "62 lambda_70\n",
      "63 max_pooling2d_9\n",
      "64 lambda_71\n",
      "65 flatten_1\n",
      "66 dense_3\n",
      "67 lambda_72\n",
      "68 re_lu_28\n",
      "69 lambda_73\n",
      "70 dense_4\n",
      "71 lambda_74\n",
      "72 re_lu_29\n",
      "73 lambda_75\n",
      "74 dense_5\n",
      "75 lambda_76\n",
      "76 tf.compat.v1.nn.softmax_1\n",
      "77 lambda_77\n"
     ]
    }
   ],
   "source": [
    "for index,layer in enumerate(VGG16.layers):\n",
    "    print(index,layer.name)"
   ]
  },
  {
   "cell_type": "markdown",
   "id": "170277f3",
   "metadata": {},
   "source": [
    " b) Load/Save Weigths"
   ]
  },
  {
   "cell_type": "code",
   "execution_count": 11,
   "id": "1d66a11a",
   "metadata": {},
   "outputs": [
    {
     "data": {
      "text/plain": [
       "<tensorflow.python.training.tracking.util.CheckpointLoadStatus at 0x299543e3d90>"
      ]
     },
     "execution_count": 11,
     "metadata": {},
     "output_type": "execute_result"
    }
   ],
   "source": [
    "cwd = os.getcwd()\n",
    "wgt_dir = os.path.join(cwd, 'Data')\n",
    "wgt_dir = os.path.join(wgt_dir, 'Trained Weights')\n",
    "wgt_dir = os.path.join(wgt_dir, 'VGG16')\n",
    "wgt_dir = os.path.join(wgt_dir, 'Colorectal Dataset')\n",
    "wgt_dir = os.path.join(wgt_dir, 'Weights') \n",
    "VGG16.load_weights(wgt_dir)"
   ]
  },
  {
   "cell_type": "code",
   "execution_count": 14,
   "id": "db325662",
   "metadata": {},
   "outputs": [
    {
     "name": "stdout",
     "output_type": "stream",
     "text": [
      "capa conv2d_13\n",
      "capa conv2d_14\n",
      "capa conv2d_15\n",
      "capa conv2d_16\n",
      "capa conv2d_17\n",
      "capa conv2d_18\n",
      "capa conv2d_19\n",
      "capa conv2d_20\n",
      "capa conv2d_21\n",
      "capa conv2d_22\n",
      "capa conv2d_23\n",
      "capa conv2d_24\n",
      "capa conv2d_25\n",
      "capa dense_3\n",
      "capa dense_4\n",
      "capa dense_5\n"
     ]
    }
   ],
   "source": [
    "for layer in VGG16.layers:\n",
    "    weights = layer.get_weights()\n",
    "    if weights:\n",
    "        print('capa',layer.name)"
   ]
  },
  {
   "cell_type": "markdown",
   "id": "7e35d134",
   "metadata": {},
   "source": [
    "Evaluación del accuracy y loss de la red"
   ]
  },
  {
   "cell_type": "code",
   "execution_count": 7,
   "id": "6d0ffd6b",
   "metadata": {},
   "outputs": [
    {
     "name": "stdout",
     "output_type": "stream",
     "text": [
      "24/24 [==============================] - 126s 5s/step - loss: 0.5269 - accuracy: 0.7920\n",
      "<BatchDataset shapes: ((None, 227, 227, 3), (None, 8)), types: (tf.float32, tf.float32)>\n"
     ]
    }
   ],
   "source": [
    "(OrigLoss,OrigAcc) = VGG16.evaluate(test_set)\n",
    "print(test_set)"
   ]
  },
  {
   "cell_type": "markdown",
   "id": "eb0a52c6",
   "metadata": {},
   "source": [
    "2) Stats"
   ]
  },
  {
   "cell_type": "markdown",
   "id": "3c89d571",
   "metadata": {},
   "source": [
    " Write/Read Stats¶"
   ]
  },
  {
   "cell_type": "markdown",
   "id": "52ed58de",
   "metadata": {},
   "source": [
    "Se identifican (manualmente) las capas procesadadas(Convoluciones, Full conectadas y Pooling) junto a las capas que contienen los resultados que se escribiran en el buffer (capas luego de la funcion de activacion y/o Normalizacion)"
   ]
  },
  {
   "cell_type": "code",
   "execution_count": null,
   "id": "a132abff",
   "metadata": {},
   "outputs": [],
   "source": [
    "for index,layer in enumerate(VGG16.layers):\n",
    "    print(index,layer.name)\n"
   ]
  },
  {
   "cell_type": "markdown",
   "id": "cfbea4e1",
   "metadata": {},
   "source": [
    "Con el siguiente bloque obtenemos el número de lecturas y escrituras por posición de memoria tanto usando la estrategia de CNN Gating o sin usarla"
   ]
  },
  {
   "cell_type": "code",
   "execution_count": null,
   "id": "a24874db",
   "metadata": {},
   "outputs": [],
   "source": [
    "num_address  = 290400\n",
    "Indices      = [0,3,9,11,17,19,25,31,37,40,45,50]\n",
    "samples      = 2\n",
    "# Sin Power Gating:\n",
    "Data         = GetReadAndWrites(VGG16,Indices,num_address,samples,CNN_gating=False)\n",
    "stats        = {'Lecturas': Data['Reads'],'Escrituras': Data['Writes']}\n",
    "Baseline_Acceses   = pd.DataFrame(stats).reset_index(drop=False)\n",
    "# Con Power Gating\n",
    "Data     = GetReadAndWrites(VGG16,Indices,num_address,samples,CNN_gating=True)\n",
    "stats    = {'Lecturas': Data['Reads'],'Escrituras': Data['Writes']}\n",
    "CNN_gating_Acceses = pd.DataFrame(stats).reset_index(drop=False)\n",
    "#save_obj(Data,'Data/Acceses/VGG16/Colorectal_Dataset/Baseline')\n",
    "#save_obj(stats,'Data/Acceses/VGG16/Colorectal_Dataset/CNN_gating_Adj')"
   ]
  },
  {
   "cell_type": "markdown",
   "id": "55b0341f",
   "metadata": {},
   "source": [
    "Analizar la posibilidad de usar menos bits"
   ]
  },
  {
   "cell_type": "code",
   "execution_count": null,
   "id": "2e719f9e",
   "metadata": {},
   "outputs": [],
   "source": [
    "CheckAccuracyAndLoss('VGG16', test_set, wgt_dir, act_frac_size = 11, act_int_size = 4, wgt_frac_size = 11, wgt_int_size = 4,\n",
    "                    input_shape = (227,227,3), output_shape = 8, batch_size = test_batch_size);"
   ]
  },
  {
   "cell_type": "markdown",
   "id": "2961a2b6",
   "metadata": {},
   "source": [
    " c) Activation Stats"
   ]
  },
  {
   "cell_type": "markdown",
   "id": "aad82bff",
   "metadata": {},
   "source": [
    "Para la configuración anterior, se observa el valor medio,maximo,minimo y el ratio de saturación tanto de las activaciones procesadas dentro de la unidad matricial de multiplicacion como de las almacenadas en el buffer. Nota: el ultimo parametro indica el numero de iteraciones que se deben realizar hasta agotar el dataset, se obtiene como numero de imagenes del dataset dividido en el batch size."
   ]
  },
  {
   "cell_type": "code",
   "execution_count": null,
   "id": "8be7bdd1",
   "metadata": {},
   "outputs": [],
   "source": [
    "ActivationStats(VGG16,test_set,11,4,24)"
   ]
  },
  {
   "cell_type": "markdown",
   "id": "72007d9d",
   "metadata": {},
   "source": [
    "3) Buffer Simulation"
   ]
  },
  {
   "cell_type": "markdown",
   "id": "b8eb8ae7",
   "metadata": {},
   "source": [
    " a) Baseline"
   ]
  },
  {
   "cell_type": "markdown",
   "id": "70b82e60",
   "metadata": {},
   "source": [
    "Ahora para el Baseline simularemos el comportamiento de 1 buffer durante la inferencia de 3 imagenes (solo 3 como ejemplo), la red se crea ahora activando la cuantizacion pero no el envejecimiento. LI y AI son los definidos en el item 2) Stats"
   ]
  },
  {
   "cell_type": "markdown",
   "id": "19ebb59f",
   "metadata": {},
   "source": [
    "......estos ficheros ya están , solo cargar e interpretarlos"
   ]
  },
  {
   "cell_type": "markdown",
   "id": "5338026e",
   "metadata": {},
   "source": [
    "Sin inyectar errores original"
   ]
  },
  {
   "cell_type": "code",
   "execution_count": null,
   "id": "3aefca24",
   "metadata": {},
   "outputs": [],
   "source": [
    "# from copy import deepcopy\n",
    "from Stats import CheckAccuracyAndLoss\n",
    "from Simulation import save_obj, load_obj\n",
    "from datetime import datetime\n",
    "import itertools\n",
    "from Training import GetDatasets\n",
    "import numpy as np\n",
    "import os\n",
    "\n",
    "cwd = os.getcwd()\n",
    "wgt_dir = os.path.join(cwd, 'Data')\n",
    "wgt_dir = os.path.join(wgt_dir, 'Trained Weights')\n",
    "wgt_dir = os.path.join(wgt_dir, 'VGG16')\n",
    "wgt_dir = os.path.join(wgt_dir, 'Colorectal Dataset')\n",
    "wgt_dir = os.path.join(wgt_dir,'Weights')\n",
    "    \n",
    "\n",
    "trainBatchSize = testBatchSize = 16\n",
    "_,_,test_dataset = GetDatasets('colorectal_histology',(80,5,15),(227,227), 8, trainBatchSize, testBatchSize)\n",
    "\n",
    "\n",
    "Accs_x= []\n",
    "\n",
    "\n",
    "\n",
    "network_size   = 290400*16   # Tamaño del buffer (en bits)\n",
    "num_of_samples = 1       # Numero de muestras de distintas configuraciones de fallos a testear por cada valor de Accs/Loss\n",
    "    \n",
    "n_bits_total = np.ceil(network_size).astype(int)    #numero de bits totales\n",
    "    \n",
    "buffer = np.array(['x']*(network_size))\n",
    "print(buffer)\n",
    "for index in range(0,num_of_samples):\n",
    "        \n",
    "    loss,acc_x   = CheckAccuracyAndLoss('VGG16', test_dataset, wgt_dir, output_shape=8, input_shape = (227,227,3),\n",
    "                                            act_frac_size = 11, act_int_size = 4, wgt_frac_size = 11, wgt_int_size = 4,\n",
    "                                            batch_size=testBatchSize, verbose = 0, aging_active = False, weights_faults = False)\n",
    "       \n",
    "        \n",
    "    print(acc_x)\n",
    "        \n",
    "      \n",
    "        \n",
    "    Accs_x.append(acc_x)\n",
    "        \n",
    "print(str(n_bits_total)+' completada: ', datetime.now().strftime(\"%H:%M:%S\"))\n",
    "#save_obj(Accs_x,'Data/Errors/VGG16/Colorectal Dataset/Accs_x')\n",
    "#save_obj(Loss,'Data/Errors/VGG16/Colorectal Dataset/Loss')"
   ]
  },
  {
   "cell_type": "markdown",
   "id": "662007ea",
   "metadata": {},
   "source": [
    "# Analizando el fichero en su estado original"
   ]
  },
  {
   "cell_type": "code",
   "execution_count": null,
   "id": "72fe7638",
   "metadata": {},
   "outputs": [],
   "source": [
    "## from copy import deepcopy\n",
    "from Stats import CheckAccuracyAndLoss\n",
    "from Simulation import save_obj, load_obj\n",
    "from FileAnalize import analize_file, analize_file_uno,analize_file_uno_ceros, save_file, load_file\n",
    "from funciones import buffer_vectores\n",
    "import collections\n",
    "from datetime import datetime\n",
    "import itertools\n",
    "from Training import GetDatasets\n",
    "import numpy as np\n",
    "import matplotlib.pyplot as plt\n",
    "import pathlib\n",
    "import pandas as pd\n",
    "import os, sys\n",
    "\n",
    " \n",
    "cwd = os.getcwd()\n",
    "wgt_dir = os.path.join(cwd, 'Data')\n",
    "wgt_dir = os.path.join(wgt_dir, 'Trained Weights')\n",
    "wgt_dir = os.path.join(wgt_dir, 'VGG16')\n",
    "wgt_dir = os.path.join(wgt_dir, 'Colorectal Dataset')\n",
    "wgt_dir = os.path.join(wgt_dir,'Weights')\n",
    "    \n",
    "\n",
    "trainBatchSize = testBatchSize = 16\n",
    "_,_,test_dataset = GetDatasets('colorectal_histology',(80,5,15),(227,227), 8, trainBatchSize, testBatchSize)\n",
    "\n",
    "\n",
    "Accs = []\n",
    "Accs_w = []\n",
    "Accs_a_w = []\n",
    "\n",
    "\n",
    "\n",
    "buffer_size= 16777216\n",
    "\n",
    "       \n",
    "ruta_bin = 'Data\\Fault Characterization\\VC707\\RawData'\n",
    "#ruta_bin = 'Data/Fault Characterization/KC705_B/RowData/'\n",
    "directorio = pathlib.Path(ruta_bin)\n",
    "num_of_samples = 1\n",
    "\n",
    "variantes= [analize_file, analize_file_uno, analize_file_uno_ceros]\n",
    "ficheros = [fichero.name for fichero in directorio.iterdir()]\n",
    "for index in range(0,num_of_samples):\n",
    "    for i, j in enumerate(ficheros):\n",
    "        directorio= os.path.join(ruta_bin, j)\n",
    "        buffer= (analize_file(directorio, buffer_size))\n",
    "        error_mask, locs = (buffer_vectores(buffer))\n",
    "    \n",
    "        loss,acc   = CheckAccuracyAndLoss('VGG16', test_dataset, wgt_dir, output_shape=8, input_shape = (227,227,3),\n",
    "                                            act_frac_size = 11, act_int_size = 4, wgt_frac_size = 11, wgt_int_size = 4,\n",
    "                                            batch_size=testBatchSize, verbose = 0, aging_active = True, weights_faults = False,\n",
    "                                            faulty_addresses = locs, masked_faults = error_mask)\n",
    "    \n",
    "        loss,acc_w   = CheckAccuracyAndLoss('VGG16', test_dataset, wgt_dir, output_shape=8, input_shape = (227,227,3),\n",
    "                                            act_frac_size = 11, act_int_size = 4, wgt_frac_size = 11, wgt_int_size = 4,\n",
    "                                            batch_size=testBatchSize, verbose = 0, aging_active = False, weights_faults = True,\n",
    "                                            faulty_addresses = locs, masked_faults = error_mask)\n",
    "    \n",
    "        loss,acc_a_w   = CheckAccuracyAndLoss('VGG16', test_dataset, wgt_dir, output_shape=8, input_shape = (227,227,3),\n",
    "                                            act_frac_size = 11, act_int_size = 4, wgt_frac_size = 11, wgt_int_size = 4,\n",
    "                                            batch_size=testBatchSize, verbose = 0, aging_active = True, weights_faults = True,\n",
    "                                            faulty_addresses = locs, masked_faults = error_mask)\n",
    "    \n",
    "    \n",
    "        Accs.append(acc)\n",
    "        Accs_w.append(acc_w)\n",
    "        Accs_a_w.append(acc_a_w)                                      \n",
    "\n",
    "\n",
    "Acc=pd.DataFrame(Accs)\n",
    "Acc_w =pd.DataFrame(Accs_w)\n",
    "Acc_a_w =pd.DataFrame(Accs_w)                                         \n",
    "#buf_cero = pd.concat([Acc,Acc_w, Acc_a_w], axis=1, join='outer')\n",
    "#buf_cero.columns =['Acc_cero', 'A_w_cero', 'Acc_a_w_cero'] \n",
    "#buf_cero.to_excel('resultado.xlsx', sheet_name='ceros_707', index=False)\n",
    "\n",
    "\n",
    "Acc.head()\n",
    "    \n",
    "   \n",
    "\n",
    "\n",
    "\n",
    "    \n",
    "        \n",
    "    \n",
    "\n",
    "print(str()+' operación completada: ', datetime.now().strftime(\"%H:%M:%S\"))\n",
    "#lsave_file(Accs,'Data/Fault Characterization/Accs')\n",
    "\n",
    "#save_obj(Loss,'Data/Errors/VGG16/Colorectal Dataset/Loss')"
   ]
  },
  {
   "cell_type": "markdown",
   "id": "66988493",
   "metadata": {},
   "source": [
    "# Inyectando errores en 1"
   ]
  },
  {
   "cell_type": "code",
   "execution_count": null,
   "id": "fbac60be",
   "metadata": {},
   "outputs": [],
   "source": [
    "from Stats import CheckAccuracyAndLoss\n",
    "from Simulation import save_obj, load_obj\n",
    "from FileAnalize import analize_file, analize_file_uno,analize_file_uno_ceros, save_file, load_file\n",
    "from funciones import buffer_vectores\n",
    "import collections\n",
    "from datetime import datetime\n",
    "import itertools\n",
    "from Training import GetDatasets\n",
    "import numpy as np\n",
    "import matplotlib.pyplot as plt\n",
    "import pathlib\n",
    "import pandas as pd\n",
    "import os, sys\n",
    "\n",
    "trainBatchSize = testBatchSize = 16\n",
    "_,_,test_dataset = GetDatasets('colorectal_histology',(80,5,15),(227,227), 8, trainBatchSize, testBatchSize)\n",
    "\n",
    "\n",
    "\n",
    "\n",
    "    \n",
    "\n",
    "cwd = os.getcwd()\n",
    "wgt_dir = os.path.join(cwd, 'Data')\n",
    "wgt_dir = os.path.join(wgt_dir, 'Trained Weights')\n",
    "wgt_dir = os.path.join(wgt_dir, 'VGG16')\n",
    "wgt_dir = os.path.join(wgt_dir, 'Colorectal Dataset')\n",
    "wgt_dir = os.path.join(wgt_dir,'Weights')\n",
    "    \n",
    "\n",
    "Accs_1 = []\n",
    "Accs_w_1 = []\n",
    "Accs_a_w_1 = []\n",
    "\n",
    "\n",
    "\n",
    "df = pd.DataFrame(columns=['Accs', 'Acc_w'])\n",
    "buffer_size= 16777216\n",
    "num_of_samples = 1\n",
    "\n",
    "\n",
    "       \n",
    "ruta_bin = 'Data\\Fault Characterization\\VC707\\RawData'\n",
    "#ruta_bin = 'Data/Fault Characterization/KC705_B/RowData/'\n",
    "directorio = pathlib.Path(ruta_bin)\n",
    "\n",
    "variantes= [analize_file, analize_file_uno, analize_file_uno_ceros]\n",
    "ficheros = [fichero.name for fichero in directorio.iterdir()]\n",
    "print(directorio)\n",
    "for index in range(0,num_of_samples):\n",
    "    for i, j in enumerate(ficheros):\n",
    "        directorio= os.path.join(ruta_bin, j)\n",
    "        buffer= (analize_file_uno(directorio, buffer_size))\n",
    "        error_mask, locs = (buffer_vectores(buffer))\n",
    "        print(directorio)\n",
    "        \n",
    "        loss,acc_1   = CheckAccuracyAndLoss('VGG16', test_dataset, wgt_dir, output_shape=8, input_shape = (227,227,3),\n",
    "                                                act_frac_size = 11, act_int_size = 4, wgt_frac_size = 11, wgt_int_size = 4,\n",
    "                                                batch_size=testBatchSize, verbose = 0, aging_active = True, weights_faults = False,\n",
    "                                                faulty_addresses = locs, masked_faults = error_mask)\n",
    "        \n",
    "        loss,acc_w_1   = CheckAccuracyAndLoss('VGG16', test_dataset, wgt_dir, output_shape=8, input_shape = (227,227,3),\n",
    "                                                act_frac_size = 11, act_int_size = 4, wgt_frac_size = 11, wgt_int_size = 4,\n",
    "                                                batch_size=testBatchSize, verbose = 0, aging_active = False, weights_faults = True,\n",
    "                                                faulty_addresses = locs, masked_faults = error_mask)\n",
    "        \n",
    "        loss,acc_a_w_1   = CheckAccuracyAndLoss('VGG16', test_dataset, wgt_dir, output_shape=8, input_shape = (227,227,3),\n",
    "                                                act_frac_size = 11, act_int_size = 4, wgt_frac_size = 11, wgt_int_size = 4,\n",
    "                                                batch_size=testBatchSize, verbose = 0, aging_active = True, weights_faults = True,\n",
    "                                                faulty_addresses = locs, masked_faults = error_mask)\n",
    "        \n",
    "        \n",
    "        Accs_1.append(acc_1)\n",
    "        Accs_w_1.append(acc_w_1)\n",
    "        Accs_a_w_1.append(acc_a_w_1)                                      \n",
    "\n",
    "\n",
    "Acc_1=pd.DataFrame(Accs_1)\n",
    "Acc_w_1 =pd.DataFrame(Accs_w_1)\n",
    "Acc_a_w_1 =pd.DataFrame(Accs_w_1)                                         \n",
    "#buf_cero = pd.concat([Acc_1,Acc_w_1, Acc_a_w_1], axis=1, join='outer')\n",
    "#buf_cero.columns =['Acc_uno', 'A_w_uno', 'Acc_a_w_uno'] \n",
    "#buf_cero.to_excel('resultado.xlsx', sheet_name='unos_707', index=False)\n",
    "\n",
    "#buf_cero = pd.concat([Acc,Acc_w, Acc_a_w], axis=1, join='outer')\n",
    "#buf_cero.columns =['Acc_cero', 'A_w_cero', 'Acc_a_w_cero'] \n",
    "#buf_cero.to_excel('resultado.xlsx', sheet_name='ceros_707', index=False)\n",
    "\n",
    "\n",
    "\n",
    "Acc.head()\n",
    "    \n",
    "   \n",
    "\n",
    "\n",
    "\n",
    "    \n",
    "        \n",
    "    \n",
    "\n",
    "print(str()+' operación completada: ', datetime.now().strftime(\"%H:%M:%S\"))\n",
    "save_file(Accs_1,'Data/Fault Characterization/Accs')\n",
    "\n",
    "#save_obj(Loss,'Data/Errors/VGG16/Colorectal Dataset/Loss')"
   ]
  },
  {
   "cell_type": "markdown",
   "id": "7be797f4",
   "metadata": {},
   "source": [
    "# Inyectando errores aleatorios ceros y unos"
   ]
  },
  {
   "cell_type": "code",
   "execution_count": null,
   "id": "cf2dcad2",
   "metadata": {},
   "outputs": [],
   "source": [
    "buffer_size= 16777216\n",
    "Accs_1_0 = []\n",
    "Accs_w_1_0 = []\n",
    "Accs_a_w_1_0 = []\n",
    "\n",
    "\n",
    "\n",
    "df = pd.DataFrame(columns=['Accs', 'Acc_w'])\n",
    "buffer_size= 16777216\n",
    "num_of_samples = 1\n",
    "\n",
    "\n",
    "       \n",
    "ruta_bin = 'Data\\Fault Characterization\\VC707\\RawData'\n",
    "#ruta_bin = 'Data/Fault Characterization/KC705_B/RowData/'\n",
    "directorio = pathlib.Path(ruta_bin)\n",
    "\n",
    "variantes= [analize_file, analize_file_uno, analize_file_uno_ceros]\n",
    "ficheros = [fichero.name for fichero in directorio.iterdir()]\n",
    "\n",
    "for index in range(0,num_of_samples):\n",
    "\n",
    "    for i, j in enumerate(ficheros):\n",
    "        directorio= os.path.join(ruta_bin, j)\n",
    "        buffer= (analize_file_uno_ceros(directorio, buffer_size))\n",
    "        error_mask, locs = (buffer_vectores(buffer))\n",
    "        print(directorio)\n",
    "        \n",
    "        loss,acc_1_0   = CheckAccuracyAndLoss('VGG16', test_dataset, wgt_dir, output_shape=8, input_shape = (227,227,3),\n",
    "                                                act_frac_size = 11, act_int_size = 4, wgt_frac_size = 11, wgt_int_size = 4,\n",
    "                                                batch_size=testBatchSize, verbose = 0, aging_active = True, weights_faults = False,\n",
    "                                                faulty_addresses = locs, masked_faults = error_mask)\n",
    "        \n",
    "        loss,acc_w_1_0   = CheckAccuracyAndLoss('VGG16', test_dataset, wgt_dir, output_shape=8, input_shape = (227,227,3),\n",
    "                                                act_frac_size = 11, act_int_size = 4, wgt_frac_size = 11, wgt_int_size = 4,\n",
    "                                                batch_size=testBatchSize, verbose = 0, aging_active = False, weights_faults = True,\n",
    "                                                faulty_addresses = locs, masked_faults = error_mask)\n",
    "        \n",
    "        loss,acc_a_w_1_0   = CheckAccuracyAndLoss('VGG16', test_dataset, wgt_dir, output_shape=8, input_shape = (227,227,3),\n",
    "                                                act_frac_size = 11, act_int_size = 4, wgt_frac_size = 11, wgt_int_size = 4,\n",
    "                                                batch_size=testBatchSize, verbose = 0, aging_active = True, weights_faults = True,\n",
    "                                                faulty_addresses = locs, masked_faults = error_mask)\n",
    "        \n",
    "        \n",
    "        Accs_1_0.append(acc_1_0)\n",
    "        Accs_w_1_0.append(acc_w_1_0)\n",
    "        Accs_a_w_1_0.append(acc_a_w_1_0)                                      \n",
    "\n",
    "\n",
    "Acc_1_0=pd.DataFrame(Accs_1_0)\n",
    "Acc_w_1_0 =pd.DataFrame(Accs_w_1_0)\n",
    "Acc_a_w_1_0 =pd.DataFrame(Accs_w_1_0)                                         \n",
    "buf_cero = pd.concat([Acc,Acc_w, Acc_a_w,Acc_1,Acc_w_1, Acc_a_w_1,Acc_1_0,Acc_w_1_0, Acc_a_w_1_0], axis=1, join='outer')\n",
    "buf_cero.columns =['Acc_cero', 'A_w_cero', 'Acc_a_w_cero', 'Acc_uno', 'A_w_uno', 'Acc_a_w_uno' ,'Acc_uno_cero', 'A_w_uno_cero', 'Acc_a_w_uno_cero'] \n",
    "buf_cero.to_excel('resultado.xlsx', sheet_name='fichero_707', index=False)\n",
    "\n",
    "#buf_cero = pd.concat([Acc_1,Acc_w_1, Acc_a_w_1], axis=1, join='outer')\n",
    "#buf_cero.columns =['Acc_uno', 'A_w_uno', 'Acc_a_w_uno'] \n",
    "#buf_cero.to_excel('resultado.xlsx', sheet_name='unos_707', index=False)\n",
    "\n",
    "#buf_cero = pd.concat([Acc,Acc_w, Acc_a_w], axis=1, join='outer')\n",
    "#buf_cero.columns =['Acc_cero', 'A_w_cero', 'Acc_a_w_cero'] \n",
    "#buf_cero.to_excel('resultado.xlsx', sheet_name='ceros_707', index=False)\n",
    "Acc.head()\n",
    "    \n",
    "   \n",
    "\n",
    "\n",
    "\n",
    "    \n",
    "        \n",
    "    \n",
    "\n",
    "print(str()+' operación completada: ', datetime.now().strftime(\"%H:%M:%S\"))\n",
    "#save_file(Accs_1,'Data/Fault Characterization/Accs')\n",
    "\n",
    "#save_obj(Loss,'Data/Errors/VGG16/Colorectal Dataset/Loss')"
   ]
  },
  {
   "cell_type": "markdown",
   "id": "5641ea89",
   "metadata": {},
   "source": [
    "# Gráficas"
   ]
  },
  {
   "cell_type": "code",
   "execution_count": null,
   "id": "295295ab",
   "metadata": {},
   "outputs": [],
   "source": []
  }
 ],
 "metadata": {
  "kernelspec": {
   "display_name": "env_first",
   "language": "python",
   "name": "env_first"
  },
  "language_info": {
   "codemirror_mode": {
    "name": "ipython",
    "version": 3
   },
   "file_extension": ".py",
   "mimetype": "text/x-python",
   "name": "python",
   "nbconvert_exporter": "python",
   "pygments_lexer": "ipython3",
   "version": "3.8.0"
  }
 },
 "nbformat": 4,
 "nbformat_minor": 5
}
