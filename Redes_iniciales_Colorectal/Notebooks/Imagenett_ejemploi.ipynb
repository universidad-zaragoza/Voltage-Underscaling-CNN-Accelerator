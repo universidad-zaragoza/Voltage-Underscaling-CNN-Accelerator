{
 "cells": [
  {
   "cell_type": "code",
   "execution_count": null,
   "metadata": {
    "id": "exmx4v-X8R5Z"
   },
   "outputs": [],
   "source": [
    "import os\n",
    "os.environ['TF_CPP_MIN_LOG_LEVEL'] = '2'"
   ]
  },
  {
   "cell_type": "code",
   "execution_count": null,
   "metadata": {
    "id": "FdAFGaM58R5b"
   },
   "outputs": [],
   "source": [
    "import pandas as pd\n",
    "import numpy as np\n",
    "import tensorflow as tf\n",
    "from tensorflow import keras\n",
    "import tensorflow_datasets as tfds\n",
    "from keras import layers"
   ]
  },
  {
   "cell_type": "code",
   "execution_count": null,
   "metadata": {
    "id": "YeVHX8P08R5c"
   },
   "outputs": [],
   "source": [
    "from keras.optimizers import Adam\n",
    "from keras.metrics import categorical_crossentropy"
   ]
  },
  {
   "cell_type": "code",
   "execution_count": null,
   "metadata": {
    "id": "LwMhuKvX8R5c"
   },
   "outputs": [],
   "source": [
    "from keras.preprocessing.image import ImageDataGenerator"
   ]
  },
  {
   "cell_type": "code",
   "execution_count": null,
   "metadata": {
    "id": "t2WnVn5L8R5c"
   },
   "outputs": [],
   "source": [
    "train_datagen = ImageDataGenerator(\n",
    "        rescale=1./255,\n",
    "        shear_range=0.2,\n",
    "        zoom_range=0.2,\n",
    "        horizontal_flip=True)\n",
    "test_datagen = ImageDataGenerator(rescale=1./255)\n",
    "train = train_datagen.flow_from_directory(\n",
    "        '/home/reynier/py_projects/Deployments/imagenette_dataset/imagenette2/train/',\n",
    "        target_size=(224, 224),\n",
    "        shuffle=True,\n",
    "        batch_size=32,\n",
    "        class_mode='binary')\n",
    "val = test_datagen.flow_from_directory(\n",
    "        '/home/reynier/py_projects/Deployments/imagenette_dataset/imagenette2/val/',\n",
    "        target_size=(224, 224),\n",
    "        shuffle=True,\n",
    "        batch_size=32,\n",
    "        class_mode='binary')"
   ]
  },
  {
   "cell_type": "code",
   "execution_count": null,
   "metadata": {
    "id": "ruiCaTPV8R5e"
   },
   "outputs": [],
   "source": [
    "%cd  /home/reynier/py_projects/Deployments/functions"
   ]
  },
  {
   "cell_type": "code",
   "execution_count": null,
   "metadata": {
    "id": "TbNiyVUR8R5e"
   },
   "outputs": [],
   "source": [
    "from Nets import GetNeuralNetworkModel\n",
    "from Stats import WeightQuantization, ActivationStats, CheckAccuracyAndLoss, QuantizationEffect, GetReadAndWrites\n",
    "from FileAnalize import analize_file, analize_file_uno,analize_file_uno_ceros, save_file, load_file\n",
    "from funciones import buffer_vectores\n",
    "from Simulation import buffer_simulation, save_obj, load_obj\n",
    "from Training import GetDatasets"
   ]
  },
  {
   "cell_type": "code",
   "execution_count": null,
   "metadata": {
    "id": "Sfw5jFoj8R5f"
   },
   "outputs": [],
   "source": [
    "model = GetNeuralNetworkModel('ResNet',(224,224,3),10, quantization = False, aging_active=False)"
   ]
  },
  {
   "cell_type": "code",
   "execution_count": null,
   "metadata": {
    "id": "c5_-zzvF8R5f"
   },
   "outputs": [],
   "source": [
    "callback = tf.keras.callbacks.EarlyStopping(\n",
    "    monitor='val_loss',\n",
    "    patience=10,\n",
    "    restore_best_weights=True,\n",
    "    verbose=1\n",
    "    )"
   ]
  },
  {
   "cell_type": "code",
   "execution_count": null,
   "metadata": {
    "id": "MI0cAX3z8R5f"
   },
   "outputs": [],
   "source": [
    "model.compile(\n",
    "    optimizer=Adam(0.00001),\n",
    "    loss='sparse_categorical_crossentropy',\n",
    "    metrics=['accuracy'],\n",
    ")"
   ]
  },
  {
   "cell_type": "code",
   "execution_count": null,
   "metadata": {
    "id": "wO5tPCWN8R5g"
   },
   "outputs": [],
   "source": [
    "%cd  /home/reynier/py_projects/Deployments/imagenette_dataset/imagenette2/"
   ]
  },
  {
   "cell_type": "code",
   "execution_count": null,
   "metadata": {
    "id": "jj_Qe0V68R5g"
   },
   "outputs": [],
   "source": [
    "epochs = 500\n",
    "history = model.fit(train, epochs=epochs, validation_data=val, callbacks=[callback])"
   ]
  },
  {
   "cell_type": "code",
   "execution_count": null,
   "metadata": {
    "id": "9TXl5O5e8R5h"
   },
   "outputs": [],
   "source": [
    "score = model.evaluate(train, verbose=1)\n",
    "\n",
    "print('Test loss:', score[0])\n",
    "print('Test accuracy:', score[1])"
   ]
  }
 ],
 "metadata": {
  "colab": {
   "provenance": []
  },
  "kernelspec": {
   "display_name": "env_first",
   "language": "python",
   "name": "env_first"
  },
  "language_info": {
   "codemirror_mode": {
    "name": "ipython",
    "version": 3
   },
   "file_extension": ".py",
   "mimetype": "text/x-python",
   "name": "python",
   "nbconvert_exporter": "python",
   "pygments_lexer": "ipython3",
   "version": "3.8.0"
  }
 },
 "nbformat": 4,
 "nbformat_minor": 1
}
