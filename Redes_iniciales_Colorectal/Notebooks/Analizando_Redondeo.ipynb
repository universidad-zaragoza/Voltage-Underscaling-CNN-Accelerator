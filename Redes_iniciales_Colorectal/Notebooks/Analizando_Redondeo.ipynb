{
 "cells": [
  {
   "cell_type": "code",
   "execution_count": 2,
   "id": "0e94e615",
   "metadata": {},
   "outputs": [],
   "source": [
    "import os\n",
    "import pickle as pickle\n",
    "import tensorflow as tf\n",
    "import numpy as np\n",
    "from Stats_original import WeightQuantization, IntroduceFaultsInWeights, GenerateFaultsList, CheckAccuracyAndLoss\n",
    "from Nets import GetNeuralNetworkModel\n",
    "from Training import GetDatasets\n",
    "from Simulation import get_all_outputs\n",
    "from Simulation import buffer_simulation, save_obj, load_obj\n",
    "from funciones import compilNet, same_elements\n",
    "import pandas as pd\n",
    "from datetime import datetime\n",
    "from pandas import ExcelWriter\n",
    "from openpyxl import Workbook\n",
    "from openpyxl import load_workbook\n",
    "import tensorflow_datasets as tfds"
   ]
  },
  {
   "cell_type": "code",
   "execution_count": 3,
   "id": "ef2478d7",
   "metadata": {},
   "outputs": [
    {
     "name": "stderr",
     "output_type": "stream",
     "text": [
      "C:\\Users\\usuario\\anaconda3\\envs\\env_first\\lib\\site-packages\\tensorflow\\python\\data\\ops\\dataset_ops.py:3703: UserWarning: Even though the `tf.config.experimental_run_functions_eagerly` option is set, this option does not apply to tf.data functions. To force eager execution of tf.data functions, please use `tf.data.experimental.enable.debug_mode()`.\n",
      "  warnings.warn(\n"
     ]
    }
   ],
   "source": [
    "trainBatchSize = testBatchSize = 1\n",
    "_,_,test_dataset = GetDatasets('colorectal_histology',(80,5,15),(227,227), 8, trainBatchSize, testBatchSize)"
   ]
  },
  {
   "cell_type": "code",
   "execution_count": 4,
   "id": "36ae08b2",
   "metadata": {},
   "outputs": [],
   "source": [
    "word_size  = 16\n",
    "afrac_size = 11  \n",
    "aint_size  = 4\n",
    "wfrac_size = 11\n",
    "wint_size  = 4\n",
    "shift = 2**(16-1)\n",
    "factor = 2**11\n",
    "\n",
    "cwd = os.getcwd()\n",
    "wgt_dir = os.path.join(cwd, 'Data')\n",
    "wgt_dir = os.path.join(wgt_dir, 'Trained Weights')\n",
    "wgt_dir = os.path.join(wgt_dir, 'AlexNet')\n",
    "wgt_dir = os.path.join(wgt_dir, 'Colorectal Dataset')\n",
    "wgt_dir = os.path.join(wgt_dir,'Weights')"
   ]
  },
  {
   "cell_type": "code",
   "execution_count": 5,
   "id": "b4ab19e0",
   "metadata": {},
   "outputs": [
    {
     "name": "stdout",
     "output_type": "stream",
     "text": [
      "4738\n",
      "4738\n"
     ]
    }
   ],
   "source": [
    "Cargar_errores = True\n",
    "\n",
    "\n",
    "\n",
    "if Cargar_errores:\n",
    "    locs  = load_obj('Data/Fault Characterization/error_mask y locs_buffer_act_vc-707/locs_054')\n",
    "    error_mask = load_obj('Data/Fault Characterization/error_mask y locs_buffer_act_vc-707/error_mask_054')\n",
    "#locs= locs[0:1]  \n",
    "#error_mask=error_mask[0:1]\n",
    "    \n",
    "#print('mostrando las 5 primeras direcciones con fallos')\n",
    "#print('direcciones:',locs)\n",
    "#print('mascara de fallos:',error_mask)\n",
    "print(len(error_mask))\n",
    "print(len(locs))"
   ]
  },
  {
   "cell_type": "code",
   "execution_count": null,
   "id": "bae8248e",
   "metadata": {},
   "outputs": [],
   "source": [
    "# tareas \n",
    "Sábado \n",
    "# visualizar el fichero riginal y ver los datos y aclarar con los tutores que el experimento lo hacemos inyectando 1 y 0 \n",
    "#aleatorios\n",
    "#probar lo de la invertir lo d elos bits mas significativos seleccionando del excel las posiciones de los elementos que\n",
    "#puedo invertir que serian aquellos que de atras para alante tengan fallo en el 4to bit porque si es antes rotar no funciona\n",
    "# de estos elementos tengo las direcciones debo machar los excel o obtener un exel que me lo de todo junto.\n",
    "# Obtener el excel donde analizo los errores por distancia, posicion y fallos para el vl_54 pero con el fichero de erores a \n",
    "#o y unos y todo en un mismo excel , para así tenerlo para cada buffer.\n",
    "#***Unir en un mismo .Net los 4 experimentos y enviar una variable en true que me diga cuan experimento quiero hacer\n",
    "# luego de obtenido el error_mask le envio las direcciones con las palabras de 2 fallos a coregir y estas las invierto corro los \n",
    "#experimentos a ver que pasa \n",
    "\n",
    "#Domingo\n",
    "bloc notas amarillo\n",
    "#Experimento 1\n",
    "#Experimento 2\n",
    "#\n",
    "#Lunes \n",
    "#Experimento 3"
   ]
  },
  {
   "cell_type": "code",
   "execution_count": 6,
   "id": "697ed6f0",
   "metadata": {},
   "outputs": [
    {
     "name": "stdout",
     "output_type": "stream",
     "text": [
      "AlexNet\n",
      "aging_active[0] True\n",
      "AddCustomLayers\n",
      "aging_active[1] True\n",
      "AddCustomLayers\n",
      "aging_active[2] True\n",
      "AddCustomLayers\n",
      "aging_active[3] True\n",
      "AddCustomLayers\n",
      "aging_active[5] True\n",
      "AddCustomLayers\n",
      "aging_active[6] True\n",
      "AddCustomLayers\n",
      "aging_active[7] True\n",
      "aging_active[8] True\n",
      "AddCustomLayers agin 9 True\n",
      "AddCustomLayers\n",
      "aging_active[9] True\n",
      "aging_active[10] True\n",
      "AddCustomLayers agin 10\n",
      "Dense output_shape\n",
      "AddCustomLayers False 1\n",
      "AddCustomLayers False 2\n"
     ]
    }
   ],
   "source": [
    "\n",
    "Net2 = GetNeuralNetworkModel('AlexNet', (227,227,3), 8, faulty_addresses=locs, masked_faults=error_mask,\n",
    "                             aging_active=True, word_size=word_size, frac_size=afrac_size, batch_size = testBatchSize)\n",
    "\n",
    "#Cuantizacion de los pesos\n",
    "\n",
    "loss = tf.keras.losses.CategoricalCrossentropy()\n",
    "optimizer = tf.keras.optimizers.Adam(learning_rate=1e-4)\n",
    "Net2.compile(optimizer=optimizer, loss=loss, metrics='accuracy')\n",
    "Net2.load_weights(wgt_dir).expect_partial()\n",
    "WeightQuantization(model = Net2, frac_bits = 11, int_bits = 4)\n",
    "#loss_sf,acc_sf =Net2.evaluate(test_dataset)\n",
    "#X = [x for x,y in test_dataset]\n",
    "##salidas del modelo sin fallas para la primer imagen del dataset de prueba\n",
    "#out= get_all_outputs(Net2,X[0])\n",
    "##out=get_all_outputs(Net2,iterator)\n",
    "##salidas del modelo con fallas para la primer imagen del dataset de prueba\n",
    "#out_quantizacion = out[1][0]\n",
    "#out_error_and_correction = out[2][0]\n",
    "#print('out_quantizacion',out_quantizacion)\n",
    "#print('out_error_and_correction',out_error_and_correction)\n",
    "#print('maxima diferencia absoluta entre modelo con fallas y sin fallas: ', tf.math.reduce_sum(tf.math.abs(tf.math.subtract(out_quantizacion,out_error_and_correction ))))\n"
   ]
  },
  {
   "cell_type": "code",
   "execution_count": null,
   "id": "aa5af2d5",
   "metadata": {},
   "outputs": [
    {
     "name": "stdout",
     "output_type": "stream",
     "text": [
      "Capa 2 Lambda\n"
     ]
    }
   ],
   "source": [
    "write_layer=[2,8,10,16,18,24,30,36,38,44,49,53]\n",
    "out_input=[]\n",
    "out_output=[]\n",
    "for i,j in enumerate(write_layer):\n",
    "    \n",
    "    \n",
    "    print('Capa',j,Net2.layers[j].__class__.__name__)\n",
    "    X = [x for x,y in test_dataset]\n",
    "    #salidas del modelo sin fallas para la primer imagen del dataset de prueba\n",
    "    out= get_all_outputs(Net2,X[0])\n",
    "    out_quantizacion = out[j-1]\n",
    "    out_error_and_correction = out[j]\n",
    "    diff_inp_output= tf.math.reduce_sum(tf.math.abs(tf.math.subtract(out_quantizacion,out_error_and_correction )))\n",
    "    razon=tf.math.divide(tf.math.reduce_sum(tf.math.abs(out_quantizacion)),tf.math.reduce_sum(tf.math.abs(out_error_and_correction)))\n",
    "    print(' diferencia absoluta input y outputs: ', tf.math.reduce_sum(tf.math.abs(tf.math.subtract(out_quantizacion,out_error_and_correction ))))\n",
    "    #print('razón absoluta entre input y outputs: ', tf.math.reduce_sum(tf.math.abs(tf.math.divide (out_quantizacion,out_error_and_correction ))))\n",
    "    print('prueba',tf.math.divide(tf.math.reduce_sum(tf.math.abs(out_quantizacion)),tf.math.reduce_sum(tf.math.abs(out_error_and_correction))))\n",
    "    \n",
    "    #print('razón absoluta entre input y outputs: ', tf.math.divide( (tf.math.reduce_sum(tf.math.abs(out_quantizacion)),tf.math.reduce_sum(tf.math.abs(out_error_and_correction) ))))"
   ]
  },
  {
   "cell_type": "code",
   "execution_count": 27,
   "id": "81ebc62f",
   "metadata": {},
   "outputs": [
    {
     "name": "stdout",
     "output_type": "stream",
     "text": [
      "dentro de active\n",
      "dentro de apply round\n",
      "tensor dentro de RoundValues\n",
      "diferencia absoluta tf.Tensor(489.77393, shape=(), dtype=float32)\n",
      "dentro de active\n",
      "dentro de apply round\n",
      "tensor dentro de RoundValues\n",
      "diferencia absoluta tf.Tensor(1705.21, shape=(), dtype=float32)\n",
      "dentro de active\n",
      "dentro de apply round\n",
      "tensor dentro de RoundValues\n",
      "diferencia absoluta tf.Tensor(245.81738, shape=(), dtype=float32)\n",
      "dentro de active\n",
      "dentro de apply round\n",
      "tensor dentro de RoundValues\n",
      "diferencia absoluta tf.Tensor(850.8877, shape=(), dtype=float32)\n",
      "dentro de active\n",
      "dentro de apply round\n",
      "tensor dentro de RoundValues\n",
      "diferencia absoluta tf.Tensor(175.96436, shape=(), dtype=float32)\n",
      "dentro de active\n",
      "dentro de apply round\n",
      "tensor dentro de RoundValues\n",
      "diferencia absoluta tf.Tensor(229.22949, shape=(), dtype=float32)\n",
      "dentro de active\n",
      "dentro de apply round\n",
      "tensor dentro de RoundValues\n",
      "diferencia absoluta tf.Tensor(228.64502, shape=(), dtype=float32)\n",
      "dentro de active\n",
      "dentro de apply round\n",
      "tensor dentro de RoundValues\n",
      "diferencia absoluta tf.Tensor(189.42871, shape=(), dtype=float32)\n",
      "dentro de active\n",
      "dentro de apply round\n",
      "tensor dentro de RoundValues\n",
      "diferencia absoluta tf.Tensor(79.0376, shape=(), dtype=float32)\n",
      "out_quantizacion [[[[0.87841797 0.6665039  0.7685547 ]\n",
      "   [0.87060547 0.6591797  0.7607422 ]\n",
      "   [0.8520508  0.63427734 0.7397461 ]\n",
      "   ...\n",
      "   [0.68066406 0.4296875  0.61572266]\n",
      "   [0.57128906 0.33203125 0.5283203 ]\n",
      "   [0.49804688 0.25878906 0.45507812]]\n",
      "\n",
      "  [[0.89208984 0.6743164  0.77441406]\n",
      "   [0.8852539  0.66748047 0.7675781 ]\n",
      "   [0.8691406  0.6479492  0.7504883 ]\n",
      "   ...\n",
      "   [0.81933594 0.5703125  0.7338867 ]\n",
      "   [0.71240234 0.4716797  0.6425781 ]\n",
      "   [0.62890625 0.3876953  0.55908203]]\n",
      "\n",
      "  [[0.9086914  0.6845703  0.78271484]\n",
      "   [0.9042969  0.6801758  0.7783203 ]\n",
      "   [0.8930664  0.66748047 0.76708984]\n",
      "   ...\n",
      "   [0.9682617  0.7182617  0.85253906]\n",
      "   [0.8725586  0.62597656 0.7636719 ]\n",
      "   [0.78515625 0.53808594 0.67626953]]\n",
      "\n",
      "  ...\n",
      "\n",
      "  [[0.5859375  0.36376953 0.5161133 ]\n",
      "   [0.5810547  0.35888672 0.51123047]\n",
      "   [0.57470703 0.35253906 0.5048828 ]\n",
      "   ...\n",
      "   [0.9213867  0.8417969  0.8730469 ]\n",
      "   [0.94384766 0.88134766 0.89404297]\n",
      "   [0.95703125 0.89453125 0.90771484]]\n",
      "\n",
      "  [[0.6279297  0.3984375  0.5576172 ]\n",
      "   [0.63134766 0.4013672  0.5605469 ]\n",
      "   [0.6298828  0.40527344 0.5625    ]\n",
      "   ...\n",
      "   [0.92041016 0.83251953 0.8701172 ]\n",
      "   [0.93847656 0.86376953 0.88916016]\n",
      "   [0.9511719  0.87597656 0.90185547]]\n",
      "\n",
      "  [[0.6665039  0.4272461  0.59228516]\n",
      "   [0.67626953 0.43701172 0.6015625 ]\n",
      "   [0.67871094 0.44921875 0.61035156]\n",
      "   ...\n",
      "   [0.9223633  0.8227539  0.8671875 ]\n",
      "   [0.9375     0.84716797 0.88671875]\n",
      "   [0.94921875 0.8588867  0.8979492 ]]]]\n",
      "out_error_and_correction [[[[0.87841797 0.6665039  0.7685547 ]\n",
      "   [0.87060547 0.6591797  0.7607422 ]\n",
      "   [0.8520508  0.63427734 0.7397461 ]\n",
      "   ...\n",
      "   [0.68066406 0.4296875  0.61572266]\n",
      "   [0.57128906 0.33203125 0.5283203 ]\n",
      "   [0.49804688 0.25878906 0.45507812]]\n",
      "\n",
      "  [[0.89208984 0.6743164  0.77441406]\n",
      "   [0.8852539  0.66748047 0.7675781 ]\n",
      "   [0.8691406  0.6479492  0.7504883 ]\n",
      "   ...\n",
      "   [0.81933594 0.5703125  0.7338867 ]\n",
      "   [0.71240234 0.4716797  0.6425781 ]\n",
      "   [0.62890625 0.3876953  0.55908203]]\n",
      "\n",
      "  [[0.9086914  0.6845703  0.78271484]\n",
      "   [0.9042969  0.6801758  0.7783203 ]\n",
      "   [0.8930664  0.66748047 0.76708984]\n",
      "   ...\n",
      "   [0.9682617  0.7182617  0.85253906]\n",
      "   [0.8725586  0.62597656 0.7636719 ]\n",
      "   [0.78515625 0.53808594 0.67626953]]\n",
      "\n",
      "  ...\n",
      "\n",
      "  [[0.5859375  0.36376953 0.5161133 ]\n",
      "   [0.75       0.35888672 0.51123047]\n",
      "   [0.57470703 0.35253906 0.5048828 ]\n",
      "   ...\n",
      "   [0.9213867  0.8417969  0.8730469 ]\n",
      "   [0.94384766 0.88134766 0.89404297]\n",
      "   [0.95703125 0.89453125 0.90771484]]\n",
      "\n",
      "  [[0.6279297  0.3984375  0.5576172 ]\n",
      "   [0.63134766 0.4013672  0.5605469 ]\n",
      "   [0.6298828  0.40527344 0.5625    ]\n",
      "   ...\n",
      "   [0.92041016 0.83251953 0.8701172 ]\n",
      "   [0.93847656 0.86376953 0.88916016]\n",
      "   [0.9511719  0.87597656 0.90185547]]\n",
      "\n",
      "  [[0.6665039  0.4272461  0.59228516]\n",
      "   [0.67626953 0.43701172 0.6015625 ]\n",
      "   [0.67871094 0.44921875 0.61035156]\n",
      "   ...\n",
      "   [0.9223633  0.8227539  0.8671875 ]\n",
      "   [0.9375     0.84716797 0.88671875]\n",
      "   [0.94921875 0.8588867  0.8979492 ]]]]\n",
      "maxima diferencia absoluta entre modelo con fallas y sin fallas:  tf.Tensor(489.77393, shape=(), dtype=float32)\n"
     ]
    }
   ],
   "source": [
    "X = [x for x,y in test_dataset]\n",
    "#salidas del modelo sin fallas para la primer imagen del dataset de prueba\n",
    "out= get_all_outputs(Net2,X[10])\n",
    "#out=get_all_outputs(Net2,iterator)\n",
    "#salidas del modelo con fallas para la primer imagen del dataset de prueba\n",
    "out_quantizacion = out[1]\n",
    "out_error_and_correction = out[2]\n",
    "print('out_quantizacion',out_quantizacion)\n",
    "print('out_error_and_correction',out_error_and_correction)\n",
    "print('maxima diferencia absoluta entre modelo con fallas y sin fallas: ', tf.math.reduce_sum(tf.math.abs(tf.math.subtract(out_quantizacion,out_error_and_correction ))))\n",
    "#iterator = next(iter(test_dataset))[0]\n",
    "#    out=get_all_outputs(Net2,iterator)\n",
    "#    out_quantizacion = out[1][0]  ## segunda capa, primer elemento del batch\n",
    "#    out_error_and_correction = out[2][0]  ## tercera capa, primer elemento del batch      \n"
   ]
  },
  {
   "cell_type": "code",
   "execution_count": 11,
   "id": "4598a8e0",
   "metadata": {},
   "outputs": [
    {
     "name": "stdout",
     "output_type": "stream",
     "text": [
      "<tensorflow.python.keras.engine.input_layer.InputLayer object at 0x0000020CF3B4BEB0>\n",
      "<tensorflow.python.keras.layers.core.Lambda object at 0x0000020CFE3AAB20>\n",
      "<tensorflow.python.keras.layers.core.Lambda object at 0x0000020CFE3AADC0>\n"
     ]
    }
   ],
   "source": [
    "\n",
    "for i in range(3):\n",
    "    print(Net2.layers[i])"
   ]
  },
  {
   "cell_type": "code",
   "execution_count": 7,
   "id": "fa123444",
   "metadata": {},
   "outputs": [],
   "source": [
    "# Se optienen los outpust iterando solo sobre la primera imagen del dataset\n",
    "## Las primeras 5 capas son: Input->Quantizacion->Error+Correccion->Convolucion->Quantizacion,\n",
    "## por ende si comparamos las salidas de la capa de quantizacion con las de Error+Correccion podremos comprobar si se aplico\n",
    "## la aproximacion."
   ]
  },
  {
   "cell_type": "code",
   "execution_count": 18,
   "id": "4e567aec",
   "metadata": {},
   "outputs": [
    {
     "name": "stdout",
     "output_type": "stream",
     "text": [
      "dentro de active\n",
      "affectedValues_array [<tf.Tensor: shape=(5,), dtype=float32, numpy=\n",
      "array([0.95703125, 0.95703125, 0.94921875, 0.94921875, 0.94921875],\n",
      "      dtype=float32)>]\n",
      "dentro de apply round\n",
      "tensor entero valores afectados  tf.Tensor([1960 1960 1944 1944 1944], shape=(5,), dtype=int32)\n",
      "tensor dentro de RoundValues tf.Tensor([1960 1960 1944 1944 1944], shape=(5,), dtype=int32)\n",
      "tensor_with_error [2024 18344 18392 18328 18392]\n",
      "tensor valores_afectados tf.Tensor([ True  True  True  True  True], shape=(5,), dtype=bool)\n",
      "valores malos tf.Tensor([ 2024 18344 18392 18328 18392], shape=(5,), dtype=int32)\n",
      "valores buenos tf.print tf.Tensor([1960 1960 1944 1944 1944], shape=(5,), dtype=int32)\n",
      "mask del for [64 16384 16384 16384 16384]\n",
      "newValues ANTES  [1920 0 0 0 0]\n",
      "newValues DESPUES de colocar 0 tf.Tensor([1920    0    0    0    0], shape=(5,), dtype=int32)\n",
      "tensor_act- antes de actualizar tf.Tensor([1960 1960 1944 1944 1944], shape=(5,), dtype=int32)\n",
      "tensor_act que envio para inyectar errores nuevamente tf.Tensor([1920    0    0    0    0], shape=(5,), dtype=int32)\n",
      "new_Values que llega de redondeo tf.Tensor([1920    0    0    0    0], shape=(5,), dtype=int32)\n",
      "tensor roun luego de inyectar errores entero [1984 16384 16448 16384 16448]\n",
      "tensor luego de aplicar la inyección de errores última tf.Tensor([0.96875 8.      8.03125 8.      8.03125], shape=(5,), dtype=float32)\n",
      "newValues_array [<tf.Tensor: shape=(5,), dtype=float32, numpy=array([0.96875, 8.     , 8.03125, 8.     , 8.03125], dtype=float32)>]\n",
      "affectedValues [0.95703125 0.95703125 0.94921875 0.94921875 0.94921875]\n",
      "newValues para actualizar el tensor final [0.96875 8 8.03125 8 8.03125]\n",
      "velores del tensor final en index_list [0.96875 8 8.03125 8 8.03125]\n",
      "diferencia absoluta tf.Tensor(28.269531, shape=(), dtype=float32)\n",
      "dentro de active\n",
      "affectedValues_array [<tf.Tensor: shape=(5,), dtype=float32, numpy=\n",
      "array([0.02294922, 0.02294922, 0.02294922, 0.02294922, 0.02294922],\n",
      "      dtype=float32)>]\n",
      "dentro de apply round\n",
      "tensor entero valores afectados  tf.Tensor([47 47 47 47 47], shape=(5,), dtype=int32)\n",
      "tensor dentro de RoundValues tf.Tensor([47 47 47 47 47], shape=(5,), dtype=int32)\n",
      "tensor_with_error [111 16431 16495 16431 16495]\n",
      "tensor valores_afectados tf.Tensor([ True  True  True  True  True], shape=(5,), dtype=bool)\n",
      "valores malos tf.Tensor([  111 16431 16495 16431 16495], shape=(5,), dtype=int32)\n",
      "valores buenos tf.print tf.Tensor([47 47 47 47 47], shape=(5,), dtype=int32)\n",
      "mask del for [64 16384 16384 16384 16384]\n",
      "newValues ANTES  [0 0 0 0 0]\n",
      "newValues DESPUES de colocar 0 tf.Tensor([0 0 0 0 0], shape=(5,), dtype=int32)\n",
      "tensor_act- antes de actualizar tf.Tensor([47 47 47 47 47], shape=(5,), dtype=int32)\n",
      "tensor_act que envio para inyectar errores nuevamente tf.Tensor([0 0 0 0 0], shape=(5,), dtype=int32)\n",
      "new_Values que llega de redondeo tf.Tensor([0 0 0 0 0], shape=(5,), dtype=int32)\n",
      "tensor roun luego de inyectar errores entero [64 16384 16448 16384 16448]\n",
      "tensor luego de aplicar la inyección de errores última tf.Tensor([0.03125 8.      8.03125 8.      8.03125], shape=(5,), dtype=float32)\n",
      "newValues_array [<tf.Tensor: shape=(5,), dtype=float32, numpy=array([0.03125, 8.     , 8.03125, 8.     , 8.03125], dtype=float32)>]\n",
      "affectedValues [0.0229492188 0.0229492188 0.0229492188 0.0229492188 0.0229492188]\n",
      "newValues para actualizar el tensor final [0.03125 8 8.03125 8 8.03125]\n",
      "velores del tensor final en index_list [0.03125 8 8.03125 8 8.03125]\n",
      "diferencia absoluta tf.Tensor(31.979004, shape=(), dtype=float32)\n",
      "dentro de active\n",
      "affectedValues_array [<tf.Tensor: shape=(5,), dtype=float32, numpy=\n",
      "array([-0.00048828, -0.00048828, -0.00048828, -0.00048828, -0.00048828],\n",
      "      dtype=float32)>]\n",
      "dentro de apply round\n",
      "tensor entero valores afectados  tf.Tensor([32769 32769 32769 32769 32769], shape=(5,), dtype=int32)\n",
      "tensor dentro de RoundValues tf.Tensor([32769 32769 32769 32769 32769], shape=(5,), dtype=int32)\n",
      "tensor_with_error [32833 49153 49217 49153 49217]\n",
      "tensor valores_afectados tf.Tensor([ True  True  True  True  True], shape=(5,), dtype=bool)\n",
      "valores malos tf.Tensor([32833 49153 49217 49153 49217], shape=(5,), dtype=int32)\n",
      "valores buenos tf.print tf.Tensor([32769 32769 32769 32769 32769], shape=(5,), dtype=int32)\n",
      "mask del for [64 16384 16384 16384 16384]\n",
      "newValues ANTES  [32768 32768 32768 32768 32768]\n",
      "newValues DESPUES de colocar 0 tf.Tensor([32768 32768 32768 32768 32768], shape=(5,), dtype=int32)\n",
      "tensor_act- antes de actualizar tf.Tensor([32769 32769 32769 32769 32769], shape=(5,), dtype=int32)\n",
      "tensor_act que envio para inyectar errores nuevamente tf.Tensor([32768 32768 32768 32768 32768], shape=(5,), dtype=int32)\n",
      "new_Values que llega de redondeo tf.Tensor([32768 32768 32768 32768 32768], shape=(5,), dtype=int32)\n",
      "tensor roun luego de inyectar errores entero [32832 49152 49216 49152 49216]\n",
      "tensor luego de aplicar la inyección de errores última tf.Tensor([-0.03125 -8.      -8.03125 -8.      -8.03125], shape=(5,), dtype=float32)\n",
      "newValues_array [<tf.Tensor: shape=(5,), dtype=float32, numpy=array([-0.03125, -8.     , -8.03125, -8.     , -8.03125], dtype=float32)>]\n",
      "affectedValues [-0.00048828125 -0.00048828125 -0.00048828125 -0.00048828125 -0.00048828125]\n",
      "newValues para actualizar el tensor final [-0.03125 -8 -8.03125 -8 -8.03125]\n",
      "velores del tensor final en index_list [-0.03125 -8 -8.03125 -8 -8.03125]\n",
      "diferencia absoluta tf.Tensor(32.09131, shape=(), dtype=float32)\n",
      "dentro de active\n",
      "affectedValues_array [<tf.Tensor: shape=(5,), dtype=float32, numpy=\n",
      "array([-0.64208984, -0.65527344, -0.296875  ,  0.15527344, -0.3461914 ],\n",
      "      dtype=float32)>]\n",
      "dentro de apply round\n",
      "tensor entero valores afectados  tf.Tensor([34083 34110 33376   318 33477], shape=(5,), dtype=int32)\n",
      "tensor dentro de RoundValues tf.Tensor([34083 34110 33376   318 33477], shape=(5,), dtype=int32)\n",
      "tensor_with_error [34147 50494 49760 16702 49861]\n",
      "tensor valores_afectados tf.Tensor([ True  True  True  True  True], shape=(5,), dtype=bool)\n",
      "valores malos tf.Tensor([34147 50494 49760 16702 49861], shape=(5,), dtype=int32)\n",
      "valores buenos tf.print tf.Tensor([34083 34110 33376   318 33477], shape=(5,), dtype=int32)\n",
      "mask del for [64 16384 16384 16384 16384]\n",
      "newValues ANTES  [34048 32768 32768 0 32768]\n",
      "newValues DESPUES de colocar 0 tf.Tensor([34048 32768 32768     0 32768], shape=(5,), dtype=int32)\n",
      "tensor_act- antes de actualizar tf.Tensor([34083 34110 33376   318 33477], shape=(5,), dtype=int32)\n",
      "tensor_act que envio para inyectar errores nuevamente tf.Tensor([34048 32768 32768     0 32768], shape=(5,), dtype=int32)\n",
      "new_Values que llega de redondeo tf.Tensor([34048 32768 32768     0 32768], shape=(5,), dtype=int32)\n",
      "tensor roun luego de inyectar errores entero [34112 49152 49216 16384 49216]\n",
      "tensor luego de aplicar la inyección de errores última tf.Tensor([-0.65625 -8.      -8.03125  8.      -8.03125], shape=(5,), dtype=float32)\n",
      "newValues_array [<tf.Tensor: shape=(5,), dtype=float32, numpy=array([-0.65625, -8.     , -8.03125,  8.     , -8.03125], dtype=float32)>]\n",
      "affectedValues [-0.642089844 -0.655273438 -0.296875 0.155273438 -0.346191406]\n",
      "newValues para actualizar el tensor final [-0.65625 -8 -8.03125 8 -8.03125]\n",
      "velores del tensor final en index_list [-0.65625 -8 -8.03125 8 -8.03125]\n",
      "diferencia absoluta tf.Tensor(30.623047, shape=(), dtype=float32)\n",
      "dentro de active\n",
      "affectedValues_array [<tf.Tensor: shape=(5,), dtype=float32, numpy=\n",
      "array([ 0.93603516,  1.0620117 ,  0.93115234, -0.42822266, -0.42822266],\n",
      "      dtype=float32)>]\n",
      "dentro de apply round\n",
      "tensor entero valores afectados  tf.Tensor([ 1917  2175  1907 33645 33645], shape=(5,), dtype=int32)\n",
      "tensor dentro de RoundValues tf.Tensor([ 1917  2175  1907 33645 33645], shape=(5,), dtype=int32)\n",
      "tensor_with_error [1917 18495 18291 49965 50029]\n",
      "tensor valores_afectados tf.Tensor([False  True  True  True  True], shape=(5,), dtype=bool)\n",
      "valores malos tf.Tensor([18495 18291 49965 50029], shape=(4,), dtype=int32)\n",
      "valores buenos tf.print tf.Tensor([ 2175  1907 33645 33645], shape=(4,), dtype=int32)\n",
      "mask del for [16384 16384 16384 16384]\n",
      "newValues ANTES  [0 0 32768 32768]\n",
      "newValues DESPUES de colocar 0 tf.Tensor([    0     0 32768 32768], shape=(4,), dtype=int32)\n",
      "tensor_act- antes de actualizar tf.Tensor([ 1917  2175  1907 33645 33645], shape=(5,), dtype=int32)\n",
      "tensor_act que envio para inyectar errores nuevamente tf.Tensor([ 1917     0     0 32768 32768], shape=(5,), dtype=int32)\n",
      "new_Values que llega de redondeo tf.Tensor([ 1917     0     0 32768 32768], shape=(5,), dtype=int32)\n",
      "tensor roun luego de inyectar errores entero [1917 16384 16448 49152 49216]\n"
     ]
    },
    {
     "name": "stdout",
     "output_type": "stream",
     "text": [
      "tensor luego de aplicar la inyección de errores última tf.Tensor([ 0.93603516  8.          8.03125    -8.         -8.03125   ], shape=(5,), dtype=float32)\n",
      "newValues_array [<tf.Tensor: shape=(5,), dtype=float32, numpy=\n",
      "array([ 0.93603516,  8.        ,  8.03125   , -8.        , -8.03125   ],\n",
      "      dtype=float32)>]\n",
      "affectedValues [0.936035156 1.06201172 0.931152344 -0.428222656 -0.428222656]\n",
      "newValues para actualizar el tensor final [0.936035156 8 8.03125 -8 -8.03125]\n",
      "velores del tensor final en index_list [0.936035156 8 8.03125 -8 -8.03125]\n",
      "diferencia absoluta tf.Tensor(29.21289, shape=(), dtype=float32)\n",
      "dentro de active\n",
      "affectedValues_array [<tf.Tensor: shape=(5,), dtype=float32, numpy=\n",
      "array([-0.44873047, -0.44873047, -0.44873047, -1.574707  , -1.574707  ],\n",
      "      dtype=float32)>]\n",
      "dentro de apply round\n",
      "tensor entero valores afectados  tf.Tensor([33687 33687 33687 35993 35993], shape=(5,), dtype=int32)\n",
      "tensor dentro de RoundValues tf.Tensor([33687 33687 33687 35993 35993], shape=(5,), dtype=int32)\n",
      "tensor_with_error [33751 50071 50135 52377 52441]\n",
      "tensor valores_afectados tf.Tensor([ True  True  True  True  True], shape=(5,), dtype=bool)\n",
      "valores malos tf.Tensor([33751 50071 50135 52377 52441], shape=(5,), dtype=int32)\n",
      "valores buenos tf.print tf.Tensor([33687 33687 33687 35993 35993], shape=(5,), dtype=int32)\n",
      "mask del for [64 16384 16384 16384 16384]\n",
      "newValues ANTES  [33664 32768 32768 32768 32768]\n",
      "newValues DESPUES de colocar 0 tf.Tensor([33664 32768 32768 32768 32768], shape=(5,), dtype=int32)\n",
      "tensor_act- antes de actualizar tf.Tensor([33687 33687 33687 35993 35993], shape=(5,), dtype=int32)\n",
      "tensor_act que envio para inyectar errores nuevamente tf.Tensor([33664 32768 32768 32768 32768], shape=(5,), dtype=int32)\n",
      "new_Values que llega de redondeo tf.Tensor([33664 32768 32768 32768 32768], shape=(5,), dtype=int32)\n",
      "tensor roun luego de inyectar errores entero [33728 49152 49216 49152 49216]\n",
      "tensor luego de aplicar la inyección de errores última tf.Tensor([-0.46875 -8.      -8.03125 -8.      -8.03125], shape=(5,), dtype=float32)\n",
      "newValues_array [<tf.Tensor: shape=(5,), dtype=float32, numpy=array([-0.46875, -8.     , -8.03125, -8.     , -8.03125], dtype=float32)>]\n",
      "affectedValues [-0.448730469 -0.448730469 -0.448730469 -1.57470703 -1.57470703]\n",
      "newValues para actualizar el tensor final [-0.46875 -8 -8.03125 -8 -8.03125]\n",
      "velores del tensor final en index_list [-0.46875 -8 -8.03125 -8 -8.03125]\n",
      "diferencia absoluta tf.Tensor(28.035645, shape=(), dtype=float32)\n",
      "dentro de active\n",
      "affectedValues_array [<tf.Tensor: shape=(5,), dtype=float32, numpy=\n",
      "array([1.2353516 , 1.7382812 , 1.5263672 , 0.9902344 , 0.44580078],\n",
      "      dtype=float32)>]\n",
      "dentro de apply round\n",
      "tensor entero valores afectados  tf.Tensor([2530 3560 3126 2028  913], shape=(5,), dtype=int32)\n",
      "tensor dentro de RoundValues tf.Tensor([2530 3560 3126 2028  913], shape=(5,), dtype=int32)\n",
      "tensor_with_error [2530 19880 19574 18348 17361]\n",
      "tensor valores_afectados tf.Tensor([False  True  True  True  True], shape=(5,), dtype=bool)\n",
      "valores malos tf.Tensor([19880 19574 18348 17361], shape=(4,), dtype=int32)\n",
      "valores buenos tf.print tf.Tensor([3560 3126 2028  913], shape=(4,), dtype=int32)\n",
      "mask del for [16384 16384 16384 16384]\n",
      "newValues ANTES  [0 0 0 0]\n",
      "newValues DESPUES de colocar 0 tf.Tensor([0 0 0 0], shape=(4,), dtype=int32)\n",
      "tensor_act- antes de actualizar tf.Tensor([2530 3560 3126 2028  913], shape=(5,), dtype=int32)\n",
      "tensor_act que envio para inyectar errores nuevamente tf.Tensor([2530    0    0    0    0], shape=(5,), dtype=int32)\n",
      "new_Values que llega de redondeo tf.Tensor([2530    0    0    0    0], shape=(5,), dtype=int32)\n",
      "tensor roun luego de inyectar errores entero [2530 16384 16448 16384 16448]\n",
      "tensor luego de aplicar la inyección de errores última tf.Tensor([1.2353516 8.        8.03125   8.        8.03125  ], shape=(5,), dtype=float32)\n",
      "newValues_array [<tf.Tensor: shape=(5,), dtype=float32, numpy=\n",
      "array([1.2353516, 8.       , 8.03125  , 8.       , 8.03125  ],\n",
      "      dtype=float32)>]\n",
      "affectedValues [1.23535156 1.73828125 1.52636719 0.990234375 0.445800781]\n",
      "newValues para actualizar el tensor final [1.23535156 8 8.03125 8 8.03125]\n",
      "velores del tensor final en index_list [1.23535156 8 8.03125 8 8.03125]\n",
      "diferencia absoluta tf.Tensor(27.361816, shape=(), dtype=float32)\n",
      "dentro de active\n",
      "affectedValues_array [<tf.Tensor: shape=(5,), dtype=float32, numpy=\n",
      "array([-0.71875   , -0.11962891, -0.71875   ,  1.2910156 ,  1.1279297 ],\n",
      "      dtype=float32)>]\n",
      "dentro de apply round\n",
      "tensor entero valores afectados  tf.Tensor([34240 33013 34240  2644  2310], shape=(5,), dtype=int32)\n",
      "tensor dentro de RoundValues tf.Tensor([34240 33013 34240  2644  2310], shape=(5,), dtype=int32)\n",
      "tensor_with_error [34240 49333 50624 18964 18758]\n",
      "tensor valores_afectados tf.Tensor([False  True  True  True  True], shape=(5,), dtype=bool)\n",
      "valores malos tf.Tensor([49333 50624 18964 18758], shape=(4,), dtype=int32)\n",
      "valores buenos tf.print tf.Tensor([33013 34240  2644  2310], shape=(4,), dtype=int32)\n",
      "mask del for [16384 16384 16384 16384]\n",
      "newValues ANTES  [32768 32768 0 0]\n",
      "newValues DESPUES de colocar 0 tf.Tensor([32768 32768     0     0], shape=(4,), dtype=int32)\n",
      "tensor_act- antes de actualizar tf.Tensor([34240 33013 34240  2644  2310], shape=(5,), dtype=int32)\n",
      "tensor_act que envio para inyectar errores nuevamente tf.Tensor([34240 32768 32768     0     0], shape=(5,), dtype=int32)\n",
      "new_Values que llega de redondeo tf.Tensor([34240 32768 32768     0     0], shape=(5,), dtype=int32)\n",
      "tensor roun luego de inyectar errores entero [34240 49152 49216 16384 16448]\n",
      "tensor luego de aplicar la inyección de errores última tf.Tensor([-0.71875 -8.      -8.03125  8.       8.03125], shape=(5,), dtype=float32)\n",
      "newValues_array [<tf.Tensor: shape=(5,), dtype=float32, numpy=array([-0.71875, -8.     , -8.03125,  8.     ,  8.03125], dtype=float32)>]\n",
      "affectedValues [-0.71875 -0.119628906 -0.71875 1.29101562 1.12792969]\n",
      "newValues para actualizar el tensor final [-0.71875 -8 -8.03125 8 8.03125]\n",
      "velores del tensor final en index_list [-0.71875 -8 -8.03125 8 8.03125]\n",
      "diferencia absoluta tf.Tensor(28.805176, shape=(), dtype=float32)\n",
      "dentro de active\n",
      "affectedValues_array [<tf.Tensor: shape=(5,), dtype=float32, numpy=\n",
      "array([-0.4165039 ,  0.75683594,  1.4594727 ,  1.0341797 ,  0.71875   ],\n",
      "      dtype=float32)>]\n",
      "dentro de apply round\n",
      "tensor entero valores afectados  tf.Tensor([33621  1550  2989  2118  1472], shape=(5,), dtype=int32)\n",
      "tensor dentro de RoundValues tf.Tensor([33621  1550  2989  2118  1472], shape=(5,), dtype=int32)\n",
      "tensor_with_error [33621 17934 19437 18438 17856]\n",
      "tensor valores_afectados tf.Tensor([False  True  True  True  True], shape=(5,), dtype=bool)\n",
      "valores malos tf.Tensor([17934 19437 18438 17856], shape=(4,), dtype=int32)\n",
      "valores buenos tf.print tf.Tensor([1550 2989 2118 1472], shape=(4,), dtype=int32)\n",
      "mask del for [16384 16384 16384 16384]\n",
      "newValues ANTES  [0 0 0 0]\n",
      "newValues DESPUES de colocar 0 tf.Tensor([0 0 0 0], shape=(4,), dtype=int32)\n",
      "tensor_act- antes de actualizar tf.Tensor([33621  1550  2989  2118  1472], shape=(5,), dtype=int32)\n",
      "tensor_act que envio para inyectar errores nuevamente tf.Tensor([33621     0     0     0     0], shape=(5,), dtype=int32)\n",
      "new_Values que llega de redondeo tf.Tensor([33621     0     0     0     0], shape=(5,), dtype=int32)\n",
      "tensor roun luego de inyectar errores entero [33621 16384 16448 16384 16448]\n",
      "tensor luego de aplicar la inyección de errores última tf.Tensor([-0.4165039  8.         8.03125    8.         8.03125  ], shape=(5,), dtype=float32)\n",
      "newValues_array [<tf.Tensor: shape=(5,), dtype=float32, numpy=\n",
      "array([-0.4165039,  8.       ,  8.03125  ,  8.       ,  8.03125  ],\n",
      "      dtype=float32)>]\n",
      "affectedValues [-0.416503906 0.756835938 1.45947266 1.03417969 0.71875]\n",
      "newValues para actualizar el tensor final [-0.416503906 8 8.03125 8 8.03125]\n",
      "velores del tensor final en index_list [-0.416503906 8 8.03125 8 8.03125]\n",
      "diferencia absoluta tf.Tensor(28.093262, shape=(), dtype=float32)\n",
      "dentro de active\n",
      "affectedValues_array [<tf.Tensor: shape=(5,), dtype=float32, numpy=\n",
      "array([0.95703125, 0.95703125, 0.94921875, 0.94921875, 0.94921875],\n",
      "      dtype=float32)>]\n",
      "dentro de apply round\n",
      "tensor entero valores afectados  tf.Tensor([1960 1960 1944 1944 1944], shape=(5,), dtype=int32)\n",
      "tensor dentro de RoundValues tf.Tensor([1960 1960 1944 1944 1944], shape=(5,), dtype=int32)\n",
      "tensor_with_error [2024 18344 18392 18328 18392]\n"
     ]
    },
    {
     "name": "stdout",
     "output_type": "stream",
     "text": [
      "tensor valores_afectados tf.Tensor([ True  True  True  True  True], shape=(5,), dtype=bool)\n",
      "valores malos tf.Tensor([ 2024 18344 18392 18328 18392], shape=(5,), dtype=int32)\n",
      "valores buenos tf.print tf.Tensor([1960 1960 1944 1944 1944], shape=(5,), dtype=int32)\n",
      "mask del for [64 16384 16384 16384 16384]\n",
      "newValues ANTES  [1920 0 0 0 0]\n",
      "newValues DESPUES de colocar 0 tf.Tensor([1920    0    0    0    0], shape=(5,), dtype=int32)\n",
      "tensor_act- antes de actualizar tf.Tensor([1960 1960 1944 1944 1944], shape=(5,), dtype=int32)\n",
      "tensor_act que envio para inyectar errores nuevamente tf.Tensor([1920    0    0    0    0], shape=(5,), dtype=int32)\n",
      "new_Values que llega de redondeo tf.Tensor([1920    0    0    0    0], shape=(5,), dtype=int32)\n",
      "tensor roun luego de inyectar errores entero [1984 16384 16448 16384 16448]\n",
      "tensor luego de aplicar la inyección de errores última tf.Tensor([0.96875 8.      8.03125 8.      8.03125], shape=(5,), dtype=float32)\n",
      "newValues_array [<tf.Tensor: shape=(5,), dtype=float32, numpy=array([0.96875, 8.     , 8.03125, 8.     , 8.03125], dtype=float32)>]\n",
      "affectedValues [0.95703125 0.95703125 0.94921875 0.94921875 0.94921875]\n",
      "newValues para actualizar el tensor final [0.96875 8 8.03125 8 8.03125]\n",
      "velores del tensor final en index_list [0.96875 8 8.03125 8 8.03125]\n",
      "diferencia absoluta tf.Tensor(28.269531, shape=(), dtype=float32)\n",
      "dentro de active\n",
      "affectedValues_array [<tf.Tensor: shape=(5,), dtype=float32, numpy=\n",
      "array([0.02294922, 0.02294922, 0.02294922, 0.02294922, 0.02294922],\n",
      "      dtype=float32)>]\n",
      "dentro de apply round\n",
      "tensor entero valores afectados  tf.Tensor([47 47 47 47 47], shape=(5,), dtype=int32)\n",
      "tensor dentro de RoundValues tf.Tensor([47 47 47 47 47], shape=(5,), dtype=int32)\n",
      "tensor_with_error [111 16431 16495 16431 16495]\n",
      "tensor valores_afectados tf.Tensor([ True  True  True  True  True], shape=(5,), dtype=bool)\n",
      "valores malos tf.Tensor([  111 16431 16495 16431 16495], shape=(5,), dtype=int32)\n",
      "valores buenos tf.print tf.Tensor([47 47 47 47 47], shape=(5,), dtype=int32)\n",
      "mask del for [64 16384 16384 16384 16384]\n",
      "newValues ANTES  [0 0 0 0 0]\n",
      "newValues DESPUES de colocar 0 tf.Tensor([0 0 0 0 0], shape=(5,), dtype=int32)\n",
      "tensor_act- antes de actualizar tf.Tensor([47 47 47 47 47], shape=(5,), dtype=int32)\n",
      "tensor_act que envio para inyectar errores nuevamente tf.Tensor([0 0 0 0 0], shape=(5,), dtype=int32)\n",
      "new_Values que llega de redondeo tf.Tensor([0 0 0 0 0], shape=(5,), dtype=int32)\n",
      "tensor roun luego de inyectar errores entero [64 16384 16448 16384 16448]\n",
      "tensor luego de aplicar la inyección de errores última tf.Tensor([0.03125 8.      8.03125 8.      8.03125], shape=(5,), dtype=float32)\n",
      "newValues_array [<tf.Tensor: shape=(5,), dtype=float32, numpy=array([0.03125, 8.     , 8.03125, 8.     , 8.03125], dtype=float32)>]\n",
      "affectedValues [0.0229492188 0.0229492188 0.0229492188 0.0229492188 0.0229492188]\n",
      "newValues para actualizar el tensor final [0.03125 8 8.03125 8 8.03125]\n",
      "velores del tensor final en index_list [0.03125 8 8.03125 8 8.03125]\n",
      "diferencia absoluta tf.Tensor(31.979004, shape=(), dtype=float32)\n",
      "dentro de active\n",
      "affectedValues_array [<tf.Tensor: shape=(5,), dtype=float32, numpy=\n",
      "array([-0.00048828, -0.00048828, -0.00048828, -0.00048828, -0.00048828],\n",
      "      dtype=float32)>]\n",
      "dentro de apply round\n",
      "tensor entero valores afectados  tf.Tensor([32769 32769 32769 32769 32769], shape=(5,), dtype=int32)\n",
      "tensor dentro de RoundValues tf.Tensor([32769 32769 32769 32769 32769], shape=(5,), dtype=int32)\n",
      "tensor_with_error [32833 49153 49217 49153 49217]\n",
      "tensor valores_afectados tf.Tensor([ True  True  True  True  True], shape=(5,), dtype=bool)\n",
      "valores malos tf.Tensor([32833 49153 49217 49153 49217], shape=(5,), dtype=int32)\n",
      "valores buenos tf.print tf.Tensor([32769 32769 32769 32769 32769], shape=(5,), dtype=int32)\n",
      "mask del for [64 16384 16384 16384 16384]\n",
      "newValues ANTES  [32768 32768 32768 32768 32768]\n",
      "newValues DESPUES de colocar 0 tf.Tensor([32768 32768 32768 32768 32768], shape=(5,), dtype=int32)\n",
      "tensor_act- antes de actualizar tf.Tensor([32769 32769 32769 32769 32769], shape=(5,), dtype=int32)\n",
      "tensor_act que envio para inyectar errores nuevamente tf.Tensor([32768 32768 32768 32768 32768], shape=(5,), dtype=int32)\n",
      "new_Values que llega de redondeo tf.Tensor([32768 32768 32768 32768 32768], shape=(5,), dtype=int32)\n",
      "tensor roun luego de inyectar errores entero [32832 49152 49216 49152 49216]\n",
      "tensor luego de aplicar la inyección de errores última tf.Tensor([-0.03125 -8.      -8.03125 -8.      -8.03125], shape=(5,), dtype=float32)\n",
      "newValues_array [<tf.Tensor: shape=(5,), dtype=float32, numpy=array([-0.03125, -8.     , -8.03125, -8.     , -8.03125], dtype=float32)>]\n",
      "affectedValues [-0.00048828125 -0.00048828125 -0.00048828125 -0.00048828125 -0.00048828125]\n",
      "newValues para actualizar el tensor final [-0.03125 -8 -8.03125 -8 -8.03125]\n",
      "velores del tensor final en index_list [-0.03125 -8 -8.03125 -8 -8.03125]\n",
      "diferencia absoluta tf.Tensor(32.09131, shape=(), dtype=float32)\n",
      "dentro de active\n",
      "affectedValues_array [<tf.Tensor: shape=(5,), dtype=float32, numpy=\n",
      "array([-0.64208984, -0.65527344, -0.296875  ,  0.15527344, -0.3461914 ],\n",
      "      dtype=float32)>]\n",
      "dentro de apply round\n",
      "tensor entero valores afectados  tf.Tensor([34083 34110 33376   318 33477], shape=(5,), dtype=int32)\n",
      "tensor dentro de RoundValues tf.Tensor([34083 34110 33376   318 33477], shape=(5,), dtype=int32)\n",
      "tensor_with_error [34147 50494 49760 16702 49861]\n",
      "tensor valores_afectados tf.Tensor([ True  True  True  True  True], shape=(5,), dtype=bool)\n",
      "valores malos tf.Tensor([34147 50494 49760 16702 49861], shape=(5,), dtype=int32)\n",
      "valores buenos tf.print tf.Tensor([34083 34110 33376   318 33477], shape=(5,), dtype=int32)\n",
      "mask del for [64 16384 16384 16384 16384]\n",
      "newValues ANTES  [34048 32768 32768 0 32768]\n",
      "newValues DESPUES de colocar 0 tf.Tensor([34048 32768 32768     0 32768], shape=(5,), dtype=int32)\n",
      "tensor_act- antes de actualizar tf.Tensor([34083 34110 33376   318 33477], shape=(5,), dtype=int32)\n",
      "tensor_act que envio para inyectar errores nuevamente tf.Tensor([34048 32768 32768     0 32768], shape=(5,), dtype=int32)\n",
      "new_Values que llega de redondeo tf.Tensor([34048 32768 32768     0 32768], shape=(5,), dtype=int32)\n",
      "tensor roun luego de inyectar errores entero [34112 49152 49216 16384 49216]\n",
      "tensor luego de aplicar la inyección de errores última tf.Tensor([-0.65625 -8.      -8.03125  8.      -8.03125], shape=(5,), dtype=float32)\n",
      "newValues_array [<tf.Tensor: shape=(5,), dtype=float32, numpy=array([-0.65625, -8.     , -8.03125,  8.     , -8.03125], dtype=float32)>]\n",
      "affectedValues [-0.642089844 -0.655273438 -0.296875 0.155273438 -0.346191406]\n",
      "newValues para actualizar el tensor final [-0.65625 -8 -8.03125 8 -8.03125]\n",
      "velores del tensor final en index_list [-0.65625 -8 -8.03125 8 -8.03125]\n",
      "diferencia absoluta tf.Tensor(30.623047, shape=(), dtype=float32)\n",
      "dentro de active\n",
      "affectedValues_array [<tf.Tensor: shape=(5,), dtype=float32, numpy=\n",
      "array([ 0.93603516,  1.0620117 ,  0.93115234, -0.42822266, -0.42822266],\n",
      "      dtype=float32)>]\n",
      "dentro de apply round\n",
      "tensor entero valores afectados  tf.Tensor([ 1917  2175  1907 33645 33645], shape=(5,), dtype=int32)\n",
      "tensor dentro de RoundValues tf.Tensor([ 1917  2175  1907 33645 33645], shape=(5,), dtype=int32)\n",
      "tensor_with_error [1917 18495 18291 49965 50029]\n",
      "tensor valores_afectados tf.Tensor([False  True  True  True  True], shape=(5,), dtype=bool)\n",
      "valores malos tf.Tensor([18495 18291 49965 50029], shape=(4,), dtype=int32)\n",
      "valores buenos tf.print tf.Tensor([ 2175  1907 33645 33645], shape=(4,), dtype=int32)\n",
      "mask del for [16384 16384 16384 16384]\n",
      "newValues ANTES  [0 0 32768 32768]\n",
      "newValues DESPUES de colocar 0 tf.Tensor([    0     0 32768 32768], shape=(4,), dtype=int32)\n",
      "tensor_act- antes de actualizar tf.Tensor([ 1917  2175  1907 33645 33645], shape=(5,), dtype=int32)\n",
      "tensor_act que envio para inyectar errores nuevamente tf.Tensor([ 1917     0     0 32768 32768], shape=(5,), dtype=int32)\n",
      "new_Values que llega de redondeo tf.Tensor([ 1917     0     0 32768 32768], shape=(5,), dtype=int32)\n",
      "tensor roun luego de inyectar errores entero [1917 16384 16448 49152 49216]\n",
      "tensor luego de aplicar la inyección de errores última tf.Tensor([ 0.93603516  8.          8.03125    -8.         -8.03125   ], shape=(5,), dtype=float32)\n",
      "newValues_array [<tf.Tensor: shape=(5,), dtype=float32, numpy=\n",
      "array([ 0.93603516,  8.        ,  8.03125   , -8.        , -8.03125   ],\n",
      "      dtype=float32)>]\n",
      "affectedValues [0.936035156 1.06201172 0.931152344 -0.428222656 -0.428222656]\n"
     ]
    },
    {
     "name": "stdout",
     "output_type": "stream",
     "text": [
      "newValues para actualizar el tensor final [0.936035156 8 8.03125 -8 -8.03125]\n",
      "velores del tensor final en index_list [0.936035156 8 8.03125 -8 -8.03125]\n",
      "diferencia absoluta tf.Tensor(29.21289, shape=(), dtype=float32)\n",
      "dentro de active\n",
      "affectedValues_array [<tf.Tensor: shape=(5,), dtype=float32, numpy=\n",
      "array([-0.44873047, -0.44873047, -0.44873047, -1.574707  , -1.574707  ],\n",
      "      dtype=float32)>]\n",
      "dentro de apply round\n",
      "tensor entero valores afectados  tf.Tensor([33687 33687 33687 35993 35993], shape=(5,), dtype=int32)\n",
      "tensor dentro de RoundValues tf.Tensor([33687 33687 33687 35993 35993], shape=(5,), dtype=int32)\n",
      "tensor_with_error [33751 50071 50135 52377 52441]\n",
      "tensor valores_afectados tf.Tensor([ True  True  True  True  True], shape=(5,), dtype=bool)\n",
      "valores malos tf.Tensor([33751 50071 50135 52377 52441], shape=(5,), dtype=int32)\n",
      "valores buenos tf.print tf.Tensor([33687 33687 33687 35993 35993], shape=(5,), dtype=int32)\n",
      "mask del for [64 16384 16384 16384 16384]\n",
      "newValues ANTES  [33664 32768 32768 32768 32768]\n",
      "newValues DESPUES de colocar 0 tf.Tensor([33664 32768 32768 32768 32768], shape=(5,), dtype=int32)\n",
      "tensor_act- antes de actualizar tf.Tensor([33687 33687 33687 35993 35993], shape=(5,), dtype=int32)\n",
      "tensor_act que envio para inyectar errores nuevamente tf.Tensor([33664 32768 32768 32768 32768], shape=(5,), dtype=int32)\n",
      "new_Values que llega de redondeo tf.Tensor([33664 32768 32768 32768 32768], shape=(5,), dtype=int32)\n",
      "tensor roun luego de inyectar errores entero [33728 49152 49216 49152 49216]\n",
      "tensor luego de aplicar la inyección de errores última tf.Tensor([-0.46875 -8.      -8.03125 -8.      -8.03125], shape=(5,), dtype=float32)\n",
      "newValues_array [<tf.Tensor: shape=(5,), dtype=float32, numpy=array([-0.46875, -8.     , -8.03125, -8.     , -8.03125], dtype=float32)>]\n",
      "affectedValues [-0.448730469 -0.448730469 -0.448730469 -1.57470703 -1.57470703]\n",
      "newValues para actualizar el tensor final [-0.46875 -8 -8.03125 -8 -8.03125]\n",
      "velores del tensor final en index_list [-0.46875 -8 -8.03125 -8 -8.03125]\n",
      "diferencia absoluta tf.Tensor(28.035645, shape=(), dtype=float32)\n",
      "dentro de active\n",
      "affectedValues_array [<tf.Tensor: shape=(5,), dtype=float32, numpy=\n",
      "array([1.2353516 , 1.7382812 , 1.5263672 , 0.9902344 , 0.44580078],\n",
      "      dtype=float32)>]\n",
      "dentro de apply round\n",
      "tensor entero valores afectados  tf.Tensor([2530 3560 3126 2028  913], shape=(5,), dtype=int32)\n",
      "tensor dentro de RoundValues tf.Tensor([2530 3560 3126 2028  913], shape=(5,), dtype=int32)\n",
      "tensor_with_error [2530 19880 19574 18348 17361]\n",
      "tensor valores_afectados tf.Tensor([False  True  True  True  True], shape=(5,), dtype=bool)\n",
      "valores malos tf.Tensor([19880 19574 18348 17361], shape=(4,), dtype=int32)\n",
      "valores buenos tf.print tf.Tensor([3560 3126 2028  913], shape=(4,), dtype=int32)\n",
      "mask del for [16384 16384 16384 16384]\n",
      "newValues ANTES  [0 0 0 0]\n",
      "newValues DESPUES de colocar 0 tf.Tensor([0 0 0 0], shape=(4,), dtype=int32)\n",
      "tensor_act- antes de actualizar tf.Tensor([2530 3560 3126 2028  913], shape=(5,), dtype=int32)\n",
      "tensor_act que envio para inyectar errores nuevamente tf.Tensor([2530    0    0    0    0], shape=(5,), dtype=int32)\n",
      "new_Values que llega de redondeo tf.Tensor([2530    0    0    0    0], shape=(5,), dtype=int32)\n",
      "tensor roun luego de inyectar errores entero [2530 16384 16448 16384 16448]\n",
      "tensor luego de aplicar la inyección de errores última tf.Tensor([1.2353516 8.        8.03125   8.        8.03125  ], shape=(5,), dtype=float32)\n",
      "newValues_array [<tf.Tensor: shape=(5,), dtype=float32, numpy=\n",
      "array([1.2353516, 8.       , 8.03125  , 8.       , 8.03125  ],\n",
      "      dtype=float32)>]\n",
      "affectedValues [1.23535156 1.73828125 1.52636719 0.990234375 0.445800781]\n",
      "newValues para actualizar el tensor final [1.23535156 8 8.03125 8 8.03125]\n",
      "velores del tensor final en index_list [1.23535156 8 8.03125 8 8.03125]\n",
      "diferencia absoluta tf.Tensor(27.361816, shape=(), dtype=float32)\n",
      "dentro de active\n",
      "affectedValues_array [<tf.Tensor: shape=(5,), dtype=float32, numpy=\n",
      "array([-0.71875   , -0.11962891, -0.71875   ,  1.2910156 ,  1.1279297 ],\n",
      "      dtype=float32)>]\n",
      "dentro de apply round\n",
      "tensor entero valores afectados  tf.Tensor([34240 33013 34240  2644  2310], shape=(5,), dtype=int32)\n",
      "tensor dentro de RoundValues tf.Tensor([34240 33013 34240  2644  2310], shape=(5,), dtype=int32)\n",
      "tensor_with_error [34240 49333 50624 18964 18758]\n",
      "tensor valores_afectados tf.Tensor([False  True  True  True  True], shape=(5,), dtype=bool)\n",
      "valores malos tf.Tensor([49333 50624 18964 18758], shape=(4,), dtype=int32)\n",
      "valores buenos tf.print tf.Tensor([33013 34240  2644  2310], shape=(4,), dtype=int32)\n",
      "mask del for [16384 16384 16384 16384]\n",
      "newValues ANTES  [32768 32768 0 0]\n",
      "newValues DESPUES de colocar 0 tf.Tensor([32768 32768     0     0], shape=(4,), dtype=int32)\n",
      "tensor_act- antes de actualizar tf.Tensor([34240 33013 34240  2644  2310], shape=(5,), dtype=int32)\n",
      "tensor_act que envio para inyectar errores nuevamente tf.Tensor([34240 32768 32768     0     0], shape=(5,), dtype=int32)\n",
      "new_Values que llega de redondeo tf.Tensor([34240 32768 32768     0     0], shape=(5,), dtype=int32)\n",
      "tensor roun luego de inyectar errores entero [34240 49152 49216 16384 16448]\n",
      "tensor luego de aplicar la inyección de errores última tf.Tensor([-0.71875 -8.      -8.03125  8.       8.03125], shape=(5,), dtype=float32)\n",
      "newValues_array [<tf.Tensor: shape=(5,), dtype=float32, numpy=array([-0.71875, -8.     , -8.03125,  8.     ,  8.03125], dtype=float32)>]\n",
      "affectedValues [-0.71875 -0.119628906 -0.71875 1.29101562 1.12792969]\n",
      "newValues para actualizar el tensor final [-0.71875 -8 -8.03125 8 8.03125]\n",
      "velores del tensor final en index_list [-0.71875 -8 -8.03125 8 8.03125]\n",
      "diferencia absoluta tf.Tensor(28.805176, shape=(), dtype=float32)\n",
      "dentro de active\n",
      "affectedValues_array [<tf.Tensor: shape=(5,), dtype=float32, numpy=\n",
      "array([-0.4165039 ,  0.75683594,  1.4594727 ,  1.0341797 ,  0.71875   ],\n",
      "      dtype=float32)>]\n",
      "dentro de apply round\n",
      "tensor entero valores afectados  tf.Tensor([33621  1550  2989  2118  1472], shape=(5,), dtype=int32)\n",
      "tensor dentro de RoundValues tf.Tensor([33621  1550  2989  2118  1472], shape=(5,), dtype=int32)\n",
      "tensor_with_error [33621 17934 19437 18438 17856]\n",
      "tensor valores_afectados tf.Tensor([False  True  True  True  True], shape=(5,), dtype=bool)\n",
      "valores malos tf.Tensor([17934 19437 18438 17856], shape=(4,), dtype=int32)\n",
      "valores buenos tf.print tf.Tensor([1550 2989 2118 1472], shape=(4,), dtype=int32)\n",
      "mask del for [16384 16384 16384 16384]\n",
      "newValues ANTES  [0 0 0 0]\n",
      "newValues DESPUES de colocar 0 tf.Tensor([0 0 0 0], shape=(4,), dtype=int32)\n",
      "tensor_act- antes de actualizar tf.Tensor([33621  1550  2989  2118  1472], shape=(5,), dtype=int32)\n",
      "tensor_act que envio para inyectar errores nuevamente tf.Tensor([33621     0     0     0     0], shape=(5,), dtype=int32)\n",
      "new_Values que llega de redondeo tf.Tensor([33621     0     0     0     0], shape=(5,), dtype=int32)\n",
      "tensor roun luego de inyectar errores entero [33621 16384 16448 16384 16448]\n",
      "tensor luego de aplicar la inyección de errores última tf.Tensor([-0.4165039  8.         8.03125    8.         8.03125  ], shape=(5,), dtype=float32)\n",
      "newValues_array [<tf.Tensor: shape=(5,), dtype=float32, numpy=\n",
      "array([-0.4165039,  8.       ,  8.03125  ,  8.       ,  8.03125  ],\n",
      "      dtype=float32)>]\n",
      "affectedValues [-0.416503906 0.756835938 1.45947266 1.03417969 0.71875]\n",
      "newValues para actualizar el tensor final [-0.416503906 8 8.03125 8 8.03125]\n",
      "velores del tensor final en index_list [-0.416503906 8 8.03125 8 8.03125]\n",
      "diferencia absoluta tf.Tensor(28.093262, shape=(), dtype=float32)\n",
      "dentro de active\n",
      "affectedValues_array [<tf.Tensor: shape=(5,), dtype=float32, numpy=\n",
      "array([0.95703125, 0.95703125, 0.94921875, 0.94921875, 0.94921875],\n",
      "      dtype=float32)>]\n",
      "dentro de apply round\n",
      "tensor entero valores afectados  tf.Tensor([1960 1960 1944 1944 1944], shape=(5,), dtype=int32)\n",
      "tensor dentro de RoundValues tf.Tensor([1960 1960 1944 1944 1944], shape=(5,), dtype=int32)\n",
      "tensor_with_error [2024 18344 18392 18328 18392]\n",
      "tensor valores_afectados tf.Tensor([ True  True  True  True  True], shape=(5,), dtype=bool)\n",
      "valores malos tf.Tensor([ 2024 18344 18392 18328 18392], shape=(5,), dtype=int32)\n",
      "valores buenos tf.print tf.Tensor([1960 1960 1944 1944 1944], shape=(5,), dtype=int32)\n",
      "mask del for [64 16384 16384 16384 16384]\n"
     ]
    },
    {
     "name": "stdout",
     "output_type": "stream",
     "text": [
      "newValues ANTES  [1920 0 0 0 0]\n",
      "newValues DESPUES de colocar 0 tf.Tensor([1920    0    0    0    0], shape=(5,), dtype=int32)\n",
      "tensor_act- antes de actualizar tf.Tensor([1960 1960 1944 1944 1944], shape=(5,), dtype=int32)\n",
      "tensor_act que envio para inyectar errores nuevamente tf.Tensor([1920    0    0    0    0], shape=(5,), dtype=int32)\n",
      "new_Values que llega de redondeo tf.Tensor([1920    0    0    0    0], shape=(5,), dtype=int32)\n",
      "tensor roun luego de inyectar errores entero [1984 16384 16448 16384 16448]\n",
      "tensor luego de aplicar la inyección de errores última tf.Tensor([0.96875 8.      8.03125 8.      8.03125], shape=(5,), dtype=float32)\n",
      "newValues_array [<tf.Tensor: shape=(5,), dtype=float32, numpy=array([0.96875, 8.     , 8.03125, 8.     , 8.03125], dtype=float32)>]\n",
      "affectedValues [0.95703125 0.95703125 0.94921875 0.94921875 0.94921875]\n",
      "newValues para actualizar el tensor final [0.96875 8 8.03125 8 8.03125]\n",
      "velores del tensor final en index_list [0.96875 8 8.03125 8 8.03125]\n",
      "diferencia absoluta tf.Tensor(28.269531, shape=(), dtype=float32)\n",
      "dentro de active\n",
      "affectedValues_array [<tf.Tensor: shape=(5,), dtype=float32, numpy=\n",
      "array([0.02294922, 0.02294922, 0.02294922, 0.02294922, 0.02294922],\n",
      "      dtype=float32)>]\n",
      "dentro de apply round\n",
      "tensor entero valores afectados  tf.Tensor([47 47 47 47 47], shape=(5,), dtype=int32)\n",
      "tensor dentro de RoundValues tf.Tensor([47 47 47 47 47], shape=(5,), dtype=int32)\n",
      "tensor_with_error [111 16431 16495 16431 16495]\n",
      "tensor valores_afectados tf.Tensor([ True  True  True  True  True], shape=(5,), dtype=bool)\n",
      "valores malos tf.Tensor([  111 16431 16495 16431 16495], shape=(5,), dtype=int32)\n",
      "valores buenos tf.print tf.Tensor([47 47 47 47 47], shape=(5,), dtype=int32)\n",
      "mask del for [64 16384 16384 16384 16384]\n",
      "newValues ANTES  [0 0 0 0 0]\n",
      "newValues DESPUES de colocar 0 tf.Tensor([0 0 0 0 0], shape=(5,), dtype=int32)\n",
      "tensor_act- antes de actualizar tf.Tensor([47 47 47 47 47], shape=(5,), dtype=int32)\n",
      "tensor_act que envio para inyectar errores nuevamente tf.Tensor([0 0 0 0 0], shape=(5,), dtype=int32)\n",
      "new_Values que llega de redondeo tf.Tensor([0 0 0 0 0], shape=(5,), dtype=int32)\n",
      "tensor roun luego de inyectar errores entero [64 16384 16448 16384 16448]\n",
      "tensor luego de aplicar la inyección de errores última tf.Tensor([0.03125 8.      8.03125 8.      8.03125], shape=(5,), dtype=float32)\n",
      "newValues_array [<tf.Tensor: shape=(5,), dtype=float32, numpy=array([0.03125, 8.     , 8.03125, 8.     , 8.03125], dtype=float32)>]\n",
      "affectedValues [0.0229492188 0.0229492188 0.0229492188 0.0229492188 0.0229492188]\n",
      "newValues para actualizar el tensor final [0.03125 8 8.03125 8 8.03125]\n",
      "velores del tensor final en index_list [0.03125 8 8.03125 8 8.03125]\n",
      "diferencia absoluta tf.Tensor(31.979004, shape=(), dtype=float32)\n",
      "dentro de active\n",
      "affectedValues_array [<tf.Tensor: shape=(5,), dtype=float32, numpy=\n",
      "array([-0.00048828, -0.00048828, -0.00048828, -0.00048828, -0.00048828],\n",
      "      dtype=float32)>]\n",
      "dentro de apply round\n",
      "tensor entero valores afectados  tf.Tensor([32769 32769 32769 32769 32769], shape=(5,), dtype=int32)\n",
      "tensor dentro de RoundValues tf.Tensor([32769 32769 32769 32769 32769], shape=(5,), dtype=int32)\n",
      "tensor_with_error [32833 49153 49217 49153 49217]\n",
      "tensor valores_afectados tf.Tensor([ True  True  True  True  True], shape=(5,), dtype=bool)\n",
      "valores malos tf.Tensor([32833 49153 49217 49153 49217], shape=(5,), dtype=int32)\n",
      "valores buenos tf.print tf.Tensor([32769 32769 32769 32769 32769], shape=(5,), dtype=int32)\n",
      "mask del for [64 16384 16384 16384 16384]\n",
      "newValues ANTES  [32768 32768 32768 32768 32768]\n",
      "newValues DESPUES de colocar 0 tf.Tensor([32768 32768 32768 32768 32768], shape=(5,), dtype=int32)\n",
      "tensor_act- antes de actualizar tf.Tensor([32769 32769 32769 32769 32769], shape=(5,), dtype=int32)\n",
      "tensor_act que envio para inyectar errores nuevamente tf.Tensor([32768 32768 32768 32768 32768], shape=(5,), dtype=int32)\n",
      "new_Values que llega de redondeo tf.Tensor([32768 32768 32768 32768 32768], shape=(5,), dtype=int32)\n",
      "tensor roun luego de inyectar errores entero [32832 49152 49216 49152 49216]\n",
      "tensor luego de aplicar la inyección de errores última tf.Tensor([-0.03125 -8.      -8.03125 -8.      -8.03125], shape=(5,), dtype=float32)\n",
      "newValues_array [<tf.Tensor: shape=(5,), dtype=float32, numpy=array([-0.03125, -8.     , -8.03125, -8.     , -8.03125], dtype=float32)>]\n",
      "affectedValues [-0.00048828125 -0.00048828125 -0.00048828125 -0.00048828125 -0.00048828125]\n",
      "newValues para actualizar el tensor final [-0.03125 -8 -8.03125 -8 -8.03125]\n",
      "velores del tensor final en index_list [-0.03125 -8 -8.03125 -8 -8.03125]\n",
      "diferencia absoluta tf.Tensor(32.09131, shape=(), dtype=float32)\n",
      "dentro de active\n",
      "affectedValues_array [<tf.Tensor: shape=(5,), dtype=float32, numpy=\n",
      "array([-0.64208984, -0.65527344, -0.296875  ,  0.15527344, -0.3461914 ],\n",
      "      dtype=float32)>]\n",
      "dentro de apply round\n",
      "tensor entero valores afectados  tf.Tensor([34083 34110 33376   318 33477], shape=(5,), dtype=int32)\n",
      "tensor dentro de RoundValues tf.Tensor([34083 34110 33376   318 33477], shape=(5,), dtype=int32)\n",
      "tensor_with_error [34147 50494 49760 16702 49861]\n",
      "tensor valores_afectados tf.Tensor([ True  True  True  True  True], shape=(5,), dtype=bool)\n",
      "valores malos tf.Tensor([34147 50494 49760 16702 49861], shape=(5,), dtype=int32)\n",
      "valores buenos tf.print tf.Tensor([34083 34110 33376   318 33477], shape=(5,), dtype=int32)\n",
      "mask del for [64 16384 16384 16384 16384]\n",
      "newValues ANTES  [34048 32768 32768 0 32768]\n",
      "newValues DESPUES de colocar 0 tf.Tensor([34048 32768 32768     0 32768], shape=(5,), dtype=int32)\n",
      "tensor_act- antes de actualizar tf.Tensor([34083 34110 33376   318 33477], shape=(5,), dtype=int32)\n",
      "tensor_act que envio para inyectar errores nuevamente tf.Tensor([34048 32768 32768     0 32768], shape=(5,), dtype=int32)\n",
      "new_Values que llega de redondeo tf.Tensor([34048 32768 32768     0 32768], shape=(5,), dtype=int32)\n",
      "tensor roun luego de inyectar errores entero [34112 49152 49216 16384 49216]\n",
      "tensor luego de aplicar la inyección de errores última tf.Tensor([-0.65625 -8.      -8.03125  8.      -8.03125], shape=(5,), dtype=float32)\n",
      "newValues_array [<tf.Tensor: shape=(5,), dtype=float32, numpy=array([-0.65625, -8.     , -8.03125,  8.     , -8.03125], dtype=float32)>]\n",
      "affectedValues [-0.642089844 -0.655273438 -0.296875 0.155273438 -0.346191406]\n",
      "newValues para actualizar el tensor final [-0.65625 -8 -8.03125 8 -8.03125]\n",
      "velores del tensor final en index_list [-0.65625 -8 -8.03125 8 -8.03125]\n",
      "diferencia absoluta tf.Tensor(30.623047, shape=(), dtype=float32)\n",
      "dentro de active\n",
      "affectedValues_array [<tf.Tensor: shape=(5,), dtype=float32, numpy=\n",
      "array([ 0.93603516,  1.0620117 ,  0.93115234, -0.42822266, -0.42822266],\n",
      "      dtype=float32)>]\n",
      "dentro de apply round\n",
      "tensor entero valores afectados  tf.Tensor([ 1917  2175  1907 33645 33645], shape=(5,), dtype=int32)\n",
      "tensor dentro de RoundValues tf.Tensor([ 1917  2175  1907 33645 33645], shape=(5,), dtype=int32)\n",
      "tensor_with_error [1917 18495 18291 49965 50029]\n",
      "tensor valores_afectados tf.Tensor([False  True  True  True  True], shape=(5,), dtype=bool)\n",
      "valores malos tf.Tensor([18495 18291 49965 50029], shape=(4,), dtype=int32)\n",
      "valores buenos tf.print tf.Tensor([ 2175  1907 33645 33645], shape=(4,), dtype=int32)\n",
      "mask del for [16384 16384 16384 16384]\n",
      "newValues ANTES  [0 0 32768 32768]\n",
      "newValues DESPUES de colocar 0 tf.Tensor([    0     0 32768 32768], shape=(4,), dtype=int32)\n",
      "tensor_act- antes de actualizar tf.Tensor([ 1917  2175  1907 33645 33645], shape=(5,), dtype=int32)\n",
      "tensor_act que envio para inyectar errores nuevamente tf.Tensor([ 1917     0     0 32768 32768], shape=(5,), dtype=int32)\n",
      "new_Values que llega de redondeo tf.Tensor([ 1917     0     0 32768 32768], shape=(5,), dtype=int32)\n",
      "tensor roun luego de inyectar errores entero [1917 16384 16448 49152 49216]\n",
      "tensor luego de aplicar la inyección de errores última tf.Tensor([ 0.93603516  8.          8.03125    -8.         -8.03125   ], shape=(5,), dtype=float32)\n",
      "newValues_array [<tf.Tensor: shape=(5,), dtype=float32, numpy=\n",
      "array([ 0.93603516,  8.        ,  8.03125   , -8.        , -8.03125   ],\n",
      "      dtype=float32)>]\n",
      "affectedValues [0.936035156 1.06201172 0.931152344 -0.428222656 -0.428222656]\n"
     ]
    },
    {
     "name": "stdout",
     "output_type": "stream",
     "text": [
      "newValues para actualizar el tensor final [0.936035156 8 8.03125 -8 -8.03125]\n",
      "velores del tensor final en index_list [0.936035156 8 8.03125 -8 -8.03125]\n",
      "diferencia absoluta tf.Tensor(29.21289, shape=(), dtype=float32)\n",
      "dentro de active\n",
      "affectedValues_array [<tf.Tensor: shape=(5,), dtype=float32, numpy=\n",
      "array([-0.44873047, -0.44873047, -0.44873047, -1.574707  , -1.574707  ],\n",
      "      dtype=float32)>]\n",
      "dentro de apply round\n",
      "tensor entero valores afectados  tf.Tensor([33687 33687 33687 35993 35993], shape=(5,), dtype=int32)\n",
      "tensor dentro de RoundValues tf.Tensor([33687 33687 33687 35993 35993], shape=(5,), dtype=int32)\n",
      "tensor_with_error [33751 50071 50135 52377 52441]\n",
      "tensor valores_afectados tf.Tensor([ True  True  True  True  True], shape=(5,), dtype=bool)\n",
      "valores malos tf.Tensor([33751 50071 50135 52377 52441], shape=(5,), dtype=int32)\n",
      "valores buenos tf.print tf.Tensor([33687 33687 33687 35993 35993], shape=(5,), dtype=int32)\n",
      "mask del for [64 16384 16384 16384 16384]\n",
      "newValues ANTES  [33664 32768 32768 32768 32768]\n",
      "newValues DESPUES de colocar 0 tf.Tensor([33664 32768 32768 32768 32768], shape=(5,), dtype=int32)\n",
      "tensor_act- antes de actualizar tf.Tensor([33687 33687 33687 35993 35993], shape=(5,), dtype=int32)\n",
      "tensor_act que envio para inyectar errores nuevamente tf.Tensor([33664 32768 32768 32768 32768], shape=(5,), dtype=int32)\n",
      "new_Values que llega de redondeo tf.Tensor([33664 32768 32768 32768 32768], shape=(5,), dtype=int32)\n",
      "tensor roun luego de inyectar errores entero [33728 49152 49216 49152 49216]\n",
      "tensor luego de aplicar la inyección de errores última tf.Tensor([-0.46875 -8.      -8.03125 -8.      -8.03125], shape=(5,), dtype=float32)\n",
      "newValues_array [<tf.Tensor: shape=(5,), dtype=float32, numpy=array([-0.46875, -8.     , -8.03125, -8.     , -8.03125], dtype=float32)>]\n",
      "affectedValues [-0.448730469 -0.448730469 -0.448730469 -1.57470703 -1.57470703]\n",
      "newValues para actualizar el tensor final [-0.46875 -8 -8.03125 -8 -8.03125]\n",
      "velores del tensor final en index_list [-0.46875 -8 -8.03125 -8 -8.03125]\n",
      "diferencia absoluta tf.Tensor(28.035645, shape=(), dtype=float32)\n",
      "dentro de active\n",
      "affectedValues_array [<tf.Tensor: shape=(5,), dtype=float32, numpy=\n",
      "array([1.2353516 , 1.7382812 , 1.5263672 , 0.9902344 , 0.44580078],\n",
      "      dtype=float32)>]\n",
      "dentro de apply round\n",
      "tensor entero valores afectados  tf.Tensor([2530 3560 3126 2028  913], shape=(5,), dtype=int32)\n",
      "tensor dentro de RoundValues tf.Tensor([2530 3560 3126 2028  913], shape=(5,), dtype=int32)\n",
      "tensor_with_error [2530 19880 19574 18348 17361]\n",
      "tensor valores_afectados tf.Tensor([False  True  True  True  True], shape=(5,), dtype=bool)\n",
      "valores malos tf.Tensor([19880 19574 18348 17361], shape=(4,), dtype=int32)\n",
      "valores buenos tf.print tf.Tensor([3560 3126 2028  913], shape=(4,), dtype=int32)\n",
      "mask del for [16384 16384 16384 16384]\n",
      "newValues ANTES  [0 0 0 0]\n",
      "newValues DESPUES de colocar 0 tf.Tensor([0 0 0 0], shape=(4,), dtype=int32)\n",
      "tensor_act- antes de actualizar tf.Tensor([2530 3560 3126 2028  913], shape=(5,), dtype=int32)\n",
      "tensor_act que envio para inyectar errores nuevamente tf.Tensor([2530    0    0    0    0], shape=(5,), dtype=int32)\n",
      "new_Values que llega de redondeo tf.Tensor([2530    0    0    0    0], shape=(5,), dtype=int32)\n",
      "tensor roun luego de inyectar errores entero [2530 16384 16448 16384 16448]\n",
      "tensor luego de aplicar la inyección de errores última tf.Tensor([1.2353516 8.        8.03125   8.        8.03125  ], shape=(5,), dtype=float32)\n",
      "newValues_array [<tf.Tensor: shape=(5,), dtype=float32, numpy=\n",
      "array([1.2353516, 8.       , 8.03125  , 8.       , 8.03125  ],\n",
      "      dtype=float32)>]\n",
      "affectedValues [1.23535156 1.73828125 1.52636719 0.990234375 0.445800781]\n",
      "newValues para actualizar el tensor final [1.23535156 8 8.03125 8 8.03125]\n",
      "velores del tensor final en index_list [1.23535156 8 8.03125 8 8.03125]\n",
      "diferencia absoluta tf.Tensor(27.361816, shape=(), dtype=float32)\n",
      "dentro de active\n",
      "affectedValues_array [<tf.Tensor: shape=(5,), dtype=float32, numpy=\n",
      "array([-0.71875   , -0.11962891, -0.71875   ,  1.2910156 ,  1.1279297 ],\n",
      "      dtype=float32)>]\n",
      "dentro de apply round\n",
      "tensor entero valores afectados  tf.Tensor([34240 33013 34240  2644  2310], shape=(5,), dtype=int32)\n",
      "tensor dentro de RoundValues tf.Tensor([34240 33013 34240  2644  2310], shape=(5,), dtype=int32)\n",
      "tensor_with_error [34240 49333 50624 18964 18758]\n",
      "tensor valores_afectados tf.Tensor([False  True  True  True  True], shape=(5,), dtype=bool)\n",
      "valores malos tf.Tensor([49333 50624 18964 18758], shape=(4,), dtype=int32)\n",
      "valores buenos tf.print tf.Tensor([33013 34240  2644  2310], shape=(4,), dtype=int32)\n",
      "mask del for [16384 16384 16384 16384]\n",
      "newValues ANTES  [32768 32768 0 0]\n",
      "newValues DESPUES de colocar 0 tf.Tensor([32768 32768     0     0], shape=(4,), dtype=int32)\n",
      "tensor_act- antes de actualizar tf.Tensor([34240 33013 34240  2644  2310], shape=(5,), dtype=int32)\n",
      "tensor_act que envio para inyectar errores nuevamente tf.Tensor([34240 32768 32768     0     0], shape=(5,), dtype=int32)\n",
      "new_Values que llega de redondeo tf.Tensor([34240 32768 32768     0     0], shape=(5,), dtype=int32)\n",
      "tensor roun luego de inyectar errores entero [34240 49152 49216 16384 16448]\n",
      "tensor luego de aplicar la inyección de errores última tf.Tensor([-0.71875 -8.      -8.03125  8.       8.03125], shape=(5,), dtype=float32)\n",
      "newValues_array [<tf.Tensor: shape=(5,), dtype=float32, numpy=array([-0.71875, -8.     , -8.03125,  8.     ,  8.03125], dtype=float32)>]\n",
      "affectedValues [-0.71875 -0.119628906 -0.71875 1.29101562 1.12792969]\n",
      "newValues para actualizar el tensor final [-0.71875 -8 -8.03125 8 8.03125]\n",
      "velores del tensor final en index_list [-0.71875 -8 -8.03125 8 8.03125]\n",
      "diferencia absoluta tf.Tensor(28.805176, shape=(), dtype=float32)\n",
      "dentro de active\n",
      "affectedValues_array [<tf.Tensor: shape=(5,), dtype=float32, numpy=\n",
      "array([-0.4165039 ,  0.75683594,  1.4594727 ,  1.0341797 ,  0.71875   ],\n",
      "      dtype=float32)>]\n",
      "dentro de apply round\n",
      "tensor entero valores afectados  tf.Tensor([33621  1550  2989  2118  1472], shape=(5,), dtype=int32)\n",
      "tensor dentro de RoundValues tf.Tensor([33621  1550  2989  2118  1472], shape=(5,), dtype=int32)\n",
      "tensor_with_error [33621 17934 19437 18438 17856]\n",
      "tensor valores_afectados tf.Tensor([False  True  True  True  True], shape=(5,), dtype=bool)\n",
      "valores malos tf.Tensor([17934 19437 18438 17856], shape=(4,), dtype=int32)\n",
      "valores buenos tf.print tf.Tensor([1550 2989 2118 1472], shape=(4,), dtype=int32)\n",
      "mask del for [16384 16384 16384 16384]\n",
      "newValues ANTES  [0 0 0 0]\n",
      "newValues DESPUES de colocar 0 tf.Tensor([0 0 0 0], shape=(4,), dtype=int32)\n",
      "tensor_act- antes de actualizar tf.Tensor([33621  1550  2989  2118  1472], shape=(5,), dtype=int32)\n",
      "tensor_act que envio para inyectar errores nuevamente tf.Tensor([33621     0     0     0     0], shape=(5,), dtype=int32)\n",
      "new_Values que llega de redondeo tf.Tensor([33621     0     0     0     0], shape=(5,), dtype=int32)\n",
      "tensor roun luego de inyectar errores entero [33621 16384 16448 16384 16448]\n",
      "tensor luego de aplicar la inyección de errores última tf.Tensor([-0.4165039  8.         8.03125    8.         8.03125  ], shape=(5,), dtype=float32)\n",
      "newValues_array [<tf.Tensor: shape=(5,), dtype=float32, numpy=\n",
      "array([-0.4165039,  8.       ,  8.03125  ,  8.       ,  8.03125  ],\n",
      "      dtype=float32)>]\n",
      "affectedValues [-0.416503906 0.756835938 1.45947266 1.03417969 0.71875]\n",
      "newValues para actualizar el tensor final [-0.416503906 8 8.03125 8 8.03125]\n",
      "velores del tensor final en index_list [-0.416503906 8 8.03125 8 8.03125]\n",
      "diferencia absoluta tf.Tensor(28.093262, shape=(), dtype=float32)\n"
     ]
    }
   ],
   "source": [
    "for i in range(3):\n",
    "    \n",
    "    iterator = next(iter(test_dataset))[0]\n",
    "    out=get_all_outputs(Net2,iterator)\n",
    "    out_quantizacion = out[1][0]  ## segunda capa, primer elemento del batch\n",
    "    out_error_and_correction = out[2][0]  ## tercera capa, primer elemento del batch                \n"
   ]
  },
  {
   "cell_type": "code",
   "execution_count": 10,
   "id": "1960ee3d",
   "metadata": {},
   "outputs": [
    {
     "name": "stdout",
     "output_type": "stream",
     "text": [
      "dentro de active\n",
      "dentro de apply round\n",
      "tensor dentro de RoundValues\n",
      "diferencia absoluta tf.Tensor(424.3872, shape=(), dtype=float32)\n",
      "dentro de active\n",
      "dentro de apply round\n",
      "tensor dentro de RoundValues\n",
      "diferencia absoluta tf.Tensor(1704.6719, shape=(), dtype=float32)\n",
      "dentro de active\n",
      "dentro de apply round\n",
      "tensor dentro de RoundValues\n",
      "diferencia absoluta tf.Tensor(254.77051, shape=(), dtype=float32)\n",
      "dentro de active\n",
      "dentro de apply round\n",
      "tensor dentro de RoundValues\n",
      "diferencia absoluta tf.Tensor(836.6123, shape=(), dtype=float32)\n",
      "dentro de active\n",
      "dentro de apply round\n",
      "tensor dentro de RoundValues\n",
      "diferencia absoluta tf.Tensor(175.1919, shape=(), dtype=float32)\n",
      "dentro de active\n",
      "dentro de apply round\n",
      "tensor dentro de RoundValues\n",
      "diferencia absoluta tf.Tensor(223.88184, shape=(), dtype=float32)\n",
      "dentro de active\n",
      "dentro de apply round\n",
      "tensor dentro de RoundValues\n",
      "diferencia absoluta tf.Tensor(221.80273, shape=(), dtype=float32)\n",
      "dentro de active\n",
      "dentro de apply round\n",
      "tensor dentro de RoundValues\n",
      "diferencia absoluta tf.Tensor(182.57275, shape=(), dtype=float32)\n",
      "dentro de active\n",
      "dentro de apply round\n",
      "tensor dentro de RoundValues\n",
      "diferencia absoluta tf.Tensor(75.55762, shape=(), dtype=float32)\n"
     ]
    }
   ],
   "source": [
    "iterator = next(iter(test_dataset))[0]\n",
    "out=get_all_outputs(Net2,iterator)\n",
    "out_quantizacion = out[1][0]  ## segunda capa, primer elemento del batch\n",
    "out_error_and_correction = out[2][0]  ## tercera capa, primer elemento del batch                \n",
    "\n"
   ]
  },
  {
   "cell_type": "code",
   "execution_count": 13,
   "id": "b536cd09",
   "metadata": {},
   "outputs": [
    {
     "name": "stdout",
     "output_type": "stream",
     "text": [
      "Error:  x0xxxxxxx0xxxxxx\n",
      "Valor antes:  0.95703125\n",
      "Valor con error + aproximacion:  0.95703125\n",
      "-------------------------\n",
      "Error:  x0xxxxxxx0xxxxxx\n",
      "Valor antes:  0.9609375\n",
      "Valor con error + aproximacion:  0.9609375\n",
      "-------------------------\n",
      "Error:  x0xxxxxxx0xxxxxx\n",
      "Valor antes:  0.95214844\n",
      "Valor con error + aproximacion:  0.95214844\n",
      "-------------------------\n"
     ]
    }
   ],
   "source": [
    "Valores_antes   = [out_quantizacion  [28] [28] [1],out_quantizacion [29] [41] [1],out_quantizacion [30] [10] [1]]\n",
    "Valores_despues = [out_error_and_correction[28] [28] [1],out_error_and_correction[29] [41] [1],out_error_and_correction[30] [10] [1]]\n",
    "\n",
    "for i in range(3):\n",
    "    print('Error: ',error_mask[i])\n",
    "    print('Valor antes: ',Valores_antes[i])\n",
    "    print('Valor con error + aproximacion: ',Valores_despues[i])\n",
    "    #print('Valor antes: ',Valores_antes[i],'En binario: ',convert(Valores_antes[i]))\n",
    "    #print('Valor con error + aproximacion: ',Valores_despues[i],'En binario: ',convert(Valores_despues[i]))\n",
    "    print('-------------------------')"
   ]
  },
  {
   "cell_type": "code",
   "execution_count": 13,
   "id": "68e161c5",
   "metadata": {},
   "outputs": [],
   "source": [
    "def convert(value):\n",
    "    shift   = 2**(16-1)\n",
    "    factor  = 2**11\n",
    "    new_val = value*factor\n",
    "    new_val = -new_val + shift if new_val < 0 else new_val\n",
    "    new_val = int(new_val)\n",
    "    return format(new_val, '#018b')"
   ]
  },
  {
   "cell_type": "code",
   "execution_count": null,
   "id": "d7bb84ea",
   "metadata": {},
   "outputs": [],
   "source": [
    "index_list [[0, 28, 28, 1], [0, 29, 41, 1], [0, 30, 10, 1], [0, 31, 7, 1], [0, 32, 4, 1]]"
   ]
  },
  {
   "cell_type": "code",
   "execution_count": null,
   "id": "58c234ff",
   "metadata": {},
   "outputs": [],
   "source": [
    "## Test para ver si los resultados son correctos\n",
    "locs= locs[0:5]  \n",
    "error_mask=error_mask[0:5]"
   ]
  },
  {
   "cell_type": "code",
   "execution_count": null,
   "id": "6d96805f",
   "metadata": {},
   "outputs": [],
   "source": [
    "index_list [[0, 6, 7, 24], [0, 9, 8, 24], [0, 11, 0, 24], [0, 1, 3, 25], [0, 1, 11, 25]]\n",
    "mod_list [[49087, 0], [49087, 0], [49087, 0], [49087, 0], [65471, 16384]]"
   ]
  },
  {
   "cell_type": "code",
   "execution_count": null,
   "id": "6322087e",
   "metadata": {},
   "outputs": [],
   "source": [
    "v_m 33202 33202 33202 33080 18048\n",
    "v_b 33266 33266 33266 33144  1664\n",
    "mask 64    64    64    64   16384\n",
    "roun 33279 33279 33279 33151     0\n",
    "     33215 33215 33215 33087 16384 luego de inyectar errores\n",
    "     33215 33215 33215 33087 16384\n",
    "\n",
    "test 1\n",
    "0b1000000110110010 v_m\n",
    "0b1000000111110010 v_b\n",
    "  0000000001000000 mask 64\n",
    "    #error a 0 vb>vm\n",
    "0b0000000000111111 mask-1 63 \n",
    "0b1000000111110010 v_b  or\n",
    "0b1000000111111111 nuevo valor 33279\n",
    "\n",
    "\n",
    "test 2\n",
    "0b1000000100111000 v_m 33080\n",
    "0b1000000101111000 v_b 33144\n",
    "0b0000000001000000 mak  64\n",
    "0b0000000000111111 mask-1 63\n",
    "0b1000000101111000 v_b 33144 or\n",
    "0b1000000101111111 nuevo valor   33151\n",
    "\n"
   ]
  },
  {
   "cell_type": "code",
   "execution_count": null,
   "id": "32a29ddb",
   "metadata": {},
   "outputs": [],
   "source": [
    "## Intección de errores para rectificar los resultados"
   ]
  },
  {
   "cell_type": "code",
   "execution_count": 9,
   "id": "4223c244",
   "metadata": {},
   "outputs": [
    {
     "data": {
      "text/plain": [
       "<tf.Tensor: shape=(5,), dtype=int32, numpy=array([33279, 33279, 33279, 33151,     0])>"
      ]
     },
     "execution_count": 9,
     "metadata": {},
     "output_type": "execute_result"
    }
   ],
   "source": [
    "new_Values=tf.convert_to_tensor([33279, 33279, 33279, 33151, 0])\n",
    "mod_list= ([49087,0], [49087,0], [49087,0], [49087, 0], [65471,16384])\n",
    "faults=tf.convert_to_tensor(mod_list)\n",
    "new_Values"
   ]
  },
  {
   "cell_type": "code",
   "execution_count": 36,
   "id": "88acd726",
   "metadata": {},
   "outputs": [],
   "source": [
    "def inyectar_error(tensor, faults):\n",
    "    tensor = tf.bitwise.bitwise_and(new_Values,faults[:,0])\n",
    "    tensor = tf.bitwise.bitwise_or(tensor,faults[:,1])\n",
    "    return tensor"
   ]
  },
  {
   "cell_type": "code",
   "execution_count": null,
   "id": "1120541c",
   "metadata": {},
   "outputs": [],
   "source": [
    "#Compruevo los valores afectados del tensor original inyectando los errores sin aplicar redeondeo \n",
    "#para ver que valores serian los erroneos en float"
   ]
  },
  {
   "cell_type": "code",
   "execution_count": 11,
   "id": "a61e085e",
   "metadata": {},
   "outputs": [
    {
     "data": {
      "text/plain": [
       "<tf.Tensor: shape=(5,), dtype=float32, numpy=\n",
       "array([-0.24316406, -0.24316406, -0.24316406, -0.18359375,  0.8125    ],\n",
       "      dtype=float32)>"
      ]
     },
     "execution_count": 11,
     "metadata": {},
     "output_type": "execute_result"
    }
   ],
   "source": [
    "valores_afectados=tf.convert_to_tensor([-0.243164062, -0.243164062, -0.243164062 ,-0.18359375, 0.8125])\n",
    "valores_afectados"
   ]
  },
  {
   "cell_type": "code",
   "execution_count": 37,
   "id": "6d4ebf18",
   "metadata": {},
   "outputs": [],
   "source": [
    "def inyec_convert_float(valores_afectados,faults):\n",
    "    \n",
    "    Ogdtype = valores_afectados.dtype\n",
    "    shift   = 2**(16-1)\n",
    "    factor  = 2**11\n",
    "    tensor  = tf.cast(valores_afectados*factor,dtype=tf.int32)\n",
    "    tensor  = tf.where(tf.less(tensor, 0), -tensor + shift , tensor )\n",
    "    tensor  = tf.bitwise.bitwise_and(tensor,faults[:,0])\n",
    "    tensor  = tf.bitwise.bitwise_or(tensor,faults[:,1])\n",
    "    tensor  = tf.where(tf.greater_equal(tensor,shift), shift-tensor , tensor )\n",
    "    tensor  = tf.cast(tensor/factor,dtype = Ogdtype)\n",
    "    return tensor"
   ]
  },
  {
   "cell_type": "code",
   "execution_count": null,
   "id": "be309e96",
   "metadata": {},
   "outputs": [],
   "source": [
    "valores_afectados=-0.243164062 -0.243164062 -0.243164062   -0.18359375 0.8125\n",
    "nuevos valores   =-0.218261719 -0.218261719 -0.218261719   -0.155761719 8\n",
    "vals_afect_error= -0.21191406  -0.21191406  -0.21191406     -0.15234375  8.8125\n",
    "\n",
    "# En este ejemplo lo que veo es que el valor original afectado en la ultima posición de la lista q\n",
    "#que fue llevado a 0 en el redondeo , con la version 3 el valor queda igual al originasl \n",
    "#  cuando hago el analisis en enteros estos valores son diferentes "
   ]
  },
  {
   "cell_type": "code",
   "execution_count": null,
   "id": "8795e6fd",
   "metadata": {},
   "outputs": [],
   "source": [
    "#Test 2\n",
    "locs= locs[0:5]  \n",
    "error_mask=error_mask[0:5]"
   ]
  },
  {
   "cell_type": "code",
   "execution_count": null,
   "id": "2537f1af",
   "metadata": {},
   "outputs": [],
   "source": [
    "valores afectados: 1952 1952 1942 1952\n",
    "tensor_with_error :1954 18400 18390 1952\n",
    "valores_a cambiar :True  True  True False\n",
    "v_m:                1954 18400 18390\n",
    "v_b :               1952 1952 1942 \n",
    "mask                [2 16384 16384]\n",
    "newValues ANTES      [1952 0 0]\n",
    "newValues DESPUES   [1952    0    0]\n",
    "tensor_act         ([1952    0    0 1952] \n",
    "tensor roun luego de inyectar errores entero [1954 16448 16448 1952]                    \n",
    "affectedValues                           [0.953125 0.953125 0.948242188 0.953125]\n",
    "newValues para actualizar el tensor final [0.954101562 8.03125 8.03125 0.953125]    "
   ]
  },
  {
   "cell_type": "code",
   "execution_count": null,
   "id": "8adcd53d",
   "metadata": {},
   "outputs": [],
   "source": [
    "test # 1\n",
    "0b11110100000 v_b\n",
    "0b11110100010 v_m\n",
    "0b00000000010 mask 2\n",
    "0b00000000001 mask-1\n",
    "0b11111111110 n_mask-1\n",
    "0b11110100000 v_b and\n",
    "0b11110100000 nuev_val 1952\n",
    "\n",
    "test # 1\n",
    "0b0000011110100000 v_b\n",
    "0b0100011111100000 v_m\n",
    "0b0100000000000000 mask 16384\n",
    "0b0011111111111111 mak-1\n",
    "0b1100000000000000 notmask\n",
    "0b0000011110100000 v_b and\n",
    "0b0000000000000000 nuev_val 0\n",
    "\n",
    "test#3\n",
    "0b0000011110010110 v_b\n",
    "0b0100011111010110 v_m\n",
    "0b0100000000000000 16384\n",
    "0b0011111111111111 mak-1\n",
    "0b1100000000000000 notmask\n",
    "0b0000011110010110 v_b and\n",
    "0b0000000000000000 nuev_val 0\n",
    "\n",
    "\n",
    "\n",
    "\n",
    "\n",
    "\n",
    "\n",
    "\n"
   ]
  },
  {
   "cell_type": "code",
   "execution_count": 19,
   "id": "b86e732f",
   "metadata": {},
   "outputs": [
    {
     "data": {
      "text/plain": [
       "'0b100011111010110'"
      ]
     },
     "execution_count": 19,
     "metadata": {},
     "output_type": "execute_result"
    }
   ],
   "source": [
    "bin(18390)"
   ]
  },
  {
   "cell_type": "code",
   "execution_count": 17,
   "id": "bdd879f9",
   "metadata": {},
   "outputs": [
    {
     "data": {
      "text/plain": [
       "1952"
      ]
     },
     "execution_count": 17,
     "metadata": {},
     "output_type": "execute_result"
    }
   ],
   "source": [
    "int('0b0000011110100000',2)"
   ]
  },
  {
   "cell_type": "code",
   "execution_count": 21,
   "id": "b9d39afe",
   "metadata": {},
   "outputs": [
    {
     "data": {
      "text/plain": [
       "<tf.Tensor: shape=(4,), dtype=int32, numpy=array([1952,    0,    0, 1952])>"
      ]
     },
     "execution_count": 21,
     "metadata": {},
     "output_type": "execute_result"
    }
   ],
   "source": [
    "new_Values=tf.convert_to_tensor([1952 ,   0  ,  0, 1952])\n",
    "mod_list= ([65535, 514], [65535, 16448], [65535, 16448], [49087, 0])\n",
    "faults=tf.convert_to_tensor(mod_list)\n",
    "new_Values"
   ]
  },
  {
   "cell_type": "code",
   "execution_count": 36,
   "id": "12923c06",
   "metadata": {},
   "outputs": [
    {
     "data": {
      "text/plain": [
       "<tf.Tensor: shape=(4,), dtype=int32, numpy=array([ 1954, 16448, 16448,  1952])>"
      ]
     },
     "execution_count": 36,
     "metadata": {},
     "output_type": "execute_result"
    }
   ],
   "source": [
    "tensor_round=intectar_error(new_Values,faults)\n",
    "tensor_round"
   ]
  },
  {
   "cell_type": "code",
   "execution_count": 37,
   "id": "9c95429c",
   "metadata": {},
   "outputs": [
    {
     "data": {
      "text/plain": [
       "<tf.Tensor: shape=(4,), dtype=float32, numpy=array([0.95410156, 8.03125   , 8.03125   , 0.953125  ], dtype=float32)>"
      ]
     },
     "execution_count": 37,
     "metadata": {},
     "output_type": "execute_result"
    }
   ],
   "source": [
    "tensor = tf.where(tf.greater_equal(tensor_round,shift), shift-tensor_round , tensor_round )\n",
    "tensor = tf.cast(tensor/factor,dtype = tf.float32)\n",
    "tensor"
   ]
  },
  {
   "cell_type": "code",
   "execution_count": null,
   "id": "a40027ce",
   "metadata": {},
   "outputs": [],
   "source": [
    "#valores afectados originales en float"
   ]
  },
  {
   "cell_type": "code",
   "execution_count": 25,
   "id": "122e6cc0",
   "metadata": {},
   "outputs": [
    {
     "data": {
      "text/plain": [
       "<tf.Tensor: shape=(4,), dtype=float32, numpy=array([0.953125 , 0.953125 , 0.9482422, 0.953125 ], dtype=float32)>"
      ]
     },
     "execution_count": 25,
     "metadata": {},
     "output_type": "execute_result"
    }
   ],
   "source": [
    "valores_afectados=tf.convert_to_tensor([0.953125, 0.953125, 0.948242188, 0.953125])\n",
    "valores_afectados"
   ]
  },
  {
   "cell_type": "code",
   "execution_count": 26,
   "id": "3bd80fcd",
   "metadata": {},
   "outputs": [
    {
     "data": {
      "text/plain": [
       "<tf.Tensor: shape=(4,), dtype=float32, numpy=array([0.95410156, 8.984375  , 8.979492  , 0.953125  ], dtype=float32)>"
      ]
     },
     "execution_count": 26,
     "metadata": {},
     "output_type": "execute_result"
    }
   ],
   "source": [
    "inyec_convert_float(valores_afectados,faults)"
   ]
  },
  {
   "cell_type": "code",
   "execution_count": 40,
   "id": "057dd59c",
   "metadata": {},
   "outputs": [],
   "source": [
    "valores_afectados= [0.953125,  0.953125,   0.948242188,  0.953125]\n",
    "nuevos_valores   = [ 0.95410156, 8.03125   , 8.03125   , 0.953125]\n",
    "vals_afect_error=  [0.95410156, 8.984375  , 8.979492  , 0.953125]\n",
    "\n",
    "# En este ejemplo lo que veo que la diferencia entre el valor con la tecnica de redondeo\n",
    "# y el valor que se insertaria con el error sin tecnica no difieren en gran medida\n",
    "#   "
   ]
  },
  {
   "cell_type": "code",
   "execution_count": null,
   "id": "2162cff6",
   "metadata": {},
   "outputs": [],
   "source": [
    "## Diferencia entre lo que se cologa en el experimento original y los valores con el Round"
   ]
  },
  {
   "cell_type": "code",
   "execution_count": 42,
   "id": "7b30b6f5",
   "metadata": {},
   "outputs": [
    {
     "data": {
      "text/plain": [
       "<tf.Tensor: shape=(4,), dtype=float32, numpy=array([0.       , 0.953125 , 0.9482422, 0.       ], dtype=float32)>"
      ]
     },
     "execution_count": 42,
     "metadata": {},
     "output_type": "execute_result"
    }
   ],
   "source": [
    "tf.subtract(vals_afect_error,tensor)"
   ]
  },
  {
   "cell_type": "code",
   "execution_count": null,
   "id": "77ac90b9",
   "metadata": {},
   "outputs": [],
   "source": [
    "x0xxxxxxx1xxxxxx', 'x1xxxxxxx0xxxxxx', 'x1xxxxxxx1xxxxxx', 'x1xxxxxxx0xxxxxx', 'x1xxxxxxx1xxxxxx'"
   ]
  },
  {
   "cell_type": "code",
   "execution_count": null,
   "id": "3a489af0",
   "metadata": {},
   "outputs": [],
   "source": [
    "locs= locs[11:16]  \n",
    "error_mask=error_mask[11:16]\n",
    "\n",
    "\n",
    "valores afectados: 1960 1960 1944 1944 1944\n",
    "tensor_with_error :2024 18344 18392 18328 18392\n",
    "valores_a cambiar :True  True  True False\n",
    "    \n",
    "v_m:                2024 18344 18392 18328 18392\n",
    "v_b :               1960 1960 1944 1944 1944\n",
    "mask                64 16384 16384 16384 16384\n",
    "newValues ANTES     1920    0    0    0    0\n",
    "newValues DESPUES   1920    0    0    0    0\n",
    "tensor_act         (1920    0    0    0    0] \n",
    "tensor roun luego de inyectar errores entero [1984 16384 16448 16384 16448]                    \n",
    "affectedValues                           [0.95703125 0.95703125 0.94921875 0.94921875 0.94921875]\n",
    "newValues para actualizar el tensor final [0.96875 8 8.03125 8 8.03125]    \n",
    "#test #1\n",
    "                   \n",
    "0b0000011111101000 v_m 2024\n",
    "0b0000011110101000 v_b 1960\n",
    "0b0000000001000000  mask 64\n",
    "0b0000000000111111  mask-1 63 \n",
    "0b1111111111000000  n_mask 65472\n",
    "0b0000011110101000 v_b 1960  \n",
    "0b0000011110000000 1920 nuev_val   \n",
    "\n",
    "#test #2 \n",
    "                      \n",
    "0b0100011110101000 v_m  18344 \n",
    "0b0000011110101000 v_b 1960                    \n",
    "0b0100000000000000 mask 16384\n",
    "0b1011111111111111 n_mask \n",
    "0b0011111111111111  mask-1 16383                  \n",
    "0b1100000000000000\n",
    "0b0000011110101000 v_b 1960 and\n",
    "0b0000000000000000 nuev_val 0\n",
    "                    \n",
    "                    \n",
    "test# 3   \n",
    "0b0100011111011000 v_m 18392                   \n",
    "0b0000011110011000 v_b 1944\n",
    "0b0100000000000000 mask 16384\n",
    "0b0011111111111111  mask-1 16383 \n",
    "0b1100000000000000 n_mask\n",
    "0b0000011110011000 v_b 1944 and\n",
    "0b0000000000000000 nuev_val 0  \n",
    " \n",
    "                    \n",
    "test#4  0\n",
    "0b100011110011000 v_m 18328                   \n",
    "0b000011110011000 v_b 1944\n",
    "0b010000000000000 mask 16384  \n",
    "0b011111111111111 mask-1  \n",
    "0b100000000000000 n_mask                    \n",
    "0b000011110011000 v_b 1944 and                   \n",
    "0b000000000000000  nuev_val 0 \n",
    "                    \n",
    "test#5  0    Es igual al test#3                \n",
    "                    "
   ]
  },
  {
   "cell_type": "code",
   "execution_count": 32,
   "id": "2ebb2582",
   "metadata": {},
   "outputs": [
    {
     "data": {
      "text/plain": [
       "'0b11111111111111'"
      ]
     },
     "execution_count": 32,
     "metadata": {},
     "output_type": "execute_result"
    }
   ],
   "source": [
    "bin(16383)"
   ]
  },
  {
   "cell_type": "code",
   "execution_count": 29,
   "id": "8aff5872",
   "metadata": {},
   "outputs": [
    {
     "data": {
      "text/plain": [
       "49151"
      ]
     },
     "execution_count": 29,
     "metadata": {},
     "output_type": "execute_result"
    }
   ],
   "source": [
    "int('0b1011111111111111',2)"
   ]
  },
  {
   "cell_type": "code",
   "execution_count": 34,
   "id": "f476beed",
   "metadata": {},
   "outputs": [
    {
     "data": {
      "text/plain": [
       "<tf.Tensor: shape=(5,), dtype=int32, numpy=array([1920,    0,    0,    0,    0])>"
      ]
     },
     "execution_count": 34,
     "metadata": {},
     "output_type": "execute_result"
    }
   ],
   "source": [
    "new_Values=tf.convert_to_tensor([1920 ,   0,    0 ,   0 ,   0])\n",
    "mod_list= ([49151, 64], [65471, 16384], [65535, 16448], [65471, 16384], [65535, 16448])\n",
    "faults=tf.convert_to_tensor(mod_list)\n",
    "new_Values"
   ]
  },
  {
   "cell_type": "code",
   "execution_count": 38,
   "id": "3c29dbbf",
   "metadata": {},
   "outputs": [
    {
     "data": {
      "text/plain": [
       "<tf.Tensor: shape=(5,), dtype=int32, numpy=array([ 1984, 16384, 16448, 16384, 16448])>"
      ]
     },
     "execution_count": 38,
     "metadata": {},
     "output_type": "execute_result"
    }
   ],
   "source": [
    "tensor_round=inyectar_error(new_Values,faults)\n",
    "tensor_round"
   ]
  },
  {
   "cell_type": "code",
   "execution_count": 39,
   "id": "e831f6c1",
   "metadata": {},
   "outputs": [
    {
     "data": {
      "text/plain": [
       "<tf.Tensor: shape=(5,), dtype=float32, numpy=array([0.96875, 8.     , 8.03125, 8.     , 8.03125], dtype=float32)>"
      ]
     },
     "execution_count": 39,
     "metadata": {},
     "output_type": "execute_result"
    }
   ],
   "source": [
    "tensor = tf.where(tf.greater_equal(tensor_round,shift), shift-tensor_round , tensor_round )\n",
    "tensor = tf.cast(tensor/factor,dtype = tf.float32)\n",
    "tensor"
   ]
  },
  {
   "cell_type": "code",
   "execution_count": null,
   "id": "958baa03",
   "metadata": {},
   "outputs": [],
   "source": [
    "#valores afectados originales en float"
   ]
  },
  {
   "cell_type": "code",
   "execution_count": 40,
   "id": "1b1dc2c2",
   "metadata": {},
   "outputs": [
    {
     "data": {
      "text/plain": [
       "<tf.Tensor: shape=(5,), dtype=float32, numpy=\n",
       "array([0.95703125, 0.95703125, 0.94921875, 0.94921875, 0.94921875],\n",
       "      dtype=float32)>"
      ]
     },
     "execution_count": 40,
     "metadata": {},
     "output_type": "execute_result"
    }
   ],
   "source": [
    "valores_afectados=tf.convert_to_tensor([0.95703125, 0.95703125, 0.94921875, 0.94921875, 0.94921875])\n",
    "valores_afectados"
   ]
  },
  {
   "cell_type": "code",
   "execution_count": 44,
   "id": "a113967e",
   "metadata": {},
   "outputs": [
    {
     "data": {
      "text/plain": [
       "<tf.Tensor: shape=(5,), dtype=float32, numpy=\n",
       "array([0.98828125, 8.957031  , 8.980469  , 8.949219  , 8.980469  ],\n",
       "      dtype=float32)>"
      ]
     },
     "execution_count": 44,
     "metadata": {},
     "output_type": "execute_result"
    }
   ],
   "source": [
    "vals_afect_error=inyec_convert_float(valores_afectados,faults)\n",
    "vals_afect_error"
   ]
  },
  {
   "cell_type": "code",
   "execution_count": null,
   "id": "eb8cb473",
   "metadata": {},
   "outputs": [],
   "source": []
  },
  {
   "cell_type": "code",
   "execution_count": null,
   "id": "5226da6b",
   "metadata": {},
   "outputs": [],
   "source": [
    "valores_afectados= [0.95703125, 0.95703125,  0.94921875, 0.94921875, 0.94921875]\n",
    "nuevos_valores   = [0.96875,    8.     ,     8.03125,     8.     ,   8.03125]\n",
    "vals_afect_error=  [0.98828125, 8.957031  ,  8.980469  ,  8.949219  , 8.980469  ] "
   ]
  },
  {
   "cell_type": "code",
   "execution_count": null,
   "id": "3a514836",
   "metadata": {},
   "outputs": [],
   "source": [
    "index_list [[0, 28, 28, 1], [0, 29, 41, 1], [0, 30, 10, 1], [0, 31, 7, 1], [0, 32, 4, 1]]"
   ]
  },
  {
   "cell_type": "code",
   "execution_count": null,
   "id": "16122362",
   "metadata": {},
   "outputs": [],
   "source": [
    "## Diferencia entre lo que se cologa en el experimento original y los valores con el Round"
   ]
  },
  {
   "cell_type": "code",
   "execution_count": 45,
   "id": "69bea689",
   "metadata": {},
   "outputs": [
    {
     "data": {
      "text/plain": [
       "<tf.Tensor: shape=(5,), dtype=float32, numpy=\n",
       "array([0.01953125, 0.95703125, 0.94921875, 0.94921875, 0.94921875],\n",
       "      dtype=float32)>"
      ]
     },
     "execution_count": 45,
     "metadata": {},
     "output_type": "execute_result"
    }
   ],
   "source": [
    "tf.subtract(vals_afect_error,tensor)"
   ]
  }
 ],
 "metadata": {
  "kernelspec": {
   "display_name": "env_first",
   "language": "python",
   "name": "env_first"
  },
  "language_info": {
   "codemirror_mode": {
    "name": "ipython",
    "version": 3
   },
   "file_extension": ".py",
   "mimetype": "text/x-python",
   "name": "python",
   "nbconvert_exporter": "python",
   "pygments_lexer": "ipython3",
   "version": "3.8.0"
  }
 },
 "nbformat": 4,
 "nbformat_minor": 5
}
