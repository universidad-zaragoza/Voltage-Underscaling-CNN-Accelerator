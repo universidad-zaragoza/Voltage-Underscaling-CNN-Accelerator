{
 "cells": [
  {
   "cell_type": "code",
   "execution_count": 1,
   "id": "f637bb37",
   "metadata": {},
   "outputs": [],
   "source": [
    "from tensorflow.keras.models import Sequential\n",
    "from tensorflow.python.keras import backend as K\n",
    "import tensorflow as tf\n",
    "import collections\n",
    "import numpy as np\n",
    "from openpyxl import load_workbook\n",
    "from openpyxl import Workbook\n",
    "from pandas import ExcelWriter\n",
    "import pandas.io.formats.excel\n",
    "from funciones import ErrorAuno,ErrorAcero\n",
    "\n",
    "from tensorflow.keras.layers import (Activation, AveragePooling2D, BatchNormalization, Cropping2D,\n",
    "                                     Concatenate, Conv1D, Conv2D, Dense, DepthwiseConv2D, Dropout,\n",
    "                                     Embedding, Flatten, GlobalAveragePooling2D, Lambda, MaxPool2D,\n",
    "                                     MaxPooling1D, ReLU, Reshape, ZeroPadding2D)"
   ]
  },
  {
   "cell_type": "code",
   "execution_count": 7,
   "id": "fd56dd97",
   "metadata": {},
   "outputs": [],
   "source": [
    "##### Funciones para trabajar cada caso según el tipo de error si el mismo está dado por la escritura de un 0 cuando\n",
    "##### debía ser un 1(ErrorAcero) o viceversa. Se ha desarrollado un algoritmo que permite colocar luego del primer bit con\n",
    "####error encontrado en el resto de las posiciones a 0 o a unos : Se analizan los valores comenzando por el BMS(Bit más\n",
    "#signif)comparando el valor con el error y el valor que se debe escribir correcto donde haya un cambio de valor se analiza\n",
    "#### si el cambio es de un 0 x 1 se coloca el resto de los bits a 0, y luego se inyectan los demás errores y si el cambio\n",
    "#### es de un 1 x 0 se colocan los bits siguientes a 1 y se mantienen los errores restantes haciendo un Bitwise con los\n",
    "#valores  generados por errores estaticos a 1 o a 0"
   ]
  },
  {
   "cell_type": "code",
   "execution_count": 9,
   "id": "c6932575",
   "metadata": {},
   "outputs": [],
   "source": [
    "# Conversión del tensor generado por la red a naturales: para ello se multiplica el número generado por la red que es un \n",
    "#un número real x 2**bit de la parte fraccionaria colocando el valor en un entero de 32 bits(de esta forma se convierten a \n",
    "# enteros) luego para llevarlo a naturales(a los valores negativos se les suma 2**al tamaño de la palabra que en este caso\n",
    "# es de 16 bits)"
   ]
  },
  {
   "cell_type": "code",
   "execution_count": 2,
   "id": "d640385c",
   "metadata": {},
   "outputs": [
    {
     "name": "stdout",
     "output_type": "stream",
     "text": [
      "tensor despues del cast tf.Tensor(\n",
      "[  38   38   38   38   -1   -1   -1   -1   -1   -1   -1   -1   -1   -1\n",
      "   -1   -1   -1   -1   69  -72   27   27   66   66   66   27 -218 -218], shape=(28,), dtype=int32)\n",
      "tensor_original tf.Tensor(\n",
      "[   38    38    38    38 32769 32769 32769 32769 32769 32769 32769 32769\n",
      " 32769 32769 32769 32769 32769 32769    69 32840    27    27    66    66\n",
      "    66    27 32986 32986], shape=(28,), dtype=int32)\n",
      "tf.Tensor(28, shape=(), dtype=int32)\n",
      "<tf.Variable 'Variable:0' shape=() dtype=int32, numpy=0>\n",
      "tf.Tensor(28, shape=(), dtype=int32)\n",
      "tf.Tensor(28, shape=(), dtype=int32)\n",
      "static_1_Error tf.Tensor(\n",
      "[    0     0 16384    64   514 16448 16448 49087     0 16448    64 16384\n",
      " 16448 16384 16448 16448 16448    64     0     0   128  1024 16384    16\n",
      "  4112     0  2048    64], shape=(28,), dtype=int32)\n",
      "static_0_Error tf.Tensor(\n",
      "[49087 49087 49087 49087 65471 49151 65535 65535 65535 65535 49151 65471\n",
      " 65535 65471 65535 65535 65535 49151 49087 32639 32767 65017 65471 61439\n",
      " 65535 61423 65527 49151], shape=(28,), dtype=int32)\n",
      "tensor_with_error tf.Tensor(\n",
      "[   38    38 16422   102 33283 49217 49217 49087 32769 49217 32833 49153\n",
      " 49217 49153 49217 49217 49217 32833    69 32840   155  1051 16450    82\n",
      "  4178    27 35034 32986], shape=(28,), dtype=int32)\n"
     ]
    }
   ],
   "source": [
    "tensor_original= tf.convert_to_tensor([ 1.85546875e-02,  1.85546875e-02, 1.85546875e-02,  1.85546875e-02, -4.88281250e-04, -4.88281250e-04,\n",
    " -4.88281250e-04, -4.88281250e-04 ,-4.88281250e-04, -4.88281250e-04, -4.88281250e-04, -4.88281250e-04, -4.88281250e-04, -4.88281250e-04,\n",
    " -4.88281250e-04, -4.88281250e-04, -4.88281250e-04, -4.88281250e-04,  3.36914062e-02, -3.51562500e-02 , 1.31835938e-02 , 1.31835938e-02,\n",
    "  3.22265625e-02 , 3.22265625e-02 , 3.22265625e-02 , 1.31835938e-02, -1.06445312e-01, -1.06445312e-01] )\n",
    "\n",
    "\n",
    "word_size=16\n",
    "frac_size=11\n",
    " \n",
    "Ogdtype = tensor_original.dtype\n",
    "shift   = 2**(word_size-1)\n",
    "factor  = 2**frac_size\n",
    "\n",
    "\n",
    "tensor_original  = tf.cast(tensor_original*factor,dtype=tf.int32)\n",
    "print('tensor despues del cast',tensor_original)\n",
    "tensor_original  = tf.where(tf.less(tensor_original, 0), -tensor_original + shift , tensor_original )\n",
    "print('tensor_original',tensor_original)\n",
    "tensor_actu=tensor_original\n",
    "print(tf.size(tensor_original))\n",
    "values_to_run=tf.Variable(0, dtype=tensor_original.dtype)\n",
    "print(values_to_run)\n",
    "\n",
    "static_0_Error=tf.convert_to_tensor([49087 ,49087 ,49087 ,49087,65471,49151,65535,65535,65535,65535,49151,65471,65535,65471,65535,65535,65535,49151,49087,32639,32767,65017,65471 ,61439,65535,61423,65527,49151])\n",
    "static_1_Error=tf.convert_to_tensor([0,0,16384, 64,514,16448,16448,49087,0,16448, 64, 16384, 16448,16384,16448,16448,16448, 64, 0, 0, 128,1024,16384, 16, 4112, 0,2048, 64])\n",
    "print(tf.size(static_1_Error))\n",
    "print(tf.size(static_0_Error))\n",
    "print('static_1_Error',static_1_Error)\n",
    "print('static_0_Error',static_0_Error)\n",
    "\n",
    "## Se realiza el proceso de inyeccción de los errores al tensor origunal realisando las operaciones btw correspondientes\n",
    "tensor_with_error = tf.bitwise.bitwise_and(tensor_original, static_0_Error)\n",
    "tensor_with_error = tf.bitwise.bitwise_or(tensor_original, static_1_Error)\n",
    "print( 'tensor_with_error',tensor_with_error)"
   ]
  },
  {
   "cell_type": "code",
   "execution_count": null,
   "id": "35dab621",
   "metadata": {},
   "outputs": [],
   "source": [
    "t_or_  38    38    38    38 32769 32769 32769 32769 32769 32769 32769 32769  32769 32769 32769 32769 32769 32769    69 32840    27    27    66    66     66    27 32986 32986"
   ]
  },
  {
   "cell_type": "code",
   "execution_count": null,
   "id": "d7af4bf1",
   "metadata": {},
   "outputs": [],
   "source": [
    "t_error 38    38 16422   102 33283 49217 49217 49087 32769 49217 32833 49153  49217 49153 49217 49217 49217 32833    69 32840   155  1051 16450    82   4178    27 35034 32986]"
   ]
  },
  {
   "cell_type": "code",
   "execution_count": null,
   "id": "6faa73a5",
   "metadata": {},
   "outputs": [],
   "source": [
    " r_act_ 38    38 16384    64 33282 49216 49216 49087 32769 49216 32832 49152  49216 49152 49216 49216 49216 32832    69 32840   128  1024 16384    80    4112    27 34816 32986], shape=(28,), dtype=int32)"
   ]
  },
  {
   "cell_type": "code",
   "execution_count": 11,
   "id": "98ccd722",
   "metadata": {},
   "outputs": [
    {
     "data": {
      "text/plain": [
       "32768"
      ]
     },
     "execution_count": 11,
     "metadata": {},
     "output_type": "execute_result"
    }
   ],
   "source": [
    "int('1000000000000000',2)"
   ]
  },
  {
   "cell_type": "markdown",
   "id": "6f742e82",
   "metadata": {},
   "source": [
    "##Prueba para entrar a errores por 0"
   ]
  },
  {
   "cell_type": "code",
   "execution_count": 21,
   "id": "7dc21d39",
   "metadata": {},
   "outputs": [
    {
     "name": "stdout",
     "output_type": "stream",
     "text": [
      "tensor_original tf.Tensor([40167 61311 64511    22    17    37    30    38], shape=(8,), dtype=int32)\n"
     ]
    }
   ],
   "source": [
    "\n",
    "tensor_original=tf.convert_to_tensor([40167,61311,64511,22,17,37,30,38 ])\n",
    "print('tensor_original',tensor_original)\n",
    "#static_0_Error=tf.convert_to_tensor([7927,28671,57343,65535,65518,65535,49087 ,49087])\n",
    "\n",
    "#static_1_Error=tf.convert_to_tensor([528,0,1024,12,4,32768,0,0 ])\n",
    "#print(tf.size(static_1_Error))\n",
    "#print(tf.size(static_0_Error))\n",
    "#print('static_1_Error',static_1_Error)\n",
    "#print('static_0_Error',static_0_Error)\n",
    "\n",
    "\n",
    "## Se realiza el proceso de inyeccción de los errores al tensor origunal realisando las operaciones btw correspondientes\n",
    "#tensor_with_error = tf.bitwise.bitwise_and(tensor_original, static_0_Error)\n",
    "#print('tensor_with_error_and',tensor_with_error)\n",
    "#tensor_with_error = tf.bitwise.bitwise_or(tensor_with_error, static_1_Error)\n",
    "#print( 'tensor_with_error_0r',tensor_with_error)\n"
   ]
  },
  {
   "cell_type": "code",
   "execution_count": 22,
   "id": "11c16a86",
   "metadata": {},
   "outputs": [
    {
     "name": "stdout",
     "output_type": "stream",
     "text": [
      "faults[:,0] tf.Tensor([ 7927 28671 57343 65535 65518 65535 49087 49087], shape=(8,), dtype=int32)\n"
     ]
    },
    {
     "data": {
      "text/plain": [
       "<tf.Tensor: shape=(8,), dtype=int32, numpy=array([ 7927, 28543, 57343,    30,     4, 32805,    30,    38])>"
      ]
     },
     "execution_count": 22,
     "metadata": {},
     "output_type": "execute_result"
    }
   ],
   "source": [
    "static_Error0_1= ([7927,528],[28671,0],[57343,1024],[65535,12],[65518,4],[65535,32768],[49087,0] ,[49087,0])\n",
    "faults=tf.convert_to_tensor(static_Error0_1)\n",
    "tensor  = tf.bitwise.bitwise_and(tensor_original,faults[:,0])\n",
    "print('faults[:,0]',faults[:,0])\n",
    "tensor_with_error  = tf.bitwise.bitwise_or(tensor,faults[:,1])\n",
    "tensor_with_error"
   ]
  },
  {
   "cell_type": "markdown",
   "id": "616dec42",
   "metadata": {},
   "source": [
    "## Declaración de variables y preparación de los datos que entran al ciclo"
   ]
  },
  {
   "cell_type": "code",
   "execution_count": null,
   "id": "6525cd77",
   "metadata": {},
   "outputs": [],
   "source": [
    "values_to_run\n",
    "mask\n",
    "v_m\n",
    "v_b\n",
    "mask_0\n",
    "valores_afectados\n",
    "matriz_control_cambios\n",
    "valores_afec_static_0_Error\n",
    "valores_afec_static_1_Error\n",
    "vb_and_mask\n",
    "vm_and_mask\n",
    "tensor_act\n",
    "values_to_run"
   ]
  },
  {
   "cell_type": "code",
   "execution_count": null,
   "id": "127b7e71",
   "metadata": {},
   "outputs": [],
   "source": [
    "Todo esto ha de ser una función que será llamada de la funcion apply round luego de inyectar los errores , pasando el tensor \n",
    "original que llega con problemas , el tensor con los errores y la máscara . Con el fin de obtener el tensor actualizado con los valores\n",
    "redondeados ."
   ]
  },
  {
   "cell_type": "code",
   "execution_count": 23,
   "id": "959387aa",
   "metadata": {},
   "outputs": [
    {
     "name": "stdout",
     "output_type": "stream",
     "text": [
      "valores_afectados tf.Tensor([ True  True  True  True  True  True False False], shape=(8,), dtype=bool)\n",
      "valores afectados por los errores tf.Tensor([ 7927 28543 57343    30     4 32805], shape=(6,), dtype=int32)\n",
      "valores que se deberian escribir tf.Tensor([40167 61311 64511    22    17    37], shape=(6,), dtype=int32)\n",
      "mask_0 tf.Tensor(0, shape=(), dtype=int32)\n",
      " out inicial tf.Tensor(16, shape=(), dtype=int32)\n",
      "i inicial tf.Tensor(0, shape=(), dtype=int32)\n",
      "matriz_control_cambios tf.Tensor([False False False False False False], shape=(6,), dtype=bool)\n",
      "valores_afec_static_0_Error tf.Tensor([ 7927 28671 57343 65535 65518 65535], shape=(6,), dtype=int32)\n",
      "valores_afec_static_1_Error tf.Tensor([  528     0  1024    12     4 32768], shape=(6,), dtype=int32)\n",
      "vb_and_mask tf.Tensor([32768 32768 32768     0     0     0], shape=(6,), dtype=int32)\n",
      "vm_and_mask tf.Tensor([    0     0 32768     0     0 32768], shape=(6,), dtype=int32)\n"
     ]
    }
   ],
   "source": [
    "#Se crea un tensor variable donde se guardarán los valores en cada ciclo que aún no se han encontrado la posición con error\n",
    "#y hay que continuar analizando con mask>>1\n",
    "# se cra un tensor con el valos de la máscara inicial la cual es 1000000000000000\n",
    "values_to_run=tf.Variable(0)\n",
    "mask=tf.convert_to_tensor(32768)\n",
    "\n",
    "#crea un tensor de (T and F),donde en T están los valores afectados por los errores inyectados\n",
    "# esta matriz es la que controla si ya no hay cambios pendientes porque todos los valores han sido analizados y\n",
    "#detiene el ciclo para no iterar innecesariamente\n",
    "\n",
    "valores_afectados=tf.math.not_equal(tensor_original,tensor_with_error)\n",
    "print('valores_afectados',valores_afectados)  \n",
    "\n",
    "# Se extraen los valores que fueron afectados por los errores\n",
    "v_m=tf.gather_nd(tensor_with_error,tf.where(valores_afectados==True))\n",
    "print('valores afectados por los errores' ,v_m)\n",
    "\n",
    "#valores que se deberian escribir\n",
    "v_b=tf.gather_nd(tensor_original,tf.where(valores_afectados==True))\n",
    "print('valores que se deberian escribir' ,v_b)\n",
    "#a=np.size(v_m)\n",
    "# Creo una máscara de 0 del con la cantidad de errores afectados para ir llevando el contrl de los cambios \n",
    "#mask_0=tf.convert_to_tensor([0]*a)\n",
    "mask_0=tf.constant(0)\n",
    "print('mask_0',mask_0)\n",
    "\n",
    "# inicializo los valores de comienzo y fin del ciclo teniendo en cuenta que pueden haber errores hasta la posición 15 de\n",
    "# una palabra\n",
    "i=tf.constant(0)\n",
    "out=tf.constant(16)\n",
    "print(' out inicial',(out))\n",
    "print('i inicial', i)\n",
    "\n",
    "\n",
    "#matriz_control(esta la cree pero al final no la uso luego que verifique todo puede ser eliminada sino hace falta)\n",
    "#matriz_control=tf.equal(tensor_original,tensor_with_error)\n",
    "matriz_control_cambios=tf.equal(v_b,v_m)\n",
    "print('matriz_control_cambios',matriz_control_cambios)\n",
    "\n",
    "# Tensores con los valores de errores en 0 y 1 que propiciaron cambios en el tensor original\n",
    "valores_afec_static_0_Error=tf.gather_nd(faults[:,0], tf.where(tf.math.not_equal(tensor_original,tensor_with_error)))\n",
    "valores_afec_static_1_Error=tf.gather_nd(faults[:,1], tf.where(tf.math.not_equal(tensor_original,tensor_with_error)))\n",
    "print('valores_afec_static_0_Error',valores_afec_static_0_Error)\n",
    "print('valores_afec_static_1_Error',valores_afec_static_1_Error)\n",
    "\n",
    "vb_and_mask=tf.bitwise.bitwise_and(tf.gather_nd(tensor_original,tf.where(valores_afectados==True)),mask)\n",
    "print('vb_and_mask',vb_and_mask)\n",
    "vm_and_mask=tf.bitwise.bitwise_and(tf.gather_nd(tensor_with_error,tf.where(valores_afectados==True)),mask)\n",
    "vm_and_mask\n",
    "##### 'aquí actualizo el tensor con los nuevos valores de igual a mask'\n",
    "print('vm_and_mask',vm_and_mask)\n",
    "#tf.gather_nd(v_b,tf.where(tf.equal(vb_and_mask,vb_and_mask)):\n",
    "#a=np.size(v_m)\n",
    "\n",
    "## la primera vez tensor_actu= tensor original creo esta variable para ir actualizando el tensor con los nuevos valores \n",
    "#generados con la técnica del redeondeo\n",
    "\n",
    "tensor_act=tensor_original "
   ]
  },
  {
   "cell_type": "code",
   "execution_count": 11,
   "id": "ae3dd0b8",
   "metadata": {},
   "outputs": [
    {
     "data": {
      "text/plain": [
       "'0b100101'"
      ]
     },
     "execution_count": 11,
     "metadata": {},
     "output_type": "execute_result"
    }
   ],
   "source": [
    "bin (37)"
   ]
  },
  {
   "cell_type": "code",
   "execution_count": null,
   "id": "2e599285",
   "metadata": {},
   "outputs": [],
   "source": [
    "1000000000100101\n",
    "0000000000100101"
   ]
  },
  {
   "cell_type": "code",
   "execution_count": 14,
   "id": "bcae8568",
   "metadata": {},
   "outputs": [],
   "source": [
    "## depurar para colocar en o donde hay problema en el primer bit y luego que entre al ciclo esto va a ser una función \n",
    "#a:Matriz de True and False donde True son las posiciíones donde vb_and_mask y vm_and_mask son diferentes\n",
    "#por tanto existe un error en la posición más significativa \n",
    "#b:Matriz de True and False donde True  es la posiciíon dende se cumple que (v_m>v_b ) \n",
    "#c: Indice donde la matriz a y b son verdaderas por tanto el error esta dado por un 1 \n",
    "#values_to_change:los valores de v_b en las posiciones c que han se ser enviados a la función ErroraUno para su transformación\n",
    "#val_afec_0_Error_to_change:Valores que corresponden los el error a 0 \n",
    "#val_afec_1_Error_to_change:valores que corresponden con elerror a 1  Creo que ya no son necesarias \n",
    "#index: devuelve el valor de c en una variable numpy\n",
    "#val:devuelve una lista de elementos que corresponden a los indices de valores afectados ==True que serán los indices a transformar\n",
    "#error_a_0: Matriz de True and False donde True  es la posiciíon dende se cumple que (v_b>v_m )\n",
    "#index_values_error_a_0:Indice donde la matriz a y error_a_0 que son verdaderas por tanto el error esta dado por un 0 \n",
    "#val_0=devuelve una lista de elementos que corresponden a los indices de valores afectados ==True que serán los indices a transformar\n",
    "#tensor_act: devuelve el tensor ya transormado con los elementos en las posiciones correspondientes donde se han encontrado los casos analizados\n"
   ]
  },
  {
   "cell_type": "code",
   "execution_count": 24,
   "id": "e7385e91",
   "metadata": {},
   "outputs": [],
   "source": [
    "def ErrorPosicionInicial(v_m,v_b):\n",
    "    b=tf.math.greater(v_m,v_b ) # El error es a 1 y aplico la variante con_error_a_1\n",
    "    print('b Vm>Vb',b)\n",
    "    c=tf.where(tf.logical_and(a,b)==True)\n",
    "    print('c',c)\n",
    "    print('tamaño de c',tf.size(c))\n",
    "    print(' c Indices de los valores a transformar a 0',c)\n",
    "    values_to_change=tf.gather_nd(v_b,c)\n",
    "    print('mask_0 desdes update', mask_0)\n",
    "    index=c.numpy()\n",
    "    print('cnumpy',index)\n",
    "    print('valores_afectados',valores_afectados)\n",
    "    val=tf.gather_nd(tf.where(valores_afectados),index)## tomo los indices del tensor original qu ese cambiaran\n",
    "    print('val',val)\n",
    "    #mask_0=tf.add(mask_0,tf.size(val))\n",
    "    return(val)"
   ]
  },
  {
   "cell_type": "code",
   "execution_count": 25,
   "id": "dd0410ab",
   "metadata": {},
   "outputs": [],
   "source": [
    "def TensorUpdatePosicionInicial(tensor_act,val,valores_afectados,mask_0): \n",
    "    print('Dentro de TensorUpdatePosicionInicial')\n",
    "    tensor_act = tf.tensor_scatter_nd_update(tensor_act, val, tf.convert_to_tensor([0]*np.size(val) ))\n",
    "    valores_afectados=tf.tensor_scatter_nd_update(valores_afectados,val,tf.convert_to_tensor([False]*np.size(val)))\n",
    "    print('valores_afectados dentro de error 0 en primera posición',valores_afectados )\n",
    "    mask_0=tf.add(mask_0,tf.size(val))\n",
    "    print('tensor_act funciion a 0',tensor_act)\n",
    "    print('mask_0',mask_0)\n",
    "    print('valores_afectados',valores_afectados)\n",
    "    print('tensor_with_error',tensor_with_error)\n",
    "    #tensor_with_error_run= tf.gather_nd(tensor_with_error,tf.where(valores_afectados ==True))   \n",
    "    v_b=tf.gather_nd(tensor_act,tf.where(valores_afectados==True))\n",
    "    print('v_b',v_b)\n",
    "    v_m=tf.gather_nd(tensor_with_error,tf.where(valores_afectados==True) )\n",
    "    print('v_m',v_m)\n",
    "    valores_afec_static_0_Error=tf.gather_nd(faults[:,0],tf.where(valores_afectados==True))\n",
    "    print('valores_afec_static_0_Error', valores_afec_static_0_Error)\n",
    "    valores_afec_static_1_Error=tf.gather_nd(faults[:,1],tf.where(valores_afectados==True))\n",
    "    print('valores_afec_static_1_Error', valores_afec_static_0_Error)\n",
    "    return tensor_act,valores_afectados,mask_0,v_b,v_m,valores_afec_static_0_Error,valores_afec_static_1_Error"
   ]
  },
  {
   "cell_type": "code",
   "execution_count": 26,
   "id": "3eddec13",
   "metadata": {},
   "outputs": [],
   "source": [
    "def TensorUpdateCiclo(error,v_b,c,valores_afec_static_0_Error,valores_afec_static_1_Error,mask,tensor_act,valores_afectados,mask_0):       \n",
    "    values_to_change=tf.gather_nd(v_b,c)\n",
    "    val_afec_0_Error_to_change=tf.gather_nd(valores_afec_static_0_Error,c)\n",
    "    print('val_afec_0_Error_to_change',val_afec_0_Error_to_change)\n",
    "    val_afec_1_Error_to_change=tf.gather_nd(valores_afec_static_1_Error,c)\n",
    "    print('val_afec_1_Error_to_change',val_afec_1_Error_to_change)\n",
    "    print('values_to_change',values_to_change)\n",
    "    if error==1:\n",
    "        tensor_round=ErrorAuno(values_to_change,mask,val_afec_0_Error_to_change,val_afec_1_Error_to_change)\n",
    "        print('tensor_round',tensor_round)\n",
    "    if error==0:\n",
    "        tensor_round=ErrorAcero(values_to_change,mask,val_afec_0_Error_to_change,val_afec_1_Error_to_change)\n",
    "        print('tensor_round',tensor_round)\n",
    "    index=c.numpy()\n",
    "    print('indice a camniar tensor act',index)\n",
    "    print('valores_afectados',valores_afectados)\n",
    "    val=tf.gather_nd(tf.where(valores_afectados),index)## tomo los indices del tensor original qu ese cambiaran\n",
    "    print('val',val)\n",
    "    tensor_act = tf.tensor_scatter_nd_update(tensor_act, val, tensor_round )\n",
    "    valores_afectados=tf.tensor_scatter_nd_update(valores_afectados,val,tf.convert_to_tensor([False]*np.size(val)))\n",
    "    mask_0=tf.add(mask_0,tf.size(val))\n",
    "    print('mask_0 desdes update', mask_0)\n",
    "    print('tensor tensor_act',tensor_act)\n",
    "    print('valores_afectados update',valores_afectados) \n",
    "    #del tensor_round\n",
    "    print('tensor_round',tensor_round)\n",
    "    return tensor_act,valores_afectados,mask_0\n",
    "    "
   ]
  },
  {
   "cell_type": "code",
   "execution_count": 12,
   "id": "48272581",
   "metadata": {},
   "outputs": [],
   "source": [
    "## casos para el signo tanto para 0 en la primera posición como q"
   ]
  },
  {
   "cell_type": "code",
   "execution_count": 27,
   "id": "f10c1865",
   "metadata": {},
   "outputs": [
    {
     "name": "stdout",
     "output_type": "stream",
     "text": [
      "estoy calculando a y definiendo xq esta dado el error\n",
      "a vb_and_mask!=vm_and_mask tf.Tensor([ True  True False False False  True], shape=(6,), dtype=bool)\n",
      "mask tf.Tensor(32768, shape=(), dtype=int32)\n",
      "b Vm>Vb tf.Tensor([ True  True  True False  True False], shape=(6,), dtype=bool)\n",
      "c tf.Tensor(\n",
      "[[0]\n",
      " [1]], shape=(2, 1), dtype=int64)\n",
      "tamaño de c tf.Tensor(2, shape=(), dtype=int32)\n",
      " c Indices de los valores a transformar a 0 tf.Tensor(\n",
      "[[0]\n",
      " [1]], shape=(2, 1), dtype=int64)\n",
      "mask_0 desdes update tf.Tensor(0, shape=(), dtype=int32)\n",
      "cnumpy [[0]\n",
      " [1]]\n",
      "valores_afectados tf.Tensor([ True  True  True  True  True  True False False], shape=(8,), dtype=bool)\n",
      "val tf.Tensor(\n",
      "[[0]\n",
      " [1]], shape=(2, 1), dtype=int64)\n",
      "val tf.Tensor(\n",
      "[[0]\n",
      " [1]], shape=(2, 1), dtype=int64)\n",
      "b Vm>Vb tf.Tensor([False False False  True False  True], shape=(6,), dtype=bool)\n",
      "c tf.Tensor([[5]], shape=(1, 1), dtype=int64)\n",
      "tamaño de c tf.Tensor(1, shape=(), dtype=int32)\n",
      " c Indices de los valores a transformar a 0 tf.Tensor([[5]], shape=(1, 1), dtype=int64)\n",
      "mask_0 desdes update tf.Tensor(0, shape=(), dtype=int32)\n",
      "cnumpy [[5]]\n",
      "valores_afectados tf.Tensor([ True  True  True  True  True  True False False], shape=(8,), dtype=bool)\n",
      "val tf.Tensor([[5]], shape=(1, 1), dtype=int64)\n",
      "val_0 tf.Tensor([[5]], shape=(1, 1), dtype=int64)\n",
      "Dentro de TensorUpdatePosicionInicial\n",
      "valores_afectados dentro de error 0 en primera posición tf.Tensor([ True  True  True  True  True False False False], shape=(8,), dtype=bool)\n",
      "tensor_act funciion a 0 tf.Tensor([40167 61311 64511    22    17     0    30    38], shape=(8,), dtype=int32)\n",
      "mask_0 tf.Tensor(1, shape=(), dtype=int32)\n",
      "valores_afectados tf.Tensor([ True  True  True  True  True False False False], shape=(8,), dtype=bool)\n",
      "tensor_with_error tf.Tensor([ 7927 28543 57343    30     4 32805    30    38], shape=(8,), dtype=int32)\n",
      "v_b tf.Tensor([40167 61311 64511    22    17], shape=(5,), dtype=int32)\n",
      "v_m tf.Tensor([ 7927 28543 57343    30     4], shape=(5,), dtype=int32)\n",
      "valores_afec_static_0_Error tf.Tensor([ 7927 28671 57343 65535 65518], shape=(5,), dtype=int32)\n",
      "valores_afec_static_1_Error tf.Tensor([ 7927 28671 57343 65535 65518], shape=(5,), dtype=int32)\n",
      "Dentro de TensorUpdatePosicionInicial\n",
      "valores_afectados dentro de error 0 en primera posición tf.Tensor([False False  True  True  True False False False], shape=(8,), dtype=bool)\n",
      "tensor_act funciion a 0 tf.Tensor([    0     0 64511    22    17     0    30    38], shape=(8,), dtype=int32)\n",
      "mask_0 tf.Tensor(3, shape=(), dtype=int32)\n",
      "valores_afectados tf.Tensor([False False  True  True  True False False False], shape=(8,), dtype=bool)\n",
      "tensor_with_error tf.Tensor([ 7927 28543 57343    30     4 32805    30    38], shape=(8,), dtype=int32)\n",
      "v_b tf.Tensor([64511    22    17], shape=(3,), dtype=int32)\n",
      "v_m tf.Tensor([57343    30     4], shape=(3,), dtype=int32)\n",
      "valores_afec_static_0_Error tf.Tensor([57343 65535 65518], shape=(3,), dtype=int32)\n",
      "valores_afec_static_1_Error tf.Tensor([57343 65535 65518], shape=(3,), dtype=int32)\n",
      "tensor_act tf.Tensor([    0     0 64511    22    17     0    30    38], shape=(8,), dtype=int32)\n",
      "valores_afectados tf.Tensor([False False  True  True  True False False False], shape=(8,), dtype=bool)\n",
      "tensor_with_error tf.Tensor([ 7927 28543 57343    30     4 32805    30    38], shape=(8,), dtype=int32)\n",
      "v_b tf.Tensor([64511    22    17], shape=(3,), dtype=int32)\n",
      "v_m tf.Tensor([57343    30     4], shape=(3,), dtype=int32)\n",
      "valores_afec_static_0_Error tf.Tensor([57343 65535 65518], shape=(3,), dtype=int32)\n",
      "valores_afec_static_1_Error tf.Tensor([1024   12    4], shape=(3,), dtype=int32)\n"
     ]
    }
   ],
   "source": [
    "a=tf.math.not_equal(vb_and_mask,vm_and_mask)\n",
    "print('estoy calculando a y definiendo xq esta dado el error')\n",
    "print('a vb_and_mask!=vm_and_mask',a)\n",
    "print('mask',mask)\n",
    "##++ Hasta aqui es una función que ppuede ser llamada pues se repite \n",
    "val=ErrorPosicionInicial(v_b,v_m)\n",
    "print('val',val)\n",
    "\n",
    "#### agraegado para si se encuentra error a 0 en la posición más significativa  esto \n",
    "val_0=ErrorPosicionInicial(v_m,v_b)\n",
    "print('val_0',val_0)\n",
    "\n",
    "#tf.cond( np.size(val_0)>0:, f1, f2)\n",
    "\n",
    "if np.size(val_0)>0:\n",
    "    tensor_act,valores_afectados,mask_0,v_b,v_m,valores_afec_static_0_Error,valores_afec_static_1_Error=TensorUpdatePosicionInicial(tensor_act,val_0,valores_afectados,mask_0)\n",
    "    \n",
    "## entra a este if cuando hay error a 1 en la posición más significativa    \n",
    "if np.size(val)> 0: \n",
    "    tensor_act,valores_afectados,mask_0,v_b,v_m,valores_afec_static_0_Error,valores_afec_static_1_Error=TensorUpdatePosicionInicial(tensor_act,val,valores_afectados,mask_0)\n",
    "    \n",
    "    \n",
    "print('tensor_act',tensor_act)\n",
    "print('valores_afectados',valores_afectados)\n",
    "print('tensor_with_error',tensor_with_error)\n",
    "print('v_b',v_b)\n",
    "print('v_m',v_m)\n",
    "print('valores_afec_static_0_Error', valores_afec_static_0_Error)\n",
    "print('valores_afec_static_1_Error',valores_afec_static_1_Error)\n",
    "mask=tf.bitwise.right_shift(mask,1)"
   ]
  },
  {
   "cell_type": "code",
   "execution_count": null,
   "id": "4b0d2049",
   "metadata": {},
   "outputs": [],
   "source": [
    "vb 40167,61311,64511\n",
    "error_0: 7927,28671,57343\n",
    "error_1: 528,0,1024\n",
    "0.Antes de entrar al ciclo\n",
    "1001110011100111 vb 40167\n",
    "0001111011110111 vm 7927\n",
    "0001111011110111 error_0 7927\n",
    "0001111011110111 and\n",
    "0000001000010000 error_1 528\n",
    "0001111011110111 7927\n",
    "Prueba\n",
    "mask=32768     \n",
    "n_mask=mask-1   0111111111111111\n",
    "1001110011100111 vb\n",
    "0111111111111111   n_mask\n",
    "1111111111111111 or 65535\n",
    "0001111011110111error_0 7927\n",
    "0001111011110111 and  7927\n",
    "0000001000010000 or error_1\n",
    "0001111011110111 7927\n",
    "\n",
    "\n",
    "1. Antes de entrar al ciclo\n",
    "1110111101111111 vb 61311\n",
    "0110111111111111 error_0 28671\n",
    "0110111101111111 28543\n",
    "0000000000000000 error_1 \n",
    "0110111101111111 28543\n",
    "Prueba\n",
    "mask=32768     \n",
    "n_mask=(mask-1) 0111111111111111\n",
    "1110111101111111 vb\n",
    "0111111111111111 n_mask\n",
    "1111111111111111 or 65535\n",
    "0110111111111111 and error_0 28671\n",
    "0110111111111111\n",
    "0000000000000000 error_1\n",
    "0110111111111111 or  28671 \n",
    "\n",
    "3. iteración i=1\n",
    "1111101111111111 vb 64511\n",
    "1101111111111111 v_m 57343\n",
    "1101111111111111 error_0 57343\n",
    "1101101111111111\n",
    "0000010000000000 error_1 1024\n",
    "1101111111111111 57343\n",
    "\n",
    "Prueba\n",
    "mask=8192 0010000000000000    \n",
    "n_mask=(mask-1)0001111111111111\n",
    "1111101111111111 vb 64511\n",
    "0001111111111111  n_mask\n",
    "1111111111111111 or n_mask\n",
    "1101111111111111 error_0 57343\n",
    "1101111111111111 and\n",
    "0000010000000000 error_1 1024\n",
    "1101111111111111  57343\n",
    "\n",
    "\n",
    "\n",
    "\n",
    "1111101111111111v_b\n",
    "1000000000000000\n",
    "1000000000000000 vb_mask\n",
    "1101111111111111- v_m\n",
    "1000000000000000\n",
    "1000000000000000 vm_mask\n",
    "vb_mask!=vm_mask  false\n",
    "v_m>v_b false\n",
    "\n"
   ]
  },
  {
   "cell_type": "code",
   "execution_count": 34,
   "id": "aad88f6c",
   "metadata": {},
   "outputs": [
    {
     "data": {
      "text/plain": [
       "'0b1111111111111'"
      ]
     },
     "execution_count": 34,
     "metadata": {},
     "output_type": "execute_result"
    }
   ],
   "source": [
    "bin( 8191)"
   ]
  },
  {
   "cell_type": "code",
   "execution_count": 35,
   "id": "3089ff7d",
   "metadata": {},
   "outputs": [
    {
     "data": {
      "text/plain": [
       "57343"
      ]
     },
     "execution_count": 35,
     "metadata": {},
     "output_type": "execute_result"
    }
   ],
   "source": [
    "int('1101111111111111',2)"
   ]
  },
  {
   "cell_type": "markdown",
   "id": "9e0c40c0",
   "metadata": {},
   "source": [
    "## modificarlo porque en el caso donde hay 0 en la posición 1 no lo estaba contemplando"
   ]
  },
  {
   "cell_type": "code",
   "execution_count": null,
   "id": "2c7b41c2",
   "metadata": {},
   "outputs": [],
   "source": [
    "values_to_run_with_error\n",
    "valores_afec_static_0_Error_to_run\n",
    "valores_afec_static_0_Error_to_run\n",
    "values_to_change"
   ]
  },
  {
   "cell_type": "code",
   "execution_count": 28,
   "id": "3fa87092",
   "metadata": {},
   "outputs": [
    {
     "name": "stdout",
     "output_type": "stream",
     "text": [
      "dentro del body\n",
      "i tf.Tensor(0, shape=(), dtype=int32)\n",
      "out que llega al body tf.Tensor(16, shape=(), dtype=int32)\n",
      "tensor_act tf.Tensor([    0     0 64511    22    17     0    30    38], shape=(8,), dtype=int32)\n",
      "tensor_original tf.Tensor([40167 61311 64511    22    17    37    30    38], shape=(8,), dtype=int32)\n",
      "mask tf.Tensor(16384, shape=(), dtype=int32)\n",
      "mask_0 tf.Tensor(3, shape=(), dtype=int32)\n",
      "v_m tf.Tensor([57343    30     4], shape=(3,), dtype=int32)\n",
      "v_b tf.Tensor([64511    22    17], shape=(3,), dtype=int32)\n",
      "tensor_with_error tf.Tensor([ 7927 28543 57343    30     4 32805    30    38], shape=(8,), dtype=int32)\n",
      "entre en condicion mask_0>0\n",
      "valores donde debo correr el mask\n",
      "vb_and_mask tf.Tensor([16384     0     0], shape=(3,), dtype=int32)\n",
      "vm_and_mask tf.Tensor([16384     0     0], shape=(3,), dtype=int32)\n",
      "estoy calculando a y definiendo xq esta dado el error\n",
      "a vb_and_mask!=vm_and_mask tf.Tensor([False False False], shape=(3,), dtype=bool)\n",
      "valores_afec_static_0_Error_to_run tf.Tensor([57343 65535 65518], shape=(3,), dtype=int32)\n",
      "valores_afec_static_1_Error_to_run tf.Tensor([1024   12    4], shape=(3,), dtype=int32)\n",
      "values_to_run tf.Tensor([64511    22    17], shape=(3,), dtype=int32)\n",
      " values_to_run_with_error tf.Tensor([57343    30     4], shape=(3,), dtype=int32)\n",
      "b Vm>Vb tf.Tensor([False  True False], shape=(3,), dtype=bool)\n",
      "tamaño de c tf.Tensor(0, shape=(), dtype=int32)\n",
      " c Indices de los valores a transformar con la variante error a 1 tf.Tensor([], shape=(0, 1), dtype=int64)\n",
      "error_a_0 tf.Tensor([ True False  True], shape=(3,), dtype=bool)\n",
      "index_values_error_a_0 tf.Tensor([], shape=(0, 1), dtype=int64)\n",
      "vb tf.Tensor([64511    22    17], shape=(3,), dtype=int32)\n",
      "dentro del if values to run tf.Tensor([64511    22    17], shape=(3,), dtype=int32)\n",
      "mask tf.Tensor(8192, shape=(), dtype=int32)\n",
      "v_b tf.Tensor([64511    22    17], shape=(3,), dtype=int32)\n",
      "v_m tf.Tensor([57343    30     4], shape=(3,), dtype=int32)\n",
      "valores_afec_static_0_Error tf.Tensor([57343 65535 65518], shape=(3,), dtype=int32)\n",
      "valores_afec_static_1_Error tf.Tensor([1024   12    4], shape=(3,), dtype=int32)\n",
      "i tf.Tensor(0, shape=(), dtype=int32)\n",
      "dentro del body\n",
      "i tf.Tensor(1, shape=(), dtype=int32)\n",
      "out que llega al body tf.Tensor(16, shape=(), dtype=int32)\n",
      "tensor_act tf.Tensor([    0     0 64511    22    17     0    30    38], shape=(8,), dtype=int32)\n",
      "tensor_original tf.Tensor([40167 61311 64511    22    17    37    30    38], shape=(8,), dtype=int32)\n",
      "mask tf.Tensor(8192, shape=(), dtype=int32)\n",
      "mask_0 tf.Tensor(3, shape=(), dtype=int32)\n",
      "v_m tf.Tensor([57343    30     4], shape=(3,), dtype=int32)\n",
      "v_b tf.Tensor([64511    22    17], shape=(3,), dtype=int32)\n",
      "tensor_with_error tf.Tensor([ 7927 28543 57343    30     4 32805    30    38], shape=(8,), dtype=int32)\n",
      "entre en condicion mask_0>0\n",
      "valores donde debo correr el mask\n",
      "vb_and_mask tf.Tensor([8192    0    0], shape=(3,), dtype=int32)\n",
      "vm_and_mask tf.Tensor([0 0 0], shape=(3,), dtype=int32)\n",
      "estoy calculando a y definiendo xq esta dado el error\n",
      "a vb_and_mask!=vm_and_mask tf.Tensor([ True False False], shape=(3,), dtype=bool)\n",
      "valores_afec_static_0_Error_to_run tf.Tensor([65535 65518], shape=(2,), dtype=int32)\n",
      "valores_afec_static_1_Error_to_run tf.Tensor([12  4], shape=(2,), dtype=int32)\n",
      "values_to_run tf.Tensor([22 17], shape=(2,), dtype=int32)\n",
      " values_to_run_with_error tf.Tensor([30  4], shape=(2,), dtype=int32)\n",
      "b Vm>Vb tf.Tensor([False  True False], shape=(3,), dtype=bool)\n",
      "tamaño de c tf.Tensor(0, shape=(), dtype=int32)\n",
      " c Indices de los valores a transformar con la variante error a 1 tf.Tensor([], shape=(0, 1), dtype=int64)\n",
      "error_a_0 tf.Tensor([ True False  True], shape=(3,), dtype=bool)\n",
      "index_values_error_a_0 tf.Tensor([[0]], shape=(1, 1), dtype=int64)\n",
      "vb tf.Tensor([64511    22    17], shape=(3,), dtype=int32)\n",
      "dentro detf.size(error_a_0)>0 \n",
      "val_afec_0_Error_to_change tf.Tensor([57343], shape=(1,), dtype=int32)\n",
      "val_afec_1_Error_to_change tf.Tensor([1024], shape=(1,), dtype=int32)\n",
      "values_to_change tf.Tensor([64511], shape=(1,), dtype=int32)\n",
      "values_to_change dentro de funcion ErrorAcero tf.Tensor([64511], shape=(1,), dtype=int32)\n",
      "static_0_Error_change tf.Tensor([57343], shape=(1,), dtype=int32)\n",
      "static_1_Error_change tf.Tensor([1024], shape=(1,), dtype=int32)\n",
      "values_to_change dentro de funcion erro_0 tf.Tensor([64511], shape=(1,), dtype=int32)\n",
      "mask tf.Tensor(8192, shape=(), dtype=int32)\n",
      "n_mask tf.Tensor(8191, shape=(), dtype=int32)\n",
      "n_v_b_m tf.Tensor([65535], shape=(1,), dtype=int32)\n",
      "tensor_round tf.Tensor([65535], shape=(1,), dtype=int32)\n",
      "tensor_round tf.Tensor([65535], shape=(1,), dtype=int32)\n",
      "indice a camniar tensor act [[0]]\n",
      "valores_afectados tf.Tensor([False False  True  True  True False False False], shape=(8,), dtype=bool)\n",
      "val tf.Tensor([[2]], shape=(1, 1), dtype=int64)\n",
      "mask_0 desdes update tf.Tensor(4, shape=(), dtype=int32)\n",
      "tensor tensor_act tf.Tensor([    0     0 65535    22    17     0    30    38], shape=(8,), dtype=int32)\n",
      "valores_afectados update tf.Tensor([False False False  True  True False False False], shape=(8,), dtype=bool)\n",
      "tensor_round tf.Tensor([65535], shape=(1,), dtype=int32)\n",
      "\n",
      "tensor tensor_act tf.Tensor([    0     0 65535    22    17     0    30    38], shape=(8,), dtype=int32)\n",
      "valores_afectados update tf.Tensor([False False False  True  True False False False], shape=(8,), dtype=bool)\n",
      "mask_0 desdes update tf.Tensor(4, shape=(), dtype=int32)\n",
      "dentro del if values to run tf.Tensor([22 17], shape=(2,), dtype=int32)\n",
      "mask tf.Tensor(4096, shape=(), dtype=int32)\n",
      "v_b tf.Tensor([22 17], shape=(2,), dtype=int32)\n",
      "v_m tf.Tensor([30  4], shape=(2,), dtype=int32)\n",
      "valores_afec_static_0_Error tf.Tensor([65535 65518], shape=(2,), dtype=int32)\n",
      "valores_afec_static_1_Error tf.Tensor([12  4], shape=(2,), dtype=int32)\n",
      "i tf.Tensor(1, shape=(), dtype=int32)\n",
      "dentro del body\n",
      "i tf.Tensor(2, shape=(), dtype=int32)\n",
      "out que llega al body tf.Tensor(16, shape=(), dtype=int32)\n",
      "tensor_act tf.Tensor([    0     0 65535    22    17     0    30    38], shape=(8,), dtype=int32)\n",
      "tensor_original tf.Tensor([40167 61311 64511    22    17    37    30    38], shape=(8,), dtype=int32)\n",
      "mask tf.Tensor(4096, shape=(), dtype=int32)\n",
      "mask_0 tf.Tensor(4, shape=(), dtype=int32)\n",
      "v_m tf.Tensor([30  4], shape=(2,), dtype=int32)\n",
      "v_b tf.Tensor([22 17], shape=(2,), dtype=int32)\n",
      "tensor_with_error tf.Tensor([ 7927 28543 57343    30     4 32805    30    38], shape=(8,), dtype=int32)\n",
      "entre en condicion mask_0>0\n",
      "valores donde debo correr el mask\n",
      "vb_and_mask tf.Tensor([0 0], shape=(2,), dtype=int32)\n",
      "vm_and_mask tf.Tensor([0 0], shape=(2,), dtype=int32)\n",
      "estoy calculando a y definiendo xq esta dado el error\n",
      "a vb_and_mask!=vm_and_mask tf.Tensor([False False], shape=(2,), dtype=bool)\n",
      "valores_afec_static_0_Error_to_run tf.Tensor([65535 65518], shape=(2,), dtype=int32)\n",
      "valores_afec_static_1_Error_to_run tf.Tensor([12  4], shape=(2,), dtype=int32)\n",
      "values_to_run tf.Tensor([22 17], shape=(2,), dtype=int32)\n",
      " values_to_run_with_error tf.Tensor([30  4], shape=(2,), dtype=int32)\n",
      "b Vm>Vb tf.Tensor([ True False], shape=(2,), dtype=bool)\n",
      "tamaño de c tf.Tensor(0, shape=(), dtype=int32)\n",
      " c Indices de los valores a transformar con la variante error a 1 tf.Tensor([], shape=(0, 1), dtype=int64)\n",
      "error_a_0 tf.Tensor([False  True], shape=(2,), dtype=bool)\n",
      "index_values_error_a_0 tf.Tensor([], shape=(0, 1), dtype=int64)\n",
      "vb tf.Tensor([22 17], shape=(2,), dtype=int32)\n",
      "dentro del if values to run tf.Tensor([22 17], shape=(2,), dtype=int32)\n",
      "mask tf.Tensor(2048, shape=(), dtype=int32)\n",
      "v_b tf.Tensor([22 17], shape=(2,), dtype=int32)\n",
      "v_m tf.Tensor([30  4], shape=(2,), dtype=int32)\n",
      "valores_afec_static_0_Error tf.Tensor([65535 65518], shape=(2,), dtype=int32)\n",
      "valores_afec_static_1_Error tf.Tensor([12  4], shape=(2,), dtype=int32)\n",
      "i tf.Tensor(2, shape=(), dtype=int32)\n",
      "dentro del body\n",
      "i tf.Tensor(3, shape=(), dtype=int32)\n",
      "out que llega al body tf.Tensor(16, shape=(), dtype=int32)\n",
      "tensor_act tf.Tensor([    0     0 65535    22    17     0    30    38], shape=(8,), dtype=int32)\n",
      "tensor_original tf.Tensor([40167 61311 64511    22    17    37    30    38], shape=(8,), dtype=int32)\n",
      "mask tf.Tensor(2048, shape=(), dtype=int32)\n",
      "mask_0 tf.Tensor(4, shape=(), dtype=int32)\n",
      "v_m tf.Tensor([30  4], shape=(2,), dtype=int32)\n",
      "v_b tf.Tensor([22 17], shape=(2,), dtype=int32)\n",
      "tensor_with_error tf.Tensor([ 7927 28543 57343    30     4 32805    30    38], shape=(8,), dtype=int32)\n",
      "entre en condicion mask_0>0\n",
      "valores donde debo correr el mask\n",
      "vb_and_mask tf.Tensor([0 0], shape=(2,), dtype=int32)\n",
      "vm_and_mask tf.Tensor([0 0], shape=(2,), dtype=int32)\n",
      "estoy calculando a y definiendo xq esta dado el error\n",
      "a vb_and_mask!=vm_and_mask tf.Tensor([False False], shape=(2,), dtype=bool)\n",
      "valores_afec_static_0_Error_to_run tf.Tensor([65535 65518], shape=(2,), dtype=int32)\n",
      "valores_afec_static_1_Error_to_run tf.Tensor([12  4], shape=(2,), dtype=int32)\n",
      "values_to_run tf.Tensor([22 17], shape=(2,), dtype=int32)\n",
      " values_to_run_with_error tf.Tensor([30  4], shape=(2,), dtype=int32)\n",
      "b Vm>Vb tf.Tensor([ True False], shape=(2,), dtype=bool)\n",
      "tamaño de c tf.Tensor(0, shape=(), dtype=int32)\n",
      " c Indices de los valores a transformar con la variante error a 1 tf.Tensor([], shape=(0, 1), dtype=int64)\n",
      "error_a_0 tf.Tensor([False  True], shape=(2,), dtype=bool)\n",
      "index_values_error_a_0 tf.Tensor([], shape=(0, 1), dtype=int64)\n",
      "vb tf.Tensor([22 17], shape=(2,), dtype=int32)\n",
      "dentro del if values to run tf.Tensor([22 17], shape=(2,), dtype=int32)\n",
      "mask tf.Tensor(1024, shape=(), dtype=int32)\n",
      "v_b tf.Tensor([22 17], shape=(2,), dtype=int32)\n",
      "v_m tf.Tensor([30  4], shape=(2,), dtype=int32)\n",
      "valores_afec_static_0_Error tf.Tensor([65535 65518], shape=(2,), dtype=int32)\n",
      "valores_afec_static_1_Error tf.Tensor([12  4], shape=(2,), dtype=int32)\n",
      "i tf.Tensor(3, shape=(), dtype=int32)\n",
      "dentro del body\n",
      "i tf.Tensor(4, shape=(), dtype=int32)\n",
      "out que llega al body tf.Tensor(16, shape=(), dtype=int32)\n",
      "tensor_act tf.Tensor([    0     0 65535    22    17     0    30    38], shape=(8,), dtype=int32)\n",
      "tensor_original tf.Tensor([40167 61311 64511    22    17    37    30    38], shape=(8,), dtype=int32)\n",
      "mask tf.Tensor(1024, shape=(), dtype=int32)\n",
      "mask_0 tf.Tensor(4, shape=(), dtype=int32)\n",
      "v_m tf.Tensor([30  4], shape=(2,), dtype=int32)\n",
      "v_b tf.Tensor([22 17], shape=(2,), dtype=int32)\n",
      "tensor_with_error tf.Tensor([ 7927 28543 57343    30     4 32805    30    38], shape=(8,), dtype=int32)\n",
      "entre en condicion mask_0>0\n",
      "valores donde debo correr el mask\n",
      "vb_and_mask tf.Tensor([0 0], shape=(2,), dtype=int32)\n",
      "vm_and_mask tf.Tensor([0 0], shape=(2,), dtype=int32)\n",
      "estoy calculando a y definiendo xq esta dado el error\n",
      "a vb_and_mask!=vm_and_mask tf.Tensor([False False], shape=(2,), dtype=bool)\n",
      "valores_afec_static_0_Error_to_run tf.Tensor([65535 65518], shape=(2,), dtype=int32)\n",
      "valores_afec_static_1_Error_to_run tf.Tensor([12  4], shape=(2,), dtype=int32)\n",
      "values_to_run tf.Tensor([22 17], shape=(2,), dtype=int32)\n",
      " values_to_run_with_error tf.Tensor([30  4], shape=(2,), dtype=int32)\n",
      "b Vm>Vb tf.Tensor([ True False], shape=(2,), dtype=bool)\n",
      "tamaño de c tf.Tensor(0, shape=(), dtype=int32)\n",
      " c Indices de los valores a transformar con la variante error a 1 tf.Tensor([], shape=(0, 1), dtype=int64)\n",
      "error_a_0 tf.Tensor([False  True], shape=(2,), dtype=bool)\n",
      "index_values_error_a_0 tf.Tensor([], shape=(0, 1), dtype=int64)\n",
      "vb tf.Tensor([22 17], shape=(2,), dtype=int32)\n",
      "dentro del if values to run tf.Tensor([22 17], shape=(2,), dtype=int32)\n",
      "mask tf.Tensor(512, shape=(), dtype=int32)\n",
      "v_b tf.Tensor([22 17], shape=(2,), dtype=int32)\n",
      "v_m tf.Tensor([30  4], shape=(2,), dtype=int32)\n",
      "valores_afec_static_0_Error tf.Tensor([65535 65518], shape=(2,), dtype=int32)\n",
      "valores_afec_static_1_Error tf.Tensor([12  4], shape=(2,), dtype=int32)\n",
      "i tf.Tensor(4, shape=(), dtype=int32)\n",
      "dentro del body\n",
      "i tf.Tensor(5, shape=(), dtype=int32)\n",
      "out que llega al body tf.Tensor(16, shape=(), dtype=int32)\n",
      "tensor_act tf.Tensor([    0     0 65535    22    17     0    30    38], shape=(8,), dtype=int32)\n",
      "tensor_original tf.Tensor([40167 61311 64511    22    17    37    30    38], shape=(8,), dtype=int32)\n",
      "mask tf.Tensor(512, shape=(), dtype=int32)\n",
      "mask_0 tf.Tensor(4, shape=(), dtype=int32)\n",
      "v_m tf.Tensor([30  4], shape=(2,), dtype=int32)\n",
      "v_b tf.Tensor([22 17], shape=(2,), dtype=int32)\n",
      "tensor_with_error tf.Tensor([ 7927 28543 57343    30     4 32805    30    38], shape=(8,), dtype=int32)\n",
      "entre en condicion mask_0>0\n",
      "valores donde debo correr el mask\n",
      "vb_and_mask tf.Tensor([0 0], shape=(2,), dtype=int32)\n",
      "vm_and_mask tf.Tensor([0 0], shape=(2,), dtype=int32)\n",
      "estoy calculando a y definiendo xq esta dado el error\n",
      "a vb_and_mask!=vm_and_mask tf.Tensor([False False], shape=(2,), dtype=bool)\n",
      "valores_afec_static_0_Error_to_run tf.Tensor([65535 65518], shape=(2,), dtype=int32)\n",
      "valores_afec_static_1_Error_to_run tf.Tensor([12  4], shape=(2,), dtype=int32)\n",
      "values_to_run tf.Tensor([22 17], shape=(2,), dtype=int32)\n",
      " values_to_run_with_error tf.Tensor([30  4], shape=(2,), dtype=int32)\n",
      "b Vm>Vb tf.Tensor([ True False], shape=(2,), dtype=bool)\n",
      "tamaño de c tf.Tensor(0, shape=(), dtype=int32)\n",
      " c Indices de los valores a transformar con la variante error a 1 tf.Tensor([], shape=(0, 1), dtype=int64)\n",
      "error_a_0 tf.Tensor([False  True], shape=(2,), dtype=bool)\n",
      "index_values_error_a_0 tf.Tensor([], shape=(0, 1), dtype=int64)\n",
      "vb tf.Tensor([22 17], shape=(2,), dtype=int32)\n",
      "dentro del if values to run tf.Tensor([22 17], shape=(2,), dtype=int32)\n",
      "mask tf.Tensor(256, shape=(), dtype=int32)\n",
      "v_b tf.Tensor([22 17], shape=(2,), dtype=int32)\n",
      "v_m tf.Tensor([30  4], shape=(2,), dtype=int32)\n",
      "valores_afec_static_0_Error tf.Tensor([65535 65518], shape=(2,), dtype=int32)\n",
      "valores_afec_static_1_Error tf.Tensor([12  4], shape=(2,), dtype=int32)\n",
      "i tf.Tensor(5, shape=(), dtype=int32)\n",
      "dentro del body\n",
      "i tf.Tensor(6, shape=(), dtype=int32)\n",
      "out que llega al body tf.Tensor(16, shape=(), dtype=int32)\n",
      "tensor_act tf.Tensor([    0     0 65535    22    17     0    30    38], shape=(8,), dtype=int32)\n",
      "tensor_original tf.Tensor([40167 61311 64511    22    17    37    30    38], shape=(8,), dtype=int32)\n",
      "mask tf.Tensor(256, shape=(), dtype=int32)\n",
      "mask_0 tf.Tensor(4, shape=(), dtype=int32)\n",
      "v_m tf.Tensor([30  4], shape=(2,), dtype=int32)\n",
      "v_b tf.Tensor([22 17], shape=(2,), dtype=int32)\n",
      "tensor_with_error tf.Tensor([ 7927 28543 57343    30     4 32805    30    38], shape=(8,), dtype=int32)\n",
      "entre en condicion mask_0>0\n",
      "valores donde debo correr el mask\n",
      "vb_and_mask tf.Tensor([0 0], shape=(2,), dtype=int32)\n",
      "vm_and_mask tf.Tensor([0 0], shape=(2,), dtype=int32)\n",
      "estoy calculando a y definiendo xq esta dado el error\n",
      "a vb_and_mask!=vm_and_mask tf.Tensor([False False], shape=(2,), dtype=bool)\n",
      "valores_afec_static_0_Error_to_run tf.Tensor([65535 65518], shape=(2,), dtype=int32)\n",
      "valores_afec_static_1_Error_to_run tf.Tensor([12  4], shape=(2,), dtype=int32)\n",
      "values_to_run tf.Tensor([22 17], shape=(2,), dtype=int32)\n",
      " values_to_run_with_error tf.Tensor([30  4], shape=(2,), dtype=int32)\n",
      "b Vm>Vb tf.Tensor([ True False], shape=(2,), dtype=bool)\n",
      "tamaño de c tf.Tensor(0, shape=(), dtype=int32)\n",
      " c Indices de los valores a transformar con la variante error a 1 tf.Tensor([], shape=(0, 1), dtype=int64)\n",
      "error_a_0 tf.Tensor([False  True], shape=(2,), dtype=bool)\n",
      "index_values_error_a_0 tf.Tensor([], shape=(0, 1), dtype=int64)\n",
      "vb tf.Tensor([22 17], shape=(2,), dtype=int32)\n",
      "dentro del if values to run tf.Tensor([22 17], shape=(2,), dtype=int32)\n",
      "mask tf.Tensor(128, shape=(), dtype=int32)\n",
      "v_b tf.Tensor([22 17], shape=(2,), dtype=int32)\n",
      "v_m tf.Tensor([30  4], shape=(2,), dtype=int32)\n",
      "valores_afec_static_0_Error tf.Tensor([65535 65518], shape=(2,), dtype=int32)\n",
      "valores_afec_static_1_Error tf.Tensor([12  4], shape=(2,), dtype=int32)\n",
      "i tf.Tensor(6, shape=(), dtype=int32)\n",
      "dentro del body\n",
      "i tf.Tensor(7, shape=(), dtype=int32)\n",
      "out que llega al body tf.Tensor(16, shape=(), dtype=int32)\n",
      "tensor_act tf.Tensor([    0     0 65535    22    17     0    30    38], shape=(8,), dtype=int32)\n",
      "tensor_original tf.Tensor([40167 61311 64511    22    17    37    30    38], shape=(8,), dtype=int32)\n",
      "mask tf.Tensor(128, shape=(), dtype=int32)\n",
      "mask_0 tf.Tensor(4, shape=(), dtype=int32)\n",
      "v_m tf.Tensor([30  4], shape=(2,), dtype=int32)\n",
      "v_b tf.Tensor([22 17], shape=(2,), dtype=int32)\n",
      "tensor_with_error tf.Tensor([ 7927 28543 57343    30     4 32805    30    38], shape=(8,), dtype=int32)\n",
      "entre en condicion mask_0>0\n",
      "valores donde debo correr el mask\n",
      "vb_and_mask tf.Tensor([0 0], shape=(2,), dtype=int32)\n",
      "vm_and_mask tf.Tensor([0 0], shape=(2,), dtype=int32)\n",
      "estoy calculando a y definiendo xq esta dado el error\n",
      "a vb_and_mask!=vm_and_mask tf.Tensor([False False], shape=(2,), dtype=bool)\n",
      "valores_afec_static_0_Error_to_run tf.Tensor([65535 65518], shape=(2,), dtype=int32)\n",
      "valores_afec_static_1_Error_to_run tf.Tensor([12  4], shape=(2,), dtype=int32)\n",
      "values_to_run tf.Tensor([22 17], shape=(2,), dtype=int32)\n",
      " values_to_run_with_error tf.Tensor([30  4], shape=(2,), dtype=int32)\n",
      "b Vm>Vb tf.Tensor([ True False], shape=(2,), dtype=bool)\n",
      "tamaño de c tf.Tensor(0, shape=(), dtype=int32)\n",
      " c Indices de los valores a transformar con la variante error a 1 tf.Tensor([], shape=(0, 1), dtype=int64)\n",
      "error_a_0 tf.Tensor([False  True], shape=(2,), dtype=bool)\n",
      "index_values_error_a_0 tf.Tensor([], shape=(0, 1), dtype=int64)\n",
      "vb tf.Tensor([22 17], shape=(2,), dtype=int32)\n",
      "dentro del if values to run tf.Tensor([22 17], shape=(2,), dtype=int32)\n",
      "mask tf.Tensor(64, shape=(), dtype=int32)\n",
      "v_b tf.Tensor([22 17], shape=(2,), dtype=int32)\n",
      "v_m tf.Tensor([30  4], shape=(2,), dtype=int32)\n",
      "valores_afec_static_0_Error tf.Tensor([65535 65518], shape=(2,), dtype=int32)\n",
      "valores_afec_static_1_Error tf.Tensor([12  4], shape=(2,), dtype=int32)\n",
      "i tf.Tensor(7, shape=(), dtype=int32)\n",
      "dentro del body\n",
      "i tf.Tensor(8, shape=(), dtype=int32)\n",
      "out que llega al body tf.Tensor(16, shape=(), dtype=int32)\n",
      "tensor_act tf.Tensor([    0     0 65535    22    17     0    30    38], shape=(8,), dtype=int32)\n",
      "tensor_original tf.Tensor([40167 61311 64511    22    17    37    30    38], shape=(8,), dtype=int32)\n",
      "mask tf.Tensor(64, shape=(), dtype=int32)\n",
      "mask_0 tf.Tensor(4, shape=(), dtype=int32)\n",
      "v_m tf.Tensor([30  4], shape=(2,), dtype=int32)\n",
      "v_b tf.Tensor([22 17], shape=(2,), dtype=int32)\n",
      "tensor_with_error tf.Tensor([ 7927 28543 57343    30     4 32805    30    38], shape=(8,), dtype=int32)\n",
      "entre en condicion mask_0>0\n",
      "valores donde debo correr el mask\n",
      "vb_and_mask tf.Tensor([0 0], shape=(2,), dtype=int32)\n",
      "vm_and_mask tf.Tensor([0 0], shape=(2,), dtype=int32)\n",
      "estoy calculando a y definiendo xq esta dado el error\n",
      "a vb_and_mask!=vm_and_mask tf.Tensor([False False], shape=(2,), dtype=bool)\n",
      "valores_afec_static_0_Error_to_run tf.Tensor([65535 65518], shape=(2,), dtype=int32)\n",
      "valores_afec_static_1_Error_to_run tf.Tensor([12  4], shape=(2,), dtype=int32)\n",
      "values_to_run tf.Tensor([22 17], shape=(2,), dtype=int32)\n",
      " values_to_run_with_error tf.Tensor([30  4], shape=(2,), dtype=int32)\n",
      "b Vm>Vb tf.Tensor([ True False], shape=(2,), dtype=bool)\n",
      "tamaño de c tf.Tensor(0, shape=(), dtype=int32)\n",
      " c Indices de los valores a transformar con la variante error a 1 tf.Tensor([], shape=(0, 1), dtype=int64)\n",
      "error_a_0 tf.Tensor([False  True], shape=(2,), dtype=bool)\n",
      "index_values_error_a_0 tf.Tensor([], shape=(0, 1), dtype=int64)\n",
      "vb tf.Tensor([22 17], shape=(2,), dtype=int32)\n",
      "dentro del if values to run tf.Tensor([22 17], shape=(2,), dtype=int32)\n",
      "mask tf.Tensor(32, shape=(), dtype=int32)\n",
      "v_b tf.Tensor([22 17], shape=(2,), dtype=int32)\n",
      "v_m tf.Tensor([30  4], shape=(2,), dtype=int32)\n",
      "valores_afec_static_0_Error tf.Tensor([65535 65518], shape=(2,), dtype=int32)\n",
      "valores_afec_static_1_Error tf.Tensor([12  4], shape=(2,), dtype=int32)\n",
      "i tf.Tensor(8, shape=(), dtype=int32)\n",
      "dentro del body\n",
      "i tf.Tensor(9, shape=(), dtype=int32)\n",
      "out que llega al body tf.Tensor(16, shape=(), dtype=int32)\n",
      "tensor_act tf.Tensor([    0     0 65535    22    17     0    30    38], shape=(8,), dtype=int32)\n",
      "tensor_original tf.Tensor([40167 61311 64511    22    17    37    30    38], shape=(8,), dtype=int32)\n",
      "mask tf.Tensor(32, shape=(), dtype=int32)\n",
      "mask_0 tf.Tensor(4, shape=(), dtype=int32)\n",
      "v_m tf.Tensor([30  4], shape=(2,), dtype=int32)\n",
      "v_b tf.Tensor([22 17], shape=(2,), dtype=int32)\n",
      "tensor_with_error tf.Tensor([ 7927 28543 57343    30     4 32805    30    38], shape=(8,), dtype=int32)\n",
      "entre en condicion mask_0>0\n",
      "valores donde debo correr el mask\n",
      "vb_and_mask tf.Tensor([0 0], shape=(2,), dtype=int32)\n",
      "vm_and_mask tf.Tensor([0 0], shape=(2,), dtype=int32)\n",
      "estoy calculando a y definiendo xq esta dado el error\n",
      "a vb_and_mask!=vm_and_mask tf.Tensor([False False], shape=(2,), dtype=bool)\n",
      "valores_afec_static_0_Error_to_run tf.Tensor([65535 65518], shape=(2,), dtype=int32)\n",
      "valores_afec_static_1_Error_to_run tf.Tensor([12  4], shape=(2,), dtype=int32)\n",
      "values_to_run tf.Tensor([22 17], shape=(2,), dtype=int32)\n",
      " values_to_run_with_error tf.Tensor([30  4], shape=(2,), dtype=int32)\n",
      "b Vm>Vb tf.Tensor([ True False], shape=(2,), dtype=bool)\n",
      "tamaño de c tf.Tensor(0, shape=(), dtype=int32)\n",
      " c Indices de los valores a transformar con la variante error a 1 tf.Tensor([], shape=(0, 1), dtype=int64)\n",
      "error_a_0 tf.Tensor([False  True], shape=(2,), dtype=bool)\n",
      "index_values_error_a_0 tf.Tensor([], shape=(0, 1), dtype=int64)\n",
      "vb tf.Tensor([22 17], shape=(2,), dtype=int32)\n",
      "dentro del if values to run tf.Tensor([22 17], shape=(2,), dtype=int32)\n",
      "mask tf.Tensor(16, shape=(), dtype=int32)\n",
      "v_b tf.Tensor([22 17], shape=(2,), dtype=int32)\n",
      "v_m tf.Tensor([30  4], shape=(2,), dtype=int32)\n",
      "valores_afec_static_0_Error tf.Tensor([65535 65518], shape=(2,), dtype=int32)\n",
      "valores_afec_static_1_Error tf.Tensor([12  4], shape=(2,), dtype=int32)\n",
      "i tf.Tensor(9, shape=(), dtype=int32)\n",
      "dentro del body\n",
      "i tf.Tensor(10, shape=(), dtype=int32)\n",
      "out que llega al body tf.Tensor(16, shape=(), dtype=int32)\n",
      "tensor_act tf.Tensor([    0     0 65535    22    17     0    30    38], shape=(8,), dtype=int32)\n",
      "tensor_original tf.Tensor([40167 61311 64511    22    17    37    30    38], shape=(8,), dtype=int32)\n",
      "mask tf.Tensor(16, shape=(), dtype=int32)\n",
      "mask_0 tf.Tensor(4, shape=(), dtype=int32)\n",
      "v_m tf.Tensor([30  4], shape=(2,), dtype=int32)\n",
      "v_b tf.Tensor([22 17], shape=(2,), dtype=int32)\n",
      "tensor_with_error tf.Tensor([ 7927 28543 57343    30     4 32805    30    38], shape=(8,), dtype=int32)\n",
      "entre en condicion mask_0>0\n",
      "valores donde debo correr el mask\n",
      "vb_and_mask tf.Tensor([16 16], shape=(2,), dtype=int32)\n",
      "vm_and_mask tf.Tensor([16  0], shape=(2,), dtype=int32)\n",
      "estoy calculando a y definiendo xq esta dado el error\n",
      "a vb_and_mask!=vm_and_mask tf.Tensor([False  True], shape=(2,), dtype=bool)\n",
      "valores_afec_static_0_Error_to_run tf.Tensor([65535], shape=(1,), dtype=int32)\n",
      "valores_afec_static_1_Error_to_run tf.Tensor([12], shape=(1,), dtype=int32)\n",
      "values_to_run tf.Tensor([22], shape=(1,), dtype=int32)\n",
      " values_to_run_with_error tf.Tensor([30], shape=(1,), dtype=int32)\n",
      "b Vm>Vb tf.Tensor([ True False], shape=(2,), dtype=bool)\n",
      "tamaño de c tf.Tensor(0, shape=(), dtype=int32)\n",
      " c Indices de los valores a transformar con la variante error a 1 tf.Tensor([], shape=(0, 1), dtype=int64)\n",
      "error_a_0 tf.Tensor([False  True], shape=(2,), dtype=bool)\n",
      "index_values_error_a_0 tf.Tensor([[1]], shape=(1, 1), dtype=int64)\n",
      "vb tf.Tensor([22 17], shape=(2,), dtype=int32)\n",
      "dentro detf.size(error_a_0)>0 \n",
      "val_afec_0_Error_to_change tf.Tensor([65518], shape=(1,), dtype=int32)\n",
      "val_afec_1_Error_to_change tf.Tensor([4], shape=(1,), dtype=int32)\n",
      "values_to_change tf.Tensor([17], shape=(1,), dtype=int32)\n",
      "values_to_change dentro de funcion ErrorAcero tf.Tensor([17], shape=(1,), dtype=int32)\n",
      "static_0_Error_change tf.Tensor([65518], shape=(1,), dtype=int32)\n",
      "static_1_Error_change tf.Tensor([4], shape=(1,), dtype=int32)\n",
      "values_to_change dentro de funcion erro_0 tf.Tensor([17], shape=(1,), dtype=int32)\n",
      "mask tf.Tensor(16, shape=(), dtype=int32)\n",
      "n_mask tf.Tensor(15, shape=(), dtype=int32)\n",
      "n_v_b_m tf.Tensor([31], shape=(1,), dtype=int32)\n",
      "tensor_round tf.Tensor([31], shape=(1,), dtype=int32)\n",
      "tensor_round tf.Tensor([31], shape=(1,), dtype=int32)\n",
      "indice a camniar tensor act [[1]]\n",
      "valores_afectados tf.Tensor([False False False  True  True False False False], shape=(8,), dtype=bool)\n",
      "val tf.Tensor([[4]], shape=(1, 1), dtype=int64)\n",
      "mask_0 desdes update tf.Tensor(5, shape=(), dtype=int32)\n",
      "tensor tensor_act tf.Tensor([    0     0 65535    22    31     0    30    38], shape=(8,), dtype=int32)\n",
      "valores_afectados update tf.Tensor([False False False  True False False False False], shape=(8,), dtype=bool)\n",
      "tensor_round tf.Tensor([31], shape=(1,), dtype=int32)\n",
      "\n",
      "tensor tensor_act tf.Tensor([    0     0 65535    22    31     0    30    38], shape=(8,), dtype=int32)\n",
      "valores_afectados update tf.Tensor([False False False  True False False False False], shape=(8,), dtype=bool)\n",
      "mask_0 desdes update tf.Tensor(5, shape=(), dtype=int32)\n",
      "dentro del if values to run tf.Tensor([22], shape=(1,), dtype=int32)\n",
      "mask tf.Tensor(8, shape=(), dtype=int32)\n",
      "v_b tf.Tensor([22], shape=(1,), dtype=int32)\n",
      "v_m tf.Tensor([30], shape=(1,), dtype=int32)\n",
      "valores_afec_static_0_Error tf.Tensor([65535], shape=(1,), dtype=int32)\n",
      "valores_afec_static_1_Error tf.Tensor([12], shape=(1,), dtype=int32)\n",
      "i tf.Tensor(10, shape=(), dtype=int32)\n",
      "dentro del body\n",
      "i tf.Tensor(11, shape=(), dtype=int32)\n",
      "out que llega al body tf.Tensor(16, shape=(), dtype=int32)\n",
      "tensor_act tf.Tensor([    0     0 65535    22    31     0    30    38], shape=(8,), dtype=int32)\n",
      "tensor_original tf.Tensor([40167 61311 64511    22    17    37    30    38], shape=(8,), dtype=int32)\n",
      "mask tf.Tensor(8, shape=(), dtype=int32)\n",
      "mask_0 tf.Tensor(5, shape=(), dtype=int32)\n",
      "v_m tf.Tensor([30], shape=(1,), dtype=int32)\n",
      "v_b tf.Tensor([22], shape=(1,), dtype=int32)\n",
      "tensor_with_error tf.Tensor([ 7927 28543 57343    30     4 32805    30    38], shape=(8,), dtype=int32)\n",
      "entre en condicion mask_0>0\n",
      "valores donde debo correr el mask\n",
      "vb_and_mask tf.Tensor([0], shape=(1,), dtype=int32)\n",
      "vm_and_mask tf.Tensor([8], shape=(1,), dtype=int32)\n",
      "estoy calculando a y definiendo xq esta dado el error\n",
      "a vb_and_mask!=vm_and_mask tf.Tensor([ True], shape=(1,), dtype=bool)\n",
      "valores_afec_static_0_Error_to_run tf.Tensor([], shape=(0,), dtype=int32)\n",
      "valores_afec_static_1_Error_to_run tf.Tensor([], shape=(0,), dtype=int32)\n",
      "values_to_run tf.Tensor([], shape=(0,), dtype=int32)\n",
      " values_to_run_with_error tf.Tensor([], shape=(0,), dtype=int32)\n",
      "b Vm>Vb tf.Tensor([ True], shape=(1,), dtype=bool)\n",
      "tamaño de c tf.Tensor(1, shape=(), dtype=int32)\n",
      " c Indices de los valores a transformar con la variante error a 1 tf.Tensor([[0]], shape=(1, 1), dtype=int64)\n",
      "error_a_0 tf.Tensor([False], shape=(1,), dtype=bool)\n",
      "index_values_error_a_0 tf.Tensor([], shape=(0, 1), dtype=int64)\n",
      "vb tf.Tensor([22], shape=(1,), dtype=int32)\n",
      "val_afec_0_Error_to_change tf.Tensor([65535], shape=(1,), dtype=int32)\n",
      "val_afec_1_Error_to_change tf.Tensor([12], shape=(1,), dtype=int32)\n",
      "values_to_change tf.Tensor([22], shape=(1,), dtype=int32)\n",
      "values_to_change dentro de funcion erro_1 tf.Tensor([22], shape=(1,), dtype=int32)\n",
      "static_0_Error_change tf.Tensor([65535], shape=(1,), dtype=int32)\n",
      "static_1_Error_change tf.Tensor([12], shape=(1,), dtype=int32)\n",
      "mask tf.Tensor(8, shape=(), dtype=int32)\n",
      "n_mask tf.Tensor(7, shape=(), dtype=int32)\n",
      "not_mask [65528]\n",
      "n_v_b_m tf.Tensor([16], shape=(1,), dtype=int32)\n",
      "tensor_round tf.Tensor([16], shape=(1,), dtype=int32)\n",
      "indice a camniar tensor act [[0]]\n",
      "valores_afectados tf.Tensor([False False False  True False False False False], shape=(8,), dtype=bool)\n",
      "val tf.Tensor([[3]], shape=(1, 1), dtype=int64)\n",
      "mask_0 desdes update tf.Tensor(6, shape=(), dtype=int32)\n",
      "tensor tensor_act tf.Tensor([    0     0 65535    16    31     0    30    38], shape=(8,), dtype=int32)\n",
      "valores_afectados update tf.Tensor([False False False False False False False False], shape=(8,), dtype=bool)\n",
      "tensor_round tf.Tensor([16], shape=(1,), dtype=int32)\n",
      "mask_0 desdes update tf.Tensor(6, shape=(), dtype=int32)\n",
      "tensor tensor_act tf.Tensor([    0     0 65535    16    31     0    30    38], shape=(8,), dtype=int32)\n",
      "valores_afectados update tf.Tensor([False False False False False False False False], shape=(8,), dtype=bool)\n",
      "valores_afectados tf.Tensor([False False False False False False False False], shape=(8,), dtype=bool)\n",
      "tensor_act tf.Tensor([    0     0 65535    16    31     0    30    38], shape=(8,), dtype=int32)\n",
      "i 16\n"
     ]
    }
   ],
   "source": [
    "def while_body(i,out,mask,mask_0,tensor_original,tensor_act,v_m,v_b,tensor_with_error,values_to_run,valores_afectados,valores_afec_static_0_Error,valores_afec_static_1_Error):\n",
    "    print('dentro del body')\n",
    "    print('i',i)\n",
    "    print('out que llega al body', out)\n",
    "    print('tensor_act',tensor_act)\n",
    "    print('tensor_original',tensor_original)\n",
    "    print('mask',mask)\n",
    "    print('mask_0',mask_0)\n",
    "    print('v_m',v_m)\n",
    "    print('v_b',v_b)\n",
    "    print('tensor_with_error',tensor_with_error)\n",
    "    #hay_cambios=tf.math.not_equal(tensor_original,tensor_act)\n",
    "    #print('hay_cambios',hay_cambios)\n",
    "    #stop_condition=tf.experimental.numpy.any(valores_afectados)\n",
    "    #if stop_condition==False:\n",
    "        \n",
    "    ## Este if lo cree por si hay cambios antes de llegar al ciclo por haber errores e la posición 15 pero quizás ya o sea\n",
    "    # necesraio analizar luego de experimentar  si mask_0 llega con valores a 1 es porque se hicieron cambios y se deben\n",
    "    #analizar los btw con los valores resttantes sino todo se mantiene con los valores originales de entrada.\n",
    "    if tf.reduce_sum(mask_0)>0:\n",
    "        print('entre en condicion mask_0>0')\n",
    "        print('valores donde debo correr el mask')\n",
    "        \n",
    "        vb_and_mask=tf.bitwise.bitwise_and(v_b,mask)\n",
    "        print('vb_and_mask',vb_and_mask)\n",
    "        vm_and_mask=tf.bitwise.bitwise_and(v_m,mask)\n",
    "        print('vm_and_mask',vm_and_mask)  \n",
    "    else:\n",
    "        \n",
    "         ### esta estructura cambiaria porque ya tendre solo los valores con problemas, tomaria valores de tensores variables \n",
    "         #inicializados en 0 hasta que tome sus valores luego del recorrido por el body\n",
    "         ## el tensor control tomara un papel aca porque luego actualizaria el tensor_actu en los posiciones donde \n",
    "             #tensorcontrol sea false mas otra condicion mas o debo ir comparando el tensor actu con el original y envio los dos\n",
    "        #valores_afectados=tf.math.not_equal(tensor_original,tensor_with_error)## inicialmente no hara nada xq son iguales\n",
    "        print('entre en el else')\n",
    "        vb_and_mask=tf.bitwise.bitwise_and(tf.gather_nd(tensor_original,tf.where(valores_afectados==True)),mask)\n",
    "        print('vb_and_mask',vb_and_mask)\n",
    "        vm_and_mask=tf.bitwise.bitwise_and(tf.gather_nd(tensor_with_error,tf.where(valores_afectados==True)),mask)\n",
    "        print('vm_and_mask',vm_and_mask) \n",
    "        print('v_b',v_b)\n",
    "        print('v_m',v_m)\n",
    "        \n",
    "    a=tf.math.not_equal(vb_and_mask,vm_and_mask)\n",
    "    print('estoy calculando a y definiendo xq esta dado el error')\n",
    "    print('a vb_and_mask!=vm_and_mask',a)\n",
    "    values_to_run=tf.gather_nd(v_b,tf.where(a==False))\n",
    "    values_to_run_with_error=tf.gather_nd(v_m,tf.where(a==False))\n",
    "    valores_afec_static_0_Error_to_run=tf.gather_nd(valores_afec_static_0_Error,tf.where(a==False))\n",
    "    print('valores_afec_static_0_Error_to_run',valores_afec_static_0_Error_to_run)\n",
    "    valores_afec_static_1_Error_to_run=tf.gather_nd(valores_afec_static_1_Error,tf.where(a==False))\n",
    "    print('valores_afec_static_1_Error_to_run',valores_afec_static_1_Error_to_run)\n",
    "    print('values_to_run', values_to_run)\n",
    "    print(' values_to_run_with_error', values_to_run_with_error)\n",
    "    #valores_afectados_to_run= valores_afectados\n",
    "    #u=tf.size(values_to_run)>0\n",
    "    \n",
    "    \n",
    "    b=tf.math.greater(v_m,v_b ) # El error es a 1 y aplico la variante con_error_a_1\n",
    "    print('b Vm>Vb',b)\n",
    "    c=tf.where(tf.logical_and(a,b)==True)\n",
    "    #c=tf.where(tf.equal(a,b))\n",
    "    print('tamaño de c',tf.size(c))\n",
    "    print(' c Indices de los valores a transformar con la variante error a 1',c)\n",
    "    \n",
    "    error_a_0=tf.math.greater(v_b,v_m)\n",
    "    print('error_a_0',error_a_0)\n",
    "    index_values_error_a_0=tf.where(tf.logical_and(a,error_a_0)==True)\n",
    "    #index_values_error_a_0=tf.where(error_a_0==True)\n",
    "    print('index_values_error_a_0',index_values_error_a_0)\n",
    "    print('vb',v_b)\n",
    "    \n",
    "        \n",
    "   \n",
    "    if tf.size(c)>0:\n",
    "        error=1\n",
    "        tensor_act,valores_afectados,mask_0= TensorUpdateCiclo(error,v_b,c,valores_afec_static_0_Error,valores_afec_static_1_Error,mask,tensor_act,valores_afectados,mask_0)\n",
    "        #values_to_change=tf.gather_nd(v_b,c)\n",
    "        #val_afec_0_Error_to_change=tf.gather_nd(valores_afec_static_0_Error,c)\n",
    "        #print('val_afec_0_Error_to_change',val_afec_0_Error_to_change)\n",
    "        #val_afec_1_Error_to_change=tf.gather_nd(valores_afec_static_1_Error,c)\n",
    "        #print('val_afec_1_Error_to_change',val_afec_1_Error_to_change)\n",
    "        #print('values_to_change',values_to_change)\n",
    "        #tensor_round=ErrorAuno(values_to_change,mask,val_afec_0_Error_to_change,val_afec_1_Error_to_change)\n",
    "        #print('tensor_round',tensor_round)\n",
    "        #index=c.numpy()\n",
    "        #print('indice a camniar tensor act',index)\n",
    "        #print('valores_afectados',valores_afectados)\n",
    "        #val=tf.gather_nd(tf.where(valores_afectados),index)## tomo los indices del tensor original qu ese cambiaran\n",
    "        #print('val',val)\n",
    "        #tensor_act = tf.tensor_scatter_nd_update(tensor_act, val, tensor_round )\n",
    "        #valores_afectados=tf.tensor_scatter_nd_update(valores_afectados,val,tf.convert_to_tensor([False]*np.size(val)))\n",
    "        #mask_0=tf.add(mask_0,tf.size(val))\n",
    "        print('mask_0 desdes update', mask_0)\n",
    "        print('tensor tensor_act',tensor_act)\n",
    "        print('valores_afectados update',valores_afectados)                                              \n",
    "    \n",
    "    \n",
    "        \n",
    "        \n",
    "        \n",
    "    \n",
    "        \n",
    "    ##no es el que esta en mask en esse momento, retorno new mask, new_mask_0, tensor_act\n",
    "    if tf.size(index_values_error_a_0)>0: \n",
    "        error=0\n",
    "        print('dentro detf.size(error_a_0)>0 ')\n",
    "        tensor_act,valores_afectados,mask_0= TensorUpdateCiclo(error,v_b,index_values_error_a_0,valores_afec_static_0_Error,valores_afec_static_1_Error,mask,tensor_act,valores_afectados,mask_0)\n",
    "        #out=tf.constant(tf.math.subtract(out,tf.size(error_a_0)))\n",
    "        #print('out',out)\n",
    "        #mask_0=tf.tensor_scatter_nd_update(mask_0,error_a_0,tf.convert_to_tensor([1]*np.size(error_a_0)))\n",
    "        print()\n",
    "        #out=tf.constant(tf.math.subtract(out,tf.reduce_sum(mask_0)))\n",
    "        #values_to_change=tf.gather_nd(v_b,index_values_error_a_0)\n",
    "        #val_afec_0_Error_to_change=tf.gather_nd(valores_afec_static_0_Error,index_values_error_a_0)\n",
    "        #print('val_afec_0_Error_to_change',val_afec_0_Error_to_change)\n",
    "        #val_afec_1_Error_to_change=tf.gather_nd(valores_afec_static_1_Error,index_values_error_a_0)\n",
    "        #print('val_afec_1_Error_to_change',val_afec_1_Error_to_change)\n",
    "        #print('values_to_change',values_to_change)\n",
    "        #tensor_round=ErrorAcero(values_to_change,mask,val_afec_0_Error_to_change,val_afec_1_Error_to_change)\n",
    "        #index_0=index_values_error_a_0.numpy()\n",
    "        #print('index_0',index_0)\n",
    "        #print('valores_afectados',valores_afectados)\n",
    "        #val_0=tf.gather_nd(tf.where(valores_afectados),index_0)## tomo los indices del tensor original qu ese cambiaran\n",
    "        #print('val_0',val_0)\n",
    "        #\n",
    "        #tensor_act = tf.tensor_scatter_nd_update(tensor_act, val_0, tensor_round )\n",
    "        #valores_afectados=tf.tensor_scatter_nd_update(valores_afectados,val_0,tf.convert_to_tensor([False]*np.size(val_0)))\n",
    "        ##print('tensor_round en el body',tensor_round)\n",
    "        print('tensor tensor_act',tensor_act)\n",
    "        print('valores_afectados update',valores_afectados)        \n",
    "        #mask_0=tf.add(mask_0,tf.size(val_0))\n",
    "        print('mask_0 desdes update', mask_0)\n",
    "    \n",
    "        \n",
    "        \n",
    "        \n",
    "    if tf.size(values_to_run)>0:\n",
    "        #mask=mask>>1\n",
    "        mask=tf.bitwise.right_shift(mask,1)\n",
    "        print('dentro del if values to run',values_to_run)\n",
    "        print('mask',mask)\n",
    "        v_b=values_to_run\n",
    "        v_m=values_to_run_with_error \n",
    "        valores_afec_static_0_Error=valores_afec_static_0_Error_to_run\n",
    "        valores_afec_static_1_Error=valores_afec_static_1_Error_to_run\n",
    "        print('v_b',v_b)\n",
    "        print('v_m',v_m)\n",
    "        print('valores_afec_static_0_Error',valores_afec_static_0_Error)\n",
    "        print('valores_afec_static_1_Error',valores_afec_static_1_Error)\n",
    "        \n",
    "    \n",
    "    \n",
    "    if tf.experimental.numpy.any(valores_afectados)==False:\n",
    "        #tensor=tf.bitwise.bitwise_and(tensor_act,val_afec_0_Error_to_change)\n",
    "        #print('n_v_b_1', tensor)\n",
    "        #tensor_round=tf.bitwise.bitwise_or(tensor,val_afec_1_Error_to_change)\n",
    "        print('valores_afectados',valores_afectados)\n",
    "        print('tensor_act',tensor_act)\n",
    "        i=16\n",
    "        \n",
    "    print('i',i) \n",
    "    \n",
    "    \n",
    "    return (i+1),out,mask,mask_0,tensor_original,tensor_act,v_m,v_b,tensor_with_error,values_to_run,valores_afectados,valores_afec_static_0_Error,valores_afec_static_1_Error ## retorno los valores que aun no se han modificado por ninguna d elas variantes puesto que el bit con error     \n",
    "    \n",
    "i,out,mask,mask_0,tensor_original,tensor_act,v_m,v_b,tensor_with_error,values_to_run,valores_afectados,valores_afec_static_0_Error,valores_afec_static_1_Error= tf.while_loop(\n",
    "    lambda i, *_ : tf.less(i,out),  # condición -> revisar cada bit\n",
    "     while_body,  # aqui todo lo que tengas que hacer de comparar los vectores (que estos los puedes definir por fuera\n",
    "                 # o pasarlos a la misma función de while_body y no modificarlos)\n",
    "    (i,out,mask,mask_0,tensor_original,tensor_act,v_m,v_b,tensor_with_error,values_to_run,valores_afectados,valores_afec_static_0_Error,valores_afec_static_1_Error)  # valores iniciales\n",
    ")   \n",
    "\n"
   ]
  },
  {
   "cell_type": "code",
   "execution_count": 9,
   "id": "f0983cef",
   "metadata": {},
   "outputs": [
    {
     "data": {
      "text/plain": [
       "'0b100101'"
      ]
     },
     "execution_count": 9,
     "metadata": {},
     "output_type": "execute_result"
    }
   ],
   "source": [
    "bin(37)"
   ]
  },
  {
   "cell_type": "code",
   "execution_count": null,
   "id": "bf557743",
   "metadata": {},
   "outputs": [],
   "source": [
    "1000000000100101\n",
    "0000000000100101"
   ]
  },
  {
   "cell_type": "code",
   "execution_count": null,
   "id": "d8d5ab76",
   "metadata": {},
   "outputs": [],
   "source": [
    "inyectando errores tensor_act tf.Tensor([    0     0 57343    28    14     0    30    38],\n",
    "                                        \n",
    " sin inyectar errores                     0     0 65535    16    31     0    30    38                                       "
   ]
  },
  {
   "cell_type": "code",
   "execution_count": 10,
   "id": "0160a962",
   "metadata": {},
   "outputs": [
    {
     "data": {
      "text/plain": [
       "<tf.Tensor: shape=(8,), dtype=int32, numpy=array([  528,     0, 57343,    28,    14, 32768,    30,    38])>"
      ]
     },
     "execution_count": 10,
     "metadata": {},
     "output_type": "execute_result"
    }
   ],
   "source": [
    "tensor=tf.convert_to_tensor( [ 0,0, 65535, 16 ,   31,  0,  30  , 38] ) \n",
    "static_0_Error=tf.convert_to_tensor([7927,28671,57343,65535,65518,65535,49087 ,49087])\n",
    "static_1_Error=tf.convert_to_tensor([528,0,1024,12,4,32768,0,0 ])\n",
    "tensor=tf.bitwise.bitwise_and(tensor,static_0_Error)\n",
    "tensor=tf.bitwise.bitwise_or(tensor,static_1_Error)\n",
    "tensor"
   ]
  },
  {
   "cell_type": "markdown",
   "id": "03c45c50",
   "metadata": {},
   "source": [
    "## Ciclo este corre ok sin tener en cuenta lo de los errores en 0 en la primera posición"
   ]
  },
  {
   "cell_type": "code",
   "execution_count": 33,
   "id": "210efa32",
   "metadata": {},
   "outputs": [],
   "source": [
    "def while_body(i,out,mask,mask_0,tensor_original,tensor_act,v_m,v_b,tensor_with_error,values_to_run,valores_afectados,valores_afec_static_0_Error,valores_afec_static_1_Error):\n",
    "    print('dentro del body')\n",
    "    print('i',i)\n",
    "    print('out que llega al body', out)\n",
    "    print('tensor_act',tensor_act)\n",
    "    print('tensor_original',tensor_original)\n",
    "    print('mask',mask)\n",
    "    print('mask_0',mask_0)\n",
    "    #hay_cambios=tf.math.not_equal(tensor_original,tensor_act)\n",
    "    #print('hay_cambios',hay_cambios)\n",
    "    #stop_condition=tf.experimental.numpy.any(valores_afectados)\n",
    "    #if stop_condition==False:\n",
    "        \n",
    "    ## Este if lo cree por si hay cambios antes de llegar al ciclo por haber errores e la posición 15 pero quizás ya o sea\n",
    "    # necesraio analizar luego de experimentar  si mask_0 llega con valores a 1 es porque se hicieron cambios y se deben\n",
    "    #analizar los btw con los valores resttantes sino todo se mantiene con los valores originales de entrada.\n",
    "    if tf.reduce_sum(mask_0)>0:\n",
    "        print('entre en condicion mask_0>0')\n",
    "        print('valores donde debo correr el mask')\n",
    "        \n",
    "        vb_and_mask=tf.bitwise.bitwise_and(v_b,mask)\n",
    "        print('vb_and_mask',vb_and_mask)\n",
    "        vm_and_mask=tf.bitwise.bitwise_and(v_m,mask)\n",
    "        print('vm_and_mask',vm_and_mask)  \n",
    "    else:\n",
    "        \n",
    "         ### esta estructura cambiaria porque ya tendre solo los valores con problemas, tomaria valores de tensores variables \n",
    "         #inicializados en 0 hasta que tome sus valores luego del recorrido por el body\n",
    "         ## el tensor control tomara un papel aca porque luego actualizaria el tensor_actu en los posiciones donde \n",
    "             #tensorcontrol sea false mas otra condicion mas o debo ir comparando el tensor actu con el original y envio los dos\n",
    "        valores_afectados=tf.math.not_equal(tensor_original,tensor_with_error)## inicialmente no hara nada xq son iguales\n",
    "        print('entre en el else')\n",
    "        vb_and_mask=tf.bitwise.bitwise_and(tf.gather_nd(tensor_original,tf.where(valores_afectados==True)),mask)\n",
    "        print('vb_and_mask',vb_and_mask)\n",
    "        vm_and_mask=tf.bitwise.bitwise_and(tf.gather_nd(tensor_with_error,tf.where(valores_afectados==True)),mask)\n",
    "        print('vm_and_mask',vm_and_mask) \n",
    "        print('v_b',v_b)\n",
    "        print('v_m',v_m)\n",
    "        \n",
    "    a=tf.math.not_equal(vb_and_mask,vm_and_mask)\n",
    "    print('estoy calculando a y definiendo xq esta dado el error')\n",
    "    print('a vb_and_mask!=vm_and_mask',a)\n",
    "    values_to_run=tf.gather_nd(v_b,tf.where(a==False))\n",
    "    values_to_run_with_error=tf.gather_nd(v_m,tf.where(a==False))\n",
    "    valores_afec_static_0_Error_to_run=tf.gather_nd(valores_afec_static_0_Error,tf.where(a==False))\n",
    "    print('valores_afec_static_0_Error_to_run',valores_afec_static_0_Error_to_run)\n",
    "    valores_afec_static_1_Error_to_run=tf.gather_nd(valores_afec_static_1_Error,tf.where(a==False))\n",
    "    print('valores_afec_static_1_Error_to_run',valores_afec_static_1_Error_to_run)\n",
    "    \n",
    "    print(' values_to_run_with_error', values_to_run_with_error)\n",
    "    #valores_afectados_to_run= valores_afectados\n",
    "    u=tf.size(values_to_run)>0\n",
    "    \n",
    "    \n",
    "    b=tf.math.greater(v_m,v_b ) # El error es a 1 y aplico la variante con_error_a_1\n",
    "    print('b Vm>Vb',b)\n",
    "    c=tf.where(tf.equal(a,b))\n",
    "    print('tamaño de c',tf.size(c))\n",
    "    print(' c Indices de los valores a transformar con la variante error a 1',c)\n",
    "    \n",
    "    error_a_0=tf.math.greater(v_b,v_m)\n",
    "    print('error_a_0',error_a_0)\n",
    "    index_values_error_a_0=tf.where(error_a_0==True)\n",
    "    print('index_values_error_a_0',index_values_error_a_0)\n",
    "    \n",
    "        \n",
    "   \n",
    "    if tf.size(c)>0:\n",
    "        #out=tf.constant(tf.math.subtract(out,tf.size(c)))\n",
    "        #print('out',out)\n",
    "        #mask_0=tf.tensor_scatter_nd_update(mask_0,c,tf.convert_to_tensor([1]*np.size(c)))\n",
    "        \n",
    "        #out=tf.constant(tf.math.subtract(out,tf.reduce_sum(mask_0)))\n",
    "        values_to_change=tf.gather_nd(v_b,c)\n",
    "        val_afec_0_Error_to_change=tf.gather_nd(valores_afec_static_0_Error,c)\n",
    "        print('val_afec_0_Error_to_change',val_afec_0_Error_to_change)\n",
    "        val_afec_1_Error_to_change=tf.gather_nd(valores_afec_static_1_Error,c)\n",
    "        print('val_afec_1_Error_to_change',val_afec_1_Error_to_change)\n",
    "        print('values_to_change',values_to_change)\n",
    "        tensor_round=ErrorAuno(values_to_change,mask,val_afec_0_Error_to_change,val_afec_1_Error_to_change)\n",
    "        print('tensor_round',tensor_round)\n",
    "        index=c.numpy()\n",
    "        print('cnumpy',index)\n",
    "        print('valores_afectados',valores_afectados)\n",
    "        val=tf.gather_nd(tf.where(valores_afectados),index)## tomo los indices del tensor original qu ese cambiaran\n",
    "        print('val',val)\n",
    "        tensor_act = tf.tensor_scatter_nd_update(tensor_act, val, tensor_round )\n",
    "        valores_afectados=tf.tensor_scatter_nd_update(valores_afectados,val,tf.convert_to_tensor([False]*np.size(val)))\n",
    "        mask_0=tf.add(mask_0,tf.size(values_to_change))\n",
    "        print('mask_0 desdes update', mask_0)\n",
    "        \n",
    "        #print('tensor_round en el body',tensor_round)\n",
    "        print('tensor tensor_act',tensor_act)\n",
    "        print('valores_afectados update',valores_afectados)                                              \n",
    "    \n",
    "    \n",
    "        #mask=tf.bitwise.right_shift(mask,1)\n",
    "        #print('mask despues del shift',mask)\n",
    "    \n",
    "        print('tf.less dentro del body',a)\n",
    "        #tensor_act = ...## llamo a una funciíon a la que le paso los indices en el tensor original que cambie y los nuevos valores \n",
    "        #y hago el update\n",
    "        #new_mask = mask>>1\n",
    "        #print(new_mask)\n",
    "        #mask = new_mask_binary \n",
    "        #i = sum_new_mask_binary\n",
    "        print('out',out)\n",
    "        print('i',i)\n",
    "        \n",
    "    \n",
    "        \n",
    "    ##no es el que esta en mask en esse momento, retorno new mask, new_mask_0, tensor_act\n",
    "    if tf.size(index_values_error_a_0)>0: \n",
    "        print('dentro detf.size(error_a_0)>0 ')\n",
    "        #out=tf.constant(tf.math.subtract(out,tf.size(error_a_0)))\n",
    "        #print('out',out)\n",
    "        #mask_0=tf.tensor_scatter_nd_update(mask_0,error_a_0,tf.convert_to_tensor([1]*np.size(error_a_0)))\n",
    "        \n",
    "        #out=tf.constant(tf.math.subtract(out,tf.reduce_sum(mask_0)))\n",
    "        values_to_change=tf.gather_nd(v_b,error_a_0)\n",
    "        val_afec_0_Error_to_change=tf.gather_nd(valores_afec_static_0_Error,error_a_0)\n",
    "        print('val_afec_0_Error_to_change',val_afec_0_Error_to_change)\n",
    "        val_afec_1_Error_to_change=tf.gather_nd(valores_afec_static_1_Error,error_a_0)\n",
    "        print('val_afec_1_Error_to_change',val_afec_1_Error_to_change)\n",
    "        print('values_to_change',values_to_change)\n",
    "        tensor_round=ErrorAcero(values_to_change,mask,val_afec_0_Error_to_change,val_afec_1_Error_to_change)\n",
    "        index=error_a_0.numpy()\n",
    "        print('cnumpy',index)\n",
    "        print('valores_afectados',valores_afectados)\n",
    "        val=tf.gather_nd(tf.where(valores_afectados),index)## tomo los indices del tensor original qu ese cambiaran\n",
    "        print('val',val)\n",
    "        \n",
    "        tensor_act = tf.tensor_scatter_nd_update(tensor_act, val, tensor_round )\n",
    "        valores_afectados=tf.tensor_scatter_nd_update(valores_afectados,val,tf.convert_to_tensor([False]*np.size(val)))\n",
    "        #print('tensor_round en el body',tensor_round)\n",
    "        print('tensor tensor_act',tensor_act)\n",
    "        print('valores_afectados update',valores_afectados)        \n",
    "        mask_0=tf.add(mask_0,tf.size(values_to_change))\n",
    "        print('mask_0 desdes update', mask_0)\n",
    "    \n",
    "        #mask=tf.bitwise.right_shift(mask,1)\n",
    "        #print('mask despues del shift',mask)\n",
    "    \n",
    "        \n",
    "        #tensor_act = ...## llamo a una funciíon a la que le paso los indices en el tensor original que cambie y los nuevos valores \n",
    "        #y hago el update\n",
    "        #new_mask = mask>>1\n",
    "        #print(new_mask)\n",
    "        #mask = new_mask_binary \n",
    "        #i = sum_new_mask_binary\n",
    "        #print('out',out)\n",
    "       # print('i',i)\n",
    "    if tf.size(values_to_run)>0:\n",
    "        #mask=mask>>1\n",
    "        mask=tf.bitwise.right_shift(mask,1)\n",
    "        print('dentro del if values to run',values_to_run)\n",
    "        print('mask',mask)\n",
    "        v_b=values_to_run\n",
    "        v_m=values_to_run_with_error \n",
    "        valores_afec_static_0_Error=valores_afec_static_0_Error_to_run\n",
    "        valores_afec_static_1_Error=valores_afec_static_1_Error_to_run\n",
    "    #i=tf.add(i, 1) \n",
    "    #print(i)\n",
    "    \n",
    "    if tf.experimental.numpy.any(valores_afectados)==False:\n",
    "        #factor=2**11\n",
    "        #tensor_act= tf.cast(tensor_act/factor,dtype=tf.float32)\n",
    "        print(tensor_act)\n",
    "        i=16\n",
    "        \n",
    "    print(i) \n",
    "    \n",
    "    \n",
    "    return (i+1),out,mask,mask_0,tensor_original,tensor_act,v_m,v_b,tensor_with_error,values_to_run,valores_afectados,valores_afec_static_0_Error,valores_afec_static_1_Error ## retorno los valores que aun no se han modificado por ninguna d elas variantes puesto que el bit con error     \n",
    "    \n",
    "i,out,mask,mask_0,tensor_original,tensor_act,v_m,v_b,tensor_with_error,values_to_run,valores_afectados,valores_afec_static_0_Error,valores_afec_static_1_Error= tf.while_loop(\n",
    "    lambda i, *_ : tf.less(i,out),  # condición -> revisar cada bit\n",
    "     while_body,  # aqui todo lo que tengas que hacer de comparar los vectores (que estos los puedes definir por fuera\n",
    "                 # o pasarlos a la misma función de while_body y no modificarlos)\n",
    "    (i,out,mask,mask_0,tensor_original,tensor_act,v_m,v_b,tensor_with_error,values_to_run,valores_afectados,valores_afec_static_0_Error,valores_afec_static_1_Error)  # valores iniciales\n",
    ")   \n",
    "\n",
    "#Analizar porque donde vm_and mask es igual a mask es porque el error está en la primera posiscíon\n",
    "#entonces actualizo el tensor con el valor de mask `10000000000000'\n",
    "#y donde vale 0 hay que seguir corriendo el mask\n",
    "#hacer esto en otra página y hacerlo con el tensor mas grande para avarcar mas variantes\n"
   ]
  },
  {
   "cell_type": "code",
   "execution_count": null,
   "id": "ce2d901a",
   "metadata": {},
   "outputs": [],
   "source": []
  },
  {
   "cell_type": "code",
   "execution_count": 35,
   "id": "d33ce3ec",
   "metadata": {},
   "outputs": [
    {
     "data": {
      "text/plain": [
       "'0b111111111111111'"
      ]
     },
     "execution_count": 35,
     "metadata": {},
     "output_type": "execute_result"
    }
   ],
   "source": [
    "bin(32767)"
   ]
  },
  {
   "cell_type": "code",
   "execution_count": 36,
   "id": "87ba3f92",
   "metadata": {},
   "outputs": [
    {
     "data": {
      "text/plain": [
       "8192"
      ]
     },
     "execution_count": 36,
     "metadata": {},
     "output_type": "execute_result"
    }
   ],
   "source": [
    "int('0010000000000000',2)"
   ]
  },
  {
   "cell_type": "code",
   "execution_count": null,
   "id": "f3982b4f",
   "metadata": {},
   "outputs": [],
   "source": [
    "38     38  16384     64   -514 -16448 -16448 -16319  32769 -16448     -64 -16384 -16448 -16384 -16448 -16448 -16448    -64     69  32840\n",
    "    128   1024  16384     80   4112     27  -2048  32986"
   ]
  },
  {
   "cell_type": "code",
   "execution_count": null,
   "id": "a362062a",
   "metadata": {},
   "outputs": [],
   "source": [
    "te_or= 38    38    38    38 32769 32769 32769 32769 32769 32769 32769 32769   32769 32769 32769 32769 32769 32769    69 32840    27    27    66    66      66    27 32986 32986\n",
    "\n",
    "te_err= 49087 49087 49087 49087 65471 49151 65535 65535 65535 65535 49151 65471  65535 65471 65535 65535 65535 49151 49151 65407 32767 65019 65535 61439  65535 61439 65535 49151"
   ]
  },
  {
   "cell_type": "code",
   "execution_count": null,
   "id": "c84f8df0",
   "metadata": {},
   "outputs": [],
   "source": [
    "va_afec_0_Error =0     0   16384    64   514   16448  16448  49087     0  16448    64  16384  16448 16384 16448 16448 16448    64     0     0   128  1024 16384    16   4112     0  2048    64], \n",
    "val_afec_1_Error=49087 49087 49087   49087 65471  49151  65535 65535 65535  65535   49151 65471  65535 65471 65535 65535 65535 49151 49087 32639 32767 65017 65471 61439  65535 61423 65527 49151], "
   ]
  },
  {
   "cell_type": "code",
   "execution_count": null,
   "id": "6776ae48",
   "metadata": {},
   "outputs": [],
   "source": [
    "[ 4] [ 6] [ 7] [ 8] [ 9] [11] [12] [13] [14] [15] [16] [19] [20] [26]"
   ]
  },
  {
   "cell_type": "code",
   "execution_count": null,
   "id": "c2247432",
   "metadata": {},
   "outputs": [],
   "source": []
  },
  {
   "cell_type": "code",
   "execution_count": 84,
   "id": "f14199a6",
   "metadata": {},
   "outputs": [
    {
     "data": {
      "text/plain": [
       "'0b1100000000000000'"
      ]
     },
     "execution_count": 84,
     "metadata": {},
     "output_type": "execute_result"
    }
   ],
   "source": [
    "bin(49152 )"
   ]
  },
  {
   "cell_type": "code",
   "execution_count": 92,
   "id": "eff04836",
   "metadata": {},
   "outputs": [
    {
     "data": {
      "text/plain": [
       "array([49152], dtype=uint16)"
      ]
     },
     "execution_count": 92,
     "metadata": {},
     "output_type": "execute_result"
    }
   ],
   "source": [
    "n_mask=16383\n",
    "not_mask=np.invert(np.array([n_mask], dtype=np.uint16))\n",
    "not_mask"
   ]
  },
  {
   "cell_type": "code",
   "execution_count": null,
   "id": "f6084e37",
   "metadata": {},
   "outputs": [],
   "source": [
    "i=0   [ 0] [ 1] [ 2] [ 3] [18] [21] [22] [23] [24] [25]"
   ]
  },
  {
   "cell_type": "code",
   "execution_count": null,
   "id": "f763bcaf",
   "metadata": {},
   "outputs": [],
   "source": [
    "v_b=   0000000000100110  38\n",
    "v_m=   1011111110111111  49087  cambio en la iteración 0 \n",
    "mask=  1000000000000000\n",
    "mask-1=0111111111111111 32767\n",
    "n_mask=1000000000000000 32768\n",
    "nvb=v_b and not_mask\n",
    "0000000000100110 \n",
    "1000000000000000\n",
    "1000000000000000 and  32768\n",
    "0000000000000000 error_0\n",
    "0000000000000000 btw_and\n",
    "1011111110111111 error_1 \n",
    "1011111110111111 btw_or 49087\n",
    "shift-49087=-16319\n"
   ]
  },
  {
   "cell_type": "code",
   "execution_count": 85,
   "id": "f9880147",
   "metadata": {},
   "outputs": [
    {
     "data": {
      "text/plain": [
       "'0b11111111111111'"
      ]
     },
     "execution_count": 85,
     "metadata": {},
     "output_type": "execute_result"
    }
   ],
   "source": [
    "bin(16383 )"
   ]
  },
  {
   "cell_type": "code",
   "execution_count": 83,
   "id": "6faab4ca",
   "metadata": {},
   "outputs": [
    {
     "data": {
      "text/plain": [
       "'0b11111111111111'"
      ]
     },
     "execution_count": 83,
     "metadata": {},
     "output_type": "execute_result"
    }
   ],
   "source": [
    "bin(49152)"
   ]
  },
  {
   "cell_type": "code",
   "execution_count": 86,
   "id": "6b37591d",
   "metadata": {},
   "outputs": [
    {
     "data": {
      "text/plain": [
       "49152"
      ]
     },
     "execution_count": 86,
     "metadata": {},
     "output_type": "execute_result"
    }
   ],
   "source": [
    "int('1100000000000000',2)"
   ]
  },
  {
   "cell_type": "code",
   "execution_count": null,
   "id": "c5aff3b3",
   "metadata": {},
   "outputs": [],
   "source": [
    "i=1 [ 4] [ 6] [ 7] [ 8] [ 9] [11] [12] [13] [14] [15] [16] [19] [20] [26]\n"
   ]
  },
  {
   "cell_type": "code",
   "execution_count": null,
   "id": "4a5cb2b4",
   "metadata": {},
   "outputs": [],
   "source": [
    "tensor_original=  32769  32769 32769 32769 32769  32769   32769 32769 32769 32769 32769  32840    27  32986       \n",
    "\n",
    "tensor_with err=  65471  65535 65535 65535 65535 65471    65535 65471 65535 65535 65535  65407 32767  65535 "
   ]
  },
  {
   "cell_type": "code",
   "execution_count": null,
   "id": "e032427c",
   "metadata": {},
   "outputs": [],
   "source": [
    "va_afec_0_Error =   514     16448  49087     0  16448     16384  16448 16384 16448 16448 16448         0   128    2048   , \n",
    "val_fec_1_Error=   65471    65535 65535   65535  65535    65471  65535 65471 65535 65535 65535      32639 32767    65527 ], "
   ]
  },
  {
   "cell_type": "code",
   "execution_count": null,
   "id": "d61edb6e",
   "metadata": {},
   "outputs": [],
   "source": [
    "val_afec_0_Err[    514     16448  49087     0    16448    16384  16448  16384 16448 16448 16448     0   128  2048], shape=(14,)\n",
    "val_afec_1_Error[  65471   65535   65535   65535 65535   65471  65535  65471 65535 65535 65535   32639 32767 65527], shape=(14,), dtype=int32)\n",
    "values_to_change [32769 32769 32769 32769  32769 32769  32769 3 2769  32769 32769 32769 32840   27 32986], shape=(14,), dtype=int32)"
   ]
  },
  {
   "cell_type": "code",
   "execution_count": 44,
   "id": "0326a7e3",
   "metadata": {},
   "outputs": [
    {
     "data": {
      "text/plain": [
       "'0b1000000010'"
      ]
     },
     "execution_count": 44,
     "metadata": {},
     "output_type": "execute_result"
    }
   ],
   "source": [
    "bin(514 )"
   ]
  },
  {
   "cell_type": "code",
   "execution_count": null,
   "id": "3d8064cf",
   "metadata": {},
   "outputs": [],
   "source": [
    "v_b=   1000000000000001 32769\n",
    "v_m=   1111111110111111 65471 iteraciOn \n",
    "mask=  0100000000000000  16384\n",
    "mask-1 0011111111111111  16383\n",
    "n_mask=1100000000000000  49152\n",
    "nvb=v_b and not_mask\n",
    "1000000000000001\n",
    "1100000000000000\n",
    "1000000000000000 and 32768\n",
    "0000001000000010 error_0 514\n",
    "0000000000000000 btw_and\n",
    "1111111110111111 error_1 65471\n",
    "1111111110111111 65471\n",
    "\n",
    "\n"
   ]
  },
  {
   "cell_type": "code",
   "execution_count": 21,
   "id": "575cc120",
   "metadata": {},
   "outputs": [
    {
     "data": {
      "text/plain": [
       "32768"
      ]
     },
     "execution_count": 21,
     "metadata": {},
     "output_type": "execute_result"
    }
   ],
   "source": [
    "shift=2**15\n",
    "shift\n"
   ]
  },
  {
   "cell_type": "code",
   "execution_count": 23,
   "id": "efb882c0",
   "metadata": {},
   "outputs": [
    {
     "data": {
      "text/plain": [
       "-32703"
      ]
     },
     "execution_count": 23,
     "metadata": {},
     "output_type": "execute_result"
    }
   ],
   "source": [
    "shift-65471"
   ]
  },
  {
   "cell_type": "code",
   "execution_count": null,
   "id": "ca5b6c36",
   "metadata": {},
   "outputs": [],
   "source": [
    "i=[ 5], [10], [17], [27]"
   ]
  },
  {
   "cell_type": "code",
   "execution_count": null,
   "id": "cb9d9175",
   "metadata": {},
   "outputs": [],
   "source": [
    "tensor_original:   32769  32769  32769    32986             \n",
    "tensor_with_error:[ 49151  49151  49151  49151       "
   ]
  },
  {
   "cell_type": "code",
   "execution_count": null,
   "id": "9065c428",
   "metadata": {},
   "outputs": [],
   "source": [
    "val_afec_0_Error_to_change tf.Tensor([16448    64    64    64]\n",
    "val_afec_1_Error_to_change tf.Tensor([49151 49151 49151 49151] \n",
    "values_to_change tf.Tensor([32769 32769 32769 32986] "
   ]
  },
  {
   "cell_type": "code",
   "execution_count": 45,
   "id": "a90028f3",
   "metadata": {},
   "outputs": [
    {
     "data": {
      "text/plain": [
       "'0b100000001000000'"
      ]
     },
     "execution_count": 45,
     "metadata": {},
     "output_type": "execute_result"
    }
   ],
   "source": [
    "bin(16448)"
   ]
  },
  {
   "cell_type": "code",
   "execution_count": 43,
   "id": "37edac30",
   "metadata": {},
   "outputs": [
    {
     "data": {
      "text/plain": [
       "49216"
      ]
     },
     "execution_count": 43,
     "metadata": {},
     "output_type": "execute_result"
    }
   ],
   "source": [
    "int('1100000001000000',2)"
   ]
  },
  {
   "cell_type": "code",
   "execution_count": null,
   "id": "8ab2365e",
   "metadata": {},
   "outputs": [],
   "source": [
    "v_b=   1000000000000001 32769\n",
    "v_m=   1011111111111111 49151 \n",
    "mask=  0010000000000000 8192\n",
    "mask-1 0001111111111111 8191\n",
    "n_mask=1110000000000000 57344\n",
    "nvb=v_b and not_mask\n",
    "1000000000000001\n",
    "1110000000000000\n",
    "1000000000000000 and 32768\n",
    "1011111111111111 error_0 \n",
    "1000000000000000 btw_and\n",
    "0100000001000000 error_1 \n",
    "1100000001000000 49216"
   ]
  },
  {
   "cell_type": "code",
   "execution_count": null,
   "id": "ca0c1d3e",
   "metadata": {},
   "outputs": [],
   "source": [
    "static_1_Error:[  0     0 16384    64   514 16448 16448 49087     0 16448    64 16384  16448 16384 16448 16448 16448    64     0     0   128  1024 16384    16\n",
    "  4112     0  2048    64]\n",
    "static_0_Error:[49087 49087 49087 49087 65471 49151 65535 65535 65535 65535 49151 65471  65535 65471 65535 65535 65535 49151 49087 32639 32767 65017 65471 61439\n",
    " 65535 61423 65527 49151]"
   ]
  },
  {
   "cell_type": "code",
   "execution_count": null,
   "id": "24d436f8",
   "metadata": {},
   "outputs": [],
   "source": [
    "tensor_original:[  38    38    38    38   32769  32769  32769  32769  32769  32769   32769  32769  32769 32769  32769  32769 32769  32769   69  32840    27    27     66      66      66      27     32986        32986]\n",
    "\n",
    "\n",
    "tensowith_error:[  38    38  16422  102  33283  49217  49217  49087  32769  49217   32833  49153  49217  49153  49217  49217 49217  32833   69  32840   155    1051   16450    82     4178    27      35034      32986]"
   ]
  },
  {
   "cell_type": "code",
   "execution_count": null,
   "id": "73bc3b90",
   "metadata": {},
   "outputs": [],
   "source": [
    "                 38    38   16384   64  -514  -16448  -16448 -16319  32769 -16448   -64  -16384 -16448 -16384  -16448 -16448 -16448 -64    69 32840    128   1024    16384   80     4112    27  -2048 32986"
   ]
  },
  {
   "cell_type": "code",
   "execution_count": 12,
   "id": "78623a40",
   "metadata": {},
   "outputs": [
    {
     "data": {
      "text/plain": [
       "'0b1100110'"
      ]
     },
     "execution_count": 12,
     "metadata": {},
     "output_type": "execute_result"
    }
   ],
   "source": [
    "bin(102)"
   ]
  },
  {
   "cell_type": "code",
   "execution_count": null,
   "id": "dbb8731d",
   "metadata": {},
   "outputs": [],
   "source": [
    "0100110\n",
    "1100110"
   ]
  }
 ],
 "metadata": {
  "kernelspec": {
   "display_name": "env_first",
   "language": "python",
   "name": "env_first"
  },
  "language_info": {
   "codemirror_mode": {
    "name": "ipython",
    "version": 3
   },
   "file_extension": ".py",
   "mimetype": "text/x-python",
   "name": "python",
   "nbconvert_exporter": "python",
   "pygments_lexer": "ipython3",
   "version": "3.8.0"
  }
 },
 "nbformat": 4,
 "nbformat_minor": 5
}
