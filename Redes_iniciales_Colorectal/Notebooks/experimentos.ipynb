{
 "cells": [
  {
   "cell_type": "markdown",
   "id": "6363444a",
   "metadata": {},
   "source": [
    "### Iso-area ECC :Tomar las direcciones de 4 en 4 y si existen en estas máscaras 1 error lo corrijo, sino lo dejo\n",
    "### igual, las direcciones van desde 0 hasta (1048576-1)(1024x1024x1)"
   ]
  },
  {
   "cell_type": "code",
   "execution_count": 1,
   "id": "a18bb451",
   "metadata": {},
   "outputs": [
    {
     "name": "stdout",
     "output_type": "stream",
     "text": [
      "9439\n",
      "['xxxxxxxxx0xxxxxx', 'x0xxxxxxxxxxxxxx', 'xxxxxxxxx0xxxxxx', 'x0xxxxxxxxxxxxxx', 'xxxxxxxxx0xxxxxx', 'x0xxxxxxxxxxxxxx', 'xxxxxxxxx0xxxxxx', 'x0xxxxxxxxxxxxxx', 'xxxxxxxxx1xxxxxx', 'x0xxxxxxxxxxxxxx']\n",
      "[4141, 4142, 4181, 4182, 4199, 4200, 4241, 4242, 4249, 4250]\n",
      "9439\n"
     ]
    }
   ],
   "source": [
    "from Simulation import buffer_simulation, save_obj, load_obj\n",
    "locs=load_obj('Data/Fault Characterization/variante_mask_vc_707/error_mask_x/error_mask_x/vc_707/locs_054')\n",
    "error_mask=load_obj('Data/Fault Characterization/variante_mask_vc_707/error_mask_x/error_mask_x/vc_707/error_mask_054')\n",
    "print(len(error_mask))\n",
    "print(error_mask[0:10])\n",
    "print(locs[0:10])\n",
    "#error_mask=error_mask[0:10]\n",
    "#locs=locs[0:10]\n",
    "print(len(locs))\n",
    "#print(error_mask)"
   ]
  },
  {
   "cell_type": "code",
   "execution_count": null,
   "id": "fb42d6c2",
   "metadata": {},
   "outputs": [],
   "source": [
    "\n",
    "#error_mask=['xxxxxxxxx0xxxxxx', 'xxxxxxxxx0xxxxxx', 'x0xxxxxxxxxxxxxx', 'xxxxxxxxx0xxxxxx', 'x0xxxxxxxxxxxxxx', 'xxxxxxxxx0xxxxxx', 'x0xxxxxxxxxxxxxx', 'xxxxxxxxx1xxxxxx', 'x0xxxxxxxxxxxxxx']\n",
    "#locs=[0, 4, 8, 9, 12, 13, 17, 21, 22]\n",
    "ecc=0\n",
    "t_adress = 1048576\n",
    "locs_modi=[]\n",
    "\n",
    "for i in range(0, t_adress, 4):\n",
    "    #print ('i',i)\n",
    "    error=0\n",
    "    z=0\n",
    "     \n",
    "    \n",
    "    for j in range(i, i+4):\n",
    "        #print('i+4',i+4 )\n",
    "        #print('j', j)\n",
    "        if j in locs:\n",
    "            z=locs.index(j)\n",
    "            #print('z',z)\n",
    "            \n",
    "            error= error + (error_mask[z].count('0') + error_mask[z].count('1'))\n",
    "        #print('error', error)\n",
    "    if  error == 1:\n",
    "            #print('z',z)\n",
    "            \n",
    "            #print('mask_error[z]', error_mask[z])\n",
    "            error_mask[z]='xxxxxxxxxxxxxx'\n",
    "            #print('mask_error[z]', error_mask[z])\n",
    "            locs_modi.append(z)\n",
    "            #print('locs_modi',locs_modi)\n",
    "            ecc+=1\n",
    "            #print('ecc', ecc)\n",
    "#print(error_mask)     \n",
    "print(ecc)\n",
    "print(len(error_mask))\n",
    "#print(locs_modi)\n",
    "#save_obj(error_mask,'Data/Fault Characterization/variante_mask_vc_707/ECCx4/ECCx/vc_707/error_mask_054')\n",
    "#save_obj(locs,'Data/Fault Characterization/variante_mask_vc_707/ECCx4/ECCx/vc_707/locs_054')             \n",
    "            "
   ]
  },
  {
   "cell_type": "markdown",
   "id": "3c9ceb7b",
   "metadata": {},
   "source": [
    "## Flip: Hacer el experimento de inversión para toda la máscara (en la máscara original)"
   ]
  },
  {
   "cell_type": "code",
   "execution_count": 8,
   "id": "02d1bcd2",
   "metadata": {},
   "outputs": [
    {
     "name": "stdout",
     "output_type": "stream",
     "text": [
      "Tamaño de máscara  9439\n",
      "tamaño locs_flip 9439\n",
      "cantidad volteada 4718\n",
      "cantidad sin voltear 4721\n",
      "tamaño de Máscara volteada  9439\n",
      "tamaño locs  9439\n"
     ]
    }
   ],
   "source": [
    "error_mask_flip = []\n",
    "locs_flip = []\n",
    "count_flip = 0\n",
    "#k = 0\n",
    "\n",
    "vol= 54\n",
    "\n",
    "len_error_mask= len(error_mask)\n",
    "print('Tamaño de máscara ',len_error_mask)\n",
    "#while (stop == False and k < 8):\n",
    "#print('error_mask sin voltear',error_mask)\n",
    "for i,j in enumerate(error_mask):\n",
    "    k = 0\n",
    "    stop = False\n",
    "    while k<8 and stop == False: \n",
    "        if ('0'  in j[k] or '1'  in j[k]) and 'x' in j[15-k]:\n",
    "            error_volteado = (j[::-1])\n",
    "            #print('error_volteado',error_volteado)\n",
    "            error_mask_flip.append(error_volteado)\n",
    "            count_flip = count_flip + 1\n",
    "            locs_flip.append(locs[i]) \n",
    "            #print(locs_flip)\n",
    "            stop=True\n",
    "            \n",
    "        else:\n",
    "            if '0' in j[15-k] or '1' in j[15-k]:\n",
    "                error_mask_flip.append(j)\n",
    "                locs_flip.append(locs[i])\n",
    "                \n",
    "                stop=True\n",
    "            k +=1\n",
    "          \n",
    "    if  stop==False:\n",
    "        error_mask_flip.append(j)\n",
    "        locs_flip.append(locs[i])\n",
    "        \n",
    "    \n",
    "            \n",
    "            \n",
    "            #error_mask_flip.append(j)\n",
    "            #print(error_mask_flip)\n",
    "            \n",
    "wth_flip=len_error_mask- count_flip\n",
    "#print('error_volteado',error_mask_flip[0:9439])\n",
    "print('tamaño locs_flip',len(locs_flip))\n",
    "#print('locs_flip',locs_flip)\n",
    "print('cantidad volteada',count_flip)\n",
    "print('cantidad sin voltear',wth_flip)\n",
    "print('tamaño de Máscara volteada ',len(error_mask_flip))\n",
    "print('tamaño locs ',len(locs))"
   ]
  },
  {
   "cell_type": "markdown",
   "id": "68e47860",
   "metadata": {},
   "source": [
    "## ECC: En la máscara original, aquellas máscaras con un error colocarla todo en xxxx.... y correr el experimento base."
   ]
  },
  {
   "cell_type": "code",
   "execution_count": null,
   "id": "3840db49",
   "metadata": {},
   "outputs": [],
   "source": [
    "from collections import Counter\n",
    "\n",
    "\n",
    "#from Simulation import buffer_simulation, save_obj, load_obj\n",
    "#error_mask = load_obj('Data/Fault Characterization/variante_mask_vc_707/vc_707/error_mask_054')\n",
    "#locs  = load_obj('Data/Fault Characterization/variante_mask_vc_707/vc_707/locs_054')\n",
    "vol=54\n",
    "count_one_err = 0\n",
    "coun_more_err = 0\n",
    "error_mask_ana =[]\n",
    "error_mask_ana_un=[]\n",
    "\n",
    "for i,j in enumerate(error_mask):\n",
    "    #print(i)\n",
    "    mask_one_error =j[0:16].count('x')\n",
    "    if mask_one_error == 15:\n",
    "        count_one_err += 1\n",
    "        j = str(\"\".join(j.replace('0' ,'x')))\n",
    "        j = str(\"\".join(j.replace('1','x')))\n",
    "        error_mask_ana.append(j)\n",
    "        error_mask_ana_un.append(j)\n",
    "        \n",
    "    else: \n",
    "        coun_more_err += 1\n",
    "        error_mask_ana.append(j)\n",
    "        \n",
    "                   \n",
    "        \n",
    "\n",
    "print('coun_bit_more',coun_more_err)\n",
    "\n",
    "print('tamaño de eeroe_mask',len(error_mask_ana))\n",
    "print('tamaño de locs',len(locs))\n",
    "print('tamaño de la máscara cambiada',len(error_mask_ana_un))\n",
    "print('count_one_err',count_one_err)\n",
    "print('error_mask_ana_un', error_mask_ana_un[0:100])\n",
    "print('error_mask_ana',error_mask_ana[0:100])\n"
   ]
  },
  {
   "cell_type": "markdown",
   "id": "9facad34",
   "metadata": {},
   "source": [
    "### Flip+Patch: luego de voltear la máscara (flip) existen 37 palabras que están tan afectadas que tienen errores tanto en la parte alta como en la baja  lo qu ese hace es a esos casos la parte alta(8 bits más significativos se colocan en xxxxxxx)\n"
   ]
  },
  {
   "cell_type": "code",
   "execution_count": 6,
   "id": "8f5c7dd9",
   "metadata": {},
   "outputs": [],
   "source": [
    "locs=load_obj('Data/Fault Characterization/variante_mask_vc_707/mask_volteada_x/mask_volteada/vc_707/locs_054')\n",
    "error_mask=load_obj('Data/Fault Characterization/variante_mask_vc_707/mask_volteada_x/mask_volteada/vc_707/error_mask_054')"
   ]
  },
  {
   "cell_type": "code",
   "execution_count": 7,
   "id": "5bd1ea7b",
   "metadata": {},
   "outputs": [
    {
     "name": "stdout",
     "output_type": "stream",
     "text": [
      "9439\n",
      "['11000101011101110', '11110011001101000', '1001001101111110001', '1010000111101110010', '1010011001000001100', '1010011001000001101', '1010111111010010111', '1010111111010011000', '1011100001101111010', '1011100001101111011']\n",
      "[101102, 124520, 302065, 331634, 340492, 340493, 360087, 360088, 377722, 377723]\n",
      "error_mask_ antes []\n",
      "error_mask_ desùes ['xxxxxxxxxxx0xxxx', 'xxxxxxxxxx1xxxxx', 'xxxxxxxxxxxxx0xx', 'xxxxxxxxxx0xxxxx', 'xxxxxxxxxxxxxxx0', 'xxxxxxxxxxxxx0xx', 'xxxxxxxxxxxxx0xx', 'xxxxxxxxxxxx1xxx', 'xxxxxxxxxxx1xxxx', 'xxxxxxxxxxxxxx1x', 'xxxxxxxxxxxxxxx0', 'xxxxxxxxxx1xxxxx', 'xxxxxxxxxxxxxxx0', 'xxxxxxxxxxxxxxx0', 'xxxxxxxxx100xxxx', 'xxxxxxxxxxx1xxxx', 'xxxxxxxxxxxxxxx0', 'xxxxxxxxxxxxxxx0', 'xxxxxxxxxxxx1xxx', 'xxxxxxxxxxxxx1xx', 'xxxxxxxxxxxxx0xx', 'xxxxxxxxxx0xxxxx', 'xxxxxxxx1xxxxx1x', 'xxxxxxxxxxxxxx01', 'xxxxxxxxxxxxx1xx', 'xxxxxxxxx1xxxxx1', 'xxxxxxxx0xxxxx1x', 'xxxxxxxxx0xxxxx0', 'xxxxxxxx0xxxxx0x', 'xxxxxxxxxxxxxxx1', 'xxxxxxxx0xxxxx0x', 'xxxxxxxxxxxxxx0x', 'xxxxxxxxx1xxxx0x', 'xxxxxxxxx1xxxx1x', 'xxxxxxxxxxxxxx0x', 'xxxxxxxx1xxxxx1x', 'xxxxxxxxxxxx1xxx']\n",
      "9402\n",
      "count_bit_les 9402\n",
      "coun_bit_more 0\n",
      "count_bit_conf 37\n",
      "error_mask_ana 9402\n",
      "len locs 9439\n"
     ]
    }
   ],
   "source": [
    "from collections import Counter\n",
    "import pandas as pd\n",
    "count_bit_les = 0\n",
    "coun_bit_more = 0\n",
    "count_bit_conf = 0\n",
    "error_mask_ana =[]\n",
    "error_mask_ana_inv=[]\n",
    "error_mask_ana_antes=[]\n",
    "locs_ana= []\n",
    "locs_ana_=[]\n",
    "locs_bin=[]\n",
    "#marca = '@'\n",
    "vol=54\n",
    "print(len(error_mask))\n",
    "for i, j in  enumerate(error_mask):\n",
    "    #print(i)\n",
    "    bit_more=j[0:8].count('0') + j[0:8].count('1')\n",
    "    bit_les=j[8:16].count('0') + j[8:16].count('1')\n",
    "    if bit_les>0 and bit_more==0:\n",
    "        count_bit_les+=1\n",
    "        #print(type(j))\n",
    "        error_mask_ana.append(j)\n",
    "        locs_ana.append(locs[i])\n",
    "        \n",
    "        \n",
    "   \n",
    "    elif bit_les == 0 and bit_more>0:\n",
    "            coun_bit_more+=1\n",
    "            error_mask_ana.append(j)\n",
    "            locs_ana.append(locs[i])\n",
    "            \n",
    "    else: \n",
    "        \n",
    "        count_bit_conf+=1\n",
    "             \n",
    "        j = str(\"\".join(j[0:8].replace('0','x'))) + str(j[8:16])\n",
    "        j = str(\"\".join(j[0:8].replace('1','x'))) + str(j[8:16])\n",
    "        error_mask_ana_inv.append(j)\n",
    "        error_mask_ana.append(j)\n",
    "        locs_ana_.append(locs[i])\n",
    "        locs_bin.append(format((locs[i]), \"b\"))\n",
    "           \n",
    "        \n",
    "print(locs_bin[0:10])  \n",
    "print(locs_ana_[0:10])\n",
    "print('error_mask_ antes',error_mask_ana_antes[0:10])                 \n",
    "print('error_mask_ desùes',error_mask_ana_inv)\n",
    "#print(len(locs_ana_inv))\n",
    "print(len(error_mask_ana))\n",
    "print('count_bit_les',count_bit_les)\n",
    "print('coun_bit_more',coun_bit_more)\n",
    "print('count_bit_conf',count_bit_conf)\n",
    "print('error_mask_ana',len(error_mask_ana))\n",
    "print('len locs',len(locs))\n",
    "\n"
   ]
  },
  {
   "cell_type": "code",
   "execution_count": null,
   "id": "b89a1e30",
   "metadata": {},
   "outputs": [],
   "source": []
  }
 ],
 "metadata": {
  "kernelspec": {
   "display_name": "env_first",
   "language": "python",
   "name": "env_first"
  },
  "language_info": {
   "codemirror_mode": {
    "name": "ipython",
    "version": 3
   },
   "file_extension": ".py",
   "mimetype": "text/x-python",
   "name": "python",
   "nbconvert_exporter": "python",
   "pygments_lexer": "ipython3",
   "version": "3.8.0"
  }
 },
 "nbformat": 4,
 "nbformat_minor": 5
}
