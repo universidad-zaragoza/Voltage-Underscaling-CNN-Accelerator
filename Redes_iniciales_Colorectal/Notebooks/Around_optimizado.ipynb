{
 "cells": [
  {
   "cell_type": "code",
   "execution_count": 1,
   "id": "cb22bef9",
   "metadata": {},
   "outputs": [],
   "source": [
    "from tensorflow.keras.models import Sequential\n",
    "from tensorflow.python.keras import backend as K\n",
    "import tensorflow as tf\n",
    "import collections\n",
    "import numpy as np\n",
    "from openpyxl import load_workbook\n",
    "from openpyxl import Workbook\n",
    "from pandas import ExcelWriter\n",
    "from funciones import ErrorAuno,ErrorAcero,TensorUpdatePosicionInicial,TensorUpdateCiclo\n",
    "\n",
    "from tensorflow.keras.layers import (Activation, AveragePooling2D, BatchNormalization, Cropping2D,\n",
    "                                     Concatenate, Conv1D, Conv2D, Dense, DepthwiseConv2D, Dropout,\n",
    "                                     Embedding, Flatten, GlobalAveragePooling2D, Lambda, MaxPool2D,\n",
    "                                     MaxPooling1D, ReLU, Reshape, ZeroPadding2D)"
   ]
  },
  {
   "cell_type": "code",
   "execution_count": 2,
   "id": "0a36084d",
   "metadata": {},
   "outputs": [
    {
     "name": "stdout",
     "output_type": "stream",
     "text": [
      "tensor_original tf.Tensor([   38    38 32769], shape=(3,), dtype=int32)\n",
      "tf.Tensor([16422   102 33283], shape=(3,), dtype=int32)\n"
     ]
    }
   ],
   "source": [
    "\n",
    "tensor_original=tf.convert_to_tensor([38, 38, 32769])\n",
    "static_Error0_1= ([49087,16384],[49087,64],[65471,514]) \n",
    "faults=tf.convert_to_tensor(static_Error0_1)\n",
    "tensor  = tf.bitwise.bitwise_and(tensor_original,faults[:,0])\n",
    "print('tensor_original',tensor_original)\n",
    "tensor_with_error  = tf.bitwise.bitwise_or(tensor,faults[:,1])\n",
    "print(tensor_with_error)"
   ]
  },
  {
   "cell_type": "code",
   "execution_count": 3,
   "id": "9521e7b5",
   "metadata": {},
   "outputs": [
    {
     "name": "stdout",
     "output_type": "stream",
     "text": [
      "tensor_original tf.Tensor([40167 61311 64511    22    17    37    30    38], shape=(8,), dtype=int32)\n",
      "faults[:,0] tf.Tensor([ 7927 28671 57343 65535 65518 65535 49087 49087], shape=(8,), dtype=int32)\n",
      "tf.Tensor([ 7927 28543 57343    30     4 32805    30    38], shape=(8,), dtype=int32)\n"
     ]
    }
   ],
   "source": [
    "import tensorflow as tf\n",
    "import numpy as np\n",
    "tensor_original=tf.convert_to_tensor([40167,61311,64511,22,17,37,30,38 ])\n",
    "print('tensor_original',tensor_original)\n",
    "static_Error0_1= ([7927,528],[28671,0],[57343,1024],[65535,12],[65518,4],[65535,32768],[49087,0] ,[49087,0])\n",
    "faults=tf.convert_to_tensor(static_Error0_1)\n",
    "tensor  = tf.bitwise.bitwise_and(tensor_original,faults[:,0])\n",
    "print('faults[:,0]',faults[:,0])\n",
    "tensor_with_error  = tf.bitwise.bitwise_or(tensor,faults[:,1])\n",
    "print(tensor_with_error)\n",
    "\n"
   ]
  },
  {
   "cell_type": "code",
   "execution_count": 4,
   "id": "92e53ea3",
   "metadata": {},
   "outputs": [
    {
     "name": "stdout",
     "output_type": "stream",
     "text": [
      "a tf.Tensor([False False False], shape=(3,), dtype=bool)\n",
      "error_a_1 tf.Tensor([ True  True  True], shape=(3,), dtype=bool)\n",
      "index_values_error_a_1 tf.Tensor([], shape=(0, 1), dtype=int32)\n",
      "val  tf.Tensor([], shape=(0, 1), dtype=int32)\n",
      "index_values_error_a_0 tf.Tensor([], shape=(0, 1), dtype=int32)\n",
      "val_0 tf.Tensor([], shape=(0, 1), dtype=int32)\n",
      "tensor_act tf.Tensor([   38    38 32769], shape=(3,), dtype=int32)\n",
      "tf.Tensor([ True  True  True], shape=(3,), dtype=bool)\n"
     ]
    },
    {
     "data": {
      "text/plain": [
       "<tf.Tensor: shape=(), dtype=int32, numpy=32768>"
      ]
     },
     "execution_count": 4,
     "metadata": {},
     "output_type": "execute_result"
    }
   ],
   "source": [
    "import tensorflow as tf\n",
    "a=tf.math.not_equal(vb_and_mask,vm_and_mask)\n",
    "print('a',a)\n",
    "error_a_1=tf.math.greater(v_m,v_b ) # El error es a 1 y aplico la variante con_error_a_1\n",
    "print('error_a_1',error_a_1)\n",
    "index_values_error_a_1=tf.where(tf.logical_and(a,error_a_1)==True)\n",
    "index_values_error_a_1 = tf.cast(index_values_error_a_1, dtype=tf.int32)\n",
    "print('index_values_error_a_1',index_values_error_a_1)\n",
    "val=tf.gather_nd(tf.where(valores_afectados),index_values_error_a_1)## tomo los indices del tensor original qu ese cambiaran\n",
    "val = tf.cast(val, dtype=tf.int32)\n",
    "print('val ',val)\n",
    "#\n",
    "\n",
    "#### agraegado para si se encuentra error a 0 en la posición más significativa  esto \n",
    "error_a_0=tf.math.greater(v_b,v_m)\n",
    "index_values_error_a_0=tf.where(tf.logical_and(a,error_a_0)==True)\n",
    "index_values_error_a_0 = tf.cast(index_values_error_a_0, dtype=tf.int32)\n",
    "print('index_values_error_a_0',index_values_error_a_0)\n",
    "#index_0=index_values_error_a_0.numpy()\n",
    "val_0=tf.gather_nd(tf.where(valores_afectados),index_values_error_a_0)## tomo los indices del tensor original que se cambiaran\n",
    "val_0 = tf.cast(val_0, dtype=tf.int32)\n",
    "print('val_0',val_0)\n",
    "\n",
    "if tf.size(val)> 0: \n",
    "        tensor_act = tf.tensor_scatter_nd_update(tensor_act, val, tf.convert_to_tensor([0]*np.size(val) ))\n",
    "        valores_afectados=tf.tensor_scatter_nd_update(valores_afectados,val,tf.convert_to_tensor([False]*np.size(val)))\n",
    "    \n",
    "if tf.size(val_0)>0:\n",
    "        tensor_act = tf.tensor_scatter_nd_update(tensor_act, val_0, tf.convert_to_tensor([0]*np.size(val_0) ))\n",
    "        valores_afectados=tf.tensor_scatter_nd_update(valores_afectados,val_0,tf.convert_to_tensor([False]*np.size(val_0)))\n",
    "        print('tensor_act',tensor_act)\n",
    "    \n",
    "print('tensor_act',tensor_act)\n",
    "print(valores_afectados)\n",
    "\n",
    "mask"
   ]
  },
  {
   "cell_type": "code",
   "execution_count": 5,
   "id": "34a67180",
   "metadata": {},
   "outputs": [
    {
     "name": "stdout",
     "output_type": "stream",
     "text": [
      "valores_afectados tf.Tensor([ True  True  True  True  True  True False False], shape=(8,), dtype=bool)\n",
      "valores afectados por los errores tf.Tensor([ 7927 28543 57343    30     4 32805], shape=(6,), dtype=int32)\n",
      "valores que se deberian escribir tf.Tensor([40167 61311 64511    22    17    37], shape=(6,), dtype=int32)\n",
      "mask_0 tf.Tensor(0, shape=(), dtype=int32)\n",
      "vb_and_mask tf.Tensor([32768 32768 32768     0     0     0], shape=(6,), dtype=int32)\n"
     ]
    }
   ],
   "source": [
    "\n",
    "mask=tf.convert_to_tensor(32768,dtype=tf.int32)\n",
    "\n",
    "\n",
    "\n",
    "#crea un tensor de (T and F),donde en T están los valores afectados por los errores inyectados\n",
    "# esta matriz es la que controla si ya no hay cambios pendientes porque todos los valores han sido analizados y\n",
    "#detiene el ciclo para no iterar innecesariamente\n",
    "\n",
    "valores_afectados=tf.math.not_equal(tensor_original,tensor_with_error)\n",
    "print('valores_afectados',valores_afectados)  \n",
    "\n",
    "# Se extraen los valores que fueron afectados por los errores\n",
    "v_m=tf.gather_nd(tensor_with_error,tf.where(valores_afectados==True))\n",
    "print('valores afectados por los errores' ,v_m)\n",
    "\n",
    "#valores que se deberian escribir\n",
    "v_b=tf.gather_nd(tensor_original,tf.where(valores_afectados==True))\n",
    "print('valores que se deberian escribir' ,v_b)\n",
    "#a=np.size(v_m)\n",
    "# Creo una máscara de 0 del con la cantidad de errores afectados para ir llevando el contrl de los cambios \n",
    "#mask_0=tf.convert_to_tensor([0]*a)\n",
    "mask_0=tf.constant(0)\n",
    "print('mask_0',mask_0)\n",
    "\n",
    "vb_and_mask=tf.bitwise.bitwise_and(tf.gather_nd(tensor_original,tf.where(valores_afectados==True)),mask)\n",
    "print('vb_and_mask',vb_and_mask)\n",
    "vm_and_mask=tf.bitwise.bitwise_and(tf.gather_nd(tensor_with_error,tf.where(valores_afectados==True)),mask)\n",
    "\n",
    "\n",
    "tensor_act=tensor_original "
   ]
  },
  {
   "cell_type": "markdown",
   "id": "375396f3",
   "metadata": {},
   "source": [
    "## cosas nuevas del Mors par ahacer el shift"
   ]
  },
  {
   "cell_type": "code",
   "execution_count": 17,
   "id": "dba5ff1a",
   "metadata": {},
   "outputs": [],
   "source": [
    "#tensor_original tf.Tensor([40167 61311 64511    22    17    37    30    38], shape=(8,), dtype=int32)\n",
    "#tf.Tensor                ([ 7927 28543 57343    30     4 32805    30    38], shape=(8,), dtype=int32)"
   ]
  },
  {
   "cell_type": "code",
   "execution_count": 18,
   "id": "86e50804",
   "metadata": {},
   "outputs": [
    {
     "data": {
      "text/plain": [
       "<tf.Tensor: shape=(6,), dtype=int32, numpy=array([ 15854,  57086, 114686,     60,      8,  65610])>"
      ]
     },
     "execution_count": 18,
     "metadata": {},
     "output_type": "execute_result"
    }
   ],
   "source": [
    "tensor = tf.bitwise.left_shift(v_m, 1)\n",
    "tensor"
   ]
  },
  {
   "cell_type": "code",
   "execution_count": 19,
   "id": "e13375d8",
   "metadata": {},
   "outputs": [
    {
     "name": "stdout",
     "output_type": "stream",
     "text": [
      "faults[:,0] tf.Tensor([ 7927 28671 57343 65535 65518 65535], shape=(6,), dtype=int32)\n",
      "tf.Tensor([ 7926 20222 40958    60    12 32842], shape=(6,), dtype=int32)\n"
     ]
    }
   ],
   "source": [
    "\n",
    "static_Error0_1= ([7927,528],[28671,0],[57343,1024],[65535,12],[65518,4],[65535,32768])\n",
    "faults=tf.convert_to_tensor(static_Error0_1)\n",
    "tensor  = tf.bitwise.bitwise_and(tensor,faults[:,0])\n",
    "print('faults[:,0]',faults[:,0])\n",
    "tensor_new_with_error  = tf.bitwise.bitwise_or(tensor,faults[:,1])\n",
    "print(tensor_new_with_error)\n"
   ]
  },
  {
   "cell_type": "code",
   "execution_count": 20,
   "id": "5d6e8320",
   "metadata": {},
   "outputs": [
    {
     "data": {
      "text/plain": [
       "<tf.Tensor: shape=(6,), dtype=int32, numpy=array([ 3963, 10111, 20479,    30,     6, 16421])>"
      ]
     },
     "execution_count": 20,
     "metadata": {},
     "output_type": "execute_result"
    }
   ],
   "source": [
    "tensor = tf.bitwise.right_shift(tensor_new_with_error, 1)\n",
    "tensor"
   ]
  },
  {
   "cell_type": "code",
   "execution_count": 22,
   "id": "281a89c9",
   "metadata": {},
   "outputs": [
    {
     "data": {
      "text/plain": [
       "<tf.Tensor: shape=(8,), dtype=int32, numpy=array([ 80334, 122622, 129022,     44,     34,     74,     60,     76])>"
      ]
     },
     "execution_count": 22,
     "metadata": {},
     "output_type": "execute_result"
    }
   ],
   "source": [
    "tensor = tf.bitwise.left_shift(tensor_original, 1)\n",
    "tensor"
   ]
  },
  {
   "cell_type": "code",
   "execution_count": 23,
   "id": "426ef458",
   "metadata": {},
   "outputs": [
    {
     "name": "stdout",
     "output_type": "stream",
     "text": [
      "faults[:,0] tf.Tensor([ 7927 28671 57343 65535 65518 65535 49087 49087], shape=(8,), dtype=int32)\n",
      "tf.Tensor([ 6870 20222 55294    44    38 32842    60    12], shape=(8,), dtype=int32)\n"
     ]
    }
   ],
   "source": [
    "static_Error0_1= ([7927,528],[28671,0],[57343,1024],[65535,12],[65518,4],[65535,32768],[49087,0] ,[49087,0])\n",
    "faults=tf.convert_to_tensor(static_Error0_1)\n",
    "tensor  = tf.bitwise.bitwise_and(tensor,faults[:,0])\n",
    "print('faults[:,0]',faults[:,0])\n",
    "tensor_new_with_error  = tf.bitwise.bitwise_or(tensor,faults[:,1])\n",
    "print(tensor_new_with_error)\n"
   ]
  },
  {
   "cell_type": "code",
   "execution_count": 24,
   "id": "e102b989",
   "metadata": {},
   "outputs": [
    {
     "data": {
      "text/plain": [
       "<tf.Tensor: shape=(8,), dtype=int32, numpy=array([ 3435, 10111, 27647,    22,    19, 16421,    30,     6])>"
      ]
     },
     "execution_count": 24,
     "metadata": {},
     "output_type": "execute_result"
    }
   ],
   "source": [
    "tensor = tf.bitwise.right_shift(tensor_new_with_error, 1)\n",
    "tensor"
   ]
  },
  {
   "cell_type": "code",
   "execution_count": null,
   "id": "8b37dbb2",
   "metadata": {},
   "outputs": [],
   "source": [
    "                                              7927  28543   57343    30      4    32805     30    38            \n",
    "    tensor_original tf.Tensor([              40167  61311   64511    22      17    37       30    38]\n",
    "                 "
   ]
  },
  {
   "cell_type": "code",
   "execution_count": 21,
   "id": "679fec50",
   "metadata": {},
   "outputs": [
    {
     "name": "stdout",
     "output_type": "stream",
     "text": [
      "tf.Tensor(16384, shape=(), dtype=int32)\n",
      "vm tf.Tensor([ 7927 28543 57343    30     4 32805], shape=(6,), dtype=int32)\n",
      "vb tf.Tensor([40167 61311 64511    22    17    37], shape=(6,), dtype=int32)\n"
     ]
    }
   ],
   "source": [
    "mask=tf.bitwise.right_shift(mask,1)\n",
    "print(mask)\n",
    "v_m=tf.gather_nd(tensor_with_error,tf.where(valores_afectados==True))\n",
    "print('vm' ,v_m)\n",
    "\n",
    "#valores que se deberian escribir\n",
    "v_b=tf.gather_nd(tensor_original,tf.where(valores_afectados==True))\n",
    "print('vb', v_b)\n"
   ]
  },
  {
   "cell_type": "code",
   "execution_count": 6,
   "id": "3800aa33",
   "metadata": {},
   "outputs": [
    {
     "name": "stdout",
     "output_type": "stream",
     "text": [
      "tf.Tensor([16384 16384 16384], shape=(3,), dtype=int32)\n"
     ]
    }
   ],
   "source": [
    "mask = tf.convert_to_tensor([mask] * tf.size(v_b))\n",
    "print(mask)"
   ]
  },
  {
   "cell_type": "code",
   "execution_count": 6,
   "id": "128d88ff",
   "metadata": {},
   "outputs": [
    {
     "name": "stdout",
     "output_type": "stream",
     "text": [
      "mask tf.Tensor([8192    8   16], shape=(3,), dtype=int32)\n"
     ]
    }
   ],
   "source": [
    "for i in range(15):\n",
    "# esto es equivalente a un: if VB&&mask == VM&&mask then mask = mask >> 1 else mask = mask, para cada elemento del tensor mask\n",
    "    mask = tf.where(tf.equal(tf.bitwise.bitwise_and(v_b,mask), tf.bitwise.bitwise_and(v_m,mask)),\n",
    "                    tf.bitwise.right_shift(mask, 1),mask)\n",
    "print('mask',mask)"
   ]
  },
  {
   "cell_type": "code",
   "execution_count": 7,
   "id": "7b319153",
   "metadata": {},
   "outputs": [
    {
     "name": "stdout",
     "output_type": "stream",
     "text": [
      "tf.Tensor([65535    16    31], shape=(3,), dtype=int32)\n"
     ]
    }
   ],
   "source": [
    "new_values = tf.where(tf.math.greater(tf.bitwise.bitwise_and(v_b,0b01111111_11111111),tf.bitwise.bitwise_and(v_m,0b01111111_11111111)),\n",
    "                      tf.bitwise.bitwise_or(v_b,tf.maximum(mask-1,0)), tf.bitwise.bitwise_and(v_b,tf.bitwise.invert(tf.maximum(mask-1,0))))\n",
    "print(new_values)\n"
   ]
  },
  {
   "cell_type": "code",
   "execution_count": 8,
   "id": "8d863abb",
   "metadata": {},
   "outputs": [],
   "source": [
    "tensor_act = tf.tensor_scatter_nd_update(tensor_act, tf.where(valores_afectados==True), new_values )"
   ]
  },
  {
   "cell_type": "code",
   "execution_count": 9,
   "id": "f122369e",
   "metadata": {},
   "outputs": [
    {
     "data": {
      "text/plain": [
       "<tf.Tensor: shape=(8,), dtype=int32, numpy=array([    0,     0, 65535,    16,    31,     0,    30,    38])>"
      ]
     },
     "execution_count": 9,
     "metadata": {},
     "output_type": "execute_result"
    }
   ],
   "source": [
    "tensor_act"
   ]
  },
  {
   "cell_type": "code",
   "execution_count": null,
   "id": "d3ddeb19",
   "metadata": {},
   "outputs": [],
   "source": [
    " 0     0 65535    16    31     0    30    38"
   ]
  },
  {
   "cell_type": "code",
   "execution_count": null,
   "id": "4783bdc6",
   "metadata": {},
   "outputs": [],
   "source": []
  }
 ],
 "metadata": {
  "kernelspec": {
   "display_name": "env_first",
   "language": "python",
   "name": "env_first"
  },
  "language_info": {
   "codemirror_mode": {
    "name": "ipython",
    "version": 3
   },
   "file_extension": ".py",
   "mimetype": "text/x-python",
   "name": "python",
   "nbconvert_exporter": "python",
   "pygments_lexer": "ipython3",
   "version": "3.8.0"
  }
 },
 "nbformat": 4,
 "nbformat_minor": 5
}
