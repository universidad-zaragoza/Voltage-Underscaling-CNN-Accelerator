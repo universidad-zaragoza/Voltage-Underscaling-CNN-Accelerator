{
 "cells": [
  {
   "cell_type": "code",
   "execution_count": 1,
   "metadata": {
    "scrolled": true
   },
   "outputs": [],
   "source": [
    "#%load_ext autoreload\n",
    "#%autoreload 2\n",
    "\n",
    "import warnings\n",
    "warnings.simplefilter(action='ignore', category=FutureWarning)\n",
    "\n",
    "import tensorflow as tf\n",
    "import os\n",
    "import sys\n",
    "import numpy as np\n",
    "import pandas as pd\n",
    "import seaborn as sns\n",
    "import matplotlib.pyplot as plt\n",
    "from Training import GetDatasets\n",
    "from Nets  import GetNeuralNetworkModel\n",
    "from Stats import WeightQuantization, ActivationStats, CheckAccuracyAndLoss, QuantizationEffect, GetReadAndWrites\n",
    "from Simulation import buffer_simulation, save_obj, load_obj\n",
    "\n",
    "tf.random.set_seed(1234)\n",
    "np.random.seed(1234)"
   ]
  },
  {
   "cell_type": "markdown",
   "metadata": {},
   "source": [
    "# 1) Training"
   ]
  },
  {
   "cell_type": "markdown",
   "metadata": {},
   "source": [
    "### &nbsp;&nbsp;&nbsp;&nbsp;&nbsp;&nbsp; a) Get Dataset"
   ]
  },
  {
   "cell_type": "markdown",
   "metadata": {},
   "source": [
    "Primero Obtendremos el dataset colorectal, especificando la distribucion de entrenamiento/validacion y testing (80%,5%,15% para este caso); las dimensiones de entrada de la imagen (227,227), el numero de clases (8) y el tamaño de los batches. \n",
    "Nota: Pueden aparecer un monton de mensajes de tensorflow durante la primera ejecucion, no impactan en nada"
   ]
  },
  {
   "cell_type": "code",
   "execution_count": 2,
   "metadata": {
    "scrolled": false
   },
   "outputs": [],
   "source": [
    "train_batch_size = test_batch_size = 32\n",
    "train_set,valid_set,test_set = GetDatasets('colorectal_histology',(80,5,15),(227,227), 8, train_batch_size, test_batch_size)"
   ]
  },
  {
   "cell_type": "markdown",
   "metadata": {},
   "source": [
    "El resultado son datasets iterables como el siguiente:"
   ]
  },
  {
   "cell_type": "code",
   "execution_count": 3,
   "metadata": {},
   "outputs": [
    {
     "data": {
      "text/plain": [
       "<RepeatDataset shapes: ((None, 227, 227, 3), (None, 8)), types: (tf.float32, tf.float32)>"
      ]
     },
     "execution_count": 3,
     "metadata": {},
     "output_type": "execute_result"
    }
   ],
   "source": [
    "train_set"
   ]
  },
  {
   "cell_type": "markdown",
   "metadata": {},
   "source": [
    "### &nbsp;&nbsp;&nbsp;&nbsp;&nbsp;&nbsp; b) Get Model"
   ]
  },
  {
   "cell_type": "markdown",
   "metadata": {},
   "source": [
    "Luego creamos la red, en principio no activaremos ni la cuantizacion ni el efecto de envejecimiento"
   ]
  },
  {
   "cell_type": "code",
   "execution_count": 5,
   "metadata": {},
   "outputs": [],
   "source": [
    "AlexNet   = GetNeuralNetworkModel('AlexNet',(227,227,3),8, quantization = False, aging_active=False)\n",
    "loss      = tf.keras.losses.CategoricalCrossentropy()\n",
    "optimizer = tf.keras.optimizers.Adam(learning_rate=1e-4)\n",
    "AlexNet.compile(optimizer=optimizer, loss=loss, metrics=['accuracy'])"
   ]
  },
  {
   "cell_type": "markdown",
   "metadata": {},
   "source": [
    "con el metodo summary() se puede ver los detalles de la red capa por capa, las capas Lambda emplean la cuantizacion y envejecimiento, las cuales estan presentes pero no activas cuando estas opciones estan desactivadas"
   ]
  },
  {
   "cell_type": "code",
   "execution_count": 5,
   "metadata": {
    "scrolled": false
   },
   "outputs": [
    {
     "name": "stdout",
     "output_type": "stream",
     "text": [
      "Model: \"model\"\n",
      "_________________________________________________________________\n",
      "Layer (type)                 Output Shape              Param #   \n",
      "=================================================================\n",
      "input_1 (InputLayer)         [(None, 227, 227, 3)]     0         \n",
      "_________________________________________________________________\n",
      "lambda (Lambda)              (None, 227, 227, 3)       0         \n",
      "_________________________________________________________________\n",
      "lambda_1 (Lambda)            (None, 227, 227, 3)       0         \n",
      "_________________________________________________________________\n",
      "Conv1 (Conv2D)               (None, 55, 55, 96)        34944     \n",
      "_________________________________________________________________\n",
      "lambda_2 (Lambda)            (None, 55, 55, 96)        0         \n",
      "_________________________________________________________________\n",
      "re_lu (ReLU)                 (None, 55, 55, 96)        0         \n",
      "_________________________________________________________________\n",
      "batch_normalization (BatchNo (None, 55, 55, 96)        384       \n",
      "_________________________________________________________________\n",
      "lambda_3 (Lambda)            (None, 55, 55, 96)        0         \n",
      "_________________________________________________________________\n",
      "lambda_4 (Lambda)            (None, 55, 55, 96)        0         \n",
      "_________________________________________________________________\n",
      "max_pooling2d (MaxPooling2D) (None, 27, 27, 96)        0         \n",
      "_________________________________________________________________\n",
      "lambda_5 (Lambda)            (None, 27, 27, 96)        0         \n",
      "_________________________________________________________________\n",
      "Conv2 (Conv2D)               (None, 27, 27, 256)       614656    \n",
      "_________________________________________________________________\n",
      "lambda_6 (Lambda)            (None, 27, 27, 256)       0         \n",
      "_________________________________________________________________\n",
      "re_lu_1 (ReLU)               (None, 27, 27, 256)       0         \n",
      "_________________________________________________________________\n",
      "batch_normalization_1 (Batch (None, 27, 27, 256)       1024      \n",
      "_________________________________________________________________\n",
      "lambda_7 (Lambda)            (None, 27, 27, 256)       0         \n",
      "_________________________________________________________________\n",
      "lambda_8 (Lambda)            (None, 27, 27, 256)       0         \n",
      "_________________________________________________________________\n",
      "max_pooling2d_1 (MaxPooling2 (None, 13, 13, 256)       0         \n",
      "_________________________________________________________________\n",
      "lambda_9 (Lambda)            (None, 13, 13, 256)       0         \n",
      "_________________________________________________________________\n",
      "Conv3 (Conv2D)               (None, 13, 13, 384)       885120    \n",
      "_________________________________________________________________\n",
      "lambda_10 (Lambda)           (None, 13, 13, 384)       0         \n",
      "_________________________________________________________________\n",
      "re_lu_2 (ReLU)               (None, 13, 13, 384)       0         \n",
      "_________________________________________________________________\n",
      "batch_normalization_2 (Batch (None, 13, 13, 384)       1536      \n",
      "_________________________________________________________________\n",
      "lambda_11 (Lambda)           (None, 13, 13, 384)       0         \n",
      "_________________________________________________________________\n",
      "lambda_12 (Lambda)           (None, 13, 13, 384)       0         \n",
      "_________________________________________________________________\n",
      "Conv4 (Conv2D)               (None, 13, 13, 384)       147840    \n",
      "_________________________________________________________________\n",
      "lambda_13 (Lambda)           (None, 13, 13, 384)       0         \n",
      "_________________________________________________________________\n",
      "re_lu_3 (ReLU)               (None, 13, 13, 384)       0         \n",
      "_________________________________________________________________\n",
      "batch_normalization_3 (Batch (None, 13, 13, 384)       1536      \n",
      "_________________________________________________________________\n",
      "lambda_14 (Lambda)           (None, 13, 13, 384)       0         \n",
      "_________________________________________________________________\n",
      "lambda_15 (Lambda)           (None, 13, 13, 384)       0         \n",
      "_________________________________________________________________\n",
      "Conv5 (Conv2D)               (None, 13, 13, 256)       98560     \n",
      "_________________________________________________________________\n",
      "lambda_16 (Lambda)           (None, 13, 13, 256)       0         \n",
      "_________________________________________________________________\n",
      "re_lu_4 (ReLU)               (None, 13, 13, 256)       0         \n",
      "_________________________________________________________________\n",
      "batch_normalization_4 (Batch (None, 13, 13, 256)       1024      \n",
      "_________________________________________________________________\n",
      "lambda_17 (Lambda)           (None, 13, 13, 256)       0         \n",
      "_________________________________________________________________\n",
      "lambda_18 (Lambda)           (None, 13, 13, 256)       0         \n",
      "_________________________________________________________________\n",
      "max_pooling2d_2 (MaxPooling2 (None, 6, 6, 256)         0         \n",
      "_________________________________________________________________\n",
      "lambda_19 (Lambda)           (None, 6, 6, 256)         0         \n",
      "_________________________________________________________________\n",
      "flatten (Flatten)            (None, 9216)              0         \n",
      "_________________________________________________________________\n",
      "dense (Dense)                (None, 4096)              37752832  \n",
      "_________________________________________________________________\n",
      "lambda_20 (Lambda)           (None, 4096)              0         \n",
      "_________________________________________________________________\n",
      "re_lu_5 (ReLU)               (None, 4096)              0         \n",
      "_________________________________________________________________\n",
      "dropout (Dropout)            (None, 4096)              0         \n",
      "_________________________________________________________________\n",
      "lambda_21 (Lambda)           (None, 4096)              0         \n",
      "_________________________________________________________________\n",
      "dense_1 (Dense)              (None, 4096)              16781312  \n",
      "_________________________________________________________________\n",
      "lambda_22 (Lambda)           (None, 4096)              0         \n",
      "_________________________________________________________________\n",
      "re_lu_6 (ReLU)               (None, 4096)              0         \n",
      "_________________________________________________________________\n",
      "dropout_1 (Dropout)          (None, 4096)              0         \n",
      "_________________________________________________________________\n",
      "lambda_23 (Lambda)           (None, 4096)              0         \n",
      "_________________________________________________________________\n",
      "dense_2 (Dense)              (None, 8)                 32776     \n",
      "_________________________________________________________________\n",
      "lambda_24 (Lambda)           (None, 8)                 0         \n",
      "_________________________________________________________________\n",
      "tf.compat.v1.nn.softmax (TFO (None, 8)                 0         \n",
      "_________________________________________________________________\n",
      "lambda_25 (Lambda)           (None, 8)                 0         \n",
      "=================================================================\n",
      "Total params: 56,353,544\n",
      "Trainable params: 56,350,792\n",
      "Non-trainable params: 2,752\n",
      "_________________________________________________________________\n"
     ]
    }
   ],
   "source": [
    "AlexNet.summary()"
   ]
  },
  {
   "cell_type": "markdown",
   "metadata": {},
   "source": [
    "### &nbsp;&nbsp;&nbsp;&nbsp;&nbsp;&nbsp; c) Training"
   ]
  },
  {
   "cell_type": "markdown",
   "metadata": {},
   "source": [
    "Si se utilizan pesos ya entrenados el entrenamiento se puede omitir"
   ]
  },
  {
   "cell_type": "code",
   "execution_count": null,
   "metadata": {},
   "outputs": [],
   "source": [
    "# Early Stopping\n",
    "# --------------\n",
    "#earlyStop = tf.keras.callbacks.EarlyStopping(monitor='val_loss', patience=6, #restore_best_weights=True)\n",
    "    \n",
    "#AlexNet.fit(x=train_set,epochs=100,\n",
    "            #steps_per_epoch  =int(np.ceil(train_size / train_batch_size)),\n",
    "            #validation_data  =valid_set,\n",
    "            #validation_steps =int(np.ceil(valid_size/ train_batch_size)),\n",
    "            #callbacks=[earlyStop])"
   ]
  },
  {
   "cell_type": "markdown",
   "metadata": {},
   "source": [
    "a continuacion cargamos o guardamos los pesos en la ruta especificada usando el metodo load_weights/save_weights"
   ]
  },
  {
   "cell_type": "markdown",
   "metadata": {},
   "source": [
    "### &nbsp;&nbsp;&nbsp;&nbsp;&nbsp;&nbsp; d) Load/Save Weigths"
   ]
  },
  {
   "cell_type": "code",
   "execution_count": 6,
   "metadata": {},
   "outputs": [
    {
     "data": {
      "text/plain": [
       "<tensorflow.python.training.tracking.util.CheckpointLoadStatus at 0x1e12afab2e0>"
      ]
     },
     "execution_count": 6,
     "metadata": {},
     "output_type": "execute_result"
    }
   ],
   "source": [
    "cwd = os.getcwd()\n",
    "wgt_dir = os.path.join(cwd, 'Data')\n",
    "wgt_dir = os.path.join(wgt_dir, 'Trained Weights')\n",
    "wgt_dir = os.path.join(wgt_dir, 'AlexNet')\n",
    "wgt_dir = os.path.join(wgt_dir, 'Colorectal Dataset')\n",
    "wgt_dir = os.path.join(wgt_dir,'Weights')\n",
    "AlexNet.load_weights(wgt_dir)"
   ]
  },
  {
   "cell_type": "markdown",
   "metadata": {},
   "source": [
    "podemos evaluar el accuracy y loss de la red"
   ]
  },
  {
   "cell_type": "code",
   "execution_count": 7,
   "metadata": {},
   "outputs": [
    {
     "name": "stdout",
     "output_type": "stream",
     "text": [
      "24/24 [==============================] - 19s 704ms/step - loss: 0.3156 - accuracy: 0.8853\n"
     ]
    }
   ],
   "source": [
    "(OrigLoss,OrigAcc) = AlexNet.evaluate(test_set)"
   ]
  },
  {
   "cell_type": "markdown",
   "metadata": {},
   "source": [
    "# 2) Stats"
   ]
  },
  {
   "cell_type": "markdown",
   "metadata": {},
   "source": [
    "### &nbsp;&nbsp;&nbsp;&nbsp;&nbsp;&nbsp; Write/Read Stats"
   ]
  },
  {
   "cell_type": "markdown",
   "metadata": {},
   "source": [
    "primero identificamos (manualmente) las capas procesadadas(Convoluciones, Full conectadas y Pooling) junto a las capas que contienen los resultados que se escribiran en el buffer (capas luego de la funcion de activacion y/o Normalizacion)"
   ]
  },
  {
   "cell_type": "code",
   "execution_count": 9,
   "metadata": {
    "scrolled": false
   },
   "outputs": [
    {
     "name": "stdout",
     "output_type": "stream",
     "text": [
      "0 input_1\n",
      "1 lambda\n",
      "2 lambda_1\n",
      "3 Conv1\n",
      "4 lambda_2\n",
      "5 re_lu\n",
      "6 batch_normalization\n",
      "7 lambda_3\n",
      "8 lambda_4\n",
      "9 max_pooling2d\n",
      "10 lambda_5\n",
      "11 Conv2\n",
      "12 lambda_6\n",
      "13 re_lu_1\n",
      "14 batch_normalization_1\n",
      "15 lambda_7\n",
      "16 lambda_8\n",
      "17 max_pooling2d_1\n",
      "18 lambda_9\n",
      "19 Conv3\n",
      "20 lambda_10\n",
      "21 re_lu_2\n",
      "22 batch_normalization_2\n",
      "23 lambda_11\n",
      "24 lambda_12\n",
      "25 Conv4\n",
      "26 lambda_13\n",
      "27 re_lu_3\n",
      "28 batch_normalization_3\n",
      "29 lambda_14\n",
      "30 lambda_15\n",
      "31 Conv5\n",
      "32 lambda_16\n",
      "33 re_lu_4\n",
      "34 batch_normalization_4\n",
      "35 lambda_17\n",
      "36 lambda_18\n",
      "37 max_pooling2d_2\n",
      "38 lambda_19\n",
      "39 flatten\n",
      "40 dense\n",
      "41 lambda_20\n",
      "42 re_lu_5\n",
      "43 dropout\n",
      "44 lambda_21\n",
      "45 dense_1\n",
      "46 lambda_22\n",
      "47 re_lu_6\n",
      "48 dropout_1\n",
      "49 lambda_23\n",
      "50 dense_2\n",
      "51 lambda_24\n",
      "52 tf.compat.v1.nn.softmax\n",
      "53 lambda_25\n",
      "Las capas 0,3,9,11,17,19,25,31,37,40,45 y 50  contienen la informacion para su procesamiento en MMU\n",
      "Las capas 2,8,10,16,18,24,30,36,38,44,49 y 53 contienen las activaciones que son escritas en memoria\n"
     ]
    }
   ],
   "source": [
    "for index,layer in enumerate(AlexNet.layers):\n",
    "    print(index,layer.name)\n",
    "print('Las capas 0,3,9,11,17,19,25,31,37,40,45 y 50  contienen la informacion para su procesamiento')\n",
    "print('Las capas 2,8,10,16,18,24,30,36,38,44,49 y 53 contienen las activaciones que son escritas en memoria')"
   ]
  },
  {
   "cell_type": "markdown",
   "metadata": {},
   "source": [
    "con el siguiente bloque obtenemos el numero de lecturas y escrituras por posicion de memoria tanto usando la estrategia de CNN Gating o sin usarla"
   ]
  },
  {
   "cell_type": "code",
   "execution_count": null,
   "metadata": {},
   "outputs": [],
   "source": [
    "num_address  = 290400\n",
    "Indices      = [0,3,9,11,17,19,25,31,37,40,45,50]\n",
    "samples      = 10\n",
    "# Sin Power Gating:\n",
    "Data         = GetReadAndWrites(AlexNet,Indices,num_address,samples,CNN_gating=False)\n",
    "stats        = {'Lecturas': Data['Reads'],'Escrituras': Data['Writes']}\n",
    "Baseline_Acceses   = pd.DataFrame(stats).reset_index(drop=False)\n",
    "# Con Power Gating\n",
    "Data     = GetReadAndWrites(AlexNet,Indices,num_address,samples,CNN_gating=True)\n",
    "stats    = {'Lecturas': Data['Reads'],'Escrituras': Data['Writes']}\n",
    "CNN_gating_Acceses = pd.DataFrame(stats).reset_index(drop=False)\n",
    "#save_obj(Baseline_Acceses,'Data/Acceses/AlexNet/Colorectal Dataset/Baseline')\n",
    "#save_obj(CNN_gating_Acceses,'Data/Acceses/AlexNet/CNN_gating_Adj')"
   ]
  },
  {
   "cell_type": "code",
   "execution_count": 8,
   "metadata": {
    "scrolled": false
   },
   "outputs": [],
   "source": [
    "num_address  = 290400  # Tamaño del buffer, igual a la capa mas grande de la red (este caso), o un tamaño fijo pre-establecido.\n",
    "Indices      = [0,3,9,11,17,19,25,31,37,40,45,50] #Capas con la informacion de procesamiento \n",
    "samples      = 10 #Numero de imagenes\n",
    "# Sin Power Gating:\n",
    "Data         = GetReadAndWrites(AlexNet,Indices,num_address,samples,CNN_gating=False)\n",
    "stats        = {'Lecturas': Data['Reads'],'Escrituras': Data['Writes']}\n",
    "Baseline_Acceses   = pd.DataFrame(stats).reset_index(drop=False)\n",
    "# Con Power Gating\n",
    "Data     = GetReadAndWrites(AlexNet,Indices,num_address,samples,CNN_gating=True)\n",
    "stats    = {'Lecturas': Data['Reads'],'Escrituras': Data['Writes']}\n",
    "CNN_gating_Acceses = pd.DataFrame(stats).reset_index(drop=False)\n",
    "#save_obj(Baseline_Acceses,'Data/Acceses/AlexNet/Colorectal Dataset/Baseline')\n",
    "#save_obj(CNN_gating_Acceses,'Data/Acceses/AlexNet/CNN_gating_Adj')"
   ]
  },
  {
   "cell_type": "code",
   "execution_count": null,
   "metadata": {},
   "outputs": [],
   "source": []
  },
  {
   "cell_type": "markdown",
   "metadata": {},
   "source": [
    "Como resultado tenemos los siguientes dataframes"
   ]
  },
  {
   "cell_type": "code",
   "execution_count": 9,
   "metadata": {},
   "outputs": [
    {
     "data": {
      "text/html": [
       "<div>\n",
       "<style scoped>\n",
       "    .dataframe tbody tr th:only-of-type {\n",
       "        vertical-align: middle;\n",
       "    }\n",
       "\n",
       "    .dataframe tbody tr th {\n",
       "        vertical-align: top;\n",
       "    }\n",
       "\n",
       "    .dataframe thead th {\n",
       "        text-align: right;\n",
       "    }\n",
       "</style>\n",
       "<table border=\"1\" class=\"dataframe\">\n",
       "  <thead>\n",
       "    <tr style=\"text-align: right;\">\n",
       "      <th></th>\n",
       "      <th>index</th>\n",
       "      <th>Lecturas</th>\n",
       "      <th>Escrituras</th>\n",
       "    </tr>\n",
       "  </thead>\n",
       "  <tbody>\n",
       "    <tr>\n",
       "      <th>0</th>\n",
       "      <td>0</td>\n",
       "      <td>687860</td>\n",
       "      <td>55</td>\n",
       "    </tr>\n",
       "    <tr>\n",
       "      <th>1</th>\n",
       "      <td>1</td>\n",
       "      <td>687860</td>\n",
       "      <td>55</td>\n",
       "    </tr>\n",
       "    <tr>\n",
       "      <th>2</th>\n",
       "      <td>2</td>\n",
       "      <td>687860</td>\n",
       "      <td>55</td>\n",
       "    </tr>\n",
       "    <tr>\n",
       "      <th>3</th>\n",
       "      <td>3</td>\n",
       "      <td>687860</td>\n",
       "      <td>55</td>\n",
       "    </tr>\n",
       "    <tr>\n",
       "      <th>4</th>\n",
       "      <td>4</td>\n",
       "      <td>687860</td>\n",
       "      <td>55</td>\n",
       "    </tr>\n",
       "    <tr>\n",
       "      <th>...</th>\n",
       "      <td>...</td>\n",
       "      <td>...</td>\n",
       "      <td>...</td>\n",
       "    </tr>\n",
       "    <tr>\n",
       "      <th>290395</th>\n",
       "      <td>290395</td>\n",
       "      <td>0</td>\n",
       "      <td>0</td>\n",
       "    </tr>\n",
       "    <tr>\n",
       "      <th>290396</th>\n",
       "      <td>290396</td>\n",
       "      <td>0</td>\n",
       "      <td>0</td>\n",
       "    </tr>\n",
       "    <tr>\n",
       "      <th>290397</th>\n",
       "      <td>290397</td>\n",
       "      <td>0</td>\n",
       "      <td>0</td>\n",
       "    </tr>\n",
       "    <tr>\n",
       "      <th>290398</th>\n",
       "      <td>290398</td>\n",
       "      <td>0</td>\n",
       "      <td>0</td>\n",
       "    </tr>\n",
       "    <tr>\n",
       "      <th>290399</th>\n",
       "      <td>290399</td>\n",
       "      <td>0</td>\n",
       "      <td>0</td>\n",
       "    </tr>\n",
       "  </tbody>\n",
       "</table>\n",
       "<p>290400 rows × 3 columns</p>\n",
       "</div>"
      ],
      "text/plain": [
       "         index  Lecturas  Escrituras\n",
       "0            0    687860          55\n",
       "1            1    687860          55\n",
       "2            2    687860          55\n",
       "3            3    687860          55\n",
       "4            4    687860          55\n",
       "...        ...       ...         ...\n",
       "290395  290395         0           0\n",
       "290396  290396         0           0\n",
       "290397  290397         0           0\n",
       "290398  290398         0           0\n",
       "290399  290399         0           0\n",
       "\n",
       "[290400 rows x 3 columns]"
      ]
     },
     "execution_count": 9,
     "metadata": {},
     "output_type": "execute_result"
    }
   ],
   "source": [
    "Baseline_Acceses"
   ]
  },
  {
   "cell_type": "code",
   "execution_count": 10,
   "metadata": {},
   "outputs": [
    {
     "data": {
      "text/html": [
       "<div>\n",
       "<style scoped>\n",
       "    .dataframe tbody tr th:only-of-type {\n",
       "        vertical-align: middle;\n",
       "    }\n",
       "\n",
       "    .dataframe tbody tr th {\n",
       "        vertical-align: top;\n",
       "    }\n",
       "\n",
       "    .dataframe thead th {\n",
       "        text-align: right;\n",
       "    }\n",
       "</style>\n",
       "<table border=\"1\" class=\"dataframe\">\n",
       "  <thead>\n",
       "    <tr style=\"text-align: right;\">\n",
       "      <th></th>\n",
       "      <th>index</th>\n",
       "      <th>Lecturas</th>\n",
       "      <th>Escrituras</th>\n",
       "    </tr>\n",
       "  </thead>\n",
       "  <tbody>\n",
       "    <tr>\n",
       "      <th>0</th>\n",
       "      <td>0</td>\n",
       "      <td>1246596</td>\n",
       "      <td>197</td>\n",
       "    </tr>\n",
       "    <tr>\n",
       "      <th>1</th>\n",
       "      <td>1</td>\n",
       "      <td>1246596</td>\n",
       "      <td>197</td>\n",
       "    </tr>\n",
       "    <tr>\n",
       "      <th>2</th>\n",
       "      <td>2</td>\n",
       "      <td>1246596</td>\n",
       "      <td>197</td>\n",
       "    </tr>\n",
       "    <tr>\n",
       "      <th>3</th>\n",
       "      <td>3</td>\n",
       "      <td>1246540</td>\n",
       "      <td>197</td>\n",
       "    </tr>\n",
       "    <tr>\n",
       "      <th>4</th>\n",
       "      <td>4</td>\n",
       "      <td>1246540</td>\n",
       "      <td>197</td>\n",
       "    </tr>\n",
       "    <tr>\n",
       "      <th>...</th>\n",
       "      <td>...</td>\n",
       "      <td>...</td>\n",
       "      <td>...</td>\n",
       "    </tr>\n",
       "    <tr>\n",
       "      <th>290395</th>\n",
       "      <td>290395</td>\n",
       "      <td>8130</td>\n",
       "      <td>95</td>\n",
       "    </tr>\n",
       "    <tr>\n",
       "      <th>290396</th>\n",
       "      <td>290396</td>\n",
       "      <td>8130</td>\n",
       "      <td>95</td>\n",
       "    </tr>\n",
       "    <tr>\n",
       "      <th>290397</th>\n",
       "      <td>290397</td>\n",
       "      <td>8586</td>\n",
       "      <td>95</td>\n",
       "    </tr>\n",
       "    <tr>\n",
       "      <th>290398</th>\n",
       "      <td>290398</td>\n",
       "      <td>8586</td>\n",
       "      <td>95</td>\n",
       "    </tr>\n",
       "    <tr>\n",
       "      <th>290399</th>\n",
       "      <td>290399</td>\n",
       "      <td>8586</td>\n",
       "      <td>95</td>\n",
       "    </tr>\n",
       "  </tbody>\n",
       "</table>\n",
       "<p>290400 rows × 3 columns</p>\n",
       "</div>"
      ],
      "text/plain": [
       "         index  Lecturas  Escrituras\n",
       "0            0   1246596         197\n",
       "1            1   1246596         197\n",
       "2            2   1246596         197\n",
       "3            3   1246540         197\n",
       "4            4   1246540         197\n",
       "...        ...       ...         ...\n",
       "290395  290395      8130          95\n",
       "290396  290396      8130          95\n",
       "290397  290397      8586          95\n",
       "290398  290398      8586          95\n",
       "290399  290399      8586          95\n",
       "\n",
       "[290400 rows x 3 columns]"
      ]
     },
     "execution_count": 10,
     "metadata": {},
     "output_type": "execute_result"
    }
   ],
   "source": [
    "CNN_gating_Acceses"
   ]
  },
  {
   "cell_type": "markdown",
   "metadata": {},
   "source": [
    "# 3) Quantization "
   ]
  },
  {
   "cell_type": "markdown",
   "metadata": {},
   "source": [
    "### &nbsp;&nbsp;&nbsp;&nbsp;&nbsp;&nbsp; a) Number of bits analysis"
   ]
  },
  {
   "cell_type": "markdown",
   "metadata": {},
   "source": [
    "Ahora veremos como afecta la cuantizacion, tanto en pesos como en activaciones a la accuracy y loss"
   ]
  },
  {
   "cell_type": "code",
   "execution_count": 10,
   "metadata": {
    "scrolled": false
   },
   "outputs": [
    {
     "name": "stdout",
     "output_type": "stream",
     "text": [
      "Activation fraction part\n",
      "0  bits results:  acc:  0.35333332419395447 loss:  nan\n",
      "1  bits results:  acc:  0.2906666696071625 loss:  10.392989158630371\n",
      "2  bits results:  acc:  0.46399998664855957 loss:  7.116844177246094\n",
      "3  bits results:  acc:  0.6466666460037231 loss:  3.614518642425537\n",
      "4  bits results:  acc:  0.8853333592414856 loss:  0.4704638123512268\n",
      "5  bits results:  acc:  0.8840000033378601 loss:  0.4086548686027527\n",
      "6  bits results:  acc:  0.8893333077430725 loss:  0.3361590504646301\n",
      "7  bits results:  acc:  0.8866666555404663 loss:  0.3258691728115082\n",
      "8  bits results:  acc:  0.8853333592414856 loss:  0.32843855023384094\n",
      "9  bits results:  acc:  0.8840000033378601 loss:  0.31434640288352966\n",
      "10  bits results:  acc:  0.8853333592414856 loss:  0.315902441740036\n",
      "11  bits results:  acc:  0.8853333592414856 loss:  0.31570637226104736\n",
      "12  bits results:  acc:  0.8853333592414856 loss:  0.31554484367370605\n",
      "13  bits results:  acc:  0.8853333592414856 loss:  0.3156767189502716\n",
      "14  bits results:  acc:  0.8853333592414856 loss:  0.3156206011772156\n",
      "Weights fraction part\n",
      "0  bits results:  acc:  0.11733333021402359 loss:  2.0794413089752197\n",
      "1  bits results:  acc:  0.11733333021402359 loss:  2.0794413089752197\n",
      "2  bits results:  acc:  0.11733333021402359 loss:  2.0794413089752197\n",
      "3  bits results:  acc:  0.11733333021402359 loss:  2.0794413089752197\n",
      "4  bits results:  acc:  0.11599999666213989 loss:  6.910545349121094\n",
      "5  bits results:  acc:  0.19066666066646576 loss:  7.691548824310303\n",
      "6  bits results:  acc:  0.7213333249092102 loss:  0.641741931438446\n",
      "7  bits results:  acc:  0.8519999980926514 loss:  0.4112683832645416\n",
      "8  bits results:  acc:  0.8893333077430725 loss:  0.3387487828731537\n",
      "9  bits results:  acc:  0.8853333592414856 loss:  0.34192419052124023\n",
      "10  bits results:  acc:  0.890666663646698 loss:  0.3169030249118805\n",
      "11  bits results:  acc:  0.8840000033378601 loss:  0.31711652874946594\n",
      "12  bits results:  acc:  0.8880000114440918 loss:  0.31569212675094604\n",
      "13  bits results:  acc:  0.8826666474342346 loss:  0.31668150424957275\n",
      "14  bits results:  acc:  0.8853333592414856 loss:  0.31547224521636963\n",
      "Activation integer part\n",
      "0  bits results:  acc:  0.11599999666213989 loss:  2.2177481651306152\n",
      "1  bits results:  acc:  0.3440000116825104 loss:  1.811159610748291\n",
      "2  bits results:  acc:  0.7160000205039978 loss:  0.8569684028625488\n",
      "3  bits results:  acc:  0.8546666502952576 loss:  0.40941378474235535\n",
      "4  bits results:  acc:  0.8826666474342346 loss:  0.31773868203163147\n",
      "5  bits results:  acc:  0.8853333592414856 loss:  0.3156435787677765\n",
      "6  bits results:  acc:  0.8853333592414856 loss:  0.31560343503952026\n",
      "7  bits results:  acc:  0.8853333592414856 loss:  0.31560343503952026\n",
      "8  bits results:  acc:  0.8853333592414856 loss:  0.31560343503952026\n",
      "9  bits results:  acc:  0.8853333592414856 loss:  0.31560343503952026\n",
      "10  bits results:  acc:  0.8853333592414856 loss:  0.31560343503952026\n",
      "11  bits results:  acc:  0.8853333592414856 loss:  0.31560343503952026\n",
      "12  bits results:  acc:  0.8853333592414856 loss:  0.31560343503952026\n",
      "13  bits results:  acc:  0.8853333592414856 loss:  0.31560343503952026\n",
      "14  bits results:  acc:  0.8853333592414856 loss:  0.31560343503952026\n",
      "Weights integer part\n",
      "0  bits results:  acc:  0.5040000081062317 loss:  2.6318717002868652\n",
      "1  bits results:  acc:  0.7720000147819519 loss:  0.8004166483879089\n",
      "2  bits results:  acc:  0.871999979019165 loss:  0.34121251106262207\n",
      "3  bits results:  acc:  0.8893333077430725 loss:  0.3005177080631256\n",
      "4  bits results:  acc:  0.890666663646698 loss:  0.30910345911979675\n",
      "5  bits results:  acc:  0.8853333592414856 loss:  0.3154727816581726\n",
      "6  bits results:  acc:  0.8853333592414856 loss:  0.31560343503952026\n",
      "7  bits results:  acc:  0.8853333592414856 loss:  0.31560343503952026\n",
      "8  bits results:  acc:  0.8853333592414856 loss:  0.31560343503952026\n",
      "9  bits results:  acc:  0.8853333592414856 loss:  0.31560343503952026\n",
      "10  bits results:  acc:  0.8853333592414856 loss:  0.31560343503952026\n",
      "11  bits results:  acc:  0.8853333592414856 loss:  0.31560343503952026\n",
      "12  bits results:  acc:  0.8853333592414856 loss:  0.31560343503952026\n",
      "13  bits results:  acc:  0.8853333592414856 loss:  0.31560343503952026\n",
      "14  bits results:  acc:  0.8853333592414856 loss:  0.31560343503952026\n"
     ]
    }
   ],
   "source": [
    "df = QuantizationEffect('AlexNet',test_set,wgt_dir,(227,227,3),8,test_batch_size)\n",
    "save_obj(df,'Data/Quantization/AlexNet/Colorectal Dataset/Quantization')"
   ]
  },
  {
   "cell_type": "markdown",
   "metadata": {},
   "source": [
    "### &nbsp;&nbsp;&nbsp;&nbsp;&nbsp;&nbsp; b) Used Config"
   ]
  },
  {
   "cell_type": "markdown",
   "metadata": {},
   "source": [
    "En base a lo anterior parece prudente usar 11 bits de fraccion junto a 4 bits de parte entera tanto para pesos como activaciones, los resultados bajo esa configuracion se pueden obtener usando la funcion CheckAccurucyAndLoss()"
   ]
  },
  {
   "cell_type": "code",
   "execution_count": 11,
   "metadata": {
    "scrolled": false
   },
   "outputs": [
    {
     "name": "stdout",
     "output_type": "stream",
     "text": [
      "24/24 [==============================] - 1s 22ms/step - loss: 0.3125 - accuracy: 0.8907\n"
     ]
    }
   ],
   "source": [
    "CheckAccuracyAndLoss('AlexNet', test_set, wgt_dir, act_frac_size = 11, act_int_size = 4, wgt_frac_size = 11, wgt_int_size = 4, \n",
    "                    input_shape = (227,227,3), output_shape = 8, batch_size = test_batch_size);"
   ]
  },
  {
   "cell_type": "markdown",
   "metadata": {},
   "source": [
    "### &nbsp;&nbsp;&nbsp;&nbsp;&nbsp;&nbsp;  c) Activation Stats"
   ]
  },
  {
   "cell_type": "markdown",
   "metadata": {},
   "source": [
    "Por otro lado, para la configuracion anterior, veremos el valor medio,maximo,minimo y el ratio de saturacion tanto de las activaciones procesadas dentro de la unidad matricial de multiplicacion como de las almacenadas en el buffer. Nota: el ultimo parametro indica el numero de iteraciones que se deben realizar hasta agotar el dataset, se obtiene como numero de imagenes del dataset dividido en el batch size."
   ]
  },
  {
   "cell_type": "code",
   "execution_count": 10,
   "metadata": {},
   "outputs": [
    {
     "name": "stdout",
     "output_type": "stream",
     "text": [
      "mean value (MMU): -0.18011768\n",
      "mean value (Buffer): 0.13878344\n",
      "maximum (MMU): 45.118935\n",
      "minimum (MMU): -76.98705\n",
      "maximum (Buffer): 44.172142\n",
      "minimum (Buffer): -3.4607625\n",
      "saturation ratio (MMU): 0.002840600757529724\n",
      "saturation ratio (Buffer): 7.009283344612763e-06\n"
     ]
    }
   ],
   "source": [
    "ActivationStats(AlexNet,test_set,11,4,24)"
   ]
  },
  {
   "cell_type": "markdown",
   "metadata": {},
   "source": [
    "# 3) Buffer Simulation"
   ]
  },
  {
   "cell_type": "markdown",
   "metadata": {},
   "source": [
    "### &nbsp;&nbsp;&nbsp;&nbsp;&nbsp;&nbsp; a) Baseline"
   ]
  },
  {
   "cell_type": "markdown",
   "metadata": {},
   "source": [
    "Ahora para el Baseline simularemos el comportamiento de 1 buffer durante la inferencia de 3 imagenes (solo 3 como ejemplo), la red se crea ahora activando la cuantizacion pero no el envejecimiento. LI y AI son los definidos en el item 2) Stats"
   ]
  },
  {
   "cell_type": "code",
   "execution_count": 7,
   "metadata": {
    "scrolled": true
   },
   "outputs": [
    {
     "name": "stdout",
     "output_type": "stream",
     "text": [
      "buffer sections:  [0, 36300, 72600, 108900, 145200, 181500, 217800, 254100, 290400]\n",
      "Simulation Started, time: 17:16:22 cycles:  0 offset:  0\n"
     ]
    },
    {
     "ename": "CudaSupportError",
     "evalue": "Error at driver init: \n\nCUDA driver library cannot be found.\nIf you are sure that a CUDA driver is installed,\ntry setting environment variable NUMBA_CUDA_DRIVER\nwith the file path of the CUDA driver shared library.\n:",
     "output_type": "error",
     "traceback": [
      "\u001b[1;31m---------------------------------------------------------------------------\u001b[0m",
      "\u001b[1;31mCudaSupportError\u001b[0m                          Traceback (most recent call last)",
      "\u001b[1;32m<ipython-input-7-7a22e2afb109>\u001b[0m in \u001b[0;36m<module>\u001b[1;34m\u001b[0m\n\u001b[0;32m     16\u001b[0m \u001b[0mLI\u001b[0m \u001b[1;33m=\u001b[0m \u001b[1;33m[\u001b[0m\u001b[1;36m0\u001b[0m\u001b[1;33m,\u001b[0m\u001b[1;36m3\u001b[0m\u001b[1;33m,\u001b[0m\u001b[1;36m9\u001b[0m\u001b[1;33m,\u001b[0m\u001b[1;36m11\u001b[0m\u001b[1;33m,\u001b[0m\u001b[1;36m17\u001b[0m\u001b[1;33m,\u001b[0m\u001b[1;36m19\u001b[0m\u001b[1;33m,\u001b[0m\u001b[1;36m25\u001b[0m\u001b[1;33m,\u001b[0m\u001b[1;36m31\u001b[0m\u001b[1;33m,\u001b[0m\u001b[1;36m37\u001b[0m\u001b[1;33m,\u001b[0m\u001b[1;36m40\u001b[0m\u001b[1;33m,\u001b[0m\u001b[1;36m45\u001b[0m\u001b[1;33m,\u001b[0m\u001b[1;36m50\u001b[0m\u001b[1;33m]\u001b[0m\u001b[1;33m\u001b[0m\u001b[1;33m\u001b[0m\u001b[0m\n\u001b[0;32m     17\u001b[0m \u001b[0mAI\u001b[0m \u001b[1;33m=\u001b[0m \u001b[1;33m[\u001b[0m\u001b[1;36m2\u001b[0m\u001b[1;33m,\u001b[0m\u001b[1;36m8\u001b[0m\u001b[1;33m,\u001b[0m\u001b[1;36m10\u001b[0m\u001b[1;33m,\u001b[0m\u001b[1;36m16\u001b[0m\u001b[1;33m,\u001b[0m\u001b[1;36m18\u001b[0m\u001b[1;33m,\u001b[0m\u001b[1;36m24\u001b[0m\u001b[1;33m,\u001b[0m\u001b[1;36m30\u001b[0m\u001b[1;33m,\u001b[0m\u001b[1;36m36\u001b[0m\u001b[1;33m,\u001b[0m\u001b[1;36m38\u001b[0m\u001b[1;33m,\u001b[0m\u001b[1;36m44\u001b[0m\u001b[1;33m,\u001b[0m\u001b[1;36m49\u001b[0m\u001b[1;33m,\u001b[0m\u001b[1;36m53\u001b[0m\u001b[1;33m]\u001b[0m\u001b[1;33m\u001b[0m\u001b[1;33m\u001b[0m\u001b[0m\n\u001b[1;32m---> 18\u001b[1;33m Buffer,ciclos =  buffer_simulation(QAlexNet, test_set, integer_bits = 4, fractional_bits = 11, samples = 3, start_from = 0,\n\u001b[0m\u001b[0;32m     19\u001b[0m                                   \u001b[0mbit_invertion\u001b[0m \u001b[1;33m=\u001b[0m \u001b[1;32mFalse\u001b[0m\u001b[1;33m,\u001b[0m \u001b[0mbit_shifting\u001b[0m \u001b[1;33m=\u001b[0m \u001b[1;32mFalse\u001b[0m\u001b[1;33m,\u001b[0m \u001b[0mCNN_gating\u001b[0m \u001b[1;33m=\u001b[0m \u001b[1;32mFalse\u001b[0m\u001b[1;33m,\u001b[0m\u001b[1;33m\u001b[0m\u001b[1;33m\u001b[0m\u001b[0m\n\u001b[0;32m     20\u001b[0m                                   \u001b[0mbuffer_size\u001b[0m \u001b[1;33m=\u001b[0m \u001b[1;36m2\u001b[0m\u001b[1;33m*\u001b[0m\u001b[1;36m290400\u001b[0m\u001b[1;33m,\u001b[0m \u001b[0mwrite_mode\u001b[0m \u001b[1;33m=\u001b[0m\u001b[1;34m'default'\u001b[0m\u001b[1;33m,\u001b[0m \u001b[0msave_results\u001b[0m \u001b[1;33m=\u001b[0m \u001b[1;32mFalse\u001b[0m\u001b[1;33m,\u001b[0m\u001b[1;33m\u001b[0m\u001b[1;33m\u001b[0m\u001b[0m\n",
      "\u001b[1;32m~\\Desktop\\CNN_gating\\Simulation.py\u001b[0m in \u001b[0;36mbuffer_simulation\u001b[1;34m(network, dataset, samples, integer_bits, fractional_bits, bit_invertion, bit_shifting, write_mode, CNN_gating, buffer_size, start_from, results_dir, layer_indexes, activation_indixes, save_results, network_type)\u001b[0m\n\u001b[0;32m    483\u001b[0m                 \u001b[1;32mif\u001b[0m \u001b[0mnetwork_type\u001b[0m \u001b[1;33m==\u001b[0m \u001b[1;34m'MobileNet'\u001b[0m\u001b[1;33m:\u001b[0m\u001b[1;33m\u001b[0m\u001b[1;33m\u001b[0m\u001b[0m\n\u001b[0;32m    484\u001b[0m                         \u001b[0mactivacions\u001b[0m\u001b[1;33m[\u001b[0m\u001b[1;33m-\u001b[0m\u001b[1;36m1\u001b[0m\u001b[1;33m]\u001b[0m \u001b[1;33m=\u001b[0m \u001b[0mactivacions\u001b[0m\u001b[1;33m[\u001b[0m\u001b[1;33m-\u001b[0m\u001b[1;36m1\u001b[0m\u001b[1;33m]\u001b[0m\u001b[1;33m.\u001b[0m\u001b[0mreshape\u001b[0m\u001b[1;33m(\u001b[0m\u001b[1;33m(\u001b[0m\u001b[1;36m1\u001b[0m\u001b[1;33m,\u001b[0m\u001b[1;36m1\u001b[0m\u001b[1;33m,\u001b[0m\u001b[1;36m1\u001b[0m\u001b[1;33m,\u001b[0m\u001b[0mactivacions\u001b[0m\u001b[1;33m[\u001b[0m\u001b[1;33m-\u001b[0m\u001b[1;36m1\u001b[0m\u001b[1;33m]\u001b[0m\u001b[1;33m.\u001b[0m\u001b[0msize\u001b[0m\u001b[1;33m)\u001b[0m\u001b[1;33m)\u001b[0m\u001b[1;33m\u001b[0m\u001b[1;33m\u001b[0m\u001b[0m\n\u001b[1;32m--> 485\u001b[1;33m                 \u001b[0mcycles\u001b[0m \u001b[1;33m+=\u001b[0m \u001b[0msimulate_one_image\u001b[0m\u001b[1;33m(\u001b[0m\u001b[0mlayers\u001b[0m\u001b[1;33m,\u001b[0m\u001b[0mactivacions\u001b[0m\u001b[1;33m,\u001b[0m\u001b[0mconfig\u001b[0m\u001b[1;33m,\u001b[0m \u001b[0mbuffer\u001b[0m\u001b[1;33m,\u001b[0m \u001b[0mindex\u001b[0m\u001b[1;33m%\u001b[0m\u001b[1;36m2\u001b[0m\u001b[1;33m)\u001b[0m\u001b[1;33m\u001b[0m\u001b[1;33m\u001b[0m\u001b[0m\n\u001b[0m\u001b[0;32m    486\u001b[0m                 \u001b[0mbuffer\u001b[0m\u001b[1;33m[\u001b[0m\u001b[1;34m'LowCyclesCount'\u001b[0m\u001b[1;33m]\u001b[0m \u001b[1;33m=\u001b[0m \u001b[0mcycles\u001b[0m \u001b[1;33m-\u001b[0m  \u001b[0mbuffer\u001b[0m\u001b[1;33m[\u001b[0m\u001b[1;34m'HighCyclesCount'\u001b[0m\u001b[1;33m]\u001b[0m  \u001b[1;33m-\u001b[0m  \u001b[0mbuffer\u001b[0m\u001b[1;33m[\u001b[0m\u001b[1;34m'OffCyclesCount'\u001b[0m\u001b[1;33m]\u001b[0m\u001b[1;33m\u001b[0m\u001b[1;33m\u001b[0m\u001b[0m\n\u001b[0;32m    487\u001b[0m                 \u001b[1;31m# Update duty strategies\u001b[0m\u001b[1;33m\u001b[0m\u001b[1;33m\u001b[0m\u001b[1;33m\u001b[0m\u001b[0m\n",
      "\u001b[1;32m~\\Desktop\\CNN_gating\\Simulation.py\u001b[0m in \u001b[0;36msimulate_one_image\u001b[1;34m(layers, activations, config, buffer, first_buffer)\u001b[0m\n\u001b[0;32m    415\u001b[0m         \u001b[1;32mfor\u001b[0m \u001b[0mindex\u001b[0m\u001b[1;33m,\u001b[0m\u001b[0mlayer\u001b[0m \u001b[1;32min\u001b[0m \u001b[0menumerate\u001b[0m\u001b[1;33m(\u001b[0m\u001b[0mlayers\u001b[0m\u001b[1;33m)\u001b[0m\u001b[1;33m:\u001b[0m\u001b[1;33m\u001b[0m\u001b[1;33m\u001b[0m\u001b[0m\n\u001b[0;32m    416\u001b[0m                 \u001b[0mtmp\u001b[0m \u001b[1;33m=\u001b[0m \u001b[0mcycles\u001b[0m\u001b[1;33m\u001b[0m\u001b[1;33m\u001b[0m\u001b[0m\n\u001b[1;32m--> 417\u001b[1;33m                 \u001b[0mcycles\u001b[0m \u001b[1;33m+=\u001b[0m \u001b[0mhandle_layer\u001b[0m\u001b[1;33m(\u001b[0m\u001b[0mbuffer\u001b[0m\u001b[1;33m,\u001b[0m\u001b[0mlayer\u001b[0m\u001b[1;33m,\u001b[0m\u001b[0mactivations\u001b[0m\u001b[1;33m[\u001b[0m\u001b[0mindex\u001b[0m\u001b[1;33m]\u001b[0m\u001b[1;33m,\u001b[0m\u001b[1;33m(\u001b[0m\u001b[0mfirst_buffer\u001b[0m\u001b[1;33m+\u001b[0m\u001b[0mindex\u001b[0m\u001b[1;33m)\u001b[0m\u001b[1;33m%\u001b[0m\u001b[1;36m2\u001b[0m\u001b[1;33m)\u001b[0m\u001b[1;33m\u001b[0m\u001b[1;33m\u001b[0m\u001b[0m\n\u001b[0m\u001b[0;32m    418\u001b[0m                 \u001b[1;32mif\u001b[0m \u001b[0mDEBUG\u001b[0m\u001b[1;33m:\u001b[0m \u001b[0mprint\u001b[0m\u001b[1;33m(\u001b[0m\u001b[1;34m'layer processed in: '\u001b[0m\u001b[1;33m,\u001b[0m\u001b[0mcycles\u001b[0m\u001b[1;33m-\u001b[0m\u001b[0mtmp\u001b[0m\u001b[1;33m,\u001b[0m\u001b[1;34m' cycles'\u001b[0m\u001b[1;33m)\u001b[0m\u001b[1;33m\u001b[0m\u001b[1;33m\u001b[0m\u001b[0m\n\u001b[0;32m    419\u001b[0m         \u001b[1;32mreturn\u001b[0m \u001b[0mcycles\u001b[0m\u001b[1;33m\u001b[0m\u001b[1;33m\u001b[0m\u001b[0m\n",
      "\u001b[1;32m~\\Desktop\\CNN_gating\\Simulation.py\u001b[0m in \u001b[0;36mhandle_layer\u001b[1;34m(buffer, layer, layer_outputs, out_buffer_id)\u001b[0m\n\u001b[0;32m    407\u001b[0m                 \u001b[1;32melse\u001b[0m\u001b[1;33m:\u001b[0m\u001b[1;33m\u001b[0m\u001b[1;33m\u001b[0m\u001b[0m\n\u001b[0;32m    408\u001b[0m                         \u001b[1;32mif\u001b[0m \u001b[0mDEBUG\u001b[0m\u001b[1;33m:\u001b[0m \u001b[0mprint\u001b[0m\u001b[1;33m(\u001b[0m\u001b[1;34m'--now processing CPULayer'\u001b[0m\u001b[1;33m,\u001b[0m \u001b[0mlayer\u001b[0m\u001b[1;33m.\u001b[0m\u001b[0mname\u001b[0m\u001b[1;33m)\u001b[0m\u001b[1;33m\u001b[0m\u001b[1;33m\u001b[0m\u001b[0m\n\u001b[1;32m--> 409\u001b[1;33m                         \u001b[1;32mreturn\u001b[0m \u001b[0msim_CPULayer\u001b[0m\u001b[1;33m(\u001b[0m\u001b[0mbuffer\u001b[0m\u001b[1;33m,\u001b[0m \u001b[0mlayer\u001b[0m\u001b[1;33m,\u001b[0m \u001b[0mlayer_outputs\u001b[0m\u001b[1;33m,\u001b[0m\u001b[0mout_buffer_id\u001b[0m\u001b[1;33m)\u001b[0m\u001b[1;33m\u001b[0m\u001b[1;33m\u001b[0m\u001b[0m\n\u001b[0m\u001b[0;32m    410\u001b[0m         \u001b[1;31m#########Simulation layer by layer####################################################################\u001b[0m\u001b[1;33m\u001b[0m\u001b[1;33m\u001b[0m\u001b[1;33m\u001b[0m\u001b[0m\n\u001b[0;32m    411\u001b[0m         \u001b[0mcycles\u001b[0m \u001b[1;33m=\u001b[0m \u001b[1;36m0\u001b[0m\u001b[1;33m\u001b[0m\u001b[1;33m\u001b[0m\u001b[0m\n",
      "\u001b[1;32m~\\Desktop\\CNN_gating\\Simulation.py\u001b[0m in \u001b[0;36msim_CPULayer\u001b[1;34m(buffer, layer, layer_outputs, write_buffer_id)\u001b[0m\n\u001b[0;32m    334\u001b[0m                         \u001b[1;32mreturn\u001b[0m \u001b[0mint\u001b[0m\u001b[1;33m(\u001b[0m\u001b[0mnp\u001b[0m\u001b[1;33m.\u001b[0m\u001b[0mceil\u001b[0m\u001b[1;33m(\u001b[0m\u001b[0mlayer_outputs\u001b[0m\u001b[1;33m.\u001b[0m\u001b[0msize\u001b[0m\u001b[1;33m/\u001b[0m\u001b[0macts_per_cycle\u001b[0m\u001b[1;33m)\u001b[0m\u001b[1;33m)\u001b[0m\u001b[1;33m\u001b[0m\u001b[1;33m\u001b[0m\u001b[0m\n\u001b[0;32m    335\u001b[0m                 \u001b[1;32melse\u001b[0m\u001b[1;33m:\u001b[0m\u001b[1;33m\u001b[0m\u001b[1;33m\u001b[0m\u001b[0m\n\u001b[1;32m--> 336\u001b[1;33m                         \u001b[0mcycles\u001b[0m \u001b[1;33m=\u001b[0m \u001b[0mwrite_Loop\u001b[0m\u001b[1;33m(\u001b[0m\u001b[0mbuffer\u001b[0m\u001b[1;33m,\u001b[0m\u001b[0mlayer\u001b[0m\u001b[1;33m,\u001b[0m\u001b[0mactivations\u001b[0m\u001b[1;33m,\u001b[0m\u001b[1;36m0\u001b[0m\u001b[1;33m,\u001b[0m\u001b[0mparams\u001b[0m\u001b[1;33m)\u001b[0m\u001b[1;33m\u001b[0m\u001b[1;33m\u001b[0m\u001b[0m\n\u001b[0m\u001b[0;32m    337\u001b[0m                         \u001b[1;32mif\u001b[0m \u001b[0mDEBUG\u001b[0m\u001b[1;33m:\u001b[0m \u001b[0mprint\u001b[0m\u001b[1;33m(\u001b[0m\u001b[1;34m'----elapsed layer simulation time: '\u001b[0m\u001b[1;33m,\u001b[0m\u001b[0mstr\u001b[0m\u001b[1;33m(\u001b[0m\u001b[0mdatetime\u001b[0m\u001b[1;33m.\u001b[0m\u001b[0mnow\u001b[0m\u001b[1;33m(\u001b[0m\u001b[1;33m)\u001b[0m \u001b[1;33m-\u001b[0m \u001b[0mt0\u001b[0m\u001b[1;33m)\u001b[0m\u001b[1;33m.\u001b[0m\u001b[0msplit\u001b[0m\u001b[1;33m(\u001b[0m\u001b[1;34m'.'\u001b[0m\u001b[1;33m)\u001b[0m\u001b[1;33m[\u001b[0m\u001b[1;36m0\u001b[0m\u001b[1;33m]\u001b[0m\u001b[1;33m)\u001b[0m\u001b[1;33m\u001b[0m\u001b[1;33m\u001b[0m\u001b[0m\n\u001b[0;32m    338\u001b[0m                         \u001b[1;32mreturn\u001b[0m \u001b[0mcycles\u001b[0m\u001b[1;33m\u001b[0m\u001b[1;33m\u001b[0m\u001b[0m\n",
      "\u001b[1;32m~\\Desktop\\CNN_gating\\Simulation.py\u001b[0m in \u001b[0;36mwrite_Loop\u001b[1;34m(buffer, layer, activations, manual_offset, params)\u001b[0m\n\u001b[0;32m    188\u001b[0m                 \u001b[1;31m#Update stats after the initial delay\u001b[0m\u001b[1;33m\u001b[0m\u001b[1;33m\u001b[0m\u001b[1;33m\u001b[0m\u001b[0m\n\u001b[0;32m    189\u001b[0m                 \u001b[0mcycles\u001b[0m \u001b[1;33m=\u001b[0m \u001b[0mparams\u001b[0m\u001b[1;33m[\u001b[0m\u001b[1;34m'Initial Delay'\u001b[0m\u001b[1;33m]\u001b[0m\u001b[1;33m\u001b[0m\u001b[1;33m\u001b[0m\u001b[0m\n\u001b[1;32m--> 190\u001b[1;33m                 \u001b[0mupdate_high_cycle_count\u001b[0m\u001b[1;33m[\u001b[0m\u001b[0mblockspergrid\u001b[0m\u001b[1;33m,\u001b[0m \u001b[0mthreadsperblock\u001b[0m\u001b[1;33m]\u001b[0m\u001b[1;33m(\u001b[0m\u001b[0mdata\u001b[0m\u001b[1;33m,\u001b[0m\u001b[0mhigh_cycles_count\u001b[0m\u001b[1;33m,\u001b[0m\u001b[0mparams\u001b[0m\u001b[1;33m[\u001b[0m\u001b[1;34m'Initial Delay'\u001b[0m\u001b[1;33m]\u001b[0m\u001b[1;33m)\u001b[0m\u001b[1;33m\u001b[0m\u001b[1;33m\u001b[0m\u001b[0m\n\u001b[0m\u001b[0;32m    191\u001b[0m                 \u001b[1;31m#Acceleration of GPU Memory Transfer using small representation\u001b[0m\u001b[1;33m\u001b[0m\u001b[1;33m\u001b[0m\u001b[1;33m\u001b[0m\u001b[0m\n\u001b[0;32m    192\u001b[0m                 \u001b[0mtmp_counter\u001b[0m \u001b[1;33m=\u001b[0m \u001b[1;36m0\u001b[0m\u001b[1;33m\u001b[0m\u001b[1;33m\u001b[0m\u001b[0m\n",
      "\u001b[1;32m~\\anaconda3\\envs\\env_first\\lib\\site-packages\\numba\\cuda\\compiler.py\u001b[0m in \u001b[0;36m__call__\u001b[1;34m(self, *args)\u001b[0m\n\u001b[0;32m    767\u001b[0m \u001b[1;33m\u001b[0m\u001b[0m\n\u001b[0;32m    768\u001b[0m     \u001b[1;32mdef\u001b[0m \u001b[0m__call__\u001b[0m\u001b[1;33m(\u001b[0m\u001b[0mself\u001b[0m\u001b[1;33m,\u001b[0m \u001b[1;33m*\u001b[0m\u001b[0margs\u001b[0m\u001b[1;33m)\u001b[0m\u001b[1;33m:\u001b[0m\u001b[1;33m\u001b[0m\u001b[1;33m\u001b[0m\u001b[0m\n\u001b[1;32m--> 769\u001b[1;33m         return self.dispatcher.call(args, self.griddim, self.blockdim,\n\u001b[0m\u001b[0;32m    770\u001b[0m                                     self.stream, self.sharedmem)\n\u001b[0;32m    771\u001b[0m \u001b[1;33m\u001b[0m\u001b[0m\n",
      "\u001b[1;32m~\\anaconda3\\envs\\env_first\\lib\\site-packages\\numba\\cuda\\compiler.py\u001b[0m in \u001b[0;36mcall\u001b[1;34m(self, args, griddim, blockdim, stream, sharedmem)\u001b[0m\n\u001b[0;32m    859\u001b[0m         argtypes = tuple(\n\u001b[0;32m    860\u001b[0m             [self.typingctx.resolve_argument_type(a) for a in args])\n\u001b[1;32m--> 861\u001b[1;33m         \u001b[0mkernel\u001b[0m \u001b[1;33m=\u001b[0m \u001b[0mself\u001b[0m\u001b[1;33m.\u001b[0m\u001b[0mcompile\u001b[0m\u001b[1;33m(\u001b[0m\u001b[0margtypes\u001b[0m\u001b[1;33m)\u001b[0m\u001b[1;33m\u001b[0m\u001b[1;33m\u001b[0m\u001b[0m\n\u001b[0m\u001b[0;32m    862\u001b[0m         \u001b[0mkernel\u001b[0m\u001b[1;33m.\u001b[0m\u001b[0mlaunch\u001b[0m\u001b[1;33m(\u001b[0m\u001b[0margs\u001b[0m\u001b[1;33m,\u001b[0m \u001b[0mgriddim\u001b[0m\u001b[1;33m,\u001b[0m \u001b[0mblockdim\u001b[0m\u001b[1;33m,\u001b[0m \u001b[0mstream\u001b[0m\u001b[1;33m,\u001b[0m \u001b[0msharedmem\u001b[0m\u001b[1;33m)\u001b[0m\u001b[1;33m\u001b[0m\u001b[1;33m\u001b[0m\u001b[0m\n\u001b[0;32m    863\u001b[0m \u001b[1;33m\u001b[0m\u001b[0m\n",
      "\u001b[1;32m~\\anaconda3\\envs\\env_first\\lib\\site-packages\\numba\\cuda\\compiler.py\u001b[0m in \u001b[0;36mcompile\u001b[1;34m(self, sig)\u001b[0m\n\u001b[0;32m    920\u001b[0m         \u001b[0margtypes\u001b[0m\u001b[1;33m,\u001b[0m \u001b[0mreturn_type\u001b[0m \u001b[1;33m=\u001b[0m \u001b[0msigutils\u001b[0m\u001b[1;33m.\u001b[0m\u001b[0mnormalize_signature\u001b[0m\u001b[1;33m(\u001b[0m\u001b[0msig\u001b[0m\u001b[1;33m)\u001b[0m\u001b[1;33m\u001b[0m\u001b[1;33m\u001b[0m\u001b[0m\n\u001b[0;32m    921\u001b[0m         \u001b[1;32massert\u001b[0m \u001b[0mreturn_type\u001b[0m \u001b[1;32mis\u001b[0m \u001b[1;32mNone\u001b[0m \u001b[1;32mor\u001b[0m \u001b[0mreturn_type\u001b[0m \u001b[1;33m==\u001b[0m \u001b[0mtypes\u001b[0m\u001b[1;33m.\u001b[0m\u001b[0mnone\u001b[0m\u001b[1;33m\u001b[0m\u001b[1;33m\u001b[0m\u001b[0m\n\u001b[1;32m--> 922\u001b[1;33m         \u001b[0mcc\u001b[0m \u001b[1;33m=\u001b[0m \u001b[0mget_current_device\u001b[0m\u001b[1;33m(\u001b[0m\u001b[1;33m)\u001b[0m\u001b[1;33m.\u001b[0m\u001b[0mcompute_capability\u001b[0m\u001b[1;33m\u001b[0m\u001b[1;33m\u001b[0m\u001b[0m\n\u001b[0m\u001b[0;32m    923\u001b[0m         \u001b[1;32mif\u001b[0m \u001b[0mself\u001b[0m\u001b[1;33m.\u001b[0m\u001b[0mspecialized\u001b[0m\u001b[1;33m:\u001b[0m\u001b[1;33m\u001b[0m\u001b[1;33m\u001b[0m\u001b[0m\n\u001b[0;32m    924\u001b[0m             \u001b[1;32mreturn\u001b[0m \u001b[0mself\u001b[0m\u001b[1;33m.\u001b[0m\u001b[0mdefinition\u001b[0m\u001b[1;33m\u001b[0m\u001b[1;33m\u001b[0m\u001b[0m\n",
      "\u001b[1;32m~\\anaconda3\\envs\\env_first\\lib\\site-packages\\numba\\cuda\\api.py\u001b[0m in \u001b[0;36mget_current_device\u001b[1;34m()\u001b[0m\n\u001b[0;32m    373\u001b[0m \u001b[1;32mdef\u001b[0m \u001b[0mget_current_device\u001b[0m\u001b[1;33m(\u001b[0m\u001b[1;33m)\u001b[0m\u001b[1;33m:\u001b[0m\u001b[1;33m\u001b[0m\u001b[1;33m\u001b[0m\u001b[0m\n\u001b[0;32m    374\u001b[0m     \u001b[1;34m\"Get current device associated with the current thread\"\u001b[0m\u001b[1;33m\u001b[0m\u001b[1;33m\u001b[0m\u001b[0m\n\u001b[1;32m--> 375\u001b[1;33m     \u001b[1;32mreturn\u001b[0m \u001b[0mcurrent_context\u001b[0m\u001b[1;33m(\u001b[0m\u001b[1;33m)\u001b[0m\u001b[1;33m.\u001b[0m\u001b[0mdevice\u001b[0m\u001b[1;33m\u001b[0m\u001b[1;33m\u001b[0m\u001b[0m\n\u001b[0m\u001b[0;32m    376\u001b[0m \u001b[1;33m\u001b[0m\u001b[0m\n\u001b[0;32m    377\u001b[0m \u001b[1;33m\u001b[0m\u001b[0m\n",
      "\u001b[1;32m~\\anaconda3\\envs\\env_first\\lib\\site-packages\\numba\\cuda\\cudadrv\\devices.py\u001b[0m in \u001b[0;36mget_context\u001b[1;34m(devnum)\u001b[0m\n\u001b[0;32m    210\u001b[0m     \u001b[1;32mreturn\u001b[0m \u001b[0mthe\u001b[0m \u001b[0mCUDA\u001b[0m \u001b[0mcontext\u001b[0m\u001b[1;33m.\u001b[0m\u001b[1;33m\u001b[0m\u001b[1;33m\u001b[0m\u001b[0m\n\u001b[0;32m    211\u001b[0m     \"\"\"\n\u001b[1;32m--> 212\u001b[1;33m     \u001b[1;32mreturn\u001b[0m \u001b[0m_runtime\u001b[0m\u001b[1;33m.\u001b[0m\u001b[0mget_or_create_context\u001b[0m\u001b[1;33m(\u001b[0m\u001b[0mdevnum\u001b[0m\u001b[1;33m)\u001b[0m\u001b[1;33m\u001b[0m\u001b[1;33m\u001b[0m\u001b[0m\n\u001b[0m\u001b[0;32m    213\u001b[0m \u001b[1;33m\u001b[0m\u001b[0m\n\u001b[0;32m    214\u001b[0m \u001b[1;33m\u001b[0m\u001b[0m\n",
      "\u001b[1;32m~\\anaconda3\\envs\\env_first\\lib\\site-packages\\numba\\cuda\\cudadrv\\devices.py\u001b[0m in \u001b[0;36mget_or_create_context\u001b[1;34m(self, devnum)\u001b[0m\n\u001b[0;32m    136\u001b[0m             \u001b[0mattached_ctx\u001b[0m \u001b[1;33m=\u001b[0m \u001b[0mself\u001b[0m\u001b[1;33m.\u001b[0m\u001b[0m_get_attached_context\u001b[0m\u001b[1;33m(\u001b[0m\u001b[1;33m)\u001b[0m\u001b[1;33m\u001b[0m\u001b[1;33m\u001b[0m\u001b[0m\n\u001b[0;32m    137\u001b[0m             \u001b[1;32mif\u001b[0m \u001b[0mattached_ctx\u001b[0m \u001b[1;32mis\u001b[0m \u001b[1;32mNone\u001b[0m\u001b[1;33m:\u001b[0m\u001b[1;33m\u001b[0m\u001b[1;33m\u001b[0m\u001b[0m\n\u001b[1;32m--> 138\u001b[1;33m                 \u001b[1;32mreturn\u001b[0m \u001b[0mself\u001b[0m\u001b[1;33m.\u001b[0m\u001b[0m_get_or_create_context_uncached\u001b[0m\u001b[1;33m(\u001b[0m\u001b[0mdevnum\u001b[0m\u001b[1;33m)\u001b[0m\u001b[1;33m\u001b[0m\u001b[1;33m\u001b[0m\u001b[0m\n\u001b[0m\u001b[0;32m    139\u001b[0m             \u001b[1;32melse\u001b[0m\u001b[1;33m:\u001b[0m\u001b[1;33m\u001b[0m\u001b[1;33m\u001b[0m\u001b[0m\n\u001b[0;32m    140\u001b[0m                 \u001b[1;32mreturn\u001b[0m \u001b[0mattached_ctx\u001b[0m\u001b[1;33m\u001b[0m\u001b[1;33m\u001b[0m\u001b[0m\n",
      "\u001b[1;32m~\\anaconda3\\envs\\env_first\\lib\\site-packages\\numba\\cuda\\cudadrv\\devices.py\u001b[0m in \u001b[0;36m_get_or_create_context_uncached\u001b[1;34m(self, devnum)\u001b[0m\n\u001b[0;32m    149\u001b[0m             \u001b[1;31m# Try to get the active context in the CUDA stack or\u001b[0m\u001b[1;33m\u001b[0m\u001b[1;33m\u001b[0m\u001b[1;33m\u001b[0m\u001b[0m\n\u001b[0;32m    150\u001b[0m             \u001b[1;31m# activate GPU-0 with the primary context\u001b[0m\u001b[1;33m\u001b[0m\u001b[1;33m\u001b[0m\u001b[1;33m\u001b[0m\u001b[0m\n\u001b[1;32m--> 151\u001b[1;33m             \u001b[1;32mwith\u001b[0m \u001b[0mdriver\u001b[0m\u001b[1;33m.\u001b[0m\u001b[0mget_active_context\u001b[0m\u001b[1;33m(\u001b[0m\u001b[1;33m)\u001b[0m \u001b[1;32mas\u001b[0m \u001b[0mac\u001b[0m\u001b[1;33m:\u001b[0m\u001b[1;33m\u001b[0m\u001b[1;33m\u001b[0m\u001b[0m\n\u001b[0m\u001b[0;32m    152\u001b[0m                 \u001b[1;32mif\u001b[0m \u001b[1;32mnot\u001b[0m \u001b[0mac\u001b[0m\u001b[1;33m:\u001b[0m\u001b[1;33m\u001b[0m\u001b[1;33m\u001b[0m\u001b[0m\n\u001b[0;32m    153\u001b[0m                     \u001b[1;32mreturn\u001b[0m \u001b[0mself\u001b[0m\u001b[1;33m.\u001b[0m\u001b[0m_activate_context_for\u001b[0m\u001b[1;33m(\u001b[0m\u001b[1;36m0\u001b[0m\u001b[1;33m)\u001b[0m\u001b[1;33m\u001b[0m\u001b[1;33m\u001b[0m\u001b[0m\n",
      "\u001b[1;32m~\\anaconda3\\envs\\env_first\\lib\\site-packages\\numba\\cuda\\cudadrv\\driver.py\u001b[0m in \u001b[0;36m__enter__\u001b[1;34m(self)\u001b[0m\n\u001b[0;32m    393\u001b[0m         \u001b[1;32melse\u001b[0m\u001b[1;33m:\u001b[0m\u001b[1;33m\u001b[0m\u001b[1;33m\u001b[0m\u001b[0m\n\u001b[0;32m    394\u001b[0m             \u001b[0mhctx\u001b[0m \u001b[1;33m=\u001b[0m \u001b[0mdrvapi\u001b[0m\u001b[1;33m.\u001b[0m\u001b[0mcu_context\u001b[0m\u001b[1;33m(\u001b[0m\u001b[1;36m0\u001b[0m\u001b[1;33m)\u001b[0m\u001b[1;33m\u001b[0m\u001b[1;33m\u001b[0m\u001b[0m\n\u001b[1;32m--> 395\u001b[1;33m             \u001b[0mdriver\u001b[0m\u001b[1;33m.\u001b[0m\u001b[0mcuCtxGetCurrent\u001b[0m\u001b[1;33m(\u001b[0m\u001b[0mbyref\u001b[0m\u001b[1;33m(\u001b[0m\u001b[0mhctx\u001b[0m\u001b[1;33m)\u001b[0m\u001b[1;33m)\u001b[0m\u001b[1;33m\u001b[0m\u001b[1;33m\u001b[0m\u001b[0m\n\u001b[0m\u001b[0;32m    396\u001b[0m             \u001b[0mhctx\u001b[0m \u001b[1;33m=\u001b[0m \u001b[0mhctx\u001b[0m \u001b[1;32mif\u001b[0m \u001b[0mhctx\u001b[0m\u001b[1;33m.\u001b[0m\u001b[0mvalue\u001b[0m \u001b[1;32melse\u001b[0m \u001b[1;32mNone\u001b[0m\u001b[1;33m\u001b[0m\u001b[1;33m\u001b[0m\u001b[0m\n\u001b[0;32m    397\u001b[0m \u001b[1;33m\u001b[0m\u001b[0m\n",
      "\u001b[1;32m~\\anaconda3\\envs\\env_first\\lib\\site-packages\\numba\\cuda\\cudadrv\\driver.py\u001b[0m in \u001b[0;36m__getattr__\u001b[1;34m(self, fname)\u001b[0m\n\u001b[0;32m    283\u001b[0m \u001b[1;33m\u001b[0m\u001b[0m\n\u001b[0;32m    284\u001b[0m         \u001b[1;32mif\u001b[0m \u001b[0mself\u001b[0m\u001b[1;33m.\u001b[0m\u001b[0minitialization_error\u001b[0m \u001b[1;32mis\u001b[0m \u001b[1;32mnot\u001b[0m \u001b[1;32mNone\u001b[0m\u001b[1;33m:\u001b[0m\u001b[1;33m\u001b[0m\u001b[1;33m\u001b[0m\u001b[0m\n\u001b[1;32m--> 285\u001b[1;33m             raise CudaSupportError(\"Error at driver init: \\n%s:\" %\n\u001b[0m\u001b[0;32m    286\u001b[0m                                    self.initialization_error)\n\u001b[0;32m    287\u001b[0m \u001b[1;33m\u001b[0m\u001b[0m\n",
      "\u001b[1;31mCudaSupportError\u001b[0m: Error at driver init: \n\nCUDA driver library cannot be found.\nIf you are sure that a CUDA driver is installed,\ntry setting environment variable NUMBA_CUDA_DRIVER\nwith the file path of the CUDA driver shared library.\n:"
     ]
    }
   ],
   "source": [
    "train_batchSize = test_batchSize = 1\n",
    "_,_,test_set = GetDatasets('colorectal_histology',(80,5,15),(227,227), 8, train_batchSize, test_batchSize)\n",
    "\n",
    "#Obtain quantized network with the used configf\n",
    "QAlexNet  = GetNeuralNetworkModel('AlexNet',(227,227,3),8, quantization = True, aging_active=False,\n",
    "                                  word_size = 16, frac_size = 11)\n",
    "loss = tf.keras.losses.CategoricalCrossentropy()\n",
    "optimizer = tf.keras.optimizers.Adam(learning_rate=1e-4)\n",
    "metrics = ['accuracy']\n",
    "QAlexNet.compile(optimizer=optimizer, loss=loss, metrics=metrics)\n",
    "QAlexNet.load_weights(wgt_dir).expect_partial()\n",
    "#Quantize the weights of the network too, with used config\n",
    "WeightQuantization(model = QAlexNet, frac_bits = 11, int_bits = 4)\n",
    "\n",
    "#Lista de capas acorde a 2.b\n",
    "LI = [0,3,9,11,17,19,25,31,37,40,45,50]\n",
    "AI = [2,8,10,16,18,24,30,36,38,44,49,53]\n",
    "Buffer,ciclos =  buffer_simulation(QAlexNet, test_set, integer_bits = 4, fractional_bits = 11, samples = 3, start_from = 0,\n",
    "                                  bit_invertion = False, bit_shifting = False, CNN_gating = False,\n",
    "                                  buffer_size = 2*290400, write_mode ='default', save_results = False,\n",
    "                                  results_dir = 'Data/Stats/AlexNet/Colorectal Dataset/CNN-Gated/',\n",
    "                                  layer_indexes = LI , activation_indixes = AI)"
   ]
  },
  {
   "cell_type": "markdown",
   "metadata": {},
   "source": [
    "El resultado es un diccionario como el siguiente donde por ejemplo Data contiene el ultimo valor registrado para cada celda de memoria."
   ]
  },
  {
   "cell_type": "code",
   "execution_count": 13,
   "metadata": {},
   "outputs": [
    {
     "data": {
      "text/plain": [
       "{'Number of Addresses': 290400,\n",
       " 'Data': array([0, 0, 0, ..., 0, 0, 0], dtype=int8),\n",
       " 'HighCyclesCount': array([3444699,       0,       0, ...,       0,       0,       0],\n",
       "       dtype=uint32),\n",
       " 'OffCyclesCount': array([0, 0, 0, ..., 0, 0, 0], dtype=uint32),\n",
       " 'LowCyclesCount': array([ 776139, 4220838, 4220838, ..., 4220838, 4220838, 4220838],\n",
       "       dtype=uint32),\n",
       " 'Flips': array([8, 0, 0, ..., 0, 0, 0], dtype=uint32),\n",
       " 'offset': 0}"
      ]
     },
     "execution_count": 13,
     "metadata": {},
     "output_type": "execute_result"
    }
   ],
   "source": [
    "Buffer"
   ]
  },
  {
   "cell_type": "code",
   "execution_count": 14,
   "metadata": {},
   "outputs": [
    {
     "data": {
      "text/plain": [
       "4220838"
      ]
     },
     "execution_count": 14,
     "metadata": {},
     "output_type": "execute_result"
    }
   ],
   "source": [
    "ciclos"
   ]
  },
  {
   "cell_type": "markdown",
   "metadata": {},
   "source": [
    "### &nbsp;&nbsp;&nbsp;&nbsp;&nbsp;&nbsp; b) CNN-Gated, buffer 2 MB"
   ]
  },
  {
   "cell_type": "markdown",
   "metadata": {},
   "source": [
    "Se puede hacer lo mismo para distintas configuraciones de buffer y estrategias usadas"
   ]
  },
  {
   "cell_type": "code",
   "execution_count": null,
   "metadata": {},
   "outputs": [],
   "source": [
    "train_batchSize = test_batchSize = 1\n",
    "_,_,test_set = GetDatasets('colorectal_histology',(80,5,15),(227,227), 8, train_batchSize, test_batchSize)\n",
    "\n",
    "#Obtain quantized network with the used configf\n",
    "QAlexNet  = GetNeuralNetworkModel('AlexNet',(227,227,3),8, quantization = True, aging_active=False,\n",
    "                                  word_size = 16, frac_size = 11)\n",
    "loss = tf.keras.losses.CategoricalCrossentropy()\n",
    "optimizer = tf.keras.optimizers.Adam(learning_rate=1e-4)\n",
    "metrics = ['accuracy']\n",
    "QAlexNet.compile(optimizer=optimizer, loss=loss, metrics=metrics)\n",
    "QAlexNet.load_weights(wgtDir).expect_partial()\n",
    "#Quantize the weights of the network too, with used config\n",
    "WeightQuantization(model = QAlexNet, frac_bits = 11, int_bits = 4)\n",
    "\n",
    "#Lista de capas acorde a 2.b\n",
    "LI = [0,3,9,11,17,19,25,31,37,40,45,50]\n",
    "AI = [2,8,10,16,18,24,30,36,38,44,49,53]\n",
    "Buffer,ciclos =  buffer_simulation(QAlexNet, test_set, integer_bits = 4, fractional_bits = 11, samples = 10, start_from = 0,\n",
    "                                  bit_invertion = False, bit_shifting = False, CNN_gating = True,\n",
    "                                  buffer_size = 2*1024*1024, write_mode ='default', save_results = False,\n",
    "                                  results_dir = 'Data/Stats/AlexNet/Colorectal Dataset/CNN-Gated/',\n",
    "                                  layer_indexes = LI , activation_indixes = AI)"
   ]
  },
  {
   "cell_type": "markdown",
   "metadata": {},
   "source": [
    "### &nbsp;&nbsp;&nbsp;&nbsp;&nbsp;&nbsp; c) CNN-Gated, buffer ajustado a capa mas grande"
   ]
  },
  {
   "cell_type": "code",
   "execution_count": null,
   "metadata": {
    "scrolled": true
   },
   "outputs": [],
   "source": [
    "train_batchSize = test_batchSize = 1\n",
    "_,_,test_set = GetDatasets('colorectal_histology',(80,5,15),(227,227), 8, train_batchSize, test_batchSize)\n",
    "\n",
    "#Obtain quantized network with the used configf\n",
    "QAlexNet  = GetNeuralNetworkModel('AlexNet',(227,227,3),8, quantization = True, aging_active=False,\n",
    "                                  word_size = 16, frac_size = 11)\n",
    "loss = tf.keras.losses.CategoricalCrossentropy()\n",
    "optimizer = tf.keras.optimizers.Adam(learning_rate=1e-4)\n",
    "metrics = ['accuracy']\n",
    "QAlexNet.compile(optimizer=optimizer, loss=loss, metrics=metrics)\n",
    "QAlexNet.load_weights(wgtDir).expect_partial()\n",
    "#Quantize the weights of the network too, with used config\n",
    "WeightQuantization(model = QAlexNet, frac_bits = 11, int_bits = 4)\n",
    "\n",
    "\n",
    "LI = [0,3,9,11,17,19,25,31,37,40,45,50]\n",
    "AI = [2,8,10,16,18,24,30,36,38,44,49,53]\n",
    "Buffer,ciclos =  buffer_simulation(QAlexNet, test_set, integer_bits = 4, fractional_bits = 11, samples = 10, start_from = 0,\n",
    "                                  bit_invertion = False, bit_shifting = False, CNN_gating = True,\n",
    "                                  buffer_size = 2*290400, write_mode ='default', save_results = False,\n",
    "                                  results_dir = 'Data/Stats/AlexNet/Colorectal Dataset/CNN-Gated/',\n",
    "                                  layer_indexes = LI , activation_indixes = AI)"
   ]
  },
  {
   "cell_type": "markdown",
   "metadata": {},
   "source": [
    "### &nbsp;&nbsp;&nbsp;&nbsp;&nbsp;&nbsp; ... d) para cargar los datos:"
   ]
  },
  {
   "cell_type": "markdown",
   "metadata": {},
   "source": [
    "tambien puedes cargar los datos desde la ruta que especificaste para guardar los resultados (parametro results_dir + save_results de buffer_simulation())"
   ]
  },
  {
   "cell_type": "code",
   "execution_count": 11,
   "metadata": {},
   "outputs": [
    {
     "ename": "FileNotFoundError",
     "evalue": "[Errno 2] No such file or directory: 'Data/Stats/AlexNet/Colorectal Dataset/CNN-Gated/Full Buffer/Buffer.pkl'",
     "output_type": "error",
     "traceback": [
      "\u001b[1;31m---------------------------------------------------------------------------\u001b[0m",
      "\u001b[1;31mFileNotFoundError\u001b[0m                         Traceback (most recent call last)",
      "\u001b[1;32m<ipython-input-11-f81a4bedf8b7>\u001b[0m in \u001b[0;36m<module>\u001b[1;34m\u001b[0m\n\u001b[1;32m----> 1\u001b[1;33m \u001b[0mBuffer\u001b[0m  \u001b[1;33m=\u001b[0m \u001b[0mload_obj\u001b[0m\u001b[1;33m(\u001b[0m\u001b[1;34m'Data/Stats/AlexNet/Colorectal Dataset/CNN-Gated/Full Buffer/Buffer'\u001b[0m\u001b[1;33m)\u001b[0m\u001b[1;33m\u001b[0m\u001b[1;33m\u001b[0m\u001b[0m\n\u001b[0m\u001b[0;32m      2\u001b[0m \u001b[0mciclos\u001b[0m  \u001b[1;33m=\u001b[0m \u001b[0mload_obj\u001b[0m\u001b[1;33m(\u001b[0m\u001b[1;34m'Data/Stats/AlexNet/Colorectal Dataset/CNN-Gated/Full Buffer/cycles'\u001b[0m\u001b[1;33m)\u001b[0m\u001b[1;33m\u001b[0m\u001b[1;33m\u001b[0m\u001b[0m\n",
      "\u001b[1;32m~\\Desktop\\CNN_gating\\Simulation.py\u001b[0m in \u001b[0;36mload_obj\u001b[1;34m(obj_dir)\u001b[0m\n\u001b[0;32m     21\u001b[0m                 \u001b[0mpickle\u001b[0m\u001b[1;33m.\u001b[0m\u001b[0mdump\u001b[0m\u001b[1;33m(\u001b[0m\u001b[0mobj\u001b[0m\u001b[1;33m,\u001b[0m \u001b[0mf\u001b[0m\u001b[1;33m,\u001b[0m \u001b[0mpickle\u001b[0m\u001b[1;33m.\u001b[0m\u001b[0mHIGHEST_PROTOCOL\u001b[0m\u001b[1;33m)\u001b[0m\u001b[1;33m\u001b[0m\u001b[1;33m\u001b[0m\u001b[0m\n\u001b[0;32m     22\u001b[0m \u001b[1;32mdef\u001b[0m \u001b[0mload_obj\u001b[0m\u001b[1;33m(\u001b[0m\u001b[0mobj_dir\u001b[0m\u001b[1;33m)\u001b[0m\u001b[1;33m:\u001b[0m\u001b[1;33m\u001b[0m\u001b[1;33m\u001b[0m\u001b[0m\n\u001b[1;32m---> 23\u001b[1;33m         \u001b[1;32mwith\u001b[0m \u001b[0mopen\u001b[0m\u001b[1;33m(\u001b[0m \u001b[0mobj_dir\u001b[0m \u001b[1;33m+\u001b[0m \u001b[1;34m'.pkl'\u001b[0m\u001b[1;33m,\u001b[0m \u001b[1;34m'rb'\u001b[0m\u001b[1;33m)\u001b[0m \u001b[1;32mas\u001b[0m \u001b[0mf\u001b[0m\u001b[1;33m:\u001b[0m\u001b[1;33m\u001b[0m\u001b[1;33m\u001b[0m\u001b[0m\n\u001b[0m\u001b[0;32m     24\u001b[0m                 \u001b[1;32mreturn\u001b[0m \u001b[0mpickle\u001b[0m\u001b[1;33m.\u001b[0m\u001b[0mload\u001b[0m\u001b[1;33m(\u001b[0m\u001b[0mf\u001b[0m\u001b[1;33m)\u001b[0m\u001b[1;33m\u001b[0m\u001b[1;33m\u001b[0m\u001b[0m\n\u001b[0;32m     25\u001b[0m \u001b[1;33m\u001b[0m\u001b[0m\n",
      "\u001b[1;31mFileNotFoundError\u001b[0m: [Errno 2] No such file or directory: 'Data/Stats/AlexNet/Colorectal Dataset/CNN-Gated/Full Buffer/Buffer.pkl'"
     ]
    }
   ],
   "source": [
    "Buffer  = load_obj('Data/Stats/AlexNet/Colorectal Dataset/CNN-Gated/Buffer')\n",
    "ciclos  = load_obj('Data/Stats/AlexNet/Colorectal Dataset/CNN-Gated/cycles')"
   ]
  },
  {
   "cell_type": "markdown",
   "metadata": {},
   "source": [
    "# 4) Error Injection"
   ]
  },
  {
   "cell_type": "markdown",
   "metadata": {},
   "source": [
    "### &nbsp;&nbsp;&nbsp;&nbsp;&nbsp;&nbsp; a) Measuring effect of faults in activations"
   ]
  },
  {
   "cell_type": "markdown",
   "metadata": {},
   "source": [
    "por ultimo con este bloque vemos como se comporta el accuracy y loss frente a el envejecimiento de celdas."
   ]
  },
  {
   "cell_type": "code",
   "execution_count": 8,
   "metadata": {},
   "outputs": [
    {
     "ename": "InvalidArgumentError",
     "evalue": " indices[399] = [15, 126, 9, 2] does not index into param shape [14,227,227,3], node name: model_3/lambda_53/GatherNd\n\t [[node model_3/lambda_53/GatherNd (defined at C:\\Users\\usuario\\Desktop\\CNN_gating\\Nets.py:79) ]] [Op:__inference_test_function_8108]\n\nErrors may have originated from an input operation.\nInput Source operations connected to node model_3/lambda_53/GatherNd:\n model_3/lambda_52/Maximum (defined at C:\\Users\\usuario\\Desktop\\CNN_gating\\Nets.py:54)\n\nFunction call stack:\ntest_function\n",
     "output_type": "error",
     "traceback": [
      "\u001b[1;31m---------------------------------------------------------------------------\u001b[0m",
      "\u001b[1;31mInvalidArgumentError\u001b[0m                      Traceback (most recent call last)",
      "\u001b[1;32m<ipython-input-8-4bac7f203af5>\u001b[0m in \u001b[0;36m<module>\u001b[1;34m\u001b[0m\n\u001b[0;32m     32\u001b[0m         \u001b[1;32mdel\u001b[0m \u001b[0maddress_with_errors\u001b[0m\u001b[1;33m\u001b[0m\u001b[1;33m\u001b[0m\u001b[0m\n\u001b[0;32m     33\u001b[0m         \u001b[1;31m#ahora se obtiene el loss y acc para esta configuracion.\u001b[0m\u001b[1;33m\u001b[0m\u001b[1;33m\u001b[0m\u001b[1;33m\u001b[0m\u001b[0m\n\u001b[1;32m---> 34\u001b[1;33m         loss,acc   = CheckAccuracyAndLoss('AlexNet', test_dataset, wgt_dir, output_shape=8, input_shape = (227,227,3),\n\u001b[0m\u001b[0;32m     35\u001b[0m                                             \u001b[0mact_frac_size\u001b[0m \u001b[1;33m=\u001b[0m \u001b[1;36m11\u001b[0m\u001b[1;33m,\u001b[0m \u001b[0mact_int_size\u001b[0m \u001b[1;33m=\u001b[0m \u001b[1;36m4\u001b[0m\u001b[1;33m,\u001b[0m \u001b[0mwgt_frac_size\u001b[0m \u001b[1;33m=\u001b[0m \u001b[1;36m11\u001b[0m\u001b[1;33m,\u001b[0m \u001b[0mwgt_int_size\u001b[0m \u001b[1;33m=\u001b[0m \u001b[1;36m4\u001b[0m\u001b[1;33m,\u001b[0m\u001b[1;33m\u001b[0m\u001b[1;33m\u001b[0m\u001b[0m\n\u001b[0;32m     36\u001b[0m                                             \u001b[0mbatch_size\u001b[0m\u001b[1;33m=\u001b[0m\u001b[0mtestBatchSize\u001b[0m\u001b[1;33m,\u001b[0m \u001b[0mverbose\u001b[0m \u001b[1;33m=\u001b[0m \u001b[1;36m0\u001b[0m\u001b[1;33m,\u001b[0m \u001b[0maging_active\u001b[0m \u001b[1;33m=\u001b[0m \u001b[1;32mTrue\u001b[0m\u001b[1;33m,\u001b[0m \u001b[0mweights_faults\u001b[0m \u001b[1;33m=\u001b[0m \u001b[1;32mFalse\u001b[0m\u001b[1;33m,\u001b[0m\u001b[1;33m\u001b[0m\u001b[1;33m\u001b[0m\u001b[0m\n",
      "\u001b[1;32m~\\Desktop\\CNN_gating\\Stats.py\u001b[0m in \u001b[0;36mCheckAccuracyAndLoss\u001b[1;34m(architecture, test_dataset, wgt_dir, act_frac_size, act_int_size, wgt_frac_size, wgt_int_size, input_shape, output_shape, faulty_addresses, masked_faults, aging_active, batch_size, verbose, weights_faults)\u001b[0m\n\u001b[0;32m    120\u001b[0m         \u001b[1;32melse\u001b[0m\u001b[1;33m:\u001b[0m\u001b[1;33m\u001b[0m\u001b[1;33m\u001b[0m\u001b[0m\n\u001b[0;32m    121\u001b[0m                 \u001b[0mqNet\u001b[0m\u001b[1;33m.\u001b[0m\u001b[0mcompile\u001b[0m\u001b[1;33m(\u001b[0m\u001b[0moptimizer\u001b[0m\u001b[1;33m=\u001b[0m\u001b[0moptimizer\u001b[0m\u001b[1;33m,\u001b[0m \u001b[0mloss\u001b[0m\u001b[1;33m=\u001b[0m\u001b[0mloss\u001b[0m\u001b[1;33m,\u001b[0m \u001b[0mmetrics\u001b[0m\u001b[1;33m=\u001b[0m\u001b[1;34m'accuracy'\u001b[0m\u001b[1;33m)\u001b[0m\u001b[1;33m\u001b[0m\u001b[1;33m\u001b[0m\u001b[0m\n\u001b[1;32m--> 122\u001b[1;33m                 \u001b[1;33m(\u001b[0m\u001b[0mloss\u001b[0m\u001b[1;33m,\u001b[0m\u001b[0macc\u001b[0m\u001b[1;33m)\u001b[0m \u001b[1;33m=\u001b[0m \u001b[0mqNet\u001b[0m\u001b[1;33m.\u001b[0m\u001b[0mevaluate\u001b[0m\u001b[1;33m(\u001b[0m\u001b[0mtest_dataset\u001b[0m\u001b[1;33m,\u001b[0m\u001b[0mverbose\u001b[0m\u001b[1;33m=\u001b[0m\u001b[0mverbose\u001b[0m\u001b[1;33m)\u001b[0m\u001b[1;33m\u001b[0m\u001b[1;33m\u001b[0m\u001b[0m\n\u001b[0m\u001b[0;32m    123\u001b[0m                 \u001b[0moutputs\u001b[0m \u001b[1;33m=\u001b[0m \u001b[1;33m(\u001b[0m\u001b[0mloss\u001b[0m\u001b[1;33m,\u001b[0m\u001b[0macc\u001b[0m\u001b[1;33m)\u001b[0m\u001b[1;33m\u001b[0m\u001b[1;33m\u001b[0m\u001b[0m\n\u001b[0;32m    124\u001b[0m         \u001b[1;31m# Cleaning Memory\u001b[0m\u001b[1;33m\u001b[0m\u001b[1;33m\u001b[0m\u001b[1;33m\u001b[0m\u001b[0m\n",
      "\u001b[1;32m~\\anaconda3\\envs\\env_first\\lib\\site-packages\\tensorflow\\python\\keras\\engine\\training.py\u001b[0m in \u001b[0;36mevaluate\u001b[1;34m(self, x, y, batch_size, verbose, sample_weight, steps, callbacks, max_queue_size, workers, use_multiprocessing, return_dict, **kwargs)\u001b[0m\n\u001b[0;32m   1487\u001b[0m             \u001b[1;32mwith\u001b[0m \u001b[0mtrace\u001b[0m\u001b[1;33m.\u001b[0m\u001b[0mTrace\u001b[0m\u001b[1;33m(\u001b[0m\u001b[1;34m'test'\u001b[0m\u001b[1;33m,\u001b[0m \u001b[0mstep_num\u001b[0m\u001b[1;33m=\u001b[0m\u001b[0mstep\u001b[0m\u001b[1;33m,\u001b[0m \u001b[0m_r\u001b[0m\u001b[1;33m=\u001b[0m\u001b[1;36m1\u001b[0m\u001b[1;33m)\u001b[0m\u001b[1;33m:\u001b[0m\u001b[1;33m\u001b[0m\u001b[1;33m\u001b[0m\u001b[0m\n\u001b[0;32m   1488\u001b[0m               \u001b[0mcallbacks\u001b[0m\u001b[1;33m.\u001b[0m\u001b[0mon_test_batch_begin\u001b[0m\u001b[1;33m(\u001b[0m\u001b[0mstep\u001b[0m\u001b[1;33m)\u001b[0m\u001b[1;33m\u001b[0m\u001b[1;33m\u001b[0m\u001b[0m\n\u001b[1;32m-> 1489\u001b[1;33m               \u001b[0mtmp_logs\u001b[0m \u001b[1;33m=\u001b[0m \u001b[0mself\u001b[0m\u001b[1;33m.\u001b[0m\u001b[0mtest_function\u001b[0m\u001b[1;33m(\u001b[0m\u001b[0miterator\u001b[0m\u001b[1;33m)\u001b[0m\u001b[1;33m\u001b[0m\u001b[1;33m\u001b[0m\u001b[0m\n\u001b[0m\u001b[0;32m   1490\u001b[0m               \u001b[1;32mif\u001b[0m \u001b[0mdata_handler\u001b[0m\u001b[1;33m.\u001b[0m\u001b[0mshould_sync\u001b[0m\u001b[1;33m:\u001b[0m\u001b[1;33m\u001b[0m\u001b[1;33m\u001b[0m\u001b[0m\n\u001b[0;32m   1491\u001b[0m                 \u001b[0mcontext\u001b[0m\u001b[1;33m.\u001b[0m\u001b[0masync_wait\u001b[0m\u001b[1;33m(\u001b[0m\u001b[1;33m)\u001b[0m\u001b[1;33m\u001b[0m\u001b[1;33m\u001b[0m\u001b[0m\n",
      "\u001b[1;32m~\\anaconda3\\envs\\env_first\\lib\\site-packages\\tensorflow\\python\\eager\\def_function.py\u001b[0m in \u001b[0;36m__call__\u001b[1;34m(self, *args, **kwds)\u001b[0m\n\u001b[0;32m    887\u001b[0m \u001b[1;33m\u001b[0m\u001b[0m\n\u001b[0;32m    888\u001b[0m       \u001b[1;32mwith\u001b[0m \u001b[0mOptionalXlaContext\u001b[0m\u001b[1;33m(\u001b[0m\u001b[0mself\u001b[0m\u001b[1;33m.\u001b[0m\u001b[0m_jit_compile\u001b[0m\u001b[1;33m)\u001b[0m\u001b[1;33m:\u001b[0m\u001b[1;33m\u001b[0m\u001b[1;33m\u001b[0m\u001b[0m\n\u001b[1;32m--> 889\u001b[1;33m         \u001b[0mresult\u001b[0m \u001b[1;33m=\u001b[0m \u001b[0mself\u001b[0m\u001b[1;33m.\u001b[0m\u001b[0m_call\u001b[0m\u001b[1;33m(\u001b[0m\u001b[1;33m*\u001b[0m\u001b[0margs\u001b[0m\u001b[1;33m,\u001b[0m \u001b[1;33m**\u001b[0m\u001b[0mkwds\u001b[0m\u001b[1;33m)\u001b[0m\u001b[1;33m\u001b[0m\u001b[1;33m\u001b[0m\u001b[0m\n\u001b[0m\u001b[0;32m    890\u001b[0m \u001b[1;33m\u001b[0m\u001b[0m\n\u001b[0;32m    891\u001b[0m       \u001b[0mnew_tracing_count\u001b[0m \u001b[1;33m=\u001b[0m \u001b[0mself\u001b[0m\u001b[1;33m.\u001b[0m\u001b[0mexperimental_get_tracing_count\u001b[0m\u001b[1;33m(\u001b[0m\u001b[1;33m)\u001b[0m\u001b[1;33m\u001b[0m\u001b[1;33m\u001b[0m\u001b[0m\n",
      "\u001b[1;32m~\\anaconda3\\envs\\env_first\\lib\\site-packages\\tensorflow\\python\\eager\\def_function.py\u001b[0m in \u001b[0;36m_call\u001b[1;34m(self, *args, **kwds)\u001b[0m\n\u001b[0;32m    915\u001b[0m       \u001b[1;31m# In this case we have created variables on the first call, so we run the\u001b[0m\u001b[1;33m\u001b[0m\u001b[1;33m\u001b[0m\u001b[1;33m\u001b[0m\u001b[0m\n\u001b[0;32m    916\u001b[0m       \u001b[1;31m# defunned version which is guaranteed to never create variables.\u001b[0m\u001b[1;33m\u001b[0m\u001b[1;33m\u001b[0m\u001b[1;33m\u001b[0m\u001b[0m\n\u001b[1;32m--> 917\u001b[1;33m       \u001b[1;32mreturn\u001b[0m \u001b[0mself\u001b[0m\u001b[1;33m.\u001b[0m\u001b[0m_stateless_fn\u001b[0m\u001b[1;33m(\u001b[0m\u001b[1;33m*\u001b[0m\u001b[0margs\u001b[0m\u001b[1;33m,\u001b[0m \u001b[1;33m**\u001b[0m\u001b[0mkwds\u001b[0m\u001b[1;33m)\u001b[0m  \u001b[1;31m# pylint: disable=not-callable\u001b[0m\u001b[1;33m\u001b[0m\u001b[1;33m\u001b[0m\u001b[0m\n\u001b[0m\u001b[0;32m    918\u001b[0m     \u001b[1;32melif\u001b[0m \u001b[0mself\u001b[0m\u001b[1;33m.\u001b[0m\u001b[0m_stateful_fn\u001b[0m \u001b[1;32mis\u001b[0m \u001b[1;32mnot\u001b[0m \u001b[1;32mNone\u001b[0m\u001b[1;33m:\u001b[0m\u001b[1;33m\u001b[0m\u001b[1;33m\u001b[0m\u001b[0m\n\u001b[0;32m    919\u001b[0m       \u001b[1;31m# Release the lock early so that multiple threads can perform the call\u001b[0m\u001b[1;33m\u001b[0m\u001b[1;33m\u001b[0m\u001b[1;33m\u001b[0m\u001b[0m\n",
      "\u001b[1;32m~\\anaconda3\\envs\\env_first\\lib\\site-packages\\tensorflow\\python\\eager\\function.py\u001b[0m in \u001b[0;36m__call__\u001b[1;34m(self, *args, **kwargs)\u001b[0m\n\u001b[0;32m   3021\u001b[0m       (graph_function,\n\u001b[0;32m   3022\u001b[0m        filtered_flat_args) = self._maybe_define_function(args, kwargs)\n\u001b[1;32m-> 3023\u001b[1;33m     return graph_function._call_flat(\n\u001b[0m\u001b[0;32m   3024\u001b[0m         filtered_flat_args, captured_inputs=graph_function.captured_inputs)  # pylint: disable=protected-access\n\u001b[0;32m   3025\u001b[0m \u001b[1;33m\u001b[0m\u001b[0m\n",
      "\u001b[1;32m~\\anaconda3\\envs\\env_first\\lib\\site-packages\\tensorflow\\python\\eager\\function.py\u001b[0m in \u001b[0;36m_call_flat\u001b[1;34m(self, args, captured_inputs, cancellation_manager)\u001b[0m\n\u001b[0;32m   1958\u001b[0m         and executing_eagerly):\n\u001b[0;32m   1959\u001b[0m       \u001b[1;31m# No tape is watching; skip to running the function.\u001b[0m\u001b[1;33m\u001b[0m\u001b[1;33m\u001b[0m\u001b[1;33m\u001b[0m\u001b[0m\n\u001b[1;32m-> 1960\u001b[1;33m       return self._build_call_outputs(self._inference_function.call(\n\u001b[0m\u001b[0;32m   1961\u001b[0m           ctx, args, cancellation_manager=cancellation_manager))\n\u001b[0;32m   1962\u001b[0m     forward_backward = self._select_forward_and_backward_functions(\n",
      "\u001b[1;32m~\\anaconda3\\envs\\env_first\\lib\\site-packages\\tensorflow\\python\\eager\\function.py\u001b[0m in \u001b[0;36mcall\u001b[1;34m(self, ctx, args, cancellation_manager)\u001b[0m\n\u001b[0;32m    589\u001b[0m       \u001b[1;32mwith\u001b[0m \u001b[0m_InterpolateFunctionError\u001b[0m\u001b[1;33m(\u001b[0m\u001b[0mself\u001b[0m\u001b[1;33m)\u001b[0m\u001b[1;33m:\u001b[0m\u001b[1;33m\u001b[0m\u001b[1;33m\u001b[0m\u001b[0m\n\u001b[0;32m    590\u001b[0m         \u001b[1;32mif\u001b[0m \u001b[0mcancellation_manager\u001b[0m \u001b[1;32mis\u001b[0m \u001b[1;32mNone\u001b[0m\u001b[1;33m:\u001b[0m\u001b[1;33m\u001b[0m\u001b[1;33m\u001b[0m\u001b[0m\n\u001b[1;32m--> 591\u001b[1;33m           outputs = execute.execute(\n\u001b[0m\u001b[0;32m    592\u001b[0m               \u001b[0mstr\u001b[0m\u001b[1;33m(\u001b[0m\u001b[0mself\u001b[0m\u001b[1;33m.\u001b[0m\u001b[0msignature\u001b[0m\u001b[1;33m.\u001b[0m\u001b[0mname\u001b[0m\u001b[1;33m)\u001b[0m\u001b[1;33m,\u001b[0m\u001b[1;33m\u001b[0m\u001b[1;33m\u001b[0m\u001b[0m\n\u001b[0;32m    593\u001b[0m               \u001b[0mnum_outputs\u001b[0m\u001b[1;33m=\u001b[0m\u001b[0mself\u001b[0m\u001b[1;33m.\u001b[0m\u001b[0m_num_outputs\u001b[0m\u001b[1;33m,\u001b[0m\u001b[1;33m\u001b[0m\u001b[1;33m\u001b[0m\u001b[0m\n",
      "\u001b[1;32m~\\anaconda3\\envs\\env_first\\lib\\site-packages\\tensorflow\\python\\eager\\execute.py\u001b[0m in \u001b[0;36mquick_execute\u001b[1;34m(op_name, num_outputs, inputs, attrs, ctx, name)\u001b[0m\n\u001b[0;32m     57\u001b[0m   \u001b[1;32mtry\u001b[0m\u001b[1;33m:\u001b[0m\u001b[1;33m\u001b[0m\u001b[1;33m\u001b[0m\u001b[0m\n\u001b[0;32m     58\u001b[0m     \u001b[0mctx\u001b[0m\u001b[1;33m.\u001b[0m\u001b[0mensure_initialized\u001b[0m\u001b[1;33m(\u001b[0m\u001b[1;33m)\u001b[0m\u001b[1;33m\u001b[0m\u001b[1;33m\u001b[0m\u001b[0m\n\u001b[1;32m---> 59\u001b[1;33m     tensors = pywrap_tfe.TFE_Py_Execute(ctx._handle, device_name, op_name,\n\u001b[0m\u001b[0;32m     60\u001b[0m                                         inputs, attrs, num_outputs)\n\u001b[0;32m     61\u001b[0m   \u001b[1;32mexcept\u001b[0m \u001b[0mcore\u001b[0m\u001b[1;33m.\u001b[0m\u001b[0m_NotOkStatusException\u001b[0m \u001b[1;32mas\u001b[0m \u001b[0me\u001b[0m\u001b[1;33m:\u001b[0m\u001b[1;33m\u001b[0m\u001b[1;33m\u001b[0m\u001b[0m\n",
      "\u001b[1;31mInvalidArgumentError\u001b[0m:  indices[399] = [15, 126, 9, 2] does not index into param shape [14,227,227,3], node name: model_3/lambda_53/GatherNd\n\t [[node model_3/lambda_53/GatherNd (defined at C:\\Users\\usuario\\Desktop\\CNN_gating\\Nets.py:79) ]] [Op:__inference_test_function_8108]\n\nErrors may have originated from an input operation.\nInput Source operations connected to node model_3/lambda_53/GatherNd:\n model_3/lambda_52/Maximum (defined at C:\\Users\\usuario\\Desktop\\CNN_gating\\Nets.py:54)\n\nFunction call stack:\ntest_function\n"
     ]
    }
   ],
   "source": [
    "from copy import deepcopy\n",
    "from Stats import CheckAccuracyAndLoss\n",
    "from Simulation import save_obj, load_obj\n",
    "from datetime import datetime\n",
    "import itertools\n",
    "\n",
    "trainBatchSize = testBatchSize = 16\n",
    "_,_,test_dataset = GetDatasets('colorectal_histology',(80,5,15),(227,227), 8, trainBatchSize, testBatchSize)\n",
    "\n",
    "\n",
    "# Porciones del buffer con fallos a probar\n",
    "Accs     = {0.00001:[],0.00005:[],0.0001:[]}\n",
    "Loss     = {0.00001:[],0.00005:[],0.0001:[]}\n",
    "\n",
    "# Tamaño del buffer (en bits)\n",
    "network_size   = 290400*16\n",
    "# Numero de muestras de distintas configuraciones de fallos a testear por cada valor de Accs/Loss\n",
    "num_of_samples = 10\n",
    "for Enumber in Accs:\n",
    "    n_bits_fails = np.ceil(Enumber*network_size).astype(int)    #numero de bits con fallos\n",
    "    errors       = np.random.randint(0,2,n_bits_fails)          #tipo de fallos (0 o 1)\n",
    "    # crear una representacion del buffer x indica celda inafectada, 1 celda con valor 1 permanente y 0 celda con valor 0 perm.\n",
    "    buffer       = np.array(['x']*(network_size-n_bits_fails))  \n",
    "    buffer       = np.concatenate([buffer,errors])\n",
    "    for index in range(0,num_of_samples):\n",
    "        np.random.shuffle(buffer)  # crear un orden aleatorio de los errores en el buffer\n",
    "        # en las siguientes 4 lineas se obtienen las direcciones de los errores y los tipos de error\n",
    "        address_with_errors = np.reshape(buffer,(-1,16))\n",
    "        address_with_errors = [\"\".join(i) for i in address_with_errors]\n",
    "        error_mask = [y for x,y in enumerate(address_with_errors) if y.count('x') < 16]\n",
    "        locs       = [x for x,y in enumerate(address_with_errors) if y.count('x') < 16]\n",
    "        del address_with_errors\n",
    "        #ahora se obtiene el loss y acc para esta configuracion.\n",
    "        loss,acc   = CheckAccuracyAndLoss('AlexNet', test_dataset, wgt_dir, output_shape=8, input_shape = (227,227,3),\n",
    "                                            act_frac_size = 11, act_int_size = 4, wgt_frac_size = 11, wgt_int_size = 4,\n",
    "                                            batch_size=testBatchSize, verbose = 0, aging_active = True, weights_faults = True,\n",
    "                                            faulty_addresses = locs, masked_faults = error_mask)\n",
    "        Accs[Enumber].append(acc)\n",
    "        Loss[Enumber].append(loss)\n",
    "    print(str(Enumber)+' completada: ', datetime.now().strftime(\"%H:%M:%S\"))\n",
    "    save_obj(Accs,'Data/Errors/AlexNet/Colorectal Dataset/Accs')\n",
    "    save_obj(Loss,'Data/Errors/AlexNet/Colorectal Dataset/Loss')"
   ]
  },
  {
   "cell_type": "markdown",
   "metadata": {},
   "source": [
    "El resultado es un diccionario con accuracy y loss para cada muestra, por ejemplo, el caso de 0.0001 del buffer con fallos la accuracy ronda entre el 71 y 76% en los 10 casos aleatorios probados."
   ]
  },
  {
   "cell_type": "code",
   "execution_count": 21,
   "metadata": {},
   "outputs": [
    {
     "data": {
      "text/plain": [
       "{1e-05: [0.8960000276565552,\n",
       "  0.8920000195503235,\n",
       "  0.8920000195503235,\n",
       "  0.8946666717529297,\n",
       "  0.7720000147819519,\n",
       "  0.8920000195503235,\n",
       "  0.890666663646698,\n",
       "  0.8946666717529297,\n",
       "  0.890666663646698,\n",
       "  0.8920000195503235],\n",
       " 5e-05: [0.765333354473114,\n",
       "  0.7480000257492065,\n",
       "  0.8880000114440918,\n",
       "  0.7426666617393494,\n",
       "  0.753333330154419,\n",
       "  0.753333330154419,\n",
       "  0.7599999904632568,\n",
       "  0.7546666860580444,\n",
       "  0.7573333382606506,\n",
       "  0.8693333268165588],\n",
       " 0.0001: [0.7173333168029785,\n",
       "  0.7226666808128357,\n",
       "  0.753333330154419,\n",
       "  0.765333354473114,\n",
       "  0.7453333139419556,\n",
       "  0.7453333139419556,\n",
       "  0.7200000286102295,\n",
       "  0.7173333168029785,\n",
       "  0.7333333492279053,\n",
       "  0.7386666536331177]}"
      ]
     },
     "execution_count": 21,
     "metadata": {},
     "output_type": "execute_result"
    }
   ],
   "source": [
    "Accs"
   ]
  },
  {
   "cell_type": "code",
   "execution_count": 22,
   "metadata": {},
   "outputs": [
    {
     "data": {
      "text/plain": [
       "{1e-05: [0.3049889802932739,\n",
       "  0.3092735707759857,\n",
       "  0.30946847796440125,\n",
       "  0.3067629933357239,\n",
       "  0.419548898935318,\n",
       "  0.3104715645313263,\n",
       "  0.30960434675216675,\n",
       "  0.3095894455909729,\n",
       "  0.3115488588809967,\n",
       "  0.31026265025138855],\n",
       " 5e-05: [0.4529505968093872,\n",
       "  0.7103286385536194,\n",
       "  0.35412153601646423,\n",
       "  0.8556968569755554,\n",
       "  0.6248242259025574,\n",
       "  0.7324864268302917,\n",
       "  0.6764541268348694,\n",
       "  0.639049768447876,\n",
       "  0.7126033306121826,\n",
       "  0.37083348631858826],\n",
       " 0.0001: [1.0438001155853271,\n",
       "  0.9022111892700195,\n",
       "  0.7657878994941711,\n",
       "  0.5535755753517151,\n",
       "  0.7141972780227661,\n",
       "  0.5601784586906433,\n",
       "  1.2418019771575928,\n",
       "  0.97726970911026,\n",
       "  0.8188343048095703,\n",
       "  0.8354200124740601]}"
      ]
     },
     "execution_count": 22,
     "metadata": {},
     "output_type": "execute_result"
    }
   ],
   "source": [
    "Loss"
   ]
  },
  {
   "cell_type": "markdown",
   "metadata": {},
   "source": [
    "### &nbsp;&nbsp;&nbsp;&nbsp;&nbsp;&nbsp; a) Measuring effect of faults in weights"
   ]
  },
  {
   "cell_type": "markdown",
   "metadata": {},
   "source": [
    "Puedes hacer lo mismo para fallos en los pesos"
   ]
  },
  {
   "cell_type": "code",
   "execution_count": null,
   "metadata": {
    "scrolled": true
   },
   "outputs": [],
   "source": [
    "from copy import deepcopy\n",
    "from Stats import CheckAccuracyAndLoss\n",
    "from Simulation import save_obj, load_obj\n",
    "from datetime import datetime\n",
    "import itertools\n",
    "\n",
    "\n",
    "trainBatchSize = testBatchSize = 16\n",
    "_,_,test_dataset = GetDatasets('colorectal_histology',(80,5,15),(227,227), 8, trainBatchSize, testBatchSize)\n",
    "\n",
    "\n",
    "# Porciones del buffer con fallos a probar\n",
    "Accs     = {0.00001:[],0.00005:[],0.0001:[]}\n",
    "Loss     = {0.00001:[],0.00005:[],0.0001:[]}\n",
    "\n",
    "# Tamaño del buffer (en bits)\n",
    "network_size   = 885120*16\n",
    "num_of_samples = 200\n",
    "for Enumber in Accs:\n",
    "    n_bits_fails = np.ceil(Enumber*290400).astype(int)\n",
    "    errors       = np.random.randint(0,2,n_bits_fails)\n",
    "    buffer       = np.array(['x']*(network_size-n_bits_fails))\n",
    "    buffer       = np.concatenate([buffer,errors])\n",
    "    for index in range(0,num_of_samples):\n",
    "        np.random.shuffle(buffer)\n",
    "        address_with_errors = np.reshape(buffer,(-1,16))\n",
    "        address_with_errors = [\"\".join(i) for i in address_with_errors]\n",
    "        error_mask = [y for x,y in enumerate(address_with_errors) if y.count('x') < 16]\n",
    "        locs       = [x for x,y in enumerate(address_with_errors) if y.count('x') < 16]\n",
    "        del address_with_errors\n",
    "        loss,acc   = CheckAccuracyAndLoss('AlexNet', test_dataset, wgt_dir, output_shape=8, input_shape = (227,227,3),\n",
    "                                            act_frac_size = 11, act_int_size = 4, wgt_frac_size = 11, wgt_int_size = 4,\n",
    "                                            batch_size=testBatchSize, verbose = 0, aging_active = False, weights_faults = True,\n",
    "                                            faulty_addresses = locs, masked_faults = error_mask)\n",
    "        print(index,' completados: ', datetime.now().strftime(\"%H:%M:%S\"))\n",
    "        Accs[Enumber].append(acc)\n",
    "        Loss[Enumber].append(loss)\n",
    "    print(str(Enumber)+' completada: ', datetime.now().strftime(\"%H:%M:%S\"))\n",
    "    save_obj(Accs,'Data/Errors/AlexNet/Colorectal Dataset/Uniform distribution/weights Accs')\n",
    "    save_obj(Loss,'Data/Errors/AlexNet/Colorectal Dataset/Uniform distribution/weights Loss')"
   ]
  },
  {
   "cell_type": "code",
   "execution_count": null,
   "metadata": {},
   "outputs": [],
   "source": []
  }
 ],
 "metadata": {
  "kernelspec": {
   "display_name": "Python 3 (ipykernel)",
   "language": "python",
   "name": "python3"
  },
  "language_info": {
   "codemirror_mode": {
    "name": "ipython",
    "version": 3
   },
   "file_extension": ".py",
   "mimetype": "text/x-python",
   "name": "python",
   "nbconvert_exporter": "python",
   "pygments_lexer": "ipython3",
   "version": "3.8.0"
  }
 },
 "nbformat": 4,
 "nbformat_minor": 4
}
