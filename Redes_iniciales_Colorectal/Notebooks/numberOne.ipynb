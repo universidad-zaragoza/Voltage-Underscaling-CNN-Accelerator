{
 "cells": [
  {
   "cell_type": "code",
   "execution_count": 2,
   "id": "fa1bdc48",
   "metadata": {},
   "outputs": [],
   "source": [
    "%load_ext autoreload\n",
    "%autoreload 2\n",
    "\n",
    "import tensorflow as tf\n",
    "import os\n",
    "import sys\n",
    "import numpy as np\n",
    "import pandas as pd\n",
    "import seaborn as sns\n",
    "import matplotlib.pyplot as plt\n",
    "\n",
    "from Training import GetDatasets\n",
    "from Nets  import GetNeuralNetworkModel\n",
    "from Stats import WeightQuantization, ActivationStats, CheckAccuracyAndLoss, QuantizationEffect, GetReadAndWrites\n",
    "from Simulation import buffer_simulation, save_obj, load_obj\n",
    "\n",
    "\n",
    "tf.random.set_seed(1234)\n",
    "np.random.seed(1234)"
   ]
  },
  {
   "cell_type": "code",
   "execution_count": 4,
   "id": "6eb64951",
   "metadata": {},
   "outputs": [
    {
     "name": "stdout",
     "output_type": "stream",
     "text": [
      "WARNING:tensorflow:From <ipython-input-4-93732b49d429>:1: is_gpu_available (from tensorflow.python.framework.test_util) is deprecated and will be removed in a future version.\n",
      "Instructions for updating:\n",
      "Use `tf.config.list_physical_devices('GPU')` instead.\n"
     ]
    },
    {
     "data": {
      "text/plain": [
       "False"
      ]
     },
     "execution_count": 4,
     "metadata": {},
     "output_type": "execute_result"
    }
   ],
   "source": [
    "tf.test.is_gpu_available(True, 2.0)"
   ]
  },
  {
   "cell_type": "markdown",
   "id": "5141c2a9",
   "metadata": {},
   "source": [
    "a) Get Dataset"
   ]
  },
  {
   "cell_type": "code",
   "execution_count": 2,
   "id": "bea783a5",
   "metadata": {},
   "outputs": [],
   "source": [
    "train_batch_size = test_batch_size = 32\n",
    "\n",
    "train_set,valid_set,test_set = GetDatasets('colorectal_histology',(80,5,15),(227,227), 8, train_batch_size, test_batch_size)"
   ]
  },
  {
   "cell_type": "markdown",
   "id": "52603665",
   "metadata": {},
   "source": [
    "a) Get Model"
   ]
  },
  {
   "cell_type": "code",
   "execution_count": 3,
   "id": "068ebcc5",
   "metadata": {},
   "outputs": [
    {
     "data": {
      "text/plain": [
       "{'train': <PrefetchDataset shapes: {filename: (), image: (150, 150, 3), label: ()}, types: {filename: tf.string, image: tf.uint8, label: tf.int64}>}"
      ]
     },
     "execution_count": 3,
     "metadata": {},
     "output_type": "execute_result"
    }
   ],
   "source": [
    "import tensorflow_datasets as tfds\n",
    "tfds.load('colorectal_histology')"
   ]
  },
  {
   "cell_type": "markdown",
   "id": "9cf840ef",
   "metadata": {},
   "source": [
    "Se crea la red, sin activar la cuantización ni el efecto de envejecimiento\n",
    "Las dimensiones de entrada de la imagen (227,227), el número de clases (8) y el tamaño de los batches"
   ]
  },
  {
   "cell_type": "code",
   "execution_count": 4,
   "id": "3ca3cfe4",
   "metadata": {},
   "outputs": [],
   "source": [
    "AlexNet   = GetNeuralNetworkModel('AlexNet',(227,227,3),8, quantization = False, aging_active=False)\n",
    "loss      = tf.keras.losses.CategoricalCrossentropy()\n",
    "optimizer = tf.keras.optimizers.Adam(learning_rate=1e-4)\n",
    "AlexNet.compile(optimizer=optimizer, loss=loss, metrics=['accuracy'])"
   ]
  },
  {
   "cell_type": "markdown",
   "id": "2298dafd",
   "metadata": {},
   "source": [
    " b) Load/Save Weigths"
   ]
  },
  {
   "cell_type": "code",
   "execution_count": 5,
   "id": "0ace804a",
   "metadata": {},
   "outputs": [
    {
     "data": {
      "text/plain": [
       "<tensorflow.python.training.tracking.util.CheckpointLoadStatus at 0x2c7a0e4eac0>"
      ]
     },
     "execution_count": 5,
     "metadata": {},
     "output_type": "execute_result"
    }
   ],
   "source": [
    "cwd = os.getcwd()\n",
    "wgt_dir = os.path.join(cwd, 'Data')\n",
    "wgt_dir = os.path.join(wgt_dir, 'Trained Weights')\n",
    "wgt_dir = os.path.join(wgt_dir, 'AlexNet')\n",
    "wgt_dir = os.path.join(wgt_dir, 'Colorectal Dataset')\n",
    "wgt_dir = os.path.join(wgt_dir, 'Weights') \n",
    "AlexNet.load_weights(wgt_dir)"
   ]
  },
  {
   "cell_type": "markdown",
   "id": "e7447c8b",
   "metadata": {},
   "source": [
    "Evaluación del accuracy y loss de la red"
   ]
  },
  {
   "cell_type": "code",
   "execution_count": 6,
   "id": "4cc4bf09",
   "metadata": {},
   "outputs": [
    {
     "name": "stdout",
     "output_type": "stream",
     "text": [
      "24/24 [==============================] - 8s 297ms/step - loss: 0.3156 - accuracy: 0.8853\n",
      "<BatchDataset shapes: ((None, 227, 227, 3), (None, 8)), types: (tf.float32, tf.float32)>\n"
     ]
    }
   ],
   "source": [
    "(OrigLoss,OrigAcc) = AlexNet.evaluate(test_set)\n",
    "print(test_set)"
   ]
  },
  {
   "cell_type": "markdown",
   "id": "96537926",
   "metadata": {},
   "source": [
    "2) Stats"
   ]
  },
  {
   "cell_type": "markdown",
   "id": "37d4c6a2",
   "metadata": {},
   "source": [
    " Write/Read Stats¶"
   ]
  },
  {
   "cell_type": "markdown",
   "id": "8eb9f54e",
   "metadata": {},
   "source": [
    "Se identifican (manualmente) las capas procesadadas(Convoluciones, Full conectadas y Pooling) junto a las capas que contienen los resultados que se escribiran en el buffer (capas luego de la funcion de activacion y/o Normalizacion)"
   ]
  },
  {
   "cell_type": "code",
   "execution_count": 197,
   "id": "546ec9a7",
   "metadata": {},
   "outputs": [
    {
     "name": "stdout",
     "output_type": "stream",
     "text": [
      "0 input_2\n",
      "1 lambda_26\n",
      "2 lambda_27\n",
      "3 Conv1\n",
      "4 lambda_28\n",
      "5 re_lu_7\n",
      "6 batch_normalization_5\n",
      "7 lambda_29\n",
      "8 lambda_30\n",
      "9 max_pooling2d_3\n",
      "10 lambda_31\n",
      "11 Conv2\n",
      "12 lambda_32\n",
      "13 re_lu_8\n",
      "14 batch_normalization_6\n",
      "15 lambda_33\n",
      "16 lambda_34\n",
      "17 max_pooling2d_4\n",
      "18 lambda_35\n",
      "19 Conv3\n",
      "20 lambda_36\n",
      "21 re_lu_9\n",
      "22 batch_normalization_7\n",
      "23 lambda_37\n",
      "24 lambda_38\n",
      "25 Conv4\n",
      "26 lambda_39\n",
      "27 re_lu_10\n",
      "28 batch_normalization_8\n",
      "29 lambda_40\n",
      "30 lambda_41\n",
      "31 Conv5\n",
      "32 lambda_42\n",
      "33 re_lu_11\n",
      "34 batch_normalization_9\n",
      "35 lambda_43\n",
      "36 lambda_44\n",
      "37 max_pooling2d_5\n",
      "38 lambda_45\n",
      "39 flatten_1\n",
      "40 dense_3\n",
      "41 lambda_46\n",
      "42 re_lu_12\n",
      "43 dropout_2\n",
      "44 lambda_47\n",
      "45 dense_4\n",
      "46 lambda_48\n",
      "47 re_lu_13\n",
      "48 dropout_3\n",
      "49 lambda_49\n",
      "50 dense_5\n",
      "51 lambda_50\n",
      "52 tf.compat.v1.nn.softmax_1\n",
      "53 lambda_51\n",
      "Las capas 0,3,9,11,17,19,25,31,37,40,45 y 50  contienen la informacion para su procesamiento en MMU\n",
      "Las capas 2,8,10,16,18,24,30,36,38,44,49 y 53 contienen las activaciones que son escritas en memoria\n"
     ]
    }
   ],
   "source": [
    "for index,layer in enumerate(AlexNet.layers):\n",
    "    print(index,layer.name)\n",
    "print('Las capas 0,3,9,11,17,19,25,31,37,40,45 y 50  contienen la informacion para su procesamiento en MMU')\n",
    "print('Las capas 2,8,10,16,18,24,30,36,38,44,49 y 53 contienen las activaciones que son escritas en memoria')"
   ]
  },
  {
   "cell_type": "markdown",
   "id": "8a2f985e",
   "metadata": {},
   "source": [
    "Con el siguiente bloque obtenemos el número de lecturas y escrituras por posición de memoria tanto usando la estrategia de CNN Gating o sin usarla"
   ]
  },
  {
   "cell_type": "code",
   "execution_count": 13,
   "id": "85e7f618",
   "metadata": {},
   "outputs": [],
   "source": [
    "num_address  = 290400\n",
    "Indices      = [0,3,9,11,17,19,25,31,37,40,45,50]\n",
    "samples      = 2\n",
    "# Sin Power Gating:\n",
    "Data         = GetReadAndWrites(AlexNet,Indices,num_address,samples,CNN_gating=False)\n",
    "stats        = {'Lecturas': Data['Reads'],'Escrituras': Data['Writes']}\n",
    "Baseline_Acceses   = pd.DataFrame(stats).reset_index(drop=False)\n",
    "# Con Power Gating\n",
    "Data     = GetReadAndWrites(AlexNet,Indices,num_address,samples,CNN_gating=True)\n",
    "stats    = {'Lecturas': Data['Reads'],'Escrituras': Data['Writes']}\n",
    "CNN_gating_Acceses = pd.DataFrame(stats).reset_index(drop=False)\n",
    "#save_obj(Data,'Data/Acceses/AlexNet/Colorectal_Dataset/Baseline')\n",
    "#save_obj(stats,'Data/Acceses/AlexNet/Colorectal_Dataset/CNN_gating_Adj')"
   ]
  },
  {
   "cell_type": "markdown",
   "id": "9510c6a8",
   "metadata": {},
   "source": [
    "Buffer Simulation"
   ]
  },
  {
   "cell_type": "markdown",
   "id": "6df46c5a",
   "metadata": {},
   "source": [
    "simulación del comportamiento de 1 buffer durante la inferencia de 3 imagenes (solo 3 como ejemplo), la red se crea\n",
    " activando la cuantizacion pero no el envejecimiento. LI y AI son los definidos en el item 2) Stats"
   ]
  },
  {
   "cell_type": "markdown",
   "id": "75dfb062",
   "metadata": {},
   "source": [
    "Como resultado tenemos los siguientes dataframes\n",
    ".Baseline_Acceses\n",
    ".CNN_gating_Acceses\n",
    "\n",
    "............Analizar que hacer con ellos qu infoemación valiosa me brindan"
   ]
  },
  {
   "cell_type": "markdown",
   "id": "53a59dfd",
   "metadata": {},
   "source": [
    "3) Quantization\n",
    "Ver como afecta la cuantización, tanto en pesos como en activaciones a la accuracy y loss"
   ]
  },
  {
   "cell_type": "markdown",
   "id": "3282adfb",
   "metadata": {},
   "source": [
    "  ..............a) Number of bits analysis   Poner codigo para cargar los ficheros cuantizados"
   ]
  },
  {
   "cell_type": "markdown",
   "id": "1558152e",
   "metadata": {},
   "source": [
    " b) Used Config"
   ]
  },
  {
   "cell_type": "markdown",
   "id": "64cdb3b8",
   "metadata": {},
   "source": [
    " En base a lo anterior parece prudente usar 11 bits de fracción junto a 4 bits de parte entera tanto para pesos como activaciones, los resultados bajo esa configuracion se pueden obtener usando la función CheckAccurucyAndLoss()"
   ]
  },
  {
   "cell_type": "markdown",
   "id": "cf286972",
   "metadata": {},
   "source": [
    "Analizar la posibilidad de usar menos bits"
   ]
  },
  {
   "cell_type": "code",
   "execution_count": 11,
   "id": "11fbc962",
   "metadata": {},
   "outputs": [
    {
     "name": "stdout",
     "output_type": "stream",
     "text": [
      "24/24 [==============================] - 16s 644ms/step - loss: 0.3125 - accuracy: 0.8907\n"
     ]
    }
   ],
   "source": [
    "CheckAccuracyAndLoss('AlexNet', test_set, wgt_dir, act_frac_size = 11, act_int_size = 4, wgt_frac_size = 11, wgt_int_size = 4, \n",
    "                    input_shape = (227,227,3), output_shape = 8, batch_size = test_batch_size);"
   ]
  },
  {
   "cell_type": "markdown",
   "id": "ab73b3eb",
   "metadata": {},
   "source": [
    " c) Activation Stats"
   ]
  },
  {
   "cell_type": "markdown",
   "id": "0b9c090e",
   "metadata": {},
   "source": [
    "Para la configuración anterior, se observa el valor medio,maximo,minimo y el ratio de saturación tanto de las activaciones procesadas dentro de la unidad matricial de multiplicacion como de las almacenadas en el buffer. Nota: el ultimo parametro indica el numero de iteraciones que se deben realizar hasta agotar el dataset, se obtiene como numero de imagenes del dataset dividido en el batch size."
   ]
  },
  {
   "cell_type": "code",
   "execution_count": 12,
   "id": "155db7cc",
   "metadata": {},
   "outputs": [
    {
     "name": "stdout",
     "output_type": "stream",
     "text": [
      "mean value (MMU): -0.18011768\n",
      "mean value (Buffer): 0.13878344\n",
      "maximum (MMU): 45.118935\n",
      "minimum (MMU): -76.98705\n",
      "maximum (Buffer): 44.172142\n",
      "minimum (Buffer): -3.4607625\n",
      "saturation ratio (MMU): 0.002840600757529724\n",
      "saturation ratio (Buffer): 7.009283344612763e-06\n"
     ]
    }
   ],
   "source": [
    "ActivationStats(AlexNet,test_set,11,4,24)"
   ]
  },
  {
   "cell_type": "markdown",
   "id": "a732a97e",
   "metadata": {},
   "source": [
    "3) Buffer Simulation"
   ]
  },
  {
   "cell_type": "markdown",
   "id": "1b90184f",
   "metadata": {},
   "source": [
    " a) Baseline"
   ]
  },
  {
   "cell_type": "markdown",
   "id": "8f5025ac",
   "metadata": {},
   "source": [
    "Ahora para el Baseline simularemos el comportamiento de 1 buffer durante la inferencia de 3 imagenes (solo 3 como ejemplo), la red se crea ahora activando la cuantizacion pero no el envejecimiento. LI y AI son los definidos en el item 2) Stats"
   ]
  },
  {
   "cell_type": "markdown",
   "id": "415ad183",
   "metadata": {},
   "source": [
    "......estos ficheros ya están , solo cargar e interpretarlos"
   ]
  },
  {
   "cell_type": "markdown",
   "id": "7765d75f",
   "metadata": {},
   "source": [
    "Sin inyectar errores original"
   ]
  },
  {
   "cell_type": "code",
   "execution_count": 38,
   "id": "36b8d8b3",
   "metadata": {},
   "outputs": [],
   "source": [
    "## from copy import deepcopy\n",
    "#from Stats import CheckAccuracyAndLoss\n",
    "#from Simulation import save_obj, load_obj\n",
    "#from datetime import datetime\n",
    "#import itertools\n",
    "#from Training import GetDatasets\n",
    "#import numpy as np\n",
    "#import os\n",
    "#\n",
    "#cwd = os.getcwd()\n",
    "#wgt_dir = os.path.join(cwd, 'Data')\n",
    "#wgt_dir = os.path.join(wgt_dir, 'Trained Weights')\n",
    "#wgt_dir = os.path.join(wgt_dir, 'AlexNet')\n",
    "#wgt_dir = os.path.join(wgt_dir, 'Colorectal Dataset')\n",
    "#wgt_dir = os.path.join(wgt_dir,'Weights')\n",
    "#    \n",
    "#\n",
    "#trainBatchSize = testBatchSize = 16\n",
    "#_,_,test_dataset = GetDatasets('colorectal_histology',(80,5,15),(227,227), 8, trainBatchSize, testBatchSize)\n",
    "#\n",
    "#\n",
    "#\n",
    "## Porciones del buffer  a probar\n",
    "#Accs     = {0.0:[],0.00001:[],0.00005:[],0.0001:[],0.1:[]}\n",
    "#Loss     = {0.0:[],0.00001:[],0.00005:[],0.0001:[],0.1:[]}\n",
    "#\n",
    "#\n",
    "#network_size   = 290400*16   # Tamaño del buffer (en bits)\n",
    "#num_of_samples = 10       # Numero de muestras de distintas configuraciones de fallos a testear por cada valor de Accs/Loss\n",
    "#for Enumber in Accs:\n",
    "#    print(Enumber)\n",
    "#    n_bits_total = np.ceil(network_size).astype(int)    #numero de bits totales\n",
    "#    print(n_bits_total)\n",
    "#    buffer = np.array(['0']*(network_size))\n",
    "#    print(buffer)\n",
    "#    for index in range(0,num_of_samples):\n",
    "#        \n",
    "#        loss,acc   = CheckAccuracyAndLoss('AlexNet', test_dataset, wgt_dir, output_shape=8, input_shape = (227,227,3),\n",
    "#                                            act_frac_size = 11, act_int_size = 4, wgt_frac_size = 11, wgt_int_size = 4,\n",
    "#                                            batch_size=testBatchSize, verbose = 0, aging_active = False, weights_faults = False)\n",
    "#       \n",
    "#        print(Enumber)\n",
    "#        print(acc)\n",
    "#        print(loss)\n",
    "#      \n",
    "#        \n",
    "#        Accs[Enumber].append(acc)\n",
    "#        Loss[Enumber].append(loss)\n",
    "#print(str(n_bits_total)+' completada: ', datetime.now().strftime(\"%H:%M:%S\"))\n",
    "#save_obj(Accs,'Data/Errors/AlexNet/Colorectal Dataset/Accs')\n",
    "#save_obj(Loss,'Data/Errors/AlexNet/Colorectal Dataset/Loss')"
   ]
  },
  {
   "cell_type": "code",
   "execution_count": 32,
   "id": "de724cc5",
   "metadata": {},
   "outputs": [
    {
     "name": "stdout",
     "output_type": "stream",
     "text": [
      "[0.890666663646698, 0.890666663646698, 0.890666663646698, 0.890666663646698, 0.890666663646698, 0.8866666555404663, 0.8866666555404663, 0.8866666555404663, 0.8866666555404663, 0.8866666555404663, 0.8880000114440918, 0.8893333077430725, 0.8880000114440918, 0.8893333077430725, 0.8880000114440918]\n"
     ]
    }
   ],
   "source": [
    "print(load_file('Data/Fault Characterization/wgt/Accs_w_707_55'))\n",
    "#save_file(Accs,'Data/Fault Characterization/Accs')"
   ]
  },
  {
   "cell_type": "markdown",
   "id": "e3001e53",
   "metadata": {},
   "source": [
    "# Tareas pendientes\n",
    "\n",
    "## 1- Probar con otros ficheros en alexnet con los demás ficheros(colocando 1 y sacar el acc)\n",
    "## ok2- ok-Analizar los cambios en los valores con todo 0 , todo 1 y la media de o y 1. \n",
    "## ok 2.1- graficar eje x los voltajes, eje y los accurancy y representar los para cuando se coloca todo en 0, todo en 1 y malores medios.\n",
    "## 3- Probar con otras redes de la tabla del articulo \n",
    "## 4-tipos de datos  para los pesos y activaciones , que mapa de errores utiliza para los pesos , para los pesos que coja otra parte del mapa de errores(weights_faults = False,)\n",
    "# ok2.1.1.Analizar la función la semilla, para que los 1 y o aleatorios siempre sean iguales\n",
    "# 5- extras mios: probar hacer un mapa de calor de los buffer segun las variantes\n",
    "# ok.Normalizar la gráfica teniendo en cuenta el original"
   ]
  },
  {
   "cell_type": "markdown",
   "id": "2355d2a6",
   "metadata": {},
   "source": [
    "# Analizando el fichero en su estado original"
   ]
  },
  {
   "cell_type": "code",
   "execution_count": 220,
   "id": "06c1d4f6",
   "metadata": {},
   "outputs": [
    {
     "name": "stdout",
     "output_type": "stream",
     "text": [
      "Cantidad de errores de todo el fihero: 62\n",
      "Cantidad de elementos por tipo : Counter({'x': 14581698, '0': 62})\n",
      "Cantidad de elementos por tipo : Counter({'x': 16777144, '0': 72})\n",
      "16777216\n",
      "\n",
      "[0.890666663646698, 0.890666663646698]\n",
      " operación completada:  16:06:28\n"
     ]
    }
   ],
   "source": [
    "# from copy import deepcopy\n",
    "from Stats import CheckAccuracyAndLoss\n",
    "from Simulation import save_obj, load_obj\n",
    "from FileAnalize import analize_file, analize_file_uno,analize_file_uno_ceros, save_file, load_file\n",
    "from funciones import buffer_vectores\n",
    "import collections\n",
    "from datetime import datetime\n",
    "import itertools\n",
    "from Training import GetDatasets\n",
    "import numpy as np\n",
    "import matplotlib.pyplot as plt\n",
    "from scipy.stats import poisson\n",
    "\n",
    "import csv\n",
    "import os, sys\n",
    "\n",
    " \n",
    "cwd = os.getcwd()\n",
    "wgt_dir = os.path.join(cwd, 'Data')\n",
    "wgt_dir = os.path.join(wgt_dir, 'Trained Weights')\n",
    "wgt_dir = os.path.join(wgt_dir, 'AlexNet')\n",
    "wgt_dir = os.path.join(wgt_dir, 'Colorectal Dataset')\n",
    "wgt_dir = os.path.join(wgt_dir,'Weights')\n",
    "    \n",
    "\n",
    "trainBatchSize = testBatchSize = 16\n",
    "_,_,test_dataset = GetDatasets('colorectal_histology',(80,5,15),(227,227), 8, trainBatchSize, testBatchSize)\n",
    "\n",
    "\n",
    "Accs = []\n",
    "Accs_w=[]\n",
    "#network_size   = 16777216   # Tamaño del buffer (en bits)\n",
    "#headers=[\"ceros_a\",\"uno_a\",\"ce_un_a\"]\n",
    "\n",
    "    #num_of_samples = 1      # Numero de muestras de distintas configuraciones de fallos a testear por cada valor de Accs/Loss\n",
    "\n",
    "\n",
    "buffer= (analize_file(('Data/Fault Characterization/KC705_B/RowData/KC705B-0.56.bin'), 16777216))\n",
    "\n",
    "\n",
    "for index in range(0,num_of_samples):\n",
    "    \n",
    "    address_with_errors = np.reshape(buffer,(-1,16))    \n",
    "    address_with_errors = [\"\".join(i) for i in address_with_errors[0:1000]]\n",
    "        #print(address_with_errors)\n",
    "        \n",
    "    error_mask = [y for x,y in enumerate(address_with_errors) if y.count('x') < 16]  \n",
    "        \n",
    "        #print(error_mask)\n",
    "    locs = [x for x,y in enumerate(address_with_errors) if y.count('x') < 1]\n",
    "  \n",
    "   \n",
    "    del address_with_errors\n",
    "           \n",
    "    loss,acc   = CheckAccuracyAndLoss('AlexNet', test_dataset, wgt_dir, output_shape=8, input_shape = (227,227,3),\n",
    "                                                act_frac_size = 11, act_int_size = 4, wgt_frac_size = 11, wgt_int_size = 4,\n",
    "                                                batch_size=testBatchSize, verbose = 0, aging_active = True, weights_faults = False,\n",
    "                                                faulty_addresses = locs, masked_faults = error_mask)\n",
    "    \n",
    "    loss,acc_w   = CheckAccuracyAndLoss('AlexNet', test_dataset, wgt_dir, output_shape=8, input_shape = (227,227,3),\n",
    "                                                act_frac_size = 11, act_int_size = 4, wgt_frac_size = 11, wgt_int_size = 4,\n",
    "                                                batch_size=testBatchSize, verbose = 0, aging_active = False, weights_faults = True,\n",
    "                                                faulty_addresses = locs, masked_faults = error_mask)\n",
    "    Accs.append(acc)\n",
    "    Accs_w.append(acc_w)\n",
    "\n",
    "df = pd.DataFrame(columns=['Acc', 'a_w'])\n",
    "Acc=pd.DataFrame(Accs)\n",
    "a_w =pd.DataFrame(Accs_w)\n",
    "\n",
    "\n",
    "#df.append(pd.DataFrame(Acc, columns=['Acc'] ))\n",
    "#df.append (pd.DataFrame(a_w, columns=['a_w'] ))\n",
    "\n",
    "ff3 = pd.concat([Acc,a_w], axis=1, join='outer')\n",
    "\n",
    "#Acc = Acc.set_index('Acc')\n",
    "\n",
    "\n",
    "\n",
    "\n",
    "Acc.head()\n",
    "\n",
    "print()\n",
    "    \n",
    "#Accs= df.append(pd.DataFrame(acc, columns=['Accs'] ))\n",
    "#a_w= df.append (pd.DataFrame(acc_w, columns=['a_w'] ))\n",
    "\n",
    "#Acc=pd.DataFrame([0.7,0.6,0.5,0.4,0.3,0.2,0.1])\n",
    "#a_w =pd.DataFrame([0.1, 0.2, 0.3, 0.4, 0.5, 0.6,0.7])\n",
    "    \n",
    "#fv = pd.concat([Accs,a_w], axis=1, join='outer')\n",
    "#Accs.head() \n",
    "      \n",
    "    \n",
    "    #archivo = open(\"fsiete.csv\", \"w\")\n",
    "    ##titulor= ´\"\"\n",
    "    #archivo.write(str(\"acc\"))\n",
    "    #archivo.write(\";\")\n",
    "    #archivo.close()\n",
    "    #   \n",
    "Accs.append(acc)\n",
    "    \n",
    "print(Accs)    \n",
    "    \n",
    "        \n",
    "    \n",
    "    #Loss[Enumber].append(loss)\n",
    "    \n",
    "\n",
    "print(str()+' operación completada: ', datetime.now().strftime(\"%H:%M:%S\"))\n",
    "#save_file(Accs,'Data/Fault Characterization/Accs')\n",
    "\n",
    "#save_obj(Loss,'Data/Errors/AlexNet/Colorectal Dataset/Loss')"
   ]
  },
  {
   "cell_type": "code",
   "execution_count": 222,
   "id": "1b227c3c",
   "metadata": {},
   "outputs": [
    {
     "data": {
      "text/html": [
       "<div>\n",
       "<style scoped>\n",
       "    .dataframe tbody tr th:only-of-type {\n",
       "        vertical-align: middle;\n",
       "    }\n",
       "\n",
       "    .dataframe tbody tr th {\n",
       "        vertical-align: top;\n",
       "    }\n",
       "\n",
       "    .dataframe thead th {\n",
       "        text-align: right;\n",
       "    }\n",
       "</style>\n",
       "<table border=\"1\" class=\"dataframe\">\n",
       "  <thead>\n",
       "    <tr style=\"text-align: right;\">\n",
       "      <th></th>\n",
       "      <th>0</th>\n",
       "      <th>0</th>\n",
       "    </tr>\n",
       "  </thead>\n",
       "  <tbody>\n",
       "    <tr>\n",
       "      <th>0</th>\n",
       "      <td>0.890667</td>\n",
       "      <td>0.890667</td>\n",
       "    </tr>\n",
       "  </tbody>\n",
       "</table>\n",
       "</div>"
      ],
      "text/plain": [
       "          0         0\n",
       "0  0.890667  0.890667"
      ]
     },
     "execution_count": 222,
     "metadata": {},
     "output_type": "execute_result"
    }
   ],
   "source": [
    "ff3"
   ]
  },
  {
   "cell_type": "markdown",
   "id": "6c66eed6",
   "metadata": {},
   "source": [
    "# inyectar errores en pesos y activaciones "
   ]
  },
  {
   "cell_type": "code",
   "execution_count": 7,
   "id": "03d6df69",
   "metadata": {},
   "outputs": [
    {
     "name": "stdout",
     "output_type": "stream",
     "text": [
      "['VC707-0.54.bin', 'VC707-0.55.bin', 'VC707-0.56.bin', 'VC707-0.57.bin', 'VC707-0.58.bin', 'VC707-0.59.bin', 'VC707-0.60.bin']\n",
      "Data\\Fault Characterization\\VC707\\RawData\\VC707-0.54.bin\n",
      "['x' 'x' 'x' ... 'x' 'x' 'x']\n",
      "estoy aqi\n",
      "error_mask_activ []\n",
      "locs_act []\n",
      "error_mask_pesos: []\n",
      "locs_p []\n",
      "10000\n",
      "['VC707-0.54.bin', 'VC707-0.55.bin', 'VC707-0.56.bin', 'VC707-0.57.bin', 'VC707-0.58.bin', 'VC707-0.59.bin', 'VC707-0.60.bin']\n",
      "Data\\Fault Characterization\\VC707\\RawData\\VC707-0.55.bin\n",
      "['x' 'x' 'x' ... 'x' 'x' 'x']\n",
      "estoy aqi\n",
      "error_mask_activ []\n",
      "locs_act []\n",
      "error_mask_pesos: []\n",
      "locs_p []\n",
      "10000\n",
      "['VC707-0.54.bin', 'VC707-0.55.bin', 'VC707-0.56.bin', 'VC707-0.57.bin', 'VC707-0.58.bin', 'VC707-0.59.bin', 'VC707-0.60.bin']\n",
      "Data\\Fault Characterization\\VC707\\RawData\\VC707-0.56.bin\n",
      "['x' 'x' 'x' ... 'x' 'x' 'x']\n",
      "estoy aqi\n",
      "error_mask_activ []\n",
      "locs_act []\n",
      "error_mask_pesos: []\n",
      "locs_p []\n",
      "10000\n",
      "['VC707-0.54.bin', 'VC707-0.55.bin', 'VC707-0.56.bin', 'VC707-0.57.bin', 'VC707-0.58.bin', 'VC707-0.59.bin', 'VC707-0.60.bin']\n",
      "Data\\Fault Characterization\\VC707\\RawData\\VC707-0.57.bin\n",
      "['x' 'x' 'x' ... 'x' 'x' 'x']\n",
      "estoy aqi\n",
      "error_mask_activ []\n",
      "locs_act []\n",
      "error_mask_pesos: []\n",
      "locs_p []\n",
      "10000\n",
      "['VC707-0.54.bin', 'VC707-0.55.bin', 'VC707-0.56.bin', 'VC707-0.57.bin', 'VC707-0.58.bin', 'VC707-0.59.bin', 'VC707-0.60.bin']\n",
      "Data\\Fault Characterization\\VC707\\RawData\\VC707-0.58.bin\n",
      "['x' 'x' 'x' ... 'x' 'x' 'x']\n",
      "estoy aqi\n",
      "error_mask_activ []\n",
      "locs_act []\n",
      "error_mask_pesos: []\n",
      "locs_p []\n",
      "10000\n",
      "['VC707-0.54.bin', 'VC707-0.55.bin', 'VC707-0.56.bin', 'VC707-0.57.bin', 'VC707-0.58.bin', 'VC707-0.59.bin', 'VC707-0.60.bin']\n",
      "Data\\Fault Characterization\\VC707\\RawData\\VC707-0.59.bin\n",
      "['x' 'x' 'x' ... 'x' 'x' 'x']\n",
      "estoy aqi\n",
      "error_mask_activ []\n",
      "locs_act []\n",
      "error_mask_pesos: []\n",
      "locs_p []\n",
      "10000\n",
      "['VC707-0.54.bin', 'VC707-0.55.bin', 'VC707-0.56.bin', 'VC707-0.57.bin', 'VC707-0.58.bin', 'VC707-0.59.bin', 'VC707-0.60.bin']\n",
      "Data\\Fault Characterization\\VC707\\RawData\\VC707-0.60.bin\n",
      "['x' 'x' 'x' ... 'x' 'x' 'x']\n",
      "estoy aqi\n",
      "error_mask_activ []\n",
      "locs_act []\n",
      "error_mask_pesos: []\n",
      "locs_p []\n",
      "10000\n",
      "q net es : <tensorflow.python.keras.engine.functional.Functional object at 0x000002C780014040>\n",
      "[0.890666663646698]\n",
      " operación completada:  13:12:06\n"
     ]
    }
   ],
   "source": [
    "## from copy import deepcopy\n",
    "from Stats import CheckAccuracyAndLoss, CheckAccuracyAndLossPa\n",
    "from Simulation import save_obj, load_obj\n",
    "from FileAnalize import analize_file, analize_file_uno,analize_file_uno_ceros, save_file, load_file\n",
    "#from funciones import buffer_vectores, buffer_act_pes\n",
    "from funciones import buffer_pa\n",
    "import collections\n",
    "from datetime import datetime\n",
    "import itertools\n",
    "from Training import GetDatasets\n",
    "import numpy as np\n",
    "import matplotlib.pyplot as plt\n",
    "import pathlib\n",
    "import pandas as pd\n",
    "\n",
    "import os, sys\n",
    "\n",
    " \n",
    "cwd = os.getcwd()\n",
    "wgt_dir = os.path.join(cwd, 'Data')\n",
    "wgt_dir = os.path.join(wgt_dir, 'Trained Weights')\n",
    "wgt_dir = os.path.join(wgt_dir, 'AlexNet')\n",
    "wgt_dir = os.path.join(wgt_dir, 'Colorectal Dataset')\n",
    "wgt_dir = os.path.join(wgt_dir,'Weights')\n",
    "    \n",
    "\n",
    "trainBatchSize = testBatchSize = 16\n",
    "_,_,test_dataset = GetDatasets('colorectal_histology',(80,5,15),(227,227), 8, trainBatchSize, testBatchSize)\n",
    "\n",
    "\n",
    "Accs = []\n",
    "Accs_w = []\n",
    "Accs_a_w = []\n",
    "\n",
    "\n",
    "\n",
    "#buffer_size= 16777216*16\n",
    "buffer_size= 10000\n",
    "\n",
    "\n",
    "       \n",
    "ruta_bin = 'Data\\Fault Characterization\\VC707\\RawData'\n",
    "#ruta_bin = 'Data/Fault Characterization/KC705_B/RowData/'\n",
    "directorio = pathlib.Path(ruta_bin)\n",
    "num_of_samples = 1\n",
    "\n",
    "\n",
    "ficheros = [fichero.name for fichero in directorio.iterdir()]\n",
    "ficheros.sort()\n",
    "\n",
    "for index in range(0,num_of_samples):\n",
    "    \n",
    "    for i, j in enumerate(ficheros):\n",
    "        print(ficheros)\n",
    "        \n",
    "        directorio= os.path.join(ruta_bin, j)\n",
    "        print(directorio)\n",
    "        \n",
    "        buffer= (analize_file(directorio, buffer_size))\n",
    "        print(buffer)\n",
    "        error_mask_pa, locs_pa = (buffer_pa(buffer,buffer_size))\n",
    "    \n",
    "    loss,acc   = CheckAccuracyAndLossPa('AlexNet', test_dataset, wgt_dir, output_shape=8, input_shape = (227,227,3),\n",
    "                                            act_frac_size = 11, act_int_size = 4, wgt_frac_size = 11, wgt_int_size = 4,\n",
    "                                            batch_size=testBatchSize, verbose = 0, aging_active = True, weights_faults = True,\n",
    "                                            faulty_addresses_pa = locs_pa, masked_faults_pa = error_mask_pa)\n",
    "    \n",
    "    #loss,acc_w   = CheckAccuracyAndLoss('AlexNet', test_dataset, wgt_dir, output_shape=8, input_shape = (227,227,3),\n",
    "    #                                    act_frac_size = 11, act_int_size = 4, wgt_frac_size = 11, wgt_int_size = 4,\n",
    "    #                                    batch_size=testBatchSize, verbose = 0, aging_active = False, weights_faults = True,\n",
    "    #                                    faulty_addresses = locs, masked_faults = error_mask)\n",
    "   #\n",
    "    #loss,acc_a_w   = CheckAccuracyAndLoss('AlexNet', test_dataset, wgt_dir, output_shape=8, input_shape = (227,227,3),\n",
    "    #                                    act_frac_size = 11, act_int_size = 4, wgt_frac_size = 11, wgt_int_size = 4,\n",
    "    #                                    batch_size=testBatchSize, verbose = 0, aging_active = False, weights_faults = True,\n",
    "    #                                    faulty_addresses = locs, masked_faults = error_mask)\n",
    "    #\n",
    "    \n",
    "    \n",
    "    Accs.append(acc)\n",
    "    #Accs_w.append(acc_w)\n",
    "    #Accs_a_w.append(acc_a_w)                                      \n",
    "    print(Accs)\n",
    "arqui=pd.DataFrame(ficheros)\n",
    "Acc=pd.DataFrame(Accs)\n",
    "#Acc_w =pd.DataFrame(Accs_w)\n",
    "#Acc_a_w =pd.DataFrame(Accs_w)                                         \n",
    "#buf_cero = pd.concat([arqui,Acc,Acc_w, Acc_a_w], axis=1, join='outer')\n",
    "#buf_cero.columns =['arqui','Acc_cero', 'A_w_cero', 'Acc_a_w_cero'] \n",
    "#buf_cero.to_excel('resultado.xlsx', sheet_name='ceros_707', index=False)\n",
    "#\n",
    "\n",
    "Acc.head()\n",
    "    \n",
    "   \n",
    "\n",
    "\n",
    "\n",
    "    \n",
    "        \n",
    "    \n",
    "\n",
    "print(str()+' operación completada: ', datetime.now().strftime(\"%H:%M:%S\"))\n",
    "#lsave_file(Accs,'Data/Fault Characterization/Accs')\n",
    "\n",
    "#save_obj(Loss,'Data/Errors/AlexNet/Colorectal Dataset/Loss')"
   ]
  },
  {
   "cell_type": "markdown",
   "id": "99aac8b9",
   "metadata": {},
   "source": [
    "Cambio del código preliminar"
   ]
  },
  {
   "cell_type": "code",
   "execution_count": 10,
   "id": "7c094ff6",
   "metadata": {},
   "outputs": [
    {
     "name": "stdout",
     "output_type": "stream",
     "text": [
      "Data/Fault Characterization/KC705_B/RowData/KC705B-0.53.bin\n",
      "(array(['x', 'x', 'x', ..., 'x', 'x', 'x'], dtype='<U11'), Counter({'x': 16774576, '0': 2640}), 2274)\n"
     ]
    },
    {
     "name": "stderr",
     "output_type": "stream",
     "text": [
      "C:\\Users\\usuario\\anaconda3\\envs\\env_first\\lib\\site-packages\\numpy\\core\\fromnumeric.py:43: VisibleDeprecationWarning: Creating an ndarray from ragged nested sequences (which is a list-or-tuple of lists-or-tuples-or ndarrays with different lengths or shapes) is deprecated. If you meant to do this, you must specify 'dtype=object' when creating the ndarray.\n",
      "  result = getattr(asarray(obj), method)(*args, **kwds)\n"
     ]
    },
    {
     "ename": "ValueError",
     "evalue": "cannot reshape array of size 3 into shape (16)",
     "output_type": "error",
     "traceback": [
      "\u001b[1;31m---------------------------------------------------------------------------\u001b[0m",
      "\u001b[1;31mValueError\u001b[0m                                Traceback (most recent call last)",
      "\u001b[1;32m<ipython-input-10-f1c3815b4045>\u001b[0m in \u001b[0;36m<module>\u001b[1;34m\u001b[0m\n\u001b[0;32m     47\u001b[0m     \u001b[0mbuffer\u001b[0m\u001b[1;33m=\u001b[0m \u001b[1;33m(\u001b[0m\u001b[0manalize_file\u001b[0m\u001b[1;33m(\u001b[0m\u001b[0mdirectorio\u001b[0m\u001b[1;33m,\u001b[0m \u001b[0mbuffer_size\u001b[0m\u001b[1;33m)\u001b[0m\u001b[1;33m)\u001b[0m\u001b[1;33m\u001b[0m\u001b[1;33m\u001b[0m\u001b[0m\n\u001b[0;32m     48\u001b[0m     \u001b[0mprint\u001b[0m\u001b[1;33m(\u001b[0m\u001b[0mbuffer\u001b[0m\u001b[1;33m)\u001b[0m\u001b[1;33m\u001b[0m\u001b[1;33m\u001b[0m\u001b[0m\n\u001b[1;32m---> 49\u001b[1;33m     \u001b[0merror_mask\u001b[0m\u001b[1;33m,\u001b[0m \u001b[0mlocs\u001b[0m \u001b[1;33m=\u001b[0m \u001b[1;33m(\u001b[0m\u001b[0mbuffer_vectores\u001b[0m\u001b[1;33m(\u001b[0m\u001b[0mbuffer\u001b[0m\u001b[1;33m)\u001b[0m\u001b[1;33m)\u001b[0m\u001b[1;33m\u001b[0m\u001b[1;33m\u001b[0m\u001b[0m\n\u001b[0m\u001b[0;32m     50\u001b[0m     \u001b[0mprint\u001b[0m\u001b[1;33m(\u001b[0m\u001b[1;34m'buffer despues de analize_file :'\u001b[0m\u001b[1;33m,\u001b[0m \u001b[0mcollections\u001b[0m\u001b[1;33m.\u001b[0m\u001b[0mCounter\u001b[0m\u001b[1;33m(\u001b[0m\u001b[0mbuffer\u001b[0m\u001b[1;33m)\u001b[0m\u001b[1;33m)\u001b[0m\u001b[1;33m\u001b[0m\u001b[1;33m\u001b[0m\u001b[0m\n\u001b[0;32m     51\u001b[0m     \u001b[0mprint\u001b[0m\u001b[1;33m(\u001b[0m\u001b[0merror_mask\u001b[0m\u001b[1;33m)\u001b[0m\u001b[1;33m\u001b[0m\u001b[1;33m\u001b[0m\u001b[0m\n",
      "\u001b[1;32m~\\Desktop\\CNN_Gating\\funciones.py\u001b[0m in \u001b[0;36mbuffer_vectores\u001b[1;34m(buffer)\u001b[0m\n\u001b[0;32m     14\u001b[0m \u001b[1;32mdef\u001b[0m \u001b[0mbuffer_vectores\u001b[0m\u001b[1;33m(\u001b[0m\u001b[0mbuffer\u001b[0m\u001b[1;33m)\u001b[0m\u001b[1;33m:\u001b[0m\u001b[1;33m\u001b[0m\u001b[1;33m\u001b[0m\u001b[0m\n\u001b[0;32m     15\u001b[0m     \u001b[0mbuffer_size\u001b[0m\u001b[1;33m=\u001b[0m\u001b[0mlen\u001b[0m\u001b[1;33m(\u001b[0m\u001b[0mbuffer\u001b[0m\u001b[1;33m)\u001b[0m\u001b[1;33m\u001b[0m\u001b[1;33m\u001b[0m\u001b[0m\n\u001b[1;32m---> 16\u001b[1;33m     \u001b[0maddress_with_errors\u001b[0m \u001b[1;33m=\u001b[0m \u001b[0mnp\u001b[0m\u001b[1;33m.\u001b[0m\u001b[0mreshape\u001b[0m\u001b[1;33m(\u001b[0m\u001b[0mbuffer\u001b[0m\u001b[1;33m,\u001b[0m \u001b[1;33m(\u001b[0m\u001b[1;33m-\u001b[0m\u001b[1;36m1\u001b[0m\u001b[1;33m,\u001b[0m \u001b[1;36m16\u001b[0m\u001b[1;33m)\u001b[0m\u001b[1;33m)\u001b[0m\u001b[1;33m\u001b[0m\u001b[1;33m\u001b[0m\u001b[0m\n\u001b[0m\u001b[0;32m     17\u001b[0m     \u001b[0maddress_with_errors\u001b[0m \u001b[1;33m=\u001b[0m \u001b[1;33m[\u001b[0m\u001b[1;34m\"\"\u001b[0m\u001b[1;33m.\u001b[0m\u001b[0mjoin\u001b[0m\u001b[1;33m(\u001b[0m\u001b[0mi\u001b[0m\u001b[1;33m)\u001b[0m \u001b[1;32mfor\u001b[0m \u001b[0mi\u001b[0m \u001b[1;32min\u001b[0m \u001b[0maddress_with_errors\u001b[0m\u001b[1;33m[\u001b[0m\u001b[1;36m0\u001b[0m\u001b[1;33m:\u001b[0m\u001b[1;36m16777216\u001b[0m\u001b[1;33m]\u001b[0m\u001b[1;33m]\u001b[0m\u001b[1;33m\u001b[0m\u001b[1;33m\u001b[0m\u001b[0m\n\u001b[0;32m     18\u001b[0m     \u001b[0merror_mask\u001b[0m \u001b[1;33m=\u001b[0m \u001b[1;33m[\u001b[0m\u001b[0my\u001b[0m \u001b[1;32mfor\u001b[0m \u001b[0mx\u001b[0m\u001b[1;33m,\u001b[0m \u001b[0my\u001b[0m \u001b[1;32min\u001b[0m \u001b[0menumerate\u001b[0m\u001b[1;33m(\u001b[0m\u001b[0maddress_with_errors\u001b[0m\u001b[1;33m)\u001b[0m \u001b[1;32mif\u001b[0m \u001b[0my\u001b[0m\u001b[1;33m.\u001b[0m\u001b[0mcount\u001b[0m\u001b[1;33m(\u001b[0m\u001b[1;34m'x'\u001b[0m\u001b[1;33m)\u001b[0m \u001b[1;33m<\u001b[0m \u001b[1;36m16\u001b[0m\u001b[1;33m]\u001b[0m\u001b[1;33m\u001b[0m\u001b[1;33m\u001b[0m\u001b[0m\n",
      "\u001b[1;32m<__array_function__ internals>\u001b[0m in \u001b[0;36mreshape\u001b[1;34m(*args, **kwargs)\u001b[0m\n",
      "\u001b[1;32m~\\anaconda3\\envs\\env_first\\lib\\site-packages\\numpy\\core\\fromnumeric.py\u001b[0m in \u001b[0;36mreshape\u001b[1;34m(a, newshape, order)\u001b[0m\n\u001b[0;32m    296\u001b[0m            [5, 6]])\n\u001b[0;32m    297\u001b[0m     \"\"\"\n\u001b[1;32m--> 298\u001b[1;33m     \u001b[1;32mreturn\u001b[0m \u001b[0m_wrapfunc\u001b[0m\u001b[1;33m(\u001b[0m\u001b[0ma\u001b[0m\u001b[1;33m,\u001b[0m \u001b[1;34m'reshape'\u001b[0m\u001b[1;33m,\u001b[0m \u001b[0mnewshape\u001b[0m\u001b[1;33m,\u001b[0m \u001b[0morder\u001b[0m\u001b[1;33m=\u001b[0m\u001b[0morder\u001b[0m\u001b[1;33m)\u001b[0m\u001b[1;33m\u001b[0m\u001b[1;33m\u001b[0m\u001b[0m\n\u001b[0m\u001b[0;32m    299\u001b[0m \u001b[1;33m\u001b[0m\u001b[0m\n\u001b[0;32m    300\u001b[0m \u001b[1;33m\u001b[0m\u001b[0m\n",
      "\u001b[1;32m~\\anaconda3\\envs\\env_first\\lib\\site-packages\\numpy\\core\\fromnumeric.py\u001b[0m in \u001b[0;36m_wrapfunc\u001b[1;34m(obj, method, *args, **kwds)\u001b[0m\n\u001b[0;32m     52\u001b[0m     \u001b[0mbound\u001b[0m \u001b[1;33m=\u001b[0m \u001b[0mgetattr\u001b[0m\u001b[1;33m(\u001b[0m\u001b[0mobj\u001b[0m\u001b[1;33m,\u001b[0m \u001b[0mmethod\u001b[0m\u001b[1;33m,\u001b[0m \u001b[1;32mNone\u001b[0m\u001b[1;33m)\u001b[0m\u001b[1;33m\u001b[0m\u001b[1;33m\u001b[0m\u001b[0m\n\u001b[0;32m     53\u001b[0m     \u001b[1;32mif\u001b[0m \u001b[0mbound\u001b[0m \u001b[1;32mis\u001b[0m \u001b[1;32mNone\u001b[0m\u001b[1;33m:\u001b[0m\u001b[1;33m\u001b[0m\u001b[1;33m\u001b[0m\u001b[0m\n\u001b[1;32m---> 54\u001b[1;33m         \u001b[1;32mreturn\u001b[0m \u001b[0m_wrapit\u001b[0m\u001b[1;33m(\u001b[0m\u001b[0mobj\u001b[0m\u001b[1;33m,\u001b[0m \u001b[0mmethod\u001b[0m\u001b[1;33m,\u001b[0m \u001b[1;33m*\u001b[0m\u001b[0margs\u001b[0m\u001b[1;33m,\u001b[0m \u001b[1;33m**\u001b[0m\u001b[0mkwds\u001b[0m\u001b[1;33m)\u001b[0m\u001b[1;33m\u001b[0m\u001b[1;33m\u001b[0m\u001b[0m\n\u001b[0m\u001b[0;32m     55\u001b[0m \u001b[1;33m\u001b[0m\u001b[0m\n\u001b[0;32m     56\u001b[0m     \u001b[1;32mtry\u001b[0m\u001b[1;33m:\u001b[0m\u001b[1;33m\u001b[0m\u001b[1;33m\u001b[0m\u001b[0m\n",
      "\u001b[1;32m~\\anaconda3\\envs\\env_first\\lib\\site-packages\\numpy\\core\\fromnumeric.py\u001b[0m in \u001b[0;36m_wrapit\u001b[1;34m(obj, method, *args, **kwds)\u001b[0m\n\u001b[0;32m     41\u001b[0m     \u001b[1;32mexcept\u001b[0m \u001b[0mAttributeError\u001b[0m\u001b[1;33m:\u001b[0m\u001b[1;33m\u001b[0m\u001b[1;33m\u001b[0m\u001b[0m\n\u001b[0;32m     42\u001b[0m         \u001b[0mwrap\u001b[0m \u001b[1;33m=\u001b[0m \u001b[1;32mNone\u001b[0m\u001b[1;33m\u001b[0m\u001b[1;33m\u001b[0m\u001b[0m\n\u001b[1;32m---> 43\u001b[1;33m     \u001b[0mresult\u001b[0m \u001b[1;33m=\u001b[0m \u001b[0mgetattr\u001b[0m\u001b[1;33m(\u001b[0m\u001b[0masarray\u001b[0m\u001b[1;33m(\u001b[0m\u001b[0mobj\u001b[0m\u001b[1;33m)\u001b[0m\u001b[1;33m,\u001b[0m \u001b[0mmethod\u001b[0m\u001b[1;33m)\u001b[0m\u001b[1;33m(\u001b[0m\u001b[1;33m*\u001b[0m\u001b[0margs\u001b[0m\u001b[1;33m,\u001b[0m \u001b[1;33m**\u001b[0m\u001b[0mkwds\u001b[0m\u001b[1;33m)\u001b[0m\u001b[1;33m\u001b[0m\u001b[1;33m\u001b[0m\u001b[0m\n\u001b[0m\u001b[0;32m     44\u001b[0m     \u001b[1;32mif\u001b[0m \u001b[0mwrap\u001b[0m\u001b[1;33m:\u001b[0m\u001b[1;33m\u001b[0m\u001b[1;33m\u001b[0m\u001b[0m\n\u001b[0;32m     45\u001b[0m         \u001b[1;32mif\u001b[0m \u001b[1;32mnot\u001b[0m \u001b[0misinstance\u001b[0m\u001b[1;33m(\u001b[0m\u001b[0mresult\u001b[0m\u001b[1;33m,\u001b[0m \u001b[0mmu\u001b[0m\u001b[1;33m.\u001b[0m\u001b[0mndarray\u001b[0m\u001b[1;33m)\u001b[0m\u001b[1;33m:\u001b[0m\u001b[1;33m\u001b[0m\u001b[1;33m\u001b[0m\u001b[0m\n",
      "\u001b[1;31mValueError\u001b[0m: cannot reshape array of size 3 into shape (16)"
     ]
    }
   ],
   "source": [
    "## from copy import deepcopy\n",
    "from Stats import CheckAccuracyAndLoss\n",
    "from Simulation import save_obj, load_obj\n",
    "from FileAnalize import analize_file, analize_file_uno,analize_file_uno_ceros, save_file, load_file\n",
    "from funciones import buffer_vectores\n",
    "import collections\n",
    "from datetime import datetime\n",
    "import itertools\n",
    "from Training import GetDatasets\n",
    "import numpy as np\n",
    "import matplotlib.pyplot as plt\n",
    "import pathlib\n",
    "import pandas as pd\n",
    "import os, sys\n",
    "\n",
    " \n",
    "cwd = os.getcwd()\n",
    "wgt_dir = os.path.join(cwd, 'Data')\n",
    "wgt_dir = os.path.join(wgt_dir, 'Trained Weights')\n",
    "wgt_dir = os.path.join(wgt_dir, 'AlexNet')\n",
    "wgt_dir = os.path.join(wgt_dir, 'Colorectal Dataset')\n",
    "wgt_dir = os.path.join(wgt_dir,'Weights')\n",
    "    \n",
    "\n",
    "trainBatchSize = testBatchSize = 16\n",
    "_,_,test_dataset = GetDatasets('colorectal_histology',(80,5,15),(227,227), 8, trainBatchSize, testBatchSize)\n",
    "\n",
    "\n",
    "Accs = []\n",
    "Acc_w = []\n",
    "Acc_a_w = []\n",
    "\n",
    "df = pd.DataFrame(columns=['Accs', 'Acc_w'])\n",
    "buffer_size= 16777216\n",
    "\n",
    "       \n",
    "ruta_bin = 'Data/Fault Characterization/KC705_B/RowData/'\n",
    "directorio = pathlib.Path(ruta_bin)\n",
    "\n",
    "variantes= [analize_file, analize_file_uno, analize_file_uno_ceros]\n",
    "ficheros = [fichero.name for fichero in directorio.iterdir()]\n",
    "\n",
    "for i, j in enumerate(ficheros):\n",
    "    directorio= os.path.join(ruta_bin, j)\n",
    "    print(directorio)\n",
    "    \n",
    "    buffer= (analize_file(directorio, buffer_size))\n",
    "    print(buffer)\n",
    "    error_mask, locs = (buffer_vectores(buffer))\n",
    "    print('buffer despues de analize_file :', collections.Counter(buffer))\n",
    "    print(error_mask)\n",
    "    print(locs)\n",
    "    \n",
    "    loss,acc   = CheckAccuracyAndLoss('AlexNet', test_dataset, wgt_dir, output_shape=8, input_shape = (227,227,3),\n",
    "                                            act_frac_size = 11, act_int_size = 4, wgt_frac_size = 11, wgt_int_size = 4,\n",
    "                                            batch_size=testBatchSize, verbose = 0, aging_active = True, weights_faults = False,\n",
    "                                            faulty_addresses = locs, masked_faults = error_mask)\n",
    "    \n",
    "    loss,acc_w   = CheckAccuracyAndLoss('AlexNet', test_dataset, wgt_dir, output_shape=8, input_shape = (227,227,3),\n",
    "                                            act_frac_size = 11, act_int_size = 4, wgt_frac_size = 11, wgt_int_size = 4,\n",
    "                                            batch_size=testBatchSize, verbose = 0, aging_active = False, weights_faults = True,\n",
    "                                            faulty_addresses = locs, masked_faults = error_mask)\n",
    "    \n",
    "    loss,acc_a_w   = CheckAccuracyAndLoss('AlexNet', test_dataset, wgt_dir, output_shape=8, input_shape = (227,227,3),\n",
    "                                            act_frac_size = 11, act_int_size = 4, wgt_frac_size = 11, wgt_int_size = 4,\n",
    "                                            batch_size=testBatchSize, verbose = 0, aging_active = True, weights_faults = True,\n",
    "                                            faulty_addresses = locs, masked_faults = error_mask)\n",
    "    \n",
    "    \n",
    "    Accs.append(acc)\n",
    "    Accs_w.append(acc_w)\n",
    "    Acc_a_w.append(acc_a_w)                                      \n",
    "\n",
    "df = pd.DataFrame(columns=['Acc', 'a_w', 'acc_a_w'])\n",
    "Acc=pd.DataFrame(Accs)\n",
    "a_w =pd.DataFrame(Accs_w)\n",
    "acc_a_w =pd.DataFrame(Accs_w)                                         \n",
    "buf_cero = pd.concat([Acc,A_w, acc_a_w], axis=1, join='outer')\n",
    "buf_cero.columns =['Acc_cero', 'A_w_cero', 'Acc_a_w'] \n",
    "buf_cero.to_excel('resultado.xlsx', sheet_name='ceros', index=False)\n",
    "\n",
    "\n",
    "Acc.head()\n",
    "    \n",
    "   \n",
    "\n",
    "\n",
    "\n",
    "    \n",
    "        \n",
    "    \n",
    "\n",
    "print(str()+' operación completada: ', datetime.now().strftime(\"%H:%M:%S\"))\n",
    "save_file(Accs,'Data/Fault Characterization/Accs')\n",
    "\n",
    "#save_obj(Loss,'Data/Errors/AlexNet/Colorectal Dataset/Loss')"
   ]
  },
  {
   "cell_type": "code",
   "execution_count": 4,
   "id": "337c481a",
   "metadata": {},
   "outputs": [
    {
     "ename": "NameError",
     "evalue": "name 'ff3' is not defined",
     "output_type": "error",
     "traceback": [
      "\u001b[1;31m---------------------------------------------------------------------------\u001b[0m",
      "\u001b[1;31mNameError\u001b[0m                                 Traceback (most recent call last)",
      "\u001b[1;32m<ipython-input-4-471a4da0629c>\u001b[0m in \u001b[0;36m<module>\u001b[1;34m\u001b[0m\n\u001b[1;32m----> 1\u001b[1;33m \u001b[0mff3\u001b[0m\u001b[1;33m\u001b[0m\u001b[1;33m\u001b[0m\u001b[0m\n\u001b[0m",
      "\u001b[1;31mNameError\u001b[0m: name 'ff3' is not defined"
     ]
    }
   ],
   "source": [
    "ff3\n"
   ]
  },
  {
   "cell_type": "code",
   "execution_count": 236,
   "id": "76c07d8e",
   "metadata": {},
   "outputs": [],
   "source": [
    "\n",
    "ff3.to_excel('sample_data.xlsx', sheet_name='ceros', index=False)"
   ]
  },
  {
   "cell_type": "code",
   "execution_count": 76,
   "id": "274fa5c2",
   "metadata": {},
   "outputs": [],
   "source": [
    "Accs\n",
    "headers=[\"ceros_a\",\"uno_a\",\"ce_un_a\"]    \n",
    "with open(f\"fsiete.csv\", 'w', newline='') as file:\n",
    "    writer = csv.writer(file, delimiter=\",\",quotechar='|', quoting=csv.QUOTE_MINIMAL)\n",
    "    writer.writerow(headers)\n",
    "    writer.writerow(Accs)\n",
    "        "
   ]
  },
  {
   "cell_type": "code",
   "execution_count": 37,
   "id": "2ad093ca",
   "metadata": {},
   "outputs": [
    {
     "name": "stdout",
     "output_type": "stream",
     "text": [
      "   Name  Code  Age\n",
      "0   0.7   0.1  0.1\n",
      "1   0.6   0.2  0.2\n",
      "2   0.5   0.3  0.3\n",
      "3   0.4   0.4  0.4\n",
      "4   0.3   0.5  0.5\n",
      "5   0.2   0.6  0.6\n",
      "6   0.1   0.7  0.7\n"
     ]
    }
   ],
   "source": [
    "import pandas as pd\n",
    "df = pd.DataFrame(columns=['Acc', 'a_w'])\n",
    "\n",
    "Acc=pd.DataFrame([0.7,0.6,0.5,0.4,0.3,0.2,0.1])\n",
    "a_w =pd.DataFrame([0.1, 0.2, 0.3, 0.4, 0.5, 0.6,0.7])\n",
    "a_w_p =pd.DataFrame([0.1, 0.2, 0.3, 0.4, 0.5, 0.6,0.7])\n",
    "\n",
    "\n",
    "#df.append(pd.DataFrame(Acc, columns=['Acc'] ))\n",
    "#df.append (pd.DataFrame(a_w, columns=['a_w'] ))\n",
    "\n",
    "ff3 = pd.concat([Acc,a_w,a_w_p], axis=1, join='outer')\n",
    "ff3.columns =['Name', 'Code', 'Age'] \n",
    "\n",
    "#Acc = Acc.set_index('Acc')\n",
    "\n",
    "\n",
    "\n",
    "\n",
    "ff3.head()\n",
    "\n",
    "print(ff3)"
   ]
  },
  {
   "cell_type": "markdown",
   "id": "c79c0964",
   "metadata": {},
   "source": [
    "# De esta forma los datos están mas distibuidos "
   ]
  },
  {
   "cell_type": "code",
   "execution_count": 5,
   "id": "ba0f17f4",
   "metadata": {},
   "outputs": [
    {
     "name": "stdout",
     "output_type": "stream",
     "text": [
      "[[1.         0.         0.        ]\n",
      " [0.83333333 0.16666667 0.16666667]\n",
      " [0.66666667 0.33333333 0.33333333]\n",
      " [0.5        0.5        0.5       ]\n",
      " [0.33333333 0.66666667 0.66666667]\n",
      " [0.16666667 0.83333333 0.83333333]\n",
      " [0.         1.         1.        ]]\n"
     ]
    }
   ],
   "source": [
    "from sklearn import preprocessing\n",
    "datos_min_max = preprocessing.MinMaxScaler().fit_transform(ff3)\n",
    "print(datos_min_max)\n",
    "\n",
    "\n",
    "\n"
   ]
  },
  {
   "cell_type": "markdown",
   "id": "34d455ad",
   "metadata": {},
   "source": [
    "# En este metodo se usa aplica el rango intercuartilico, para que los datos atipicos no afecten el anélisis, se asume que es el más robusto"
   ]
  },
  {
   "cell_type": "code",
   "execution_count": 3,
   "id": "d7788eef",
   "metadata": {},
   "outputs": [
    {
     "name": "stdout",
     "output_type": "stream",
     "text": [
      "[[ 1.         -1.         -1.        ]\n",
      " [ 0.66666667 -0.66666667 -0.66666667]\n",
      " [ 0.33333333 -0.33333333 -0.33333333]\n",
      " [ 0.          0.          0.        ]\n",
      " [-0.33333333  0.33333333  0.33333333]\n",
      " [-0.66666667  0.66666667  0.66666667]\n",
      " [-1.          1.          1.        ]]\n"
     ]
    }
   ],
   "source": [
    "from sklearn import preprocessing\n",
    "datos_robust_escaler = preprocessing.RobustScaler().fit_transform(ff3)\n",
    "print(datos_robust_escaler)\n"
   ]
  },
  {
   "cell_type": "markdown",
   "id": "4322234c",
   "metadata": {},
   "source": [
    "# normalizar (no e slo mismo que estandarizar) \n",
    "para esto se larga la magnitud del vector para que los valores esten entre 0 y uno, para garantizar que ningun elemento tenga una magnitud mayor a la que tendria todo el lemento, norma del vector , cada valor se divide entre la sumatoria de todos los valores al cuadrado"
   ]
  },
  {
   "cell_type": "code",
   "execution_count": 38,
   "id": "8bebcb5a",
   "metadata": {},
   "outputs": [
    {
     "name": "stdout",
     "output_type": "stream",
     "text": [
      "[[0.59160798 0.08451543 0.08451543]\n",
      " [0.50709255 0.16903085 0.16903085]\n",
      " [0.42257713 0.25354628 0.25354628]\n",
      " [0.3380617  0.3380617  0.3380617 ]\n",
      " [0.25354628 0.42257713 0.42257713]\n",
      " [0.16903085 0.50709255 0.50709255]\n",
      " [0.08451543 0.59160798 0.59160798]]\n"
     ]
    }
   ],
   "source": [
    "from sklearn import preprocessing\n",
    "datos_normalizer = preprocessing.Normalizer().transform(ff3.T)\n",
    "datos_normalizer = datos_normalizer.T\n",
    "print(datos_normalizer)"
   ]
  },
  {
   "cell_type": "code",
   "execution_count": 42,
   "id": "f6b55709",
   "metadata": {},
   "outputs": [
    {
     "name": "stdout",
     "output_type": "stream",
     "text": [
      "   Name      code       age\n",
      "0   NaN  0.000000  0.000000\n",
      "1   NaN  0.166667  0.166667\n",
      "2   NaN  0.333333  0.333333\n",
      "3   NaN  0.500000  0.500000\n",
      "4   NaN  0.666667  0.666667\n",
      "5   NaN  0.833333  0.833333\n",
      "6   NaN  1.000000  1.000000\n"
     ]
    },
    {
     "data": {
      "text/plain": [
       "<function matplotlib.pyplot.show(close=None, block=None)>"
      ]
     },
     "execution_count": 42,
     "metadata": {},
     "output_type": "execute_result"
    },
    {
     "data": {
      "image/png": "[encoded data removed]",
      "text/plain": [
       "<Figure size 1080x216 with 2 Axes>"
      ]
     },
     "metadata": {
      "needs_background": "light"
     },
     "output_type": "display_data"
    }
   ],
   "source": [
    "import pandas as pd\n",
    "import matplotlib.pyplot as plt\n",
    "datos_min_max = pd.DataFrame(datos_min_max, columns=[\"Name\",\"code\", \"age\"])\n",
    "print(datos_min_max)\n",
    "fig= plt.figure(figsize =(15,3))\n",
    "ax1 = fig.add_subplot(1,5, 1)\n",
    "ax1.set_ylim(0,1)\n",
    "ax2 = fig.add_subplot(1, 5,2)\n",
    "\n",
    "\n",
    "ax1.set_title(\"jjjj\")\n",
    "ax1.plot(datos_min_max[\"code\"], color='green', ls='-', lw='2', marker='D', markersize='5')\n",
    "\n",
    "plt.show\n"
   ]
  },
  {
   "cell_type": "code",
   "execution_count": 6,
   "id": "a30d00c4",
   "metadata": {},
   "outputs": [
    {
     "ename": "TypeError",
     "evalue": "cannot concatenate object of type '<class 'list'>'; only Series and DataFrame objs are valid",
     "output_type": "error",
     "traceback": [
      "\u001b[1;31m---------------------------------------------------------------------------\u001b[0m",
      "\u001b[1;31mTypeError\u001b[0m                                 Traceback (most recent call last)",
      "\u001b[1;32m<ipython-input-6-301326ce1ee4>\u001b[0m in \u001b[0;36m<module>\u001b[1;34m\u001b[0m\n\u001b[0;32m      4\u001b[0m \u001b[0ma_w\u001b[0m \u001b[1;33m=\u001b[0m\u001b[1;33m[\u001b[0m\u001b[1;36m0.1\u001b[0m\u001b[1;33m,\u001b[0m \u001b[1;36m0.2\u001b[0m\u001b[1;33m,\u001b[0m \u001b[1;36m0.3\u001b[0m\u001b[1;33m,\u001b[0m \u001b[1;36m0.4\u001b[0m\u001b[1;33m,\u001b[0m \u001b[1;36m0.5\u001b[0m\u001b[1;33m,\u001b[0m \u001b[1;36m0.6\u001b[0m\u001b[1;33m,\u001b[0m\u001b[1;36m0.7\u001b[0m\u001b[1;33m]\u001b[0m\u001b[1;33m\u001b[0m\u001b[1;33m\u001b[0m\u001b[0m\n\u001b[0;32m      5\u001b[0m \u001b[1;33m\u001b[0m\u001b[0m\n\u001b[1;32m----> 6\u001b[1;33m \u001b[0mf\u001b[0m \u001b[1;33m=\u001b[0m \u001b[0mpd\u001b[0m\u001b[1;33m.\u001b[0m\u001b[0mconcat\u001b[0m\u001b[1;33m(\u001b[0m\u001b[1;33m[\u001b[0m\u001b[0mAcc\u001b[0m\u001b[1;33m,\u001b[0m\u001b[0ma_w\u001b[0m\u001b[1;33m]\u001b[0m\u001b[1;33m,\u001b[0m \u001b[0maxis\u001b[0m\u001b[1;33m=\u001b[0m\u001b[1;36m1\u001b[0m\u001b[1;33m,\u001b[0m \u001b[0mjoin\u001b[0m\u001b[1;33m=\u001b[0m\u001b[1;34m'outer'\u001b[0m\u001b[1;33m)\u001b[0m\u001b[1;33m\u001b[0m\u001b[1;33m\u001b[0m\u001b[0m\n\u001b[0m",
      "\u001b[1;32m~\\anaconda3\\envs\\env_first\\lib\\site-packages\\pandas\\util\\_decorators.py\u001b[0m in \u001b[0;36mwrapper\u001b[1;34m(*args, **kwargs)\u001b[0m\n\u001b[0;32m    309\u001b[0m                     \u001b[0mstacklevel\u001b[0m\u001b[1;33m=\u001b[0m\u001b[0mstacklevel\u001b[0m\u001b[1;33m,\u001b[0m\u001b[1;33m\u001b[0m\u001b[1;33m\u001b[0m\u001b[0m\n\u001b[0;32m    310\u001b[0m                 )\n\u001b[1;32m--> 311\u001b[1;33m             \u001b[1;32mreturn\u001b[0m \u001b[0mfunc\u001b[0m\u001b[1;33m(\u001b[0m\u001b[1;33m*\u001b[0m\u001b[0margs\u001b[0m\u001b[1;33m,\u001b[0m \u001b[1;33m**\u001b[0m\u001b[0mkwargs\u001b[0m\u001b[1;33m)\u001b[0m\u001b[1;33m\u001b[0m\u001b[1;33m\u001b[0m\u001b[0m\n\u001b[0m\u001b[0;32m    312\u001b[0m \u001b[1;33m\u001b[0m\u001b[0m\n\u001b[0;32m    313\u001b[0m         \u001b[1;32mreturn\u001b[0m \u001b[0mwrapper\u001b[0m\u001b[1;33m\u001b[0m\u001b[1;33m\u001b[0m\u001b[0m\n",
      "\u001b[1;32m~\\anaconda3\\envs\\env_first\\lib\\site-packages\\pandas\\core\\reshape\\concat.py\u001b[0m in \u001b[0;36mconcat\u001b[1;34m(objs, axis, join, ignore_index, keys, levels, names, verify_integrity, sort, copy)\u001b[0m\n\u001b[0;32m    344\u001b[0m     \u001b[0mValueError\u001b[0m\u001b[1;33m:\u001b[0m \u001b[0mIndexes\u001b[0m \u001b[0mhave\u001b[0m \u001b[0moverlapping\u001b[0m \u001b[0mvalues\u001b[0m\u001b[1;33m:\u001b[0m \u001b[1;33m[\u001b[0m\u001b[1;34m'a'\u001b[0m\u001b[1;33m]\u001b[0m\u001b[1;33m\u001b[0m\u001b[1;33m\u001b[0m\u001b[0m\n\u001b[0;32m    345\u001b[0m     \"\"\"\n\u001b[1;32m--> 346\u001b[1;33m     op = _Concatenator(\n\u001b[0m\u001b[0;32m    347\u001b[0m         \u001b[0mobjs\u001b[0m\u001b[1;33m,\u001b[0m\u001b[1;33m\u001b[0m\u001b[1;33m\u001b[0m\u001b[0m\n\u001b[0;32m    348\u001b[0m         \u001b[0maxis\u001b[0m\u001b[1;33m=\u001b[0m\u001b[0maxis\u001b[0m\u001b[1;33m,\u001b[0m\u001b[1;33m\u001b[0m\u001b[1;33m\u001b[0m\u001b[0m\n",
      "\u001b[1;32m~\\anaconda3\\envs\\env_first\\lib\\site-packages\\pandas\\core\\reshape\\concat.py\u001b[0m in \u001b[0;36m__init__\u001b[1;34m(self, objs, axis, join, keys, levels, names, ignore_index, verify_integrity, copy, sort)\u001b[0m\n\u001b[0;32m    434\u001b[0m                     \u001b[1;34m\"only Series and DataFrame objs are valid\"\u001b[0m\u001b[1;33m\u001b[0m\u001b[1;33m\u001b[0m\u001b[0m\n\u001b[0;32m    435\u001b[0m                 )\n\u001b[1;32m--> 436\u001b[1;33m                 \u001b[1;32mraise\u001b[0m \u001b[0mTypeError\u001b[0m\u001b[1;33m(\u001b[0m\u001b[0mmsg\u001b[0m\u001b[1;33m)\u001b[0m\u001b[1;33m\u001b[0m\u001b[1;33m\u001b[0m\u001b[0m\n\u001b[0m\u001b[0;32m    437\u001b[0m \u001b[1;33m\u001b[0m\u001b[0m\n\u001b[0;32m    438\u001b[0m             \u001b[0mndims\u001b[0m\u001b[1;33m.\u001b[0m\u001b[0madd\u001b[0m\u001b[1;33m(\u001b[0m\u001b[0mobj\u001b[0m\u001b[1;33m.\u001b[0m\u001b[0mndim\u001b[0m\u001b[1;33m)\u001b[0m\u001b[1;33m\u001b[0m\u001b[1;33m\u001b[0m\u001b[0m\n",
      "\u001b[1;31mTypeError\u001b[0m: cannot concatenate object of type '<class 'list'>'; only Series and DataFrame objs are valid"
     ]
    }
   ],
   "source": [
    "import pandas as pd\n",
    "df = pd.DataFrame(columns=['Acc', 'a_w'])\n",
    "Acc=[0.7,0.6,0.5,0.4,0.3,0.2,0.1]\n",
    "a_w =[0.1, 0.2, 0.3, 0.4, 0.5, 0.6,0.7]\n",
    "    \n",
    "f = pd.concat([Acc,a_w], axis=1, join='outer')"
   ]
  },
  {
   "cell_type": "code",
   "execution_count": null,
   "id": "bcfa7ff3",
   "metadata": {},
   "outputs": [],
   "source": []
  },
  {
   "cell_type": "markdown",
   "id": "cb50b74a",
   "metadata": {},
   "source": [
    "crear excel"
   ]
  },
  {
   "cell_type": "code",
   "execution_count": null,
   "id": "ca3bc5cf",
   "metadata": {},
   "outputs": [],
   "source": []
  },
  {
   "cell_type": "code",
   "execution_count": 85,
   "id": "d78d603c",
   "metadata": {},
   "outputs": [],
   "source": [
    "from openpyxl import Workbook\n",
    "from openpyxl import load_workbook\n",
    "#wb = Workbook()\n",
    "#wb.save('nuevo.xlsx')\n",
    "wb2 = load_workbook('prueba.xlsx')\n",
    "#ws1 = wb2.create_sheet('707')\n",
    "\n",
    "ws = wb2['707']\n",
    "wb2.save('prueba.xlsx')"
   ]
  },
  {
   "cell_type": "code",
   "execution_count": null,
   "id": "d691a48d",
   "metadata": {},
   "outputs": [],
   "source": [
    "#headers=[\"fichero\",\"e_total\",\"e_muestra\",\"e_ceros\",\"e_uno\", \"0_A\",]\n",
    "#headers=[\"ceros_a\",\"uno_a\",\"ce_un_a\",\"ceros_p\",\"uno_p\",\"ce_un_p\",\"ceros_a_p\",\"uno_a_p\",\"ce_un_a_p\"]\n",
    "headers=[\"ceros_a\",\"uno_a\",\"ce_un_a\"]\n",
    "\n",
    "#lista_datos= accs\n",
    "\n",
    "with open(f\"fsiete.csv\", 'w', newline='') as file:\n",
    "    writer = csv.writer(fsiete)\n",
    "    writer.writerow(headers)\n",
    "    for j in accs:\n",
    "        writer.writerow(j)\n",
    "        \n",
    "import csv\n",
    "with open('eggs.csv', 'w', newline='') as csvfile:\n",
    "    spamwriter = csv.writer(csvfile, delimiter=' ',\n",
    "                            quotechar='|', quoting=csv.QUOTE_MINIMAL)\n",
    "    spamwriter.writerow(['Spam'] * 5 + ['Baked Beans'])\n",
    "    spamwriter.writerow(['Spam', 'Lovely Spam', 'Wonderful Spam'])"
   ]
  },
  {
   "cell_type": "code",
   "execution_count": 267,
   "id": "cbf0506c",
   "metadata": {},
   "outputs": [
    {
     "ename": "NameError",
     "evalue": "name 'Accs_705_53' is not defined",
     "output_type": "error",
     "traceback": [
      "\u001b[1;31m---------------------------------------------------------------------------\u001b[0m",
      "\u001b[1;31mNameError\u001b[0m                                 Traceback (most recent call last)",
      "\u001b[1;32m<ipython-input-267-35c19a90b872>\u001b[0m in \u001b[0;36m<module>\u001b[1;34m\u001b[0m\n\u001b[1;32m----> 1\u001b[1;33m \u001b[0mAccs_705_53\u001b[0m\u001b[1;33m\u001b[0m\u001b[1;33m\u001b[0m\u001b[0m\n\u001b[0m",
      "\u001b[1;31mNameError\u001b[0m: name 'Accs_705_53' is not defined"
     ]
    }
   ],
   "source": [
    "Accs_705_53"
   ]
  },
  {
   "cell_type": "markdown",
   "id": "b6b3b7fa",
   "metadata": {},
   "source": [
    "# prueba inyectando errores en '1'\n"
   ]
  },
  {
   "cell_type": "code",
   "execution_count": 6,
   "id": "07109f58",
   "metadata": {},
   "outputs": [
    {
     "name": "stdout",
     "output_type": "stream",
     "text": [
      "Cantidad de errores de todo el fihero: 62\n",
      "Cantidad de elementos por tipo : Counter({'x': 14581698, '0': 62})\n",
      "Cantidad de elementos por tipo : Counter({'x': 16777144, '0': 72})\n",
      "16777216\n",
      "16777216\n",
      "['xxxxx0xxxxxxx0xx', 'xxxxx0xxxxxxx0xx', 'xxxxx0xxxxxxx0xx', '0xxxxxxx0xxxxxxx', 'xx0xxxxxxx0xxxxx', 'xxxxxxx0xxxxxxx0', 'xxx0xxxxxxx0xxxx', 'xxxxxx0xxxxxxx0x', 'xxxxx0xxxxxxx0xx', 'xxxx0xxxxxxx0xxx', '0xxxxxxx0xxxxxxx', '0xxxxxxx0xxxxxxx', '0xxxxxxx0xxxxxxx', '0xxxxxxx0xxxxxxx', 'x0xxxxxxx0xxxxxx', 'x0xxxxxxx0xxxxxx', 'x0xxxxxxx0xxxxxx', 'xxxxx0xxxxxxx0xx', 'xxxxx0xxxxxxx0xx', '0xxxxxxx0xxxxxxx', '0xxxxxxx0xxxxxxx', 'xxx0xxxxxxx0xxxx', 'xxx0xxxxxxx0xxxx', 'xxx0xxxxxxx0xxxx', 'xxxxxxx0xxxxxxx0', 'xxxx0xxxxxxx0xxx', 'xxxx0xxxxxxx0xxx', 'xx0xxxxxxx0xxxxx', 'xxxxxxx0xxxxxxx0', 'xxxxxxx0xxxxxxx0', '0xxxxxxx0xxxxxxx', 'xxxxx0xxxxxxx0xx', 'xxxxx0xxxxxxx0xx', 'xxxxx0xxxxxxx0xx', '0xxxxxxx0xxxxxxx', 'xx0xxxxxxx0xxxxx']\n"
     ]
    },
    {
     "ename": "InvalidArgumentError",
     "evalue": " indices[111] = [15, 209, 181, 2] does not index into param shape [14,227,227,3], node name: model/lambda_1/GatherNd\n\t [[node model/lambda_1/GatherNd (defined at C:\\Users\\usuario\\Desktop\\CNN_Gating\\Nets.py:79) ]] [Op:__inference_test_function_2879]\n\nErrors may have originated from an input operation.\nInput Source operations connected to node model/lambda_1/GatherNd:\n model/lambda/Maximum (defined at C:\\Users\\usuario\\Desktop\\CNN_Gating\\Nets.py:54)\n\nFunction call stack:\ntest_function\n",
     "output_type": "error",
     "traceback": [
      "\u001b[1;31m---------------------------------------------------------------------------\u001b[0m",
      "\u001b[1;31mInvalidArgumentError\u001b[0m                      Traceback (most recent call last)",
      "\u001b[1;32m<ipython-input-6-39fd78db91e3>\u001b[0m in \u001b[0;36m<module>\u001b[1;34m\u001b[0m\n\u001b[0;32m     44\u001b[0m     \u001b[1;32mdel\u001b[0m \u001b[0maddress_with_errors\u001b[0m\u001b[1;33m\u001b[0m\u001b[1;33m\u001b[0m\u001b[0m\n\u001b[0;32m     45\u001b[0m \u001b[1;33m\u001b[0m\u001b[0m\n\u001b[1;32m---> 46\u001b[1;33m     loss,acc   = CheckAccuracyAndLoss('AlexNet', test_dataset, wgt_dir, output_shape=8, input_shape = (227,227,3),\n\u001b[0m\u001b[0;32m     47\u001b[0m                                             \u001b[0mact_frac_size\u001b[0m \u001b[1;33m=\u001b[0m \u001b[1;36m11\u001b[0m\u001b[1;33m,\u001b[0m \u001b[0mact_int_size\u001b[0m \u001b[1;33m=\u001b[0m \u001b[1;36m4\u001b[0m\u001b[1;33m,\u001b[0m \u001b[0mwgt_frac_size\u001b[0m \u001b[1;33m=\u001b[0m \u001b[1;36m11\u001b[0m\u001b[1;33m,\u001b[0m \u001b[0mwgt_int_size\u001b[0m \u001b[1;33m=\u001b[0m \u001b[1;36m4\u001b[0m\u001b[1;33m,\u001b[0m\u001b[1;33m\u001b[0m\u001b[1;33m\u001b[0m\u001b[0m\n\u001b[0;32m     48\u001b[0m                                             \u001b[0mbatch_size\u001b[0m\u001b[1;33m=\u001b[0m\u001b[0mtestBatchSize\u001b[0m\u001b[1;33m,\u001b[0m \u001b[0mverbose\u001b[0m \u001b[1;33m=\u001b[0m \u001b[1;36m0\u001b[0m\u001b[1;33m,\u001b[0m \u001b[0maging_active\u001b[0m \u001b[1;33m=\u001b[0m \u001b[1;32mTrue\u001b[0m\u001b[1;33m,\u001b[0m \u001b[0mweights_faults\u001b[0m \u001b[1;33m=\u001b[0m \u001b[1;32mFalse\u001b[0m\u001b[1;33m,\u001b[0m\u001b[1;33m\u001b[0m\u001b[1;33m\u001b[0m\u001b[0m\n",
      "\u001b[1;32m~\\Desktop\\CNN_Gating\\Stats.py\u001b[0m in \u001b[0;36mCheckAccuracyAndLoss\u001b[1;34m(architecture, test_dataset, wgt_dir, act_frac_size, act_int_size, wgt_frac_size, wgt_int_size, input_shape, output_shape, faulty_addresses, masked_faults, aging_active, batch_size, verbose, weights_faults)\u001b[0m\n\u001b[0;32m    129\u001b[0m         \u001b[1;32melse\u001b[0m\u001b[1;33m:\u001b[0m\u001b[1;33m\u001b[0m\u001b[1;33m\u001b[0m\u001b[0m\n\u001b[0;32m    130\u001b[0m                 \u001b[0mqNet\u001b[0m\u001b[1;33m.\u001b[0m\u001b[0mcompile\u001b[0m\u001b[1;33m(\u001b[0m\u001b[0moptimizer\u001b[0m\u001b[1;33m=\u001b[0m\u001b[0moptimizer\u001b[0m\u001b[1;33m,\u001b[0m \u001b[0mloss\u001b[0m\u001b[1;33m=\u001b[0m\u001b[0mloss\u001b[0m\u001b[1;33m,\u001b[0m \u001b[0mmetrics\u001b[0m\u001b[1;33m=\u001b[0m\u001b[1;34m'accuracy'\u001b[0m\u001b[1;33m)\u001b[0m\u001b[1;33m\u001b[0m\u001b[1;33m\u001b[0m\u001b[0m\n\u001b[1;32m--> 131\u001b[1;33m                 \u001b[0mloss\u001b[0m\u001b[1;33m,\u001b[0m\u001b[0macc\u001b[0m  \u001b[1;33m=\u001b[0m \u001b[0mqNet\u001b[0m\u001b[1;33m.\u001b[0m\u001b[0mevaluate\u001b[0m\u001b[1;33m(\u001b[0m\u001b[0mtest_dataset\u001b[0m\u001b[1;33m,\u001b[0m\u001b[0mverbose\u001b[0m\u001b[1;33m=\u001b[0m\u001b[0mverbose\u001b[0m\u001b[1;33m)\u001b[0m\u001b[1;33m\u001b[0m\u001b[1;33m\u001b[0m\u001b[0m\n\u001b[0m\u001b[0;32m    132\u001b[0m                 \u001b[0moutputs\u001b[0m \u001b[1;33m=\u001b[0m \u001b[1;33m(\u001b[0m\u001b[0mloss\u001b[0m\u001b[1;33m,\u001b[0m\u001b[0macc\u001b[0m\u001b[1;33m)\u001b[0m\u001b[1;33m\u001b[0m\u001b[1;33m\u001b[0m\u001b[0m\n\u001b[0;32m    133\u001b[0m         \u001b[1;31m# Cleaning Memory\u001b[0m\u001b[1;33m\u001b[0m\u001b[1;33m\u001b[0m\u001b[1;33m\u001b[0m\u001b[0m\n",
      "\u001b[1;32m~\\anaconda3\\envs\\env_first\\lib\\site-packages\\tensorflow\\python\\keras\\engine\\training.py\u001b[0m in \u001b[0;36mevaluate\u001b[1;34m(self, x, y, batch_size, verbose, sample_weight, steps, callbacks, max_queue_size, workers, use_multiprocessing, return_dict, **kwargs)\u001b[0m\n\u001b[0;32m   1487\u001b[0m             \u001b[1;32mwith\u001b[0m \u001b[0mtrace\u001b[0m\u001b[1;33m.\u001b[0m\u001b[0mTrace\u001b[0m\u001b[1;33m(\u001b[0m\u001b[1;34m'test'\u001b[0m\u001b[1;33m,\u001b[0m \u001b[0mstep_num\u001b[0m\u001b[1;33m=\u001b[0m\u001b[0mstep\u001b[0m\u001b[1;33m,\u001b[0m \u001b[0m_r\u001b[0m\u001b[1;33m=\u001b[0m\u001b[1;36m1\u001b[0m\u001b[1;33m)\u001b[0m\u001b[1;33m:\u001b[0m\u001b[1;33m\u001b[0m\u001b[1;33m\u001b[0m\u001b[0m\n\u001b[0;32m   1488\u001b[0m               \u001b[0mcallbacks\u001b[0m\u001b[1;33m.\u001b[0m\u001b[0mon_test_batch_begin\u001b[0m\u001b[1;33m(\u001b[0m\u001b[0mstep\u001b[0m\u001b[1;33m)\u001b[0m\u001b[1;33m\u001b[0m\u001b[1;33m\u001b[0m\u001b[0m\n\u001b[1;32m-> 1489\u001b[1;33m               \u001b[0mtmp_logs\u001b[0m \u001b[1;33m=\u001b[0m \u001b[0mself\u001b[0m\u001b[1;33m.\u001b[0m\u001b[0mtest_function\u001b[0m\u001b[1;33m(\u001b[0m\u001b[0miterator\u001b[0m\u001b[1;33m)\u001b[0m\u001b[1;33m\u001b[0m\u001b[1;33m\u001b[0m\u001b[0m\n\u001b[0m\u001b[0;32m   1490\u001b[0m               \u001b[1;32mif\u001b[0m \u001b[0mdata_handler\u001b[0m\u001b[1;33m.\u001b[0m\u001b[0mshould_sync\u001b[0m\u001b[1;33m:\u001b[0m\u001b[1;33m\u001b[0m\u001b[1;33m\u001b[0m\u001b[0m\n\u001b[0;32m   1491\u001b[0m                 \u001b[0mcontext\u001b[0m\u001b[1;33m.\u001b[0m\u001b[0masync_wait\u001b[0m\u001b[1;33m(\u001b[0m\u001b[1;33m)\u001b[0m\u001b[1;33m\u001b[0m\u001b[1;33m\u001b[0m\u001b[0m\n",
      "\u001b[1;32m~\\anaconda3\\envs\\env_first\\lib\\site-packages\\tensorflow\\python\\eager\\def_function.py\u001b[0m in \u001b[0;36m__call__\u001b[1;34m(self, *args, **kwds)\u001b[0m\n\u001b[0;32m    887\u001b[0m \u001b[1;33m\u001b[0m\u001b[0m\n\u001b[0;32m    888\u001b[0m       \u001b[1;32mwith\u001b[0m \u001b[0mOptionalXlaContext\u001b[0m\u001b[1;33m(\u001b[0m\u001b[0mself\u001b[0m\u001b[1;33m.\u001b[0m\u001b[0m_jit_compile\u001b[0m\u001b[1;33m)\u001b[0m\u001b[1;33m:\u001b[0m\u001b[1;33m\u001b[0m\u001b[1;33m\u001b[0m\u001b[0m\n\u001b[1;32m--> 889\u001b[1;33m         \u001b[0mresult\u001b[0m \u001b[1;33m=\u001b[0m \u001b[0mself\u001b[0m\u001b[1;33m.\u001b[0m\u001b[0m_call\u001b[0m\u001b[1;33m(\u001b[0m\u001b[1;33m*\u001b[0m\u001b[0margs\u001b[0m\u001b[1;33m,\u001b[0m \u001b[1;33m**\u001b[0m\u001b[0mkwds\u001b[0m\u001b[1;33m)\u001b[0m\u001b[1;33m\u001b[0m\u001b[1;33m\u001b[0m\u001b[0m\n\u001b[0m\u001b[0;32m    890\u001b[0m \u001b[1;33m\u001b[0m\u001b[0m\n\u001b[0;32m    891\u001b[0m       \u001b[0mnew_tracing_count\u001b[0m \u001b[1;33m=\u001b[0m \u001b[0mself\u001b[0m\u001b[1;33m.\u001b[0m\u001b[0mexperimental_get_tracing_count\u001b[0m\u001b[1;33m(\u001b[0m\u001b[1;33m)\u001b[0m\u001b[1;33m\u001b[0m\u001b[1;33m\u001b[0m\u001b[0m\n",
      "\u001b[1;32m~\\anaconda3\\envs\\env_first\\lib\\site-packages\\tensorflow\\python\\eager\\def_function.py\u001b[0m in \u001b[0;36m_call\u001b[1;34m(self, *args, **kwds)\u001b[0m\n\u001b[0;32m    915\u001b[0m       \u001b[1;31m# In this case we have created variables on the first call, so we run the\u001b[0m\u001b[1;33m\u001b[0m\u001b[1;33m\u001b[0m\u001b[1;33m\u001b[0m\u001b[0m\n\u001b[0;32m    916\u001b[0m       \u001b[1;31m# defunned version which is guaranteed to never create variables.\u001b[0m\u001b[1;33m\u001b[0m\u001b[1;33m\u001b[0m\u001b[1;33m\u001b[0m\u001b[0m\n\u001b[1;32m--> 917\u001b[1;33m       \u001b[1;32mreturn\u001b[0m \u001b[0mself\u001b[0m\u001b[1;33m.\u001b[0m\u001b[0m_stateless_fn\u001b[0m\u001b[1;33m(\u001b[0m\u001b[1;33m*\u001b[0m\u001b[0margs\u001b[0m\u001b[1;33m,\u001b[0m \u001b[1;33m**\u001b[0m\u001b[0mkwds\u001b[0m\u001b[1;33m)\u001b[0m  \u001b[1;31m# pylint: disable=not-callable\u001b[0m\u001b[1;33m\u001b[0m\u001b[1;33m\u001b[0m\u001b[0m\n\u001b[0m\u001b[0;32m    918\u001b[0m     \u001b[1;32melif\u001b[0m \u001b[0mself\u001b[0m\u001b[1;33m.\u001b[0m\u001b[0m_stateful_fn\u001b[0m \u001b[1;32mis\u001b[0m \u001b[1;32mnot\u001b[0m \u001b[1;32mNone\u001b[0m\u001b[1;33m:\u001b[0m\u001b[1;33m\u001b[0m\u001b[1;33m\u001b[0m\u001b[0m\n\u001b[0;32m    919\u001b[0m       \u001b[1;31m# Release the lock early so that multiple threads can perform the call\u001b[0m\u001b[1;33m\u001b[0m\u001b[1;33m\u001b[0m\u001b[1;33m\u001b[0m\u001b[0m\n",
      "\u001b[1;32m~\\anaconda3\\envs\\env_first\\lib\\site-packages\\tensorflow\\python\\eager\\function.py\u001b[0m in \u001b[0;36m__call__\u001b[1;34m(self, *args, **kwargs)\u001b[0m\n\u001b[0;32m   3021\u001b[0m       (graph_function,\n\u001b[0;32m   3022\u001b[0m        filtered_flat_args) = self._maybe_define_function(args, kwargs)\n\u001b[1;32m-> 3023\u001b[1;33m     return graph_function._call_flat(\n\u001b[0m\u001b[0;32m   3024\u001b[0m         filtered_flat_args, captured_inputs=graph_function.captured_inputs)  # pylint: disable=protected-access\n\u001b[0;32m   3025\u001b[0m \u001b[1;33m\u001b[0m\u001b[0m\n",
      "\u001b[1;32m~\\anaconda3\\envs\\env_first\\lib\\site-packages\\tensorflow\\python\\eager\\function.py\u001b[0m in \u001b[0;36m_call_flat\u001b[1;34m(self, args, captured_inputs, cancellation_manager)\u001b[0m\n\u001b[0;32m   1958\u001b[0m         and executing_eagerly):\n\u001b[0;32m   1959\u001b[0m       \u001b[1;31m# No tape is watching; skip to running the function.\u001b[0m\u001b[1;33m\u001b[0m\u001b[1;33m\u001b[0m\u001b[1;33m\u001b[0m\u001b[0m\n\u001b[1;32m-> 1960\u001b[1;33m       return self._build_call_outputs(self._inference_function.call(\n\u001b[0m\u001b[0;32m   1961\u001b[0m           ctx, args, cancellation_manager=cancellation_manager))\n\u001b[0;32m   1962\u001b[0m     forward_backward = self._select_forward_and_backward_functions(\n",
      "\u001b[1;32m~\\anaconda3\\envs\\env_first\\lib\\site-packages\\tensorflow\\python\\eager\\function.py\u001b[0m in \u001b[0;36mcall\u001b[1;34m(self, ctx, args, cancellation_manager)\u001b[0m\n\u001b[0;32m    589\u001b[0m       \u001b[1;32mwith\u001b[0m \u001b[0m_InterpolateFunctionError\u001b[0m\u001b[1;33m(\u001b[0m\u001b[0mself\u001b[0m\u001b[1;33m)\u001b[0m\u001b[1;33m:\u001b[0m\u001b[1;33m\u001b[0m\u001b[1;33m\u001b[0m\u001b[0m\n\u001b[0;32m    590\u001b[0m         \u001b[1;32mif\u001b[0m \u001b[0mcancellation_manager\u001b[0m \u001b[1;32mis\u001b[0m \u001b[1;32mNone\u001b[0m\u001b[1;33m:\u001b[0m\u001b[1;33m\u001b[0m\u001b[1;33m\u001b[0m\u001b[0m\n\u001b[1;32m--> 591\u001b[1;33m           outputs = execute.execute(\n\u001b[0m\u001b[0;32m    592\u001b[0m               \u001b[0mstr\u001b[0m\u001b[1;33m(\u001b[0m\u001b[0mself\u001b[0m\u001b[1;33m.\u001b[0m\u001b[0msignature\u001b[0m\u001b[1;33m.\u001b[0m\u001b[0mname\u001b[0m\u001b[1;33m)\u001b[0m\u001b[1;33m,\u001b[0m\u001b[1;33m\u001b[0m\u001b[1;33m\u001b[0m\u001b[0m\n\u001b[0;32m    593\u001b[0m               \u001b[0mnum_outputs\u001b[0m\u001b[1;33m=\u001b[0m\u001b[0mself\u001b[0m\u001b[1;33m.\u001b[0m\u001b[0m_num_outputs\u001b[0m\u001b[1;33m,\u001b[0m\u001b[1;33m\u001b[0m\u001b[1;33m\u001b[0m\u001b[0m\n",
      "\u001b[1;32m~\\anaconda3\\envs\\env_first\\lib\\site-packages\\tensorflow\\python\\eager\\execute.py\u001b[0m in \u001b[0;36mquick_execute\u001b[1;34m(op_name, num_outputs, inputs, attrs, ctx, name)\u001b[0m\n\u001b[0;32m     58\u001b[0m     \u001b[0mctx\u001b[0m\u001b[1;33m.\u001b[0m\u001b[0mensure_initialized\u001b[0m\u001b[1;33m(\u001b[0m\u001b[1;33m)\u001b[0m\u001b[1;33m\u001b[0m\u001b[1;33m\u001b[0m\u001b[0m\n\u001b[0;32m     59\u001b[0m \u001b[1;33m\u001b[0m\u001b[0m\n\u001b[1;32m---> 60\u001b[1;33m     tensors = pywrap_tfe.TFE_Py_Execute(ctx._handle, device_name, op_name,\n\u001b[0m\u001b[0;32m     61\u001b[0m                                         inputs, attrs, num_outputs)\n\u001b[0;32m     62\u001b[0m   \u001b[1;32mexcept\u001b[0m \u001b[0mcore\u001b[0m\u001b[1;33m.\u001b[0m\u001b[0m_NotOkStatusException\u001b[0m \u001b[1;32mas\u001b[0m \u001b[0me\u001b[0m\u001b[1;33m:\u001b[0m\u001b[1;33m\u001b[0m\u001b[1;33m\u001b[0m\u001b[0m\n",
      "\u001b[1;31mInvalidArgumentError\u001b[0m:  indices[111] = [15, 209, 181, 2] does not index into param shape [14,227,227,3], node name: model/lambda_1/GatherNd\n\t [[node model/lambda_1/GatherNd (defined at C:\\Users\\usuario\\Desktop\\CNN_Gating\\Nets.py:79) ]] [Op:__inference_test_function_2879]\n\nErrors may have originated from an input operation.\nInput Source operations connected to node model/lambda_1/GatherNd:\n model/lambda/Maximum (defined at C:\\Users\\usuario\\Desktop\\CNN_Gating\\Nets.py:54)\n\nFunction call stack:\ntest_function\n"
     ]
    }
   ],
   "source": [
    "# from copy import deepcopy\n",
    "from Stats import CheckAccuracyAndLoss\n",
    "from Simulation import save_obj, load_obj\n",
    "from FileAnalize import analize_file, analize_file_uno,analize_file_uno_ceros, save_file, load_file\n",
    "import collections\n",
    "from datetime import datetime\n",
    "import itertools\n",
    "from Training import GetDatasets\n",
    "import numpy as np\n",
    "import os\n",
    " \n",
    "cwd = os.getcwd()\n",
    "wgt_dir = os.path.join(cwd, 'Data')\n",
    "wgt_dir = os.path.join(wgt_dir, 'Trained Weights')\n",
    "wgt_dir = os.path.join(wgt_dir, 'AlexNet')\n",
    "wgt_dir = os.path.join(wgt_dir, 'Colorectal Dataset')\n",
    "wgt_dir = os.path.join(wgt_dir,'Weights')\n",
    "    \n",
    "\n",
    "trainBatchSize = testBatchSize = 16\n",
    "_,_,test_dataset = GetDatasets('colorectal_histology',(80,5,15),(227,227), 8, trainBatchSize, testBatchSize)\n",
    "\n",
    "\n",
    "\n",
    "network_size   = 16777216   # Tamaño del buffer (en bits)\n",
    "\n",
    "\n",
    "num_of_samples = 10      # Numero de muestras de distintas configuraciones de fallos a testear por cada valor de Accs/Loss\n",
    "#buffer= (analize_file_uno(('Data/VC'), network_size))\n",
    "buffer= (analize_file(('Data/Fault Characterization/KC705_B/RowData/KC705B-0.56'), network_size))\n",
    "print(len(buffer))\n",
    "\n",
    "\n",
    "for index in range(0,num_of_samples):\n",
    "    address_with_errors = np.reshape(buffer,(-1,16))    \n",
    "    address_with_errors = [\"\".join(i) for i in address_with_errors[0:network_size]]\n",
    "    \n",
    "    error_mask = [y for x,y in enumerate(address_with_errors) if y.count('x') < 16]  \n",
    "    \n",
    "    print((error_mask))\n",
    "    locs       = [x for x,y in enumerate(address_with_errors) if y.count('x') < 16]\n",
    "  \n",
    "   \n",
    "    del address_with_errors\n",
    "           \n",
    "    loss,acc   = CheckAccuracyAndLoss('AlexNet', test_dataset, wgt_dir, output_shape=8, input_shape = (227,227,3),\n",
    "                                            act_frac_size = 11, act_int_size = 4, wgt_frac_size = 11, wgt_int_size = 4,\n",
    "                                            batch_size=testBatchSize, verbose = 0, aging_active = True, weights_faults = False,\n",
    "                                            faulty_addresses = locs, masked_faults = error_mask)\n",
    "    \n",
    "                                 \n",
    "       \n",
    "       \n",
    "             \n",
    "    Accs.append(acc)\n",
    "    #Loss[Enumber].append(loss)\n",
    "    print(loss)\n",
    "    print(acc)\n",
    "print(str()+' operación completada: ', datetime.now().strftime(\"%H:%M:%S\"))\n",
    "#save_obj(Accs,'Data/Fault Characterization/Accs')\n",
    "#save_obj(Loss,'Data/Errors/AlexNet/Colorectal Dataset/Loss')"
   ]
  },
  {
   "cell_type": "markdown",
   "id": "5b87f3f6",
   "metadata": {},
   "source": []
  },
  {
   "cell_type": "markdown",
   "id": "c1000ac0",
   "metadata": {},
   "source": [
    "#  Inyectando errores de forma aleatoria como '0' y '1'"
   ]
  },
  {
   "cell_type": "code",
   "execution_count": 48,
   "id": "2a366193",
   "metadata": {},
   "outputs": [
    {
     "name": "stdout",
     "output_type": "stream",
     "text": [
      "Cantidad de errores de todo el fihero: 7520\n",
      "Cantidad de elementos por tipo : Counter({'x': 16773858, '1': 1701, '0': 1657})\n",
      "[0.890666663646698]\n"
     ]
    },
    {
     "ename": "Error",
     "evalue": "iterable expected, not float",
     "output_type": "error",
     "traceback": [
      "\u001b[1;31m---------------------------------------------------------------------------\u001b[0m",
      "\u001b[1;31mError\u001b[0m                                     Traceback (most recent call last)",
      "\u001b[1;32m<ipython-input-48-03996d7da431>\u001b[0m in \u001b[0;36m<module>\u001b[1;34m\u001b[0m\n\u001b[0;32m     73\u001b[0m     \u001b[0mwriter\u001b[0m\u001b[1;33m.\u001b[0m\u001b[0mwriterow\u001b[0m\u001b[1;33m(\u001b[0m\u001b[0mheaders\u001b[0m\u001b[1;33m)\u001b[0m\u001b[1;33m\u001b[0m\u001b[1;33m\u001b[0m\u001b[0m\n\u001b[0;32m     74\u001b[0m     \u001b[1;32mfor\u001b[0m \u001b[0mj\u001b[0m \u001b[1;32min\u001b[0m \u001b[0mAccs\u001b[0m\u001b[1;33m:\u001b[0m\u001b[1;33m\u001b[0m\u001b[1;33m\u001b[0m\u001b[0m\n\u001b[1;32m---> 75\u001b[1;33m         \u001b[0mwriter\u001b[0m\u001b[1;33m.\u001b[0m\u001b[0mwriterow\u001b[0m\u001b[1;33m(\u001b[0m\u001b[0mj\u001b[0m\u001b[1;33m)\u001b[0m\u001b[1;33m\u001b[0m\u001b[1;33m\u001b[0m\u001b[0m\n\u001b[0m\u001b[0;32m     76\u001b[0m \u001b[1;33m\u001b[0m\u001b[0m\n\u001b[0;32m     77\u001b[0m \u001b[1;33m\u001b[0m\u001b[0m\n",
      "\u001b[1;31mError\u001b[0m: iterable expected, not float"
     ]
    }
   ],
   "source": [
    "# from copy import deepcopy\n",
    "from Stats import CheckAccuracyAndLoss\n",
    "from Simulation import save_obj, load_obj\n",
    "from FileAnalize import analize_file, analize_file_uno,analize_file_uno_ceros, save_file, load_file\n",
    "import collections\n",
    "from datetime import datetime\n",
    "import itertools\n",
    "from Training import GetDatasets\n",
    "import numpy as np\n",
    "import os\n",
    "import csv\n",
    " \n",
    "cwd = os.getcwd()\n",
    "wgt_dir = os.path.join(cwd, 'Data')\n",
    "wgt_dir = os.path.join(wgt_dir, 'Trained Weights')\n",
    "wgt_dir = os.path.join(wgt_dir, 'AlexNet')\n",
    "wgt_dir = os.path.join(wgt_dir, 'Colorectal Dataset')\n",
    "wgt_dir = os.path.join(wgt_dir,'Weights')\n",
    "    \n",
    "\n",
    "trainBatchSize = testBatchSize = 16\n",
    "_,_,test_dataset = GetDatasets('colorectal_histology',(80,5,15),(227,227), 8, trainBatchSize, testBatchSize)\n",
    "\n",
    "Accs = []\n",
    "Accs_w = []\n",
    "\n",
    "\n",
    "\n",
    "network_size   = 16777216   # Tamaño del buffer (en bits)\n",
    "\n",
    "\n",
    "num_of_samples = 1      # Numero de muestras de distintas configuraciones de fallos a testear por cada valor de Accs/Loss\n",
    "\n",
    "\n",
    "buffer= (analize_file_uno_ceros(('Data/Fault Characterization/VC707/RawData/VC707-0.55.bin'), network_size))\n",
    "\n",
    "\n",
    "\n",
    "for index in range(0,num_of_samples):\n",
    "    address_with_errors = np.reshape(buffer,(-1,16))    \n",
    "    address_with_errors = [\"\".join(i) for i in address_with_errors[0:1000]]\n",
    "    \n",
    "    error_mask = [y for x,y in enumerate(address_with_errors) if y.count('x') < 16]  \n",
    "   \n",
    "    \n",
    "    \n",
    "    #print(len(error_mask))\n",
    "    locs       = [x for x,y in enumerate(address_with_errors) if y.count('x') < 16]\n",
    "  \n",
    "   \n",
    "    del address_with_errors\n",
    "           \n",
    "    loss,acc   = CheckAccuracyAndLoss('AlexNet', test_dataset, wgt_dir, output_shape=8, input_shape = (227,227,3),\n",
    "                                            act_frac_size = 11, act_int_size = 4, wgt_frac_size = 11, wgt_int_size = 4,\n",
    "                                            batch_size=testBatchSize, verbose = 0, aging_active = False, weights_faults = True,\n",
    "                                            faulty_addresses = locs, masked_faults = error_mask)\n",
    "    \n",
    "    loss,acc_w   = CheckAccuracyAndLoss('AlexNet', test_dataset, wgt_dir, output_shape=8, input_shape = (227,227,3),\n",
    "                                            act_frac_size = 11, act_int_size = 4, wgt_frac_size = 11, wgt_int_size = 4,\n",
    "                                            batch_size=testBatchSize, verbose = 0, aging_active = True, weights_faults = False,\n",
    "                                            faulty_addresses = locs, masked_faults = error_mask)\n",
    "    loss,acc_w_a   = CheckAccuracyAndLoss('AlexNet', test_dataset, wgt_dir, output_shape=8, input_shape = (227,227,3),\n",
    "                                            act_frac_size = 11, act_int_size = 4, wgt_frac_size = 11, wgt_int_size = 4,\n",
    "                                            batch_size=testBatchSize, verbose = 0, aging_active = True, weights_faults = True,\n",
    "                                            faulty_addresses = locs, masked_faults = error_mask)\n",
    "    \n",
    "    \n",
    "    Accs.append(acc)\n",
    "    print(Accs)\n",
    "headers=[\"ceros_a\",\"uno_a\",\"ce_un_a\"]    \n",
    "with open(f\"fsiete.csv\", 'w', newline='') as file:\n",
    "    writer = csv.writer(file)\n",
    "    writer.writerow(headers)\n",
    "    for j in Accs:\n",
    "        writer.writerow(j)                              \n",
    "       \n",
    "       \n",
    "   # archivo = open(\"fsiete.csv\", \"w\")\n",
    "   # #titulor = \"a_c_u, p_c_u, pa_c_u\\n\"\n",
    "   # archivo.write(str(acc))\n",
    "   # archivo.write(\";\")\n",
    "   # archivo.write(str(acc_w))\n",
    "   # archivo.write(\";\") \n",
    "   # archivo.write(str(acc_w_a))\n",
    "   # archivo.write(\";\")\n",
    "   # archivo.close()\n",
    "                \n",
    "    #Accs.append(acc)\n",
    "    #Accs.append(acc_w)\n",
    "    1#Accs.append(acc_w_a)\n",
    "    #Loss[Enumber].append(loss)\n",
    "    #print(loss)\n",
    "    #print(acc)\n",
    "print(str()+' operación completada: ', datetime.now().strftime(\"%H:%M:%S\"))\n",
    "#save_obj(Accs,'Data/Fault Characterization/Accs')\n",
    "#save_obj(Accs_w,'Data/Fault Characterization/Accs_w')\n",
    "\n",
    "#save_obj(Loss,'Data/Errors/AlexNet/Colorectal Dataset/Loss')"
   ]
  },
  {
   "cell_type": "code",
   "execution_count": null,
   "id": "c90f542b",
   "metadata": {},
   "outputs": [],
   "source": [
    "with open(f\"fsiete.csv\", 'w', newline='') as file:\n",
    "    writer = csv.writer(file)\n",
    "    writer.writerow(headers)\n",
    "    for j in accs:\n",
    "        writer.writerow(j)\n",
    "        \n",
    "import csv\n",
    "with open('eggs.csv', 'w', newline='') as csvfile:\n",
    "    spamwriter = csv.writer(csvfile, delimiter=' ',\n",
    "                            quotechar='|', quoting=csv.QUOTE_MINIMAL)\n",
    "    spamwriter.writerow(['Spam'] * 5 + ['Baked Beans'])\n",
    "    spamwriter.writerow(['Spam', 'Lovely Spam', 'Wonderful Spam'])"
   ]
  },
  {
   "cell_type": "code",
   "execution_count": 25,
   "id": "fac3b1e6",
   "metadata": {},
   "outputs": [
    {
     "data": {
      "text/plain": [
       "[0.890666663646698, 0.890666663646698, 0.890666663646698]"
      ]
     },
     "execution_count": 25,
     "metadata": {},
     "output_type": "execute_result"
    }
   ],
   "source": [
    "Accs"
   ]
  },
  {
   "cell_type": "markdown",
   "id": "5d526256",
   "metadata": {},
   "source": [
    "# Medición para las fallas en los pesos"
   ]
  },
  {
   "cell_type": "code",
   "execution_count": 28,
   "id": "a4c4ccf4",
   "metadata": {},
   "outputs": [
    {
     "name": "stdout",
     "output_type": "stream",
     "text": [
      "Cantidad de errores de todo el fihero: 7520\n",
      "Cantidad de elementos por tipo : Counter({'x': 16773858, '1': 3358})\n",
      "[4141, 4181, 4241, 4789, 4899, 4903, 5001, 18073, 18199, 18343, 18355, 18365, 28702, 28894, 29150, 30576, 34604, 34666, 43076, 43658, 43810, 64280, 64428, 68938, 71185, 71189, 71191, 71193, 71209, 71219, 71225, 71229, 71233, 71237, 71239, 71241, 71247, 71257, 71261, 71273, 71275, 71277, 71279, 71281, 71283, 71285, 71287, 71297, 71303, 71305, 71309, 71315, 71321, 71323, 71325, 71327, 71339, 71345, 71347, 71349, 71351, 71359, 71361, 71363, 71365, 71367, 71369, 71371, 71373, 71375, 71377, 71379, 71381, 71383, 71385, 71393, 71401, 71403, 71417, 71421, 71423, 71425, 71429, 71431, 71433, 71435, 71437, 71439, 71441, 71443, 71445, 71447, 71453, 71455, 71465, 71469, 71471, 71473, 71489, 71493, 71495, 71497, 71501, 71513, 71517, 71521, 71529, 71531, 71551, 71561, 71581, 71591, 71609, 71611, 71613, 71615, 71617, 71625, 71627, 71633, 71641, 71657, 71659, 71661, 71663, 71669, 71673, 73351, 82200, 82272, 87938, 98402, 98414, 98916, 98938, 98986, 98990, 99142, 99182, 99274, 99280, 99298, 101280, 101385, 101577, 101821, 101909, 104493, 104777, 105011, 105027, 112778, 112800, 112844, 112992, 113108, 113334, 117318, 117432, 119370, 119372, 119562, 121006, 124820, 125127, 132974, 137241, 137345, 137361, 137425, 137449, 137461, 137471, 137481, 137591, 137613, 137641, 137739, 137929, 138015, 138123, 138153, 138217, 145033, 145289, 145553, 155777, 159955, 171078, 171643, 171753, 171833, 172050, 172052, 172054, 172082, 172088, 172094, 172102, 172104, 172106, 172108, 172110, 172112, 172124, 172132, 172136, 172146, 172148, 172150, 172172, 172178, 172194, 172210, 172212, 172216, 172242, 172258, 172260, 172262, 172264, 172270, 172290, 172296, 172300, 172302, 172304, 172306, 172310, 172312, 172314, 172324, 172326, 172338, 172348, 172354, 172358, 172360, 172362, 172364, 172372, 172376, 172398, 172402, 172406, 172414, 172430, 172432, 172434, 172440, 172442, 172450, 172452, 172456, 172466, 172468, 172470, 172472, 172474, 172480, 172500, 172502, 172516, 172922, 173044, 177590, 177652, 177716, 183252, 183254, 186174, 186187, 196649, 196657, 196681, 196777, 196779, 196809, 196815, 196907, 197029, 197033, 200653, 200655, 202979, 203063, 207678, 209409, 209421, 209441, 209443, 209445, 209447, 209449, 209499, 209505, 209507, 209509, 209513, 209553, 209569, 209571, 209575, 209581, 209583, 209585, 209587, 209589, 209591, 209595, 209597, 209601, 209603, 209605, 209635, 209637, 209639, 209665, 209667, 209669, 209671, 209673, 209675, 209677, 209679, 209681, 209695, 209699, 209705, 209707, 209709, 209713, 209715, 209719, 209739, 209761, 209763, 209765, 209767, 209769, 209771, 209773, 209775, 209777, 209793, 209797, 209827, 209831, 209833, 209835, 209837, 209849, 209851, 209857, 209879, 209881, 209901, 209903, 209909, 211558, 211774, 215169, 215505, 216150, 216390, 220767, 220809, 220811, 221137, 221825, 222185, 225737, 234075, 237148, 241245, 243386, 251692, 252556, 252997, 253037, 253709, 257050, 257490, 263262, 264809, 264811, 264873, 265364, 265398, 274495, 274697, 274765, 274857, 275009, 275029, 275345, 275351, 275617, 281583, 281853, 281895, 282221, 282255, 282343, 282345, 288348, 288489, 288944, 296511, 301695, 302065, 306290, 310159, 310191, 310217, 310561, 311065, 311181, 316755, 316757, 320694, 320816, 320832, 320938, 320940, 321012, 325665, 325805, 325995, 326061, 326063, 326315, 326806, 327014, 327105, 327206, 327504, 327512, 327566, 328326, 331267, 331287, 331311, 331337, 331339, 331341, 331353, 331355, 331401, 331405, 331409, 331433, 331439, 331555, 331597, 331657, 331697, 331721, 331729, 333510, 333748, 333814, 335228, 337686, 337751, 340513, 340539, 340553, 340555, 340585, 340587, 340589, 340591, 340619, 340657, 340667, 340723, 340746, 340749, 340791, 340801, 340809, 340815, 340817, 340841, 340851, 340859, 340969, 344728, 352556, 352748, 352784, 352814, 352944, 353036, 353129, 353162, 353226, 360088, 363369, 365199, 365233, 377453, 377465, 377517, 377641, 377705, 377721, 377775, 377847, 379021, 379159, 379409, 379413, 379449, 379451, 379661, 379663, 379691, 379751, 379785, 379787, 379817, 379821, 379823, 379825, 379856, 383126, 383634, 383934, 384142, 387948, 388285, 388333, 388425, 388439, 388453, 388521, 388537, 388639, 388665, 388669, 388839, 388841, 388847, 388879, 388881, 388897, 388957, 388959, 388969, 388979, 389025, 389027, 389031, 389093, 397226, 398127, 398504, 403832, 404020, 404068, 404212, 404874, 405092, 405094, 405346, 405352, 405428, 410030, 410380, 410468, 412764, 412796, 412798, 413004, 413012, 413052, 413066, 413144, 413180, 414912, 419840, 419841, 419849, 419905, 419923, 419953, 419975, 419977, 419979, 420007, 420033, 420035, 420037, 420081, 420141, 420153, 420155, 420207, 420225, 420233, 420235, 420253, 420257, 420271, 420275, 420297, 420395, 420398, 420414, 421931, 425695, 425713, 425873, 426657, 426881, 431177, 431241, 431305, 431409, 431431, 431545, 431595, 431637, 431733, 431843, 431845, 431927, 432039, 435248, 435254, 435496, 435912, 435952, 435992, 436046, 436068, 436076, 436136, 436659, 436825, 436847, 437546, 438535, 438985, 439115, 439213, 439241, 439507, 439511, 441199, 441257, 442929, 442979, 442993, 443051, 443059, 443083, 443251, 443253, 443285, 443287, 443299, 443317, 443321, 446105, 446537, 446677, 446753, 446765, 446815, 446843, 446903, 450679, 450763, 450953, 450989, 450991, 451113, 451115, 451119, 451137, 451141, 451157, 451159, 451183, 451189, 451207, 451209, 451211, 451219, 451227, 451231, 451247, 451277, 451281, 451303, 451339, 451341, 451365, 451369, 451387, 451389, 451391, 451423, 451435, 451441, 451445, 451477, 451479, 451565, 457749, 457775, 457879, 457979, 458021, 458031, 458067, 458069, 458083, 458117, 458133, 458151, 458348, 458654, 458665, 458697, 458741, 464898, 464924, 464926, 464928, 464936, 464978, 464986, 465002, 465004, 465006, 465008, 465098, 465100, 465160, 465200, 465284, 465296, 465324, 465328, 465334, 465360, 465388, 465392, 473897, 475155, 475161, 475175, 475181, 475183, 475195, 475277, 475279, 475281, 475293, 475305, 475307, 475309, 475325, 475329, 475369, 475371, 475373, 475375, 475393, 475395, 475397, 475405, 475423, 475437, 475457, 475467, 475477, 475499, 475519, 475559, 475605, 475609, 475625, 475627, 475629, 475631, 475637, 475645, 475765, 475767, 475777, 475781, 475783, 475785, 475787, 475789, 475791, 475793, 475805, 475819, 475821, 475827, 475829, 475835, 475853, 475859, 475873, 475877, 475879, 475893, 475915, 475917, 475919, 475985, 476005, 476031, 476045, 476069, 476087, 476099, 476121, 476123, 476135, 476157, 478013, 479747, 479821, 479840, 479843, 479873, 479977, 480043, 480057, 480065, 480069, 480079, 480105, 480145, 480219, 485086, 485160, 485374, 485589, 488460, 488490, 488504, 488530, 488564, 488568, 488602, 488638, 488642, 488670, 488746, 488782, 488786, 488790, 488818, 488822, 488882, 488934, 489022, 492065, 494932, 495815, 502409, 503565, 503673, 504424, 504865, 504959, 505257, 505387, 505425, 505427, 505463, 505479, 505495, 505553, 505575, 505783, 505815, 505823, 505892, 506142, 506184, 506258, 506294, 506326, 506752, 506762, 506778, 506832, 506872, 510910, 512105, 513352, 516968, 519786, 520175, 522943, 523009, 523133, 524467, 524905, 524941, 524989, 525033, 525081, 525161, 526009, 526109, 527393, 527683, 527994, 528234, 528238, 528252, 531497, 531499, 531501, 531559, 531577, 531657, 531689, 531727, 531945, 532009, 532378, 532547, 533162, 533166, 533214, 533342, 535150, 538217, 538571, 539537, 542741, 543283, 543401, 544768, 544769, 544770, 544824, 545017, 545059, 545175, 545185, 545291, 545335, 545431, 545449, 545455, 545533, 545537, 545612, 545614, 545616, 545705, 545741, 545753, 545760, 547055, 547513, 551437, 551561, 551565, 551635, 551691, 551721, 551723, 551725, 551727, 551821, 553401, 553624, 557632, 557692, 557740, 557840, 557932, 557948, 559625, 559657, 559737, 559767, 559883, 559995, 559997, 560073, 560105, 560107, 560109, 569866, 570156, 575505, 575509, 575581, 575591, 575597, 575629, 575631, 575633, 575701, 575707, 575727, 575755, 575803, 575819, 575821, 575849, 575867, 575897, 575901, 575933, 575955, 576087, 576245, 576657, 577013, 577417, 581235, 581272, 589440, 589540, 589564, 589658, 589672, 589874, 589900, 589944, 589946, 590026, 590062, 590078, 590106, 590128, 590184, 590186, 590190, 590308, 590316, 590341, 590401, 590402, 590403, 590407, 590409, 590421, 590423, 590435, 590451, 590453, 590459, 590463, 590465, 590479, 590481, 590487, 590499, 590501, 590513, 590529, 590545, 590567, 590579, 590609, 590610, 590657, 590659, 590661, 590663, 590669, 590677, 590689, 590691, 590693, 590699, 590701, 590705, 590707, 590711, 590713, 590717, 590719, 590737, 590745, 590749, 590757, 590790, 590797, 590804, 590811, 590821, 590951, 591035, 591045, 591127, 591175, 591237, 591303, 591675, 591725, 592489, 592491, 592717, 592735, 592761, 594958, 596265, 596561, 598537, 598549, 598559, 598567, 598595, 598609, 598645, 598659, 598735, 598737, 598739, 598781, 598785, 598793, 598823, 598825, 598827, 598833, 598839, 598855, 598857, 598897, 598899, 598913, 598917, 598921, 598993, 598995, 599017, 599025, 611328, 611329, 611379, 611489, 611727, 611729, 612169, 612239, 612253, 612255, 612573, 612585, 612877, 612895, 612937, 612953, 612959, 612969, 613017, 613021, 613041, 613073, 613077, 613087, 613145, 613149, 613151, 613205, 613273, 613279, 613319, 613321, 613904, 614014, 614046, 614190, 614256, 614289, 614350, 616894, 620812, 628668, 631571, 631982, 634637, 635532, 643130, 643308, 643430, 643600, 643618, 643718, 643746, 643752, 643880, 644018, 644630, 644632, 644720, 644822, 644824, 644894, 644962, 645002, 645034, 645036, 651834, 651882, 651914, 651916, 651918, 651920, 651980, 651982, 652042, 652046, 652110, 652208, 652886, 663640, 665216, 667673, 667725, 667871, 667929, 667983, 668009, 668079, 668127, 668307, 668311, 668433, 668487, 668525, 668533, 673679, 673691, 674026, 681542, 681544, 691348, 694360, 694424, 694702, 694770, 695256, 699438, 699822, 702784, 705232, 705422, 705424, 705432, 707586, 707622, 707710, 707774, 707776, 707794, 707812, 707814, 707886, 707888, 707912, 707958, 708008, 708018, 708024, 708046, 708076, 708170, 709472, 713244, 713310, 722842, 729391, 740943, 742126, 742172, 742208, 742316, 742318, 744112, 756361, 756543, 762508, 762858, 772150, 772530, 775442, 783887, 796655, 806655, 809260, 810026, 810042, 810186, 810190, 810230, 810346, 810374, 810408, 810496, 811030, 811858, 813500, 825770, 829964, 830050, 830268, 830300, 830320, 830332, 834863, 842569, 843181, 843281, 843319, 843519, 843649, 843681, 843683, 843737, 849038, 849130, 850815, 855544, 859919, 861612, 861680, 861765, 862177, 863558, 864425, 864917, 864941, 864981, 865169, 871430, 871432, 871440, 871442, 871448, 871482, 871508, 871576, 871602, 871604, 871624, 871632, 871634, 871654, 871670, 871688, 871698, 871700, 871716, 871730, 871732, 871738, 871740, 871756, 871766, 871780, 871794, 871796, 871798, 871800, 871826, 871828, 871858, 871860, 871862, 871864, 871876, 871880, 871890, 871912, 871916, 871996, 872016, 872032, 872060, 872182, 872254, 872370, 877683, 878776, 879274, 879276, 887885, 888145, 888177, 888181, 896791, 897083, 897225, 897251, 897385, 897407, 899369, 899433, 902744, 905904, 905912, 906092, 906836, 910933, 913113, 915423, 920110, 920364, 920414, 925559, 926097, 926200, 927608, 929815, 930511, 931874, 932362, 932426, 932428, 932430, 932464, 932492, 932494, 932496, 932522, 932528, 932534, 932588, 932622, 932654, 932662, 932664, 932716, 932744, 932748, 932778, 932780, 932796, 932810, 932840, 932862, 936460, 936474, 936480, 936528, 936554, 936560, 936590, 936656, 936732, 936762, 936892, 936928, 940079, 940125, 940231, 940303, 940339, 940471, 940691, 940695, 940769, 940785, 940901, 946193, 946239, 946249, 946265, 946283, 946321, 946333, 946361, 946425, 946461, 946473, 946477, 946479, 946513, 946515, 946537, 946557, 946569, 946579, 946587, 946607, 946623, 946633, 946639, 946703, 946705, 946739, 946803, 946813, 946815, 946837, 946907, 946927, 946929, 946997, 947009, 947061, 947087, 947091, 947113, 947179, 948708, 949040, 954744, 958190, 958444, 960849, 967737, 967761, 967763, 967787, 967817, 967821, 967825, 967995, 968009, 968017, 968035, 968085, 968113, 968873, 972001, 972217, 972361, 972443, 972477, 972649, 977509, 978033, 978077, 982570, 982614, 982652, 982712, 982978, 985161, 985171, 985365, 985369, 985490, 986062, 991626, 994124, 994452, 994562, 994980, 994988, 995264, 997970, 1001393, 1005073, 1005097, 1005167, 1005209, 1005225, 1005233, 1005263, 1005265, 1005295, 1005399, 1005401, 1005449, 1005457, 1005459, 1005463, 1005481, 1005513, 1005545, 1006204, 1024873, 1024937, 1027290, 1034249, 1034259, 1034427, 1034521, 1034671, 1034717, 1034719, 1035011, 1035141, 1037841, 1040141, 1042065, 1045028]\n"
     ]
    },
    {
     "name": "stdout",
     "output_type": "stream",
     "text": [
      "[]\n",
      "hola\n",
      "[]\n",
      "hola\n",
      "[]\n",
      "hola\n",
      "[]\n",
      "hola\n",
      "[]\n",
      "hola\n",
      "[]\n",
      "[]\n",
      "hola\n",
      "[]\n",
      "hola\n",
      "[]\n",
      "hola\n",
      "[]\n",
      "hola\n",
      "[]\n",
      "hola\n",
      "[]\n",
      "[]\n",
      "hola\n",
      "[]\n",
      "hola\n",
      "[]\n",
      "hola\n",
      "[]\n",
      "hola\n",
      "[]\n",
      "hola\n",
      "[]\n",
      "[]\n",
      "hola\n",
      "[]\n",
      "hola\n",
      "[]\n",
      "hola\n",
      "[]\n",
      "hola\n",
      "[]\n",
      "hola\n",
      "[]\n",
      "[]\n",
      "hola\n",
      "[]\n",
      "hola\n",
      "[]\n",
      "hola\n",
      "[]\n",
      "hola\n",
      "[]\n",
      "hola\n",
      "[]\n",
      "[[65535, 16448], [65535, 16448], [65535, 16448], [65535, 16448], [65535, 16448], [65535, 16448], [65535, 16448], [65535, 16448], [65535, 16448], [65535, 16448], [65535, 16448], [65535, 16448], [65535, 8224], [65535, 8224], [65535, 8224], [65535, 16448], [65535, 8224], [65535, 8224], [65535, 2056], [65535, 1028], [65535, 4112], [65535, 16448], [65535, 16448], [65535, 257], [65535, 4112], [65535, 4112], [65535, 6168], [65535, 4112], [65535, 4112], [65535, 2056], [65535, 2056], [65535, 4112], [65535, 2056], [65535, 4112], [65535, 4112], [65535, 4112], [65535, 4112], [65535, 4112], [65535, 4112], [65535, 4112], [65535, 2056], [65535, 4112], [65535, 4112], [65535, 6168], [65535, 2056], [65535, 6682], [65535, 4626], [65535, 4112], [65535, 4112], [65535, 4112], [65535, 4112], [65535, 6168], [65535, 4112], [65535, 6168], [65535, 6168], [65535, 6168], [65535, 4112], [65535, 6168], [65535, 4112], [65535, 4112], [65535, 4112], [65535, 4112], [65535, 4112], [65535, 4112], [65535, 4112], [65535, 4112], [65535, 6168], [65535, 2056], [65535, 4112], [65535, 4112], [65535, 6168], [65535, 6168], [65535, 4112], [65535, 4112], [65535, 4112], [65535, 4112], [65535, 4112], [65535, 2056], [65535, 4112], [65535, 4112], [65535, 4112], [65535, 4112], [65535, 4112], [65535, 4112], [65535, 6168], [65535, 6168], [65535, 4626], [65535, 4112], [65535, 6168], [65535, 7196], [65535, 4112], [65535, 7196], [65535, 4112], [65535, 4112], [65535, 5140], [65535, 6168], [65535, 4112], [65535, 4112], [65535, 4112], [65535, 4112], [65535, 4112], [65535, 2056], [65535, 4112], [65535, 4112], [65535, 4112], [65535, 4112], [65535, 4112], [65535, 4112], [65535, 4112], [65535, 2056], [65535, 4112], [65535, 4112], [65535, 4112], [65535, 4112], [65535, 4112], [65535, 4112], [65535, 4112], [65535, 6168], [65535, 2056], [65535, 4112], [65535, 4112], [65535, 6168], [65535, 4112], [65535, 4112], [65535, 4112], [65535, 4112], [65535, 4112], [65535, 514], [65535, 32896], [65535, 32896], [65535, 4112], [65535, 1028], [65535, 1028], [65535, 1028], [65535, 1028], [65535, 1028], [65535, 257], [65535, 1028], [65535, 1028], [65535, 1028], [65535, 1028], [65535, 1028], [65535, 32896], [65535, 257], [65535, 257], [65535, 257], [65535, 257], [65535, 1028], [65535, 1028], [65535, 1028], [65535, 1028], [65535, 1028], [65535, 1028], [65535, 1028], [65535, 1028], [65535, 1028], [65535, 1028], [65535, 8224], [65535, 8224], [65535, 4112], [65535, 4112], [65535, 4112], [65535, 2056], [65535, 32896], [65535, 2056], [65535, 2056], [65535, 1028], [65535, 1028], [65535, 1028], [65535, 1028], [65535, 1028], [65535, 1028], [65535, 1028], [65535, 1028], [65535, 1028], [65535, 1028], [65535, 1028], [65535, 1028], [65535, 1028], [65535, 1028], [65535, 1028], [65535, 1028], [65535, 1028], [65535, 16448], [65535, 16448], [65535, 514], [65535, 8224], [65535, 32896], [65535, 1028], [65535, 16448], [65535, 4112], [65535, 16448], [65535, 8224], [65535, 8224], [65535, 8224], [65535, 8224], [65535, 8224], [65535, 8224], [65535, 8224], [65535, 8224], [65535, 8224], [65535, 8224], [65535, 8224], [65535, 9252], [65535, 8224], [65535, 8224], [65535, 8224], [65535, 8224], [65535, 9252], [65535, 8224], [65535, 8224], [65535, 8224], [65535, 8224], [65535, 8224], [65535, 8224], [65535, 8224], [65535, 8224], [65535, 8224], [65535, 8224], [65535, 8224], [65535, 8224], [65535, 8224], [65535, 8224], [65535, 8224], [65535, 8224], [65535, 8224], [65535, 8224], [65535, 8224], [65535, 8224], [65535, 8224], [65535, 8224], [65535, 8224], [65535, 8224], [65535, 8224], [65535, 8224], [65535, 8224], [65535, 8224], [65535, 8224], [65535, 8224], [65535, 8224], [65535, 8224], [65535, 8224], [65535, 8224], [65535, 8224], [65535, 8224], [65535, 8224], [65535, 8224], [65535, 8224], [65535, 8224], [65535, 8224], [65535, 8224], [65535, 8224], [65535, 8224], [65535, 8224], [65535, 8224], [65535, 8224], [65535, 8224], [65535, 8224], [65535, 8224], [65535, 8224], [65535, 8224], [65535, 8224], [65535, 8224], [65535, 8224], [65535, 8224], [65535, 514], [65535, 514], [65535, 514], [65535, 1028], [65535, 1028], [65535, 1028], [65535, 257], [65535, 2056], [65535, 2056], [65535, 8224], [65535, 257], [65535, 2056], [65535, 10537], [65535, 257], [65535, 2056], [65535, 8224], [65535, 2056], [65535, 2056], [65535, 2056], [65535, 32896], [65535, 32896], [65535, 257], [65535, 2056], [65535, 6168], [65535, 12336], [65535, 26728], [65535, 10280], [65535, 10280], [65535, 12336], [65535, 8224], [65535, 8224], [65535, 8224], [65535, 12336], [65535, 8224], [65535, 8224], [65535, 4112], [65535, 16448], [65535, 16448], [65535, 4112], [65535, 6168], [65535, 2056], [65535, 2056], [65535, 8224], [65535, 8224], [65535, 4112], [65535, 4112], [65535, 4112], [65535, 4112], [65535, 8224], [65535, 4112], [65535, 4112], [65535, 8224], [65535, 10280], [65535, 16448], [65535, 14392], [65535, 24672], [65535, 10280], [65535, 8224], [65535, 4112], [65535, 4112], [65535, 10280], [65535, 12336], [65535, 12336], [65535, 4112], [65535, 8224], [65535, 10280], [65535, 8224], [65535, 12336], [65535, 10280], [65535, 2056], [65535, 26728], [65535, 30840], [65535, 14392], [65535, 14392], [65535, 24672], [65535, 16448], [65535, 12336], [65535, 8224], [65535, 8224], [65535, 8224], [65535, 4112], [65535, 12336], [65535, 16448], [65535, 2056], [65535, 4112], [65535, 2056], [65535, 8224], [65535, 4112], [65535, 10280], [65535, 2056], [65535, 16448], [65535, 8224], [65535, 8224], [65535, 8224], [65535, 8224], [65535, 8224], [65535, 8224], [65535, 8224], [65535, 8224], [65535, 8224], [65535, 514], [65535, 514], [65535, 32896], [65535, 514], [65535, 257], [65535, 257], [65535, 1028], [65535, 8224], [65535, 4112], [65535, 16448], [65535, 514], [65535, 8224], [65535, 8224], [65535, 514], [65535, 514], [65535, 514], [65535, 514], [65535, 514], [65535, 16448], [65535, 514], [65535, 514], [65535, 514], [65535, 514], [65535, 514], [65535, 16448], [65535, 16448], [65535, 16448], [65535, 16448], [65535, 16448], [65535, 16448], [65535, 16448], [65535, 16448], [65535, 32896], [65535, 8224], [65535, 1028], [65535, 1028], [65535, 1028], [65535, 1028], [65535, 1028], [65535, 1028], [65535, 1028], [65535, 32896], [65535, 16448], [65535, 2056], [65535, 1028], [65535, 1028], [65535, 514], [65535, 8224], [65535, 16448], [65535, 8224], [65535, 257], [65535, 257], [65535, 257], [65535, 257], [65535, 257], [65535, 257], [65535, 257], [65535, 257], [65535, 2056], [65535, 2056], [65535, 2056], [65535, 1028], [65535, 32896], [65535, 32896], [65535, 32896], [65535, 32896], [65535, 32896], [65535, 16448], [65535, 16448], [65535, 4112], [65535, 16448], [65535, 2056], [65535, 16448], [65535, 16448], [65535, 1028], [65535, 514], [65535, 514], [65535, 514], [65535, 514], [65535, 514], [65535, 514], [65535, 514], [65535, 514], [65535, 514], [65535, 514], [65535, 514], [65535, 514], [65535, 514], [65535, 514], [65535, 514], [65535, 514], [65535, 514], [65535, 514], [65535, 514], [65535, 32896], [65535, 32896], [65535, 32896], [65535, 8224], [65535, 8224], [65535, 32896], [65535, 1028], [65535, 1028], [65535, 1028], [65535, 1028], [65535, 1028], [65535, 1028], [65535, 1028], [65535, 1028], [65535, 1028], [65535, 1028], [65535, 1028], [65535, 1028], [65535, 257], [65535, 16448], [65535, 1028], [65535, 1028], [65535, 1028], [65535, 1028], [65535, 1028], [65535, 1028], [65535, 1028], [65535, 1028], [65535, 1028], [65535, 4112], [65535, 4112], [65535, 257], [65535, 257], [65535, 257], [65535, 514], [65535, 514], [65535, 514], [65535, 257], [65535, 257], [65535, 8224], [65535, 8224], [65535, 1028], [65535, 1028], [65535, 2056], [65535, 8224], [65535, 32896], [65535, 32896], [65535, 32896], [65535, 2056], [65535, 32896], [65535, 32896], [65535, 16448], [65535, 16448], [65535, 16448], [65535, 16448], [65535, 16448], [65535, 16448], [65535, 16448], [65535, 16448], [65535, 16448], [65535, 16448], [65535, 16448], [65535, 16448], [65535, 16448], [65535, 16448], [65535, 16448], [65535, 16448], [65535, 514], [65535, 32896], [65535, 32896], [65535, 32896], [65535, 4112], [65535, 257], [65535, 16448], [65535, 16448], [65535, 16448], [65535, 16448], [65535, 16448], [65535, 16448], [65535, 16448], [65535, 16448], [65535, 16448], [65535, 16448], [65535, 16448], [65535, 16448], [65535, 16448], [65535, 16448], [65535, 16448], [65535, 16448], [65535, 16448], [65535, 16448], [65535, 16448], [65535, 16448], [65535, 16448], [65535, 16448], [65535, 16448], [65535, 16448], [65535, 1028], [65535, 1028], [65535, 257], [65535, 2056], [65535, 2056], [65535, 2056], [65535, 2056], [65535, 4112], [65535, 4112], [65535, 4112], [65535, 4626], [65535, 4112], [65535, 4112], [65535, 8224], [65535, 8224], [65535, 8224], [65535, 32896], [65535, 32896], [65535, 32896], [65535, 32896], [65535, 32896], [65535, 32896], [65535, 32896], [65535, 32896], [65535, 32896], [65535, 4112], [65535, 32896], [65535, 32896], [65535, 32896], [65535, 32896], [65535, 32896], [65535, 32896], [65535, 32896], [65535, 32896], [65535, 32896], [65535, 32896], [65535, 32896], [65535, 32896], [65535, 32896], [65535, 32896], [65535, 32896], [65535, 32896], [65535, 32896], [65535, 32896], [65535, 32896], [65535, 32896], [65535, 32896], [65535, 32896], [65535, 32896], [65535, 32896], [65535, 32896], [65535, 32896], [65535, 32896], [65535, 8224], [65535, 8224], [65535, 32896], [65535, 4112], [65535, 4112], [65535, 4112], [65535, 2056], [65535, 2056], [65535, 16448], [65535, 16448], [65535, 16448], [65535, 16448], [65535, 16448], [65535, 16448], [65535, 16448], [65535, 16448], [65535, 16448], [65535, 16448], [65535, 16448], [65535, 16448], [65535, 16448], [65535, 257], [65535, 257], [65535, 257], [65535, 257], [65535, 257], [65535, 257], [65535, 257], [65535, 257], [65535, 257], [65535, 257], [65535, 257], [65535, 257], [65535, 257], [65535, 16448], [65535, 2056], [65535, 2056], [65535, 32896], [65535, 32896], [65535, 34952], [65535, 32896], [65535, 32896], [65535, 4112], [65535, 1028], [65535, 4112], [65535, 4112], [65535, 4112], [65535, 4112], [65535, 4112], [65535, 4112], [65535, 4112], [65535, 4112], [65535, 4112], [65535, 4112], [65535, 4112], [65535, 4112], [65535, 4112], [65535, 16448], [65535, 1028], [65535, 1028], [65535, 1028], [65535, 1028], [65535, 1028], [65535, 1028], [65535, 1028], [65535, 8224], [65535, 8224], [65535, 8224], [65535, 8224], [65535, 8224], [65535, 8224], [65535, 514], [65535, 8224], [65535, 514], [65535, 8224], [65535, 8224], [65535, 8224], [65535, 8224], [65535, 8224], [65535, 8224], [65535, 8224], [65535, 8224], [65535, 8224], [65535, 8224], [65535, 8224], [65535, 8224], [65535, 8224], [65535, 514], [65535, 8224], [65535, 8224], [65535, 8224], [65535, 514], [65535, 8224], [65535, 8224], [65535, 8224], [65535, 8224], [65535, 8224], [65535, 8224], [65535, 8224], [65535, 8224], [65535, 8224], [65535, 514], [65535, 8224], [65535, 8224], [65535, 8224], [65535, 8224], [65535, 8224], [65535, 8224], [65535, 8224], [65535, 8224], [65535, 8224], [65535, 8224], [65535, 8224], [65535, 8224], [65535, 8224], [65535, 257], [65535, 257], [65535, 8224], [65535, 8224], [65535, 8224], [65535, 16448], [65535, 8224], [65535, 16448], [65535, 16448], [65535, 16448], [65535, 16448], [65535, 4112], [65535, 16448], [65535, 16448], [65535, 20560], [65535, 20560], [65535, 16448], [65535, 16448], [65535, 16448], [65535, 16448], [65535, 16448], [65535, 20560], [65535, 8224], [65535, 16448], [65535, 16448], [65535, 4112], [65535, 20560], [65535, 24672], [65535, 514], [65535, 257], [65535, 257], [65535, 257], [65535, 257], [65535, 257], [65535, 257], [65535, 257], [65535, 257], [65535, 257], [65535, 257], [65535, 257], [65535, 257], [65535, 257], [65535, 257], [65535, 257], [65535, 257], [65535, 257], [65535, 257], [65535, 257], [65535, 257], [65535, 257], [65535, 257], [65535, 257], [65535, 257], [65535, 257], [65535, 257], [65535, 257], [65535, 257], [65535, 257], [65535, 257], [65535, 257], [65535, 257], [65535, 257], [65535, 257], [65535, 257], [65535, 257], [65535, 257], [65535, 257], [65535, 257], [65535, 257], [65535, 257], [65535, 257], [65535, 257], [65535, 257], [65535, 257], [65535, 257], [65535, 257], [65535, 257], [65535, 257], [65535, 257], [65535, 257], [65535, 257], [65535, 257], [65535, 257], [65535, 257], [65535, 257], [65535, 257], [65535, 257], [65535, 257], [65535, 257], [65535, 257], [65535, 257], [65535, 257], [65535, 257], [65535, 257], [65535, 257], [65535, 257], [65535, 257], [65535, 257], [65535, 257], [65535, 257], [65535, 257], [65535, 257], [65535, 257], [65535, 257], [65535, 1028], [65535, 8224], [65535, 8224], [65535, 8224], [65535, 8224], [65535, 8224], [65535, 8224], [65535, 8224], [65535, 1028], [65535, 8224], [65535, 8224], [65535, 8224], [65535, 8224], [65535, 8224], [65535, 8224], [65535, 514], [65535, 514], [65535, 514], [65535, 16448], [65535, 8224], [65535, 1028], [65535, 8224], [65535, 8224], [65535, 8224], [65535, 8224], [65535, 8224], [65535, 8224], [65535, 8224], [65535, 8224], [65535, 8224], [65535, 8224], [65535, 8224], [65535, 8224], [65535, 8224], [65535, 8224], [65535, 8224], [65535, 8224], [65535, 8224], [65535, 257], [65535, 16448], [65535, 32896], [65535, 8224], [65535, 514], [65535, 514], [65535, 2056], [65535, 1028], [65535, 1028], [65535, 1028], [65535, 1028], [65535, 1028], [65535, 1028], [65535, 1028], [65535, 1028], [65535, 1028], [65535, 1028], [65535, 1028], [65535, 1028], [65535, 1028], [65535, 1028], [65535, 257], [65535, 257], [65535, 257], [65535, 257], [65535, 257], [65535, 257], [65535, 257], [65535, 257], [65535, 257], [65535, 257], [65535, 257], [65535, 8224], [65535, 16448], [65535, 514], [65535, 16448], [65535, 1028], [65535, 1028], [65535, 257], [65535, 257], [65535, 257], [65535, 1028], [65535, 1028], [65535, 1028], [65535, 1028], [65535, 16448], [65535, 1028], [65535, 1028], [65535, 16448], [65535, 16448], [65535, 32896], [65535, 32896], [65535, 514], [65535, 514], [65535, 514], [65535, 514], [65535, 2056], [65535, 2056], [65535, 2056], [65535, 2056], [65535, 2056], [65535, 2056], [65535, 2056], [65535, 2056], [65535, 2056], [65535, 2056], [65535, 1028], [65535, 257], [65535, 2056], [65535, 2056], [65535, 32896], [65535, 257], [65535, 257], [65535, 4112], [65535, 4112], [65535, 2056], [65535, 1028], [65535, 1028], [65535, 1028], [65535, 4112], [65535, 4112], [65535, 1028], [65535, 1028], [65535, 4112], [65535, 4112], [65535, 4112], [65535, 4112], [65535, 4112], [65535, 4112], [65535, 4112], [65535, 4112], [65535, 4112], [65535, 4112], [65535, 4112], [65535, 1028], [65535, 1028], [65535, 1028], [65535, 4112], [65535, 4112], [65535, 4112], [65535, 1028], [65535, 8224], [65535, 8224], [65535, 514], [65535, 514], [65535, 8224], [65535, 514], [65535, 8224], [65535, 2056], [65535, 514], [65535, 514], [65535, 514], [65535, 2056], [65535, 4112], [65535, 257], [65535, 16448], [65535, 16448], [65535, 16448], [65535, 16448], [65535, 16448], [65535, 16448], [65535, 8224], [65535, 16448], [65535, 16448], [65535, 514], [65535, 16448], [65535, 16448], [65535, 24672], [65535, 16448], [65535, 16448], [65535, 8224], [65535, 8224], [65535, 2056], [65535, 2056], [65535, 1028], [65535, 1028], [65535, 1028], [65535, 1028], [65535, 1028], [65535, 1028], [65535, 1028], [65535, 1028], [65535, 1028], [65535, 1028], [65535, 1028], [65535, 1028], [65535, 1028], [65535, 1028], [65535, 1028], [65535, 1028], [65535, 1028], [65535, 1028], [65535, 1028], [65535, 1028], [65535, 1028], [65535, 1028], [65535, 1028], [65535, 16448], [65535, 16448], [65535, 16448], [65535, 8224], [65535, 8224], [65535, 8224], [65535, 8224], [65535, 8224], [65535, 8224], [65535, 8224], [65535, 1028], [65535, 1028], [65535, 1028], [65535, 1028], [65535, 1028], [65535, 1028], [65535, 1028], [65535, 1028], [65535, 1028], [65535, 1028], [65535, 1028], [65535, 1028], [65535, 1028], [65535, 1028], [65535, 16448], [65535, 16705], [65535, 1028], [65535, 257], [65535, 16705], [65535, 257], [65535, 16448], [65535, 257], [65535, 257], [65535, 16448], [65535, 16448], [65535, 16448], [65535, 257], [65535, 257], [65535, 16448], [65535, 16448], [65535, 257], [65535, 16448], [65535, 16448], [65535, 257], [65535, 257], [65535, 16448], [65535, 257], [65535, 257], [65535, 16448], [65535, 1028], [65535, 16705], [65535, 16448], [65535, 16705], [65535, 16448], [65535, 16705], [65535, 257], [65535, 16448], [65535, 16448], [65535, 16448], [65535, 257], [65535, 257], [65535, 16448], [65535, 16448], [65535, 257], [65535, 16448], [65535, 16705], [65535, 16705], [65535, 16448], [65535, 16448], [65535, 16448], [65535, 16448], [65535, 1028], [65535, 16448], [65535, 1028], [65535, 257], [65535, 257], [65535, 4112], [65535, 4112], [65535, 4112], [65535, 4112], [65535, 4112], [65535, 4112], [65535, 4112], [65535, 4112], [65535, 4112], [65535, 4112], [65535, 4112], [65535, 4112], [65535, 4112], [65535, 4112], [65535, 4112], [65535, 8224], [65535, 8224], [65535, 257], [65535, 257], [65535, 257], [65535, 257], [65535, 257], [65535, 33153], [65535, 257], [65535, 257], [65535, 257], [65535, 33153], [65535, 32896], [65535, 257], [65535, 257], [65535, 257], [65535, 257], [65535, 257], [65535, 257], [65535, 257], [65535, 257], [65535, 257], [65535, 257], [65535, 257], [65535, 257], [65535, 257], [65535, 257], [65535, 257], [65535, 32896], [65535, 257], [65535, 257], [65535, 257], [65535, 2056], [65535, 2056], [65535, 2056], [65535, 2056], [65535, 2056], [65535, 2056], [65535, 2056], [65535, 2056], [65535, 2056], [65535, 2056], [65535, 32896], [65535, 32896], [65535, 32896], [65535, 32896], [65535, 32896], [65535, 32896], [65535, 32896], [65535, 32896], [65535, 32896], [65535, 32896], [65535, 32896], [65535, 32896], [65535, 32896], [65535, 32896], [65535, 32896], [65535, 32896], [65535, 32896], [65535, 32896], [65535, 32896], [65535, 32896], [65535, 32896], [65535, 32896], [65535, 4112], [65535, 4112], [65535, 4112], [65535, 4112], [65535, 4112], [65535, 2056], [65535, 4112], [65535, 8224], [65535, 8224], [65535, 32896], [65535, 8224], [65535, 4112], [65535, 4112], [65535, 16448], [65535, 8224], [65535, 8224], [65535, 8224], [65535, 8224], [65535, 8224], [65535, 8224], [65535, 8224], [65535, 8224], [65535, 8224], [65535, 8224], [65535, 4112], [65535, 4112], [65535, 4112], [65535, 4112], [65535, 4112], [65535, 4112], [65535, 4112], [65535, 4112], [65535, 4112], [65535, 4112], [65535, 4112], [65535, 4112], [65535, 4112], [65535, 4112], [65535, 1028], [65535, 4626], [65535, 514], [65535, 1028], [65535, 1028], [65535, 4112], [65535, 4112], [65535, 4112], [65535, 16448], [65535, 16448], [65535, 257], [65535, 514], [65535, 514], [65535, 514], [65535, 514], [65535, 514], [65535, 514], [65535, 514], [65535, 514], [65535, 514], [65535, 514], [65535, 514], [65535, 514], [65535, 514], [65535, 514], [65535, 2056], [65535, 4112], [65535, 32896], [65535, 514], [65535, 514], [65535, 514], [65535, 8224], [65535, 8224], [65535, 8224], [65535, 8224], [65535, 8224], [65535, 8224], [65535, 8224], [65535, 257], [65535, 2056], [65535, 2056], [65535, 2056], [65535, 2056], [65535, 2056], [65535, 1028], [65535, 2056], [65535, 2056], [65535, 2056], [65535, 2056], [65535, 2056], [65535, 2056], [65535, 2056], [65535, 2056], [65535, 2056], [65535, 2056], [65535, 2056], [65535, 2056], [65535, 2056], [65535, 2056], [65535, 2056], [65535, 2056], [65535, 8224], [65535, 4112], [65535, 4112], [65535, 1028], [65535, 1028], [65535, 32896], [65535, 1028], [65535, 4112], [65535, 4112], [65535, 1028], [65535, 4112], [65535, 257], [65535, 514], [65535, 514], [65535, 2056], [65535, 2056], [65535, 16448], [65535, 2056], [65535, 1028], [65535, 257], [65535, 257], [65535, 4112], [65535, 4112], [65535, 8224], [65535, 8224], [65535, 8224], [65535, 1028], [65535, 8224], [65535, 8224], [65535, 8224], [65535, 8224], [65535, 8224], [65535, 32896], [65535, 32896], [65535, 8224], [65535, 1028], [65535, 514], [65535, 514], [65535, 514], [65535, 514], [65535, 514], [65535, 514], [65535, 1028], [65535, 1028], [65535, 257], [65535, 257], [65535, 257], [65535, 257], [65535, 257], [65535, 257], [65535, 257], [65535, 257], [65535, 2056], [65535, 2056], [65535, 4112], [65535, 16448], [65535, 8224], [65535, 32896], [65535, 32896], [65535, 2056], [65535, 2056], [65535, 8224], [65535, 514], [65535, 514], [65535, 514], [65535, 514], [65535, 514], [65535, 16448], [65535, 16448], [65535, 16448], [65535, 16448], [65535, 16448], [65535, 16448], [65535, 16448], [65535, 16448], [65535, 16448], [65535, 16448], [65535, 16448], [65535, 16448], [65535, 16448], [65535, 16448], [65535, 16448], [65535, 16448], [65535, 16448], [65535, 16448], [65535, 16448], [65535, 16448], [65535, 16448], [65535, 16448], [65535, 16448], [65535, 16448], [65535, 16448], [65535, 16448], [65535, 16448], [65535, 16448], [65535, 16448], [65535, 16448], [65535, 16448], [65535, 16448], [65535, 16448], [65535, 16448], [65535, 16448], [65535, 16448], [65535, 16448], [65535, 16448], [65535, 16448], [65535, 16448], [65535, 16448], [65535, 16448], [65535, 16448], [65535, 16448], [65535, 16448], [65535, 16448], [65535, 16448], [65535, 16448], [65535, 8224], [65535, 257], [65535, 514], [65535, 257], [65535, 2056], [65535, 2056], [65535, 2056], [65535, 2056], [65535, 32896], [65535, 257], [65535, 4112], [65535, 257], [65535, 257], [65535, 257], [65535, 32896], [65535, 32896], [65535, 1028], [65535, 32896], [65535, 514], [65535, 514], [65535, 16448], [65535, 514], [65535, 16448], [65535, 2056], [65535, 32896], [65535, 32896], [65535, 32896], [65535, 514], [65535, 1028], [65535, 4112], [65535, 32896], [65535, 257], [65535, 257], [65535, 257], [65535, 257], [65535, 257], [65535, 257], [65535, 257], [65535, 257], [65535, 257], [65535, 257], [65535, 257], [65535, 257], [65535, 257], [65535, 257], [65535, 257], [65535, 514], [65535, 257], [65535, 257], [65535, 257], [65535, 257], [65535, 514], [65535, 257], [65535, 257], [65535, 257], [65535, 257], [65535, 257], [65535, 257], [65535, 257], [65535, 1028], [65535, 1028], [65535, 1028], [65535, 1028], [65535, 1028], [65535, 1028], [65535, 1028], [65535, 1028], [65535, 1028], [65535, 1028], [65535, 1028], [65535, 1028], [65535, 16448], [65535, 16448], [65535, 16448], [65535, 16448], [65535, 16448], [65535, 16448], [65535, 16448], [65535, 16448], [65535, 16448], [65535, 16448], [65535, 16448], [65535, 4112], [65535, 4112], [65535, 4112], [65535, 4112], [65535, 4112], [65535, 4112], [65535, 4112], [65535, 4112], [65535, 4112], [65535, 4112], [65535, 4112], [65535, 4112], [65535, 4112], [65535, 4112], [65535, 4112], [65535, 4112], [65535, 4112], [65535, 4112], [65535, 4112], [65535, 4112], [65535, 4112], [65535, 4112], [65535, 4112], [65535, 4112], [65535, 4112], [65535, 4112], [65535, 4112], [65535, 4112], [65535, 4112], [65535, 4112], [65535, 4112], [65535, 4112], [65535, 4112], [65535, 4112], [65535, 4112], [65535, 4112], [65535, 4112], [65535, 4112], [65535, 4112], [65535, 4112], [65535, 4112], [65535, 1028], [65535, 1028], [65535, 16448], [65535, 514], [65535, 2056], [65535, 16448], [65535, 1028], [65535, 1028], [65535, 1028], [65535, 1028], [65535, 1028], [65535, 1028], [65535, 1028], [65535, 1028], [65535, 1028], [65535, 1028], [65535, 1028], [65535, 1028], [65535, 1028], [65535, 1028], [65535, 16448], [65535, 32896], [65535, 16448], [65535, 16448], [65535, 16448], [65535, 16448], [65535, 1028], [65535, 2056], [65535, 2056], [65535, 4112], [65535, 2056], [65535, 4112], [65535, 4112], [65535, 4112], [65535, 2056], [65535, 2056], [65535, 2056], [65535, 2056], [65535, 257], [65535, 257], [65535, 4112], [65535, 2056], [65535, 1028], [65535, 1028], [65535, 1028], [65535, 1028], [65535, 1028], [65535, 514], [65535, 8224], [65535, 514], [65535, 514], [65535, 514], [65535, 514], [65535, 514], [65535, 514], [65535, 514], [65535, 514], [65535, 514], [65535, 514], [65535, 514], [65535, 514], [65535, 514], [65535, 514], [65535, 514], [65535, 514], [65535, 514], [65535, 514], [65535, 514], [65535, 8224], [65535, 1028], [65535, 514], [65535, 32896], [65535, 32896], [65535, 32896], [65535, 32896], [65535, 32896], [65535, 32896], [65535, 32896], [65535, 32896], [65535, 32896], [65535, 2056], [65535, 4112], [65535, 16448], [65535, 32896]]\n",
      "hola\n",
      "[]\n",
      "[[65535, 16448], [65535, 16448], [65535, 16448], [65535, 16448], [65535, 16448], [65535, 16448], [65535, 16448], [65535, 16448], [65535, 16448], [65535, 16448], [65535, 16448], [65535, 16448], [65535, 8224], [65535, 8224], [65535, 8224], [65535, 16448], [65535, 8224], [65535, 8224], [65535, 2056], [65535, 1028], [65535, 4112], [65535, 16448], [65535, 16448], [65535, 257], [65535, 4112], [65535, 4112], [65535, 6168], [65535, 4112], [65535, 4112], [65535, 2056], [65535, 2056], [65535, 4112], [65535, 2056], [65535, 4112], [65535, 4112], [65535, 4112], [65535, 4112], [65535, 4112], [65535, 4112], [65535, 4112], [65535, 2056], [65535, 4112], [65535, 4112], [65535, 6168], [65535, 2056], [65535, 6682], [65535, 4626], [65535, 4112], [65535, 4112], [65535, 4112], [65535, 4112], [65535, 6168], [65535, 4112], [65535, 6168], [65535, 6168], [65535, 6168], [65535, 4112], [65535, 6168], [65535, 4112], [65535, 4112], [65535, 4112], [65535, 4112], [65535, 4112], [65535, 4112], [65535, 4112], [65535, 4112], [65535, 6168], [65535, 2056], [65535, 4112], [65535, 4112], [65535, 6168], [65535, 6168], [65535, 4112], [65535, 4112], [65535, 4112], [65535, 4112], [65535, 4112], [65535, 2056], [65535, 4112], [65535, 4112], [65535, 4112], [65535, 4112], [65535, 4112], [65535, 4112], [65535, 6168], [65535, 6168], [65535, 4626], [65535, 4112], [65535, 6168], [65535, 7196], [65535, 4112], [65535, 7196], [65535, 4112], [65535, 4112], [65535, 5140], [65535, 6168], [65535, 4112], [65535, 4112], [65535, 4112], [65535, 4112], [65535, 4112], [65535, 2056], [65535, 4112], [65535, 4112], [65535, 4112], [65535, 4112], [65535, 4112], [65535, 4112], [65535, 4112], [65535, 2056], [65535, 4112], [65535, 4112], [65535, 4112], [65535, 4112], [65535, 4112], [65535, 4112], [65535, 4112], [65535, 6168], [65535, 2056], [65535, 4112], [65535, 4112], [65535, 6168], [65535, 4112], [65535, 4112], [65535, 4112], [65535, 4112], [65535, 4112], [65535, 514], [65535, 32896], [65535, 32896], [65535, 4112], [65535, 1028], [65535, 1028], [65535, 1028], [65535, 1028], [65535, 1028], [65535, 257], [65535, 1028], [65535, 1028], [65535, 1028], [65535, 1028], [65535, 1028], [65535, 32896], [65535, 257], [65535, 257], [65535, 257], [65535, 257], [65535, 1028], [65535, 1028], [65535, 1028], [65535, 1028], [65535, 1028], [65535, 1028], [65535, 1028], [65535, 1028], [65535, 1028], [65535, 1028], [65535, 8224], [65535, 8224], [65535, 4112], [65535, 4112], [65535, 4112], [65535, 2056], [65535, 32896], [65535, 2056], [65535, 2056], [65535, 1028], [65535, 1028], [65535, 1028], [65535, 1028], [65535, 1028], [65535, 1028], [65535, 1028], [65535, 1028], [65535, 1028], [65535, 1028], [65535, 1028], [65535, 1028], [65535, 1028], [65535, 1028], [65535, 1028], [65535, 1028], [65535, 1028], [65535, 16448], [65535, 16448], [65535, 514], [65535, 8224], [65535, 32896], [65535, 1028], [65535, 16448], [65535, 4112], [65535, 16448], [65535, 8224], [65535, 8224], [65535, 8224], [65535, 8224], [65535, 8224], [65535, 8224], [65535, 8224], [65535, 8224], [65535, 8224], [65535, 8224], [65535, 8224], [65535, 9252], [65535, 8224], [65535, 8224], [65535, 8224], [65535, 8224], [65535, 9252], [65535, 8224], [65535, 8224], [65535, 8224], [65535, 8224], [65535, 8224], [65535, 8224], [65535, 8224], [65535, 8224], [65535, 8224], [65535, 8224], [65535, 8224], [65535, 8224], [65535, 8224], [65535, 8224], [65535, 8224], [65535, 8224], [65535, 8224], [65535, 8224], [65535, 8224], [65535, 8224], [65535, 8224], [65535, 8224], [65535, 8224], [65535, 8224], [65535, 8224], [65535, 8224], [65535, 8224], [65535, 8224], [65535, 8224], [65535, 8224], [65535, 8224], [65535, 8224], [65535, 8224], [65535, 8224], [65535, 8224], [65535, 8224], [65535, 8224], [65535, 8224], [65535, 8224], [65535, 8224], [65535, 8224], [65535, 8224], [65535, 8224], [65535, 8224], [65535, 8224], [65535, 8224], [65535, 8224], [65535, 8224], [65535, 8224], [65535, 8224], [65535, 8224], [65535, 8224], [65535, 8224], [65535, 8224], [65535, 8224], [65535, 8224], [65535, 514], [65535, 514], [65535, 514], [65535, 1028], [65535, 1028], [65535, 1028], [65535, 257], [65535, 2056], [65535, 2056], [65535, 8224], [65535, 257], [65535, 2056], [65535, 10537], [65535, 257], [65535, 2056], [65535, 8224], [65535, 2056], [65535, 2056], [65535, 2056], [65535, 32896], [65535, 32896], [65535, 257], [65535, 2056], [65535, 6168], [65535, 12336], [65535, 26728], [65535, 10280], [65535, 10280], [65535, 12336], [65535, 8224], [65535, 8224], [65535, 8224], [65535, 12336], [65535, 8224], [65535, 8224], [65535, 4112], [65535, 16448], [65535, 16448], [65535, 4112], [65535, 6168], [65535, 2056], [65535, 2056], [65535, 8224], [65535, 8224], [65535, 4112], [65535, 4112], [65535, 4112], [65535, 4112], [65535, 8224], [65535, 4112], [65535, 4112], [65535, 8224], [65535, 10280], [65535, 16448], [65535, 14392], [65535, 24672], [65535, 10280], [65535, 8224], [65535, 4112], [65535, 4112], [65535, 10280], [65535, 12336], [65535, 12336], [65535, 4112], [65535, 8224], [65535, 10280], [65535, 8224], [65535, 12336], [65535, 10280], [65535, 2056], [65535, 26728], [65535, 30840], [65535, 14392], [65535, 14392], [65535, 24672], [65535, 16448], [65535, 12336], [65535, 8224], [65535, 8224], [65535, 8224], [65535, 4112], [65535, 12336], [65535, 16448], [65535, 2056], [65535, 4112], [65535, 2056], [65535, 8224], [65535, 4112], [65535, 10280], [65535, 2056], [65535, 16448], [65535, 8224], [65535, 8224], [65535, 8224], [65535, 8224], [65535, 8224], [65535, 8224], [65535, 8224], [65535, 8224], [65535, 8224], [65535, 514], [65535, 514], [65535, 32896], [65535, 514], [65535, 257], [65535, 257], [65535, 1028], [65535, 8224], [65535, 4112], [65535, 16448], [65535, 514], [65535, 8224], [65535, 8224], [65535, 514], [65535, 514], [65535, 514], [65535, 514], [65535, 514], [65535, 16448], [65535, 514], [65535, 514], [65535, 514], [65535, 514], [65535, 514], [65535, 16448], [65535, 16448], [65535, 16448], [65535, 16448], [65535, 16448], [65535, 16448], [65535, 16448], [65535, 16448], [65535, 32896], [65535, 8224], [65535, 1028], [65535, 1028], [65535, 1028], [65535, 1028], [65535, 1028], [65535, 1028], [65535, 1028], [65535, 32896], [65535, 16448], [65535, 2056], [65535, 1028], [65535, 1028], [65535, 514], [65535, 8224], [65535, 16448], [65535, 8224], [65535, 257], [65535, 257], [65535, 257], [65535, 257], [65535, 257], [65535, 257], [65535, 257], [65535, 257], [65535, 2056], [65535, 2056], [65535, 2056], [65535, 1028], [65535, 32896], [65535, 32896], [65535, 32896], [65535, 32896], [65535, 32896], [65535, 16448], [65535, 16448], [65535, 4112], [65535, 16448], [65535, 2056], [65535, 16448], [65535, 16448], [65535, 1028], [65535, 514], [65535, 514], [65535, 514], [65535, 514], [65535, 514], [65535, 514], [65535, 514], [65535, 514], [65535, 514], [65535, 514], [65535, 514], [65535, 514], [65535, 514], [65535, 514], [65535, 514], [65535, 514], [65535, 514], [65535, 514], [65535, 514], [65535, 32896], [65535, 32896], [65535, 32896], [65535, 8224], [65535, 8224], [65535, 32896], [65535, 1028], [65535, 1028], [65535, 1028], [65535, 1028], [65535, 1028], [65535, 1028], [65535, 1028], [65535, 1028], [65535, 1028], [65535, 1028], [65535, 1028], [65535, 1028], [65535, 257], [65535, 16448], [65535, 1028], [65535, 1028], [65535, 1028], [65535, 1028], [65535, 1028], [65535, 1028], [65535, 1028], [65535, 1028], [65535, 1028], [65535, 4112], [65535, 4112], [65535, 257], [65535, 257], [65535, 257], [65535, 514], [65535, 514], [65535, 514], [65535, 257], [65535, 257], [65535, 8224], [65535, 8224], [65535, 1028], [65535, 1028], [65535, 2056], [65535, 8224], [65535, 32896], [65535, 32896], [65535, 32896], [65535, 2056], [65535, 32896], [65535, 32896], [65535, 16448], [65535, 16448], [65535, 16448], [65535, 16448], [65535, 16448], [65535, 16448], [65535, 16448], [65535, 16448], [65535, 16448], [65535, 16448], [65535, 16448], [65535, 16448], [65535, 16448], [65535, 16448], [65535, 16448], [65535, 16448], [65535, 514], [65535, 32896], [65535, 32896], [65535, 32896], [65535, 4112], [65535, 257], [65535, 16448], [65535, 16448], [65535, 16448], [65535, 16448], [65535, 16448], [65535, 16448], [65535, 16448], [65535, 16448], [65535, 16448], [65535, 16448], [65535, 16448], [65535, 16448], [65535, 16448], [65535, 16448], [65535, 16448], [65535, 16448], [65535, 16448], [65535, 16448], [65535, 16448], [65535, 16448], [65535, 16448], [65535, 16448], [65535, 16448], [65535, 16448], [65535, 1028], [65535, 1028], [65535, 257], [65535, 2056], [65535, 2056], [65535, 2056], [65535, 2056], [65535, 4112], [65535, 4112], [65535, 4112], [65535, 4626], [65535, 4112], [65535, 4112], [65535, 8224], [65535, 8224], [65535, 8224], [65535, 32896], [65535, 32896], [65535, 32896], [65535, 32896], [65535, 32896], [65535, 32896], [65535, 32896], [65535, 32896], [65535, 32896], [65535, 4112], [65535, 32896], [65535, 32896], [65535, 32896], [65535, 32896], [65535, 32896], [65535, 32896], [65535, 32896], [65535, 32896], [65535, 32896], [65535, 32896], [65535, 32896], [65535, 32896], [65535, 32896], [65535, 32896], [65535, 32896], [65535, 32896], [65535, 32896], [65535, 32896], [65535, 32896], [65535, 32896], [65535, 32896], [65535, 32896], [65535, 32896], [65535, 32896], [65535, 32896], [65535, 32896], [65535, 32896], [65535, 8224], [65535, 8224], [65535, 32896], [65535, 4112], [65535, 4112], [65535, 4112], [65535, 2056], [65535, 2056], [65535, 16448], [65535, 16448], [65535, 16448], [65535, 16448], [65535, 16448], [65535, 16448], [65535, 16448], [65535, 16448], [65535, 16448], [65535, 16448], [65535, 16448], [65535, 16448], [65535, 16448], [65535, 257], [65535, 257], [65535, 257], [65535, 257], [65535, 257], [65535, 257], [65535, 257], [65535, 257], [65535, 257], [65535, 257], [65535, 257], [65535, 257], [65535, 257], [65535, 16448], [65535, 2056], [65535, 2056], [65535, 32896], [65535, 32896], [65535, 34952], [65535, 32896], [65535, 32896], [65535, 4112], [65535, 1028], [65535, 4112], [65535, 4112], [65535, 4112], [65535, 4112], [65535, 4112], [65535, 4112], [65535, 4112], [65535, 4112], [65535, 4112], [65535, 4112], [65535, 4112], [65535, 4112], [65535, 4112], [65535, 16448], [65535, 1028], [65535, 1028], [65535, 1028], [65535, 1028], [65535, 1028], [65535, 1028], [65535, 1028], [65535, 8224], [65535, 8224], [65535, 8224], [65535, 8224], [65535, 8224], [65535, 8224], [65535, 514], [65535, 8224], [65535, 514], [65535, 8224], [65535, 8224], [65535, 8224], [65535, 8224], [65535, 8224], [65535, 8224], [65535, 8224], [65535, 8224], [65535, 8224], [65535, 8224], [65535, 8224], [65535, 8224], [65535, 8224], [65535, 514], [65535, 8224], [65535, 8224], [65535, 8224], [65535, 514], [65535, 8224], [65535, 8224], [65535, 8224], [65535, 8224], [65535, 8224], [65535, 8224], [65535, 8224], [65535, 8224], [65535, 8224], [65535, 514], [65535, 8224], [65535, 8224], [65535, 8224], [65535, 8224], [65535, 8224], [65535, 8224], [65535, 8224], [65535, 8224], [65535, 8224], [65535, 8224], [65535, 8224], [65535, 8224], [65535, 8224], [65535, 257], [65535, 257], [65535, 8224], [65535, 8224], [65535, 8224], [65535, 16448], [65535, 8224], [65535, 16448], [65535, 16448], [65535, 16448], [65535, 16448], [65535, 4112], [65535, 16448], [65535, 16448], [65535, 20560], [65535, 20560], [65535, 16448], [65535, 16448], [65535, 16448], [65535, 16448], [65535, 16448], [65535, 20560], [65535, 8224], [65535, 16448], [65535, 16448], [65535, 4112], [65535, 20560], [65535, 24672], [65535, 514], [65535, 257], [65535, 257], [65535, 257], [65535, 257], [65535, 257], [65535, 257], [65535, 257], [65535, 257], [65535, 257], [65535, 257], [65535, 257], [65535, 257], [65535, 257], [65535, 257], [65535, 257], [65535, 257], [65535, 257], [65535, 257], [65535, 257], [65535, 257], [65535, 257], [65535, 257], [65535, 257], [65535, 257], [65535, 257], [65535, 257], [65535, 257], [65535, 257], [65535, 257], [65535, 257], [65535, 257], [65535, 257], [65535, 257], [65535, 257], [65535, 257], [65535, 257], [65535, 257], [65535, 257], [65535, 257], [65535, 257], [65535, 257], [65535, 257], [65535, 257], [65535, 257], [65535, 257], [65535, 257], [65535, 257], [65535, 257], [65535, 257], [65535, 257], [65535, 257], [65535, 257], [65535, 257], [65535, 257], [65535, 257], [65535, 257], [65535, 257], [65535, 257], [65535, 257], [65535, 257], [65535, 257], [65535, 257], [65535, 257], [65535, 257], [65535, 257], [65535, 257], [65535, 257], [65535, 257], [65535, 257], [65535, 257], [65535, 257], [65535, 257], [65535, 257], [65535, 257], [65535, 257], [65535, 1028], [65535, 8224], [65535, 8224], [65535, 8224], [65535, 8224], [65535, 8224], [65535, 8224], [65535, 8224], [65535, 1028], [65535, 8224], [65535, 8224], [65535, 8224], [65535, 8224], [65535, 8224], [65535, 8224], [65535, 514], [65535, 514], [65535, 514], [65535, 16448], [65535, 8224], [65535, 1028], [65535, 8224], [65535, 8224], [65535, 8224], [65535, 8224], [65535, 8224], [65535, 8224], [65535, 8224], [65535, 8224], [65535, 8224], [65535, 8224], [65535, 8224], [65535, 8224], [65535, 8224], [65535, 8224], [65535, 8224], [65535, 8224], [65535, 8224], [65535, 257], [65535, 16448], [65535, 32896], [65535, 8224], [65535, 514], [65535, 514], [65535, 2056], [65535, 1028], [65535, 1028], [65535, 1028], [65535, 1028], [65535, 1028], [65535, 1028], [65535, 1028], [65535, 1028], [65535, 1028], [65535, 1028], [65535, 1028], [65535, 1028], [65535, 1028], [65535, 1028], [65535, 257], [65535, 257], [65535, 257], [65535, 257], [65535, 257], [65535, 257], [65535, 257], [65535, 257], [65535, 257], [65535, 257], [65535, 257], [65535, 8224], [65535, 16448], [65535, 514], [65535, 16448], [65535, 1028], [65535, 1028], [65535, 257], [65535, 257], [65535, 257], [65535, 1028], [65535, 1028], [65535, 1028], [65535, 1028], [65535, 16448], [65535, 1028], [65535, 1028], [65535, 16448], [65535, 16448], [65535, 32896], [65535, 32896], [65535, 514], [65535, 514], [65535, 514], [65535, 514], [65535, 2056], [65535, 2056], [65535, 2056], [65535, 2056], [65535, 2056], [65535, 2056], [65535, 2056], [65535, 2056], [65535, 2056], [65535, 2056], [65535, 1028], [65535, 257], [65535, 2056], [65535, 2056], [65535, 32896], [65535, 257], [65535, 257], [65535, 4112], [65535, 4112], [65535, 2056], [65535, 1028], [65535, 1028], [65535, 1028], [65535, 4112], [65535, 4112], [65535, 1028], [65535, 1028], [65535, 4112], [65535, 4112], [65535, 4112], [65535, 4112], [65535, 4112], [65535, 4112], [65535, 4112], [65535, 4112], [65535, 4112], [65535, 4112], [65535, 4112], [65535, 1028], [65535, 1028], [65535, 1028], [65535, 4112], [65535, 4112], [65535, 4112], [65535, 1028], [65535, 8224], [65535, 8224], [65535, 514], [65535, 514], [65535, 8224], [65535, 514], [65535, 8224], [65535, 2056], [65535, 514], [65535, 514], [65535, 514], [65535, 2056], [65535, 4112], [65535, 257], [65535, 16448], [65535, 16448], [65535, 16448], [65535, 16448], [65535, 16448], [65535, 16448], [65535, 8224], [65535, 16448], [65535, 16448], [65535, 514], [65535, 16448], [65535, 16448], [65535, 24672], [65535, 16448], [65535, 16448], [65535, 8224], [65535, 8224], [65535, 2056], [65535, 2056], [65535, 1028], [65535, 1028], [65535, 1028], [65535, 1028], [65535, 1028], [65535, 1028], [65535, 1028], [65535, 1028], [65535, 1028], [65535, 1028], [65535, 1028], [65535, 1028], [65535, 1028], [65535, 1028], [65535, 1028], [65535, 1028], [65535, 1028], [65535, 1028], [65535, 1028], [65535, 1028], [65535, 1028], [65535, 1028], [65535, 1028], [65535, 16448], [65535, 16448], [65535, 16448], [65535, 8224], [65535, 8224], [65535, 8224], [65535, 8224], [65535, 8224], [65535, 8224], [65535, 8224], [65535, 1028], [65535, 1028], [65535, 1028], [65535, 1028], [65535, 1028], [65535, 1028], [65535, 1028], [65535, 1028], [65535, 1028], [65535, 1028], [65535, 1028], [65535, 1028], [65535, 1028], [65535, 1028], [65535, 16448], [65535, 16705], [65535, 1028], [65535, 257], [65535, 16705], [65535, 257], [65535, 16448], [65535, 257], [65535, 257], [65535, 16448], [65535, 16448], [65535, 16448], [65535, 257], [65535, 257], [65535, 16448], [65535, 16448], [65535, 257], [65535, 16448], [65535, 16448], [65535, 257], [65535, 257], [65535, 16448], [65535, 257], [65535, 257], [65535, 16448], [65535, 1028], [65535, 16705], [65535, 16448], [65535, 16705], [65535, 16448], [65535, 16705], [65535, 257], [65535, 16448], [65535, 16448], [65535, 16448], [65535, 257], [65535, 257], [65535, 16448], [65535, 16448], [65535, 257], [65535, 16448], [65535, 16705], [65535, 16705], [65535, 16448], [65535, 16448], [65535, 16448], [65535, 16448], [65535, 1028], [65535, 16448], [65535, 1028], [65535, 257], [65535, 257], [65535, 4112], [65535, 4112], [65535, 4112], [65535, 4112], [65535, 4112], [65535, 4112], [65535, 4112], [65535, 4112], [65535, 4112], [65535, 4112], [65535, 4112], [65535, 4112], [65535, 4112], [65535, 4112], [65535, 4112], [65535, 8224], [65535, 8224], [65535, 257], [65535, 257], [65535, 257], [65535, 257], [65535, 257], [65535, 33153], [65535, 257], [65535, 257], [65535, 257], [65535, 33153], [65535, 32896], [65535, 257], [65535, 257], [65535, 257], [65535, 257], [65535, 257], [65535, 257], [65535, 257], [65535, 257], [65535, 257], [65535, 257], [65535, 257], [65535, 257], [65535, 257], [65535, 257], [65535, 257], [65535, 32896], [65535, 257], [65535, 257], [65535, 257], [65535, 2056], [65535, 2056], [65535, 2056], [65535, 2056], [65535, 2056], [65535, 2056], [65535, 2056], [65535, 2056], [65535, 2056], [65535, 2056], [65535, 32896], [65535, 32896], [65535, 32896], [65535, 32896], [65535, 32896], [65535, 32896], [65535, 32896], [65535, 32896], [65535, 32896], [65535, 32896], [65535, 32896], [65535, 32896], [65535, 32896], [65535, 32896], [65535, 32896], [65535, 32896], [65535, 32896], [65535, 32896], [65535, 32896], [65535, 32896], [65535, 32896], [65535, 32896], [65535, 4112], [65535, 4112], [65535, 4112], [65535, 4112], [65535, 4112], [65535, 2056], [65535, 4112], [65535, 8224], [65535, 8224], [65535, 32896], [65535, 8224], [65535, 4112], [65535, 4112], [65535, 16448], [65535, 8224], [65535, 8224], [65535, 8224], [65535, 8224], [65535, 8224], [65535, 8224], [65535, 8224], [65535, 8224], [65535, 8224], [65535, 8224], [65535, 4112], [65535, 4112], [65535, 4112], [65535, 4112], [65535, 4112], [65535, 4112], [65535, 4112], [65535, 4112], [65535, 4112], [65535, 4112], [65535, 4112], [65535, 4112], [65535, 4112], [65535, 4112], [65535, 1028], [65535, 4626], [65535, 514], [65535, 1028], [65535, 1028], [65535, 4112], [65535, 4112], [65535, 4112], [65535, 16448], [65535, 16448], [65535, 257], [65535, 514], [65535, 514], [65535, 514], [65535, 514], [65535, 514], [65535, 514], [65535, 514], [65535, 514], [65535, 514], [65535, 514], [65535, 514], [65535, 514], [65535, 514], [65535, 514], [65535, 2056], [65535, 4112], [65535, 32896], [65535, 514], [65535, 514], [65535, 514], [65535, 8224], [65535, 8224], [65535, 8224], [65535, 8224], [65535, 8224], [65535, 8224], [65535, 8224], [65535, 257], [65535, 2056], [65535, 2056], [65535, 2056], [65535, 2056], [65535, 2056], [65535, 1028], [65535, 2056], [65535, 2056], [65535, 2056], [65535, 2056], [65535, 2056], [65535, 2056], [65535, 2056], [65535, 2056], [65535, 2056], [65535, 2056], [65535, 2056], [65535, 2056], [65535, 2056], [65535, 2056], [65535, 2056], [65535, 2056], [65535, 8224], [65535, 4112], [65535, 4112], [65535, 1028], [65535, 1028], [65535, 32896], [65535, 1028], [65535, 4112], [65535, 4112], [65535, 1028], [65535, 4112], [65535, 257], [65535, 514], [65535, 514], [65535, 2056], [65535, 2056], [65535, 16448], [65535, 2056], [65535, 1028], [65535, 257], [65535, 257], [65535, 4112], [65535, 4112], [65535, 8224], [65535, 8224], [65535, 8224], [65535, 1028], [65535, 8224], [65535, 8224], [65535, 8224], [65535, 8224], [65535, 8224], [65535, 32896], [65535, 32896], [65535, 8224], [65535, 1028], [65535, 514], [65535, 514], [65535, 514], [65535, 514], [65535, 514], [65535, 514], [65535, 1028], [65535, 1028], [65535, 257], [65535, 257], [65535, 257], [65535, 257], [65535, 257], [65535, 257], [65535, 257], [65535, 257], [65535, 2056], [65535, 2056], [65535, 4112], [65535, 16448], [65535, 8224], [65535, 32896], [65535, 32896], [65535, 2056], [65535, 2056], [65535, 8224], [65535, 514], [65535, 514], [65535, 514], [65535, 514], [65535, 514], [65535, 16448], [65535, 16448], [65535, 16448], [65535, 16448], [65535, 16448], [65535, 16448], [65535, 16448], [65535, 16448], [65535, 16448], [65535, 16448], [65535, 16448], [65535, 16448], [65535, 16448], [65535, 16448], [65535, 16448], [65535, 16448], [65535, 16448], [65535, 16448], [65535, 16448], [65535, 16448], [65535, 16448], [65535, 16448], [65535, 16448], [65535, 16448], [65535, 16448], [65535, 16448], [65535, 16448], [65535, 16448], [65535, 16448], [65535, 16448], [65535, 16448], [65535, 16448], [65535, 16448], [65535, 16448], [65535, 16448], [65535, 16448], [65535, 16448], [65535, 16448], [65535, 16448], [65535, 16448], [65535, 16448], [65535, 16448], [65535, 16448], [65535, 16448], [65535, 16448], [65535, 16448], [65535, 16448], [65535, 16448], [65535, 8224], [65535, 257], [65535, 514], [65535, 257], [65535, 2056], [65535, 2056], [65535, 2056], [65535, 2056], [65535, 32896], [65535, 257], [65535, 4112], [65535, 257], [65535, 257], [65535, 257], [65535, 32896], [65535, 32896], [65535, 1028], [65535, 32896], [65535, 514], [65535, 514], [65535, 16448], [65535, 514], [65535, 16448], [65535, 2056], [65535, 32896], [65535, 32896], [65535, 32896], [65535, 514], [65535, 1028], [65535, 4112], [65535, 32896], [65535, 257], [65535, 257], [65535, 257], [65535, 257], [65535, 257], [65535, 257], [65535, 257], [65535, 257], [65535, 257], [65535, 257], [65535, 257], [65535, 257], [65535, 257], [65535, 257], [65535, 257], [65535, 514], [65535, 257], [65535, 257], [65535, 257], [65535, 257], [65535, 514], [65535, 257], [65535, 257], [65535, 257], [65535, 257], [65535, 257], [65535, 257], [65535, 257], [65535, 1028], [65535, 1028], [65535, 1028], [65535, 1028], [65535, 1028], [65535, 1028], [65535, 1028], [65535, 1028], [65535, 1028], [65535, 1028], [65535, 1028], [65535, 1028], [65535, 16448], [65535, 16448], [65535, 16448], [65535, 16448], [65535, 16448], [65535, 16448], [65535, 16448], [65535, 16448], [65535, 16448], [65535, 16448], [65535, 16448], [65535, 4112], [65535, 4112], [65535, 4112], [65535, 4112], [65535, 4112], [65535, 4112], [65535, 4112], [65535, 4112], [65535, 4112], [65535, 4112], [65535, 4112], [65535, 4112], [65535, 4112], [65535, 4112], [65535, 4112], [65535, 4112], [65535, 4112], [65535, 4112], [65535, 4112], [65535, 4112], [65535, 4112], [65535, 4112], [65535, 4112], [65535, 4112], [65535, 4112], [65535, 4112], [65535, 4112], [65535, 4112], [65535, 4112], [65535, 4112], [65535, 4112], [65535, 4112], [65535, 4112], [65535, 4112], [65535, 4112], [65535, 4112], [65535, 4112], [65535, 4112], [65535, 4112], [65535, 4112], [65535, 4112], [65535, 1028], [65535, 1028], [65535, 16448], [65535, 514], [65535, 2056], [65535, 16448], [65535, 1028], [65535, 1028], [65535, 1028], [65535, 1028], [65535, 1028], [65535, 1028], [65535, 1028], [65535, 1028], [65535, 1028], [65535, 1028], [65535, 1028], [65535, 1028], [65535, 1028], [65535, 1028], [65535, 16448], [65535, 32896], [65535, 16448], [65535, 16448], [65535, 16448], [65535, 16448], [65535, 1028], [65535, 2056], [65535, 2056], [65535, 4112], [65535, 2056], [65535, 4112], [65535, 4112], [65535, 4112], [65535, 2056], [65535, 2056], [65535, 2056], [65535, 2056], [65535, 257], [65535, 257], [65535, 4112], [65535, 2056], [65535, 1028], [65535, 1028], [65535, 1028], [65535, 1028], [65535, 1028], [65535, 514], [65535, 8224], [65535, 514], [65535, 514], [65535, 514], [65535, 514], [65535, 514], [65535, 514], [65535, 514], [65535, 514], [65535, 514], [65535, 514], [65535, 514], [65535, 514], [65535, 514], [65535, 514], [65535, 514], [65535, 514], [65535, 514], [65535, 514], [65535, 514], [65535, 8224], [65535, 1028], [65535, 514], [65535, 32896], [65535, 32896], [65535, 32896], [65535, 32896], [65535, 32896], [65535, 32896], [65535, 32896], [65535, 32896], [65535, 32896], [65535, 2056], [65535, 4112], [65535, 16448], [65535, 32896]]\n",
      "hola\n",
      "[]\n",
      "[[65535, 16448], [65535, 16448], [65535, 16448], [65535, 16448], [65535, 16448], [65535, 16448], [65535, 16448], [65535, 16448], [65535, 16448], [65535, 16448], [65535, 16448], [65535, 16448], [65535, 8224], [65535, 8224], [65535, 8224], [65535, 16448]]\n"
     ]
    },
    {
     "ename": "InvalidArgumentError",
     "evalue": "indices[15] = [7, 238] does not index into param shape [4096,8], node name: GatherNd [Op:GatherNd]",
     "output_type": "error",
     "traceback": [
      "\u001b[1;31m---------------------------------------------------------------------------\u001b[0m",
      "\u001b[1;31mInvalidArgumentError\u001b[0m                      Traceback (most recent call last)",
      "\u001b[1;32m<ipython-input-28-e2c36840967c>\u001b[0m in \u001b[0;36m<module>\u001b[1;34m\u001b[0m\n\u001b[0;32m     53\u001b[0m     \u001b[1;32mdel\u001b[0m \u001b[0maddress_with_errors\u001b[0m\u001b[1;33m\u001b[0m\u001b[1;33m\u001b[0m\u001b[0m\n\u001b[0;32m     54\u001b[0m \u001b[1;33m\u001b[0m\u001b[0m\n\u001b[1;32m---> 55\u001b[1;33m     loss,acc   = CheckAccuracyAndLoss('AlexNet', test_dataset, wgt_dir, output_shape=8, input_shape = (227,227,3),\n\u001b[0m\u001b[0;32m     56\u001b[0m                                             \u001b[0mact_frac_size\u001b[0m \u001b[1;33m=\u001b[0m \u001b[1;36m11\u001b[0m\u001b[1;33m,\u001b[0m \u001b[0mact_int_size\u001b[0m \u001b[1;33m=\u001b[0m \u001b[1;36m4\u001b[0m\u001b[1;33m,\u001b[0m \u001b[0mwgt_frac_size\u001b[0m \u001b[1;33m=\u001b[0m \u001b[1;36m11\u001b[0m\u001b[1;33m,\u001b[0m \u001b[0mwgt_int_size\u001b[0m \u001b[1;33m=\u001b[0m \u001b[1;36m4\u001b[0m\u001b[1;33m,\u001b[0m\u001b[1;33m\u001b[0m\u001b[1;33m\u001b[0m\u001b[0m\n\u001b[0;32m     57\u001b[0m                                             \u001b[0mbatch_size\u001b[0m\u001b[1;33m=\u001b[0m\u001b[0mtestBatchSize\u001b[0m\u001b[1;33m,\u001b[0m \u001b[0mverbose\u001b[0m \u001b[1;33m=\u001b[0m \u001b[1;36m0\u001b[0m\u001b[1;33m,\u001b[0m \u001b[0maging_active\u001b[0m \u001b[1;33m=\u001b[0m \u001b[1;32mFalse\u001b[0m\u001b[1;33m,\u001b[0m \u001b[0mweights_faults\u001b[0m \u001b[1;33m=\u001b[0m \u001b[1;32mTrue\u001b[0m\u001b[1;33m,\u001b[0m\u001b[1;33m\u001b[0m\u001b[1;33m\u001b[0m\u001b[0m\n",
      "\u001b[1;32m~\\Desktop\\CNN_Gating\\Stats.py\u001b[0m in \u001b[0;36mCheckAccuracyAndLoss\u001b[1;34m(architecture, test_dataset, wgt_dir, act_frac_size, act_int_size, wgt_frac_size, wgt_int_size, input_shape, output_shape, faulty_addresses, masked_faults, aging_active, batch_size, verbose, weights_faults)\u001b[0m\n\u001b[0;32m    115\u001b[0m                         \u001b[0mpositionList\u001b[0m\u001b[1;33m,\u001b[0m\u001b[0mfaultList\u001b[0m\u001b[1;33m,\u001b[0m\u001b[0mNumberOfFaults\u001b[0m \u001b[1;33m=\u001b[0m \u001b[0mGenerateFaultsList\u001b[0m\u001b[1;33m(\u001b[0m\u001b[0mshape\u001b[0m\u001b[1;33m=\u001b[0m\u001b[0mitm\u001b[0m\u001b[1;33m.\u001b[0m\u001b[0mshape\u001b[0m\u001b[1;33m,\u001b[0m\u001b[0mlocs\u001b[0m\u001b[1;33m=\u001b[0m\u001b[0mfaulty_addresses\u001b[0m\u001b[1;33m,\u001b[0m\u001b[0merror_mask\u001b[0m\u001b[1;33m=\u001b[0m\u001b[0mmasked_faults\u001b[0m\u001b[1;33m)\u001b[0m\u001b[1;33m\u001b[0m\u001b[1;33m\u001b[0m\u001b[0m\n\u001b[0;32m    116\u001b[0m                         \u001b[1;32mif\u001b[0m \u001b[0mNumberOfFaults\u001b[0m \u001b[1;33m>\u001b[0m \u001b[1;36m0\u001b[0m\u001b[1;33m:\u001b[0m\u001b[1;33m\u001b[0m\u001b[1;33m\u001b[0m\u001b[0m\n\u001b[1;32m--> 117\u001b[1;33m                                 \u001b[0mweights\u001b[0m\u001b[1;33m[\u001b[0m\u001b[0mindex\u001b[0m\u001b[1;33m]\u001b[0m \u001b[1;33m=\u001b[0m \u001b[0mIntroduceFaultsInWeights\u001b[0m\u001b[1;33m(\u001b[0m\u001b[0mitm\u001b[0m\u001b[1;33m,\u001b[0m\u001b[0mpositionList\u001b[0m\u001b[1;33m,\u001b[0m\u001b[0mfaultList\u001b[0m\u001b[1;33m,\u001b[0m\u001b[0mwgt_int_size\u001b[0m\u001b[1;33m,\u001b[0m\u001b[0mwgt_frac_size\u001b[0m\u001b[1;33m)\u001b[0m\u001b[1;33m\u001b[0m\u001b[1;33m\u001b[0m\u001b[0m\n\u001b[0m\u001b[0;32m    118\u001b[0m                 \u001b[0mqNet\u001b[0m\u001b[1;33m.\u001b[0m\u001b[0mset_weights\u001b[0m\u001b[1;33m(\u001b[0m\u001b[0mweights\u001b[0m\u001b[1;33m)\u001b[0m\u001b[1;33m\u001b[0m\u001b[1;33m\u001b[0m\u001b[0m\n\u001b[0;32m    119\u001b[0m         \u001b[1;31m# Params\u001b[0m\u001b[1;33m\u001b[0m\u001b[1;33m\u001b[0m\u001b[1;33m\u001b[0m\u001b[0m\n",
      "\u001b[1;32m~\\Desktop\\CNN_Gating\\Stats.py\u001b[0m in \u001b[0;36mIntroduceFaultsInWeights\u001b[1;34m(tensor, positionList, faultList, intSize, fractSize)\u001b[0m\n\u001b[0;32m     61\u001b[0m                 \u001b[0mtensor\u001b[0m  \u001b[1;33m=\u001b[0m \u001b[0mtf\u001b[0m\u001b[1;33m.\u001b[0m\u001b[0mcast\u001b[0m\u001b[1;33m(\u001b[0m\u001b[0mtensor\u001b[0m\u001b[1;33m/\u001b[0m\u001b[0mfactor\u001b[0m\u001b[1;33m,\u001b[0m\u001b[0mdtype\u001b[0m \u001b[1;33m=\u001b[0m \u001b[0mOgdtype\u001b[0m\u001b[1;33m)\u001b[0m\u001b[1;33m\u001b[0m\u001b[1;33m\u001b[0m\u001b[0m\n\u001b[0;32m     62\u001b[0m                 \u001b[1;32mreturn\u001b[0m \u001b[0mtensor\u001b[0m\u001b[1;33m\u001b[0m\u001b[1;33m\u001b[0m\u001b[0m\n\u001b[1;32m---> 63\u001b[1;33m         \u001b[0maffectedValues\u001b[0m \u001b[1;33m=\u001b[0m \u001b[0mtf\u001b[0m\u001b[1;33m.\u001b[0m\u001b[0mgather_nd\u001b[0m\u001b[1;33m(\u001b[0m\u001b[0mtensor\u001b[0m\u001b[1;33m,\u001b[0m\u001b[0mpositionList\u001b[0m\u001b[1;33m)\u001b[0m\u001b[1;33m\u001b[0m\u001b[1;33m\u001b[0m\u001b[0m\n\u001b[0m\u001b[0;32m     64\u001b[0m         \u001b[0mnewValues\u001b[0m \u001b[1;33m=\u001b[0m \u001b[0mApplyFault\u001b[0m\u001b[1;33m(\u001b[0m\u001b[0maffectedValues\u001b[0m\u001b[1;33m,\u001b[0m\u001b[0mfaultList\u001b[0m\u001b[1;33m)\u001b[0m\u001b[1;33m\u001b[0m\u001b[1;33m\u001b[0m\u001b[0m\n\u001b[0;32m     65\u001b[0m         \u001b[0mtensor\u001b[0m \u001b[1;33m=\u001b[0m \u001b[0mtf\u001b[0m\u001b[1;33m.\u001b[0m\u001b[0mtensor_scatter_nd_update\u001b[0m\u001b[1;33m(\u001b[0m\u001b[0mtensor\u001b[0m\u001b[1;33m,\u001b[0m \u001b[0mpositionList\u001b[0m\u001b[1;33m,\u001b[0m \u001b[0mnewValues\u001b[0m\u001b[1;33m)\u001b[0m\u001b[1;33m\u001b[0m\u001b[1;33m\u001b[0m\u001b[0m\n",
      "\u001b[1;32m~\\anaconda3\\envs\\env_first\\lib\\site-packages\\tensorflow\\python\\util\\dispatch.py\u001b[0m in \u001b[0;36mwrapper\u001b[1;34m(*args, **kwargs)\u001b[0m\n\u001b[0;32m    204\u001b[0m     \u001b[1;34m\"\"\"Call target, and fall back on dispatchers if there is a TypeError.\"\"\"\u001b[0m\u001b[1;33m\u001b[0m\u001b[1;33m\u001b[0m\u001b[0m\n\u001b[0;32m    205\u001b[0m     \u001b[1;32mtry\u001b[0m\u001b[1;33m:\u001b[0m\u001b[1;33m\u001b[0m\u001b[1;33m\u001b[0m\u001b[0m\n\u001b[1;32m--> 206\u001b[1;33m       \u001b[1;32mreturn\u001b[0m \u001b[0mtarget\u001b[0m\u001b[1;33m(\u001b[0m\u001b[1;33m*\u001b[0m\u001b[0margs\u001b[0m\u001b[1;33m,\u001b[0m \u001b[1;33m**\u001b[0m\u001b[0mkwargs\u001b[0m\u001b[1;33m)\u001b[0m\u001b[1;33m\u001b[0m\u001b[1;33m\u001b[0m\u001b[0m\n\u001b[0m\u001b[0;32m    207\u001b[0m     \u001b[1;32mexcept\u001b[0m \u001b[1;33m(\u001b[0m\u001b[0mTypeError\u001b[0m\u001b[1;33m,\u001b[0m \u001b[0mValueError\u001b[0m\u001b[1;33m)\u001b[0m\u001b[1;33m:\u001b[0m\u001b[1;33m\u001b[0m\u001b[1;33m\u001b[0m\u001b[0m\n\u001b[0;32m    208\u001b[0m       \u001b[1;31m# Note: convert_to_eager_tensor currently raises a ValueError, not a\u001b[0m\u001b[1;33m\u001b[0m\u001b[1;33m\u001b[0m\u001b[1;33m\u001b[0m\u001b[0m\n",
      "\u001b[1;32m~\\anaconda3\\envs\\env_first\\lib\\site-packages\\tensorflow\\python\\ops\\array_ops.py\u001b[0m in \u001b[0;36mgather_nd_v2\u001b[1;34m(params, indices, batch_dims, name)\u001b[0m\n\u001b[0;32m   5358\u001b[0m \u001b[1;33m@\u001b[0m\u001b[0mdispatch\u001b[0m\u001b[1;33m.\u001b[0m\u001b[0madd_dispatch_support\u001b[0m\u001b[1;33m\u001b[0m\u001b[1;33m\u001b[0m\u001b[0m\n\u001b[0;32m   5359\u001b[0m \u001b[1;32mdef\u001b[0m \u001b[0mgather_nd_v2\u001b[0m\u001b[1;33m(\u001b[0m\u001b[0mparams\u001b[0m\u001b[1;33m,\u001b[0m \u001b[0mindices\u001b[0m\u001b[1;33m,\u001b[0m \u001b[0mbatch_dims\u001b[0m\u001b[1;33m=\u001b[0m\u001b[1;36m0\u001b[0m\u001b[1;33m,\u001b[0m \u001b[0mname\u001b[0m\u001b[1;33m=\u001b[0m\u001b[1;32mNone\u001b[0m\u001b[1;33m)\u001b[0m\u001b[1;33m:\u001b[0m\u001b[1;33m\u001b[0m\u001b[1;33m\u001b[0m\u001b[0m\n\u001b[1;32m-> 5360\u001b[1;33m   \u001b[1;32mreturn\u001b[0m \u001b[0mgather_nd\u001b[0m\u001b[1;33m(\u001b[0m\u001b[0mparams\u001b[0m\u001b[1;33m,\u001b[0m \u001b[0mindices\u001b[0m\u001b[1;33m,\u001b[0m \u001b[0mname\u001b[0m\u001b[1;33m=\u001b[0m\u001b[0mname\u001b[0m\u001b[1;33m,\u001b[0m \u001b[0mbatch_dims\u001b[0m\u001b[1;33m=\u001b[0m\u001b[0mbatch_dims\u001b[0m\u001b[1;33m)\u001b[0m\u001b[1;33m\u001b[0m\u001b[1;33m\u001b[0m\u001b[0m\n\u001b[0m\u001b[0;32m   5361\u001b[0m \u001b[1;33m\u001b[0m\u001b[0m\n\u001b[0;32m   5362\u001b[0m \u001b[1;33m\u001b[0m\u001b[0m\n",
      "\u001b[1;32m~\\anaconda3\\envs\\env_first\\lib\\site-packages\\tensorflow\\python\\util\\dispatch.py\u001b[0m in \u001b[0;36mwrapper\u001b[1;34m(*args, **kwargs)\u001b[0m\n\u001b[0;32m    204\u001b[0m     \u001b[1;34m\"\"\"Call target, and fall back on dispatchers if there is a TypeError.\"\"\"\u001b[0m\u001b[1;33m\u001b[0m\u001b[1;33m\u001b[0m\u001b[0m\n\u001b[0;32m    205\u001b[0m     \u001b[1;32mtry\u001b[0m\u001b[1;33m:\u001b[0m\u001b[1;33m\u001b[0m\u001b[1;33m\u001b[0m\u001b[0m\n\u001b[1;32m--> 206\u001b[1;33m       \u001b[1;32mreturn\u001b[0m \u001b[0mtarget\u001b[0m\u001b[1;33m(\u001b[0m\u001b[1;33m*\u001b[0m\u001b[0margs\u001b[0m\u001b[1;33m,\u001b[0m \u001b[1;33m**\u001b[0m\u001b[0mkwargs\u001b[0m\u001b[1;33m)\u001b[0m\u001b[1;33m\u001b[0m\u001b[1;33m\u001b[0m\u001b[0m\n\u001b[0m\u001b[0;32m    207\u001b[0m     \u001b[1;32mexcept\u001b[0m \u001b[1;33m(\u001b[0m\u001b[0mTypeError\u001b[0m\u001b[1;33m,\u001b[0m \u001b[0mValueError\u001b[0m\u001b[1;33m)\u001b[0m\u001b[1;33m:\u001b[0m\u001b[1;33m\u001b[0m\u001b[1;33m\u001b[0m\u001b[0m\n\u001b[0;32m    208\u001b[0m       \u001b[1;31m# Note: convert_to_eager_tensor currently raises a ValueError, not a\u001b[0m\u001b[1;33m\u001b[0m\u001b[1;33m\u001b[0m\u001b[1;33m\u001b[0m\u001b[0m\n",
      "\u001b[1;32m~\\anaconda3\\envs\\env_first\\lib\\site-packages\\tensorflow\\python\\ops\\array_ops.py\u001b[0m in \u001b[0;36mgather_nd\u001b[1;34m(params, indices, name, batch_dims)\u001b[0m\n\u001b[0;32m   5350\u001b[0m       \u001b[1;32mreturn\u001b[0m \u001b[0mparams\u001b[0m\u001b[1;33m.\u001b[0m\u001b[0mgather_nd\u001b[0m\u001b[1;33m(\u001b[0m\u001b[0mindices\u001b[0m\u001b[1;33m,\u001b[0m \u001b[0mname\u001b[0m\u001b[1;33m=\u001b[0m\u001b[0mname\u001b[0m\u001b[1;33m)\u001b[0m\u001b[1;33m\u001b[0m\u001b[1;33m\u001b[0m\u001b[0m\n\u001b[0;32m   5351\u001b[0m     \u001b[1;32mexcept\u001b[0m \u001b[0mAttributeError\u001b[0m\u001b[1;33m:\u001b[0m\u001b[1;33m\u001b[0m\u001b[1;33m\u001b[0m\u001b[0m\n\u001b[1;32m-> 5352\u001b[1;33m       \u001b[1;32mreturn\u001b[0m \u001b[0mgen_array_ops\u001b[0m\u001b[1;33m.\u001b[0m\u001b[0mgather_nd\u001b[0m\u001b[1;33m(\u001b[0m\u001b[0mparams\u001b[0m\u001b[1;33m,\u001b[0m \u001b[0mindices\u001b[0m\u001b[1;33m,\u001b[0m \u001b[0mname\u001b[0m\u001b[1;33m=\u001b[0m\u001b[0mname\u001b[0m\u001b[1;33m)\u001b[0m\u001b[1;33m\u001b[0m\u001b[1;33m\u001b[0m\u001b[0m\n\u001b[0m\u001b[0;32m   5353\u001b[0m   \u001b[1;32melse\u001b[0m\u001b[1;33m:\u001b[0m\u001b[1;33m\u001b[0m\u001b[1;33m\u001b[0m\u001b[0m\n\u001b[0;32m   5354\u001b[0m     \u001b[1;32mreturn\u001b[0m \u001b[0mbatch_gather_nd\u001b[0m\u001b[1;33m(\u001b[0m\u001b[0mparams\u001b[0m\u001b[1;33m,\u001b[0m \u001b[0mindices\u001b[0m\u001b[1;33m,\u001b[0m \u001b[0mbatch_dims\u001b[0m\u001b[1;33m=\u001b[0m\u001b[0mbatch_dims\u001b[0m\u001b[1;33m,\u001b[0m \u001b[0mname\u001b[0m\u001b[1;33m=\u001b[0m\u001b[0mname\u001b[0m\u001b[1;33m)\u001b[0m\u001b[1;33m\u001b[0m\u001b[1;33m\u001b[0m\u001b[0m\n",
      "\u001b[1;32m~\\anaconda3\\envs\\env_first\\lib\\site-packages\\tensorflow\\python\\ops\\gen_array_ops.py\u001b[0m in \u001b[0;36mgather_nd\u001b[1;34m(params, indices, name)\u001b[0m\n\u001b[0;32m   3712\u001b[0m       \u001b[1;32mreturn\u001b[0m \u001b[0m_result\u001b[0m\u001b[1;33m\u001b[0m\u001b[1;33m\u001b[0m\u001b[0m\n\u001b[0;32m   3713\u001b[0m     \u001b[1;32mexcept\u001b[0m \u001b[0m_core\u001b[0m\u001b[1;33m.\u001b[0m\u001b[0m_NotOkStatusException\u001b[0m \u001b[1;32mas\u001b[0m \u001b[0me\u001b[0m\u001b[1;33m:\u001b[0m\u001b[1;33m\u001b[0m\u001b[1;33m\u001b[0m\u001b[0m\n\u001b[1;32m-> 3714\u001b[1;33m       \u001b[0m_ops\u001b[0m\u001b[1;33m.\u001b[0m\u001b[0mraise_from_not_ok_status\u001b[0m\u001b[1;33m(\u001b[0m\u001b[0me\u001b[0m\u001b[1;33m,\u001b[0m \u001b[0mname\u001b[0m\u001b[1;33m)\u001b[0m\u001b[1;33m\u001b[0m\u001b[1;33m\u001b[0m\u001b[0m\n\u001b[0m\u001b[0;32m   3715\u001b[0m     \u001b[1;32mexcept\u001b[0m \u001b[0m_core\u001b[0m\u001b[1;33m.\u001b[0m\u001b[0m_FallbackException\u001b[0m\u001b[1;33m:\u001b[0m\u001b[1;33m\u001b[0m\u001b[1;33m\u001b[0m\u001b[0m\n\u001b[0;32m   3716\u001b[0m       \u001b[1;32mpass\u001b[0m\u001b[1;33m\u001b[0m\u001b[1;33m\u001b[0m\u001b[0m\n",
      "\u001b[1;32m~\\anaconda3\\envs\\env_first\\lib\\site-packages\\tensorflow\\python\\framework\\ops.py\u001b[0m in \u001b[0;36mraise_from_not_ok_status\u001b[1;34m(e, name)\u001b[0m\n\u001b[0;32m   6895\u001b[0m   \u001b[0mmessage\u001b[0m \u001b[1;33m=\u001b[0m \u001b[0me\u001b[0m\u001b[1;33m.\u001b[0m\u001b[0mmessage\u001b[0m \u001b[1;33m+\u001b[0m \u001b[1;33m(\u001b[0m\u001b[1;34m\" name: \"\u001b[0m \u001b[1;33m+\u001b[0m \u001b[0mname\u001b[0m \u001b[1;32mif\u001b[0m \u001b[0mname\u001b[0m \u001b[1;32mis\u001b[0m \u001b[1;32mnot\u001b[0m \u001b[1;32mNone\u001b[0m \u001b[1;32melse\u001b[0m \u001b[1;34m\"\"\u001b[0m\u001b[1;33m)\u001b[0m\u001b[1;33m\u001b[0m\u001b[1;33m\u001b[0m\u001b[0m\n\u001b[0;32m   6896\u001b[0m   \u001b[1;31m# pylint: disable=protected-access\u001b[0m\u001b[1;33m\u001b[0m\u001b[1;33m\u001b[0m\u001b[1;33m\u001b[0m\u001b[0m\n\u001b[1;32m-> 6897\u001b[1;33m   \u001b[0msix\u001b[0m\u001b[1;33m.\u001b[0m\u001b[0mraise_from\u001b[0m\u001b[1;33m(\u001b[0m\u001b[0mcore\u001b[0m\u001b[1;33m.\u001b[0m\u001b[0m_status_to_exception\u001b[0m\u001b[1;33m(\u001b[0m\u001b[0me\u001b[0m\u001b[1;33m.\u001b[0m\u001b[0mcode\u001b[0m\u001b[1;33m,\u001b[0m \u001b[0mmessage\u001b[0m\u001b[1;33m)\u001b[0m\u001b[1;33m,\u001b[0m \u001b[1;32mNone\u001b[0m\u001b[1;33m)\u001b[0m\u001b[1;33m\u001b[0m\u001b[1;33m\u001b[0m\u001b[0m\n\u001b[0m\u001b[0;32m   6898\u001b[0m   \u001b[1;31m# pylint: enable=protected-access\u001b[0m\u001b[1;33m\u001b[0m\u001b[1;33m\u001b[0m\u001b[1;33m\u001b[0m\u001b[0m\n\u001b[0;32m   6899\u001b[0m \u001b[1;33m\u001b[0m\u001b[0m\n",
      "\u001b[1;32m~\\anaconda3\\envs\\env_first\\lib\\site-packages\\six.py\u001b[0m in \u001b[0;36mraise_from\u001b[1;34m(value, from_value)\u001b[0m\n",
      "\u001b[1;31mInvalidArgumentError\u001b[0m: indices[15] = [7, 238] does not index into param shape [4096,8], node name: GatherNd [Op:GatherNd]"
     ]
    }
   ],
   "source": [
    "# from copy import deepcopy\n",
    "from Stats import CheckAccuracyAndLoss\n",
    "from Simulation import save_obj, load_obj\n",
    "from FileAnalize import analize_file, analize_file_uno,analize_file_uno_ceros, save_file, load_file\n",
    "import collections\n",
    "from datetime import datetime\n",
    "import itertools\n",
    "from Training import GetDatasets\n",
    "import numpy as np\n",
    "\n",
    "import os\n",
    " \n",
    "cwd = os.getcwd()\n",
    "wgt_dir = os.path.join(cwd, 'Data')\n",
    "wgt_dir = os.path.join(wgt_dir, 'Trained Weights')\n",
    "wgt_dir = os.path.join(wgt_dir, 'AlexNet')\n",
    "wgt_dir = os.path.join(wgt_dir, 'Colorectal Dataset')\n",
    "wgt_dir = os.path.join(wgt_dir,'Weights')\n",
    "\n",
    "\n",
    "    \n",
    "\n",
    "trainBatchSize = testBatchSize = 16\n",
    "_,_,test_dataset = GetDatasets('colorectal_histology',(80,5,15),(227,227), 8, trainBatchSize, testBatchSize)\n",
    "\n",
    "\n",
    "Accs_w = []\n",
    "network_size   = 16777216   # Tamaño del buffer (en bits)\n",
    "\n",
    "\n",
    "num_of_samples = 2      # Numero de muestras de distintas configuraciones de fallos a testear por cada valor de Accs/Loss\n",
    "#f_dir=('Data/Fault Characterization')\n",
    "\n",
    "buffer= (analize_file_uno(('Data/Fault Characterization/VC707/RawData/VC707-0.55'), network_size))\n",
    "#buffer= (analize_file((f_dir + VC707/RawData/VC707-0.54), network_size))\n",
    "\n",
    "\n",
    "for index in range(0,num_of_samples):\n",
    "    \n",
    "    address_with_errors = np.reshape(buffer,(-1,16))    \n",
    "    address_with_errors = [\"\".join(i) for i in address_with_errors[0:]]\n",
    "    \n",
    "    error_mask = [y for x,y in enumerate(address_with_errors) if y.count('x') < 16]  \n",
    "    \n",
    "    #print(error_mask)\n",
    "    locs       = [x for x,y in enumerate(address_with_errors) if y.count('x') < 16]\n",
    "    print(locs)\n",
    "    \n",
    "    \n",
    "    \n",
    "  \n",
    "   \n",
    "    del address_with_errors\n",
    "           \n",
    "    loss,acc   = CheckAccuracyAndLoss('AlexNet', test_dataset, wgt_dir, output_shape=8, input_shape = (227,227,3),\n",
    "                                            act_frac_size = 11, act_int_size = 4, wgt_frac_size = 11, wgt_int_size = 4,\n",
    "                                            batch_size=testBatchSize, verbose = 0, aging_active = False, weights_faults = True,\n",
    "                                            faulty_addresses = locs, masked_faults = error_mask)\n",
    "   \n",
    "    \n",
    " \n",
    "      \n",
    "    \n",
    "                                 \n",
    "       \n",
    "       \n",
    "             \n",
    "    Accs_w.append(acc)\n",
    "    #Loss[Enumber].append(loss)\n",
    "    print(loss)\n",
    "    print(acc)\n",
    "    \n",
    "\n",
    "print(str()+' operación completada: ', datetime.now().strftime(\"%H:%M:%S\"))\n",
    "save_file(Accs_w,'Data/Fault Characterization/Accs_w')\n",
    "\n",
    "#save_obj(Loss,'Data/Errors/AlexNet/Colorectal Dataset/Loss')"
   ]
  },
  {
   "cell_type": "markdown",
   "id": "3fbd1128",
   "metadata": {},
   "source": [
    "# Inyeccción en los pesos- y activaciones"
   ]
  },
  {
   "cell_type": "code",
   "execution_count": 88,
   "id": "6ad1e3fe",
   "metadata": {},
   "outputs": [
    {
     "name": "stdout",
     "output_type": "stream",
     "text": [
      "Cantidad de errores de todo el fihero: 2732\n",
      "Cantidad de elementos por tipo : Counter({'x': 16775646, '1': 1570})\n"
     ]
    },
    {
     "ename": "KeyboardInterrupt",
     "evalue": "",
     "output_type": "error",
     "traceback": [
      "\u001b[1;31m---------------------------------------------------------------------------\u001b[0m",
      "\u001b[1;31mKeyboardInterrupt\u001b[0m                         Traceback (most recent call last)",
      "\u001b[1;32m<ipython-input-88-863934faf6a7>\u001b[0m in \u001b[0;36m<module>\u001b[1;34m\u001b[0m\n\u001b[0;32m     42\u001b[0m     \u001b[1;32mdel\u001b[0m \u001b[0maddress_with_errors\u001b[0m\u001b[1;33m\u001b[0m\u001b[1;33m\u001b[0m\u001b[0m\n\u001b[0;32m     43\u001b[0m \u001b[1;33m\u001b[0m\u001b[0m\n\u001b[1;32m---> 44\u001b[1;33m     loss,acc   = CheckAccuracyAndLoss('AlexNet', test_dataset, wgt_dir, output_shape=8, input_shape = (227,227,3),\n\u001b[0m\u001b[0;32m     45\u001b[0m                                             \u001b[0mact_frac_size\u001b[0m \u001b[1;33m=\u001b[0m \u001b[1;36m11\u001b[0m\u001b[1;33m,\u001b[0m \u001b[0mact_int_size\u001b[0m \u001b[1;33m=\u001b[0m \u001b[1;36m4\u001b[0m\u001b[1;33m,\u001b[0m \u001b[0mwgt_frac_size\u001b[0m \u001b[1;33m=\u001b[0m \u001b[1;36m11\u001b[0m\u001b[1;33m,\u001b[0m \u001b[0mwgt_int_size\u001b[0m \u001b[1;33m=\u001b[0m \u001b[1;36m4\u001b[0m\u001b[1;33m,\u001b[0m\u001b[1;33m\u001b[0m\u001b[1;33m\u001b[0m\u001b[0m\n\u001b[0;32m     46\u001b[0m                                             \u001b[0mbatch_size\u001b[0m\u001b[1;33m=\u001b[0m\u001b[0mtestBatchSize\u001b[0m\u001b[1;33m,\u001b[0m \u001b[0mverbose\u001b[0m \u001b[1;33m=\u001b[0m \u001b[1;36m0\u001b[0m\u001b[1;33m,\u001b[0m \u001b[0maging_active\u001b[0m \u001b[1;33m=\u001b[0m \u001b[1;32mTrue\u001b[0m\u001b[1;33m,\u001b[0m \u001b[0mweights_faults\u001b[0m \u001b[1;33m=\u001b[0m \u001b[1;32mTrue\u001b[0m \u001b[1;33m,\u001b[0m\u001b[1;33m\u001b[0m\u001b[1;33m\u001b[0m\u001b[0m\n",
      "\u001b[1;32m~\\Desktop\\CNN_Gating\\Stats.py\u001b[0m in \u001b[0;36mCheckAccuracyAndLoss\u001b[1;34m(architecture, test_dataset, wgt_dir, act_frac_size, act_int_size, wgt_frac_size, wgt_int_size, input_shape, output_shape, faulty_addresses, masked_faults, aging_active, batch_size, verbose, weights_faults)\u001b[0m\n\u001b[0;32m    104\u001b[0m def CheckAccuracyAndLoss(architecture, test_dataset, wgt_dir, act_frac_size, act_int_size, wgt_frac_size, wgt_int_size, input_shape, output_shape,\n\u001b[0;32m    105\u001b[0m \t\t\t\t\t\t faulty_addresses = [], masked_faults = [], aging_active = False, batch_size = 1, verbose = 1, weights_faults = False):\n\u001b[1;32m--> 106\u001b[1;33m \tqNet = GetNeuralNetworkModel(architecture,input_shape,output_shape,faulty_addresses,masked_faults,aging_active=aging_active,\n\u001b[0m\u001b[0;32m    107\u001b[0m \t\t\t\t\t\t\t\t word_size=(1+act_frac_size+act_int_size), frac_size=act_frac_size, batch_size = batch_size)\n\u001b[0;32m    108\u001b[0m         \u001b[1;31m#Load Weights\u001b[0m\u001b[1;33m\u001b[0m\u001b[1;33m\u001b[0m\u001b[1;33m\u001b[0m\u001b[0m\n",
      "\u001b[1;32m~\\Desktop\\CNN_Gating\\Nets.py\u001b[0m in \u001b[0;36mGetNeuralNetworkModel\u001b[1;34m(architecture, input_shape, output_shape, faulty_addresses, masked_faults, quantization, aging_active, word_size, frac_size, batch_size)\u001b[0m\n\u001b[0;32m    184\u001b[0m                 \u001b[0mx\u001b[0m \u001b[1;33m=\u001b[0m \u001b[0mAddCustomLayers\u001b[0m\u001b[1;33m(\u001b[0m\u001b[0mx\u001b[0m\u001b[1;33m,\u001b[0m\u001b[0minclude_aging\u001b[0m\u001b[1;33m=\u001b[0m\u001b[1;32mTrue\u001b[0m\u001b[1;33m,\u001b[0m\u001b[0maging_active\u001b[0m \u001b[1;33m=\u001b[0m \u001b[0maging_active\u001b[0m\u001b[1;33m[\u001b[0m\u001b[1;36m8\u001b[0m\u001b[1;33m]\u001b[0m\u001b[1;33m,\u001b[0m\u001b[0minclude_quantization\u001b[0m\u001b[1;33m=\u001b[0m\u001b[1;32mFalse\u001b[0m\u001b[1;33m)\u001b[0m\u001b[1;33m\u001b[0m\u001b[1;33m\u001b[0m\u001b[0m\n\u001b[0;32m    185\u001b[0m                 \u001b[0mx\u001b[0m \u001b[1;33m=\u001b[0m \u001b[0mFlatten\u001b[0m\u001b[1;33m(\u001b[0m\u001b[1;33m)\u001b[0m\u001b[1;33m(\u001b[0m\u001b[0mx\u001b[0m\u001b[1;33m)\u001b[0m\u001b[1;33m\u001b[0m\u001b[1;33m\u001b[0m\u001b[0m\n\u001b[1;32m--> 186\u001b[1;33m                 \u001b[0mx\u001b[0m \u001b[1;33m=\u001b[0m \u001b[0mDense\u001b[0m\u001b[1;33m(\u001b[0m\u001b[1;36m4096\u001b[0m\u001b[1;33m)\u001b[0m\u001b[1;33m(\u001b[0m\u001b[0mx\u001b[0m\u001b[1;33m)\u001b[0m\u001b[1;33m\u001b[0m\u001b[1;33m\u001b[0m\u001b[0m\n\u001b[0m\u001b[0;32m    187\u001b[0m                 \u001b[0mx\u001b[0m \u001b[1;33m=\u001b[0m \u001b[0mAddCustomLayers\u001b[0m\u001b[1;33m(\u001b[0m\u001b[0mx\u001b[0m\u001b[1;33m,\u001b[0m\u001b[0minclude_aging\u001b[0m\u001b[1;33m=\u001b[0m\u001b[1;32mFalse\u001b[0m\u001b[1;33m)\u001b[0m\u001b[1;33m\u001b[0m\u001b[1;33m\u001b[0m\u001b[0m\n\u001b[0;32m    188\u001b[0m                 \u001b[0mx\u001b[0m \u001b[1;33m=\u001b[0m \u001b[0mReLU\u001b[0m\u001b[1;33m(\u001b[0m\u001b[1;33m)\u001b[0m\u001b[1;33m(\u001b[0m\u001b[0mx\u001b[0m\u001b[1;33m)\u001b[0m\u001b[1;33m\u001b[0m\u001b[1;33m\u001b[0m\u001b[0m\n",
      "\u001b[1;32m~\\anaconda3\\envs\\env_first\\lib\\site-packages\\tensorflow\\python\\keras\\engine\\base_layer.py\u001b[0m in \u001b[0;36m__call__\u001b[1;34m(self, *args, **kwargs)\u001b[0m\n\u001b[0;32m    967\u001b[0m     \u001b[1;31m# >> model = tf.keras.Model(inputs, outputs)\u001b[0m\u001b[1;33m\u001b[0m\u001b[1;33m\u001b[0m\u001b[1;33m\u001b[0m\u001b[0m\n\u001b[0;32m    968\u001b[0m     \u001b[1;32mif\u001b[0m \u001b[0m_in_functional_construction_mode\u001b[0m\u001b[1;33m(\u001b[0m\u001b[0mself\u001b[0m\u001b[1;33m,\u001b[0m \u001b[0minputs\u001b[0m\u001b[1;33m,\u001b[0m \u001b[0margs\u001b[0m\u001b[1;33m,\u001b[0m \u001b[0mkwargs\u001b[0m\u001b[1;33m,\u001b[0m \u001b[0minput_list\u001b[0m\u001b[1;33m)\u001b[0m\u001b[1;33m:\u001b[0m\u001b[1;33m\u001b[0m\u001b[1;33m\u001b[0m\u001b[0m\n\u001b[1;32m--> 969\u001b[1;33m       return self._functional_construction_call(inputs, args, kwargs,\n\u001b[0m\u001b[0;32m    970\u001b[0m                                                 input_list)\n\u001b[0;32m    971\u001b[0m \u001b[1;33m\u001b[0m\u001b[0m\n",
      "\u001b[1;32m~\\anaconda3\\envs\\env_first\\lib\\site-packages\\tensorflow\\python\\keras\\engine\\base_layer.py\u001b[0m in \u001b[0;36m_functional_construction_call\u001b[1;34m(self, inputs, args, kwargs, input_list)\u001b[0m\n\u001b[0;32m   1105\u001b[0m         layer=self, inputs=inputs, build_graph=True, training=training_value):\n\u001b[0;32m   1106\u001b[0m       \u001b[1;31m# Check input assumptions set after layer building, e.g. input shape.\u001b[0m\u001b[1;33m\u001b[0m\u001b[1;33m\u001b[0m\u001b[1;33m\u001b[0m\u001b[0m\n\u001b[1;32m-> 1107\u001b[1;33m       outputs = self._keras_tensor_symbolic_call(\n\u001b[0m\u001b[0;32m   1108\u001b[0m           inputs, input_masks, args, kwargs)\n\u001b[0;32m   1109\u001b[0m \u001b[1;33m\u001b[0m\u001b[0m\n",
      "\u001b[1;32m~\\anaconda3\\envs\\env_first\\lib\\site-packages\\tensorflow\\python\\keras\\engine\\base_layer.py\u001b[0m in \u001b[0;36m_keras_tensor_symbolic_call\u001b[1;34m(self, inputs, input_masks, args, kwargs)\u001b[0m\n\u001b[0;32m    838\u001b[0m       \u001b[1;32mreturn\u001b[0m \u001b[0mnest\u001b[0m\u001b[1;33m.\u001b[0m\u001b[0mmap_structure\u001b[0m\u001b[1;33m(\u001b[0m\u001b[0mkeras_tensor\u001b[0m\u001b[1;33m.\u001b[0m\u001b[0mKerasTensor\u001b[0m\u001b[1;33m,\u001b[0m \u001b[0moutput_signature\u001b[0m\u001b[1;33m)\u001b[0m\u001b[1;33m\u001b[0m\u001b[1;33m\u001b[0m\u001b[0m\n\u001b[0;32m    839\u001b[0m     \u001b[1;32melse\u001b[0m\u001b[1;33m:\u001b[0m\u001b[1;33m\u001b[0m\u001b[1;33m\u001b[0m\u001b[0m\n\u001b[1;32m--> 840\u001b[1;33m       \u001b[1;32mreturn\u001b[0m \u001b[0mself\u001b[0m\u001b[1;33m.\u001b[0m\u001b[0m_infer_output_signature\u001b[0m\u001b[1;33m(\u001b[0m\u001b[0minputs\u001b[0m\u001b[1;33m,\u001b[0m \u001b[0margs\u001b[0m\u001b[1;33m,\u001b[0m \u001b[0mkwargs\u001b[0m\u001b[1;33m,\u001b[0m \u001b[0minput_masks\u001b[0m\u001b[1;33m)\u001b[0m\u001b[1;33m\u001b[0m\u001b[1;33m\u001b[0m\u001b[0m\n\u001b[0m\u001b[0;32m    841\u001b[0m \u001b[1;33m\u001b[0m\u001b[0m\n\u001b[0;32m    842\u001b[0m   \u001b[1;32mdef\u001b[0m \u001b[0m_infer_output_signature\u001b[0m\u001b[1;33m(\u001b[0m\u001b[0mself\u001b[0m\u001b[1;33m,\u001b[0m \u001b[0minputs\u001b[0m\u001b[1;33m,\u001b[0m \u001b[0margs\u001b[0m\u001b[1;33m,\u001b[0m \u001b[0mkwargs\u001b[0m\u001b[1;33m,\u001b[0m \u001b[0minput_masks\u001b[0m\u001b[1;33m)\u001b[0m\u001b[1;33m:\u001b[0m\u001b[1;33m\u001b[0m\u001b[1;33m\u001b[0m\u001b[0m\n",
      "\u001b[1;32m~\\anaconda3\\envs\\env_first\\lib\\site-packages\\tensorflow\\python\\keras\\engine\\base_layer.py\u001b[0m in \u001b[0;36m_infer_output_signature\u001b[1;34m(self, inputs, args, kwargs, input_masks)\u001b[0m\n\u001b[0;32m    876\u001b[0m           \u001b[1;31m# overridden).\u001b[0m\u001b[1;33m\u001b[0m\u001b[1;33m\u001b[0m\u001b[1;33m\u001b[0m\u001b[0m\n\u001b[0;32m    877\u001b[0m           \u001b[1;31m# TODO(kaftan): do we maybe_build here, or have we already done it?\u001b[0m\u001b[1;33m\u001b[0m\u001b[1;33m\u001b[0m\u001b[1;33m\u001b[0m\u001b[0m\n\u001b[1;32m--> 878\u001b[1;33m           \u001b[0mself\u001b[0m\u001b[1;33m.\u001b[0m\u001b[0m_maybe_build\u001b[0m\u001b[1;33m(\u001b[0m\u001b[0minputs\u001b[0m\u001b[1;33m)\u001b[0m\u001b[1;33m\u001b[0m\u001b[1;33m\u001b[0m\u001b[0m\n\u001b[0m\u001b[0;32m    879\u001b[0m           \u001b[0minputs\u001b[0m \u001b[1;33m=\u001b[0m \u001b[0mself\u001b[0m\u001b[1;33m.\u001b[0m\u001b[0m_maybe_cast_inputs\u001b[0m\u001b[1;33m(\u001b[0m\u001b[0minputs\u001b[0m\u001b[1;33m)\u001b[0m\u001b[1;33m\u001b[0m\u001b[1;33m\u001b[0m\u001b[0m\n\u001b[0;32m    880\u001b[0m           \u001b[0moutputs\u001b[0m \u001b[1;33m=\u001b[0m \u001b[0mcall_fn\u001b[0m\u001b[1;33m(\u001b[0m\u001b[0minputs\u001b[0m\u001b[1;33m,\u001b[0m \u001b[1;33m*\u001b[0m\u001b[0margs\u001b[0m\u001b[1;33m,\u001b[0m \u001b[1;33m**\u001b[0m\u001b[0mkwargs\u001b[0m\u001b[1;33m)\u001b[0m\u001b[1;33m\u001b[0m\u001b[1;33m\u001b[0m\u001b[0m\n",
      "\u001b[1;32m~\\anaconda3\\envs\\env_first\\lib\\site-packages\\tensorflow\\python\\keras\\engine\\base_layer.py\u001b[0m in \u001b[0;36m_maybe_build\u001b[1;34m(self, inputs)\u001b[0m\n\u001b[0;32m   2623\u001b[0m         \u001b[1;31m# operations.\u001b[0m\u001b[1;33m\u001b[0m\u001b[1;33m\u001b[0m\u001b[1;33m\u001b[0m\u001b[0m\n\u001b[0;32m   2624\u001b[0m         \u001b[1;32mwith\u001b[0m \u001b[0mtf_utils\u001b[0m\u001b[1;33m.\u001b[0m\u001b[0mmaybe_init_scope\u001b[0m\u001b[1;33m(\u001b[0m\u001b[0mself\u001b[0m\u001b[1;33m)\u001b[0m\u001b[1;33m:\u001b[0m\u001b[1;33m\u001b[0m\u001b[1;33m\u001b[0m\u001b[0m\n\u001b[1;32m-> 2625\u001b[1;33m           \u001b[0mself\u001b[0m\u001b[1;33m.\u001b[0m\u001b[0mbuild\u001b[0m\u001b[1;33m(\u001b[0m\u001b[0minput_shapes\u001b[0m\u001b[1;33m)\u001b[0m  \u001b[1;31m# pylint:disable=not-callable\u001b[0m\u001b[1;33m\u001b[0m\u001b[1;33m\u001b[0m\u001b[0m\n\u001b[0m\u001b[0;32m   2626\u001b[0m       \u001b[1;31m# We must set also ensure that the layer is marked as built, and the build\u001b[0m\u001b[1;33m\u001b[0m\u001b[1;33m\u001b[0m\u001b[1;33m\u001b[0m\u001b[0m\n\u001b[0;32m   2627\u001b[0m       \u001b[1;31m# shape is stored since user defined build functions may not be calling\u001b[0m\u001b[1;33m\u001b[0m\u001b[1;33m\u001b[0m\u001b[1;33m\u001b[0m\u001b[0m\n",
      "\u001b[1;32m~\\anaconda3\\envs\\env_first\\lib\\site-packages\\tensorflow\\python\\keras\\layers\\core.py\u001b[0m in \u001b[0;36mbuild\u001b[1;34m(self, input_shape)\u001b[0m\n\u001b[0;32m   1189\u001b[0m                        'should be defined. Found `None`.')\n\u001b[0;32m   1190\u001b[0m     \u001b[0mself\u001b[0m\u001b[1;33m.\u001b[0m\u001b[0minput_spec\u001b[0m \u001b[1;33m=\u001b[0m \u001b[0mInputSpec\u001b[0m\u001b[1;33m(\u001b[0m\u001b[0mmin_ndim\u001b[0m\u001b[1;33m=\u001b[0m\u001b[1;36m2\u001b[0m\u001b[1;33m,\u001b[0m \u001b[0maxes\u001b[0m\u001b[1;33m=\u001b[0m\u001b[1;33m{\u001b[0m\u001b[1;33m-\u001b[0m\u001b[1;36m1\u001b[0m\u001b[1;33m:\u001b[0m \u001b[0mlast_dim\u001b[0m\u001b[1;33m}\u001b[0m\u001b[1;33m)\u001b[0m\u001b[1;33m\u001b[0m\u001b[1;33m\u001b[0m\u001b[0m\n\u001b[1;32m-> 1191\u001b[1;33m     self.kernel = self.add_weight(\n\u001b[0m\u001b[0;32m   1192\u001b[0m         \u001b[1;34m'kernel'\u001b[0m\u001b[1;33m,\u001b[0m\u001b[1;33m\u001b[0m\u001b[1;33m\u001b[0m\u001b[0m\n\u001b[0;32m   1193\u001b[0m         \u001b[0mshape\u001b[0m\u001b[1;33m=\u001b[0m\u001b[1;33m[\u001b[0m\u001b[0mlast_dim\u001b[0m\u001b[1;33m,\u001b[0m \u001b[0mself\u001b[0m\u001b[1;33m.\u001b[0m\u001b[0munits\u001b[0m\u001b[1;33m]\u001b[0m\u001b[1;33m,\u001b[0m\u001b[1;33m\u001b[0m\u001b[1;33m\u001b[0m\u001b[0m\n",
      "\u001b[1;32m~\\anaconda3\\envs\\env_first\\lib\\site-packages\\tensorflow\\python\\keras\\engine\\base_layer.py\u001b[0m in \u001b[0;36madd_weight\u001b[1;34m(self, name, shape, dtype, initializer, regularizer, trainable, constraint, use_resource, synchronization, aggregation, **kwargs)\u001b[0m\n\u001b[0;32m    637\u001b[0m         \u001b[0mcaching_device\u001b[0m \u001b[1;33m=\u001b[0m \u001b[1;32mNone\u001b[0m\u001b[1;33m\u001b[0m\u001b[1;33m\u001b[0m\u001b[0m\n\u001b[0;32m    638\u001b[0m \u001b[1;33m\u001b[0m\u001b[0m\n\u001b[1;32m--> 639\u001b[1;33m     variable = self._add_variable_with_custom_getter(\n\u001b[0m\u001b[0;32m    640\u001b[0m         \u001b[0mname\u001b[0m\u001b[1;33m=\u001b[0m\u001b[0mname\u001b[0m\u001b[1;33m,\u001b[0m\u001b[1;33m\u001b[0m\u001b[1;33m\u001b[0m\u001b[0m\n\u001b[0;32m    641\u001b[0m         \u001b[0mshape\u001b[0m\u001b[1;33m=\u001b[0m\u001b[0mshape\u001b[0m\u001b[1;33m,\u001b[0m\u001b[1;33m\u001b[0m\u001b[1;33m\u001b[0m\u001b[0m\n",
      "\u001b[1;32m~\\anaconda3\\envs\\env_first\\lib\\site-packages\\tensorflow\\python\\training\\tracking\\base.py\u001b[0m in \u001b[0;36m_add_variable_with_custom_getter\u001b[1;34m(self, name, shape, dtype, initializer, getter, overwrite, **kwargs_for_getter)\u001b[0m\n\u001b[0;32m    808\u001b[0m         \u001b[1;31m# \"best effort\" to set the initializer with the highest restore UID.\u001b[0m\u001b[1;33m\u001b[0m\u001b[1;33m\u001b[0m\u001b[1;33m\u001b[0m\u001b[0m\n\u001b[0;32m    809\u001b[0m         \u001b[0minitializer\u001b[0m \u001b[1;33m=\u001b[0m \u001b[0mcheckpoint_initializer\u001b[0m\u001b[1;33m\u001b[0m\u001b[1;33m\u001b[0m\u001b[0m\n\u001b[1;32m--> 810\u001b[1;33m     new_variable = getter(\n\u001b[0m\u001b[0;32m    811\u001b[0m         \u001b[0mname\u001b[0m\u001b[1;33m=\u001b[0m\u001b[0mname\u001b[0m\u001b[1;33m,\u001b[0m\u001b[1;33m\u001b[0m\u001b[1;33m\u001b[0m\u001b[0m\n\u001b[0;32m    812\u001b[0m         \u001b[0mshape\u001b[0m\u001b[1;33m=\u001b[0m\u001b[0mshape\u001b[0m\u001b[1;33m,\u001b[0m\u001b[1;33m\u001b[0m\u001b[1;33m\u001b[0m\u001b[0m\n",
      "\u001b[1;32m~\\anaconda3\\envs\\env_first\\lib\\site-packages\\tensorflow\\python\\keras\\engine\\base_layer_utils.py\u001b[0m in \u001b[0;36mmake_variable\u001b[1;34m(name, shape, dtype, initializer, trainable, caching_device, validate_shape, constraint, use_resource, collections, synchronization, aggregation, partitioner)\u001b[0m\n\u001b[0;32m    125\u001b[0m   \u001b[1;31m# can remove the V1.\u001b[0m\u001b[1;33m\u001b[0m\u001b[1;33m\u001b[0m\u001b[1;33m\u001b[0m\u001b[0m\n\u001b[0;32m    126\u001b[0m   \u001b[0mvariable_shape\u001b[0m \u001b[1;33m=\u001b[0m \u001b[0mtensor_shape\u001b[0m\u001b[1;33m.\u001b[0m\u001b[0mTensorShape\u001b[0m\u001b[1;33m(\u001b[0m\u001b[0mshape\u001b[0m\u001b[1;33m)\u001b[0m\u001b[1;33m\u001b[0m\u001b[1;33m\u001b[0m\u001b[0m\n\u001b[1;32m--> 127\u001b[1;33m   return tf_variables.VariableV1(\n\u001b[0m\u001b[0;32m    128\u001b[0m       \u001b[0minitial_value\u001b[0m\u001b[1;33m=\u001b[0m\u001b[0minit_val\u001b[0m\u001b[1;33m,\u001b[0m\u001b[1;33m\u001b[0m\u001b[1;33m\u001b[0m\u001b[0m\n\u001b[0;32m    129\u001b[0m       \u001b[0mname\u001b[0m\u001b[1;33m=\u001b[0m\u001b[0mname\u001b[0m\u001b[1;33m,\u001b[0m\u001b[1;33m\u001b[0m\u001b[1;33m\u001b[0m\u001b[0m\n",
      "\u001b[1;32m~\\anaconda3\\envs\\env_first\\lib\\site-packages\\tensorflow\\python\\ops\\variables.py\u001b[0m in \u001b[0;36m__call__\u001b[1;34m(cls, *args, **kwargs)\u001b[0m\n\u001b[0;32m    258\u001b[0m   \u001b[1;32mdef\u001b[0m \u001b[0m__call__\u001b[0m\u001b[1;33m(\u001b[0m\u001b[0mcls\u001b[0m\u001b[1;33m,\u001b[0m \u001b[1;33m*\u001b[0m\u001b[0margs\u001b[0m\u001b[1;33m,\u001b[0m \u001b[1;33m**\u001b[0m\u001b[0mkwargs\u001b[0m\u001b[1;33m)\u001b[0m\u001b[1;33m:\u001b[0m\u001b[1;33m\u001b[0m\u001b[1;33m\u001b[0m\u001b[0m\n\u001b[0;32m    259\u001b[0m     \u001b[1;32mif\u001b[0m \u001b[0mcls\u001b[0m \u001b[1;32mis\u001b[0m \u001b[0mVariableV1\u001b[0m\u001b[1;33m:\u001b[0m\u001b[1;33m\u001b[0m\u001b[1;33m\u001b[0m\u001b[0m\n\u001b[1;32m--> 260\u001b[1;33m       \u001b[1;32mreturn\u001b[0m \u001b[0mcls\u001b[0m\u001b[1;33m.\u001b[0m\u001b[0m_variable_v1_call\u001b[0m\u001b[1;33m(\u001b[0m\u001b[1;33m*\u001b[0m\u001b[0margs\u001b[0m\u001b[1;33m,\u001b[0m \u001b[1;33m**\u001b[0m\u001b[0mkwargs\u001b[0m\u001b[1;33m)\u001b[0m\u001b[1;33m\u001b[0m\u001b[1;33m\u001b[0m\u001b[0m\n\u001b[0m\u001b[0;32m    261\u001b[0m     \u001b[1;32melif\u001b[0m \u001b[0mcls\u001b[0m \u001b[1;32mis\u001b[0m \u001b[0mVariable\u001b[0m\u001b[1;33m:\u001b[0m\u001b[1;33m\u001b[0m\u001b[1;33m\u001b[0m\u001b[0m\n\u001b[0;32m    262\u001b[0m       \u001b[1;32mreturn\u001b[0m \u001b[0mcls\u001b[0m\u001b[1;33m.\u001b[0m\u001b[0m_variable_v2_call\u001b[0m\u001b[1;33m(\u001b[0m\u001b[1;33m*\u001b[0m\u001b[0margs\u001b[0m\u001b[1;33m,\u001b[0m \u001b[1;33m**\u001b[0m\u001b[0mkwargs\u001b[0m\u001b[1;33m)\u001b[0m\u001b[1;33m\u001b[0m\u001b[1;33m\u001b[0m\u001b[0m\n",
      "\u001b[1;32m~\\anaconda3\\envs\\env_first\\lib\\site-packages\\tensorflow\\python\\ops\\variables.py\u001b[0m in \u001b[0;36m_variable_v1_call\u001b[1;34m(cls, initial_value, trainable, collections, validate_shape, caching_device, name, variable_def, dtype, expected_shape, import_scope, constraint, use_resource, synchronization, aggregation, shape)\u001b[0m\n\u001b[0;32m    204\u001b[0m     \u001b[1;32mif\u001b[0m \u001b[0maggregation\u001b[0m \u001b[1;32mis\u001b[0m \u001b[1;32mNone\u001b[0m\u001b[1;33m:\u001b[0m\u001b[1;33m\u001b[0m\u001b[1;33m\u001b[0m\u001b[0m\n\u001b[0;32m    205\u001b[0m       \u001b[0maggregation\u001b[0m \u001b[1;33m=\u001b[0m \u001b[0mVariableAggregation\u001b[0m\u001b[1;33m.\u001b[0m\u001b[0mNONE\u001b[0m\u001b[1;33m\u001b[0m\u001b[1;33m\u001b[0m\u001b[0m\n\u001b[1;32m--> 206\u001b[1;33m     return previous_getter(\n\u001b[0m\u001b[0;32m    207\u001b[0m         \u001b[0minitial_value\u001b[0m\u001b[1;33m=\u001b[0m\u001b[0minitial_value\u001b[0m\u001b[1;33m,\u001b[0m\u001b[1;33m\u001b[0m\u001b[1;33m\u001b[0m\u001b[0m\n\u001b[0;32m    208\u001b[0m         \u001b[0mtrainable\u001b[0m\u001b[1;33m=\u001b[0m\u001b[0mtrainable\u001b[0m\u001b[1;33m,\u001b[0m\u001b[1;33m\u001b[0m\u001b[1;33m\u001b[0m\u001b[0m\n",
      "\u001b[1;32m~\\anaconda3\\envs\\env_first\\lib\\site-packages\\tensorflow\\python\\ops\\variables.py\u001b[0m in \u001b[0;36m<lambda>\u001b[1;34m(**kwargs)\u001b[0m\n\u001b[0;32m    197\u001b[0m                         shape=None):\n\u001b[0;32m    198\u001b[0m     \u001b[1;34m\"\"\"Call on Variable class. Useful to force the signature.\"\"\"\u001b[0m\u001b[1;33m\u001b[0m\u001b[1;33m\u001b[0m\u001b[0m\n\u001b[1;32m--> 199\u001b[1;33m     \u001b[0mprevious_getter\u001b[0m \u001b[1;33m=\u001b[0m \u001b[1;32mlambda\u001b[0m \u001b[1;33m**\u001b[0m\u001b[0mkwargs\u001b[0m\u001b[1;33m:\u001b[0m \u001b[0mdefault_variable_creator\u001b[0m\u001b[1;33m(\u001b[0m\u001b[1;32mNone\u001b[0m\u001b[1;33m,\u001b[0m \u001b[1;33m**\u001b[0m\u001b[0mkwargs\u001b[0m\u001b[1;33m)\u001b[0m\u001b[1;33m\u001b[0m\u001b[1;33m\u001b[0m\u001b[0m\n\u001b[0m\u001b[0;32m    200\u001b[0m     \u001b[1;32mfor\u001b[0m \u001b[0m_\u001b[0m\u001b[1;33m,\u001b[0m \u001b[0mgetter\u001b[0m \u001b[1;32min\u001b[0m \u001b[0mops\u001b[0m\u001b[1;33m.\u001b[0m\u001b[0mget_default_graph\u001b[0m\u001b[1;33m(\u001b[0m\u001b[1;33m)\u001b[0m\u001b[1;33m.\u001b[0m\u001b[0m_variable_creator_stack\u001b[0m\u001b[1;33m:\u001b[0m  \u001b[1;31m# pylint: disable=protected-access\u001b[0m\u001b[1;33m\u001b[0m\u001b[1;33m\u001b[0m\u001b[0m\n\u001b[0;32m    201\u001b[0m       \u001b[0mprevious_getter\u001b[0m \u001b[1;33m=\u001b[0m \u001b[0m_make_getter\u001b[0m\u001b[1;33m(\u001b[0m\u001b[0mgetter\u001b[0m\u001b[1;33m,\u001b[0m \u001b[0mprevious_getter\u001b[0m\u001b[1;33m)\u001b[0m\u001b[1;33m\u001b[0m\u001b[1;33m\u001b[0m\u001b[0m\n",
      "\u001b[1;32m~\\anaconda3\\envs\\env_first\\lib\\site-packages\\tensorflow\\python\\ops\\variable_scope.py\u001b[0m in \u001b[0;36mdefault_variable_creator\u001b[1;34m(next_creator, **kwargs)\u001b[0m\n\u001b[0;32m   2610\u001b[0m   \u001b[1;32mif\u001b[0m \u001b[0muse_resource\u001b[0m\u001b[1;33m:\u001b[0m\u001b[1;33m\u001b[0m\u001b[1;33m\u001b[0m\u001b[0m\n\u001b[0;32m   2611\u001b[0m     \u001b[0mdistribute_strategy\u001b[0m \u001b[1;33m=\u001b[0m \u001b[0mkwargs\u001b[0m\u001b[1;33m.\u001b[0m\u001b[0mget\u001b[0m\u001b[1;33m(\u001b[0m\u001b[1;34m\"distribute_strategy\"\u001b[0m\u001b[1;33m,\u001b[0m \u001b[1;32mNone\u001b[0m\u001b[1;33m)\u001b[0m\u001b[1;33m\u001b[0m\u001b[1;33m\u001b[0m\u001b[0m\n\u001b[1;32m-> 2612\u001b[1;33m     return resource_variable_ops.ResourceVariable(\n\u001b[0m\u001b[0;32m   2613\u001b[0m         \u001b[0minitial_value\u001b[0m\u001b[1;33m=\u001b[0m\u001b[0minitial_value\u001b[0m\u001b[1;33m,\u001b[0m\u001b[1;33m\u001b[0m\u001b[1;33m\u001b[0m\u001b[0m\n\u001b[0;32m   2614\u001b[0m         \u001b[0mtrainable\u001b[0m\u001b[1;33m=\u001b[0m\u001b[0mtrainable\u001b[0m\u001b[1;33m,\u001b[0m\u001b[1;33m\u001b[0m\u001b[1;33m\u001b[0m\u001b[0m\n",
      "\u001b[1;32m~\\anaconda3\\envs\\env_first\\lib\\site-packages\\tensorflow\\python\\ops\\variables.py\u001b[0m in \u001b[0;36m__call__\u001b[1;34m(cls, *args, **kwargs)\u001b[0m\n\u001b[0;32m    262\u001b[0m       \u001b[1;32mreturn\u001b[0m \u001b[0mcls\u001b[0m\u001b[1;33m.\u001b[0m\u001b[0m_variable_v2_call\u001b[0m\u001b[1;33m(\u001b[0m\u001b[1;33m*\u001b[0m\u001b[0margs\u001b[0m\u001b[1;33m,\u001b[0m \u001b[1;33m**\u001b[0m\u001b[0mkwargs\u001b[0m\u001b[1;33m)\u001b[0m\u001b[1;33m\u001b[0m\u001b[1;33m\u001b[0m\u001b[0m\n\u001b[0;32m    263\u001b[0m     \u001b[1;32melse\u001b[0m\u001b[1;33m:\u001b[0m\u001b[1;33m\u001b[0m\u001b[1;33m\u001b[0m\u001b[0m\n\u001b[1;32m--> 264\u001b[1;33m       \u001b[1;32mreturn\u001b[0m \u001b[0msuper\u001b[0m\u001b[1;33m(\u001b[0m\u001b[0mVariableMetaclass\u001b[0m\u001b[1;33m,\u001b[0m \u001b[0mcls\u001b[0m\u001b[1;33m)\u001b[0m\u001b[1;33m.\u001b[0m\u001b[0m__call__\u001b[0m\u001b[1;33m(\u001b[0m\u001b[1;33m*\u001b[0m\u001b[0margs\u001b[0m\u001b[1;33m,\u001b[0m \u001b[1;33m**\u001b[0m\u001b[0mkwargs\u001b[0m\u001b[1;33m)\u001b[0m\u001b[1;33m\u001b[0m\u001b[1;33m\u001b[0m\u001b[0m\n\u001b[0m\u001b[0;32m    265\u001b[0m \u001b[1;33m\u001b[0m\u001b[0m\n\u001b[0;32m    266\u001b[0m \u001b[1;33m\u001b[0m\u001b[0m\n",
      "\u001b[1;32m~\\anaconda3\\envs\\env_first\\lib\\site-packages\\tensorflow\\python\\ops\\resource_variable_ops.py\u001b[0m in \u001b[0;36m__init__\u001b[1;34m(self, initial_value, trainable, collections, validate_shape, caching_device, name, dtype, variable_def, import_scope, constraint, distribute_strategy, synchronization, aggregation, shape)\u001b[0m\n\u001b[0;32m   1582\u001b[0m       \u001b[0mself\u001b[0m\u001b[1;33m.\u001b[0m\u001b[0m_init_from_proto\u001b[0m\u001b[1;33m(\u001b[0m\u001b[0mvariable_def\u001b[0m\u001b[1;33m,\u001b[0m \u001b[0mimport_scope\u001b[0m\u001b[1;33m=\u001b[0m\u001b[0mimport_scope\u001b[0m\u001b[1;33m)\u001b[0m\u001b[1;33m\u001b[0m\u001b[1;33m\u001b[0m\u001b[0m\n\u001b[0;32m   1583\u001b[0m     \u001b[1;32melse\u001b[0m\u001b[1;33m:\u001b[0m\u001b[1;33m\u001b[0m\u001b[1;33m\u001b[0m\u001b[0m\n\u001b[1;32m-> 1584\u001b[1;33m       self._init_from_args(\n\u001b[0m\u001b[0;32m   1585\u001b[0m           \u001b[0minitial_value\u001b[0m\u001b[1;33m=\u001b[0m\u001b[0minitial_value\u001b[0m\u001b[1;33m,\u001b[0m\u001b[1;33m\u001b[0m\u001b[1;33m\u001b[0m\u001b[0m\n\u001b[0;32m   1586\u001b[0m           \u001b[0mtrainable\u001b[0m\u001b[1;33m=\u001b[0m\u001b[0mtrainable\u001b[0m\u001b[1;33m,\u001b[0m\u001b[1;33m\u001b[0m\u001b[1;33m\u001b[0m\u001b[0m\n",
      "\u001b[1;32m~\\anaconda3\\envs\\env_first\\lib\\site-packages\\tensorflow\\python\\ops\\resource_variable_ops.py\u001b[0m in \u001b[0;36m_init_from_args\u001b[1;34m(self, initial_value, trainable, collections, caching_device, name, dtype, constraint, synchronization, aggregation, distribute_strategy, shape)\u001b[0m\n\u001b[0;32m   1720\u001b[0m           \u001b[1;32mwith\u001b[0m \u001b[0mops\u001b[0m\u001b[1;33m.\u001b[0m\u001b[0mname_scope\u001b[0m\u001b[1;33m(\u001b[0m\u001b[1;34m\"Initializer\"\u001b[0m\u001b[1;33m)\u001b[0m\u001b[1;33m,\u001b[0m \u001b[0mdevice_context_manager\u001b[0m\u001b[1;33m(\u001b[0m\u001b[1;32mNone\u001b[0m\u001b[1;33m)\u001b[0m\u001b[1;33m:\u001b[0m\u001b[1;33m\u001b[0m\u001b[1;33m\u001b[0m\u001b[0m\n\u001b[0;32m   1721\u001b[0m             \u001b[1;32mif\u001b[0m \u001b[0minit_from_fn\u001b[0m\u001b[1;33m:\u001b[0m\u001b[1;33m\u001b[0m\u001b[1;33m\u001b[0m\u001b[0m\n\u001b[1;32m-> 1722\u001b[1;33m               \u001b[0minitial_value\u001b[0m \u001b[1;33m=\u001b[0m \u001b[0minitial_value\u001b[0m\u001b[1;33m(\u001b[0m\u001b[1;33m)\u001b[0m\u001b[1;33m\u001b[0m\u001b[1;33m\u001b[0m\u001b[0m\n\u001b[0m\u001b[0;32m   1723\u001b[0m             \u001b[1;32mif\u001b[0m \u001b[0misinstance\u001b[0m\u001b[1;33m(\u001b[0m\u001b[0minitial_value\u001b[0m\u001b[1;33m,\u001b[0m \u001b[0mtrackable\u001b[0m\u001b[1;33m.\u001b[0m\u001b[0mCheckpointInitialValue\u001b[0m\u001b[1;33m)\u001b[0m\u001b[1;33m:\u001b[0m\u001b[1;33m\u001b[0m\u001b[1;33m\u001b[0m\u001b[0m\n\u001b[0;32m   1724\u001b[0m               \u001b[0mself\u001b[0m\u001b[1;33m.\u001b[0m\u001b[0m_maybe_initialize_trackable\u001b[0m\u001b[1;33m(\u001b[0m\u001b[1;33m)\u001b[0m\u001b[1;33m\u001b[0m\u001b[1;33m\u001b[0m\u001b[0m\n",
      "\u001b[1;32m~\\anaconda3\\envs\\env_first\\lib\\site-packages\\tensorflow\\python\\keras\\initializers\\initializers_v2.py\u001b[0m in \u001b[0;36m__call__\u001b[1;34m(self, shape, dtype, **kwargs)\u001b[0m\n\u001b[0;32m    521\u001b[0m     \u001b[1;32melse\u001b[0m\u001b[1;33m:\u001b[0m\u001b[1;33m\u001b[0m\u001b[1;33m\u001b[0m\u001b[0m\n\u001b[0;32m    522\u001b[0m       \u001b[0mlimit\u001b[0m \u001b[1;33m=\u001b[0m \u001b[0mmath\u001b[0m\u001b[1;33m.\u001b[0m\u001b[0msqrt\u001b[0m\u001b[1;33m(\u001b[0m\u001b[1;36m3.0\u001b[0m \u001b[1;33m*\u001b[0m \u001b[0mscale\u001b[0m\u001b[1;33m)\u001b[0m\u001b[1;33m\u001b[0m\u001b[1;33m\u001b[0m\u001b[0m\n\u001b[1;32m--> 523\u001b[1;33m       \u001b[1;32mreturn\u001b[0m \u001b[0mself\u001b[0m\u001b[1;33m.\u001b[0m\u001b[0m_random_generator\u001b[0m\u001b[1;33m.\u001b[0m\u001b[0mrandom_uniform\u001b[0m\u001b[1;33m(\u001b[0m\u001b[0mshape\u001b[0m\u001b[1;33m,\u001b[0m \u001b[1;33m-\u001b[0m\u001b[0mlimit\u001b[0m\u001b[1;33m,\u001b[0m \u001b[0mlimit\u001b[0m\u001b[1;33m,\u001b[0m \u001b[0mdtype\u001b[0m\u001b[1;33m)\u001b[0m\u001b[1;33m\u001b[0m\u001b[1;33m\u001b[0m\u001b[0m\n\u001b[0m\u001b[0;32m    524\u001b[0m \u001b[1;33m\u001b[0m\u001b[0m\n\u001b[0;32m    525\u001b[0m   \u001b[1;32mdef\u001b[0m \u001b[0mget_config\u001b[0m\u001b[1;33m(\u001b[0m\u001b[0mself\u001b[0m\u001b[1;33m)\u001b[0m\u001b[1;33m:\u001b[0m\u001b[1;33m\u001b[0m\u001b[1;33m\u001b[0m\u001b[0m\n",
      "\u001b[1;32m~\\anaconda3\\envs\\env_first\\lib\\site-packages\\tensorflow\\python\\keras\\initializers\\initializers_v2.py\u001b[0m in \u001b[0;36mrandom_uniform\u001b[1;34m(self, shape, minval, maxval, dtype)\u001b[0m\n\u001b[0;32m    976\u001b[0m     \u001b[1;32melse\u001b[0m\u001b[1;33m:\u001b[0m\u001b[1;33m\u001b[0m\u001b[1;33m\u001b[0m\u001b[0m\n\u001b[0;32m    977\u001b[0m       \u001b[0mop\u001b[0m \u001b[1;33m=\u001b[0m \u001b[0mrandom_ops\u001b[0m\u001b[1;33m.\u001b[0m\u001b[0mrandom_uniform\u001b[0m\u001b[1;33m\u001b[0m\u001b[1;33m\u001b[0m\u001b[0m\n\u001b[1;32m--> 978\u001b[1;33m     return op(\n\u001b[0m\u001b[0;32m    979\u001b[0m         shape=shape, minval=minval, maxval=maxval, dtype=dtype, seed=self.seed)\n\u001b[0;32m    980\u001b[0m \u001b[1;33m\u001b[0m\u001b[0m\n",
      "\u001b[1;32m~\\anaconda3\\envs\\env_first\\lib\\site-packages\\tensorflow\\python\\util\\dispatch.py\u001b[0m in \u001b[0;36mwrapper\u001b[1;34m(*args, **kwargs)\u001b[0m\n\u001b[0;32m    204\u001b[0m     \u001b[1;34m\"\"\"Call target, and fall back on dispatchers if there is a TypeError.\"\"\"\u001b[0m\u001b[1;33m\u001b[0m\u001b[1;33m\u001b[0m\u001b[0m\n\u001b[0;32m    205\u001b[0m     \u001b[1;32mtry\u001b[0m\u001b[1;33m:\u001b[0m\u001b[1;33m\u001b[0m\u001b[1;33m\u001b[0m\u001b[0m\n\u001b[1;32m--> 206\u001b[1;33m       \u001b[1;32mreturn\u001b[0m \u001b[0mtarget\u001b[0m\u001b[1;33m(\u001b[0m\u001b[1;33m*\u001b[0m\u001b[0margs\u001b[0m\u001b[1;33m,\u001b[0m \u001b[1;33m**\u001b[0m\u001b[0mkwargs\u001b[0m\u001b[1;33m)\u001b[0m\u001b[1;33m\u001b[0m\u001b[1;33m\u001b[0m\u001b[0m\n\u001b[0m\u001b[0;32m    207\u001b[0m     \u001b[1;32mexcept\u001b[0m \u001b[1;33m(\u001b[0m\u001b[0mTypeError\u001b[0m\u001b[1;33m,\u001b[0m \u001b[0mValueError\u001b[0m\u001b[1;33m)\u001b[0m\u001b[1;33m:\u001b[0m\u001b[1;33m\u001b[0m\u001b[1;33m\u001b[0m\u001b[0m\n\u001b[0;32m    208\u001b[0m       \u001b[1;31m# Note: convert_to_eager_tensor currently raises a ValueError, not a\u001b[0m\u001b[1;33m\u001b[0m\u001b[1;33m\u001b[0m\u001b[1;33m\u001b[0m\u001b[0m\n",
      "\u001b[1;32m~\\anaconda3\\envs\\env_first\\lib\\site-packages\\tensorflow\\python\\ops\\random_ops.py\u001b[0m in \u001b[0;36mrandom_uniform\u001b[1;34m(shape, minval, maxval, dtype, seed, name)\u001b[0m\n\u001b[0;32m    307\u001b[0m           shape, minval, maxval, seed=seed1, seed2=seed2, name=name)\n\u001b[0;32m    308\u001b[0m     \u001b[1;32melse\u001b[0m\u001b[1;33m:\u001b[0m\u001b[1;33m\u001b[0m\u001b[1;33m\u001b[0m\u001b[0m\n\u001b[1;32m--> 309\u001b[1;33m       result = gen_random_ops.random_uniform(\n\u001b[0m\u001b[0;32m    310\u001b[0m           shape, dtype, seed=seed1, seed2=seed2)\n\u001b[0;32m    311\u001b[0m       \u001b[1;32mif\u001b[0m \u001b[0mminval_is_zero\u001b[0m\u001b[1;33m:\u001b[0m\u001b[1;33m\u001b[0m\u001b[1;33m\u001b[0m\u001b[0m\n",
      "\u001b[1;32m~\\anaconda3\\envs\\env_first\\lib\\site-packages\\tensorflow\\python\\ops\\gen_random_ops.py\u001b[0m in \u001b[0;36mrandom_uniform\u001b[1;34m(shape, dtype, seed, seed2, name)\u001b[0m\n\u001b[0;32m    713\u001b[0m   \u001b[1;32mif\u001b[0m \u001b[0mtld\u001b[0m\u001b[1;33m.\u001b[0m\u001b[0mis_eager\u001b[0m\u001b[1;33m:\u001b[0m\u001b[1;33m\u001b[0m\u001b[1;33m\u001b[0m\u001b[0m\n\u001b[0;32m    714\u001b[0m     \u001b[1;32mtry\u001b[0m\u001b[1;33m:\u001b[0m\u001b[1;33m\u001b[0m\u001b[1;33m\u001b[0m\u001b[0m\n\u001b[1;32m--> 715\u001b[1;33m       _result = pywrap_tfe.TFE_Py_FastPathExecute(\n\u001b[0m\u001b[0;32m    716\u001b[0m         \u001b[0m_ctx\u001b[0m\u001b[1;33m,\u001b[0m \u001b[1;34m\"RandomUniform\"\u001b[0m\u001b[1;33m,\u001b[0m \u001b[0mname\u001b[0m\u001b[1;33m,\u001b[0m \u001b[0mshape\u001b[0m\u001b[1;33m,\u001b[0m \u001b[1;34m\"seed\"\u001b[0m\u001b[1;33m,\u001b[0m \u001b[0mseed\u001b[0m\u001b[1;33m,\u001b[0m \u001b[1;34m\"seed2\"\u001b[0m\u001b[1;33m,\u001b[0m \u001b[0mseed2\u001b[0m\u001b[1;33m,\u001b[0m\u001b[1;33m\u001b[0m\u001b[1;33m\u001b[0m\u001b[0m\n\u001b[0;32m    717\u001b[0m         \"dtype\", dtype)\n",
      "\u001b[1;31mKeyboardInterrupt\u001b[0m: "
     ]
    }
   ],
   "source": [
    "from Stats import CheckAccuracyAndLoss\n",
    "from Simulation import save_obj, load_obj\n",
    "from FileAnalizeWgt import  analize_file_uno_w,analize_file_uno_ceros_w, save_file, load_file\n",
    "import collections\n",
    "from datetime import datetime\n",
    "import itertools\n",
    "from Training import GetDatasets\n",
    "import numpy as np\n",
    "import os\n",
    "\n",
    "cwd = os.getcwd()\n",
    "wgt_dir = os.path.join(cwd, 'Data')\n",
    "wgt_dir = os.path.join(wgt_dir, 'Trained Weights')\n",
    "wgt_dir = os.path.join(wgt_dir, 'AlexNet')\n",
    "wgt_dir = os.path.join(wgt_dir, 'Colorectal Dataset')\n",
    "wgt_dir = os.path.join(wgt_dir,'Weights')\n",
    "\n",
    "\n",
    "trainBatchSize = testBatchSize = 16\n",
    "_,_,test_dataset = GetDatasets('colorectal_histology',(80,5,15),(227,227), 8, trainBatchSize, testBatchSize)\n",
    "\n",
    "\n",
    "\n",
    "network_size   = 16777216*2   # Tamaño del buffer (en bits)\n",
    "\n",
    "\n",
    "num_of_samples = 5     # Numero de muestras de distintas configuraciones de fallos a testear por cada valor de Accs/Loss\n",
    "#buffer= (analize_file_uno_ceros(('Data/VC'), network_size))\n",
    "buffer= (analize_file_uno_w(('Data/Fault Characterization/VC707/RawData/VC707-0.56'), network_size))\n",
    "\n",
    "\n",
    "for index in range(0,num_of_samples):\n",
    "    address_with_errors = np.reshape(buffer,(-1,16))    \n",
    "    address_with_errors = [\"\".join(i) for i in address_with_errors[0:]]\n",
    "    \n",
    "    error_mask = [y for x,y in enumerate(address_with_errors) if y.count('x') < 16]  \n",
    "    \n",
    "    #print(error_mask)\n",
    "    locs       = [x for x,y in enumerate(address_with_errors) if y.count('x') < 16]\n",
    "  \n",
    "   \n",
    "    del address_with_errors\n",
    "           \n",
    "    loss,acc   = CheckAccuracyAndLoss('AlexNet', test_dataset, wgt_dir, output_shape=8, input_shape = (227,227,3),\n",
    "                                            act_frac_size = 11, act_int_size = 4, wgt_frac_size = 11, wgt_int_size = 4,\n",
    "                                            batch_size=testBatchSize, verbose = 0, aging_active = True, weights_faults = True ,\n",
    "                                            faulty_addresses = locs, masked_faults = error_mask)\n",
    "    \n",
    "                                 \n",
    "       \n",
    "       \n",
    "             \n",
    "    Accs_w.append(acc)\n",
    "    #Loss[Enumber].append(loss)\n",
    "    print(loss)\n",
    "    print(acc)\n",
    "print(str()+' operación completada: ', datetime.now().strftime(\"%H:%M:%S\"))\n",
    "save_obj(Accs_w,'Data/Fault Characterization/Accs_w')\n"
   ]
  },
  {
   "cell_type": "markdown",
   "id": "e157ae9b",
   "metadata": {},
   "source": [
    "Pruebas para la otra parte del buffer"
   ]
  },
  {
   "cell_type": "code",
   "execution_count": 75,
   "id": "a80cad31",
   "metadata": {},
   "outputs": [
    {
     "ename": "NameError",
     "evalue": "name 'analize_file_ceros_uno_w' is not defined",
     "output_type": "error",
     "traceback": [
      "\u001b[1;31m---------------------------------------------------------------------------\u001b[0m",
      "\u001b[1;31mNameError\u001b[0m                                 Traceback (most recent call last)",
      "\u001b[1;32m<ipython-input-75-372ef22ad7bc>\u001b[0m in \u001b[0;36m<module>\u001b[1;34m\u001b[0m\n\u001b[0;32m     31\u001b[0m \u001b[0mnum_of_samples\u001b[0m \u001b[1;33m=\u001b[0m \u001b[1;36m10\u001b[0m      \u001b[1;31m# Numero de muestras de distintas configuraciones de fallos a testear por cada valor de Accs/Loss\u001b[0m\u001b[1;33m\u001b[0m\u001b[1;33m\u001b[0m\u001b[0m\n\u001b[0;32m     32\u001b[0m \u001b[1;31m#buffer= (analize_file_uno(('Data/VC'), network_size))\u001b[0m\u001b[1;33m\u001b[0m\u001b[1;33m\u001b[0m\u001b[1;33m\u001b[0m\u001b[0m\n\u001b[1;32m---> 33\u001b[1;33m \u001b[0mbuffer\u001b[0m\u001b[1;33m=\u001b[0m \u001b[1;33m(\u001b[0m\u001b[0manalize_file_ceros_uno_w\u001b[0m\u001b[1;33m(\u001b[0m\u001b[1;33m(\u001b[0m\u001b[1;34m'Data/Fault Characterization/VC707/RawData/VC707-0.55'\u001b[0m\u001b[1;33m)\u001b[0m\u001b[1;33m,\u001b[0m \u001b[0mnetwork_size\u001b[0m\u001b[1;33m)\u001b[0m\u001b[1;33m)\u001b[0m\u001b[1;33m\u001b[0m\u001b[1;33m\u001b[0m\u001b[0m\n\u001b[0m\u001b[0;32m     34\u001b[0m \u001b[0mprint\u001b[0m\u001b[1;33m(\u001b[0m\u001b[0mlen\u001b[0m\u001b[1;33m(\u001b[0m\u001b[0mbuffer\u001b[0m\u001b[1;33m)\u001b[0m\u001b[1;33m)\u001b[0m\u001b[1;33m\u001b[0m\u001b[1;33m\u001b[0m\u001b[0m\n\u001b[0;32m     35\u001b[0m \u001b[1;33m\u001b[0m\u001b[0m\n",
      "\u001b[1;31mNameError\u001b[0m: name 'analize_file_ceros_uno_w' is not defined"
     ]
    }
   ],
   "source": [
    "# from copy import deepcopy\n",
    "from Stats import CheckAccuracyAndLoss\n",
    "from Simulation import save_obj, load_obj\n",
    "from FileAnalizeWgt import analize_file_w, analize_file_uno_w,analize_file_uno_ceros_w, save_file, load_file\n",
    "import collections\n",
    "from datetime import datetime\n",
    "import itertools\n",
    "from Training import GetDatasets\n",
    "import numpy as np\n",
    "import os\n",
    " \n",
    "cwd = os.getcwd()\n",
    "wgt_dir = os.path.join(cwd, 'Data')\n",
    "wgt_dir = os.path.join(wgt_dir, 'Trained Weights')\n",
    "wgt_dir = os.path.join(wgt_dir, 'AlexNet')\n",
    "wgt_dir = os.path.join(wgt_dir, 'Colorectal Dataset')\n",
    "wgt_dir = os.path.join(wgt_dir,'Weights')\n",
    "    \n",
    "\n",
    "8\n",
    "\n",
    "for index in range(0,num_of_samples):\n",
    "    address_with_errors = np.reshape(buffer,(-1,16))    \n",
    "    address_with_errors = [\"\".join(i) for i in address_with_errors[0:]]\n",
    "    \n",
    "    error_mask = [y for x,y in enumerate(address_with_errors) if y.count('x') < 16]  \n",
    "   \n",
    "    \n",
    "    \n",
    "    print(error_mask)\n",
    "    locs       = [x for x,y in enumerate(address_with_errors) if y.count('x') < 16]\n",
    "  \n",
    "   \n",
    "    del address_with_errors\n",
    "           \n",
    "    loss,acc   = CheckAccuracyAndLoss('AlexNet', test_dataset, wgt_dir, output_shape=8, input_shape = (227,227,3),\n",
    "                                            act_frac_size = 11, act_int_size = 4, wgt_frac_size = 11, wgt_int_size = 4,\n",
    "                                            batch_size=testBatchSize, verbose = 0, aging_active = False, weights_faults = True,\n",
    "                                            faulty_addresses = locs, masked_faults = error_mask)\n",
    "    \n",
    "   # loss_w,acc_w   = CheckAccuracyAndLoss('AlexNet', test_dataset, wgt_dir, output_shape=8, input_shape = (227,227,3),\n",
    "   #                                         act_frac_size = 11, act_int_size = 4, wgt_frac_size = 11, wgt_int_size = 4,\n",
    "   #                                         batch_size=testBatchSize, verbose = 0, aging_active = True, weights_faults = False,\n",
    "   #                                         faulty_addresses = locs, masked_faults = error_mask)\n",
    "   # \n",
    "   # \n",
    "   #                              \n",
    "       \n",
    "       \n",
    "             \n",
    "    Accs.append(acc)\n",
    "    #Loss[Enumber].append(loss)\n",
    "    print(loss)\n",
    "    print(acc)\n",
    "print(str()+' operación completada: ', datetime.now().strftime(\"%H:%M:%S\"))\n",
    "save_obj(Accs,'Data/Fault Characterization/Accs')\n",
    "#save_obj(Accs_w,'Data/Fault Characterization/Accs_w')\n",
    "\n",
    "#save_obj(Loss,'Data/Errors/AlexNet/Colorectal Dataset/Loss')"
   ]
  },
  {
   "cell_type": "markdown",
   "id": "9dcb6f45",
   "metadata": {},
   "source": [
    "# Gráficos\n",
    "2.1- graficar eje x los voltajes, eje y los accurancy y representar los para cuando se coloca todo en 0, todo en 1 y malores medios."
   ]
  },
  {
   "cell_type": "code",
   "execution_count": 22,
   "id": "0df4043b",
   "metadata": {},
   "outputs": [
    {
     "name": "stdout",
     "output_type": "stream",
     "text": [
      "[0.890666663646698, 0.890666663646698, 0.890666663646698, 0.890666663646698, 0.890666663646698, 0.6066666841506958, 0.6066666841506958, 0.6066666841506958, 0.6066666841506958, 0.6066666841506958, 0.8880000114440918, 0.8880000114440918, 0.8880000114440918, 0.8880000114440918, 0.8880000114440918]\n"
     ]
    }
   ],
   "source": [
    "from FileAnalize import  load_file\n",
    "print(load_file('Data/Fault Characterization/Accs_w_a_707_55'))\n",
    "#save_file(Accs,'Data/Fault Characterization/Accs'"
   ]
  },
  {
   "cell_type": "code",
   "execution_count": null,
   "id": "9903cbe1",
   "metadata": {},
   "outputs": [],
   "source": [
    "0.8893333077430725, 0.4973333477973938, 0.6173333525657654]"
   ]
  },
  {
   "cell_type": "code",
   "execution_count": 26,
   "id": "0c0bf39b",
   "metadata": {},
   "outputs": [
    {
     "name": "stdout",
     "output_type": "stream",
     "text": [
      "[0.8893333077430725, 0.4986666738986969, 0.6146666407585144]\n"
     ]
    }
   ],
   "source": [
    "from FileAnalize import  load_file\n",
    "print(load_file('Data/Fault Characterization/buffer1_2/pesos_activac/Accs_w_a_b2_707_55_1 imag'))\n",
    "#save_file(Accs,'Data/Fault Characterization/Accs'"
   ]
  },
  {
   "cell_type": "code",
   "execution_count": null,
   "id": "0840caf7",
   "metadata": {},
   "outputs": [],
   "source": []
  },
  {
   "cell_type": "code",
   "execution_count": null,
   "id": "5063daa2",
   "metadata": {},
   "outputs": [],
   "source": []
  },
  {
   "cell_type": "code",
   "execution_count": 71,
   "id": "ca2d4b5e",
   "metadata": {},
   "outputs": [
    {
     "name": "stdout",
     "output_type": "stream",
     "text": [
      "[0.890666663646698, 0.890666663646698, 0.890666663646698, 0.890666663646698, 0.890666663646698, 0.890666663646698, 0.890666663646698, 0.8920000195503235, 0.890666663646698, 0.890666663646698, 0.8920000195503235, 0.8920000195503235, 0.8920000195503235, 0.8920000195503235, 0.8920000195503235]\n"
     ]
    }
   ],
   "source": [
    "from FileAnalize import  load_file\n",
    "print(load_file('Data/Fault Characterization/buffer1_2/Accs_w_b2_707_55'))\n",
    "#save_file(Accs,'Data/Fault Characterization/Accs'"
   ]
  },
  {
   "cell_type": "markdown",
   "id": "e056793f",
   "metadata": {},
   "source": [
    "He gráficando usando matplotlib, pero debo normalizar las gráficas teniendo en cuenta el acc ideal, de forma tal que en el eje y me salgan los mismos valores para las tres gráficas que tengo(en dependencia de si coloco los errores como '0', '1', ó '0 y 1'). Cómo lograste normalizar tu gráfica?"
   ]
  },
  {
   "cell_type": "markdown",
   "id": "125adb8f",
   "metadata": {},
   "source": [
    " "
   ]
  },
  {
   "cell_type": "markdown",
   "id": "6ab7be23",
   "metadata": {},
   "source": [
    "# Graficos para las Activaciones"
   ]
  },
  {
   "cell_type": "code",
   "execution_count": 3,
   "id": "2383549f",
   "metadata": {},
   "outputs": [
    {
     "data": {
      "image/png": "[encoded data removed]",
      "text/plain": [
       "<Figure size 432x288 with 1 Axes>"
      ]
     },
     "metadata": {
      "needs_background": "light"
     },
     "output_type": "display_data"
    },
    {
     "data": {
      "image/png": "[encoded data removed]",
      "text/plain": [
       "<Figure size 432x288 with 1 Axes>"
      ]
     },
     "metadata": {
      "needs_background": "light"
     },
     "output_type": "display_data"
    },
    {
     "data": {
      "image/png": "[encoded data removed]",
      "text/plain": [
       "<Figure size 432x288 with 1 Axes>"
      ]
     },
     "metadata": {
      "needs_background": "light"
     },
     "output_type": "display_data"
    }
   ],
   "source": [
    "import matplotlib.pyplot as plt\n",
    "import seaborn as sns\n",
    "import pandas as pd\n",
    "import numpy as np\n",
    "from sklearn import preprocessing\n",
    "import matplotlib.ticker as ticker\n",
    "from pylab import *\n",
    "\n",
    "fig, ax = plt.subplots()\n",
    "\n",
    "\n",
    "\n",
    "x= [0.6, 0.59, 0.58, 0.57, 0.56, 0.55, 0.54, 0.53]\n",
    "\n",
    "\n",
    "\n",
    "x_values = range(len(x))\n",
    "\n",
    "\n",
    "y =[0.890666663646698, 0.890666663646698, 0.8946666717529297, 0.7639999985694885, 0.7133333086967468,  0.6106666922569275, 0.3440000116825104, None]\n",
    "plt.xticks(x_values, x)\n",
    "ylim(0, 1)\n",
    "plt.plot(y, label='fichero707', color='green', ls='-', lw='2', marker='D', markersize='5', )# hacer un plot para cada fichero\n",
    "\n",
    "z = [0.890666663646698, 0.890666663646698, 0.890666663646698, 0.890666663646698, 0.8920000195503235, 0.8893333077430725, 0.8053333163261414, 0.6946666836738586]\n",
    "plt.plot(z, label='fichero705B', color='red', ls='--', lw='4', marker='D', markersize='5', )# hacer un plot para cada fichero\n",
    "\n",
    "i = [0.890666663646698, 0.890666663646698, 0.890666663646698, 0.890666663646698, 0.890666663646698, 0.890666663646698, 0.890666663646698, 0.890666663646698]\n",
    "plt.plot(i, label='ideal', color='grey', ls='-', lw='2', marker='D', markersize='5', )\n",
    "\n",
    "plt.title(\"Análisis de los acurrancy por Voltajes errores en 1 \")\n",
    "plt.xlabel('voltaje')\n",
    "plt.ylabel('acc')\n",
    "plt.legend(loc=3)\n",
    "ax.grid( color = 'gray', linestyle = 'dashed')\n",
    "\n",
    "\n",
    "\n",
    "fig, ax = plt.subplots()\n",
    "\n",
    "x= [0.6, 0.59, 0.58, 0.57, 0.56, 0.55, 0.54, 0.53]\n",
    "x_values = range(len(x))\n",
    "\n",
    "y =[0.890666663646698, 0.890666663646698,0.890666663646698, 0.8920000195503235, 0.753333330154419, 0.7039999961853027, 0.448000013828277, None]\n",
    "plt.xticks(x_values, x)\n",
    "ylim(0, 1)\n",
    "plt.plot(y, label='fichero707', color='green', ls='-', lw='2', marker='D', markersize='5', )# hacer un plot para cada fichero\n",
    "z = [0.890666663646698, 0.890666663646698, 0.890666663646698, 0.890666663646698, 0.8920000195503235, 0.8933333158493042, 0.8893333077430725, 0.7440000176429749]\n",
    "plt.plot(z, label='fichero705B', color='red', ls='--', lw='4', marker='D', markersize='5', )# hacer un plot para cada fichero\n",
    "\n",
    "i = [0.890666663646698, 0.890666663646698, 0.890666663646698, 0.890666663646698, 0.890666663646698, 0.890666663646698, 0.890666663646698, 0.890666663646698]\n",
    "plt.plot(i, label='ideal', color='grey', ls='-', lw='2', marker='D', markersize='5', )\n",
    "\n",
    "\n",
    "plt.title(\"Análisis de los acurrancy por Voltajes errores en o y 1 aleatorios\")\n",
    "plt.xlabel('voltaje')\n",
    "plt.ylabel('acc')                     \n",
    "plt.legend(loc=3)\n",
    "ax.grid( color = 'gray', linestyle = 'dashed')\n",
    "\n",
    "\n",
    "\n",
    "\n",
    "fig, ax = plt.subplots()\n",
    "x= [0.6, 0.59, 0.58, 0.57, 0.56, 0.55, 0.54, 0.53]\n",
    "x_values = range(len(x))\n",
    "y = [0.890666663646698, 0.890666663646698, 0.890666663646698, 0.890666663646698, 0.890666663646698, 0.890666663646698, 0.8920000195503235, None]\n",
    "plt.xticks(x_values, x)\n",
    "ylim(0, 1)\n",
    "plt.plot(y, label='fichero707', color='green', ls='-', lw='2', marker='D', markersize='5', )# hacer un plot para cada fichero\n",
    "z = [0.890666663646698, 0.890666663646698, 0.890666663646698, 0.890666663646698, 0.890666663646698, 0.890666663646698, 0.8920000195503235, 0.8933333158493042]\n",
    "plt.plot(z, label='fichero705B', color='red', ls='--', lw='2', marker='D', markersize='5', )# hacer un plot para cada fichero\n",
    "\n",
    "plt.title(\"Análisis de los acurrancy por Voltajes errores en 0\")\n",
    "plt.xlabel('voltaje')\n",
    "plt.ylabel('acc')\n",
    "plt.legend(loc=3)\n",
    "ax.grid( color = 'gray', linestyle = 'dashed')\n",
    "\n",
    "\n",
    "\n",
    "\n",
    "\n",
    "plt.show()"
   ]
  },
  {
   "cell_type": "markdown",
   "id": "3bbb0e33",
   "metadata": {},
   "source": [
    "# Gráficas para los errores en los pesos segunda parte del buffer"
   ]
  },
  {
   "cell_type": "code",
   "execution_count": 43,
   "id": "49baae86",
   "metadata": {},
   "outputs": [
    {
     "data": {
      "image/png": "[encoded data removed]",
      "text/plain": [
       "<Figure size 432x288 with 1 Axes>"
      ]
     },
     "metadata": {
      "needs_background": "light"
     },
     "output_type": "display_data"
    },
    {
     "data": {
      "image/png": "[encoded data removed]",
      "text/plain": [
       "<Figure size 432x288 with 1 Axes>"
      ]
     },
     "metadata": {
      "needs_background": "light"
     },
     "output_type": "display_data"
    },
    {
     "data": {
      "image/png": "[encoded data removed]",
      "text/plain": [
       "<Figure size 432x288 with 1 Axes>"
      ]
     },
     "metadata": {
      "needs_background": "light"
     },
     "output_type": "display_data"
    }
   ],
   "source": [
    "import matplotlib.pyplot as plt\n",
    "import seaborn as sns\n",
    "import pandas as pd\n",
    "import numpy as np\n",
    "from sklearn import preprocessing\n",
    "import matplotlib.ticker as ticker\n",
    "from pylab import *\n",
    "\n",
    "fig, ax = plt.subplots()\n",
    "\n",
    "\n",
    "\n",
    "x= [0.6, 0.59, 0.58, 0.57, 0.56, 0.55, 0.54, 0.53]\n",
    "\n",
    "\n",
    "x_values = range(len(x))\n",
    "\n",
    "\n",
    "y =[0.890666663646698, 0.890666663646698, 0.890666663646698,0.8920000195503235,0.89066666364669800, 0.8920000195503235, 0.11733333021402359, None]\n",
    "plt.xticks(x_values, x)\n",
    "ylim(0, 1)\n",
    "plt.plot(y, label='fichero707', color='green', ls='-', lw='2', marker='D', markersize='5', )# hacer un plot para cada fichero\n",
    "z = [0.890666663646698, 0.890666663646698, 0.890666663646698, 0.890666663646698, 0.890666663646698, 0.8920000195503235, 0.8946666717529297,  0.8920000195503235  ]\n",
    "\n",
    "plt.plot(z, label='fichero705B', color='red', ls='--', lw='2', marker='D', markersize='5', )# hacer un plot para cada fichero\n",
    "\n",
    "plt.title(\"Análisis de los acurrancy en los pesos por Voltajes errores en 1 \")\n",
    "plt.xlabel('voltaje')\n",
    "plt.ylabel('acc')\n",
    "plt.legend(loc=3)\n",
    "ax.grid( color = 'gray', linestyle = 'dashed')\n",
    "\n",
    "\n",
    "\n",
    "fig, ax = plt.subplots()\n",
    "\n",
    "x= [0.6, 0.59, 0.58, 0.57, 0.56, 0.55, 0.54, 0.53]\n",
    "x_values = range(len(x))\n",
    "\n",
    "y =[0.890666663646698, 0.890666663646698,0.890666663646698, 0.8920000195503235, 0.89066666364669800, 0.8920000195503235, 0.11733333021402359, None]\n",
    "plt.xticks(x_values, x)\n",
    "ylim(0, 1)\n",
    "\n",
    "plt.plot(y, label='fichero707', color='green', ls='-', lw='2', marker='D', markersize='5', )# hacer un plot para cada fichero\n",
    "z = [0.890666663646698, 0.890666663646698, 0.890666663646698, 0.890666663646698, 0.890666663646698, 0.8960000276565552,  0.8920000195503235]\n",
    "\n",
    "plt.plot(z, label='fichero705B', color='red', ls='--', lw='2', marker='D', markersize='5', )# hacer un plot para cada fichero\n",
    "escala = 0.890666663646698\n",
    "\n",
    "plt.title(\"Análisis de los acurrancy en los pesos por Voltajes errores en o y 1 aleatorios\")\n",
    "plt.xlabel('voltaje')\n",
    "plt.ylabel('acc')                     \n",
    "plt.legend(loc=3)\n",
    "ax.grid( color = 'gray', linestyle = 'dashed')\n",
    "\n",
    "\n",
    "fig, ax = plt.subplots()\n",
    "x= [0.6, 0.59, 0.58, 0.57, 0.56, 0.55, 0.54, 0.53]\n",
    "x_values = range(len(x))\n",
    "y = [0.890666663646698, 0.890666663646698, 0.890666663646698, 0.890666663646698, 0.890666663646698, 0.890666663646698, 0.11733333021402359, None]\n",
    "plt.xticks(x_values, x)\n",
    "ylim(0, 1)\n",
    "plt.plot(y, label='fichero707', color='green', ls='-', lw='2', marker='D', markersize='5', )# hacer un plot para cada fichero\n",
    "z = [0.890666663646698, 0.890666663646698, 0.890666663646698, 0.890666663646698, 0.890666663646698, 0.890666663646698, 0.890666663646698, 0.890666663646698]\n",
    "plt.plot(z, label='fichero705B', color='red', ls='--', lw='2', marker='D', markersize='5', )# hacer un plot para cada fichero\n",
    "\n",
    "plt.title(\"Análisis de los acurrancy en los pesos por Voltajes errores en 0\")\n",
    "plt.xlabel('voltaje')\n",
    "plt.ylabel('acc')\n",
    "plt.legend(loc=3)\n",
    "ax.grid( color = 'gray', linestyle = 'dashed')\n",
    "\n",
    "\n",
    "\n",
    "\n",
    "\n",
    "plt.show()"
   ]
  },
  {
   "cell_type": "markdown",
   "id": "d8cd6619",
   "metadata": {},
   "source": [
    "# Gráficas para los errores en los pesos y activaciones primera parte del buffer"
   ]
  },
  {
   "cell_type": "code",
   "execution_count": 21,
   "id": "abafa467",
   "metadata": {},
   "outputs": [
    {
     "name": "stdout",
     "output_type": "stream",
     "text": [
      "[0.890666663646698, 0.6066666841506958, 0.6986666917800903]\n"
     ]
    }
   ],
   "source": [
    "from FileAnalize import  load_file\n",
    "print(load_file('Data/Fault Characterization/Acc_w_55'))\n",
    "#save_file(Accs,'Data/Fault Characterization/Accs'"
   ]
  },
  {
   "cell_type": "code",
   "execution_count": 1,
   "id": "748a0355",
   "metadata": {},
   "outputs": [
    {
     "data": {
      "image/png": "[encoded data removed]",
      "text/plain": [
       "<Figure size 432x288 with 1 Axes>"
      ]
     },
     "metadata": {
      "needs_background": "light"
     },
     "output_type": "display_data"
    },
    {
     "data": {
      "image/png": "[encoded data removed]",
      "text/plain": [
       "<Figure size 432x288 with 1 Axes>"
      ]
     },
     "metadata": {
      "needs_background": "light"
     },
     "output_type": "display_data"
    },
    {
     "data": {
      "image/png": "[encoded data removed]",
      "text/plain": [
       "<Figure size 432x288 with 1 Axes>"
      ]
     },
     "metadata": {
      "needs_background": "light"
     },
     "output_type": "display_data"
    }
   ],
   "source": [
    "import matplotlib.pyplot as plt\n",
    "import seaborn as sns\n",
    "import pandas as pd\n",
    "import numpy as np\n",
    "from sklearn import preprocessing\n",
    "import matplotlib.ticker as ticker\n",
    "from pylab import *\n",
    "\n",
    "fig, ax = plt.subplots()\n",
    "\n",
    "\n",
    "\n",
    "x= [0.6, 0.59, 0.58, 0.57, 0.56, 0.55, 0.54, 0.53]\n",
    "\n",
    "\n",
    "x_values = range(len(x))\n",
    "\n",
    "\n",
    "y =[0.890666663646698, 0.890666663646698, 0.8946666717529297,  0.7613333463668823, 0.7106666564941406, 0.6066666841506958, 0.3346666693687439, None]\n",
    "plt.xticks(x_values, x)\n",
    "ylim(0, 1)\n",
    "plt.plot(y, label='fichero707', color='green', ls='-', lw='2', marker='D', markersize='5', )# hacer un plot para cada fichero\n",
    "z = [0.890666663646698, 0.890666663646698, 0.890666663646698, 0.890666663646698, 0.8920000195503235, 0.8946666717529297, 0.7960000038146973, 0.6946666836738586]\n",
    "\n",
    "plt.plot(z, label='fichero705B', color='red', ls='--', lw='2', marker='D', markersize='5', )# hacer un plot para cada fichero\n",
    "\n",
    "plt.title(\"Análisis de los acurrancy en los pesos por Voltajes errores en 1 \")\n",
    "plt.xlabel('voltaje')\n",
    "plt.ylabel('acc')\n",
    "plt.legend(loc=3)\n",
    "ax.grid( color = 'gray', linestyle = 'dashed')\n",
    "\n",
    "\n",
    "\n",
    "fig, ax = plt.subplots()\n",
    "\n",
    "x= [0.6, 0.59, 0.58, 0.57, 0.56, 0.55, 0.54, 0.53]\n",
    "x_values = range(len(x))\n",
    "\n",
    "y =[0.890666663646698, 0.890666663646698,0.890666663646698,0.8973333239555359, 0.7586666941642761,0.6986666917800903, 0.4426666796207428, None]\n",
    "plt.xticks(x_values, x)\n",
    "ylim(0, 1)\n",
    "\n",
    "plt.plot(y, label='fichero707', color='green', ls='-', lw='2', marker='D', markersize='5', )# hacer un plot para cada fichero\n",
    "z = [0.890666663646698, 0.890666663646698,0.890666663646698, 0.890666663646698, 0.8933333158493042, 0.8933333158493042, 0.8933333158493042, 0.746666669845581]\n",
    "\n",
    "plt.plot(z, label='fichero705B', color='red', ls='--', lw='2', marker='D', markersize='5', )# hacer un plot para cada fichero\n",
    "\n",
    "\n",
    "plt.title(\"Análisis de los acurrancy en los pesos por Voltajes errores en o y 1 aleatorios\")\n",
    "plt.xlabel('voltaje')\n",
    "plt.ylabel('acc')                     \n",
    "plt.legend(loc=3)\n",
    "ax.grid( color = 'gray', linestyle = 'dashed')\n",
    "\n",
    "\n",
    "fig, ax = plt.subplots()\n",
    "x= [0.6, 0.59, 0.58, 0.57, 0.56, 0.55, 0.54, 0.53]\n",
    "x_values = range(len(x))\n",
    "y = [0.890666663646698, 0.890666663646698, 0.890666663646698, 0.890666663646698, 0.890666663646698, 0.890666663646698, 0.8920000195503235, None]\n",
    "plt.xticks(x_values, x)\n",
    "ylim(0, 1)\n",
    "plt.plot(y, label='fichero707', color='green', ls='-', lw='2', marker='D', markersize='5', )# hacer un plot para cada fichero\n",
    "z = [0.890666663646698,0.890666663646698,0.890666663646698, 0.890666663646698,0.890666663646698,0.890666663646698, 0.8920000195503235, 0.8933333158493042]\n",
    "plt.plot(z, label='fichero705B', color='red', ls='--', lw='2', marker='D', markersize='5', )# hacer un plot para cada fichero\n",
    "\n",
    "plt.title(\"Análisis de los acurrancy en los pesos por Voltajes errores en 0\")\n",
    "plt.xlabel('voltaje')\n",
    "plt.ylabel('acc')\n",
    "plt.legend(loc=3)\n",
    "ax.grid( color = 'gray', linestyle = 'dashed')\n",
    "\n",
    "\n",
    "\n",
    "\n",
    "\n",
    "plt.show()"
   ]
  },
  {
   "cell_type": "markdown",
   "id": "306dd5c8",
   "metadata": {},
   "source": [
    "prueba_recibiendo los datos"
   ]
  },
  {
   "cell_type": "code",
   "execution_count": 78,
   "id": "f7fee976",
   "metadata": {},
   "outputs": [
    {
     "name": "stdout",
     "output_type": "stream",
     "text": [
      "[['x' 'x' 'x' ... 'x' 'x' 'x']\n",
      " ['x' 'x' 'x' ... 'x' 'x' 'x']\n",
      " ['x' 'x' 'x' ... 'x' 'x' 'x']\n",
      " ...\n",
      " ['x' 'x' 'x' ... 'x' 'x' 'x']\n",
      " ['x' 'x' 'x' ... 'x' 'x' 'x']\n",
      " ['x' 'x' 'x' ... 'x' 'x' 'x']]\n",
      "[['x' 'x' 'x' ... 'x' 'x' 'x']\n",
      " ['x' 'x' 'x' ... 'x' 'x' 'x']\n",
      " ['x' 'x' 'x' ... 'x' 'x' 'x']\n",
      " ...\n",
      " ['x' 'x' 'x' ... 'x' 'x' 'x']\n",
      " ['x' 'x' 'x' ... 'x' 'x' 'x']\n",
      " ['x' 'x' 'x' ... 'x' 'x' 'x']]\n",
      "(array([  4141,   4141,   4181, ..., 288944, 289380, 289380], dtype=int64), array([1, 9, 1, ..., 9, 1, 9], dtype=int64))\n"
     ]
    },
    {
     "ename": "ValueError",
     "evalue": "The truth value of an array with more than one element is ambiguous. Use a.any() or a.all()",
     "output_type": "error",
     "traceback": [
      "\u001b[1;31m---------------------------------------------------------------------------\u001b[0m",
      "\u001b[1;31mValueError\u001b[0m                                Traceback (most recent call last)",
      "\u001b[1;32m<ipython-input-78-91d6c110e5fb>\u001b[0m in \u001b[0;36m<module>\u001b[1;34m\u001b[0m\n\u001b[0;32m     55\u001b[0m     \u001b[1;31m#del address_with_errors\u001b[0m\u001b[1;33m\u001b[0m\u001b[1;33m\u001b[0m\u001b[1;33m\u001b[0m\u001b[0m\n\u001b[0;32m     56\u001b[0m \u001b[1;33m\u001b[0m\u001b[0m\n\u001b[1;32m---> 57\u001b[1;33m     loss,acc   = CheckAccuracyAndLoss('AlexNet', test_dataset, wgt_dir, output_shape=8, input_shape = (227,227,3),\n\u001b[0m\u001b[0;32m     58\u001b[0m                                             \u001b[0mact_frac_size\u001b[0m \u001b[1;33m=\u001b[0m \u001b[1;36m11\u001b[0m\u001b[1;33m,\u001b[0m \u001b[0mact_int_size\u001b[0m \u001b[1;33m=\u001b[0m \u001b[1;36m4\u001b[0m\u001b[1;33m,\u001b[0m \u001b[0mwgt_frac_size\u001b[0m \u001b[1;33m=\u001b[0m \u001b[1;36m11\u001b[0m\u001b[1;33m,\u001b[0m \u001b[0mwgt_int_size\u001b[0m \u001b[1;33m=\u001b[0m \u001b[1;36m4\u001b[0m\u001b[1;33m,\u001b[0m\u001b[1;33m\u001b[0m\u001b[1;33m\u001b[0m\u001b[0m\n\u001b[0;32m     59\u001b[0m                                             \u001b[0mbatch_size\u001b[0m\u001b[1;33m=\u001b[0m\u001b[0mtestBatchSize\u001b[0m\u001b[1;33m,\u001b[0m \u001b[0mverbose\u001b[0m \u001b[1;33m=\u001b[0m \u001b[1;36m0\u001b[0m\u001b[1;33m,\u001b[0m \u001b[0maging_active\u001b[0m \u001b[1;33m=\u001b[0m \u001b[1;32mTrue\u001b[0m\u001b[1;33m,\u001b[0m \u001b[0mweights_faults\u001b[0m \u001b[1;33m=\u001b[0m \u001b[1;32mFalse\u001b[0m\u001b[1;33m,\u001b[0m\u001b[1;33m\u001b[0m\u001b[1;33m\u001b[0m\u001b[0m\n",
      "\u001b[1;32m~\\Desktop\\CNN_Gating\\Stats.py\u001b[0m in \u001b[0;36mCheckAccuracyAndLoss\u001b[1;34m(architecture, test_dataset, wgt_dir, act_frac_size, act_int_size, wgt_frac_size, wgt_int_size, input_shape, output_shape, faulty_addresses, masked_faults, aging_active, batch_size, verbose, weights_faults)\u001b[0m\n\u001b[0;32m     95\u001b[0m def CheckAccuracyAndLoss(architecture, test_dataset, wgt_dir, act_frac_size, act_int_size, wgt_frac_size, wgt_int_size, input_shape, output_shape,\n\u001b[0;32m     96\u001b[0m \t\t\t\t\t\t faulty_addresses = [], masked_faults = [], aging_active = False, batch_size = 1, verbose = 1, weights_faults = False):\n\u001b[1;32m---> 97\u001b[1;33m \tqNet = GetNeuralNetworkModel(architecture,input_shape,output_shape,faulty_addresses,masked_faults,aging_active=aging_active,\n\u001b[0m\u001b[0;32m     98\u001b[0m \t\t\t\t\t\t\t\t word_size=(1+act_frac_size+act_int_size), frac_size=act_frac_size, batch_size = batch_size)\n\u001b[0;32m     99\u001b[0m         \u001b[1;31m#Load Weights\u001b[0m\u001b[1;33m\u001b[0m\u001b[1;33m\u001b[0m\u001b[1;33m\u001b[0m\u001b[0m\n",
      "\u001b[1;32m~\\Desktop\\CNN_Gating\\Nets.py\u001b[0m in \u001b[0;36mGetNeuralNetworkModel\u001b[1;34m(architecture, input_shape, output_shape, faulty_addresses, masked_faults, quantization, aging_active, word_size, frac_size, batch_size)\u001b[0m\n\u001b[0;32m    151\u001b[0m         \u001b[1;32mif\u001b[0m \u001b[0marchitecture\u001b[0m\u001b[1;33m==\u001b[0m\u001b[1;34m'AlexNet'\u001b[0m\u001b[1;33m:\u001b[0m\u001b[1;33m\u001b[0m\u001b[1;33m\u001b[0m\u001b[0m\n\u001b[0;32m    152\u001b[0m                 \u001b[0minput_layer\u001b[0m \u001b[1;33m=\u001b[0m \u001b[0mtf\u001b[0m\u001b[1;33m.\u001b[0m\u001b[0mkeras\u001b[0m\u001b[1;33m.\u001b[0m\u001b[0mInput\u001b[0m\u001b[1;33m(\u001b[0m\u001b[0minput_shape\u001b[0m\u001b[1;33m)\u001b[0m\u001b[1;33m\u001b[0m\u001b[1;33m\u001b[0m\u001b[0m\n\u001b[1;32m--> 153\u001b[1;33m                 \u001b[0mx\u001b[0m \u001b[1;33m=\u001b[0m \u001b[0mAddCustomLayers\u001b[0m\u001b[1;33m(\u001b[0m\u001b[0minput_layer\u001b[0m\u001b[1;33m,\u001b[0m\u001b[0minclude_aging\u001b[0m\u001b[1;33m=\u001b[0m\u001b[1;32mTrue\u001b[0m\u001b[1;33m,\u001b[0m\u001b[0maging_active\u001b[0m \u001b[1;33m=\u001b[0m \u001b[0maging_active\u001b[0m\u001b[1;33m[\u001b[0m\u001b[1;36m0\u001b[0m\u001b[1;33m]\u001b[0m\u001b[1;33m)\u001b[0m\u001b[1;33m\u001b[0m\u001b[1;33m\u001b[0m\u001b[0m\n\u001b[0m\u001b[0;32m    154\u001b[0m                 \u001b[0mx\u001b[0m \u001b[1;33m=\u001b[0m \u001b[0mConv2D\u001b[0m\u001b[1;33m(\u001b[0m\u001b[0mfilters\u001b[0m\u001b[1;33m=\u001b[0m\u001b[1;36m96\u001b[0m\u001b[1;33m,\u001b[0m \u001b[0mkernel_size\u001b[0m\u001b[1;33m=\u001b[0m\u001b[1;33m(\u001b[0m\u001b[1;36m11\u001b[0m\u001b[1;33m,\u001b[0m\u001b[1;36m11\u001b[0m\u001b[1;33m)\u001b[0m\u001b[1;33m,\u001b[0m \u001b[0mstrides\u001b[0m\u001b[1;33m=\u001b[0m\u001b[1;33m(\u001b[0m\u001b[1;36m4\u001b[0m\u001b[1;33m,\u001b[0m\u001b[1;36m4\u001b[0m\u001b[1;33m)\u001b[0m\u001b[1;33m,\u001b[0m\u001b[0mname\u001b[0m\u001b[1;33m=\u001b[0m\u001b[1;34m'Conv1'\u001b[0m\u001b[1;33m)\u001b[0m\u001b[1;33m(\u001b[0m\u001b[0mx\u001b[0m\u001b[1;33m)\u001b[0m\u001b[1;33m\u001b[0m\u001b[1;33m\u001b[0m\u001b[0m\n\u001b[0;32m    155\u001b[0m                 \u001b[0mx\u001b[0m \u001b[1;33m=\u001b[0m \u001b[0mAddCustomLayers\u001b[0m\u001b[1;33m(\u001b[0m\u001b[0mx\u001b[0m\u001b[1;33m,\u001b[0m\u001b[0minclude_aging\u001b[0m\u001b[1;33m=\u001b[0m\u001b[1;32mFalse\u001b[0m\u001b[1;33m)\u001b[0m\u001b[1;33m\u001b[0m\u001b[1;33m\u001b[0m\u001b[0m\n",
      "\u001b[1;32m~\\Desktop\\CNN_Gating\\Nets.py\u001b[0m in \u001b[0;36mAddCustomLayers\u001b[1;34m(input_layer, include_aging, include_quantization, aging_active)\u001b[0m\n\u001b[0;32m    140\u001b[0m                 \u001b[1;32mif\u001b[0m \u001b[0minclude_aging\u001b[0m\u001b[1;33m:\u001b[0m\u001b[1;33m\u001b[0m\u001b[1;33m\u001b[0m\u001b[0m\n\u001b[0;32m    141\u001b[0m                         \u001b[0mdims\u001b[0m \u001b[1;33m=\u001b[0m \u001b[0mx\u001b[0m\u001b[1;33m.\u001b[0m\u001b[0mshape\u001b[0m\u001b[1;33m.\u001b[0m\u001b[0mndims\u001b[0m \u001b[1;32mif\u001b[0m \u001b[0mx\u001b[0m\u001b[1;33m.\u001b[0m\u001b[0m__class__\u001b[0m\u001b[1;33m.\u001b[0m\u001b[0m__name__\u001b[0m \u001b[1;33m==\u001b[0m \u001b[1;34m'KerasTensor'\u001b[0m \u001b[1;32melse\u001b[0m \u001b[0mx\u001b[0m\u001b[1;33m.\u001b[0m\u001b[0moutput_shape\u001b[0m\u001b[1;33m.\u001b[0m\u001b[0mndim\u001b[0m\u001b[1;33m\u001b[0m\u001b[1;33m\u001b[0m\u001b[0m\n\u001b[1;32m--> 142\u001b[1;33m                         \u001b[0mindex_list\u001b[0m\u001b[1;33m,\u001b[0m\u001b[0mmod_list\u001b[0m\u001b[1;33m,\u001b[0m\u001b[0mfaults_count\u001b[0m \u001b[1;33m=\u001b[0m \u001b[0mGenerateAddressList\u001b[0m\u001b[1;33m(\u001b[0m\u001b[0mshape\u001b[0m\u001b[1;33m=\u001b[0m\u001b[0mx\u001b[0m\u001b[1;33m.\u001b[0m\u001b[0mshape\u001b[0m\u001b[1;33m[\u001b[0m\u001b[1;36m1\u001b[0m\u001b[1;33m:\u001b[0m\u001b[1;33m]\u001b[0m\u001b[1;33m)\u001b[0m\u001b[1;33m\u001b[0m\u001b[1;33m\u001b[0m\u001b[0m\n\u001b[0m\u001b[0;32m    143\u001b[0m \t\t\taging_arguments = {'index_list' : tf.identity(index_list),\n\u001b[0;32m    144\u001b[0m                                            \u001b[1;34m'mod_list'\u001b[0m \u001b[1;33m:\u001b[0m \u001b[0mtf\u001b[0m\u001b[1;33m.\u001b[0m\u001b[0midentity\u001b[0m\u001b[1;33m(\u001b[0m\u001b[0mmod_list\u001b[0m\u001b[1;33m)\u001b[0m\u001b[1;33m,\u001b[0m\u001b[1;33m\u001b[0m\u001b[1;33m\u001b[0m\u001b[0m\n",
      "\u001b[1;32m~\\Desktop\\CNN_Gating\\Nets.py\u001b[0m in \u001b[0;36mGenerateAddressList\u001b[1;34m(shape)\u001b[0m\n\u001b[0;32m    115\u001b[0m                         \u001b[1;32mfor\u001b[0m \u001b[0mindex\u001b[0m \u001b[1;32min\u001b[0m \u001b[0mrange\u001b[0m\u001b[1;33m(\u001b[0m\u001b[0mbatch_size\u001b[0m\u001b[1;33m)\u001b[0m\u001b[1;33m:\u001b[0m\u001b[1;33m\u001b[0m\u001b[1;33m\u001b[0m\u001b[0m\n\u001b[0;32m    116\u001b[0m                                 \u001b[1;32mfor\u001b[0m \u001b[0maddress\u001b[0m\u001b[1;33m,\u001b[0m\u001b[0mmask\u001b[0m \u001b[1;32min\u001b[0m \u001b[0mzip\u001b[0m\u001b[1;33m(\u001b[0m\u001b[0mfaulty_addresses\u001b[0m\u001b[1;33m,\u001b[0m\u001b[0mmasked_faults\u001b[0m\u001b[1;33m)\u001b[0m\u001b[1;33m:\u001b[0m\u001b[1;33m\u001b[0m\u001b[1;33m\u001b[0m\u001b[0m\n\u001b[1;32m--> 117\u001b[1;33m                                         \u001b[1;32mif\u001b[0m \u001b[0maddress\u001b[0m \u001b[1;33m<\u001b[0m \u001b[0mshape\u001b[0m\u001b[1;33m[\u001b[0m\u001b[1;36m0\u001b[0m\u001b[1;33m]\u001b[0m\u001b[1;33m*\u001b[0m\u001b[0mshape\u001b[0m\u001b[1;33m[\u001b[0m\u001b[1;36m1\u001b[0m\u001b[1;33m]\u001b[0m\u001b[1;33m*\u001b[0m\u001b[0mshape\u001b[0m\u001b[1;33m[\u001b[0m\u001b[1;36m2\u001b[0m\u001b[1;33m]\u001b[0m \u001b[1;33m-\u001b[0m \u001b[1;36m1\u001b[0m\u001b[1;33m:\u001b[0m\u001b[1;33m\u001b[0m\u001b[1;33m\u001b[0m\u001b[0m\n\u001b[0m\u001b[0;32m    118\u001b[0m                                                 \u001b[0mactMap\u001b[0m \u001b[1;33m=\u001b[0m \u001b[0maddress\u001b[0m\u001b[1;33m//\u001b[0m\u001b[1;33m(\u001b[0m\u001b[0mshape\u001b[0m\u001b[1;33m[\u001b[0m\u001b[1;36m0\u001b[0m\u001b[1;33m]\u001b[0m\u001b[1;33m*\u001b[0m\u001b[0mshape\u001b[0m\u001b[1;33m[\u001b[0m\u001b[1;36m1\u001b[0m\u001b[1;33m]\u001b[0m\u001b[1;33m)\u001b[0m\u001b[1;33m\u001b[0m\u001b[1;33m\u001b[0m\u001b[0m\n\u001b[0;32m    119\u001b[0m                                                 \u001b[0mrow\u001b[0m    \u001b[1;33m=\u001b[0m \u001b[1;33m(\u001b[0m\u001b[0maddress\u001b[0m \u001b[1;33m-\u001b[0m \u001b[0mactMap\u001b[0m\u001b[1;33m*\u001b[0m\u001b[0mshape\u001b[0m\u001b[1;33m[\u001b[0m\u001b[1;36m0\u001b[0m\u001b[1;33m]\u001b[0m\u001b[1;33m*\u001b[0m\u001b[0mshape\u001b[0m\u001b[1;33m[\u001b[0m\u001b[1;36m1\u001b[0m\u001b[1;33m]\u001b[0m\u001b[1;33m)\u001b[0m\u001b[1;33m//\u001b[0m\u001b[0mshape\u001b[0m\u001b[1;33m[\u001b[0m\u001b[1;36m1\u001b[0m\u001b[1;33m]\u001b[0m\u001b[1;33m\u001b[0m\u001b[1;33m\u001b[0m\u001b[0m\n",
      "\u001b[1;31mValueError\u001b[0m: The truth value of an array with more than one element is ambiguous. Use a.any() or a.all()"
     ]
    }
   ],
   "source": [
    "## from copy import deepcopy\n",
    "#from Stats import CheckAccuracyAndLoss\n",
    "#from Simulation import save_obj, load_obj\n",
    "#from FileAnalize import analize_fil\n",
    "#from datetime import datetime\n",
    "#import itertools\n",
    "#from Training import GetDatasets\n",
    "#import numpy as np\n",
    "#import os\n",
    "# \n",
    "#cwd = os.getcwd()\n",
    "#wgt_dir = os.path.join(cwd, 'Data')\n",
    "#wgt_dir = os.path.join(wgt_dir, 'Trained Weights')\n",
    "#wgt_dir = os.path.join(wgt_dir, 'AlexNet')\n",
    "#wgt_dir = os.path.join(wgt_dir, 'Colorectal Dataset')\n",
    "#wgt_dir = os.path.join(wgt_dir,'Weights')\n",
    "#    \n",
    "#\n",
    "#trainBatchSize = testBatchSize = 16\n",
    "#_,_,test_dataset = GetDatasets('colorectal_histology',(80,5,15),(227,227), 8, trainBatchSize, testBatchSize)\n",
    "#\n",
    "#\n",
    "#\n",
    "## Porciones del buffer  a probar\n",
    "##Accs     = {0.0:[],0.00001:[],0.00005:[],0.0001:[],0.1:[]}\n",
    "##Loss     = {0.0:[],0.00001:[],0.00005:[],0.0001:[],0.1:[]}\n",
    "#\n",
    "#\n",
    "#network_size   = 4646400   # Tamaño del buffer (en bits)\n",
    "#\n",
    "#\n",
    "#num_of_samples = 10      # Numero de muestras de distintas configuraciones de fallos a testear por cada valor de Accs/Loss\n",
    "##buffer= (analize_file(('Data/VC'), 4646400))\n",
    "##print (buffer)\n",
    "#address_with_errors,  locs= (analize_fil(('Data/VC'), 4646400))\n",
    "#\n",
    "#for index in range(0,num_of_samples):\n",
    "#    #address_with_errors = np.reshape(buffer,(-1,16))\n",
    "#     \n",
    "#    #address_with_errors = [\"\".join(i) for i in address_with_errors[0:10]]\n",
    "#    print(address_with_errors)\n",
    "#           \n",
    "#    #error_mask = [y for x,y in enumerate(address_with_errors) if y.count('x') < 16]\n",
    "#    error_mask = address_with_errors\n",
    "#    print(error_mask)\n",
    "#    #locs       = [x for x,y in enumerate(address_with_errors) if y.count('x') < 16]\n",
    "#        \n",
    "#    #print(type(locs))\n",
    "#    #locs = address_with_errors\n",
    "#    print(locs)\n",
    "#\n",
    "#    \n",
    "#    \n",
    "#              \n",
    "#    #del address_with_errors\n",
    "#           \n",
    "#    loss,acc   = CheckAccuracyAndLoss('AlexNet', test_dataset, wgt_dir, output_shape=8, input_shape = (227,227,3),\n",
    "#                                            act_frac_size = 11, act_int_size = 4, wgt_frac_size = 11, wgt_int_size = 4,\n",
    "#                                            batch_size=testBatchSize, verbose = 0, aging_active = True, weights_faults = False, \n",
    "#                                            faulty_addresses = locs, masked_faults = error_mask)\n",
    "#    \n",
    "#                                 \n",
    "#       \n",
    "#       \n",
    "#      \n",
    "#        \n",
    "#    #Accs[Enumber].append(acc)\n",
    "#    #Loss[Enumber].append(loss)\n",
    "#    print(loss)\n",
    "#    print(acc)\n",
    "#print(str(n_bits_total)+' completada: ', datetime.now().strftime(\"%H:%M:%S\"))\n",
    "##save_obj(Accs,'Data/Errors/AlexNet/Colorectal Dataset/Accs')\n",
    "##save_obj(Loss,'Data/Errors/AlexNet/Colorectal Dataset/Loss')"
   ]
  },
  {
   "cell_type": "markdown",
   "id": "c3fa564d",
   "metadata": {},
   "source": [
    "pasando_1and_0"
   ]
  },
  {
   "cell_type": "code",
   "execution_count": 57,
   "id": "8d02414a",
   "metadata": {},
   "outputs": [
    {
     "ename": "NameError",
     "evalue": "name 'Accs' is not defined",
     "output_type": "error",
     "traceback": [
      "\u001b[1;31m---------------------------------------------------------------------------\u001b[0m",
      "\u001b[1;31mNameError\u001b[0m                                 Traceback (most recent call last)",
      "\u001b[1;32m<ipython-input-57-5ed075415ce6>\u001b[0m in \u001b[0;36m<module>\u001b[1;34m\u001b[0m\n\u001b[1;32m----> 1\u001b[1;33m \u001b[0mAccs\u001b[0m\u001b[1;33m\u001b[0m\u001b[1;33m\u001b[0m\u001b[0m\n\u001b[0m",
      "\u001b[1;31mNameError\u001b[0m: name 'Accs' is not defined"
     ]
    }
   ],
   "source": [
    "Accs"
   ]
  },
  {
   "cell_type": "code",
   "execution_count": null,
   "id": "d2a5c67d",
   "metadata": {},
   "outputs": [],
   "source": [
    " Loss"
   ]
  },
  {
   "cell_type": "markdown",
   "id": "4d38fe52",
   "metadata": {},
   "source": [
    "4) Error Injection"
   ]
  },
  {
   "cell_type": "markdown",
   "id": "68355a03",
   "metadata": {},
   "source": [
    "Medición del efecto de las fallas en las activaciones"
   ]
  },
  {
   "cell_type": "code",
   "execution_count": null,
   "id": "efb6855b",
   "metadata": {},
   "outputs": [],
   "source": [
    "#from copy import deepcopy\n",
    "#from Stats import CheckAccuracyAndLoss\n",
    "#from Simulation import save_obj, load_obj\n",
    "#from datetime import datetime\n",
    "#import itertools\n",
    "#\n",
    "#trainBatchSize = testBatchSize = 16\n",
    "#_,_,test_dataset = GetDatasets('colorectal_histology',(80,5,15),(227,227), 8, trainBatchSize, testBatchSize)\n",
    "#\n",
    "#\n",
    "## Porciones del buffer con fallos a probar\n",
    "#Accs     = {0.00001:[],0.00005:[],0.0001:[]}\n",
    "#Loss     = {0.00001:[],0.00005:[],0.0001:[]}\n",
    "#\n",
    "## Tamaño del buffer (en bits)\n",
    "#network_size   = 290400*16\n",
    "## Numero de muestras de distintas configuraciones de fallos a testear por cada valor de Accs/Loss\n",
    "#num_of_samples = 10\n",
    "#for Enumber in Accs:\n",
    "#    n_bits_fails = np.ceil(Enumber*network_size).astype(int)    #numero de bits con fallos\n",
    "#    errors       = np.random.randint(0,2,n_bits_fails)          #tipo de fallos (0 o 1)\n",
    "#    # crear una representacion del buffer x indica celda inafectada, 1 celda con valor 1 permanente y 0 celda con valor 0 perm.\n",
    "#    buffer       = np.array(['x']*(network_size-n_bits_fails))  \n",
    "#    buffer       = np.concatenate([buffer,errors])\n",
    "#    for index in range(0,num_of_samples):\n",
    "#        np.random.shuffle(buffer)  # crear un orden aleatorio de los errores en el buffer\n",
    "#        # en las siguientes 4 lineas se obtienen las direcciones de los errores y los tipos de error\n",
    "#        address_with_errors = np.reshape(buffer,(-1,16))\n",
    "#        address_with_errors = [\"\".join(i) for i in address_with_errors]\n",
    "#        error_mask = [y for x,y in enumerate(address_with_errors) if y.count('x') < 16]\n",
    "#        locs       = [x for x,y in enumerate(address_with_errors) if y.count('x') < 16]\n",
    "#        del address_with_errors\n",
    "#        #ahora se obtiene el loss y acc para esta configuracion.\n",
    "#        loss,acc   = CheckAccuracyAndLoss('AlexNet', test_dataset, wgt_dir, output_shape=8, input_shape = (227,227,3),\n",
    "#                                            act_frac_size = 11, act_int_size = 4, wgt_frac_size = 11, wgt_int_size = 4,\n",
    "#                                            batch_size=testBatchSize, verbose = 0, aging_active = True, weights_faults = False,\n",
    "#                                            faulty_addresses = locs, masked_faults = error_mask)\n",
    "#        #Accs[Enumber].append(acc)\n",
    "#        #Loss[Enumber].append(loss)\n",
    "#    print(str(Enumber)+' completada: ', datetime.now().strftime(\"%H:%M:%S\"))\n",
    "#   # save_obj(Accs,'Data/Errors/AlexNet/Colorectal Dataset/Uniform distribution/Accs')\n",
    "#    #save_obj(Loss,'Data/Errors/AlexNet/Colorectal Dataset/Uniform distribution/Loss')\n",
    "#   "
   ]
  },
  {
   "cell_type": "markdown",
   "id": "a5b17260",
   "metadata": {},
   "source": [
    "El resultado es un diccionario con accuracy y loss para cada muestra, por ejemplo, el caso de 0.0001 del buffer con fallos la accuracy ronda entre el 71 y 76% en los 10 casos aleatorios probados."
   ]
  },
  {
   "cell_type": "code",
   "execution_count": null,
   "id": "5d667953",
   "metadata": {},
   "outputs": [],
   "source": [
    "#Accs"
   ]
  },
  {
   "cell_type": "code",
   "execution_count": null,
   "id": "cfadaebd",
   "metadata": {},
   "outputs": [],
   "source": [
    "#Loss"
   ]
  },
  {
   "cell_type": "markdown",
   "id": "e5648bc6",
   "metadata": {},
   "source": [
    "corri con otros datos del buffer"
   ]
  },
  {
   "cell_type": "code",
   "execution_count": null,
   "id": "1f33595e",
   "metadata": {},
   "outputs": [],
   "source": [
    "#import pickle\n",
    "#Accs= ('Data/Errors/AlexNet/Colorectal Dataset/Uniform distribution/Accs.pkl')\n",
    "#def recupera_archivo_pickle(Accs): \n",
    "    #with open(Accs,'rb' ) as f :\n",
    "        #return pickle.load(f)"
   ]
  },
  {
   "cell_type": "code",
   "execution_count": null,
   "id": "aed42a79",
   "metadata": {},
   "outputs": [],
   "source": [
    "#resultado =  recupera_archivo_pickle(Accs)\n",
    "#print(resultado)"
   ]
  },
  {
   "cell_type": "code",
   "execution_count": null,
   "id": "59fb06a3",
   "metadata": {},
   "outputs": [],
   "source": [
    "#import os\n",
    "#import pickle\n",
    "#\n",
    "#\n",
    "#def leer_archivo_binario(results_dir):\n",
    "#    if os.path.exists(results_dir):\n",
    "#        if os.path.isfile(results_dir):\n",
    "#            with open(results_dir,'rb' ) as f :\n",
    "#                return pickle.load(f)\n",
    "#        else: \n",
    "#                return None\n",
    "#            \n",
    "            "
   ]
  },
  {
   "cell_type": "markdown",
   "id": "350e1576",
   "metadata": {},
   "source": [
    "Sin injeccion de errores"
   ]
  },
  {
   "cell_type": "code",
   "execution_count": 8,
   "id": "1efa8746",
   "metadata": {},
   "outputs": [
    {
     "name": "stdout",
     "output_type": "stream",
     "text": [
      "16777216\n",
      "['x' 'x' 'x' ... 'x' 'x' 'x']\n",
      "0.890666663646698\n",
      "0.3125045895576477\n",
      "0.890666663646698\n",
      "0.3125045895576477\n",
      "0.890666663646698\n",
      "0.3125045895576477\n",
      "0.890666663646698\n",
      "0.3125045895576477\n",
      "0.890666663646698\n",
      "0.3125045895576477\n",
      "0.890666663646698\n",
      "0.3125045895576477\n",
      "0.890666663646698\n",
      "0.3125045895576477\n",
      "0.890666663646698\n",
      "0.3125045895576477\n",
      "0.890666663646698\n",
      "0.3125045895576477\n",
      "0.890666663646698\n",
      "0.3125045895576477\n",
      "16777216 completada:  15:36:35\n"
     ]
    },
    {
     "ename": "NameError",
     "evalue": "name 'Accs_s' is not defined",
     "output_type": "error",
     "traceback": [
      "\u001b[1;31m---------------------------------------------------------------------------\u001b[0m",
      "\u001b[1;31mNameError\u001b[0m                                 Traceback (most recent call last)",
      "\u001b[1;32m<ipython-input-8-36f6cdfb3c19>\u001b[0m in \u001b[0;36m<module>\u001b[1;34m\u001b[0m\n\u001b[0;32m     47\u001b[0m     \u001b[1;31m#Accs.append(acc)\u001b[0m\u001b[1;33m\u001b[0m\u001b[1;33m\u001b[0m\u001b[1;33m\u001b[0m\u001b[0m\n\u001b[0;32m     48\u001b[0m \u001b[0mprint\u001b[0m\u001b[1;33m(\u001b[0m\u001b[0mstr\u001b[0m\u001b[1;33m(\u001b[0m\u001b[0mn_bits_total\u001b[0m\u001b[1;33m)\u001b[0m\u001b[1;33m+\u001b[0m\u001b[1;34m' completada: '\u001b[0m\u001b[1;33m,\u001b[0m \u001b[0mdatetime\u001b[0m\u001b[1;33m.\u001b[0m\u001b[0mnow\u001b[0m\u001b[1;33m(\u001b[0m\u001b[1;33m)\u001b[0m\u001b[1;33m.\u001b[0m\u001b[0mstrftime\u001b[0m\u001b[1;33m(\u001b[0m\u001b[1;34m\"%H:%M:%S\"\u001b[0m\u001b[1;33m)\u001b[0m\u001b[1;33m)\u001b[0m\u001b[1;33m\u001b[0m\u001b[1;33m\u001b[0m\u001b[0m\n\u001b[1;32m---> 49\u001b[1;33m \u001b[0msave_obj\u001b[0m\u001b[1;33m(\u001b[0m\u001b[0mAccs_s\u001b[0m\u001b[1;33m,\u001b[0m\u001b[1;34m'Data/Fault Characterization/Accs_'\u001b[0m\u001b[1;33m)\u001b[0m\u001b[1;33m\u001b[0m\u001b[1;33m\u001b[0m\u001b[0m\n\u001b[0m\u001b[0;32m     50\u001b[0m \u001b[1;31m#save_obj(Loss,'Data/Errors/AlexNet/Colorectal Dataset/Loss')\u001b[0m\u001b[1;33m\u001b[0m\u001b[1;33m\u001b[0m\u001b[1;33m\u001b[0m\u001b[0m\n",
      "\u001b[1;31mNameError\u001b[0m: name 'Accs_s' is not defined"
     ]
    }
   ],
   "source": [
    "# from copy import deepcopy\n",
    "from Stats import CheckAccuracyAndLoss\n",
    "from Simulation import save_obj, load_obj\n",
    "from datetime import datetime\n",
    "import itertools\n",
    "from Training import GetDatasets\n",
    "import numpy as np\n",
    "import os\n",
    "\n",
    "cwd = os.getcwd()\n",
    "wgt_dir = os.path.join(cwd, 'Data')\n",
    "wgt_dir = os.path.join(wgt_dir, 'Trained Weights')\n",
    "wgt_dir = os.path.join(wgt_dir, 'AlexNet')\n",
    "wgt_dir = os.path.join(wgt_dir, 'Colorectal Dataset')\n",
    "wgt_dir = os.path.join(wgt_dir,'Weights')\n",
    "    \n",
    "\n",
    "trainBatchSize = testBatchSize = 16\n",
    "_,_,test_dataset = GetDatasets('colorectal_histology',(80,5,15),(227,227), 8, trainBatchSize, testBatchSize)\n",
    "\n",
    "\n",
    "\n",
    "# Porciones del buffer  a probar\n",
    "#Accs     = {0.0:[],0.00001:[],0.00005:[],0.0001:[],0.1:[]}\n",
    "#Loss     = {0.0:[],0.00001:[],0.00005:[],0.0001:[],0.1:[]}\n",
    "\n",
    "\n",
    "network_size   = 16777216  # Tamaño del buffer (en bits)\n",
    "num_of_samples = 10       # Numero de muestras de distintas configuraciones de fallos a testear por cada valor de Accs/Loss\n",
    "#for Enumber in Accs:\n",
    "    \n",
    "n_bits_total = np.ceil(network_size).astype(int)    #numero de bits totales\n",
    "print(n_bits_total)\n",
    "buffer = np.array(['x']*(network_size))\n",
    "print(buffer)\n",
    "for index in range(0,num_of_samples):\n",
    "        \n",
    "    loss,acc   = CheckAccuracyAndLoss('AlexNet', test_dataset, wgt_dir, output_shape=8, input_shape = (227,227,3),\n",
    "                                            act_frac_size = 11, act_int_size = 4, wgt_frac_size = 11, wgt_int_size = 4,\n",
    "                                            batch_size=testBatchSize, verbose = 0, aging_active = False, weights_faults = False)\n",
    "       \n",
    "    \n",
    "    print(acc)\n",
    "    print(loss)\n",
    "      \n",
    "        \n",
    "    #Accs.append(acc)\n",
    "print(str(n_bits_total)+' completada: ', datetime.now().strftime(\"%H:%M:%S\"))\n",
    "#save_obj(Accs_s,'Data/Fault Characterization/Accs_')\n",
    "#save_obj(Loss,'Data/Errors/AlexNet/Colorectal Dataset/Loss')"
   ]
  },
  {
   "cell_type": "markdown",
   "id": "83164a41",
   "metadata": {},
   "source": [
    "Medición del efecto de las fallas en los pesos"
   ]
  },
  {
   "cell_type": "code",
   "execution_count": null,
   "id": "17a3d60a",
   "metadata": {},
   "outputs": [],
   "source": []
  },
  {
   "cell_type": "code",
   "execution_count": null,
   "id": "9b3f1c1e",
   "metadata": {},
   "outputs": [],
   "source": []
  }
 ],
 "metadata": {
  "kernelspec": {
   "display_name": "env_first",
   "language": "python",
   "name": "env_first"
  },
  "language_info": {
   "codemirror_mode": {
    "name": "ipython",
    "version": 3
   },
   "file_extension": ".py",
   "mimetype": "text/x-python",
   "name": "python",
   "nbconvert_exporter": "python",
   "pygments_lexer": "ipython3",
   "version": "3.8.12"
  }
 },
 "nbformat": 4,
 "nbformat_minor": 5
}
